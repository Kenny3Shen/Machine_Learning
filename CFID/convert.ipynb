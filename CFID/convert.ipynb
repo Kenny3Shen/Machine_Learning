{
 "cells": [
  {
   "cell_type": "code",
   "execution_count": 1,
   "id": "initial_id",
   "metadata": {
    "collapsed": true,
    "ExecuteTime": {
     "end_time": "2023-12-12T04:44:00.725697900Z",
     "start_time": "2023-12-12T04:44:00.667639200Z"
    }
   },
   "outputs": [],
   "source": [
    "import os\n",
    "from PIL import Image\n",
    "import numpy as np"
   ]
  },
  {
   "cell_type": "code",
   "execution_count": 2,
   "outputs": [],
   "source": [
    "import cv2\n",
    "from skimage import img_as_ubyte, io\n",
    "def block_no_expand(name):\n",
    "    im=np.array(Image.open(name))\n",
    "    im_lab=cv2.cvtColor(im,cv2.COLOR_RGB2HSV)\n",
    "    im_lab[:,:,-1]=np.interp(im_lab[:,:,-1],(0,255),(0,255/4))\n",
    "    im_rgb=cv2.cvtColor(im_lab,cv2.COLOR_HSV2RGB)\n",
    "    im_ht=Image.fromarray(im_rgb).convert(\"1\")\n",
    "    im_ht=img_as_ubyte(im_ht)\n",
    "    # gray_level(im_ht,(2,4),True)\n",
    "    return im_ht\n",
    " "
   ],
   "metadata": {
    "collapsed": false,
    "ExecuteTime": {
     "end_time": "2023-12-12T04:44:01.660439700Z",
     "start_time": "2023-12-12T04:44:01.536776600Z"
    }
   },
   "id": "b0c96aaaf03fe802"
  },
  {
   "cell_type": "code",
   "execution_count": 3,
   "outputs": [],
   "source": [
    "def basic_rg_vcs(img_name=\"lena.png\", to_save=None, n=8):\n",
    "    img_arr = np.invert(img_name.convert(\"1\"))\n",
    "    shares = np.zeros((n,)+img_arr.shape, bool)\n",
    "    for (i, j), p in np.ndenumerate(img_arr):\n",
    "        if p:\n",
    "            for ind in range(n):\n",
    "                shares[ind, i, j] = np.random.choice([True, False])\n",
    "        else:\n",
    "            v = np.random.choice([True, False])\n",
    "            shares[:, i, j] = v\n",
    "    dec = shares[0] & shares[1] & shares[2] & shares[3] & shares[4] & shares[5] & shares[6] & shares[7]\n",
    "    if to_save:\n",
    "        Image.fromarray(dec).save(to_save)\n",
    "    else:\n",
    "        return dec"
   ],
   "metadata": {
    "collapsed": false,
    "ExecuteTime": {
     "end_time": "2023-12-12T04:45:49.635397900Z",
     "start_time": "2023-12-12T04:45:49.630816100Z"
    }
   },
   "id": "7f3f71ab095cf258"
  },
  {
   "cell_type": "code",
   "execution_count": 4,
   "outputs": [],
   "source": [
    "from skimage.metrics import peak_signal_noise_ratio\n",
    "\n",
    "def re_halftone(pre, path, path_ori):\n",
    "    # Load image\n",
    "    #orig=path\n",
    "    \n",
    "    img=img_as_ubyte(Image.open(path))\n",
    "    pil_halftone = Image.open(path).convert('L').convert(\"1\")\n",
    "    halftone = img_as_ubyte(pil_halftone)\n",
    "    ref = img_as_ubyte(Image.open(path_ori).convert('L').convert(\"1\"))\n",
    "    def IHT(radius=3,sigma_s=100,cnts=3):\n",
    "        dehalftoned=halftone.copy()\n",
    "        for i in range(cnts):\n",
    "            dehalftoned = cv2.bilateralFilter(I,radius,sigma_s,sigma_s,dst=dehalftoned)\n",
    "        return dehalftoned\n",
    "\n",
    "    best_psnr = 0\n",
    "    best_image = None\n",
    "    best_ehist = None\n",
    "    for radius in range(1, 15,2): # 超参数\n",
    "        for sigma_s in [10,20,30,50,100,150,200,400,500,600]: # 超参数\n",
    "            for cnts in range(1,9): # 超参数\n",
    "                I=cv2.GaussianBlur(halftone.copy(),(radius,radius),0)\n",
    "                dehalftoned=IHT(radius,sigma_s,cnts)\n",
    "                ehist=cv2.equalizeHist(dehalftoned) # ehist 为增强解密图像\n",
    "                name=f\"{pre}/{cnts}_{radius}_{sigma_s}.png\"\n",
    "                psnr = peak_signal_noise_ratio(ehist,ref)\n",
    "                if psnr > best_psnr:\n",
    "                    best_psnr = psnr\n",
    "                    best_image = name\n",
    "                    best_ehist = ehist\n",
    "\n",
    "    print(\"Best PSNR:\", best_psnr)\n",
    "    print(\"Best image:\", best_image)\n",
    "    return best_ehist"
   ],
   "metadata": {
    "collapsed": false,
    "ExecuteTime": {
     "end_time": "2023-12-12T04:45:50.703056200Z",
     "start_time": "2023-12-12T04:45:50.522035Z"
    }
   },
   "id": "e17fe05405fd1541"
  },
  {
   "cell_type": "code",
   "execution_count": 5,
   "outputs": [],
   "source": [
    "ori = './ori'\n",
    "for i in os.listdir(ori):\n",
    "    if i.endswith('.jpg'):\n",
    "        os.rename(os.path.join(ori,i),os.path.join(ori,i[0:3]+'.jpg'))"
   ],
   "metadata": {
    "collapsed": false,
    "ExecuteTime": {
     "end_time": "2023-12-12T04:45:54.878341900Z",
     "start_time": "2023-12-12T04:45:54.867728200Z"
    }
   },
   "id": "5047cfca020e988"
  },
  {
   "cell_type": "code",
   "execution_count": 9,
   "outputs": [],
   "source": [
    "for i in os.listdir(ori):\n",
    "    path = os.path.join(ori,i)\n",
    "    Image.open(path).resize((224,224)).save(path)"
   ],
   "metadata": {
    "collapsed": false,
    "ExecuteTime": {
     "end_time": "2023-12-12T05:01:41.701794300Z",
     "start_time": "2023-12-12T05:01:41.645127200Z"
    }
   },
   "id": "e5e347ea58cd8190"
  },
  {
   "cell_type": "code",
   "execution_count": 10,
   "outputs": [],
   "source": [
    "nx = './nx'\n",
    "for i in os.listdir(ori):\n",
    "    path = os.path.join(ori,i)\n",
    "    save_path = os.path.join(nx,i)\n",
    "    Image.open(save_path).resize((224,224)).save(save_path)\n",
    "    #Image.fromarray(block_no_expand(path)).convert('RGB').save(save_path)"
   ],
   "metadata": {
    "collapsed": false,
    "ExecuteTime": {
     "end_time": "2023-12-12T05:02:07.824226600Z",
     "start_time": "2023-12-12T05:02:07.758792600Z"
    }
   },
   "id": "bf6448a4ef3df4fa"
  },
  {
   "cell_type": "code",
   "execution_count": 11,
   "outputs": [
    {
     "name": "stdout",
     "output_type": "stream",
     "text": [
      "Best PSNR: 8.22318306416508\n",
      "Best image: ./re/1_9_10.png\n",
      "Best PSNR: 8.182241092894504\n",
      "Best image: ./re/1_5_100.png\n",
      "Best PSNR: 6.900801105485661\n",
      "Best image: ./re/1_5_200.png\n",
      "Best PSNR: 7.384308278182804\n",
      "Best image: ./re/1_5_200.png\n",
      "Best PSNR: 6.081772744865076\n",
      "Best image: ./re/1_7_10.png\n",
      "Best PSNR: 5.945372249220701\n",
      "Best image: ./re/1_9_10.png\n",
      "Best PSNR: 7.429615047363879\n",
      "Best image: ./re/1_5_400.png\n",
      "Best PSNR: 8.617458017718695\n",
      "Best image: ./re/1_3_50.png\n",
      "Best PSNR: 7.807228137795963\n",
      "Best image: ./re/1_7_600.png\n",
      "Best PSNR: 6.662052848383054\n",
      "Best image: ./re/1_5_500.png\n",
      "Best PSNR: 6.187229759626821\n",
      "Best image: ./re/1_13_10.png\n",
      "Best PSNR: 8.278089825914206\n",
      "Best image: ./re/1_9_10.png\n",
      "Best PSNR: 6.458577238220613\n",
      "Best image: ./re/1_9_10.png\n",
      "Best PSNR: 6.18407041614066\n",
      "Best image: ./re/1_7_10.png\n",
      "Best PSNR: 6.802897528341161\n",
      "Best image: ./re/1_7_150.png\n",
      "Best PSNR: 6.992419123008729\n",
      "Best image: ./re/1_9_10.png\n"
     ]
    }
   ],
   "source": [
    "re = './re'\n",
    "for i in os.listdir(nx):\n",
    "    path = os.path.join(nx,i)\n",
    "    save_path = os.path.join(re,i)\n",
    "    t = re_halftone(re, path, os.path.join(ori,i))\n",
    "    Image.open(save_path).resize((224,224)).save(save_path)\n",
    "    #Image.fromarray(t).convert('RGB').save(save_path)"
   ],
   "metadata": {
    "collapsed": false,
    "ExecuteTime": {
     "end_time": "2023-12-12T05:02:46.017283900Z",
     "start_time": "2023-12-12T05:02:24.162519800Z"
    }
   },
   "id": "ab087e636774a70e"
  },
  {
   "cell_type": "code",
   "execution_count": null,
   "outputs": [],
   "source": [],
   "metadata": {
    "collapsed": false
   },
   "id": "210222c3671b4861"
  }
 ],
 "metadata": {
  "kernelspec": {
   "display_name": "Python 3",
   "language": "python",
   "name": "python3"
  },
  "language_info": {
   "codemirror_mode": {
    "name": "ipython",
    "version": 2
   },
   "file_extension": ".py",
   "mimetype": "text/x-python",
   "name": "python",
   "nbconvert_exporter": "python",
   "pygments_lexer": "ipython2",
   "version": "2.7.6"
  }
 },
 "nbformat": 4,
 "nbformat_minor": 5
}

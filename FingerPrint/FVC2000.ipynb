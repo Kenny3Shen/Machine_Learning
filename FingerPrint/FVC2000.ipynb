{
 "cells": [
  {
   "cell_type": "code",
   "execution_count": 30,
   "id": "initial_id",
   "metadata": {
    "collapsed": true,
    "ExecuteTime": {
     "end_time": "2023-12-11T12:54:40.757314800Z",
     "start_time": "2023-12-11T12:54:40.757314800Z"
    }
   },
   "outputs": [],
   "source": [
    "import cv2\n",
    "from PIL import Image\n",
    "from skimage.util import img_as_ubyte\n",
    "import numpy as np\n",
    "def block_no_expand(name):\n",
    "    im=np.array(name)\n",
    "    im_lab=cv2.cvtColor(im,cv2.COLOR_RGB2HSV)\n",
    "    im_lab[:,:,-1]=np.interp(im_lab[:,:,-1],(0,255),(0,255/4))\n",
    "    im_rgb=cv2.cvtColor(im_lab,cv2.COLOR_HSV2RGB)\n",
    "    im_ht=Image.fromarray(im_rgb).convert(\"1\")\n",
    "    im_ht=img_as_ubyte(im_ht)\n",
    "    # gray_level(im_ht,(2,4),True)\n",
    "    return im_ht"
   ]
  },
  {
   "cell_type": "code",
   "execution_count": 39,
   "outputs": [
    {
     "name": "stderr",
     "output_type": "stream",
     "text": [
      "100%|██████████| 10/10 [00:01<00:00,  6.36it/s]\n",
      "100%|██████████| 10/10 [00:02<00:00,  3.43it/s]\n",
      "100%|██████████| 10/10 [00:00<00:00, 15.93it/s]\n",
      "100%|██████████| 10/10 [00:00<00:00, 21.25it/s]\n",
      "100%|██████████| 10/10 [00:00<00:00, 22.03it/s]\n",
      "100%|██████████| 10/10 [00:00<00:00, 21.79it/s]\n",
      "100%|██████████| 10/10 [00:01<00:00,  6.86it/s]\n"
     ]
    }
   ],
   "source": [
    "import os\n",
    "from tqdm import tqdm\n",
    "for ds in os.listdir('.'):\n",
    "    if ds.startswith('dataset'):\n",
    "        for i in tqdm(os.listdir(ds)):\n",
    "            for j in os.listdir(os.path.join(ds,i)):\n",
    "                path = os.path.join(ds,i)\n",
    "                name= j.split('.')[0]\n",
    "                if j.endswith('bmp'):\n",
    "                    bmp = Image.open(f\"{path}/{name}.bmp\")\n",
    "                    bmp.save(f\"{path}/{name}.png\", \"PNG\")"
   ],
   "metadata": {
    "collapsed": false,
    "ExecuteTime": {
     "end_time": "2023-12-11T13:04:13.340558700Z",
     "start_time": "2023-12-11T13:04:05.370961600Z"
    }
   },
   "id": "843afcb6062718d7"
  },
  {
   "cell_type": "code",
   "execution_count": 7,
   "outputs": [
    {
     "name": "stderr",
     "output_type": "stream",
     "text": [
      "100%|██████████| 10/10 [00:00<00:00, 10.60it/s]\n"
     ]
    }
   ],
   "source": [
    "import os\n",
    "from tqdm import tqdm\n",
    "dataset = './dataset_ori'\n",
    "dataset_NoEx = './dataset_NoEx'\n",
    "dataset_re = './dataset_re'\n",
    "for i in tqdm(os.listdir(dataset)):\n",
    "    for j in os.listdir(os.path.join(dataset,i)):\n",
    "        path = os.path.join(dataset,i,j)\n",
    "        path_save = os.path.join(dataset_NoEx,i,j)\n",
    "        Image.fromarray(block_no_expand(Image.open(path).convert(\"RGB\"))).save(path_save)"
   ],
   "metadata": {
    "collapsed": false,
    "ExecuteTime": {
     "end_time": "2023-12-10T13:58:33.068617800Z",
     "start_time": "2023-12-10T13:58:32.112716100Z"
    }
   },
   "id": "868561e5f6995032"
  },
  {
   "cell_type": "code",
   "execution_count": 13,
   "outputs": [],
   "source": [
    "from skimage.metrics import peak_signal_noise_ratio\n",
    "\n",
    "\n",
    "def re_halftone(pre, path, path_ori):\n",
    "    # Load image\n",
    "    #orig=path\n",
    "    \n",
    "    img=img_as_ubyte(Image.open(path))\n",
    "    pil_halftone = Image.open(path).convert('L').convert(\"1\")\n",
    "    halftone = img_as_ubyte(pil_halftone)\n",
    "    ref = img_as_ubyte(Image.open(path_ori).convert('L').convert(\"1\"))\n",
    "    def IHT(radius=3,sigma_s=100,cnts=3):\n",
    "        dehalftoned=halftone.copy()\n",
    "        for i in range(cnts):\n",
    "            dehalftoned = cv2.bilateralFilter(I,radius,sigma_s,sigma_s,dst=dehalftoned)\n",
    "        return dehalftoned\n",
    "\n",
    "    best_psnr = 0\n",
    "    best_image = None\n",
    "    best_ehist = None\n",
    "    for radius in range(1, 15,2): # 超参数\n",
    "        for sigma_s in [10,20,30,50,100,150,200,400,500,600]: # 超参数\n",
    "            for cnts in range(1,9): # 超参数\n",
    "                I=cv2.GaussianBlur(halftone.copy(),(radius,radius),0)\n",
    "                dehalftoned=IHT(radius,sigma_s,cnts)\n",
    "                ehist=cv2.equalizeHist(dehalftoned) # ehist 为增强解密图像\n",
    "                name=f\"{pre}/{cnts}_{radius}_{sigma_s}.png\"\n",
    "                psnr = peak_signal_noise_ratio(ehist,ref)\n",
    "                if psnr > best_psnr:\n",
    "                    best_psnr = psnr\n",
    "                    best_image = name\n",
    "                    best_ehist = ehist\n",
    "\n",
    "    print(\"Best PSNR:\", best_psnr)\n",
    "    print(\"Best image:\", best_image)\n",
    "    return best_ehist"
   ],
   "metadata": {
    "collapsed": false,
    "ExecuteTime": {
     "end_time": "2023-12-10T14:12:50.399543600Z",
     "start_time": "2023-12-10T14:12:50.395125300Z"
    }
   },
   "id": "cef625fdd57f591a"
  },
  {
   "cell_type": "code",
   "execution_count": null,
   "outputs": [],
   "source": [
    "for i in tqdm(os.listdir(dataset)):\n",
    "    for j in os.listdir(os.path.join(dataset,i)):\n",
    "        path = os.path.join(dataset_NoEx,i,j)\n",
    "        path_ori = os.path.join(dataset,i,j)\n",
    "        path_save = os.path.join(dataset_re,i,j)\n",
    "        Image.fromarray(re_halftone(i,path, path_ori)).save(path_save)"
   ],
   "metadata": {
    "collapsed": false
   },
   "id": "c4b22392ea794533"
  },
  {
   "cell_type": "code",
   "execution_count": 15,
   "outputs": [],
   "source": [
    "\n",
    "from PIL import Image\n",
    "import numpy as np\n",
    "def halftone(img_name, convert_to_byte=True):\n",
    "    img = Image.open(img_name)\n",
    "    img = img.resize([i//2*2 for i in img.size])\n",
    "    img_arr = np.array(img.convert(\"1\"))\n",
    "    if convert_to_byte:\n",
    "        return img_as_ubyte(img_arr)\n",
    "    return img_arr"
   ],
   "metadata": {
    "collapsed": false,
    "ExecuteTime": {
     "end_time": "2023-12-10T14:35:37.973251800Z",
     "start_time": "2023-12-10T14:35:37.967818Z"
    }
   },
   "id": "2df5f74f4c4b4889"
  },
  {
   "cell_type": "code",
   "execution_count": 17,
   "outputs": [],
   "source": [
    "def basic_single_vcs(path=\"lena.png\", to_save=None):\n",
    "    img_arr = halftone(path)\n",
    "    share1 = np.random.choice([True, False], img_arr.shape)\n",
    "    share2 = np.zeros_like(share1)\n",
    "    for (i, j), p in np.ndenumerate(img_arr):\n",
    "        if p:\n",
    "            share2[i, j] = share1[i, j]\n",
    "        else:\n",
    "            share2[i, j] = not share1[i, j]\n",
    "    if to_save:\n",
    "        Image.fromarray(share1 & share2).save(to_save)\n",
    "    else:\n",
    "        return share1, share2"
   ],
   "metadata": {
    "collapsed": false,
    "ExecuteTime": {
     "end_time": "2023-12-10T14:36:52.912576700Z",
     "start_time": "2023-12-10T14:36:52.906558Z"
    }
   },
   "id": "3576b277da91c47e"
  },
  {
   "cell_type": "code",
   "execution_count": 21,
   "outputs": [
    {
     "name": "stderr",
     "output_type": "stream",
     "text": [
      "100%|██████████| 10/10 [00:06<00:00,  1.66it/s]\n"
     ]
    }
   ],
   "source": [
    "dataset_p3 = './dataset_p3'\n",
    "import os\n",
    "from tqdm import tqdm\n",
    "for i in tqdm(os.listdir(dataset)):\n",
    "    for j in os.listdir(os.path.join(dataset,i)):\n",
    "        path = os.path.join(dataset,i,j)\n",
    "        path_save = os.path.join(dataset_p3,i,j)\n",
    "        basic_single_vcs(path,path_save)"
   ],
   "metadata": {
    "collapsed": false,
    "ExecuteTime": {
     "end_time": "2023-12-10T14:38:00.525830200Z",
     "start_time": "2023-12-10T14:37:54.511045800Z"
    }
   },
   "id": "d712c4ff5c71e2b4"
  },
  {
   "cell_type": "code",
   "execution_count": 22,
   "outputs": [],
   "source": [
    "def basic_vcs2(img_name=\"lena.png\", to_save=None):\n",
    "    img_arr = halftone(img_name)\n",
    "    share1 = np.zeros((img_arr.shape[0],2*img_arr.shape[1]),bool)\n",
    "    share1[:][::2]=True\n",
    "    share2 = np.zeros_like(share1)\n",
    "    for (i, j), p in np.ndenumerate(img_arr):\n",
    "            if p:\n",
    "                share2[i, 2*j:2*(j+1)] = share1[i, 2*j:2*(j+1)]\n",
    "            else:\n",
    "                share2[i, 2*j:2*(j+1)] = np.invert(share1[i, 2*j:2*(j+1)])\n",
    "    if to_save:\n",
    "        Image.fromarray(share1 & share2).save(to_save)\n",
    "    else:\n",
    "        return share1, share2"
   ],
   "metadata": {
    "collapsed": false,
    "ExecuteTime": {
     "end_time": "2023-12-10T14:40:55.380354400Z",
     "start_time": "2023-12-10T14:40:55.374335300Z"
    }
   },
   "id": "ac4cede619da11ee"
  },
  {
   "cell_type": "code",
   "execution_count": 23,
   "outputs": [
    {
     "name": "stderr",
     "output_type": "stream",
     "text": [
      "100%|██████████| 10/10 [00:19<00:00,  1.91s/it]\n"
     ]
    }
   ],
   "source": [
    "dataset_p1 = './dataset_p1'\n",
    "import os\n",
    "from tqdm import tqdm\n",
    "for i in tqdm(os.listdir(dataset)):\n",
    "    for j in os.listdir(os.path.join(dataset,i)):\n",
    "        path = os.path.join(dataset,i,j)\n",
    "        path_save = os.path.join(dataset_p1,i,j)\n",
    "        basic_vcs2(path,path_save)"
   ],
   "metadata": {
    "collapsed": false,
    "ExecuteTime": {
     "end_time": "2023-12-10T14:41:54.621481900Z",
     "start_time": "2023-12-10T14:41:35.486330400Z"
    }
   },
   "id": "6ea29e1105326920"
  },
  {
   "cell_type": "code",
   "execution_count": 24,
   "outputs": [],
   "source": [
    "def basic_rg_vcs(img_name=\"lena.png\", to_save=None, n=8):\n",
    "    img_arr = np.invert(Image.open(img_name).convert(\"1\"))\n",
    "    shares = np.zeros((n,)+img_arr.shape, bool)\n",
    "    for (i, j), p in np.ndenumerate(img_arr):\n",
    "        if p:\n",
    "            for ind in range(n):\n",
    "                shares[ind, i, j] = np.random.choice([True, False])\n",
    "        else:\n",
    "            v = np.random.choice([True, False])\n",
    "            shares[:, i, j] = v\n",
    "    if to_save:\n",
    "        Image.fromarray(shares[0] & shares[1] & shares[2] & shares[3] & shares[4] & shares[5] & shares[6] & shares[7]).save(to_save)\n",
    "    else:\n",
    "        return shares"
   ],
   "metadata": {
    "collapsed": false,
    "ExecuteTime": {
     "end_time": "2023-12-10T14:43:46.213832300Z",
     "start_time": "2023-12-10T14:43:46.207260100Z"
    }
   },
   "id": "801797ab24386143"
  },
  {
   "cell_type": "code",
   "execution_count": 26,
   "outputs": [
    {
     "name": "stderr",
     "output_type": "stream",
     "text": [
      "100%|██████████| 10/10 [06:12<00:00, 37.23s/it]\n"
     ]
    }
   ],
   "source": [
    "dataset_p2 = './dataset_p2'\n",
    "import os\n",
    "from tqdm import tqdm\n",
    "for i in tqdm(os.listdir(dataset)):\n",
    "    for j in os.listdir(os.path.join(dataset,i)):\n",
    "        path = os.path.join(dataset,i,j)\n",
    "        path_save = os.path.join(dataset_p2,i,j)\n",
    "        basic_rg_vcs(path,path_save)"
   ],
   "metadata": {
    "collapsed": false,
    "ExecuteTime": {
     "end_time": "2023-12-10T14:51:16.935001800Z",
     "start_time": "2023-12-10T14:45:04.612537300Z"
    }
   },
   "id": "697b2a83e545ed30"
  },
  {
   "cell_type": "code",
   "execution_count": 27,
   "outputs": [],
   "source": [
    "def basic_prob_vcs(img_name=\"lena.png\", to_save=None):\n",
    "    B0 = np.array([[1, 0], [1, 0]], bool)\n",
    "    B1 = np.array([[0, 1], [1, 0]], bool)\n",
    "    img_arr = halftone(img_name)\n",
    "    share1 = np.zeros_like(img_arr, bool)\n",
    "    share2 = np.zeros_like(img_arr, bool)\n",
    "    for (i, j), p in np.ndenumerate(img_arr):\n",
    "        if p:\n",
    "            (share1[i, j], share2[i, j]) = B0[:, np.random.choice(B0.shape[1])]\n",
    "        else:\n",
    "            (share1[i, j], share2[i, j]) = B1[:, np.random.choice(B0.shape[1])]\n",
    "    if to_save:\n",
    "        Image.fromarray(share1 & share2).save(to_save)\n",
    "    else:\n",
    "        return share1, share2"
   ],
   "metadata": {
    "collapsed": false,
    "ExecuteTime": {
     "end_time": "2023-12-10T14:52:37.697718300Z",
     "start_time": "2023-12-10T14:52:37.693176300Z"
    }
   },
   "id": "5089f3368b0188d3"
  },
  {
   "cell_type": "code",
   "execution_count": 28,
   "outputs": [
    {
     "name": "stderr",
     "output_type": "stream",
     "text": [
      "100%|██████████| 10/10 [01:58<00:00, 11.86s/it]\n"
     ]
    }
   ],
   "source": [
    "dataset_p4 = './dataset_p4'\n",
    "import os\n",
    "from tqdm import tqdm\n",
    "for i in tqdm(os.listdir(dataset)):\n",
    "    for j in os.listdir(os.path.join(dataset,i)):\n",
    "        path = os.path.join(dataset,i,j)\n",
    "        path_save = os.path.join(dataset_p4,i,j)\n",
    "        basic_prob_vcs(path,path_save)"
   ],
   "metadata": {
    "collapsed": false,
    "ExecuteTime": {
     "end_time": "2023-12-10T14:54:38.255311900Z",
     "start_time": "2023-12-10T14:52:39.599398800Z"
    }
   },
   "id": "591f40f5bc95e870"
  },
  {
   "cell_type": "code",
   "execution_count": 29,
   "outputs": [],
   "source": [
    "with open ('pairs.txt','w') as f:\n",
    "    for i in range(300):\n",
    "        dir = np.random.choice(os.listdir(dataset))\n",
    "        img1 = np.random.choice(os.listdir(os.path.join(dataset,dir))).split('.')[0].split('_')[1]\n",
    "        img2 = np.random.choice(os.listdir(os.path.join(dataset,dir))).split('.')[0].split('_')[1]\n",
    "        while img1 == img2:\n",
    "            img2 = np.random.choice(os.listdir(os.path.join(dataset,dir))).split('.')[0].split('_')[1]\n",
    "        f.write(f\"{dir} {img1} {img2} \\n\")\n",
    "    \n",
    "    for i in range(300):\n",
    "        dir1 = np.random.choice(os.listdir(dataset))\n",
    "        dir2 = np.random.choice(os.listdir(dataset))\n",
    "        while dir1 == dir2:\n",
    "            dir2 = np.random.choice(os.listdir(dataset))\n",
    "        img1 = np.random.choice(os.listdir(os.path.join(dataset,dir1))).split('.')[0].split('_')[1]\n",
    "        img2 = np.random.choice(os.listdir(os.path.join(dataset,dir2))).split('.')[0].split('_')[1]\n",
    "        f.write(f\"{dir1} {img1} {dir2} {img2} \\n\")"
   ],
   "metadata": {
    "collapsed": false,
    "ExecuteTime": {
     "end_time": "2023-12-10T14:55:00.406189100Z",
     "start_time": "2023-12-10T14:55:00.288532300Z"
    }
   },
   "id": "f5893ed6b6937916"
  },
  {
   "cell_type": "code",
   "execution_count": null,
   "outputs": [],
   "source": [],
   "metadata": {
    "collapsed": false
   },
   "id": "e18b50417160ab1e"
  }
 ],
 "metadata": {
  "kernelspec": {
   "display_name": "Python 3",
   "language": "python",
   "name": "python3"
  },
  "language_info": {
   "codemirror_mode": {
    "name": "ipython",
    "version": 2
   },
   "file_extension": ".py",
   "mimetype": "text/x-python",
   "name": "python",
   "nbconvert_exporter": "python",
   "pygments_lexer": "ipython2",
   "version": "2.7.6"
  }
 },
 "nbformat": 4,
 "nbformat_minor": 5
}

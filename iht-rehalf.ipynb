{
 "cells": [
  {
   "cell_type": "code",
   "execution_count": 15,
   "id": "66cd2bce",
   "metadata": {
    "execution": {
     "iopub.execute_input": "2024-03-08T11:09:45.491872Z",
     "iopub.status.busy": "2024-03-08T11:09:45.491530Z",
     "iopub.status.idle": "2024-03-08T11:09:47.528798Z",
     "shell.execute_reply": "2024-03-08T11:09:47.527967Z"
    },
    "papermill": {
     "duration": 2.044249,
     "end_time": "2024-03-08T11:09:47.531239",
     "exception": false,
     "start_time": "2024-03-08T11:09:45.486990",
     "status": "completed"
    },
    "tags": [],
    "ExecuteTime": {
     "end_time": "2024-03-09T08:33:28.261473Z",
     "start_time": "2024-03-09T08:33:28.257573Z"
    }
   },
   "outputs": [],
   "source": [
    "import os\n",
    "import shutil\n",
    "from tqdm import tqdm\n",
    "from skimage.metrics import peak_signal_noise_ratio\n",
    "from skimage import img_as_ubyte, io\n",
    "from PIL import Image\n",
    "import cv2\n",
    "import matplotlib.pyplot as plt\n",
    "import numpy as np\n",
    "from mpl_toolkits.mplot3d import Axes3D\n",
    "from scipy.interpolate import griddata\n",
    "from matplotlib import cm\n",
    "from matplotlib.colors import Normalize\n",
    "import matplotlib as mpl\n",
    "import matplotlib\n",
    "matplotlib.use('Qt5Agg')"
   ]
  },
  {
   "cell_type": "code",
   "execution_count": 2,
   "id": "50ecfb62",
   "metadata": {
    "execution": {
     "iopub.execute_input": "2024-03-08T11:09:47.541942Z",
     "iopub.status.busy": "2024-03-08T11:09:47.540571Z",
     "iopub.status.idle": "2024-03-08T11:09:47.546450Z",
     "shell.execute_reply": "2024-03-08T11:09:47.545014Z"
    },
    "papermill": {
     "duration": 0.012075,
     "end_time": "2024-03-08T11:09:47.548407",
     "exception": false,
     "start_time": "2024-03-08T11:09:47.536332",
     "status": "completed"
    },
    "tags": [],
    "ExecuteTime": {
     "end_time": "2024-03-09T08:21:09.868140Z",
     "start_time": "2024-03-09T08:21:09.865343Z"
    }
   },
   "outputs": [],
   "source": [
    "data_dir = '/kaggle/input/celeb-m/Celebrity Faces Dataset'"
   ]
  },
  {
   "cell_type": "code",
   "execution_count": 3,
   "id": "13ef69a2",
   "metadata": {
    "execution": {
     "iopub.execute_input": "2024-03-08T11:09:47.556174Z",
     "iopub.status.busy": "2024-03-08T11:09:47.555776Z",
     "iopub.status.idle": "2024-03-08T11:09:47.571152Z",
     "shell.execute_reply": "2024-03-08T11:09:47.569461Z"
    },
    "papermill": {
     "duration": 0.021806,
     "end_time": "2024-03-08T11:09:47.573458",
     "exception": false,
     "start_time": "2024-03-08T11:09:47.551652",
     "status": "completed"
    },
    "tags": [],
    "ExecuteTime": {
     "end_time": "2024-03-09T08:21:10.197173Z",
     "start_time": "2024-03-09T08:21:10.191851Z"
    }
   },
   "outputs": [],
   "source": [
    "def block_no_expand(name):\n",
    "    im=np.array(Image.open(name))\n",
    "    im_lab=cv2.cvtColor(im,cv2.COLOR_RGB2HSV)\n",
    "    im_lab[:,:,-1]=np.interp(im_lab[:,:,-1],(0,255),(0,255/4))\n",
    "    im_rgb=cv2.cvtColor(im_lab,cv2.COLOR_HSV2RGB)\n",
    "    im_ht=Image.fromarray(im_rgb).convert(\"1\")\n",
    "    im_ht=img_as_ubyte(im_ht)\n",
    "    # gray_level(im_ht,(2,4),True)\n",
    "    return im_ht\n",
    "\n",
    "def find_best_params(gt_path):\n",
    "    img = block_no_expand(gt_path)\n",
    "    pil_halftone = Image.fromarray(img).convert('L').convert(\"1\")\n",
    "    halftone = img_as_ubyte(pil_halftone)\n",
    "    ref = cv2.imread(gt_path, cv2.IMREAD_GRAYSCALE)\n",
    "\n",
    "    def IHT(radius=3, sigma_s=100, cnts=3):\n",
    "        dehalftoned = halftone.copy()\n",
    "        for i in range(cnts):\n",
    "            dehalftoned = cv2.bilateralFilter(dehalftoned, radius, sigma_s, sigma_s)\n",
    "        return dehalftoned\n",
    "\n",
    "    best_psnr = 0\n",
    "    best_params = None\n",
    "    x = []\n",
    "    y = []\n",
    "    z = []\n",
    "    w = []\n",
    "    \n",
    "    total_iterations = len(range(3, 20, 2)) * len(range(50,410,10)) * len(range(3, 10, 1))\n",
    "    \n",
    "    with tqdm(total=total_iterations) as pbar:\n",
    "        for radius in range(3, 20, 2):\n",
    "            for sigma_s in range(50,410,10):\n",
    "                for cnts in range(3, 10, 1):\n",
    "                    I = cv2.GaussianBlur(halftone.copy(), (radius, radius), 0)\n",
    "                    dehalftoned = IHT(radius, sigma_s, cnts)\n",
    "                    ehist = cv2.equalizeHist(dehalftoned)\n",
    "                    psnr = peak_signal_noise_ratio(ehist, ref)\n",
    "                    x.append(radius)\n",
    "                    y.append(sigma_s)\n",
    "                    z.append(cnts)\n",
    "                    w.append(round(psnr, 4))\n",
    "                    if psnr > best_psnr:\n",
    "                        best_psnr = psnr\n",
    "                        best_params = (radius, sigma_s, cnts)\n",
    "                    pbar.update()\n",
    "    return best_params, best_psnr,x,y,z,w"
   ]
  },
  {
   "cell_type": "code",
   "execution_count": 4,
   "id": "1e3bebce",
   "metadata": {
    "execution": {
     "iopub.execute_input": "2024-03-08T11:09:47.581447Z",
     "iopub.status.busy": "2024-03-08T11:09:47.581114Z",
     "iopub.status.idle": "2024-03-08T11:10:33.894257Z",
     "shell.execute_reply": "2024-03-08T11:10:33.892564Z"
    },
    "papermill": {
     "duration": 46.320913,
     "end_time": "2024-03-08T11:10:33.897150",
     "exception": false,
     "start_time": "2024-03-08T11:09:47.576237",
     "status": "completed"
    },
    "tags": [],
    "ExecuteTime": {
     "end_time": "2024-03-09T08:21:43.853617Z",
     "start_time": "2024-03-09T08:21:29.117556Z"
    }
   },
   "outputs": [
    {
     "name": "stderr",
     "output_type": "stream",
     "text": [
      "100%|██████████| 2268/2268 [00:14<00:00, 154.47it/s]"
     ]
    },
    {
     "name": "stdout",
     "output_type": "stream",
     "text": [
      "Best_params:(5, 390, 4), Best_PSNR:20.889598920671176\n"
     ]
    },
    {
     "name": "stderr",
     "output_type": "stream",
     "text": [
      "\n"
     ]
    }
   ],
   "source": [
    "best_params, best_psnr,x,y,z,w = find_best_params(f'./0000.jpg')\n",
    "print(f\"Best_params:{best_params}, Best_PSNR:{best_psnr}\")"
   ]
  },
  {
   "cell_type": "code",
   "execution_count": 17,
   "id": "d0d0d85e",
   "metadata": {
    "execution": {
     "iopub.execute_input": "2024-03-08T11:10:33.945970Z",
     "iopub.status.busy": "2024-03-08T11:10:33.945479Z",
     "iopub.status.idle": "2024-03-08T11:10:36.025686Z",
     "shell.execute_reply": "2024-03-08T11:10:36.024543Z"
    },
    "papermill": {
     "duration": 2.106964,
     "end_time": "2024-03-08T11:10:36.028054",
     "exception": false,
     "start_time": "2024-03-08T11:10:33.921090",
     "status": "completed"
    },
    "tags": [],
    "ExecuteTime": {
     "end_time": "2024-03-09T08:35:19.317972Z",
     "start_time": "2024-03-09T08:35:18.787755Z"
    }
   },
   "outputs": [
    {
     "name": "stderr",
     "output_type": "stream",
     "text": [
      "C:\\Users\\shens\\AppData\\Local\\Temp\\ipykernel_25924\\1161831307.py:47: UserWarning: FigureCanvasAgg is non-interactive, and thus cannot be shown\n",
      "  plt.show()\n"
     ]
    }
   ],
   "source": [
    "\n",
    "# 设置全局字体样式\n",
    "mpl.rcParams['font.family'] = 'Times New Roman'\n",
    "mpl.rcParams['font.size'] = 11.5\n",
    "\n",
    "# 创建网格数据\n",
    "xi = np.linspace(min(x), max(x), num=100)\n",
    "yi = np.linspace(min(y), max(y), num=100)\n",
    "xi, yi = np.meshgrid(xi, yi)\n",
    "\n",
    "# 插值\n",
    "wi = griddata((x, y), z, (xi, yi), method='linear')\n",
    "wi_color = griddata((x, y), w, (xi, yi), method='linear')\n",
    "\n",
    "# 创建3D图形\n",
    "fig = plt.figure(figsize=(8, 6))\n",
    "ax = fig.add_subplot(111, projection='3d')\n",
    "ax.set_xticks(np.arange(3, 20, 2))\n",
    "ax.set_yticks(np.arange(50, 410, 50))\n",
    "ax.set_zticks(np.arange(3, 10, 1))\n",
    "\n",
    "# 设置3D图的角度\n",
    "ax.view_init(elev=40, azim=-20)  # elev是上下旋转角度，azim是左右旋转角度\n",
    "\n",
    "# 创建颜色映射\n",
    "cmap = cm.jet\n",
    "norm = Normalize(vmin=np.min(w), vmax=np.max(w))\n",
    "\n",
    "# 创建3D曲面图\n",
    "surf = ax.plot_surface(xi, yi, wi, facecolors=cmap(norm(wi_color)), linewidth=0, antialiased=False)\n",
    "\n",
    "# 添加颜色条并设置标签\n",
    "cbar = fig.colorbar(cm.ScalarMappable(norm=norm, cmap=cmap), ax=ax, pad=0.1)\n",
    "cbar.set_label('PSNR')\n",
    "\n",
    "# 设置颜色棒的高度\n",
    "#cbar.ax.set_position([.9, .2, .03, .6])  # [左, 下, 宽, 高]\n",
    "\n",
    "# 设置轴标签\n",
    "ax.set_xlabel('Radius')\n",
    "ax.set_ylabel('Sigma_s')\n",
    "ax.set_zlabel('Cnts')\n",
    "\n",
    "# 保存图像\n",
    "plt.savefig('my_figure.png', format='png', dpi=500)\n",
    "# 显示图形\n",
    "plt.show()"
   ]
  },
  {
   "cell_type": "code",
   "execution_count": 6,
   "id": "d5cd5dfd",
   "metadata": {
    "execution": {
     "iopub.execute_input": "2024-03-08T11:10:36.079626Z",
     "iopub.status.busy": "2024-03-08T11:10:36.079001Z",
     "iopub.status.idle": "2024-03-08T11:10:36.083514Z",
     "shell.execute_reply": "2024-03-08T11:10:36.082243Z"
    },
    "papermill": {
     "duration": 0.032403,
     "end_time": "2024-03-08T11:10:36.085902",
     "exception": false,
     "start_time": "2024-03-08T11:10:36.053499",
     "status": "completed"
    },
    "tags": []
   },
   "outputs": [],
   "source": [
    "# with open('best_params.txt', 'w') as f:\n",
    "#     f.write('id, cnts, radius, sigma_s\\n')\n",
    "#     for img in tqdm(os.listdir(data_dir)):\n",
    "#         best_params, best_psnr= find_best_params(f'{data_dir}/{img}')\n",
    "#         print(f\"best_params:{best_params}---best_psnr:{best_psnr}\")\n",
    "#         f.write(f'{img[:-4]}, {best_params[0]}, {best_params[1]}, {best_params[2]}\\n')"
   ]
  },
  {
   "cell_type": "code",
   "execution_count": null,
   "id": "556f5ae2",
   "metadata": {
    "papermill": {
     "duration": 0.02404,
     "end_time": "2024-03-08T11:10:36.135029",
     "exception": false,
     "start_time": "2024-03-08T11:10:36.110989",
     "status": "completed"
    },
    "tags": []
   },
   "outputs": [],
   "source": []
  }
 ],
 "metadata": {
  "kaggle": {
   "accelerator": "none",
   "dataSources": [
    {
     "datasetId": 4133061,
     "sourceId": 7156611,
     "sourceType": "datasetVersion"
    },
    {
     "datasetId": 4264011,
     "sourceId": 7343540,
     "sourceType": "datasetVersion"
    },
    {
     "datasetId": 4484880,
     "sourceId": 7685874,
     "sourceType": "datasetVersion"
    },
    {
     "datasetId": 4523290,
     "sourceId": 7739130,
     "sourceType": "datasetVersion"
    },
    {
     "datasetId": 4535091,
     "sourceId": 7755738,
     "sourceType": "datasetVersion"
    }
   ],
   "dockerImageVersionId": 30587,
   "isGpuEnabled": false,
   "isInternetEnabled": true,
   "language": "python",
   "sourceType": "notebook"
  },
  "kernelspec": {
   "display_name": "Python 3",
   "language": "python",
   "name": "python3"
  },
  "language_info": {
   "codemirror_mode": {
    "name": "ipython",
    "version": 3
   },
   "file_extension": ".py",
   "mimetype": "text/x-python",
   "name": "python",
   "nbconvert_exporter": "python",
   "pygments_lexer": "ipython3",
   "version": "3.10.12"
  },
  "papermill": {
   "default_parameters": {},
   "duration": 55.421582,
   "end_time": "2024-03-08T11:10:36.779602",
   "environment_variables": {},
   "exception": null,
   "input_path": "__notebook__.ipynb",
   "output_path": "__notebook__.ipynb",
   "parameters": {},
   "start_time": "2024-03-08T11:09:41.358020",
   "version": "2.4.0"
  }
 },
 "nbformat": 4,
 "nbformat_minor": 5
}

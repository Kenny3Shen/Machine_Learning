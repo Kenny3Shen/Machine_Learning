{
 "cells": [
  {
   "cell_type": "code",
   "execution_count": 37,
   "outputs": [],
   "source": [
    "import os\n",
    "from bs4 import BeautifulSoup\n",
    "import pandas as pd\n",
    "from email import policy\n",
    "from email.parser import BytesParser\n",
    "import jieba"
   ],
   "metadata": {
    "collapsed": false,
    "ExecuteTime": {
     "end_time": "2023-11-17T09:18:19.048791500Z",
     "start_time": "2023-11-17T09:18:18.998210300Z"
    }
   },
   "id": "39e9ab268dd590a2"
  },
  {
   "cell_type": "markdown",
   "source": [
    "## 使用email库提取邮件内容\n",
    "1. 读取eml文件\n",
    "2. 提取邮件头\n",
    "3. 提取邮件正文（不包括附件），注意到邮件正文可能是html格式或base64编码格式（图片），使用bs4库进行解析\n",
    "4. 将邮件数据保存为DataFrame"
   ],
   "metadata": {
    "collapsed": false
   },
   "id": "1c0dbde87dd5af37"
  },
  {
   "cell_type": "code",
   "execution_count": 38,
   "outputs": [
    {
     "name": "stderr",
     "output_type": "stream",
     "text": [
      "C:\\Users\\Shen\\AppData\\Local\\Temp\\ipykernel_4452\\721142775.py:20: MarkupResemblesLocatorWarning: The input looks more like a filename than markup. You may want to open this file and pass the filehandle into Beautiful Soup.\n",
      "  data['body'] = BeautifulSoup(data['body'], \"lxml\").text.strip()\n"
     ]
    }
   ],
   "source": [
    "def get_body(message):\n",
    "    if message.is_multipart():\n",
    "        return get_body(message.get_payload(0))\n",
    "    else:\n",
    "        return message.get_payload(None, True)\n",
    "\n",
    "def eml_to_dict(eml_path):\n",
    "    with open(eml_path, 'rb') as f:\n",
    "        msg = BytesParser(policy=policy.default).parse(f)\n",
    "    # get headers\n",
    "    data = dict(msg.items())\n",
    "    # get body\n",
    "    body = get_body(msg)\n",
    "    if body is not None:\n",
    "        try:\n",
    "            data['body'] = body.get_content()\n",
    "        except AttributeError:\n",
    "            data['body'] = body\n",
    "        # get text from html\n",
    "        data['body'] = BeautifulSoup(data['body'], \"html.parser\").text.strip()\n",
    "    data['email_id'] = os.path.basename(eml_path).split('.')[0]\n",
    "    return data\n",
    "\n",
    "# dataset path\n",
    "eml_dir = \"D:\\\\notebook\\datacon\\dataset\"\n",
    "\n",
    "eml_files = [os.path.join(eml_dir, filename) for filename in os.listdir(eml_dir) if filename.endswith(\".eml\")]\n",
    "\n",
    "data = [eml_to_dict(eml_file) for eml_file in eml_files]\n",
    "df = pd.DataFrame(data)"
   ],
   "metadata": {
    "collapsed": false,
    "ExecuteTime": {
     "end_time": "2023-11-17T09:19:44.535162600Z",
     "start_time": "2023-11-17T09:18:20.135518Z"
    }
   },
   "id": "a3524ac318707425"
  },
  {
   "cell_type": "markdown",
   "source": [
    "## 查看数据集\n",
    "- 4277条数据，包含630个字段\n",
    "- 分析得知，邮件正文的内容在body字段中（若为空值通常表示正文为图片或其余非html格式）\n",
    "- 邮件头中的Subject字段包含邮件主题\n",
    "- 其余邮件头多数为空值或经过脱敏处理"
   ],
   "metadata": {
    "collapsed": false
   },
   "id": "64018a518f9fe721"
  },
  {
   "cell_type": "code",
   "execution_count": 39,
   "outputs": [
    {
     "data": {
      "text/plain": "                                               Received  \\\n0     from xsaypzzai (unknown [180.106.88.161])\\t(us...   \n1     from mail.nfqwao.top (mail.nfqwao.top [94.131....   \n2     from zbyvlxgzm (unknown [49.85.250.111])\\tby m...   \n3                                                   NaN   \n4     from josie (unknown [123.11.53.20])\\t(Authenti...   \n...                                                 ...   \n4272  from mail.cciy.top (mail.cciy.top [193.201.126...   \n4273  from [115.219.6.56] (port=51513 helo=jutchefkw...   \n4274  from tbq (unknown [180.108.236.38])\\tby mail.i...   \n4275  from eeydxfmjnl (unknown [122.230.145.252])\\tb...   \n4276  from DESKTOP-QRNFVRG (unknown [175.167.22.69])...   \n\n         X-Securemailgate-Identity  \\\n0     dreyero_de;web277.dogado.net   \n1                              NaN   \n2                              NaN   \n3                              NaN   \n4                              NaN   \n...                            ...   \n4272                           NaN   \n4273                           NaN   \n4274                           NaN   \n4275                           NaN   \n4276                           NaN   \n\n                                             Message-Id  \\\n0         <936e72d64105baa9a1dbe2640e6f5d81@dreyero.de>   \n1     <684317841.2471931.1676254079269@mail.nfqwao.top>   \n2          <91E13A01FF5D908B806E8253D52BCD1E@zbyvlxgzm>   \n3                                                   NaN   \n4                <63E9AA25.1B4E5E.14145@qn-cmmxproxy-4>   \n...                                                 ...   \n4272    <1728955067.808585.1676254668606@mail.cciy.top>   \n4273  <9d2eb98d929ff192aa4aa29a35fac9ef@sistemasimpl...   \n4274             <1FA8A33A5750EC0F102DAFC7825CDE4C@tbq>   \n4275  <5adc13a1db92fd10ed1eceb60dc7180c@luckymoonpac...   \n4276  <F8C0AA07-2CC4-4E97-A171-103C025C05B6@eos.ocn....   \n\n                          Subject                             Date X-Priority  \\\n0               2023年第一季度《财 政》补〉贴  Mon, 13 Feb 2023 10:01:30 +0800          3   \n1                 三八妇女节的礼品，准备好了吗？  Mon, 13 Feb 2023 10:07:59 +0800        NaN   \n2                        邮箱系统在线升级  Tue, 22 Aug 2023 01:33:46 +0800          3   \n3      高薪工作提拔晋升户口出国轻松全搞定tianjinAD  Mon, 13 Feb 2023 11:05:30 +0800          2   \n4                   转发：  刘建华老师  收  Mon, 13 Feb 2023 11:04:00 +0800        NaN   \n...                           ...                              ...        ...   \n4272            三八妇女节！贵司完成礼品采购了吗？  Mon, 13 Feb 2023 10:17:48 +0800        NaN   \n4273         个人劳动（补贴））已下发，请查看下图查收  Mon, 13 Feb 2023 10:01:06 +0800          3   \n4274                     邮箱系统在线升级  Tue, 22 Aug 2023 13:05:50 +0800          3   \n4275            2023年第一季度《财 政》补〉贴  Mon, 13 Feb 2023 11:06:20 +0800          3   \n4276          DNA与RNA甲基化数据分析技术及应用  Mon, 13 Feb 2023 10:52:06 +0800        NaN   \n\n                                      X-Mailer Mime-Version  \\\n0                      Cvzlvliqe Wydootqd 37.9          1.0   \n1                                          NaN          1.0   \n2     Microsoft Outlook Express 6.00.2900.5512          1.0   \n3                               EhooPost 2004b          NaN   \n4                                          NaN          1.0   \n...                                        ...          ...   \n4272                                       NaN          1.0   \n4273                    Ohbtef Bukgybuiiu 8.94          1.0   \n4274  Microsoft Outlook Express 6.00.2900.5512          1.0   \n4275                        Jxczs Ohnhwu 12.78          1.0   \n4276     MailMasterPC/4.18.1.1007 (Win10 21H2)          1.0   \n\n                                           Content-Type X-Originating-Ip  ...  \\\n0     multipart/related; boundary=\"44b28501923df81c8...     31.47.255.57  ...   \n1     multipart/mixed; boundary=\"----=_Part_2471930_...              NaN  ...   \n2     multipart/alternative; boundary=\"----=_NextPar...              NaN  ...   \n3                          text/plain; charset=\"GB2312\"              NaN  ...   \n4     multipart/mixed; charset=\"UTF-8\"; boundary=\"sa...              NaN  ...   \n...                                                 ...              ...  ...   \n4272  multipart/mixed; boundary=\"----=_Part_808584_3...              NaN  ...   \n4273  multipart/related; boundary=\"7cddf233ae28b4399...              NaN  ...   \n4274  multipart/alternative; boundary=\"----=_NextPar...              NaN  ...   \n4275  multipart/related; boundary=\"3978b51d8dea23bcf...              NaN  ...   \n4276  multipart/mixed; boundary=\"=_mailmaster-63e9a5...              NaN  ...   \n\n     X-Rm-Spam X-Hqip X-Sfdc-Lk X-Sfdc-User X-Mail_abuse_inquiries  \\\n0          NaN    NaN       NaN         NaN                    NaN   \n1          NaN    NaN       NaN         NaN                    NaN   \n2          NaN    NaN       NaN         NaN                    NaN   \n3          NaN    NaN       NaN         NaN                    NaN   \n4          NaN    NaN       NaN         NaN                    NaN   \n...        ...    ...       ...         ...                    ...   \n4272       NaN    NaN       NaN         NaN                    NaN   \n4273       NaN    NaN       NaN         NaN                    NaN   \n4274       NaN    NaN       NaN         NaN                    NaN   \n4275       NaN    NaN       NaN         NaN                    NaN   \n4276       NaN    NaN       NaN         NaN                    NaN   \n\n     X-Sfdc-Tls-Norelay X-Sfdc-Binding X-Sfdc-Emailcategory X-Sfdc-Entityid  \\\n0                   NaN            NaN                  NaN             NaN   \n1                   NaN            NaN                  NaN             NaN   \n2                   NaN            NaN                  NaN             NaN   \n3                   NaN            NaN                  NaN             NaN   \n4                   NaN            NaN                  NaN             NaN   \n...                 ...            ...                  ...             ...   \n4272                NaN            NaN                  NaN             NaN   \n4273                NaN            NaN                  NaN             NaN   \n4274                NaN            NaN                  NaN             NaN   \n4275                NaN            NaN                  NaN             NaN   \n4276                NaN            NaN                  NaN             NaN   \n\n     X-Sfdc-Interface  \n0                 NaN  \n1                 NaN  \n2                 NaN  \n3                 NaN  \n4                 NaN  \n...               ...  \n4272              NaN  \n4273              NaN  \n4274              NaN  \n4275              NaN  \n4276              NaN  \n\n[4277 rows x 630 columns]",
      "text/html": "<div>\n<style scoped>\n    .dataframe tbody tr th:only-of-type {\n        vertical-align: middle;\n    }\n\n    .dataframe tbody tr th {\n        vertical-align: top;\n    }\n\n    .dataframe thead th {\n        text-align: right;\n    }\n</style>\n<table border=\"1\" class=\"dataframe\">\n  <thead>\n    <tr style=\"text-align: right;\">\n      <th></th>\n      <th>Received</th>\n      <th>X-Securemailgate-Identity</th>\n      <th>Message-Id</th>\n      <th>Subject</th>\n      <th>Date</th>\n      <th>X-Priority</th>\n      <th>X-Mailer</th>\n      <th>Mime-Version</th>\n      <th>Content-Type</th>\n      <th>X-Originating-Ip</th>\n      <th>...</th>\n      <th>X-Rm-Spam</th>\n      <th>X-Hqip</th>\n      <th>X-Sfdc-Lk</th>\n      <th>X-Sfdc-User</th>\n      <th>X-Mail_abuse_inquiries</th>\n      <th>X-Sfdc-Tls-Norelay</th>\n      <th>X-Sfdc-Binding</th>\n      <th>X-Sfdc-Emailcategory</th>\n      <th>X-Sfdc-Entityid</th>\n      <th>X-Sfdc-Interface</th>\n    </tr>\n  </thead>\n  <tbody>\n    <tr>\n      <th>0</th>\n      <td>from xsaypzzai (unknown [180.106.88.161])\\t(us...</td>\n      <td>dreyero_de;web277.dogado.net</td>\n      <td>&lt;936e72d64105baa9a1dbe2640e6f5d81@dreyero.de&gt;</td>\n      <td>2023年第一季度《财 政》补〉贴</td>\n      <td>Mon, 13 Feb 2023 10:01:30 +0800</td>\n      <td>3</td>\n      <td>Cvzlvliqe Wydootqd 37.9</td>\n      <td>1.0</td>\n      <td>multipart/related; boundary=\"44b28501923df81c8...</td>\n      <td>31.47.255.57</td>\n      <td>...</td>\n      <td>NaN</td>\n      <td>NaN</td>\n      <td>NaN</td>\n      <td>NaN</td>\n      <td>NaN</td>\n      <td>NaN</td>\n      <td>NaN</td>\n      <td>NaN</td>\n      <td>NaN</td>\n      <td>NaN</td>\n    </tr>\n    <tr>\n      <th>1</th>\n      <td>from mail.nfqwao.top (mail.nfqwao.top [94.131....</td>\n      <td>NaN</td>\n      <td>&lt;684317841.2471931.1676254079269@mail.nfqwao.top&gt;</td>\n      <td>三八妇女节的礼品，准备好了吗？</td>\n      <td>Mon, 13 Feb 2023 10:07:59 +0800</td>\n      <td>NaN</td>\n      <td>NaN</td>\n      <td>1.0</td>\n      <td>multipart/mixed; boundary=\"----=_Part_2471930_...</td>\n      <td>NaN</td>\n      <td>...</td>\n      <td>NaN</td>\n      <td>NaN</td>\n      <td>NaN</td>\n      <td>NaN</td>\n      <td>NaN</td>\n      <td>NaN</td>\n      <td>NaN</td>\n      <td>NaN</td>\n      <td>NaN</td>\n      <td>NaN</td>\n    </tr>\n    <tr>\n      <th>2</th>\n      <td>from zbyvlxgzm (unknown [49.85.250.111])\\tby m...</td>\n      <td>NaN</td>\n      <td>&lt;91E13A01FF5D908B806E8253D52BCD1E@zbyvlxgzm&gt;</td>\n      <td>邮箱系统在线升级</td>\n      <td>Tue, 22 Aug 2023 01:33:46 +0800</td>\n      <td>3</td>\n      <td>Microsoft Outlook Express 6.00.2900.5512</td>\n      <td>1.0</td>\n      <td>multipart/alternative; boundary=\"----=_NextPar...</td>\n      <td>NaN</td>\n      <td>...</td>\n      <td>NaN</td>\n      <td>NaN</td>\n      <td>NaN</td>\n      <td>NaN</td>\n      <td>NaN</td>\n      <td>NaN</td>\n      <td>NaN</td>\n      <td>NaN</td>\n      <td>NaN</td>\n      <td>NaN</td>\n    </tr>\n    <tr>\n      <th>3</th>\n      <td>NaN</td>\n      <td>NaN</td>\n      <td>NaN</td>\n      <td>高薪工作提拔晋升户口出国轻松全搞定tianjinAD</td>\n      <td>Mon, 13 Feb 2023 11:05:30 +0800</td>\n      <td>2</td>\n      <td>EhooPost 2004b</td>\n      <td>NaN</td>\n      <td>text/plain; charset=\"GB2312\"</td>\n      <td>NaN</td>\n      <td>...</td>\n      <td>NaN</td>\n      <td>NaN</td>\n      <td>NaN</td>\n      <td>NaN</td>\n      <td>NaN</td>\n      <td>NaN</td>\n      <td>NaN</td>\n      <td>NaN</td>\n      <td>NaN</td>\n      <td>NaN</td>\n    </tr>\n    <tr>\n      <th>4</th>\n      <td>from josie (unknown [123.11.53.20])\\t(Authenti...</td>\n      <td>NaN</td>\n      <td>&lt;63E9AA25.1B4E5E.14145@qn-cmmxproxy-4&gt;</td>\n      <td>转发：  刘建华老师  收</td>\n      <td>Mon, 13 Feb 2023 11:04:00 +0800</td>\n      <td>NaN</td>\n      <td>NaN</td>\n      <td>1.0</td>\n      <td>multipart/mixed; charset=\"UTF-8\"; boundary=\"sa...</td>\n      <td>NaN</td>\n      <td>...</td>\n      <td>NaN</td>\n      <td>NaN</td>\n      <td>NaN</td>\n      <td>NaN</td>\n      <td>NaN</td>\n      <td>NaN</td>\n      <td>NaN</td>\n      <td>NaN</td>\n      <td>NaN</td>\n      <td>NaN</td>\n    </tr>\n    <tr>\n      <th>...</th>\n      <td>...</td>\n      <td>...</td>\n      <td>...</td>\n      <td>...</td>\n      <td>...</td>\n      <td>...</td>\n      <td>...</td>\n      <td>...</td>\n      <td>...</td>\n      <td>...</td>\n      <td>...</td>\n      <td>...</td>\n      <td>...</td>\n      <td>...</td>\n      <td>...</td>\n      <td>...</td>\n      <td>...</td>\n      <td>...</td>\n      <td>...</td>\n      <td>...</td>\n      <td>...</td>\n    </tr>\n    <tr>\n      <th>4272</th>\n      <td>from mail.cciy.top (mail.cciy.top [193.201.126...</td>\n      <td>NaN</td>\n      <td>&lt;1728955067.808585.1676254668606@mail.cciy.top&gt;</td>\n      <td>三八妇女节！贵司完成礼品采购了吗？</td>\n      <td>Mon, 13 Feb 2023 10:17:48 +0800</td>\n      <td>NaN</td>\n      <td>NaN</td>\n      <td>1.0</td>\n      <td>multipart/mixed; boundary=\"----=_Part_808584_3...</td>\n      <td>NaN</td>\n      <td>...</td>\n      <td>NaN</td>\n      <td>NaN</td>\n      <td>NaN</td>\n      <td>NaN</td>\n      <td>NaN</td>\n      <td>NaN</td>\n      <td>NaN</td>\n      <td>NaN</td>\n      <td>NaN</td>\n      <td>NaN</td>\n    </tr>\n    <tr>\n      <th>4273</th>\n      <td>from [115.219.6.56] (port=51513 helo=jutchefkw...</td>\n      <td>NaN</td>\n      <td>&lt;9d2eb98d929ff192aa4aa29a35fac9ef@sistemasimpl...</td>\n      <td>个人劳动（补贴））已下发，请查看下图查收</td>\n      <td>Mon, 13 Feb 2023 10:01:06 +0800</td>\n      <td>3</td>\n      <td>Ohbtef Bukgybuiiu 8.94</td>\n      <td>1.0</td>\n      <td>multipart/related; boundary=\"7cddf233ae28b4399...</td>\n      <td>NaN</td>\n      <td>...</td>\n      <td>NaN</td>\n      <td>NaN</td>\n      <td>NaN</td>\n      <td>NaN</td>\n      <td>NaN</td>\n      <td>NaN</td>\n      <td>NaN</td>\n      <td>NaN</td>\n      <td>NaN</td>\n      <td>NaN</td>\n    </tr>\n    <tr>\n      <th>4274</th>\n      <td>from tbq (unknown [180.108.236.38])\\tby mail.i...</td>\n      <td>NaN</td>\n      <td>&lt;1FA8A33A5750EC0F102DAFC7825CDE4C@tbq&gt;</td>\n      <td>邮箱系统在线升级</td>\n      <td>Tue, 22 Aug 2023 13:05:50 +0800</td>\n      <td>3</td>\n      <td>Microsoft Outlook Express 6.00.2900.5512</td>\n      <td>1.0</td>\n      <td>multipart/alternative; boundary=\"----=_NextPar...</td>\n      <td>NaN</td>\n      <td>...</td>\n      <td>NaN</td>\n      <td>NaN</td>\n      <td>NaN</td>\n      <td>NaN</td>\n      <td>NaN</td>\n      <td>NaN</td>\n      <td>NaN</td>\n      <td>NaN</td>\n      <td>NaN</td>\n      <td>NaN</td>\n    </tr>\n    <tr>\n      <th>4275</th>\n      <td>from eeydxfmjnl (unknown [122.230.145.252])\\tb...</td>\n      <td>NaN</td>\n      <td>&lt;5adc13a1db92fd10ed1eceb60dc7180c@luckymoonpac...</td>\n      <td>2023年第一季度《财 政》补〉贴</td>\n      <td>Mon, 13 Feb 2023 11:06:20 +0800</td>\n      <td>3</td>\n      <td>Jxczs Ohnhwu 12.78</td>\n      <td>1.0</td>\n      <td>multipart/related; boundary=\"3978b51d8dea23bcf...</td>\n      <td>NaN</td>\n      <td>...</td>\n      <td>NaN</td>\n      <td>NaN</td>\n      <td>NaN</td>\n      <td>NaN</td>\n      <td>NaN</td>\n      <td>NaN</td>\n      <td>NaN</td>\n      <td>NaN</td>\n      <td>NaN</td>\n      <td>NaN</td>\n    </tr>\n    <tr>\n      <th>4276</th>\n      <td>from DESKTOP-QRNFVRG (unknown [175.167.22.69])...</td>\n      <td>NaN</td>\n      <td>&lt;F8C0AA07-2CC4-4E97-A171-103C025C05B6@eos.ocn....</td>\n      <td>DNA与RNA甲基化数据分析技术及应用</td>\n      <td>Mon, 13 Feb 2023 10:52:06 +0800</td>\n      <td>NaN</td>\n      <td>MailMasterPC/4.18.1.1007 (Win10 21H2)</td>\n      <td>1.0</td>\n      <td>multipart/mixed; boundary=\"=_mailmaster-63e9a5...</td>\n      <td>NaN</td>\n      <td>...</td>\n      <td>NaN</td>\n      <td>NaN</td>\n      <td>NaN</td>\n      <td>NaN</td>\n      <td>NaN</td>\n      <td>NaN</td>\n      <td>NaN</td>\n      <td>NaN</td>\n      <td>NaN</td>\n      <td>NaN</td>\n    </tr>\n  </tbody>\n</table>\n<p>4277 rows × 630 columns</p>\n</div>"
     },
     "execution_count": 39,
     "metadata": {},
     "output_type": "execute_result"
    }
   ],
   "source": [
    "df"
   ],
   "metadata": {
    "collapsed": false,
    "ExecuteTime": {
     "end_time": "2023-11-17T09:20:05.497607600Z",
     "start_time": "2023-11-17T09:20:05.454531900Z"
    }
   },
   "id": "231a7c5bc89b4839"
  },
  {
   "cell_type": "code",
   "execution_count": 40,
   "outputs": [
    {
     "data": {
      "text/plain": "(4277, 630)"
     },
     "execution_count": 40,
     "metadata": {},
     "output_type": "execute_result"
    }
   ],
   "source": [
    "df.shape"
   ],
   "metadata": {
    "collapsed": false,
    "ExecuteTime": {
     "end_time": "2023-11-17T09:20:11.131944600Z",
     "start_time": "2023-11-17T09:20:11.117297900Z"
    }
   },
   "id": "2a79dc57f324a6f3"
  },
  {
   "cell_type": "markdown",
   "source": [
    "## 特征提取\n",
    "\n",
    "- 提取邮件主题(Subject)和正文(body)内容\n",
    "- 提取邮件名的前八位，方便具体分析\n",
    "- Received 属性可能包含特征信息，但分析难度较大，故放弃  "
   ],
   "metadata": {
    "collapsed": false
   },
   "id": "f31894b45de8b84c"
  },
  {
   "cell_type": "code",
   "execution_count": 43,
   "outputs": [],
   "source": [
    "content = df[['email_id','Subject', 'body']]"
   ],
   "metadata": {
    "collapsed": false,
    "ExecuteTime": {
     "end_time": "2023-11-17T09:26:24.531228400Z",
     "start_time": "2023-11-17T09:26:24.509755200Z"
    }
   },
   "id": "c44e9730ad32fb10"
  },
  {
   "cell_type": "code",
   "execution_count": 44,
   "outputs": [
    {
     "data": {
      "text/plain": "      email_id                      Subject  \\\n0     000249d6            2023年第一季度《财 政》补〉贴   \n1     0016a8f1              三八妇女节的礼品，准备好了吗？   \n2     003804af                     邮箱系统在线升级   \n3     0040c33b   高薪工作提拔晋升户口出国轻松全搞定tianjinAD   \n4     00493728                转发：  刘建华老师  收   \n...        ...                          ...   \n4272  ffc67ed7            三八妇女节！贵司完成礼品采购了吗？   \n4273  ffcc00a4         个人劳动（补贴））已下发，请查看下图查收   \n4274  ffce9394                     邮箱系统在线升级   \n4275  ffd7b406            2023年第一季度《财 政》补〉贴   \n4276  fffea489          DNA与RNA甲基化数据分析技术及应用   \n\n                                                   body  \n0                                                        \n1     Hello，你好1、我是为企业提供礼品采购的陈晓飞，如：商务伴手礼、节日礼品、活动礼品、员工...  \n2     亲爱的用户： \\r\\n为了加强网络安全管理，提高邮件系统的安全性和稳定性，保障收发畅通，为用...  \n3     历经三年疫情洗礼，实业蓄能已久，人工智能AI技术WEB3.0, 区块链技术应用场景会越来越广...  \n4     您好！之前给您发过关于2月底将在线上开展 “表观遗传学-DNA甲基化 Rna甲基化 M6a甲...  \n...                                                 ...  \n4272  Hello，你好﻿1、我是陈晓飞 Felix，为企业提供礼品采购的企业：商务馈赠、节日礼品、...  \n4273                                                     \n4274  亲爱的用户： \\r\\n为了加强网络安全管理，提高邮件系统的安全性和稳定性，保障收发畅通，为用...  \n4275                                                     \n4276  请老师查看附件\\n        \\n\\n\\n\\n\\n\\n\\n\\n\\ny-takabey-t...  \n\n[4277 rows x 3 columns]",
      "text/html": "<div>\n<style scoped>\n    .dataframe tbody tr th:only-of-type {\n        vertical-align: middle;\n    }\n\n    .dataframe tbody tr th {\n        vertical-align: top;\n    }\n\n    .dataframe thead th {\n        text-align: right;\n    }\n</style>\n<table border=\"1\" class=\"dataframe\">\n  <thead>\n    <tr style=\"text-align: right;\">\n      <th></th>\n      <th>email_id</th>\n      <th>Subject</th>\n      <th>body</th>\n    </tr>\n  </thead>\n  <tbody>\n    <tr>\n      <th>0</th>\n      <td>000249d6</td>\n      <td>2023年第一季度《财 政》补〉贴</td>\n      <td></td>\n    </tr>\n    <tr>\n      <th>1</th>\n      <td>0016a8f1</td>\n      <td>三八妇女节的礼品，准备好了吗？</td>\n      <td>Hello，你好1、我是为企业提供礼品采购的陈晓飞，如：商务伴手礼、节日礼品、活动礼品、员工...</td>\n    </tr>\n    <tr>\n      <th>2</th>\n      <td>003804af</td>\n      <td>邮箱系统在线升级</td>\n      <td>亲爱的用户： \\r\\n为了加强网络安全管理，提高邮件系统的安全性和稳定性，保障收发畅通，为用...</td>\n    </tr>\n    <tr>\n      <th>3</th>\n      <td>0040c33b</td>\n      <td>高薪工作提拔晋升户口出国轻松全搞定tianjinAD</td>\n      <td>历经三年疫情洗礼，实业蓄能已久，人工智能AI技术WEB3.0, 区块链技术应用场景会越来越广...</td>\n    </tr>\n    <tr>\n      <th>4</th>\n      <td>00493728</td>\n      <td>转发：  刘建华老师  收</td>\n      <td>您好！之前给您发过关于2月底将在线上开展 “表观遗传学-DNA甲基化 Rna甲基化 M6a甲...</td>\n    </tr>\n    <tr>\n      <th>...</th>\n      <td>...</td>\n      <td>...</td>\n      <td>...</td>\n    </tr>\n    <tr>\n      <th>4272</th>\n      <td>ffc67ed7</td>\n      <td>三八妇女节！贵司完成礼品采购了吗？</td>\n      <td>Hello，你好﻿1、我是陈晓飞 Felix，为企业提供礼品采购的企业：商务馈赠、节日礼品、...</td>\n    </tr>\n    <tr>\n      <th>4273</th>\n      <td>ffcc00a4</td>\n      <td>个人劳动（补贴））已下发，请查看下图查收</td>\n      <td></td>\n    </tr>\n    <tr>\n      <th>4274</th>\n      <td>ffce9394</td>\n      <td>邮箱系统在线升级</td>\n      <td>亲爱的用户： \\r\\n为了加强网络安全管理，提高邮件系统的安全性和稳定性，保障收发畅通，为用...</td>\n    </tr>\n    <tr>\n      <th>4275</th>\n      <td>ffd7b406</td>\n      <td>2023年第一季度《财 政》补〉贴</td>\n      <td></td>\n    </tr>\n    <tr>\n      <th>4276</th>\n      <td>fffea489</td>\n      <td>DNA与RNA甲基化数据分析技术及应用</td>\n      <td>请老师查看附件\\n        \\n\\n\\n\\n\\n\\n\\n\\n\\ny-takabey-t...</td>\n    </tr>\n  </tbody>\n</table>\n<p>4277 rows × 3 columns</p>\n</div>"
     },
     "execution_count": 44,
     "metadata": {},
     "output_type": "execute_result"
    }
   ],
   "source": [
    "content"
   ],
   "metadata": {
    "collapsed": false,
    "ExecuteTime": {
     "end_time": "2023-11-17T09:26:24.870182200Z",
     "start_time": "2023-11-17T09:26:24.847915600Z"
    }
   },
   "id": "e0f3b8cb4fdb350a"
  },
  {
   "cell_type": "markdown",
   "source": [
    "## 特征分析\n",
    "- 注意到邮件主题中包含了大量的空格、换行符、制表符等，需要进行清洗\n",
    "- 注意到4277封邮件中只有878个独立主题，需要进行去重\n"
   ],
   "metadata": {
    "collapsed": false
   },
   "id": "f599bbd2e258a5d8"
  },
  {
   "cell_type": "code",
   "execution_count": 45,
   "outputs": [
    {
     "data": {
      "text/plain": "        email_id   Subject  body\ncount       4277      4277  4277\nunique      4277       878  1116\ntop     000249d6  邮箱系统在线升级      \nfreq           1       618   929",
      "text/html": "<div>\n<style scoped>\n    .dataframe tbody tr th:only-of-type {\n        vertical-align: middle;\n    }\n\n    .dataframe tbody tr th {\n        vertical-align: top;\n    }\n\n    .dataframe thead th {\n        text-align: right;\n    }\n</style>\n<table border=\"1\" class=\"dataframe\">\n  <thead>\n    <tr style=\"text-align: right;\">\n      <th></th>\n      <th>email_id</th>\n      <th>Subject</th>\n      <th>body</th>\n    </tr>\n  </thead>\n  <tbody>\n    <tr>\n      <th>count</th>\n      <td>4277</td>\n      <td>4277</td>\n      <td>4277</td>\n    </tr>\n    <tr>\n      <th>unique</th>\n      <td>4277</td>\n      <td>878</td>\n      <td>1116</td>\n    </tr>\n    <tr>\n      <th>top</th>\n      <td>000249d6</td>\n      <td>邮箱系统在线升级</td>\n      <td></td>\n    </tr>\n    <tr>\n      <th>freq</th>\n      <td>1</td>\n      <td>618</td>\n      <td>929</td>\n    </tr>\n  </tbody>\n</table>\n</div>"
     },
     "execution_count": 45,
     "metadata": {},
     "output_type": "execute_result"
    }
   ],
   "source": [
    "content.describe()"
   ],
   "metadata": {
    "collapsed": false,
    "ExecuteTime": {
     "end_time": "2023-11-17T09:26:25.999905300Z",
     "start_time": "2023-11-17T09:26:25.985068700Z"
    }
   },
   "id": "cc77c9f114badab2"
  },
  {
   "cell_type": "code",
   "execution_count": 46,
   "outputs": [
    {
     "name": "stdout",
     "output_type": "stream",
     "text": [
      "<class 'pandas.core.frame.DataFrame'>\n",
      "RangeIndex: 4277 entries, 0 to 4276\n",
      "Data columns (total 3 columns):\n",
      " #   Column    Non-Null Count  Dtype \n",
      "---  ------    --------------  ----- \n",
      " 0   email_id  4277 non-null   object\n",
      " 1   Subject   4277 non-null   object\n",
      " 2   body      4277 non-null   object\n",
      "dtypes: object(3)\n",
      "memory usage: 100.4+ KB\n"
     ]
    }
   ],
   "source": [
    "content.info()"
   ],
   "metadata": {
    "collapsed": false,
    "ExecuteTime": {
     "end_time": "2023-11-17T09:26:26.784234100Z",
     "start_time": "2023-11-17T09:26:26.776867600Z"
    }
   },
   "id": "b802b25997a36de1"
  },
  {
   "cell_type": "markdown",
   "source": [
    "## 数据清洗\n",
    "- 去除空格、换行符、制表符等\n",
    "- 去除非UTF-8编码的字符\n",
    "- 丢弃清洗后主题为空的邮件\n",
    "- 去除重复邮件"
   ],
   "metadata": {
    "collapsed": false
   },
   "id": "97d0f57f3d11ce6e"
  },
  {
   "cell_type": "code",
   "execution_count": 47,
   "outputs": [
    {
     "name": "stderr",
     "output_type": "stream",
     "text": [
      "C:\\Users\\Shen\\AppData\\Local\\Temp\\ipykernel_4452\\3541818220.py:1: SettingWithCopyWarning: \n",
      "A value is trying to be set on a copy of a slice from a DataFrame.\n",
      "Try using .loc[row_indexer,col_indexer] = value instead\n",
      "\n",
      "See the caveats in the documentation: https://pandas.pydata.org/pandas-docs/stable/user_guide/indexing.html#returning-a-view-versus-a-copy\n",
      "  content['Subject'] = content['Subject'].str.replace(' ', '').str.replace('〉', '').str.replace('\\n', '').str.replace('\\r', '').str.replace('\\t', '').str.replace('\\xa0', ' ').str.replace('\\ufeff', ' ').str.replace('◖','')\n",
      "C:\\Users\\Shen\\AppData\\Local\\Temp\\ipykernel_4452\\3541818220.py:2: SettingWithCopyWarning: \n",
      "A value is trying to be set on a copy of a slice from a DataFrame.\n",
      "Try using .loc[row_indexer,col_indexer] = value instead\n",
      "\n",
      "See the caveats in the documentation: https://pandas.pydata.org/pandas-docs/stable/user_guide/indexing.html#returning-a-view-versus-a-copy\n",
      "  content['body'] = content['body'].str.replace('\\n', '').str.replace('\\r', '').str.replace('\\t', '').str.replace('\\xa0', ' ').str.replace('\\ufeff', ' ')\n",
      "C:\\Users\\Shen\\AppData\\Local\\Temp\\ipykernel_4452\\3541818220.py:3: SettingWithCopyWarning: \n",
      "A value is trying to be set on a copy of a slice from a DataFrame\n",
      "\n",
      "See the caveats in the documentation: https://pandas.pydata.org/pandas-docs/stable/user_guide/indexing.html#returning-a-view-versus-a-copy\n",
      "  content.drop(content.loc[content['Subject'] == ''].index, inplace=True)\n",
      "C:\\Users\\Shen\\AppData\\Local\\Temp\\ipykernel_4452\\3541818220.py:4: SettingWithCopyWarning: \n",
      "A value is trying to be set on a copy of a slice from a DataFrame\n",
      "\n",
      "See the caveats in the documentation: https://pandas.pydata.org/pandas-docs/stable/user_guide/indexing.html#returning-a-view-versus-a-copy\n",
      "  content.drop_duplicates(subset=['Subject'], keep='first', inplace=True)\n"
     ]
    }
   ],
   "source": [
    "content['Subject'] = content['Subject'].str.replace(' ', '').str.replace('〉', '').str.replace('\\n', '').str.replace('\\r', '').str.replace('\\t', '').str.replace('\\xa0', ' ').str.replace('\\ufeff', ' ').str.replace('◖','')\n",
    "content['body'] = content['body'].str.replace('\\n', '').str.replace('\\r', '').str.replace('\\t', '').str.replace('\\xa0', ' ').str.replace('\\ufeff', ' ')\n",
    "content.drop(content.loc[content['Subject'] == ''].index, inplace=True)\n",
    "content.drop_duplicates(subset=['Subject'], keep='first', inplace=True)"
   ],
   "metadata": {
    "collapsed": false,
    "ExecuteTime": {
     "end_time": "2023-11-17T09:26:28.795138Z",
     "start_time": "2023-11-17T09:26:28.676946200Z"
    }
   },
   "id": "3f99c27e50bd36c3"
  },
  {
   "cell_type": "markdown",
   "source": [
    "## 对清洗去除后的数据集分析\n",
    "- 仅剩下863条数据\n",
    "- 如第1条email（2023年第一季度《财政》补贴），正文内容为空，打开邮件观察得知，该邮件正文为图片，故正文为能正常解析，且为冒充政府机构的**钓鱼邮件**\n",
    "- 如第3条email（邮箱系统在线升级），这一类邮件在之前分析中存在大量重复，打开邮件观察得知，该类邮件属于冒充邮箱管理员的**钓鱼邮件**"
   ],
   "metadata": {
    "collapsed": false
   },
   "id": "c686ce7dede3c21c"
  },
  {
   "cell_type": "code",
   "execution_count": 48,
   "outputs": [
    {
     "data": {
      "text/plain": "      email_id                                            Subject  \\\n0     000249d6                                    2023年第一季度《财政》补贴   \n1     0016a8f1                                    三八妇女节的礼品，准备好了吗？   \n2     003804af                                           邮箱系统在线升级   \n3     0040c33b                         高薪工作提拔晋升户口出国轻松全搞定tianjinAD   \n4     00493728                                          转发：刘建华老师收   \n...        ...                                                ...   \n4243  fe2242b6      中国智造企业全球化人才吸引与发展新引擎—领英智能制造行业线上研讨会，期待您的免费上线观看！   \n4253  fee2719a                                DHLSHIPPINGDOCUMENT   \n4254  fef188cd  RE:914790529、914704622帮忙通知厦门外代出具改单授权委托书[ref:_0...   \n4266  ff753c51                             報價請求：重慶INV212AS//114CN   \n4268  ff8e3cbe                                 企业在做股权设计时必须注意哪些问题?   \n\n                                                   body  \n0                                                        \n1     Hello，你好1、我是为企业提供礼品采购的陈晓飞，如：商务伴手礼、节日礼品、活动礼品、员工...  \n2     亲爱的用户： 为了加强网络安全管理，提高邮件系统的安全性和稳定性，保障收发畅通，为用户提供优...  \n3     历经三年疫情洗礼，实业蓄能已久，人工智能AI技术WEB3.0, 区块链技术应用场景会越来越广...  \n4     您好！之前给您发过关于2月底将在线上开展 “表观遗传学-DNA甲基化 Rna甲基化 M6a甲...  \n...                                                 ...  \n4243  智能制造行业峰会 人才“智造”出海机遇赢在出海在线浏览请点击[1] 这里[2]智能制造行业峰...  \n4253  >>>>>>>>>>>>Dear Customer, >>>> >>>>There is a...  \n4254  Dear 外代以下客户要求请协助帮忙，谢谢Regards,Derreck WuReprese...  \n4266  尊敬的先生/女士，請發送更新的價格列表，以進行新的新要求。 我們對購買非常感興趣。 如果您可...  \n4268  老板是一家企业的核心灵魂人物，老板所具备的远见、前瞻性与决策往往牵连着企业的长远发展，所以老...  \n\n[863 rows x 3 columns]",
      "text/html": "<div>\n<style scoped>\n    .dataframe tbody tr th:only-of-type {\n        vertical-align: middle;\n    }\n\n    .dataframe tbody tr th {\n        vertical-align: top;\n    }\n\n    .dataframe thead th {\n        text-align: right;\n    }\n</style>\n<table border=\"1\" class=\"dataframe\">\n  <thead>\n    <tr style=\"text-align: right;\">\n      <th></th>\n      <th>email_id</th>\n      <th>Subject</th>\n      <th>body</th>\n    </tr>\n  </thead>\n  <tbody>\n    <tr>\n      <th>0</th>\n      <td>000249d6</td>\n      <td>2023年第一季度《财政》补贴</td>\n      <td></td>\n    </tr>\n    <tr>\n      <th>1</th>\n      <td>0016a8f1</td>\n      <td>三八妇女节的礼品，准备好了吗？</td>\n      <td>Hello，你好1、我是为企业提供礼品采购的陈晓飞，如：商务伴手礼、节日礼品、活动礼品、员工...</td>\n    </tr>\n    <tr>\n      <th>2</th>\n      <td>003804af</td>\n      <td>邮箱系统在线升级</td>\n      <td>亲爱的用户： 为了加强网络安全管理，提高邮件系统的安全性和稳定性，保障收发畅通，为用户提供优...</td>\n    </tr>\n    <tr>\n      <th>3</th>\n      <td>0040c33b</td>\n      <td>高薪工作提拔晋升户口出国轻松全搞定tianjinAD</td>\n      <td>历经三年疫情洗礼，实业蓄能已久，人工智能AI技术WEB3.0, 区块链技术应用场景会越来越广...</td>\n    </tr>\n    <tr>\n      <th>4</th>\n      <td>00493728</td>\n      <td>转发：刘建华老师收</td>\n      <td>您好！之前给您发过关于2月底将在线上开展 “表观遗传学-DNA甲基化 Rna甲基化 M6a甲...</td>\n    </tr>\n    <tr>\n      <th>...</th>\n      <td>...</td>\n      <td>...</td>\n      <td>...</td>\n    </tr>\n    <tr>\n      <th>4243</th>\n      <td>fe2242b6</td>\n      <td>中国智造企业全球化人才吸引与发展新引擎—领英智能制造行业线上研讨会，期待您的免费上线观看！</td>\n      <td>智能制造行业峰会 人才“智造”出海机遇赢在出海在线浏览请点击[1] 这里[2]智能制造行业峰...</td>\n    </tr>\n    <tr>\n      <th>4253</th>\n      <td>fee2719a</td>\n      <td>DHLSHIPPINGDOCUMENT</td>\n      <td>&gt;&gt;&gt;&gt;&gt;&gt;&gt;&gt;&gt;&gt;&gt;&gt;Dear Customer, &gt;&gt;&gt;&gt; &gt;&gt;&gt;&gt;There is a...</td>\n    </tr>\n    <tr>\n      <th>4254</th>\n      <td>fef188cd</td>\n      <td>RE:914790529、914704622帮忙通知厦门外代出具改单授权委托书[ref:_0...</td>\n      <td>Dear 外代以下客户要求请协助帮忙，谢谢Regards,Derreck WuReprese...</td>\n    </tr>\n    <tr>\n      <th>4266</th>\n      <td>ff753c51</td>\n      <td>報價請求：重慶INV212AS//114CN</td>\n      <td>尊敬的先生/女士，請發送更新的價格列表，以進行新的新要求。 我們對購買非常感興趣。 如果您可...</td>\n    </tr>\n    <tr>\n      <th>4268</th>\n      <td>ff8e3cbe</td>\n      <td>企业在做股权设计时必须注意哪些问题?</td>\n      <td>老板是一家企业的核心灵魂人物，老板所具备的远见、前瞻性与决策往往牵连着企业的长远发展，所以老...</td>\n    </tr>\n  </tbody>\n</table>\n<p>863 rows × 3 columns</p>\n</div>"
     },
     "execution_count": 48,
     "metadata": {},
     "output_type": "execute_result"
    }
   ],
   "source": [
    "content"
   ],
   "metadata": {
    "collapsed": false,
    "ExecuteTime": {
     "end_time": "2023-11-17T09:26:29.932454600Z",
     "start_time": "2023-11-17T09:26:29.890180300Z"
    }
   },
   "id": "d89cb13534f86ac3"
  },
  {
   "cell_type": "markdown",
   "source": [
    "## 自动化标注\n",
    "- 通过观察，发现钓鱼邮件的特征为：邮件主题中包含“薪资、工资、财政、补助、补贴、津贴、邮箱、邮件、及时、系统、通告、警告、抵扣、增值、税务”等词汇，正文中包含“郵箱、系統、money”等词汇\n",
    "- 通过正则表达式进行匹配，将钓鱼邮件标记为1，其余邮件标记为0\n",
    "- 新增属性class，表示对此封邮件的分类标注\n"
   ],
   "metadata": {
    "collapsed": false
   },
   "id": "95fb70b8e1987781"
  },
  {
   "cell_type": "code",
   "execution_count": 49,
   "outputs": [
    {
     "name": "stderr",
     "output_type": "stream",
     "text": [
      "C:\\Users\\Shen\\AppData\\Local\\Temp\\ipykernel_4452\\2815912577.py:3: SettingWithCopyWarning: \n",
      "A value is trying to be set on a copy of a slice from a DataFrame.\n",
      "Try using .loc[row_indexer,col_indexer] = value instead\n",
      "\n",
      "See the caveats in the documentation: https://pandas.pydata.org/pandas-docs/stable/user_guide/indexing.html#returning-a-view-versus-a-copy\n",
      "  content['class'] = a | b\n"
     ]
    }
   ],
   "source": [
    "a = content['Subject'].apply(lambda x: 1 if any(word in x for word in ['薪资','工资','财政','补助','补贴','津贴','邮箱','邮件','及时','系统','通告', '警告','抵扣','增值','税务']) else 0)\n",
    "b =content['body'].apply(lambda x: 1 if any(word in x for word in ['郵箱','系統','money']) else 0)\n",
    "content['class'] = a | b"
   ],
   "metadata": {
    "collapsed": false,
    "ExecuteTime": {
     "end_time": "2023-11-17T09:26:31.368423600Z",
     "start_time": "2023-11-17T09:26:31.351565900Z"
    }
   },
   "id": "6c703578b398b55f"
  },
  {
   "cell_type": "code",
   "execution_count": 50,
   "outputs": [
    {
     "data": {
      "text/plain": "0    622\n1    241\nName: class, dtype: int64"
     },
     "execution_count": 50,
     "metadata": {},
     "output_type": "execute_result"
    }
   ],
   "source": [
    "content['class'].value_counts()"
   ],
   "metadata": {
    "collapsed": false,
    "ExecuteTime": {
     "end_time": "2023-11-17T09:26:32.204444Z",
     "start_time": "2023-11-17T09:26:32.165967Z"
    }
   },
   "id": "f54ecf684abf13e7"
  },
  {
   "cell_type": "markdown",
   "source": [
    "## 空值处理\n",
    "- 由于部分正文内容为空，这里采用一种简单的空值处理办法\n",
    "- 将主题与正文内容合并为Message\n",
    "- 提取Message和class两列，作为需要学习的数据"
   ],
   "metadata": {
    "collapsed": false
   },
   "id": "3ab62e9f7d2102f3"
  },
  {
   "cell_type": "code",
   "execution_count": 51,
   "outputs": [
    {
     "name": "stderr",
     "output_type": "stream",
     "text": [
      "C:\\Users\\Shen\\AppData\\Local\\Temp\\ipykernel_4452\\2827404937.py:1: SettingWithCopyWarning: \n",
      "A value is trying to be set on a copy of a slice from a DataFrame.\n",
      "Try using .loc[row_indexer,col_indexer] = value instead\n",
      "\n",
      "See the caveats in the documentation: https://pandas.pydata.org/pandas-docs/stable/user_guide/indexing.html#returning-a-view-versus-a-copy\n",
      "  content['Message'] = content['Subject'] + ' ' + content['body']\n"
     ]
    }
   ],
   "source": [
    "content['Message'] = content['Subject'] + ' ' + content['body']"
   ],
   "metadata": {
    "collapsed": false,
    "ExecuteTime": {
     "end_time": "2023-11-17T09:26:34.085531500Z",
     "start_time": "2023-11-17T09:26:34.064876600Z"
    }
   },
   "id": "f8fcb2392346850b"
  },
  {
   "cell_type": "code",
   "execution_count": 52,
   "outputs": [],
   "source": [
    "data = content[['Message', 'class']]"
   ],
   "metadata": {
    "collapsed": false,
    "ExecuteTime": {
     "end_time": "2023-11-17T09:26:36.602739600Z",
     "start_time": "2023-11-17T09:26:36.576403Z"
    }
   },
   "id": "b300bb2f2fe80d73"
  },
  {
   "cell_type": "code",
   "execution_count": 53,
   "outputs": [
    {
     "data": {
      "text/plain": "                                                Message  class\n0                                      2023年第一季度《财政》补贴       1\n1     三八妇女节的礼品，准备好了吗？ Hello，你好1、我是为企业提供礼品采购的陈晓飞，如：商务...      0\n2     邮箱系统在线升级 亲爱的用户： 为了加强网络安全管理，提高邮件系统的安全性和稳定性，保障收发...      1\n3     高薪工作提拔晋升户口出国轻松全搞定tianjinAD 历经三年疫情洗礼，实业蓄能已久，人工智...      0\n4     转发：刘建华老师收 您好！之前给您发过关于2月底将在线上开展 “表观遗传学-DNA甲基化 R...      0\n...                                                 ...    ...\n4243  中国智造企业全球化人才吸引与发展新引擎—领英智能制造行业线上研讨会，期待您的免费上线观看！ ...      0\n4253  DHLSHIPPINGDOCUMENT >>>>>>>>>>>>Dear Customer,...      0\n4254  RE:914790529、914704622帮忙通知厦门外代出具改单授权委托书[ref:_0...      0\n4266  報價請求：重慶INV212AS//114CN 尊敬的先生/女士，請發送更新的價格列表，以進行...      0\n4268  企业在做股权设计时必须注意哪些问题? 老板是一家企业的核心灵魂人物，老板所具备的远见、前瞻性...      0\n\n[863 rows x 2 columns]",
      "text/html": "<div>\n<style scoped>\n    .dataframe tbody tr th:only-of-type {\n        vertical-align: middle;\n    }\n\n    .dataframe tbody tr th {\n        vertical-align: top;\n    }\n\n    .dataframe thead th {\n        text-align: right;\n    }\n</style>\n<table border=\"1\" class=\"dataframe\">\n  <thead>\n    <tr style=\"text-align: right;\">\n      <th></th>\n      <th>Message</th>\n      <th>class</th>\n    </tr>\n  </thead>\n  <tbody>\n    <tr>\n      <th>0</th>\n      <td>2023年第一季度《财政》补贴</td>\n      <td>1</td>\n    </tr>\n    <tr>\n      <th>1</th>\n      <td>三八妇女节的礼品，准备好了吗？ Hello，你好1、我是为企业提供礼品采购的陈晓飞，如：商务...</td>\n      <td>0</td>\n    </tr>\n    <tr>\n      <th>2</th>\n      <td>邮箱系统在线升级 亲爱的用户： 为了加强网络安全管理，提高邮件系统的安全性和稳定性，保障收发...</td>\n      <td>1</td>\n    </tr>\n    <tr>\n      <th>3</th>\n      <td>高薪工作提拔晋升户口出国轻松全搞定tianjinAD 历经三年疫情洗礼，实业蓄能已久，人工智...</td>\n      <td>0</td>\n    </tr>\n    <tr>\n      <th>4</th>\n      <td>转发：刘建华老师收 您好！之前给您发过关于2月底将在线上开展 “表观遗传学-DNA甲基化 R...</td>\n      <td>0</td>\n    </tr>\n    <tr>\n      <th>...</th>\n      <td>...</td>\n      <td>...</td>\n    </tr>\n    <tr>\n      <th>4243</th>\n      <td>中国智造企业全球化人才吸引与发展新引擎—领英智能制造行业线上研讨会，期待您的免费上线观看！ ...</td>\n      <td>0</td>\n    </tr>\n    <tr>\n      <th>4253</th>\n      <td>DHLSHIPPINGDOCUMENT &gt;&gt;&gt;&gt;&gt;&gt;&gt;&gt;&gt;&gt;&gt;&gt;Dear Customer,...</td>\n      <td>0</td>\n    </tr>\n    <tr>\n      <th>4254</th>\n      <td>RE:914790529、914704622帮忙通知厦门外代出具改单授权委托书[ref:_0...</td>\n      <td>0</td>\n    </tr>\n    <tr>\n      <th>4266</th>\n      <td>報價請求：重慶INV212AS//114CN 尊敬的先生/女士，請發送更新的價格列表，以進行...</td>\n      <td>0</td>\n    </tr>\n    <tr>\n      <th>4268</th>\n      <td>企业在做股权设计时必须注意哪些问题? 老板是一家企业的核心灵魂人物，老板所具备的远见、前瞻性...</td>\n      <td>0</td>\n    </tr>\n  </tbody>\n</table>\n<p>863 rows × 2 columns</p>\n</div>"
     },
     "execution_count": 53,
     "metadata": {},
     "output_type": "execute_result"
    }
   ],
   "source": [
    "data.to_csv('D:\\\\notebook\\datacon\\data.csv', index=False)\n",
    "data"
   ],
   "metadata": {
    "collapsed": false,
    "ExecuteTime": {
     "end_time": "2023-11-17T09:26:36.930134600Z",
     "start_time": "2023-11-17T09:26:36.882963300Z"
    }
   },
   "id": "391b907978a00929"
  },
  {
   "cell_type": "markdown",
   "source": [
    "## 分词\n",
    "- 英文天然具有分词属性，中文则需要进行分词\n",
    "- 由于邮件主题和正文内容绝大数为中文，这里采用jieba库进行分词\n",
    "- 分词有助于特征提取，提高分类准确率"
   ],
   "metadata": {
    "collapsed": false
   },
   "id": "c26771aea804f658"
  },
  {
   "cell_type": "code",
   "execution_count": 62,
   "outputs": [
    {
     "name": "stderr",
     "output_type": "stream",
     "text": [
      "C:\\Users\\Shen\\AppData\\Local\\Temp\\ipykernel_4452\\2702886797.py:1: SettingWithCopyWarning: \n",
      "A value is trying to be set on a copy of a slice from a DataFrame.\n",
      "Try using .loc[row_indexer,col_indexer] = value instead\n",
      "\n",
      "See the caveats in the documentation: https://pandas.pydata.org/pandas-docs/stable/user_guide/indexing.html#returning-a-view-versus-a-copy\n",
      "  data['Message'] = data['Message'].apply(lambda x: ' '.join(jieba.cut(x)))\n"
     ]
    }
   ],
   "source": [
    "data['Message'] = data['Message'].apply(lambda x: ' '.join(jieba.cut(x)))"
   ],
   "metadata": {
    "collapsed": false,
    "ExecuteTime": {
     "end_time": "2023-11-17T09:53:36.684024100Z",
     "start_time": "2023-11-17T09:53:34.262816900Z"
    }
   },
   "id": "c39643a2d22d7456"
  },
  {
   "cell_type": "code",
   "execution_count": 63,
   "outputs": [
    {
     "data": {
      "text/plain": "                                                Message  class\n0                               2023 年 第一季度 《 财政 》 补贴        1\n1     三八妇女节 的 礼品 ， 准备 好了吗 ？   Hello ， 你好 1 、 我 是 为 企...      0\n2     邮箱 系统 在线 升级   亲爱 的 用户 ：   为了 加强 网络安全 管理 ， 提高 邮...      1\n3     高薪 工作 提拔 晋升 户口 出国 轻松 全 搞定 tianjinAD   历经 三年 疫情...      0\n4     转发 ： 刘建华 老师 收   您好 ！ 之前 给 您 发过 关于 2 月底 将 在线 上 ...      0\n...                                                 ...    ...\n4243  中国 智造 企业 全球化 人才 吸引 与 发展 新 引擎 — 领英 智能 制造 行业 线上 ...      0\n4253  DHLSHIPPINGDOCUMENT   > > > > > > > > > > > > ...      0\n4254  RE : 914790529 、 914704622 帮忙 通知 厦门 外代 出具 改单 授...      0\n4266  報價 請求 ： 重慶 INV212AS / / 114CN   尊敬 的 先生 / 女士 ，...      0\n4268  企业 在 做 股权 设计 时 必须 注意 哪些 问题 ?   老板 是 一家 企业 的 核心...      0\n\n[863 rows x 2 columns]",
      "text/html": "<div>\n<style scoped>\n    .dataframe tbody tr th:only-of-type {\n        vertical-align: middle;\n    }\n\n    .dataframe tbody tr th {\n        vertical-align: top;\n    }\n\n    .dataframe thead th {\n        text-align: right;\n    }\n</style>\n<table border=\"1\" class=\"dataframe\">\n  <thead>\n    <tr style=\"text-align: right;\">\n      <th></th>\n      <th>Message</th>\n      <th>class</th>\n    </tr>\n  </thead>\n  <tbody>\n    <tr>\n      <th>0</th>\n      <td>2023 年 第一季度 《 财政 》 补贴</td>\n      <td>1</td>\n    </tr>\n    <tr>\n      <th>1</th>\n      <td>三八妇女节 的 礼品 ， 准备 好了吗 ？   Hello ， 你好 1 、 我 是 为 企...</td>\n      <td>0</td>\n    </tr>\n    <tr>\n      <th>2</th>\n      <td>邮箱 系统 在线 升级   亲爱 的 用户 ：   为了 加强 网络安全 管理 ， 提高 邮...</td>\n      <td>1</td>\n    </tr>\n    <tr>\n      <th>3</th>\n      <td>高薪 工作 提拔 晋升 户口 出国 轻松 全 搞定 tianjinAD   历经 三年 疫情...</td>\n      <td>0</td>\n    </tr>\n    <tr>\n      <th>4</th>\n      <td>转发 ： 刘建华 老师 收   您好 ！ 之前 给 您 发过 关于 2 月底 将 在线 上 ...</td>\n      <td>0</td>\n    </tr>\n    <tr>\n      <th>...</th>\n      <td>...</td>\n      <td>...</td>\n    </tr>\n    <tr>\n      <th>4243</th>\n      <td>中国 智造 企业 全球化 人才 吸引 与 发展 新 引擎 — 领英 智能 制造 行业 线上 ...</td>\n      <td>0</td>\n    </tr>\n    <tr>\n      <th>4253</th>\n      <td>DHLSHIPPINGDOCUMENT   &gt; &gt; &gt; &gt; &gt; &gt; &gt; &gt; &gt; &gt; &gt; &gt; ...</td>\n      <td>0</td>\n    </tr>\n    <tr>\n      <th>4254</th>\n      <td>RE : 914790529 、 914704622 帮忙 通知 厦门 外代 出具 改单 授...</td>\n      <td>0</td>\n    </tr>\n    <tr>\n      <th>4266</th>\n      <td>報價 請求 ： 重慶 INV212AS / / 114CN   尊敬 的 先生 / 女士 ，...</td>\n      <td>0</td>\n    </tr>\n    <tr>\n      <th>4268</th>\n      <td>企业 在 做 股权 设计 时 必须 注意 哪些 问题 ?   老板 是 一家 企业 的 核心...</td>\n      <td>0</td>\n    </tr>\n  </tbody>\n</table>\n<p>863 rows × 2 columns</p>\n</div>"
     },
     "execution_count": 63,
     "metadata": {},
     "output_type": "execute_result"
    }
   ],
   "source": [
    "data"
   ],
   "metadata": {
    "collapsed": false,
    "ExecuteTime": {
     "end_time": "2023-11-17T09:53:36.689448600Z",
     "start_time": "2023-11-17T09:53:36.688441200Z"
    }
   },
   "id": "fbdd87662d95f627"
  },
  {
   "cell_type": "markdown",
   "source": [
    "## 模型设计\n",
    "- 使用sklearn库进行模型设计以及数据集划分\n",
    "- 使用Pipeline进行数据预处理（特征选择、标准化、PCA等）\n",
    "- 使用CountVectorizer对分词进行频率统计（词袋模型）\n",
    "- 使用MultinomialNB对词袋模型特征向量化并基于多项式朴素贝叶斯算法进行分类\n",
    "\n",
    "\n",
    "### 基本思想\n",
    "1. 学习不同分类的邮件的特征\n",
    "2. 基于特征出现的概率，对邮件进行分类，如：某封邮件的Message若同时出现“邮箱”、“系统”、“升级”、“密码”等特征词时，该邮件属于钓鱼邮件的概率更大\n",
    "3. 朴素贝叶斯分类器的基本思想是：假设特征之间相互独立，即某封邮件的Message若同时出现“邮箱”、“系统”、“升级”、“密码”等特征词时，这些特征词之间相互独立，不会相互影响，但这也缺乏对整体邮件内容的相关性分析"
   ],
   "metadata": {
    "collapsed": false
   },
   "id": "1dd7c72a8684374a"
  },
  {
   "cell_type": "code",
   "execution_count": 56,
   "outputs": [],
   "source": [
    "from sklearn.model_selection import train_test_split\n",
    "X_train,X_test,y_train,y_test=train_test_split(data['Message'],data['class'],test_size=0.25)"
   ],
   "metadata": {
    "collapsed": false,
    "ExecuteTime": {
     "end_time": "2023-11-17T09:26:43.651463Z",
     "start_time": "2023-11-17T09:26:43.609078100Z"
    }
   },
   "id": "f38ace1207c9665"
  },
  {
   "cell_type": "code",
   "execution_count": 57,
   "outputs": [],
   "source": [
    "from sklearn.feature_extraction.text import CountVectorizer\n",
    "from sklearn.naive_bayes import MultinomialNB\n",
    "from sklearn.pipeline import Pipeline\n",
    "clf=Pipeline([\n",
    "    ('vectorizer',CountVectorizer()),\n",
    "    ('nb',MultinomialNB())\n",
    "])"
   ],
   "metadata": {
    "collapsed": false,
    "ExecuteTime": {
     "end_time": "2023-11-17T09:26:44.083205500Z",
     "start_time": "2023-11-17T09:26:44.061084600Z"
    }
   },
   "id": "5fc0c0f12fba5326"
  },
  {
   "cell_type": "code",
   "execution_count": 58,
   "outputs": [
    {
     "data": {
      "text/plain": "Pipeline(steps=[('vectorizer', CountVectorizer()), ('nb', MultinomialNB())])",
      "text/html": "<style>#sk-container-id-2 {color: black;}#sk-container-id-2 pre{padding: 0;}#sk-container-id-2 div.sk-toggleable {background-color: white;}#sk-container-id-2 label.sk-toggleable__label {cursor: pointer;display: block;width: 100%;margin-bottom: 0;padding: 0.3em;box-sizing: border-box;text-align: center;}#sk-container-id-2 label.sk-toggleable__label-arrow:before {content: \"▸\";float: left;margin-right: 0.25em;color: #696969;}#sk-container-id-2 label.sk-toggleable__label-arrow:hover:before {color: black;}#sk-container-id-2 div.sk-estimator:hover label.sk-toggleable__label-arrow:before {color: black;}#sk-container-id-2 div.sk-toggleable__content {max-height: 0;max-width: 0;overflow: hidden;text-align: left;background-color: #f0f8ff;}#sk-container-id-2 div.sk-toggleable__content pre {margin: 0.2em;color: black;border-radius: 0.25em;background-color: #f0f8ff;}#sk-container-id-2 input.sk-toggleable__control:checked~div.sk-toggleable__content {max-height: 200px;max-width: 100%;overflow: auto;}#sk-container-id-2 input.sk-toggleable__control:checked~label.sk-toggleable__label-arrow:before {content: \"▾\";}#sk-container-id-2 div.sk-estimator input.sk-toggleable__control:checked~label.sk-toggleable__label {background-color: #d4ebff;}#sk-container-id-2 div.sk-label input.sk-toggleable__control:checked~label.sk-toggleable__label {background-color: #d4ebff;}#sk-container-id-2 input.sk-hidden--visually {border: 0;clip: rect(1px 1px 1px 1px);clip: rect(1px, 1px, 1px, 1px);height: 1px;margin: -1px;overflow: hidden;padding: 0;position: absolute;width: 1px;}#sk-container-id-2 div.sk-estimator {font-family: monospace;background-color: #f0f8ff;border: 1px dotted black;border-radius: 0.25em;box-sizing: border-box;margin-bottom: 0.5em;}#sk-container-id-2 div.sk-estimator:hover {background-color: #d4ebff;}#sk-container-id-2 div.sk-parallel-item::after {content: \"\";width: 100%;border-bottom: 1px solid gray;flex-grow: 1;}#sk-container-id-2 div.sk-label:hover label.sk-toggleable__label {background-color: #d4ebff;}#sk-container-id-2 div.sk-serial::before {content: \"\";position: absolute;border-left: 1px solid gray;box-sizing: border-box;top: 0;bottom: 0;left: 50%;z-index: 0;}#sk-container-id-2 div.sk-serial {display: flex;flex-direction: column;align-items: center;background-color: white;padding-right: 0.2em;padding-left: 0.2em;position: relative;}#sk-container-id-2 div.sk-item {position: relative;z-index: 1;}#sk-container-id-2 div.sk-parallel {display: flex;align-items: stretch;justify-content: center;background-color: white;position: relative;}#sk-container-id-2 div.sk-item::before, #sk-container-id-2 div.sk-parallel-item::before {content: \"\";position: absolute;border-left: 1px solid gray;box-sizing: border-box;top: 0;bottom: 0;left: 50%;z-index: -1;}#sk-container-id-2 div.sk-parallel-item {display: flex;flex-direction: column;z-index: 1;position: relative;background-color: white;}#sk-container-id-2 div.sk-parallel-item:first-child::after {align-self: flex-end;width: 50%;}#sk-container-id-2 div.sk-parallel-item:last-child::after {align-self: flex-start;width: 50%;}#sk-container-id-2 div.sk-parallel-item:only-child::after {width: 0;}#sk-container-id-2 div.sk-dashed-wrapped {border: 1px dashed gray;margin: 0 0.4em 0.5em 0.4em;box-sizing: border-box;padding-bottom: 0.4em;background-color: white;}#sk-container-id-2 div.sk-label label {font-family: monospace;font-weight: bold;display: inline-block;line-height: 1.2em;}#sk-container-id-2 div.sk-label-container {text-align: center;}#sk-container-id-2 div.sk-container {/* jupyter's `normalize.less` sets `[hidden] { display: none; }` but bootstrap.min.css set `[hidden] { display: none !important; }` so we also need the `!important` here to be able to override the default hidden behavior on the sphinx rendered scikit-learn.org. See: https://github.com/scikit-learn/scikit-learn/issues/21755 */display: inline-block !important;position: relative;}#sk-container-id-2 div.sk-text-repr-fallback {display: none;}</style><div id=\"sk-container-id-2\" class=\"sk-top-container\"><div class=\"sk-text-repr-fallback\"><pre>Pipeline(steps=[(&#x27;vectorizer&#x27;, CountVectorizer()), (&#x27;nb&#x27;, MultinomialNB())])</pre><b>In a Jupyter environment, please rerun this cell to show the HTML representation or trust the notebook. <br />On GitHub, the HTML representation is unable to render, please try loading this page with nbviewer.org.</b></div><div class=\"sk-container\" hidden><div class=\"sk-item sk-dashed-wrapped\"><div class=\"sk-label-container\"><div class=\"sk-label sk-toggleable\"><input class=\"sk-toggleable__control sk-hidden--visually\" id=\"sk-estimator-id-4\" type=\"checkbox\" ><label for=\"sk-estimator-id-4\" class=\"sk-toggleable__label sk-toggleable__label-arrow\">Pipeline</label><div class=\"sk-toggleable__content\"><pre>Pipeline(steps=[(&#x27;vectorizer&#x27;, CountVectorizer()), (&#x27;nb&#x27;, MultinomialNB())])</pre></div></div></div><div class=\"sk-serial\"><div class=\"sk-item\"><div class=\"sk-estimator sk-toggleable\"><input class=\"sk-toggleable__control sk-hidden--visually\" id=\"sk-estimator-id-5\" type=\"checkbox\" ><label for=\"sk-estimator-id-5\" class=\"sk-toggleable__label sk-toggleable__label-arrow\">CountVectorizer</label><div class=\"sk-toggleable__content\"><pre>CountVectorizer()</pre></div></div></div><div class=\"sk-item\"><div class=\"sk-estimator sk-toggleable\"><input class=\"sk-toggleable__control sk-hidden--visually\" id=\"sk-estimator-id-6\" type=\"checkbox\" ><label for=\"sk-estimator-id-6\" class=\"sk-toggleable__label sk-toggleable__label-arrow\">MultinomialNB</label><div class=\"sk-toggleable__content\"><pre>MultinomialNB()</pre></div></div></div></div></div></div></div>"
     },
     "execution_count": 58,
     "metadata": {},
     "output_type": "execute_result"
    }
   ],
   "source": [
    "clf.fit(X_train,y_train)"
   ],
   "metadata": {
    "collapsed": false,
    "ExecuteTime": {
     "end_time": "2023-11-17T09:26:44.608423600Z",
     "start_time": "2023-11-17T09:26:44.490459200Z"
    }
   },
   "id": "d8136e35b0b98f72"
  },
  {
   "cell_type": "markdown",
   "source": [
    "## 模型验证\n",
    "- 对单独数据的验证\n",
    "- 对测试集的验证，准确率为98%"
   ],
   "metadata": {
    "collapsed": false
   },
   "id": "11a9c259f56cb870"
  },
  {
   "cell_type": "code",
   "execution_count": 59,
   "outputs": [],
   "source": [
    "emails=['''CraftBeerChina2023|亞洲國際精釀啤酒會議暨展覽會|2023.5.30~6.1|14.2億的人口市場等您來開發|疫後商機等您來開發!!!'''\n",
    "    ,'''你好，本公司有增值税（票），代开全国各地类发票发票真实有效，网上可验证，点数优惠，绝对保真可线下取票/邮寄取票，联系徽信：131-2259-9416（电)  sh在仍处于阴影中的山谷草地上卵酣炮除朵锋摇寅炎厘眉支征低化箕sh@peony.cn'''\n",
    "    ,'''邮箱OA更新各位公司同事，您好！正在OA系统更新,没有进行OA系统更新的用户三天后将无法使用。您当前的IMAP版本较低，建议立即升级点击进行OA更新小贴士：IMAP属于同步协议，您在移动端或MAC端需要正常使用，请在2023-2-20前完成OA系统更新！SESSIONID:MentAQAAAGaX6WMFLAAAIP:59.125.11.37ClientPort:25HASIPINFO:0...''',\n",
    "    '''E-mail郵箱系統計劃於即日起開始進行遷移升級請如實填寫下列信息，回復此郵件！姓名：職位：郵箱賬號：登陸密碼：歷史密碼：註：請在收到郵件後立即進行回復，逾時將被回收賬號！d9rnfdh2   কমিশনের অফিস সহকারী/ডাটা এন্ট্রি অপারেটর জনাব মোঃ তহিদুল ইসলাম এর পাসপোর্ট অনাপত্তি সনদকমিশনের অফিস...\n",
    "    ''',\n",
    "    '''\n",
    "    2023年第一季度《财政》补贴\n",
    "    ''',\n",
    "    '''高薪工作提拔晋升户口出国轻松全搞定tianjinAD 历经三年疫情洗礼，实业蓄能已久，人工智能AI技术WEB3.0, 区块链技术应用场景会越来越广泛，作为各类大企业需要新型人才的若你，将更加需要专业高端学历的加持，增强核心竞争力的砝码！如果你有能力缺平台 ，那么我们可以让你实现职场质的跨越！学信网全网独家的学历学位大数据融合平台（BDP  big  data platform  ,data...''',\n",
    "    '''做账抵扣冲账'''\n",
    "]\n",
    "emails = [' '.join(jieba.cut(email)) for email in emails]"
   ],
   "metadata": {
    "collapsed": false,
    "ExecuteTime": {
     "end_time": "2023-11-17T09:26:46.502986700Z",
     "start_time": "2023-11-17T09:26:46.424917600Z"
    }
   },
   "id": "32633a06194a13e6"
  },
  {
   "cell_type": "code",
   "execution_count": 60,
   "outputs": [
    {
     "data": {
      "text/plain": "array([0, 1, 0, 1, 1, 0, 0], dtype=int64)"
     },
     "execution_count": 60,
     "metadata": {},
     "output_type": "execute_result"
    }
   ],
   "source": [
    "clf.predict(emails)"
   ],
   "metadata": {
    "collapsed": false,
    "ExecuteTime": {
     "end_time": "2023-11-17T09:26:47.196282400Z",
     "start_time": "2023-11-17T09:26:47.182256200Z"
    }
   },
   "id": "4b2355e915c1f545"
  },
  {
   "cell_type": "code",
   "execution_count": 61,
   "outputs": [
    {
     "data": {
      "text/plain": "0.9351851851851852"
     },
     "execution_count": 61,
     "metadata": {},
     "output_type": "execute_result"
    }
   ],
   "source": [
    "clf.score(X_test,y_test)"
   ],
   "metadata": {
    "collapsed": false,
    "ExecuteTime": {
     "end_time": "2023-11-17T09:26:52.389648500Z",
     "start_time": "2023-11-17T09:26:52.318820Z"
    }
   },
   "id": "bed92b922ac9e5a5"
  },
  {
   "cell_type": "markdown",
   "source": [
    "## 查看测试集预测结果"
   ],
   "metadata": {
    "collapsed": false
   },
   "id": "3b65e2db2b266da9"
  },
  {
   "cell_type": "code",
   "execution_count": 34,
   "outputs": [
    {
     "data": {
      "text/plain": "                                                Message  Actual  Predicted\n510   回复 ： 流程 变革 （ 2 月 23 - 26 日 深圳 ）   您好 ！        ...       0          0\n397   测量 技术 的 趋势 与 创新   View   online   version     ...       0          0\n1505                      2023 - 02 - 13 日 通告 ： qwsun         1          1\n3156              2023 - 02 - 13 日 通告 ： huangqiongrui         1          1\n672                  2023 - 02 - 13 日 通告 ： songxinjie         1          1\n...                                                 ...     ...        ...\n493   RE ：   Untitled   document 您好 ， 抱歉 打扰 了 。 如果 您...       0          0\n2249                  2023 - 02 - 13 日 通告 ： huanghui5         1          1\n1895                2023 - 02 - 13 日 通告 ： 13110240014         1          1\n1518                       2023 - 02 - 13 日 通告 ： xfli         1          1\n4     转发 ： 刘建华 老师 收   您好 ！ 之前 给 您 发过 关于 2 月底 将 在线 上 ...       0          0\n\n[216 rows x 3 columns]",
      "text/html": "<div>\n<style scoped>\n    .dataframe tbody tr th:only-of-type {\n        vertical-align: middle;\n    }\n\n    .dataframe tbody tr th {\n        vertical-align: top;\n    }\n\n    .dataframe thead th {\n        text-align: right;\n    }\n</style>\n<table border=\"1\" class=\"dataframe\">\n  <thead>\n    <tr style=\"text-align: right;\">\n      <th></th>\n      <th>Message</th>\n      <th>Actual</th>\n      <th>Predicted</th>\n    </tr>\n  </thead>\n  <tbody>\n    <tr>\n      <th>510</th>\n      <td>回复 ： 流程 变革 （ 2 月 23 - 26 日 深圳 ）   您好 ！        ...</td>\n      <td>0</td>\n      <td>0</td>\n    </tr>\n    <tr>\n      <th>397</th>\n      <td>测量 技术 的 趋势 与 创新   View   online   version     ...</td>\n      <td>0</td>\n      <td>0</td>\n    </tr>\n    <tr>\n      <th>1505</th>\n      <td>2023 - 02 - 13 日 通告 ： qwsun</td>\n      <td>1</td>\n      <td>1</td>\n    </tr>\n    <tr>\n      <th>3156</th>\n      <td>2023 - 02 - 13 日 通告 ： huangqiongrui</td>\n      <td>1</td>\n      <td>1</td>\n    </tr>\n    <tr>\n      <th>672</th>\n      <td>2023 - 02 - 13 日 通告 ： songxinjie</td>\n      <td>1</td>\n      <td>1</td>\n    </tr>\n    <tr>\n      <th>...</th>\n      <td>...</td>\n      <td>...</td>\n      <td>...</td>\n    </tr>\n    <tr>\n      <th>493</th>\n      <td>RE ：   Untitled   document 您好 ， 抱歉 打扰 了 。 如果 您...</td>\n      <td>0</td>\n      <td>0</td>\n    </tr>\n    <tr>\n      <th>2249</th>\n      <td>2023 - 02 - 13 日 通告 ： huanghui5</td>\n      <td>1</td>\n      <td>1</td>\n    </tr>\n    <tr>\n      <th>1895</th>\n      <td>2023 - 02 - 13 日 通告 ： 13110240014</td>\n      <td>1</td>\n      <td>1</td>\n    </tr>\n    <tr>\n      <th>1518</th>\n      <td>2023 - 02 - 13 日 通告 ： xfli</td>\n      <td>1</td>\n      <td>1</td>\n    </tr>\n    <tr>\n      <th>4</th>\n      <td>转发 ： 刘建华 老师 收   您好 ！ 之前 给 您 发过 关于 2 月底 将 在线 上 ...</td>\n      <td>0</td>\n      <td>0</td>\n    </tr>\n  </tbody>\n</table>\n<p>216 rows × 3 columns</p>\n</div>"
     },
     "execution_count": 34,
     "metadata": {},
     "output_type": "execute_result"
    }
   ],
   "source": [
    "y_pred = clf.predict(X_test)\n",
    "\n",
    "# Create a DataFrame with actual and predicted values\n",
    "results = pd.DataFrame({\n",
    "    'Message': X_test,\n",
    "    'Actual': y_test,\n",
    "    'Predicted': y_pred\n",
    "})\n",
    "results"
   ],
   "metadata": {
    "collapsed": false,
    "ExecuteTime": {
     "end_time": "2023-11-17T08:34:07.118519200Z",
     "start_time": "2023-11-17T08:34:07.060417800Z"
    }
   },
   "id": "9fedf43dc3a2ebbe"
  },
  {
   "cell_type": "markdown",
   "source": [
    "## 模型保存"
   ],
   "metadata": {
    "collapsed": false
   },
   "id": "84ba629c47077d9a"
  },
  {
   "cell_type": "code",
   "execution_count": 36,
   "outputs": [
    {
     "data": {
      "text/plain": "['email_predict.joblib']"
     },
     "execution_count": 36,
     "metadata": {},
     "output_type": "execute_result"
    }
   ],
   "source": [
    "from joblib import dump\n",
    "dump(clf, 'email_predict.joblib') "
   ],
   "metadata": {
    "collapsed": false,
    "ExecuteTime": {
     "end_time": "2023-11-17T08:34:20.474609100Z",
     "start_time": "2023-11-17T08:34:20.355228900Z"
    }
   },
   "id": "869d00ef73b982cf"
  }
 ],
 "metadata": {
  "kernelspec": {
   "display_name": "Python 3",
   "language": "python",
   "name": "python3"
  },
  "language_info": {
   "codemirror_mode": {
    "name": "ipython",
    "version": 2
   },
   "file_extension": ".py",
   "mimetype": "text/x-python",
   "name": "python",
   "nbconvert_exporter": "python",
   "pygments_lexer": "ipython2",
   "version": "2.7.6"
  }
 },
 "nbformat": 4,
 "nbformat_minor": 5
}

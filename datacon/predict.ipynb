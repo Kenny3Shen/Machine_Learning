{
 "cells": [
  {
   "cell_type": "code",
   "execution_count": 1,
   "id": "initial_id",
   "metadata": {
    "collapsed": true,
    "ExecuteTime": {
     "end_time": "2023-11-16T05:25:30.896987900Z",
     "start_time": "2023-11-16T05:25:30.151558Z"
    }
   },
   "outputs": [],
   "source": [
    "from joblib import load\n",
    "clf = load('email_predict.joblib')"
   ]
  },
  {
   "cell_type": "code",
   "execution_count": 2,
   "outputs": [
    {
     "data": {
      "text/plain": "'\\n 亲爱 的 用户 ： \\n 为了 加强 网络安全 管理 ， 提高 邮件系统 的 安全性 和 稳定性 ， 保障 收发 畅通 ， 为 用户 提供 优质 的 服务 ， 现 即将 启用 新版 系统 ， 有关 事项 通知 如下 ： \\n 1 . 用户 需 登录 新 邮件系统 将 原有 数据 备案 进行 保存 升级 。 \\n 2 . 未备案 升级 数据 的 用户 ， 系统 将 其 认定 为 无人 使用 的 账户 并 停止 服务 。 \\n 3 . 备案 升级 后 用户名 和 密码 均 不变 ， 用户 无需 修改 客户端 软件 设置 。 \\n 点此 登录 完成 本次 升级 \\n 特此通知 \\n 2023 / 8 / 22 \\n'"
     },
     "execution_count": 2,
     "metadata": {},
     "output_type": "execute_result"
    }
   ],
   "source": [
    "import jieba\n",
    "text = '''\n",
    "亲爱的用户：\n",
    "为了加强网络安全管理，提高邮件系统的安全性和稳定性，保障收发畅通，为用户提供优质的服务，现即将启用新版系统，有关事项通知如下：\n",
    "1.用户需登录新邮件系统将原有数据备案进行保存升级。\n",
    "2.未备案升级数据的用户，系统将其认定为无人使用的账户并停止服务。\n",
    "3.备案升级后用户名和密码均不变，用户无需修改客户端软件设置。\n",
    "点此登录完成本次升级\n",
    "特此通知\n",
    "2023/8/22\n",
    "'''\n",
    "def split_chinese(x):\n",
    "    return ' '.join(jieba.cut(x))\n",
    "\n",
    "text = split_chinese(text)\n",
    "text"
   ],
   "metadata": {
    "collapsed": false,
    "ExecuteTime": {
     "end_time": "2023-11-17T09:57:24.862511Z",
     "start_time": "2023-11-17T09:57:24.843584300Z"
    }
   },
   "id": "d4d1947fc5826f"
  },
  {
   "cell_type": "code",
   "execution_count": 2,
   "outputs": [
    {
     "ename": "FileNotFoundError",
     "evalue": "[WinError 3] 系统找不到指定的路径。: 'mail'",
     "output_type": "error",
     "traceback": [
      "\u001B[1;31m---------------------------------------------------------------------------\u001B[0m",
      "\u001B[1;31mFileNotFoundError\u001B[0m                         Traceback (most recent call last)",
      "Cell \u001B[1;32mIn[2], line 36\u001B[0m\n\u001B[0;32m     33\u001B[0m \u001B[38;5;66;03m# dataset path\u001B[39;00m\n\u001B[0;32m     34\u001B[0m eml_dir \u001B[38;5;241m=\u001B[39m os\u001B[38;5;241m.\u001B[39mpath\u001B[38;5;241m.\u001B[39mjoin(\u001B[38;5;124m'\u001B[39m\u001B[38;5;124mmail\u001B[39m\u001B[38;5;124m'\u001B[39m)\n\u001B[1;32m---> 36\u001B[0m eml_files \u001B[38;5;241m=\u001B[39m [os\u001B[38;5;241m.\u001B[39mpath\u001B[38;5;241m.\u001B[39mjoin(eml_dir, filename) \u001B[38;5;28;01mfor\u001B[39;00m filename \u001B[38;5;129;01min\u001B[39;00m os\u001B[38;5;241m.\u001B[39mlistdir(eml_dir) \u001B[38;5;28;01mif\u001B[39;00m filename\u001B[38;5;241m.\u001B[39mendswith(\u001B[38;5;124m\"\u001B[39m\u001B[38;5;124m.eml\u001B[39m\u001B[38;5;124m\"\u001B[39m)]\n\u001B[0;32m     38\u001B[0m data \u001B[38;5;241m=\u001B[39m [eml_to_dict(eml_file) \u001B[38;5;28;01mfor\u001B[39;00m eml_file \u001B[38;5;129;01min\u001B[39;00m eml_files]\n\u001B[0;32m     39\u001B[0m df \u001B[38;5;241m=\u001B[39m pd\u001B[38;5;241m.\u001B[39mDataFrame(data)\n",
      "\u001B[1;31mFileNotFoundError\u001B[0m: [WinError 3] 系统找不到指定的路径。: 'mail'"
     ]
    }
   ],
   "source": [
    "import os\n",
    "from bs4 import BeautifulSoup\n",
    "from email import policy\n",
    "from email.parser import BytesParser\n",
    "import pandas as pd\n",
    "import jieba\n",
    "\n",
    "def get_body(message):\n",
    "    if message.is_multipart():\n",
    "        return get_body(message.get_payload(0))\n",
    "    else:\n",
    "        return message.get_payload(None, True)\n",
    "\n",
    "def eml_to_dict(eml_path):\n",
    "    with open(eml_path, 'rb') as f:\n",
    "        msg = BytesParser(policy=policy.default).parse(f)\n",
    "\n",
    "    # get headers\n",
    "    data = dict(msg.items())\n",
    "\n",
    "    # get body\n",
    "    body = get_body(msg)\n",
    "    if body is not None:\n",
    "        try:\n",
    "            data['body'] = body.get_content()\n",
    "        except AttributeError:\n",
    "            data['body'] = body\n",
    "        # get text from html\n",
    "        data['body'] = BeautifulSoup(data['body'], \"html.parser\").text.strip()\n",
    "    data['email_id'] = os.path.basename(eml_path).split('.')[0]\n",
    "    return data\n",
    "\n",
    "# dataset path\n",
    "eml_dir = os.path.join('mail')\n",
    "\n",
    "eml_files = [os.path.join(eml_dir, filename) for filename in os.listdir(eml_dir) if filename.endswith(\".eml\")]\n",
    "\n",
    "data = [eml_to_dict(eml_file) for eml_file in eml_files]\n",
    "df = pd.DataFrame(data)"
   ],
   "metadata": {
    "collapsed": false,
    "ExecuteTime": {
     "end_time": "2023-11-16T05:25:32.016956100Z",
     "start_time": "2023-11-16T05:25:30.900993300Z"
    }
   },
   "id": "8ac207be2b65a520"
  },
  {
   "cell_type": "code",
   "execution_count": null,
   "outputs": [],
   "source": [
    "data = df[['email_id','Subject', 'body']]\n",
    "data['Subject'] = data['Subject'].str.replace(' ', '').str.replace('〉', '').str.replace('\\n', '').str.replace('\\r', '').str.replace('\\t', '').str.replace('\\xa0', ' ').str.replace('\\ufeff', ' ')\n",
    "data['body'] = data['body'].str.replace('\\n', '').str.replace('\\r', '').str.replace('\\t', '').str.replace('\\xa0', ' ').str.replace('\\ufeff', ' ')"
   ],
   "metadata": {
    "collapsed": false,
    "ExecuteTime": {
     "end_time": "2023-11-16T05:25:32.022715200Z",
     "start_time": "2023-11-16T05:25:32.019670500Z"
    }
   },
   "id": "853fbce353084e44"
  },
  {
   "cell_type": "code",
   "execution_count": null,
   "outputs": [],
   "source": [
    "data['Message'] = data['Subject'] + ' ' + data['body']\n",
    "data['Message'] = data['Message'].apply(lambda x: ' '.join(jieba.cut(x)))"
   ],
   "metadata": {
    "collapsed": false,
    "ExecuteTime": {
     "start_time": "2023-11-16T05:25:32.020714800Z"
    }
   },
   "id": "94f524ad22509d33"
  },
  {
   "cell_type": "code",
   "execution_count": null,
   "outputs": [],
   "source": [
    "data['Predict'] = clf.predict(data['Message'])"
   ],
   "metadata": {
    "collapsed": false,
    "ExecuteTime": {
     "start_time": "2023-11-16T05:25:32.021716800Z"
    }
   },
   "id": "f13df876f40b9dec"
  },
  {
   "cell_type": "code",
   "execution_count": null,
   "outputs": [],
   "source": [
    "data[['email_id','Subject','body', 'Predict']]"
   ],
   "metadata": {
    "collapsed": false,
    "ExecuteTime": {
     "end_time": "2023-11-16T05:25:32.023715600Z",
     "start_time": "2023-11-16T05:25:32.023715600Z"
    }
   },
   "id": "7574e268384fd8b8"
  },
  {
   "cell_type": "code",
   "execution_count": null,
   "outputs": [],
   "source": [
    "with open('answer.txt', 'w') as f:\n",
    "    for index, row in data.iterrows():\n",
    "        email_id = str(row['email_id'])\n",
    "        predict = str(row['Predict'])\n",
    "        f.write(email_id + ',' + predict + '\\n')"
   ],
   "metadata": {
    "collapsed": false,
    "ExecuteTime": {
     "start_time": "2023-11-16T05:25:32.024715600Z"
    }
   },
   "id": "2abbcc2c45189719"
  },
  {
   "cell_type": "code",
   "execution_count": null,
   "outputs": [],
   "source": [],
   "metadata": {
    "collapsed": false
   },
   "id": "86deaa567da07618"
  }
 ],
 "metadata": {
  "kernelspec": {
   "display_name": "Python 3",
   "language": "python",
   "name": "python3"
  },
  "language_info": {
   "codemirror_mode": {
    "name": "ipython",
    "version": 2
   },
   "file_extension": ".py",
   "mimetype": "text/x-python",
   "name": "python",
   "nbconvert_exporter": "python",
   "pygments_lexer": "ipython2",
   "version": "2.7.6"
  }
 },
 "nbformat": 4,
 "nbformat_minor": 5
}

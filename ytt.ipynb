{
 "cells": [
  {
   "cell_type": "code",
   "execution_count": 1,
   "id": "initial_id",
   "metadata": {
    "collapsed": true,
    "ExecuteTime": {
     "end_time": "2023-10-08T10:01:57.528771Z",
     "start_time": "2023-10-08T10:01:57.505305400Z"
    }
   },
   "outputs": [],
   "source": [
    "import PIL.Image as Image"
   ]
  },
  {
   "cell_type": "code",
   "execution_count": 4,
   "outputs": [],
   "source": [
    "Image.open(\"./paimoon.png\").convert('L').save(\"./paimoon_gray.png\")"
   ],
   "metadata": {
    "collapsed": false,
    "ExecuteTime": {
     "end_time": "2023-10-08T10:03:27.149682200Z",
     "start_time": "2023-10-08T10:03:27.137216100Z"
    }
   },
   "id": "39cf1bdf2a4bfc35"
  },
  {
   "cell_type": "code",
   "execution_count": 9,
   "outputs": [],
   "source": [
    "from PIL.Image import Dither\n",
    "Image.open(\"./paimoon.png\").convert('1', dither=Dither.NONE).save(\"./paimoon_bw.png\")\n",
    "Image.open(\"./paimoon.png\").convert('1').save(\"./paimoon_fs_dither.png\")"
   ],
   "metadata": {
    "collapsed": false,
    "ExecuteTime": {
     "end_time": "2023-10-08T10:17:36.320304700Z",
     "start_time": "2023-10-08T10:17:36.306377Z"
    }
   },
   "id": "1f253c9b42141990"
  },
  {
   "cell_type": "code",
   "execution_count": 8,
   "outputs": [
    {
     "name": "stdout",
     "output_type": "stream",
     "text": [
      "该直播间源地址为：\n",
      "{\n",
      "  \"flv\": {\n",
      "    \"阿里\": \"http://al.flv.huya.com/src/294636272-294636272-1265453152455360512-589396000-10057-A-0-1-imgplus.flv?wsSecret=4a40173d3c7e9cf885ac3da8b52cfb0b&wsTime=6538df37&ctype=tars_mobile&fs=bgct&sphdcdn=al_7-tx_3-js_3-ws_7-bd_2-hw_2&sphdDC=huya&sphd=264_%2A-265_%2A&exsphd=264_500%2C264_2000%2C264_4000%2C264_8000%2C264_20000%2C&t=103&ver=1&sv=2110211124&seqid=3164703535896&uid=1466563956212&uuid=616661196\",\n",
      "    \"腾讯\": \"http://tx.flv.huya.com/src/294636272-294636272-1265453152455360512-589396000-10057-A-0-1-imgplus.flv?wsSecret=09f35258fdc0e579cf52c6032bf08229&wsTime=6538df37&ctype=tars_mobile&fs=bgct&sphdcdn=al_7-tx_3-js_3-ws_7-bd_2-hw_2&sphdDC=huya&sphd=264_%2A-265_%2A&exsphd=264_500%2C264_2000%2C264_4000%2C264_8000%2C264_20000%2C&t=103&ver=1&sv=2110211124&seqid=3164703535897&uid=1466563956212&uuid=616661902\",\n",
      "    \"华为\": \"http://hw.flv.huya.com/src/294636272-294636272-1265453152455360512-589396000-10057-A-0-1-imgplus.flv?wsSecret=09f35258fdc0e579cf52c6032bf08229&wsTime=6538df37&ctype=tars_mobile&fs=bgct&sphdcdn=al_7-tx_3-js_3-ws_7-bd_2-hw_2&sphdDC=huya&sphd=264_%2A-265_%2A&exsphd=264_500%2C264_2000%2C264_4000%2C264_8000%2C264_20000%2C&t=103&ver=1&sv=2110211124&seqid=3164703535897&uid=1466563956212&uuid=616662221\",\n",
      "    \"火山\": \"http://hs.flv.huya.com/src/294636272-294636272-1265453152455360512-589396000-10057-A-0-1-imgplus.flv?wsSecret=09f35258fdc0e579cf52c6032bf08229&wsTime=6538df37&ctype=tars_mobile&fs=bgct&sphdcdn=al_7-tx_3-js_3-ws_7-bd_2-hw_2&sphdDC=huya&sphd=264_%2A-265_%2A&exsphd=264_500%2C264_2000%2C264_4000%2C264_8000%2C264_20000%2C&t=103&ver=1&sv=2110211124&seqid=3164703535897&uid=1466563956212&uuid=616661556\"\n",
      "  },\n",
      "  \"hls\": {\n",
      "    \"阿里\": \"http://al.hls.huya.com/src/294636272-294636272-1265453152455360512-589396000-10057-A-0-1-imgplus.m3u8?wsSecret=09f35258fdc0e579cf52c6032bf08229&wsTime=6538df37&ctype=tars_mobile&fs=bgct&sphdcdn=al_7-tx_3-js_3-ws_7-bd_2-hw_2&sphdDC=huya&sphd=264_%2A-265_%2A&exsphd=264_500%2C264_2000%2C264_4000%2C264_8000%2C264_20000%2C&t=103&ver=1&sv=2110211124&seqid=3164703535897&uid=1466563956212&uuid=616661729\",\n",
      "    \"腾讯\": \"http://tx.hls.huya.com/src/294636272-294636272-1265453152455360512-589396000-10057-A-0-1-imgplus.m3u8?wsSecret=09f35258fdc0e579cf52c6032bf08229&wsTime=6538df37&ctype=tars_mobile&fs=bgct&sphdcdn=al_7-tx_3-js_3-ws_7-bd_2-hw_2&sphdDC=huya&sphd=264_%2A-265_%2A&exsphd=264_500%2C264_2000%2C264_4000%2C264_8000%2C264_20000%2C&t=103&ver=1&sv=2110211124&seqid=3164703535897&uid=1466563956212&uuid=616661629\",\n",
      "    \"华为\": \"http://hw.hls.huya.com/src/294636272-294636272-1265453152455360512-589396000-10057-A-0-1-imgplus.m3u8?wsSecret=09f35258fdc0e579cf52c6032bf08229&wsTime=6538df37&ctype=tars_mobile&fs=bgct&sphdcdn=al_7-tx_3-js_3-ws_7-bd_2-hw_2&sphdDC=huya&sphd=264_%2A-265_%2A&exsphd=264_500%2C264_2000%2C264_4000%2C264_8000%2C264_20000%2C&t=103&ver=1&sv=2110211124&seqid=3164703535897&uid=1466563956212&uuid=616662226\",\n",
      "    \"火山\": \"http://hs.hls.huya.com/src/294636272-294636272-1265453152455360512-589396000-10057-A-0-1-imgplus.m3u8?wsSecret=09f35258fdc0e579cf52c6032bf08229&wsTime=6538df37&ctype=tars_mobile&fs=bgct&sphdcdn=al_7-tx_3-js_3-ws_7-bd_2-hw_2&sphdDC=huya&sphd=264_%2A-265_%2A&exsphd=264_500%2C264_2000%2C264_4000%2C264_8000%2C264_20000%2C&t=103&ver=1&sv=2110211124&seqid=3164703535897&uid=1466563956212&uuid=616661822\"\n",
      "  }\n",
      "}\n"
     ]
    }
   ],
   "source": [
    "# 获取虎牙直播的真实流媒体地址。\n",
    "import json\n",
    "import requests\n",
    "import re\n",
    "import base64\n",
    "import hashlib\n",
    "from urllib.parse import parse_qs, urlencode\n",
    "from datetime import datetime\n",
    "\n",
    "import random\n",
    "\n",
    "\n",
    "def live(info):\n",
    "    stream_info = dict({'flv': {}, 'hls': {}})\n",
    "    cdn_type = dict({'AL': '阿里', 'TX': '腾讯', 'HW': '华为', 'HS': '火山', 'WS': '网宿', 'HY': '虎牙'})\n",
    "    uid = get_anonymous_uid()\n",
    "    for s in info[\"roomInfo\"][\"tLiveInfo\"][\"tLiveStreamInfo\"][\"vStreamInfo\"][\"value\"]:\n",
    "        if s[\"sFlvUrl\"]:\n",
    "            stream_info[\"flv\"][cdn_type[s[\"sCdnType\"]]] = \"{}/{}.{}?{}\".format(s[\"sFlvUrl\"], s[\"sStreamName\"],\n",
    "                                                                               s[\"sFlvUrlSuffix\"],\n",
    "                                                                               process_anticode(s[\"sFlvAntiCode\"], uid,\n",
    "                                                                               s[\"sStreamName\"]))\n",
    "        if s[\"sHlsUrl\"]:\n",
    "            stream_info[\"hls\"][cdn_type[s[\"sCdnType\"]]] = \"{}/{}.{}?{}\".format(s[\"sHlsUrl\"], s[\"sStreamName\"],\n",
    "                                                                               s[\"sHlsUrlSuffix\"],\n",
    "                                                                               process_anticode(s[\"sHlsAntiCode\"], uid,\n",
    "                                                                               s[\"sStreamName\"]))\n",
    "    return stream_info\n",
    "\n",
    "\n",
    "def process_anticode(anticode, uid, streamname):\n",
    "    q = dict(parse_qs(anticode))\n",
    "    q[\"ver\"] = [\"1\"]\n",
    "    q[\"sv\"] = [\"2110211124\"]\n",
    "    q[\"seqid\"] = [str(int(uid) + int(datetime.now().timestamp() * 1000))]\n",
    "    q[\"uid\"] = [str(uid)]\n",
    "    q[\"uuid\"] = [str(get_uuid())]\n",
    "    ss = hashlib.md5(\"{}|{}|{}\".format(q[\"seqid\"][0], q[\"ctype\"][0], q[\"t\"][0]).encode(\"UTF-8\")).hexdigest()\n",
    "    q[\"fm\"][0] = base64.b64decode(q[\"fm\"][0]).decode('utf-8').replace(\"$0\", q[\"uid\"][0]).replace(\"$1\",\n",
    "                                                                                                 streamname).replace(\n",
    "        \"$2\", ss).replace(\"$3\", q[\"wsTime\"][0])\n",
    "    q[\"wsSecret\"][0] = hashlib.md5(q[\"fm\"][0].encode(\"UTF-8\")).hexdigest()\n",
    "    del q[\"fm\"]\n",
    "    if \"txyp\" in q:\n",
    "        del q[\"txyp\"]\n",
    "    return urlencode({x: y[0] for x, y in q.items()})\n",
    "\n",
    "\n",
    "def get_anonymous_uid():\n",
    "    url = \"https://udblgn.huya.com/web/anonymousLogin\"\n",
    "    resp = requests.post(url, json={\n",
    "        \"appId\": 5002,\n",
    "        \"byPass\": 3,\n",
    "        \"context\": \"\",\n",
    "        \"version\": \"2.4\",\n",
    "        \"data\": {}\n",
    "    })\n",
    "    return resp.json()[\"data\"][\"uid\"]\n",
    "\n",
    "\n",
    "def get_uuid():\n",
    "    # Number((Date.now() % 1e10 * 1e3 + (1e3 * Math.random() | 0)) % 4294967295))\n",
    "    now = datetime.now().timestamp() * 1000\n",
    "    rand = random.randint(0, 1000) | 0\n",
    "    return int((now % 10000000000 * 1000 + rand) % 4294967295)\n",
    "\n",
    "\n",
    "def get_real_url(room_id):\n",
    "    try:\n",
    "        room_url = 'https://m.huya.com/' + str(room_id)\n",
    "        header = {\n",
    "            'Content-Type': 'application/x-www-form-urlencoded',\n",
    "            'User-Agent': 'Mozilla/5.0 (Linux; Android 5.0; SM-G900P Build/LRX21T) AppleWebKit/537.36 (KHTML, like Gecko) '\n",
    "                          'Chrome/75.0.3770.100 Mobile Safari/537.36 '\n",
    "        }\n",
    "        response = requests.get(url=room_url, headers=header).text\n",
    "        room_info_str = re.findall(r'\\<script\\> window.HNF_GLOBAL_INIT = (.*) \\</script\\>', response)[0]\n",
    "        room_info = json.loads(room_info_str)\n",
    "        if room_info[\"roomInfo\"][\"eLiveStatus\"] == 2:\n",
    "            print('该直播间源地址为：')\n",
    "            real_url = json.dumps(live(room_info), indent=2, ensure_ascii=False)\n",
    "        elif room_info[\"roomInfo\"][\"eLiveStatus\"] == 3:\n",
    "            print('该直播间正在回放历史直播，低清晰度源地址为：')\n",
    "            real_url = \"https:{}\".format(base64.b64decode(room_info[\"roomProfile\"][\"liveLineUrl\"]).decode('utf-8'))\n",
    "        else:\n",
    "            real_url = '未开播'\n",
    "\n",
    "    except Exception as e:\n",
    "        print(e)\n",
    "        real_url = '直播间不存在'\n",
    "    return real_url\n",
    "\n",
    "\n",
    "rid = 998\n",
    "real_url = get_real_url(rid)\n",
    "print(real_url)"
   ],
   "metadata": {
    "collapsed": false,
    "ExecuteTime": {
     "end_time": "2023-10-24T09:26:19.692027200Z",
     "start_time": "2023-10-24T09:26:17.867679400Z"
    }
   },
   "id": "43be7b303f4a7875"
  },
  {
   "cell_type": "code",
   "execution_count": null,
   "outputs": [],
   "source": [],
   "metadata": {
    "collapsed": false
   },
   "id": "a86e721016d921cd"
  }
 ],
 "metadata": {
  "kernelspec": {
   "display_name": "Python 3",
   "language": "python",
   "name": "python3"
  },
  "language_info": {
   "codemirror_mode": {
    "name": "ipython",
    "version": 2
   },
   "file_extension": ".py",
   "mimetype": "text/x-python",
   "name": "python",
   "nbconvert_exporter": "python",
   "pygments_lexer": "ipython2",
   "version": "2.7.6"
  }
 },
 "nbformat": 4,
 "nbformat_minor": 5
}

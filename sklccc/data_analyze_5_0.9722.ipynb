{
 "cells": [
  {
   "cell_type": "code",
   "execution_count": 4,
   "id": "initial_id",
   "metadata": {
    "collapsed": true,
    "ExecuteTime": {
     "end_time": "2023-12-09T05:41:06.044055300Z",
     "start_time": "2023-12-09T05:41:06.035528600Z"
    }
   },
   "outputs": [],
   "source": [
    "import pandas as pd\n",
    "import json\n",
    "import os"
   ]
  },
  {
   "cell_type": "code",
   "execution_count": 5,
   "outputs": [
    {
     "data": {
      "text/plain": "                                                   text  has_url  comments  \\\n0     【为了孩子，请拒吃转基因食品！】印度某地的羊吃了棉花收获后的草杆后，四分之一的羊死了，约5到...    False       306   \n1     【中国缺少这样的少年英雄。应进中学语文课本】因拆迁款等问题与家人上访的16岁少年赵明阳将一名...    False       215   \n2     期待这一天的到来#元畅依晨#隐婚三年终于曝光。。。。。哈哈哈哈哈哈元畅依晨你们神马都不用说、...    False       795   \n3                                          懂得沙士比亞的計程車司機    False       185   \n4     【视频：陈佩斯主持《焦点访谈》】其实我们不知道，早期的《焦点访谈》曾经是由陈佩斯主持的，一开...     True       287   \n...                                                 ...      ...       ...   \n4221  【四川绵阳市越狱46人 45男 1女 大多为90后 男性大多为强奸犯 女为杀人犯 南山下面一...     True       133   \n4222  【“呵呵”——最恶心的聊天词汇，你中枪了么？】有人说，所有词语里最恶心的、最伤人的莫过于“呵...    False       169   \n4223  年轻时无论如何要确立一个目标。一克服懒惰消极靠目标。没目标就瞎混，一天到晚打牌玩游戏睡懒觉。...    False       108   \n4224  牙膏底部的短线，绿色天然的。蓝色天然加药物，红色药物家化学，黑色纯化学。童鞋们~今后购买要记...    False         7   \n4225  #每日一帖#[生活百科][生活常识]牙膏底部的短线，绿色天然的。蓝色天然加药物，红色药物加化...    False        15   \n\n      pics  likes        time  reposts          mid      user_uid  \\\n0        1      1  1301754691      606   1U6k8lMp1y  1.155516e+09   \n1        0      0  1295670050      555  2dKrkwjMIHC  1.173360e+09   \n2        1      9  1296217427     4104  2dKrm0nZnZH  1.765139e+09   \n3        1     46  1297572047     1189  2dKs0ywFoob  1.750361e+09   \n4        0     69  1299158904      957  2dKsGplwDPR  1.640601e+09   \n...    ...    ...         ...      ...          ...           ...   \n4221     1      4  1370274687      346    zzLQSkl9W  1.779126e+09   \n4222     1     15  1370274907      334    zzLSl4IL0  1.720963e+09   \n4223     0     65  1370049881      635    zznk2uq5w  1.194869e+09   \n4224     1      1  1370346065      108    zzTDJu6C4  2.094248e+09   \n4225     1      9  1370347921      144    zzTQhvlSt  2.395440e+09   \n\n     user_verified user_description user_gender  user_messages  \\\n0            False             True           m         7055.0   \n1             True             True           m        18854.0   \n2            False             True           f         1741.0   \n3            False             True           m          444.0   \n4             True             True           m        62318.0   \n...            ...              ...         ...            ...   \n4221         False             True           f         1046.0   \n4222          True             True           m        86209.0   \n4223          True             True           m         7282.0   \n4224          True             True           f        16031.0   \n4225          True             True           m          782.0   \n\n      user_followers user_location     user_time  user_friends  \\\n0            28319.0            上海  1.271574e+09        1985.0   \n1           191425.0         海外 美国  1.251449e+09         658.0   \n2             4660.0         江苏 徐州  1.277876e+09         264.0   \n3             1478.0            香港  1.275556e+09         129.0   \n4          7305697.0        北京 海淀区  1.251449e+09        2002.0   \n...              ...           ...           ...           ...   \n4221          1625.0         四川 成都  1.279531e+09         570.0   \n4222       7049685.0         湖北 武汉  1.269820e+09         978.0   \n4223       8239965.0        北京 海淀区  1.251448e+09         785.0   \n4224         55139.0       黑龙江 哈尔滨  1.303181e+09        1823.0   \n4225        149966.0            湖北  1.317643e+09         390.0   \n\n      user_verified_type user  is_rumor  \n0                   -1.0  NaN       1.0  \n1                    0.0  NaN       0.0  \n2                   -1.0  NaN       1.0  \n3                   -1.0  NaN       0.0  \n4                    3.0  NaN       1.0  \n...                  ...  ...       ...  \n4221               220.0  NaN       1.0  \n4222                 3.0  NaN       0.0  \n4223                 0.0  NaN       0.0  \n4224                 3.0  NaN       1.0  \n4225                 0.0  NaN       1.0  \n\n[4226 rows x 20 columns]",
      "text/html": "<div>\n<style scoped>\n    .dataframe tbody tr th:only-of-type {\n        vertical-align: middle;\n    }\n\n    .dataframe tbody tr th {\n        vertical-align: top;\n    }\n\n    .dataframe thead th {\n        text-align: right;\n    }\n</style>\n<table border=\"1\" class=\"dataframe\">\n  <thead>\n    <tr style=\"text-align: right;\">\n      <th></th>\n      <th>text</th>\n      <th>has_url</th>\n      <th>comments</th>\n      <th>pics</th>\n      <th>likes</th>\n      <th>time</th>\n      <th>reposts</th>\n      <th>mid</th>\n      <th>user_uid</th>\n      <th>user_verified</th>\n      <th>user_description</th>\n      <th>user_gender</th>\n      <th>user_messages</th>\n      <th>user_followers</th>\n      <th>user_location</th>\n      <th>user_time</th>\n      <th>user_friends</th>\n      <th>user_verified_type</th>\n      <th>user</th>\n      <th>is_rumor</th>\n    </tr>\n  </thead>\n  <tbody>\n    <tr>\n      <th>0</th>\n      <td>【为了孩子，请拒吃转基因食品！】印度某地的羊吃了棉花收获后的草杆后，四分之一的羊死了，约5到...</td>\n      <td>False</td>\n      <td>306</td>\n      <td>1</td>\n      <td>1</td>\n      <td>1301754691</td>\n      <td>606</td>\n      <td>1U6k8lMp1y</td>\n      <td>1.155516e+09</td>\n      <td>False</td>\n      <td>True</td>\n      <td>m</td>\n      <td>7055.0</td>\n      <td>28319.0</td>\n      <td>上海</td>\n      <td>1.271574e+09</td>\n      <td>1985.0</td>\n      <td>-1.0</td>\n      <td>NaN</td>\n      <td>1.0</td>\n    </tr>\n    <tr>\n      <th>1</th>\n      <td>【中国缺少这样的少年英雄。应进中学语文课本】因拆迁款等问题与家人上访的16岁少年赵明阳将一名...</td>\n      <td>False</td>\n      <td>215</td>\n      <td>0</td>\n      <td>0</td>\n      <td>1295670050</td>\n      <td>555</td>\n      <td>2dKrkwjMIHC</td>\n      <td>1.173360e+09</td>\n      <td>True</td>\n      <td>True</td>\n      <td>m</td>\n      <td>18854.0</td>\n      <td>191425.0</td>\n      <td>海外 美国</td>\n      <td>1.251449e+09</td>\n      <td>658.0</td>\n      <td>0.0</td>\n      <td>NaN</td>\n      <td>0.0</td>\n    </tr>\n    <tr>\n      <th>2</th>\n      <td>期待这一天的到来#元畅依晨#隐婚三年终于曝光。。。。。哈哈哈哈哈哈元畅依晨你们神马都不用说、...</td>\n      <td>False</td>\n      <td>795</td>\n      <td>1</td>\n      <td>9</td>\n      <td>1296217427</td>\n      <td>4104</td>\n      <td>2dKrm0nZnZH</td>\n      <td>1.765139e+09</td>\n      <td>False</td>\n      <td>True</td>\n      <td>f</td>\n      <td>1741.0</td>\n      <td>4660.0</td>\n      <td>江苏 徐州</td>\n      <td>1.277876e+09</td>\n      <td>264.0</td>\n      <td>-1.0</td>\n      <td>NaN</td>\n      <td>1.0</td>\n    </tr>\n    <tr>\n      <th>3</th>\n      <td>懂得沙士比亞的計程車司機</td>\n      <td>False</td>\n      <td>185</td>\n      <td>1</td>\n      <td>46</td>\n      <td>1297572047</td>\n      <td>1189</td>\n      <td>2dKs0ywFoob</td>\n      <td>1.750361e+09</td>\n      <td>False</td>\n      <td>True</td>\n      <td>m</td>\n      <td>444.0</td>\n      <td>1478.0</td>\n      <td>香港</td>\n      <td>1.275556e+09</td>\n      <td>129.0</td>\n      <td>-1.0</td>\n      <td>NaN</td>\n      <td>0.0</td>\n    </tr>\n    <tr>\n      <th>4</th>\n      <td>【视频：陈佩斯主持《焦点访谈》】其实我们不知道，早期的《焦点访谈》曾经是由陈佩斯主持的，一开...</td>\n      <td>True</td>\n      <td>287</td>\n      <td>0</td>\n      <td>69</td>\n      <td>1299158904</td>\n      <td>957</td>\n      <td>2dKsGplwDPR</td>\n      <td>1.640601e+09</td>\n      <td>True</td>\n      <td>True</td>\n      <td>m</td>\n      <td>62318.0</td>\n      <td>7305697.0</td>\n      <td>北京 海淀区</td>\n      <td>1.251449e+09</td>\n      <td>2002.0</td>\n      <td>3.0</td>\n      <td>NaN</td>\n      <td>1.0</td>\n    </tr>\n    <tr>\n      <th>...</th>\n      <td>...</td>\n      <td>...</td>\n      <td>...</td>\n      <td>...</td>\n      <td>...</td>\n      <td>...</td>\n      <td>...</td>\n      <td>...</td>\n      <td>...</td>\n      <td>...</td>\n      <td>...</td>\n      <td>...</td>\n      <td>...</td>\n      <td>...</td>\n      <td>...</td>\n      <td>...</td>\n      <td>...</td>\n      <td>...</td>\n      <td>...</td>\n      <td>...</td>\n    </tr>\n    <tr>\n      <th>4221</th>\n      <td>【四川绵阳市越狱46人 45男 1女 大多为90后 男性大多为强奸犯 女为杀人犯 南山下面一...</td>\n      <td>True</td>\n      <td>133</td>\n      <td>1</td>\n      <td>4</td>\n      <td>1370274687</td>\n      <td>346</td>\n      <td>zzLQSkl9W</td>\n      <td>1.779126e+09</td>\n      <td>False</td>\n      <td>True</td>\n      <td>f</td>\n      <td>1046.0</td>\n      <td>1625.0</td>\n      <td>四川 成都</td>\n      <td>1.279531e+09</td>\n      <td>570.0</td>\n      <td>220.0</td>\n      <td>NaN</td>\n      <td>1.0</td>\n    </tr>\n    <tr>\n      <th>4222</th>\n      <td>【“呵呵”——最恶心的聊天词汇，你中枪了么？】有人说，所有词语里最恶心的、最伤人的莫过于“呵...</td>\n      <td>False</td>\n      <td>169</td>\n      <td>1</td>\n      <td>15</td>\n      <td>1370274907</td>\n      <td>334</td>\n      <td>zzLSl4IL0</td>\n      <td>1.720963e+09</td>\n      <td>True</td>\n      <td>True</td>\n      <td>m</td>\n      <td>86209.0</td>\n      <td>7049685.0</td>\n      <td>湖北 武汉</td>\n      <td>1.269820e+09</td>\n      <td>978.0</td>\n      <td>3.0</td>\n      <td>NaN</td>\n      <td>0.0</td>\n    </tr>\n    <tr>\n      <th>4223</th>\n      <td>年轻时无论如何要确立一个目标。一克服懒惰消极靠目标。没目标就瞎混，一天到晚打牌玩游戏睡懒觉。...</td>\n      <td>False</td>\n      <td>108</td>\n      <td>0</td>\n      <td>65</td>\n      <td>1370049881</td>\n      <td>635</td>\n      <td>zznk2uq5w</td>\n      <td>1.194869e+09</td>\n      <td>True</td>\n      <td>True</td>\n      <td>m</td>\n      <td>7282.0</td>\n      <td>8239965.0</td>\n      <td>北京 海淀区</td>\n      <td>1.251448e+09</td>\n      <td>785.0</td>\n      <td>0.0</td>\n      <td>NaN</td>\n      <td>0.0</td>\n    </tr>\n    <tr>\n      <th>4224</th>\n      <td>牙膏底部的短线，绿色天然的。蓝色天然加药物，红色药物家化学，黑色纯化学。童鞋们~今后购买要记...</td>\n      <td>False</td>\n      <td>7</td>\n      <td>1</td>\n      <td>1</td>\n      <td>1370346065</td>\n      <td>108</td>\n      <td>zzTDJu6C4</td>\n      <td>2.094248e+09</td>\n      <td>True</td>\n      <td>True</td>\n      <td>f</td>\n      <td>16031.0</td>\n      <td>55139.0</td>\n      <td>黑龙江 哈尔滨</td>\n      <td>1.303181e+09</td>\n      <td>1823.0</td>\n      <td>3.0</td>\n      <td>NaN</td>\n      <td>1.0</td>\n    </tr>\n    <tr>\n      <th>4225</th>\n      <td>#每日一帖#[生活百科][生活常识]牙膏底部的短线，绿色天然的。蓝色天然加药物，红色药物加化...</td>\n      <td>False</td>\n      <td>15</td>\n      <td>1</td>\n      <td>9</td>\n      <td>1370347921</td>\n      <td>144</td>\n      <td>zzTQhvlSt</td>\n      <td>2.395440e+09</td>\n      <td>True</td>\n      <td>True</td>\n      <td>m</td>\n      <td>782.0</td>\n      <td>149966.0</td>\n      <td>湖北</td>\n      <td>1.317643e+09</td>\n      <td>390.0</td>\n      <td>0.0</td>\n      <td>NaN</td>\n      <td>1.0</td>\n    </tr>\n  </tbody>\n</table>\n<p>4226 rows × 20 columns</p>\n</div>"
     },
     "execution_count": 5,
     "metadata": {},
     "output_type": "execute_result"
    }
   ],
   "source": [
    "dataset_dir = './train/original-microblog/'\n",
    "data_list = []\n",
    "for data in os.listdir(dataset_dir):\n",
    "    js = json.load(open(os.path.join(dataset_dir, data), encoding='utf-8'))\n",
    "    t = pd.json_normalize(js, sep='_')\n",
    "    data_list.append(t)\n",
    "df = pd.concat(data_list, axis=0, ignore_index=True)\n",
    "non_rumors_dir = './train/non-rumor-repost'\n",
    "rumors_dir = './train/rumor-repost'\n",
    "for data in os.listdir(non_rumors_dir):\n",
    "    mid = data.split('_')[0]\n",
    "    df.loc[df['mid'] == mid, 'is_rumor'] = 0\n",
    "for data in os.listdir(rumors_dir):\n",
    "    mid = data.split('_')[0]\n",
    "    df.loc[df['mid'] == mid, 'is_rumor'] = 1\n",
    "df"
   ],
   "metadata": {
    "collapsed": false,
    "ExecuteTime": {
     "end_time": "2023-12-09T05:41:11.056061600Z",
     "start_time": "2023-12-09T05:41:06.316877200Z"
    }
   },
   "id": "262d5bc91aa1f580"
  },
  {
   "cell_type": "code",
   "execution_count": 6,
   "outputs": [
    {
     "data": {
      "text/plain": "     multi                                               text  has_url  \\\n0     None  人间惨剧：今天下午约14点，宁波妇儿医院，一妇女携带一婴儿在住院楼跳楼，后抢救无效死亡。具体...    False   \n1     None  再去武大，已无牌坊！非要拆掉？@章立凡 @袁裕来律师 @老徐时评 @徐昕 @杨锦麟 @左小祖...    False   \n2     None  中国最美丽的乡村\"江西婺源\"一\"教师打死学生\" 昨晚，在被誉为中国最美丽的乡村江西省婺源县清...     True   \n3     None  忍者QS：江苏省东海县女镇党委书记徐艳，因不愿陪县委书记关永健上床，竟然被警察毒打致子宫破裂...     True   \n4     None  《北大猛男，持刀刺官！！！》“可歌可泣”的是王同学投案自首之后冷冷说了一句话是 “我并不后悔...    False   \n...    ...                                                ...      ...   \n3382  None  【新版狸猫换太子】湖南衡阳四中高三理科学生肖颖，今年高考成绩出来后，发短信查询为695分，当...     True   \n3383  None            #周一见# 马伊利真无辜，可怜，文章连道歉都是抄袭的，看我微博，有图有真相 ​    False   \n3384  None  央视《焦点访谈》关于共和国脊梁评选活动造假之事采访民政部门领导，手腕打上了马赛克！这是为毛？...    False   \n3385  None  【朝鲜战争为何停战?】肖仲华:板门店谈判前彭德怀要求在铁原挡住美军两周,结果只挡了两天,63...    False   \n3386  None  《一只救了32条人命的搜救犬牺牲了，同样是生命，为它默哀吧！》——昨天下午一只军用搜救犬发现...    False   \n\n      comments  pics        source  likes                            time  \\\n0           55     1  微博 weibo.com      0                      1347334462   \n1          170     1  微博 weibo.com      0                      1349768694   \n2          466     0            微吧      0                      1363146924   \n3           15     0  微博 weibo.com      6                      1380971862   \n4           78     1      360安全浏览器     11                      1368078370   \n...        ...   ...           ...    ...                             ...   \n3382       127     1       iPad客户端      0  Sun Jul 01 17:29:06 +0800 2012   \n3383        70     1     iPhone客户端    128  Mon Mar 31 20:25:25 +0800 2014   \n3384       113     1  微博 weibo.com      6  Fri Mar 22 16:29:23 +0800 2013   \n3385       156     1  微博 weibo.com      2  Sun May 19 10:12:53 +0800 2013   \n3386        15     1     iPhone客户端      2  Sun Apr 21 18:40:32 +0800 2013   \n\n      reposts user_verified  ... user_messages user_followers  user_location  \\\n0         225         False  ...        5653.0       227833.0             上海   \n1         395         False  ...       11882.0        59624.0             其他   \n2         685         False  ...          76.0           66.0          江西 上饶   \n3         120         False  ...       22989.0         8358.0          吉林 吉林   \n4         532         False  ...        2911.0         1096.0        新疆 巴音郭楞   \n...       ...           ...  ...           ...            ...            ...   \n3382      241           NaN  ...           NaN            NaN            NaN   \n3383       95           NaN  ...           NaN            NaN            NaN   \n3384      436           NaN  ...           NaN            NaN            NaN   \n3385      321           NaN  ...           NaN            NaN            NaN   \n3386      145           NaN  ...           NaN            NaN            NaN   \n\n         user_time user_friends  user_verified_type   mid  multi_type   user  \\\n0     1.312112e+09        907.0                -1.0     0         NaN    NaN   \n1     1.302582e+09       1923.0                -1.0  1000         NaN    NaN   \n2     1.318494e+09         82.0                -1.0  1002         NaN    NaN   \n3     1.297253e+09       1474.0                -1.0  1003         NaN    NaN   \n4     1.355300e+09       1118.0                -1.0  1004         NaN    NaN   \n...            ...          ...                 ...   ...         ...    ...   \n3382           NaN          NaN                 NaN   996         NaN  empty   \n3383           NaN          NaN                 NaN   998           0  empty   \n3384           NaN          NaN                 NaN   999         NaN  empty   \n3385           NaN          NaN                 NaN    99         NaN  empty   \n3386           NaN          NaN                 NaN     9         NaN  empty   \n\n     is_rumor  \n0         1.0  \n1         1.0  \n2         1.0  \n3         1.0  \n4         1.0  \n...       ...  \n3382      1.0  \n3383      1.0  \n3384      1.0  \n3385      1.0  \n3386      1.0  \n\n[3387 rows x 22 columns]",
      "text/html": "<div>\n<style scoped>\n    .dataframe tbody tr th:only-of-type {\n        vertical-align: middle;\n    }\n\n    .dataframe tbody tr th {\n        vertical-align: top;\n    }\n\n    .dataframe thead th {\n        text-align: right;\n    }\n</style>\n<table border=\"1\" class=\"dataframe\">\n  <thead>\n    <tr style=\"text-align: right;\">\n      <th></th>\n      <th>multi</th>\n      <th>text</th>\n      <th>has_url</th>\n      <th>comments</th>\n      <th>pics</th>\n      <th>source</th>\n      <th>likes</th>\n      <th>time</th>\n      <th>reposts</th>\n      <th>user_verified</th>\n      <th>...</th>\n      <th>user_messages</th>\n      <th>user_followers</th>\n      <th>user_location</th>\n      <th>user_time</th>\n      <th>user_friends</th>\n      <th>user_verified_type</th>\n      <th>mid</th>\n      <th>multi_type</th>\n      <th>user</th>\n      <th>is_rumor</th>\n    </tr>\n  </thead>\n  <tbody>\n    <tr>\n      <th>0</th>\n      <td>None</td>\n      <td>人间惨剧：今天下午约14点，宁波妇儿医院，一妇女携带一婴儿在住院楼跳楼，后抢救无效死亡。具体...</td>\n      <td>False</td>\n      <td>55</td>\n      <td>1</td>\n      <td>微博 weibo.com</td>\n      <td>0</td>\n      <td>1347334462</td>\n      <td>225</td>\n      <td>False</td>\n      <td>...</td>\n      <td>5653.0</td>\n      <td>227833.0</td>\n      <td>上海</td>\n      <td>1.312112e+09</td>\n      <td>907.0</td>\n      <td>-1.0</td>\n      <td>0</td>\n      <td>NaN</td>\n      <td>NaN</td>\n      <td>1.0</td>\n    </tr>\n    <tr>\n      <th>1</th>\n      <td>None</td>\n      <td>再去武大，已无牌坊！非要拆掉？@章立凡 @袁裕来律师 @老徐时评 @徐昕 @杨锦麟 @左小祖...</td>\n      <td>False</td>\n      <td>170</td>\n      <td>1</td>\n      <td>微博 weibo.com</td>\n      <td>0</td>\n      <td>1349768694</td>\n      <td>395</td>\n      <td>False</td>\n      <td>...</td>\n      <td>11882.0</td>\n      <td>59624.0</td>\n      <td>其他</td>\n      <td>1.302582e+09</td>\n      <td>1923.0</td>\n      <td>-1.0</td>\n      <td>1000</td>\n      <td>NaN</td>\n      <td>NaN</td>\n      <td>1.0</td>\n    </tr>\n    <tr>\n      <th>2</th>\n      <td>None</td>\n      <td>中国最美丽的乡村\"江西婺源\"一\"教师打死学生\" 昨晚，在被誉为中国最美丽的乡村江西省婺源县清...</td>\n      <td>True</td>\n      <td>466</td>\n      <td>0</td>\n      <td>微吧</td>\n      <td>0</td>\n      <td>1363146924</td>\n      <td>685</td>\n      <td>False</td>\n      <td>...</td>\n      <td>76.0</td>\n      <td>66.0</td>\n      <td>江西 上饶</td>\n      <td>1.318494e+09</td>\n      <td>82.0</td>\n      <td>-1.0</td>\n      <td>1002</td>\n      <td>NaN</td>\n      <td>NaN</td>\n      <td>1.0</td>\n    </tr>\n    <tr>\n      <th>3</th>\n      <td>None</td>\n      <td>忍者QS：江苏省东海县女镇党委书记徐艳，因不愿陪县委书记关永健上床，竟然被警察毒打致子宫破裂...</td>\n      <td>True</td>\n      <td>15</td>\n      <td>0</td>\n      <td>微博 weibo.com</td>\n      <td>6</td>\n      <td>1380971862</td>\n      <td>120</td>\n      <td>False</td>\n      <td>...</td>\n      <td>22989.0</td>\n      <td>8358.0</td>\n      <td>吉林 吉林</td>\n      <td>1.297253e+09</td>\n      <td>1474.0</td>\n      <td>-1.0</td>\n      <td>1003</td>\n      <td>NaN</td>\n      <td>NaN</td>\n      <td>1.0</td>\n    </tr>\n    <tr>\n      <th>4</th>\n      <td>None</td>\n      <td>《北大猛男，持刀刺官！！！》“可歌可泣”的是王同学投案自首之后冷冷说了一句话是 “我并不后悔...</td>\n      <td>False</td>\n      <td>78</td>\n      <td>1</td>\n      <td>360安全浏览器</td>\n      <td>11</td>\n      <td>1368078370</td>\n      <td>532</td>\n      <td>False</td>\n      <td>...</td>\n      <td>2911.0</td>\n      <td>1096.0</td>\n      <td>新疆 巴音郭楞</td>\n      <td>1.355300e+09</td>\n      <td>1118.0</td>\n      <td>-1.0</td>\n      <td>1004</td>\n      <td>NaN</td>\n      <td>NaN</td>\n      <td>1.0</td>\n    </tr>\n    <tr>\n      <th>...</th>\n      <td>...</td>\n      <td>...</td>\n      <td>...</td>\n      <td>...</td>\n      <td>...</td>\n      <td>...</td>\n      <td>...</td>\n      <td>...</td>\n      <td>...</td>\n      <td>...</td>\n      <td>...</td>\n      <td>...</td>\n      <td>...</td>\n      <td>...</td>\n      <td>...</td>\n      <td>...</td>\n      <td>...</td>\n      <td>...</td>\n      <td>...</td>\n      <td>...</td>\n      <td>...</td>\n    </tr>\n    <tr>\n      <th>3382</th>\n      <td>None</td>\n      <td>【新版狸猫换太子】湖南衡阳四中高三理科学生肖颖，今年高考成绩出来后，发短信查询为695分，当...</td>\n      <td>True</td>\n      <td>127</td>\n      <td>1</td>\n      <td>iPad客户端</td>\n      <td>0</td>\n      <td>Sun Jul 01 17:29:06 +0800 2012</td>\n      <td>241</td>\n      <td>NaN</td>\n      <td>...</td>\n      <td>NaN</td>\n      <td>NaN</td>\n      <td>NaN</td>\n      <td>NaN</td>\n      <td>NaN</td>\n      <td>NaN</td>\n      <td>996</td>\n      <td>NaN</td>\n      <td>empty</td>\n      <td>1.0</td>\n    </tr>\n    <tr>\n      <th>3383</th>\n      <td>None</td>\n      <td>#周一见# 马伊利真无辜，可怜，文章连道歉都是抄袭的，看我微博，有图有真相 ​</td>\n      <td>False</td>\n      <td>70</td>\n      <td>1</td>\n      <td>iPhone客户端</td>\n      <td>128</td>\n      <td>Mon Mar 31 20:25:25 +0800 2014</td>\n      <td>95</td>\n      <td>NaN</td>\n      <td>...</td>\n      <td>NaN</td>\n      <td>NaN</td>\n      <td>NaN</td>\n      <td>NaN</td>\n      <td>NaN</td>\n      <td>NaN</td>\n      <td>998</td>\n      <td>0</td>\n      <td>empty</td>\n      <td>1.0</td>\n    </tr>\n    <tr>\n      <th>3384</th>\n      <td>None</td>\n      <td>央视《焦点访谈》关于共和国脊梁评选活动造假之事采访民政部门领导，手腕打上了马赛克！这是为毛？...</td>\n      <td>False</td>\n      <td>113</td>\n      <td>1</td>\n      <td>微博 weibo.com</td>\n      <td>6</td>\n      <td>Fri Mar 22 16:29:23 +0800 2013</td>\n      <td>436</td>\n      <td>NaN</td>\n      <td>...</td>\n      <td>NaN</td>\n      <td>NaN</td>\n      <td>NaN</td>\n      <td>NaN</td>\n      <td>NaN</td>\n      <td>NaN</td>\n      <td>999</td>\n      <td>NaN</td>\n      <td>empty</td>\n      <td>1.0</td>\n    </tr>\n    <tr>\n      <th>3385</th>\n      <td>None</td>\n      <td>【朝鲜战争为何停战?】肖仲华:板门店谈判前彭德怀要求在铁原挡住美军两周,结果只挡了两天,63...</td>\n      <td>False</td>\n      <td>156</td>\n      <td>1</td>\n      <td>微博 weibo.com</td>\n      <td>2</td>\n      <td>Sun May 19 10:12:53 +0800 2013</td>\n      <td>321</td>\n      <td>NaN</td>\n      <td>...</td>\n      <td>NaN</td>\n      <td>NaN</td>\n      <td>NaN</td>\n      <td>NaN</td>\n      <td>NaN</td>\n      <td>NaN</td>\n      <td>99</td>\n      <td>NaN</td>\n      <td>empty</td>\n      <td>1.0</td>\n    </tr>\n    <tr>\n      <th>3386</th>\n      <td>None</td>\n      <td>《一只救了32条人命的搜救犬牺牲了，同样是生命，为它默哀吧！》——昨天下午一只军用搜救犬发现...</td>\n      <td>False</td>\n      <td>15</td>\n      <td>1</td>\n      <td>iPhone客户端</td>\n      <td>2</td>\n      <td>Sun Apr 21 18:40:32 +0800 2013</td>\n      <td>145</td>\n      <td>NaN</td>\n      <td>...</td>\n      <td>NaN</td>\n      <td>NaN</td>\n      <td>NaN</td>\n      <td>NaN</td>\n      <td>NaN</td>\n      <td>NaN</td>\n      <td>9</td>\n      <td>NaN</td>\n      <td>empty</td>\n      <td>1.0</td>\n    </tr>\n  </tbody>\n</table>\n<p>3387 rows × 22 columns</p>\n</div>"
     },
     "execution_count": 6,
     "metadata": {},
     "output_type": "execute_result"
    }
   ],
   "source": [
    "dataset_dir = './Chinese_Rumor_Dataset/CED_Dataset/original-microblog'\n",
    "data_list = []\n",
    "for data in os.listdir(dataset_dir):\n",
    "    try:\n",
    "        js = json.load(open(os.path.join(dataset_dir, data), encoding='utf-8'))\n",
    "        t = pd.json_normalize(js, sep='_')\n",
    "        t['mid'] = data.split('_')[0]\n",
    "        data_list.append(t)\n",
    "    except:\n",
    "        print(data)\n",
    "df1 = pd.concat(data_list, axis=0, ignore_index=True)\n",
    "non_rumors_dir = './Chinese_Rumor_Dataset/CED_Dataset/non-rumor-repost'\n",
    "rumors_dir = './Chinese_Rumor_Dataset/CED_Dataset/rumor-repost'\n",
    "for data in os.listdir(non_rumors_dir):\n",
    "    mid = data.split('_')[0]\n",
    "    df1.loc[df1['mid'] == mid, 'is_rumor'] = 0\n",
    "for data in os.listdir(rumors_dir):\n",
    "    mid = data.split('_')[0]\n",
    "    df1.loc[df1['mid'] == mid, 'is_rumor'] = 1\n",
    "df1"
   ],
   "metadata": {
    "collapsed": false,
    "ExecuteTime": {
     "end_time": "2023-12-09T05:41:14.592578900Z",
     "start_time": "2023-12-09T05:41:11.058493700Z"
    }
   },
   "id": "a647334629aa65b7"
  },
  {
   "cell_type": "code",
   "execution_count": 7,
   "outputs": [
    {
     "name": "stderr",
     "output_type": "stream",
     "text": [
      "C:\\Users\\shens\\AppData\\Local\\Temp\\ipykernel_27064\\2201032621.py:3: SettingWithCopyWarning: \n",
      "A value is trying to be set on a copy of a slice from a DataFrame.\n",
      "Try using .loc[row_indexer,col_indexer] = value instead\n",
      "\n",
      "See the caveats in the documentation: https://pandas.pydata.org/pandas-docs/stable/user_guide/indexing.html#returning-a-view-versus-a-copy\n",
      "  demo1['is_rumor'] = demo1['is_rumor'].astype('int64')\n",
      "C:\\Users\\shens\\AppData\\Local\\Temp\\ipykernel_27064\\2201032621.py:4: SettingWithCopyWarning: \n",
      "A value is trying to be set on a copy of a slice from a DataFrame.\n",
      "Try using .loc[row_indexer,col_indexer] = value instead\n",
      "\n",
      "See the caveats in the documentation: https://pandas.pydata.org/pandas-docs/stable/user_guide/indexing.html#returning-a-view-versus-a-copy\n",
      "  demo2['is_rumor'] = demo2['is_rumor'].astype('int64')\n"
     ]
    },
    {
     "data": {
      "text/plain": "              mid                                               text  is_rumor\n0      1U6k8lMp1y  【为了孩子，请拒吃转基因食品！】印度某地的羊吃了棉花收获后的草杆后，四分之一的羊死了，约5到...         1\n1     2dKrkwjMIHC  【中国缺少这样的少年英雄。应进中学语文课本】因拆迁款等问题与家人上访的16岁少年赵明阳将一名...         0\n2     2dKrm0nZnZH  期待这一天的到来#元畅依晨#隐婚三年终于曝光。。。。。哈哈哈哈哈哈元畅依晨你们神马都不用说、...         1\n3     2dKs0ywFoob                                       懂得沙士比亞的計程車司機         0\n4     2dKsGplwDPR  【视频：陈佩斯主持《焦点访谈》】其实我们不知道，早期的《焦点访谈》曾经是由陈佩斯主持的，一开...         1\n...           ...                                                ...       ...\n7608          996  【新版狸猫换太子】湖南衡阳四中高三理科学生肖颖，今年高考成绩出来后，发短信查询为695分，当...         1\n7609          998            #周一见# 马伊利真无辜，可怜，文章连道歉都是抄袭的，看我微博，有图有真相 ​         1\n7610          999  央视《焦点访谈》关于共和国脊梁评选活动造假之事采访民政部门领导，手腕打上了马赛克！这是为毛？...         1\n7611           99  【朝鲜战争为何停战?】肖仲华:板门店谈判前彭德怀要求在铁原挡住美军两周,结果只挡了两天,63...         1\n7612            9  《一只救了32条人命的搜救犬牺牲了，同样是生命，为它默哀吧！》——昨天下午一只军用搜救犬发现...         1\n\n[7613 rows x 3 columns]",
      "text/html": "<div>\n<style scoped>\n    .dataframe tbody tr th:only-of-type {\n        vertical-align: middle;\n    }\n\n    .dataframe tbody tr th {\n        vertical-align: top;\n    }\n\n    .dataframe thead th {\n        text-align: right;\n    }\n</style>\n<table border=\"1\" class=\"dataframe\">\n  <thead>\n    <tr style=\"text-align: right;\">\n      <th></th>\n      <th>mid</th>\n      <th>text</th>\n      <th>is_rumor</th>\n    </tr>\n  </thead>\n  <tbody>\n    <tr>\n      <th>0</th>\n      <td>1U6k8lMp1y</td>\n      <td>【为了孩子，请拒吃转基因食品！】印度某地的羊吃了棉花收获后的草杆后，四分之一的羊死了，约5到...</td>\n      <td>1</td>\n    </tr>\n    <tr>\n      <th>1</th>\n      <td>2dKrkwjMIHC</td>\n      <td>【中国缺少这样的少年英雄。应进中学语文课本】因拆迁款等问题与家人上访的16岁少年赵明阳将一名...</td>\n      <td>0</td>\n    </tr>\n    <tr>\n      <th>2</th>\n      <td>2dKrm0nZnZH</td>\n      <td>期待这一天的到来#元畅依晨#隐婚三年终于曝光。。。。。哈哈哈哈哈哈元畅依晨你们神马都不用说、...</td>\n      <td>1</td>\n    </tr>\n    <tr>\n      <th>3</th>\n      <td>2dKs0ywFoob</td>\n      <td>懂得沙士比亞的計程車司機</td>\n      <td>0</td>\n    </tr>\n    <tr>\n      <th>4</th>\n      <td>2dKsGplwDPR</td>\n      <td>【视频：陈佩斯主持《焦点访谈》】其实我们不知道，早期的《焦点访谈》曾经是由陈佩斯主持的，一开...</td>\n      <td>1</td>\n    </tr>\n    <tr>\n      <th>...</th>\n      <td>...</td>\n      <td>...</td>\n      <td>...</td>\n    </tr>\n    <tr>\n      <th>7608</th>\n      <td>996</td>\n      <td>【新版狸猫换太子】湖南衡阳四中高三理科学生肖颖，今年高考成绩出来后，发短信查询为695分，当...</td>\n      <td>1</td>\n    </tr>\n    <tr>\n      <th>7609</th>\n      <td>998</td>\n      <td>#周一见# 马伊利真无辜，可怜，文章连道歉都是抄袭的，看我微博，有图有真相 ​</td>\n      <td>1</td>\n    </tr>\n    <tr>\n      <th>7610</th>\n      <td>999</td>\n      <td>央视《焦点访谈》关于共和国脊梁评选活动造假之事采访民政部门领导，手腕打上了马赛克！这是为毛？...</td>\n      <td>1</td>\n    </tr>\n    <tr>\n      <th>7611</th>\n      <td>99</td>\n      <td>【朝鲜战争为何停战?】肖仲华:板门店谈判前彭德怀要求在铁原挡住美军两周,结果只挡了两天,63...</td>\n      <td>1</td>\n    </tr>\n    <tr>\n      <th>7612</th>\n      <td>9</td>\n      <td>《一只救了32条人命的搜救犬牺牲了，同样是生命，为它默哀吧！》——昨天下午一只军用搜救犬发现...</td>\n      <td>1</td>\n    </tr>\n  </tbody>\n</table>\n<p>7613 rows × 3 columns</p>\n</div>"
     },
     "execution_count": 7,
     "metadata": {},
     "output_type": "execute_result"
    }
   ],
   "source": [
    "demo1 = df[['mid', 'text', 'is_rumor']]\n",
    "demo2 = df1[['mid', 'text', 'is_rumor']]\n",
    "demo1['is_rumor'] = demo1['is_rumor'].astype('int64')\n",
    "demo2['is_rumor'] = demo2['is_rumor'].astype('int64')\n",
    "\n",
    "demo = pd.concat([demo1, demo2], axis=0, ignore_index=True)\n",
    "demo"
   ],
   "metadata": {
    "collapsed": false,
    "ExecuteTime": {
     "end_time": "2023-12-09T05:41:14.603665500Z",
     "start_time": "2023-12-09T05:41:14.591441400Z"
    }
   },
   "id": "9743c7ca089c1008"
  },
  {
   "cell_type": "code",
   "execution_count": 8,
   "outputs": [
    {
     "name": "stderr",
     "output_type": "stream",
     "text": [
      "100%|██████████| 2214/2214 [00:08<00:00, 252.08it/s]\n",
      "100%|██████████| 2012/2012 [00:09<00:00, 209.03it/s]\n"
     ]
    },
    {
     "data": {
      "text/plain": "              mid                                               text  is_rumor\n0      1U6k8lMp1y  【为了孩子，请拒吃转基因食品！】印度某地的羊吃了棉花收获后的草杆后，四分之一的羊死了，约5到...         1\n1     2dKrkwjMIHC  【中国缺少这样的少年英雄。应进中学语文课本】因拆迁款等问题与家人上访的16岁少年赵明阳将一名...         0\n2     2dKrm0nZnZH  期待这一天的到来#元畅依晨#隐婚三年终于曝光。。。。。哈哈哈哈哈哈元畅依晨你们神马都不用说、...         1\n3     2dKs0ywFoob  懂得沙士比亞的計程車司機[吃驚] 哈哈哈~~ haha right :p To be or ...         0\n4     2dKsGplwDPR  【视频：陈佩斯主持《焦点访谈》】其实我们不知道，早期的《焦点访谈》曾经是由陈佩斯主持的，一开...         1\n...           ...                                                ...       ...\n7608          996  【新版狸猫换太子】湖南衡阳四中高三理科学生肖颖，今年高考成绩出来后，发短信查询为695分，当...         1\n7609          998            #周一见# 马伊利真无辜，可怜，文章连道歉都是抄袭的，看我微博，有图有真相 ​         1\n7610          999  央视《焦点访谈》关于共和国脊梁评选活动造假之事采访民政部门领导，手腕打上了马赛克！这是为毛？...         1\n7611           99  【朝鲜战争为何停战?】肖仲华:板门店谈判前彭德怀要求在铁原挡住美军两周,结果只挡了两天,63...         1\n7612            9  《一只救了32条人命的搜救犬牺牲了，同样是生命，为它默哀吧！》——昨天下午一只军用搜救犬发现...         1\n\n[7613 rows x 3 columns]",
      "text/html": "<div>\n<style scoped>\n    .dataframe tbody tr th:only-of-type {\n        vertical-align: middle;\n    }\n\n    .dataframe tbody tr th {\n        vertical-align: top;\n    }\n\n    .dataframe thead th {\n        text-align: right;\n    }\n</style>\n<table border=\"1\" class=\"dataframe\">\n  <thead>\n    <tr style=\"text-align: right;\">\n      <th></th>\n      <th>mid</th>\n      <th>text</th>\n      <th>is_rumor</th>\n    </tr>\n  </thead>\n  <tbody>\n    <tr>\n      <th>0</th>\n      <td>1U6k8lMp1y</td>\n      <td>【为了孩子，请拒吃转基因食品！】印度某地的羊吃了棉花收获后的草杆后，四分之一的羊死了，约5到...</td>\n      <td>1</td>\n    </tr>\n    <tr>\n      <th>1</th>\n      <td>2dKrkwjMIHC</td>\n      <td>【中国缺少这样的少年英雄。应进中学语文课本】因拆迁款等问题与家人上访的16岁少年赵明阳将一名...</td>\n      <td>0</td>\n    </tr>\n    <tr>\n      <th>2</th>\n      <td>2dKrm0nZnZH</td>\n      <td>期待这一天的到来#元畅依晨#隐婚三年终于曝光。。。。。哈哈哈哈哈哈元畅依晨你们神马都不用说、...</td>\n      <td>1</td>\n    </tr>\n    <tr>\n      <th>3</th>\n      <td>2dKs0ywFoob</td>\n      <td>懂得沙士比亞的計程車司機[吃驚] 哈哈哈~~ haha right :p To be or ...</td>\n      <td>0</td>\n    </tr>\n    <tr>\n      <th>4</th>\n      <td>2dKsGplwDPR</td>\n      <td>【视频：陈佩斯主持《焦点访谈》】其实我们不知道，早期的《焦点访谈》曾经是由陈佩斯主持的，一开...</td>\n      <td>1</td>\n    </tr>\n    <tr>\n      <th>...</th>\n      <td>...</td>\n      <td>...</td>\n      <td>...</td>\n    </tr>\n    <tr>\n      <th>7608</th>\n      <td>996</td>\n      <td>【新版狸猫换太子】湖南衡阳四中高三理科学生肖颖，今年高考成绩出来后，发短信查询为695分，当...</td>\n      <td>1</td>\n    </tr>\n    <tr>\n      <th>7609</th>\n      <td>998</td>\n      <td>#周一见# 马伊利真无辜，可怜，文章连道歉都是抄袭的，看我微博，有图有真相 ​</td>\n      <td>1</td>\n    </tr>\n    <tr>\n      <th>7610</th>\n      <td>999</td>\n      <td>央视《焦点访谈》关于共和国脊梁评选活动造假之事采访民政部门领导，手腕打上了马赛克！这是为毛？...</td>\n      <td>1</td>\n    </tr>\n    <tr>\n      <th>7611</th>\n      <td>99</td>\n      <td>【朝鲜战争为何停战?】肖仲华:板门店谈判前彭德怀要求在铁原挡住美军两周,结果只挡了两天,63...</td>\n      <td>1</td>\n    </tr>\n    <tr>\n      <th>7612</th>\n      <td>9</td>\n      <td>《一只救了32条人命的搜救犬牺牲了，同样是生命，为它默哀吧！》——昨天下午一只军用搜救犬发现...</td>\n      <td>1</td>\n    </tr>\n  </tbody>\n</table>\n<p>7613 rows × 3 columns</p>\n</div>"
     },
     "execution_count": 8,
     "metadata": {},
     "output_type": "execute_result"
    }
   ],
   "source": [
    "from tqdm import tqdm\n",
    "rumors_dir = './train/rumor-repost'\n",
    "non_rumors_dir = './train/non-rumor-repost'\n",
    "for data in tqdm(os.listdir(non_rumors_dir)):\n",
    "    js = json.load(open(os.path.join(non_rumors_dir, data), encoding='utf-8'))\n",
    "    json_df = pd.json_normalize(js)\n",
    "    json_df = json_df[~json_df['text'].str.contains('转发') & (json_df['text'] != '')]\n",
    "    new_text = json_df['text'].str.cat(sep=' ')\n",
    "    demo.loc[demo['mid'] == data.split('_')[0], 'text'] += new_text\n",
    "for data in tqdm(os.listdir(rumors_dir)):\n",
    "    js = json.load(open(os.path.join(rumors_dir, data), encoding='utf-8'))\n",
    "    json_df = pd.json_normalize(js)\n",
    "    json_df = json_df[~json_df['text'].str.contains('转发') & (json_df['text'] != '')]\n",
    "    new_text = json_df['text'].str.cat(sep=' ')\n",
    "    demo.loc[demo['mid'] == data.split('_')[0], 'text'] += new_text\n",
    "demo"
   ],
   "metadata": {
    "collapsed": false,
    "ExecuteTime": {
     "end_time": "2023-12-09T05:41:33.036917100Z",
     "start_time": "2023-12-09T05:41:14.606127200Z"
    }
   },
   "id": "fc0413bedda241c5"
  },
  {
   "cell_type": "code",
   "execution_count": 9,
   "outputs": [
    {
     "name": "stderr",
     "output_type": "stream",
     "text": [
      "100%|██████████| 1849/1849 [00:05<00:00, 362.65it/s]\n",
      "100%|██████████| 1538/1538 [00:03<00:00, 427.19it/s]\n"
     ]
    },
    {
     "data": {
      "text/plain": "              mid                                               text  is_rumor\n0      1U6k8lMp1y  【为了孩子，请拒吃转基因食品！】印度某地的羊吃了棉花收获后的草杆后，四分之一的羊死了，约5到...         1\n1     2dKrkwjMIHC  【中国缺少这样的少年英雄。应进中学语文课本】因拆迁款等问题与家人上访的16岁少年赵明阳将一名...         0\n2     2dKrm0nZnZH  期待这一天的到来#元畅依晨#隐婚三年终于曝光。。。。。哈哈哈哈哈哈元畅依晨你们神马都不用说、...         1\n3     2dKs0ywFoob  懂得沙士比亞的計程車司機[吃驚] 哈哈哈~~ haha right :p To be or ...         0\n4     2dKsGplwDPR  【视频：陈佩斯主持《焦点访谈》】其实我们不知道，早期的《焦点访谈》曾经是由陈佩斯主持的，一开...         1\n...           ...                                                ...       ...\n7608          996  【新版狸猫换太子】湖南衡阳四中高三理科学生肖颖，今年高考成绩出来后，发短信查询为695分，当...         1\n7609          998  #周一见# 马伊利真无辜，可怜，文章连道歉都是抄袭的，看我微博，有图有真相 ​我叫彭苏明，住...         1\n7610          999  央视《焦点访谈》关于共和国脊梁评选活动造假之事采访民政部门领导，手腕打上了马赛克！这是为毛？...         1\n7611           99  【朝鲜战争为何停战?】肖仲华:板门店谈判前彭德怀要求在铁原挡住美军两周,结果只挡了两天,63...         1\n7612            9  《一只救了32条人命的搜救犬牺牲了，同样是生命，为它默哀吧！》——昨天下午一只军用搜救犬发现...         1\n\n[7613 rows x 3 columns]",
      "text/html": "<div>\n<style scoped>\n    .dataframe tbody tr th:only-of-type {\n        vertical-align: middle;\n    }\n\n    .dataframe tbody tr th {\n        vertical-align: top;\n    }\n\n    .dataframe thead th {\n        text-align: right;\n    }\n</style>\n<table border=\"1\" class=\"dataframe\">\n  <thead>\n    <tr style=\"text-align: right;\">\n      <th></th>\n      <th>mid</th>\n      <th>text</th>\n      <th>is_rumor</th>\n    </tr>\n  </thead>\n  <tbody>\n    <tr>\n      <th>0</th>\n      <td>1U6k8lMp1y</td>\n      <td>【为了孩子，请拒吃转基因食品！】印度某地的羊吃了棉花收获后的草杆后，四分之一的羊死了，约5到...</td>\n      <td>1</td>\n    </tr>\n    <tr>\n      <th>1</th>\n      <td>2dKrkwjMIHC</td>\n      <td>【中国缺少这样的少年英雄。应进中学语文课本】因拆迁款等问题与家人上访的16岁少年赵明阳将一名...</td>\n      <td>0</td>\n    </tr>\n    <tr>\n      <th>2</th>\n      <td>2dKrm0nZnZH</td>\n      <td>期待这一天的到来#元畅依晨#隐婚三年终于曝光。。。。。哈哈哈哈哈哈元畅依晨你们神马都不用说、...</td>\n      <td>1</td>\n    </tr>\n    <tr>\n      <th>3</th>\n      <td>2dKs0ywFoob</td>\n      <td>懂得沙士比亞的計程車司機[吃驚] 哈哈哈~~ haha right :p To be or ...</td>\n      <td>0</td>\n    </tr>\n    <tr>\n      <th>4</th>\n      <td>2dKsGplwDPR</td>\n      <td>【视频：陈佩斯主持《焦点访谈》】其实我们不知道，早期的《焦点访谈》曾经是由陈佩斯主持的，一开...</td>\n      <td>1</td>\n    </tr>\n    <tr>\n      <th>...</th>\n      <td>...</td>\n      <td>...</td>\n      <td>...</td>\n    </tr>\n    <tr>\n      <th>7608</th>\n      <td>996</td>\n      <td>【新版狸猫换太子】湖南衡阳四中高三理科学生肖颖，今年高考成绩出来后，发短信查询为695分，当...</td>\n      <td>1</td>\n    </tr>\n    <tr>\n      <th>7609</th>\n      <td>998</td>\n      <td>#周一见# 马伊利真无辜，可怜，文章连道歉都是抄袭的，看我微博，有图有真相 ​我叫彭苏明，住...</td>\n      <td>1</td>\n    </tr>\n    <tr>\n      <th>7610</th>\n      <td>999</td>\n      <td>央视《焦点访谈》关于共和国脊梁评选活动造假之事采访民政部门领导，手腕打上了马赛克！这是为毛？...</td>\n      <td>1</td>\n    </tr>\n    <tr>\n      <th>7611</th>\n      <td>99</td>\n      <td>【朝鲜战争为何停战?】肖仲华:板门店谈判前彭德怀要求在铁原挡住美军两周,结果只挡了两天,63...</td>\n      <td>1</td>\n    </tr>\n    <tr>\n      <th>7612</th>\n      <td>9</td>\n      <td>《一只救了32条人命的搜救犬牺牲了，同样是生命，为它默哀吧！》——昨天下午一只军用搜救犬发现...</td>\n      <td>1</td>\n    </tr>\n  </tbody>\n</table>\n<p>7613 rows × 3 columns</p>\n</div>"
     },
     "execution_count": 9,
     "metadata": {},
     "output_type": "execute_result"
    }
   ],
   "source": [
    "rumors_dir = './Chinese_Rumor_Dataset/CED_Dataset/rumor-repost'\n",
    "non_rumors_dir = './Chinese_Rumor_Dataset/CED_Dataset/non-rumor-repost'\n",
    "for data in tqdm(os.listdir(non_rumors_dir)):\n",
    "    js = json.load(open(os.path.join(non_rumors_dir, data), encoding='utf-8'))\n",
    "    json_df = pd.json_normalize(js)\n",
    "    json_df = json_df[~json_df['text'].str.contains('转发') & (json_df['text'] != '')]\n",
    "    new_text = json_df['text'].str.cat(sep=' ')\n",
    "    demo.loc[demo['mid'] == data.split('_')[0], 'text'] += new_text\n",
    "for data in tqdm(os.listdir(rumors_dir)):\n",
    "    js = json.load(open(os.path.join(rumors_dir, data), encoding='utf-8'))\n",
    "    json_df = pd.json_normalize(js)\n",
    "    json_df = json_df[~json_df['text'].str.contains('转发') & (json_df['text'] != '')]\n",
    "    new_text = json_df['text'].str.cat(sep=' ')\n",
    "    demo.loc[demo['mid'] == data.split('_')[0], 'text'] += new_text\n",
    "demo"
   ],
   "metadata": {
    "collapsed": false,
    "ExecuteTime": {
     "end_time": "2023-12-09T05:41:41.742521200Z",
     "start_time": "2023-12-09T05:41:33.036917100Z"
    }
   },
   "id": "69c206932cdb4d74"
  },
  {
   "cell_type": "code",
   "execution_count": 10,
   "outputs": [
    {
     "data": {
      "text/plain": "is_rumor\n0    4063\n1    3550\nName: count, dtype: int64"
     },
     "execution_count": 10,
     "metadata": {},
     "output_type": "execute_result"
    }
   ],
   "source": [
    "demo['is_rumor'].value_counts()"
   ],
   "metadata": {
    "collapsed": false,
    "ExecuteTime": {
     "end_time": "2023-12-09T05:41:41.748522100Z",
     "start_time": "2023-12-09T05:41:41.743657Z"
    }
   },
   "id": "8d3222bbf827d219"
  },
  {
   "cell_type": "code",
   "execution_count": 11,
   "outputs": [],
   "source": [
    "def get_stopword():\n",
    "    stopwords = []\n",
    "    with open('../stopwords/baidu_stopwords.txt', 'r', encoding='utf-8') as f:\n",
    "        for line in f.readlines():\n",
    "            stopwords.append(line.strip())\n",
    "   \n",
    "    stopwords = list(set(stopwords))\n",
    "    return stopwords\n"
   ],
   "metadata": {
    "collapsed": false,
    "ExecuteTime": {
     "end_time": "2023-12-09T05:41:41.749713400Z",
     "start_time": "2023-12-09T05:41:41.746938400Z"
    }
   },
   "id": "c1ee4db9a3ad167e"
  },
  {
   "cell_type": "code",
   "execution_count": 12,
   "outputs": [
    {
     "name": "stderr",
     "output_type": "stream",
     "text": [
      "Building prefix dict from the default dictionary ...\n",
      "Dumping model to file cache C:\\Users\\shens\\AppData\\Local\\Temp\\jieba.cache\n",
      "Loading model cost 0.357 seconds.\n",
      "Prefix dict has been built successfully.\n"
     ]
    }
   ],
   "source": [
    "import jieba\n",
    "import re\n",
    "\n",
    "def wordopt_cn(text):\n",
    "    # only chinese characters\n",
    "    pattern = re.compile(r'[^\\u4e00-\\u9fa5]')\n",
    "    chinese_txt = re.sub(pattern, '', text)\n",
    "    return str(chinese_txt)\n",
    "\n",
    "\n",
    "stopwords = get_stopword()\n",
    "stopwords.append('年')\n",
    "stopwords.append('月')\n",
    "stopwords.append('日')\n",
    "stopwords.append('日日')\n",
    "stopwords.append('年月')\n",
    "stopwords.append('月日')\n",
    "stopwords.append('年月日')\n",
    "stopwords.append('回复')\n",
    "stopwords.append('关注')\n",
    "\n",
    "def remove_stopwords(text):\n",
    "    words = text.split()\n",
    "    words = [word for word in words if word not in stopwords]\n",
    "    return ' '.join(words)\n",
    "\n",
    "\n",
    "demo['text'] = demo['text'].apply(wordopt_cn)\n",
    "demo['text'] = demo['text'].apply(lambda x: ' '.join(jieba.cut(x)))\n",
    "demo['text'] = demo['text'].apply(remove_stopwords)\n",
    "demo['text'] = demo['text'].apply(lambda x: re.sub('\\\\s+', ' ', x))\n",
    "demo.drop(demo[demo['text'] == ''].index, inplace=True)\n"
   ],
   "metadata": {
    "collapsed": false,
    "ExecuteTime": {
     "end_time": "2023-12-09T05:45:45.721699500Z",
     "start_time": "2023-12-09T05:41:41.749713400Z"
    }
   },
   "id": "21688729c2523739"
  },
  {
   "cell_type": "code",
   "execution_count": 13,
   "outputs": [
    {
     "name": "stderr",
     "output_type": "stream",
     "text": [
      "f:\\anaconda3\\Lib\\site-packages\\sklearn\\feature_extraction\\text.py:525: UserWarning: The parameter 'token_pattern' will not be used since 'tokenizer' is not None'\n",
      "  warnings.warn(\n"
     ]
    }
   ],
   "source": [
    "from sklearn.feature_extraction.text import TfidfVectorizer\n",
    "\n",
    "vectorizer = TfidfVectorizer(tokenizer=str.split)\n",
    "demo['text'] = list(vectorizer.fit_transform(demo['text']).toarray())"
   ],
   "metadata": {
    "collapsed": false,
    "ExecuteTime": {
     "end_time": "2023-12-09T05:45:54.546647400Z",
     "start_time": "2023-12-09T05:45:45.723872Z"
    }
   },
   "id": "b78e53e92817c1ad"
  },
  {
   "cell_type": "code",
   "execution_count": 14,
   "outputs": [],
   "source": [
    "from sklearn.model_selection import train_test_split\n",
    "\n",
    "x = demo['text'].to_list()\n",
    "y = demo['is_rumor']\n",
    "x_train, x_test, y_train, y_test = train_test_split(x, y, test_size=0.2, random_state=42)"
   ],
   "metadata": {
    "collapsed": false,
    "ExecuteTime": {
     "end_time": "2023-12-09T05:45:54.578677900Z",
     "start_time": "2023-12-09T05:45:54.548652600Z"
    }
   },
   "id": "a41b8b4dd1c070ce"
  },
  {
   "cell_type": "code",
   "execution_count": 15,
   "outputs": [],
   "source": [
    "from sklearn.naive_bayes import MultinomialNB\n",
    "from sklearn.linear_model import LogisticRegression, SGDClassifier\n",
    "from sklearn.ensemble import VotingClassifier\n",
    "\n",
    "lr = LogisticRegression()\n",
    "clf = MultinomialNB(alpha=0.02)\n",
    "sgd_model = SGDClassifier(max_iter=8000, tol=5e-4, loss=\"modified_huber\")\n",
    "sgd_model2 = SGDClassifier(max_iter=10000, tol=3e-4, loss=\"modified_huber\", class_weight=\"balanced\")\n",
    "sgd_model3 = SGDClassifier(max_iter=15000, tol=1e-4, loss=\"modified_huber\", early_stopping=True)\n",
    "\n",
    "ensemble = VotingClassifier(\n",
    "    estimators=[('lr', lr), ('mnb', clf), ('sgd', sgd_model), ('sgd2', sgd_model2), ('sgd3', sgd_model3)],\n",
    "    weights=[0.20, 0.20, 0.20, 0.20, 0.20],\n",
    "    voting='soft',\n",
    ")"
   ],
   "metadata": {
    "collapsed": false,
    "ExecuteTime": {
     "end_time": "2023-12-09T05:45:54.636618900Z",
     "start_time": "2023-12-09T05:45:54.580127Z"
    }
   },
   "id": "ae4c2b2e3d84db31"
  },
  {
   "cell_type": "code",
   "execution_count": null,
   "outputs": [],
   "source": [
    "ensemble.fit(x_train, y_train)\n",
    "\n",
    "#preds_test = ensemble.predict_proba(x_test)\n",
    "preds_test = ensemble.predict(x_test)"
   ],
   "metadata": {
    "collapsed": false,
    "ExecuteTime": {
     "start_time": "2023-12-09T05:36:05.495020900Z"
    }
   },
   "id": "8b5d04427463a6e6"
  },
  {
   "cell_type": "code",
   "execution_count": null,
   "outputs": [],
   "source": [
    "from sklearn.metrics import accuracy_score, precision_score, recall_score, f1_score\n",
    "\n",
    "accuracy = accuracy_score(y_test, preds_test)\n",
    "precision = precision_score(y_test, preds_test, average='macro')\n",
    "recall = recall_score(y_test, preds_test, average='macro')\n",
    "f1 = f1_score(y_test, preds_test, average='macro')\n",
    "\n",
    "print('Accuracy:', accuracy)\n",
    "print('Precision:', precision)\n",
    "print('Recall:', recall)\n",
    "print('F1 Score:', f1)\n"
   ],
   "metadata": {
    "collapsed": false,
    "ExecuteTime": {
     "start_time": "2023-12-09T05:36:05.496068800Z"
    }
   },
   "id": "3724033bb274a399"
  },
  {
   "cell_type": "code",
   "execution_count": null,
   "outputs": [],
   "source": [
    "import joblib\n",
    "joblib.dump(ensemble, 'ensemble_CNB.pkl')"
   ],
   "metadata": {
    "collapsed": false,
    "ExecuteTime": {
     "start_time": "2023-12-09T05:36:05.497073600Z"
    }
   },
   "id": "69e26048c830c56b"
  },
  {
   "cell_type": "code",
   "execution_count": null,
   "outputs": [],
   "source": [
    "test_dir = './test/original-microblog'\n",
    "test_data_list = []\n",
    "for data in os.listdir(test_dir):\n",
    "    js = json.load(open(os.path.join(test_dir, data), encoding='utf-8'))\n",
    "    t = pd.json_normalize(js, sep='_')\n",
    "    t['mid'] = data.split('.')[0]\n",
    "    test_data_list.append(t)\n",
    "test_data = pd.concat(test_data_list, axis=0, ignore_index=True)\n",
    "test_data"
   ],
   "metadata": {
    "collapsed": false,
    "ExecuteTime": {
     "start_time": "2023-12-09T05:36:05.497073600Z"
    }
   },
   "id": "e8255b771296eb9d"
  },
  {
   "cell_type": "code",
   "execution_count": null,
   "outputs": [],
   "source": [
    "test_text = test_data[['mid', 'text']]\n",
    "test_repost_dir = './test/repost'\n",
    "for data in tqdm(os.listdir(test_repost_dir)):\n",
    "    js = json.load(open(os.path.join(test_repost_dir, data), encoding='utf-8'))\n",
    "    json_df = pd.json_normalize(js)\n",
    "    json_df = json_df[~json_df['text'].str.contains('转发') & (json_df['text'] != '')]\n",
    "    new_text = json_df['text'].str.cat(sep=' ')\n",
    "    test_text.loc[test_text['mid'] == data.split('.')[0], 'text'] += new_text\n",
    "test_text"
   ],
   "metadata": {
    "collapsed": false,
    "ExecuteTime": {
     "start_time": "2023-12-09T05:36:05.499077Z"
    }
   },
   "id": "197ff240ff5319c2"
  },
  {
   "cell_type": "code",
   "execution_count": null,
   "outputs": [],
   "source": [
    "with open('submission_FIT.csv', 'w', encoding='utf-8') as f:\n",
    "    f.write('id\\tlabel\\n')\n",
    "    for _, row in test_text.iterrows():\n",
    "        row['text'] = wordopt_cn(row['text'])\n",
    "        row['text'] = ' '.join(jieba.cut(row['text']))\n",
    "        row['text'] = remove_stopwords(row['text'])\n",
    "        row['text'] = re.sub('\\\\s+', ' ', row['text'])\n",
    "        if row['text'] == '':\n",
    "            row['is_rumor'] = 0\n",
    "            f.write(f\"{row['mid']}\\t0\\n\")\n",
    "        else:\n",
    "            row['text'] = vectorizer.transform([row['text']]).toarray()\n",
    "            row['is_rumor'] = ensemble.predict(row['text'])[0]\n",
    "            f.write(f\"{row['mid']}\\t{ensemble.predict(row['text'])[0]}\\n\")\n"
   ],
   "metadata": {
    "collapsed": false,
    "ExecuteTime": {
     "start_time": "2023-12-09T05:36:05.500075900Z"
    }
   },
   "id": "27b70c9426466dbb"
  },
  {
   "cell_type": "code",
   "execution_count": null,
   "outputs": [],
   "source": [
    "test_text['is_rumor'] = ensemble.predict(test_text['text'].to_list())"
   ],
   "metadata": {
    "collapsed": false,
    "ExecuteTime": {
     "start_time": "2023-12-09T05:36:05.500075900Z"
    }
   },
   "id": "c2e6b3128aed8b70"
  },
  {
   "cell_type": "code",
   "execution_count": null,
   "outputs": [],
   "source": [],
   "metadata": {
    "collapsed": false,
    "ExecuteTime": {
     "start_time": "2023-12-09T05:36:05.501077400Z"
    }
   },
   "id": "9117e6a112a0bbe2"
  }
 ],
 "metadata": {
  "kernelspec": {
   "display_name": "Python 3",
   "language": "python",
   "name": "python3"
  },
  "language_info": {
   "codemirror_mode": {
    "name": "ipython",
    "version": 2
   },
   "file_extension": ".py",
   "mimetype": "text/x-python",
   "name": "python",
   "nbconvert_exporter": "python",
   "pygments_lexer": "ipython2",
   "version": "2.7.6"
  }
 },
 "nbformat": 4,
 "nbformat_minor": 5
}

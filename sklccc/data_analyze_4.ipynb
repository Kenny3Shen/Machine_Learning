{
 "cells": [
  {
   "cell_type": "code",
   "execution_count": 1,
   "id": "initial_id",
   "metadata": {
    "collapsed": true,
    "ExecuteTime": {
     "end_time": "2023-11-28T13:40:17.464454700Z",
     "start_time": "2023-11-28T13:40:17.054630200Z"
    }
   },
   "outputs": [],
   "source": [
    "import pandas as pd\n",
    "import json\n",
    "import os"
   ]
  },
  {
   "cell_type": "code",
   "execution_count": 12,
   "outputs": [
    {
     "data": {
      "text/plain": "                                                   text  has_url  comments  \\\n0     【为了孩子，请拒吃转基因食品！】印度某地的羊吃了棉花收获后的草杆后，四分之一的羊死了，约5到...    False       306   \n1     【中国缺少这样的少年英雄。应进中学语文课本】因拆迁款等问题与家人上访的16岁少年赵明阳将一名...    False       215   \n2     期待这一天的到来#元畅依晨#隐婚三年终于曝光。。。。。哈哈哈哈哈哈元畅依晨你们神马都不用说、...    False       795   \n3                                          懂得沙士比亞的計程車司機    False       185   \n4     【视频：陈佩斯主持《焦点访谈》】其实我们不知道，早期的《焦点访谈》曾经是由陈佩斯主持的，一开...     True       287   \n...                                                 ...      ...       ...   \n4221  【四川绵阳市越狱46人 45男 1女 大多为90后 男性大多为强奸犯 女为杀人犯 南山下面一...     True       133   \n4222  【“呵呵”——最恶心的聊天词汇，你中枪了么？】有人说，所有词语里最恶心的、最伤人的莫过于“呵...    False       169   \n4223  年轻时无论如何要确立一个目标。一克服懒惰消极靠目标。没目标就瞎混，一天到晚打牌玩游戏睡懒觉。...    False       108   \n4224  牙膏底部的短线，绿色天然的。蓝色天然加药物，红色药物家化学，黑色纯化学。童鞋们~今后购买要记...    False         7   \n4225  #每日一帖#[生活百科][生活常识]牙膏底部的短线，绿色天然的。蓝色天然加药物，红色药物加化...    False        15   \n\n      pics  likes        time  reposts          mid      user_uid  \\\n0        1      1  1301754691      606   1U6k8lMp1y  1.155516e+09   \n1        0      0  1295670050      555  2dKrkwjMIHC  1.173360e+09   \n2        1      9  1296217427     4104  2dKrm0nZnZH  1.765139e+09   \n3        1     46  1297572047     1189  2dKs0ywFoob  1.750361e+09   \n4        0     69  1299158904      957  2dKsGplwDPR  1.640601e+09   \n...    ...    ...         ...      ...          ...           ...   \n4221     1      4  1370274687      346    zzLQSkl9W  1.779126e+09   \n4222     1     15  1370274907      334    zzLSl4IL0  1.720963e+09   \n4223     0     65  1370049881      635    zznk2uq5w  1.194869e+09   \n4224     1      1  1370346065      108    zzTDJu6C4  2.094248e+09   \n4225     1      9  1370347921      144    zzTQhvlSt  2.395440e+09   \n\n     user_verified user_description user_gender  user_messages  \\\n0            False             True           m         7055.0   \n1             True             True           m        18854.0   \n2            False             True           f         1741.0   \n3            False             True           m          444.0   \n4             True             True           m        62318.0   \n...            ...              ...         ...            ...   \n4221         False             True           f         1046.0   \n4222          True             True           m        86209.0   \n4223          True             True           m         7282.0   \n4224          True             True           f        16031.0   \n4225          True             True           m          782.0   \n\n      user_followers user_location     user_time  user_friends  \\\n0            28319.0            上海  1.271574e+09        1985.0   \n1           191425.0         海外 美国  1.251449e+09         658.0   \n2             4660.0         江苏 徐州  1.277876e+09         264.0   \n3             1478.0            香港  1.275556e+09         129.0   \n4          7305697.0        北京 海淀区  1.251449e+09        2002.0   \n...              ...           ...           ...           ...   \n4221          1625.0         四川 成都  1.279531e+09         570.0   \n4222       7049685.0         湖北 武汉  1.269820e+09         978.0   \n4223       8239965.0        北京 海淀区  1.251448e+09         785.0   \n4224         55139.0       黑龙江 哈尔滨  1.303181e+09        1823.0   \n4225        149966.0            湖北  1.317643e+09         390.0   \n\n      user_verified_type user  \n0                   -1.0  NaN  \n1                    0.0  NaN  \n2                   -1.0  NaN  \n3                   -1.0  NaN  \n4                    3.0  NaN  \n...                  ...  ...  \n4221               220.0  NaN  \n4222                 3.0  NaN  \n4223                 0.0  NaN  \n4224                 3.0  NaN  \n4225                 0.0  NaN  \n\n[4226 rows x 19 columns]",
      "text/html": "<div>\n<style scoped>\n    .dataframe tbody tr th:only-of-type {\n        vertical-align: middle;\n    }\n\n    .dataframe tbody tr th {\n        vertical-align: top;\n    }\n\n    .dataframe thead th {\n        text-align: right;\n    }\n</style>\n<table border=\"1\" class=\"dataframe\">\n  <thead>\n    <tr style=\"text-align: right;\">\n      <th></th>\n      <th>text</th>\n      <th>has_url</th>\n      <th>comments</th>\n      <th>pics</th>\n      <th>likes</th>\n      <th>time</th>\n      <th>reposts</th>\n      <th>mid</th>\n      <th>user_uid</th>\n      <th>user_verified</th>\n      <th>user_description</th>\n      <th>user_gender</th>\n      <th>user_messages</th>\n      <th>user_followers</th>\n      <th>user_location</th>\n      <th>user_time</th>\n      <th>user_friends</th>\n      <th>user_verified_type</th>\n      <th>user</th>\n    </tr>\n  </thead>\n  <tbody>\n    <tr>\n      <th>0</th>\n      <td>【为了孩子，请拒吃转基因食品！】印度某地的羊吃了棉花收获后的草杆后，四分之一的羊死了，约5到...</td>\n      <td>False</td>\n      <td>306</td>\n      <td>1</td>\n      <td>1</td>\n      <td>1301754691</td>\n      <td>606</td>\n      <td>1U6k8lMp1y</td>\n      <td>1.155516e+09</td>\n      <td>False</td>\n      <td>True</td>\n      <td>m</td>\n      <td>7055.0</td>\n      <td>28319.0</td>\n      <td>上海</td>\n      <td>1.271574e+09</td>\n      <td>1985.0</td>\n      <td>-1.0</td>\n      <td>NaN</td>\n    </tr>\n    <tr>\n      <th>1</th>\n      <td>【中国缺少这样的少年英雄。应进中学语文课本】因拆迁款等问题与家人上访的16岁少年赵明阳将一名...</td>\n      <td>False</td>\n      <td>215</td>\n      <td>0</td>\n      <td>0</td>\n      <td>1295670050</td>\n      <td>555</td>\n      <td>2dKrkwjMIHC</td>\n      <td>1.173360e+09</td>\n      <td>True</td>\n      <td>True</td>\n      <td>m</td>\n      <td>18854.0</td>\n      <td>191425.0</td>\n      <td>海外 美国</td>\n      <td>1.251449e+09</td>\n      <td>658.0</td>\n      <td>0.0</td>\n      <td>NaN</td>\n    </tr>\n    <tr>\n      <th>2</th>\n      <td>期待这一天的到来#元畅依晨#隐婚三年终于曝光。。。。。哈哈哈哈哈哈元畅依晨你们神马都不用说、...</td>\n      <td>False</td>\n      <td>795</td>\n      <td>1</td>\n      <td>9</td>\n      <td>1296217427</td>\n      <td>4104</td>\n      <td>2dKrm0nZnZH</td>\n      <td>1.765139e+09</td>\n      <td>False</td>\n      <td>True</td>\n      <td>f</td>\n      <td>1741.0</td>\n      <td>4660.0</td>\n      <td>江苏 徐州</td>\n      <td>1.277876e+09</td>\n      <td>264.0</td>\n      <td>-1.0</td>\n      <td>NaN</td>\n    </tr>\n    <tr>\n      <th>3</th>\n      <td>懂得沙士比亞的計程車司機</td>\n      <td>False</td>\n      <td>185</td>\n      <td>1</td>\n      <td>46</td>\n      <td>1297572047</td>\n      <td>1189</td>\n      <td>2dKs0ywFoob</td>\n      <td>1.750361e+09</td>\n      <td>False</td>\n      <td>True</td>\n      <td>m</td>\n      <td>444.0</td>\n      <td>1478.0</td>\n      <td>香港</td>\n      <td>1.275556e+09</td>\n      <td>129.0</td>\n      <td>-1.0</td>\n      <td>NaN</td>\n    </tr>\n    <tr>\n      <th>4</th>\n      <td>【视频：陈佩斯主持《焦点访谈》】其实我们不知道，早期的《焦点访谈》曾经是由陈佩斯主持的，一开...</td>\n      <td>True</td>\n      <td>287</td>\n      <td>0</td>\n      <td>69</td>\n      <td>1299158904</td>\n      <td>957</td>\n      <td>2dKsGplwDPR</td>\n      <td>1.640601e+09</td>\n      <td>True</td>\n      <td>True</td>\n      <td>m</td>\n      <td>62318.0</td>\n      <td>7305697.0</td>\n      <td>北京 海淀区</td>\n      <td>1.251449e+09</td>\n      <td>2002.0</td>\n      <td>3.0</td>\n      <td>NaN</td>\n    </tr>\n    <tr>\n      <th>...</th>\n      <td>...</td>\n      <td>...</td>\n      <td>...</td>\n      <td>...</td>\n      <td>...</td>\n      <td>...</td>\n      <td>...</td>\n      <td>...</td>\n      <td>...</td>\n      <td>...</td>\n      <td>...</td>\n      <td>...</td>\n      <td>...</td>\n      <td>...</td>\n      <td>...</td>\n      <td>...</td>\n      <td>...</td>\n      <td>...</td>\n      <td>...</td>\n    </tr>\n    <tr>\n      <th>4221</th>\n      <td>【四川绵阳市越狱46人 45男 1女 大多为90后 男性大多为强奸犯 女为杀人犯 南山下面一...</td>\n      <td>True</td>\n      <td>133</td>\n      <td>1</td>\n      <td>4</td>\n      <td>1370274687</td>\n      <td>346</td>\n      <td>zzLQSkl9W</td>\n      <td>1.779126e+09</td>\n      <td>False</td>\n      <td>True</td>\n      <td>f</td>\n      <td>1046.0</td>\n      <td>1625.0</td>\n      <td>四川 成都</td>\n      <td>1.279531e+09</td>\n      <td>570.0</td>\n      <td>220.0</td>\n      <td>NaN</td>\n    </tr>\n    <tr>\n      <th>4222</th>\n      <td>【“呵呵”——最恶心的聊天词汇，你中枪了么？】有人说，所有词语里最恶心的、最伤人的莫过于“呵...</td>\n      <td>False</td>\n      <td>169</td>\n      <td>1</td>\n      <td>15</td>\n      <td>1370274907</td>\n      <td>334</td>\n      <td>zzLSl4IL0</td>\n      <td>1.720963e+09</td>\n      <td>True</td>\n      <td>True</td>\n      <td>m</td>\n      <td>86209.0</td>\n      <td>7049685.0</td>\n      <td>湖北 武汉</td>\n      <td>1.269820e+09</td>\n      <td>978.0</td>\n      <td>3.0</td>\n      <td>NaN</td>\n    </tr>\n    <tr>\n      <th>4223</th>\n      <td>年轻时无论如何要确立一个目标。一克服懒惰消极靠目标。没目标就瞎混，一天到晚打牌玩游戏睡懒觉。...</td>\n      <td>False</td>\n      <td>108</td>\n      <td>0</td>\n      <td>65</td>\n      <td>1370049881</td>\n      <td>635</td>\n      <td>zznk2uq5w</td>\n      <td>1.194869e+09</td>\n      <td>True</td>\n      <td>True</td>\n      <td>m</td>\n      <td>7282.0</td>\n      <td>8239965.0</td>\n      <td>北京 海淀区</td>\n      <td>1.251448e+09</td>\n      <td>785.0</td>\n      <td>0.0</td>\n      <td>NaN</td>\n    </tr>\n    <tr>\n      <th>4224</th>\n      <td>牙膏底部的短线，绿色天然的。蓝色天然加药物，红色药物家化学，黑色纯化学。童鞋们~今后购买要记...</td>\n      <td>False</td>\n      <td>7</td>\n      <td>1</td>\n      <td>1</td>\n      <td>1370346065</td>\n      <td>108</td>\n      <td>zzTDJu6C4</td>\n      <td>2.094248e+09</td>\n      <td>True</td>\n      <td>True</td>\n      <td>f</td>\n      <td>16031.0</td>\n      <td>55139.0</td>\n      <td>黑龙江 哈尔滨</td>\n      <td>1.303181e+09</td>\n      <td>1823.0</td>\n      <td>3.0</td>\n      <td>NaN</td>\n    </tr>\n    <tr>\n      <th>4225</th>\n      <td>#每日一帖#[生活百科][生活常识]牙膏底部的短线，绿色天然的。蓝色天然加药物，红色药物加化...</td>\n      <td>False</td>\n      <td>15</td>\n      <td>1</td>\n      <td>9</td>\n      <td>1370347921</td>\n      <td>144</td>\n      <td>zzTQhvlSt</td>\n      <td>2.395440e+09</td>\n      <td>True</td>\n      <td>True</td>\n      <td>m</td>\n      <td>782.0</td>\n      <td>149966.0</td>\n      <td>湖北</td>\n      <td>1.317643e+09</td>\n      <td>390.0</td>\n      <td>0.0</td>\n      <td>NaN</td>\n    </tr>\n  </tbody>\n</table>\n<p>4226 rows × 19 columns</p>\n</div>"
     },
     "execution_count": 12,
     "metadata": {},
     "output_type": "execute_result"
    }
   ],
   "source": [
    "dataset_dir = './train/original-microblog/'\n",
    "data_list = []\n",
    "for data in os.listdir(dataset_dir):\n",
    "    js = json.load(open(os.path.join(dataset_dir, data), encoding='utf-8'))\n",
    "    t = pd.json_normalize(js, sep='_')\n",
    "    data_list.append(t)\n",
    "df = pd.concat(data_list, axis=0, ignore_index=True)\n",
    "df"
   ],
   "metadata": {
    "collapsed": false,
    "ExecuteTime": {
     "end_time": "2023-11-28T13:41:14.893977800Z",
     "start_time": "2023-11-28T13:41:10.872379200Z"
    }
   },
   "id": "262d5bc91aa1f580"
  },
  {
   "cell_type": "code",
   "execution_count": 13,
   "outputs": [
    {
     "data": {
      "text/plain": "                                                   text  has_url  comments  \\\n0     【为了孩子，请拒吃转基因食品！】印度某地的羊吃了棉花收获后的草杆后，四分之一的羊死了，约5到...    False       306   \n1     【中国缺少这样的少年英雄。应进中学语文课本】因拆迁款等问题与家人上访的16岁少年赵明阳将一名...    False       215   \n2     期待这一天的到来#元畅依晨#隐婚三年终于曝光。。。。。哈哈哈哈哈哈元畅依晨你们神马都不用说、...    False       795   \n3                                          懂得沙士比亞的計程車司機    False       185   \n4     【视频：陈佩斯主持《焦点访谈》】其实我们不知道，早期的《焦点访谈》曾经是由陈佩斯主持的，一开...     True       287   \n...                                                 ...      ...       ...   \n4221  【四川绵阳市越狱46人 45男 1女 大多为90后 男性大多为强奸犯 女为杀人犯 南山下面一...     True       133   \n4222  【“呵呵”——最恶心的聊天词汇，你中枪了么？】有人说，所有词语里最恶心的、最伤人的莫过于“呵...    False       169   \n4223  年轻时无论如何要确立一个目标。一克服懒惰消极靠目标。没目标就瞎混，一天到晚打牌玩游戏睡懒觉。...    False       108   \n4224  牙膏底部的短线，绿色天然的。蓝色天然加药物，红色药物家化学，黑色纯化学。童鞋们~今后购买要记...    False         7   \n4225  #每日一帖#[生活百科][生活常识]牙膏底部的短线，绿色天然的。蓝色天然加药物，红色药物加化...    False        15   \n\n      pics  likes        time  reposts          mid      user_uid  \\\n0        1      1  1301754691      606   1U6k8lMp1y  1.155516e+09   \n1        0      0  1295670050      555  2dKrkwjMIHC  1.173360e+09   \n2        1      9  1296217427     4104  2dKrm0nZnZH  1.765139e+09   \n3        1     46  1297572047     1189  2dKs0ywFoob  1.750361e+09   \n4        0     69  1299158904      957  2dKsGplwDPR  1.640601e+09   \n...    ...    ...         ...      ...          ...           ...   \n4221     1      4  1370274687      346    zzLQSkl9W  1.779126e+09   \n4222     1     15  1370274907      334    zzLSl4IL0  1.720963e+09   \n4223     0     65  1370049881      635    zznk2uq5w  1.194869e+09   \n4224     1      1  1370346065      108    zzTDJu6C4  2.094248e+09   \n4225     1      9  1370347921      144    zzTQhvlSt  2.395440e+09   \n\n     user_verified user_description user_gender  user_messages  \\\n0            False             True           m         7055.0   \n1             True             True           m        18854.0   \n2            False             True           f         1741.0   \n3            False             True           m          444.0   \n4             True             True           m        62318.0   \n...            ...              ...         ...            ...   \n4221         False             True           f         1046.0   \n4222          True             True           m        86209.0   \n4223          True             True           m         7282.0   \n4224          True             True           f        16031.0   \n4225          True             True           m          782.0   \n\n      user_followers user_location     user_time  user_friends  \\\n0            28319.0            上海  1.271574e+09        1985.0   \n1           191425.0         海外 美国  1.251449e+09         658.0   \n2             4660.0         江苏 徐州  1.277876e+09         264.0   \n3             1478.0            香港  1.275556e+09         129.0   \n4          7305697.0        北京 海淀区  1.251449e+09        2002.0   \n...              ...           ...           ...           ...   \n4221          1625.0         四川 成都  1.279531e+09         570.0   \n4222       7049685.0         湖北 武汉  1.269820e+09         978.0   \n4223       8239965.0        北京 海淀区  1.251448e+09         785.0   \n4224         55139.0       黑龙江 哈尔滨  1.303181e+09        1823.0   \n4225        149966.0            湖北  1.317643e+09         390.0   \n\n      user_verified_type user  is_rumor  \n0                   -1.0  NaN       1.0  \n1                    0.0  NaN       0.0  \n2                   -1.0  NaN       1.0  \n3                   -1.0  NaN       0.0  \n4                    3.0  NaN       1.0  \n...                  ...  ...       ...  \n4221               220.0  NaN       1.0  \n4222                 3.0  NaN       0.0  \n4223                 0.0  NaN       0.0  \n4224                 3.0  NaN       1.0  \n4225                 0.0  NaN       1.0  \n\n[4226 rows x 20 columns]",
      "text/html": "<div>\n<style scoped>\n    .dataframe tbody tr th:only-of-type {\n        vertical-align: middle;\n    }\n\n    .dataframe tbody tr th {\n        vertical-align: top;\n    }\n\n    .dataframe thead th {\n        text-align: right;\n    }\n</style>\n<table border=\"1\" class=\"dataframe\">\n  <thead>\n    <tr style=\"text-align: right;\">\n      <th></th>\n      <th>text</th>\n      <th>has_url</th>\n      <th>comments</th>\n      <th>pics</th>\n      <th>likes</th>\n      <th>time</th>\n      <th>reposts</th>\n      <th>mid</th>\n      <th>user_uid</th>\n      <th>user_verified</th>\n      <th>user_description</th>\n      <th>user_gender</th>\n      <th>user_messages</th>\n      <th>user_followers</th>\n      <th>user_location</th>\n      <th>user_time</th>\n      <th>user_friends</th>\n      <th>user_verified_type</th>\n      <th>user</th>\n      <th>is_rumor</th>\n    </tr>\n  </thead>\n  <tbody>\n    <tr>\n      <th>0</th>\n      <td>【为了孩子，请拒吃转基因食品！】印度某地的羊吃了棉花收获后的草杆后，四分之一的羊死了，约5到...</td>\n      <td>False</td>\n      <td>306</td>\n      <td>1</td>\n      <td>1</td>\n      <td>1301754691</td>\n      <td>606</td>\n      <td>1U6k8lMp1y</td>\n      <td>1.155516e+09</td>\n      <td>False</td>\n      <td>True</td>\n      <td>m</td>\n      <td>7055.0</td>\n      <td>28319.0</td>\n      <td>上海</td>\n      <td>1.271574e+09</td>\n      <td>1985.0</td>\n      <td>-1.0</td>\n      <td>NaN</td>\n      <td>1.0</td>\n    </tr>\n    <tr>\n      <th>1</th>\n      <td>【中国缺少这样的少年英雄。应进中学语文课本】因拆迁款等问题与家人上访的16岁少年赵明阳将一名...</td>\n      <td>False</td>\n      <td>215</td>\n      <td>0</td>\n      <td>0</td>\n      <td>1295670050</td>\n      <td>555</td>\n      <td>2dKrkwjMIHC</td>\n      <td>1.173360e+09</td>\n      <td>True</td>\n      <td>True</td>\n      <td>m</td>\n      <td>18854.0</td>\n      <td>191425.0</td>\n      <td>海外 美国</td>\n      <td>1.251449e+09</td>\n      <td>658.0</td>\n      <td>0.0</td>\n      <td>NaN</td>\n      <td>0.0</td>\n    </tr>\n    <tr>\n      <th>2</th>\n      <td>期待这一天的到来#元畅依晨#隐婚三年终于曝光。。。。。哈哈哈哈哈哈元畅依晨你们神马都不用说、...</td>\n      <td>False</td>\n      <td>795</td>\n      <td>1</td>\n      <td>9</td>\n      <td>1296217427</td>\n      <td>4104</td>\n      <td>2dKrm0nZnZH</td>\n      <td>1.765139e+09</td>\n      <td>False</td>\n      <td>True</td>\n      <td>f</td>\n      <td>1741.0</td>\n      <td>4660.0</td>\n      <td>江苏 徐州</td>\n      <td>1.277876e+09</td>\n      <td>264.0</td>\n      <td>-1.0</td>\n      <td>NaN</td>\n      <td>1.0</td>\n    </tr>\n    <tr>\n      <th>3</th>\n      <td>懂得沙士比亞的計程車司機</td>\n      <td>False</td>\n      <td>185</td>\n      <td>1</td>\n      <td>46</td>\n      <td>1297572047</td>\n      <td>1189</td>\n      <td>2dKs0ywFoob</td>\n      <td>1.750361e+09</td>\n      <td>False</td>\n      <td>True</td>\n      <td>m</td>\n      <td>444.0</td>\n      <td>1478.0</td>\n      <td>香港</td>\n      <td>1.275556e+09</td>\n      <td>129.0</td>\n      <td>-1.0</td>\n      <td>NaN</td>\n      <td>0.0</td>\n    </tr>\n    <tr>\n      <th>4</th>\n      <td>【视频：陈佩斯主持《焦点访谈》】其实我们不知道，早期的《焦点访谈》曾经是由陈佩斯主持的，一开...</td>\n      <td>True</td>\n      <td>287</td>\n      <td>0</td>\n      <td>69</td>\n      <td>1299158904</td>\n      <td>957</td>\n      <td>2dKsGplwDPR</td>\n      <td>1.640601e+09</td>\n      <td>True</td>\n      <td>True</td>\n      <td>m</td>\n      <td>62318.0</td>\n      <td>7305697.0</td>\n      <td>北京 海淀区</td>\n      <td>1.251449e+09</td>\n      <td>2002.0</td>\n      <td>3.0</td>\n      <td>NaN</td>\n      <td>1.0</td>\n    </tr>\n    <tr>\n      <th>...</th>\n      <td>...</td>\n      <td>...</td>\n      <td>...</td>\n      <td>...</td>\n      <td>...</td>\n      <td>...</td>\n      <td>...</td>\n      <td>...</td>\n      <td>...</td>\n      <td>...</td>\n      <td>...</td>\n      <td>...</td>\n      <td>...</td>\n      <td>...</td>\n      <td>...</td>\n      <td>...</td>\n      <td>...</td>\n      <td>...</td>\n      <td>...</td>\n      <td>...</td>\n    </tr>\n    <tr>\n      <th>4221</th>\n      <td>【四川绵阳市越狱46人 45男 1女 大多为90后 男性大多为强奸犯 女为杀人犯 南山下面一...</td>\n      <td>True</td>\n      <td>133</td>\n      <td>1</td>\n      <td>4</td>\n      <td>1370274687</td>\n      <td>346</td>\n      <td>zzLQSkl9W</td>\n      <td>1.779126e+09</td>\n      <td>False</td>\n      <td>True</td>\n      <td>f</td>\n      <td>1046.0</td>\n      <td>1625.0</td>\n      <td>四川 成都</td>\n      <td>1.279531e+09</td>\n      <td>570.0</td>\n      <td>220.0</td>\n      <td>NaN</td>\n      <td>1.0</td>\n    </tr>\n    <tr>\n      <th>4222</th>\n      <td>【“呵呵”——最恶心的聊天词汇，你中枪了么？】有人说，所有词语里最恶心的、最伤人的莫过于“呵...</td>\n      <td>False</td>\n      <td>169</td>\n      <td>1</td>\n      <td>15</td>\n      <td>1370274907</td>\n      <td>334</td>\n      <td>zzLSl4IL0</td>\n      <td>1.720963e+09</td>\n      <td>True</td>\n      <td>True</td>\n      <td>m</td>\n      <td>86209.0</td>\n      <td>7049685.0</td>\n      <td>湖北 武汉</td>\n      <td>1.269820e+09</td>\n      <td>978.0</td>\n      <td>3.0</td>\n      <td>NaN</td>\n      <td>0.0</td>\n    </tr>\n    <tr>\n      <th>4223</th>\n      <td>年轻时无论如何要确立一个目标。一克服懒惰消极靠目标。没目标就瞎混，一天到晚打牌玩游戏睡懒觉。...</td>\n      <td>False</td>\n      <td>108</td>\n      <td>0</td>\n      <td>65</td>\n      <td>1370049881</td>\n      <td>635</td>\n      <td>zznk2uq5w</td>\n      <td>1.194869e+09</td>\n      <td>True</td>\n      <td>True</td>\n      <td>m</td>\n      <td>7282.0</td>\n      <td>8239965.0</td>\n      <td>北京 海淀区</td>\n      <td>1.251448e+09</td>\n      <td>785.0</td>\n      <td>0.0</td>\n      <td>NaN</td>\n      <td>0.0</td>\n    </tr>\n    <tr>\n      <th>4224</th>\n      <td>牙膏底部的短线，绿色天然的。蓝色天然加药物，红色药物家化学，黑色纯化学。童鞋们~今后购买要记...</td>\n      <td>False</td>\n      <td>7</td>\n      <td>1</td>\n      <td>1</td>\n      <td>1370346065</td>\n      <td>108</td>\n      <td>zzTDJu6C4</td>\n      <td>2.094248e+09</td>\n      <td>True</td>\n      <td>True</td>\n      <td>f</td>\n      <td>16031.0</td>\n      <td>55139.0</td>\n      <td>黑龙江 哈尔滨</td>\n      <td>1.303181e+09</td>\n      <td>1823.0</td>\n      <td>3.0</td>\n      <td>NaN</td>\n      <td>1.0</td>\n    </tr>\n    <tr>\n      <th>4225</th>\n      <td>#每日一帖#[生活百科][生活常识]牙膏底部的短线，绿色天然的。蓝色天然加药物，红色药物加化...</td>\n      <td>False</td>\n      <td>15</td>\n      <td>1</td>\n      <td>9</td>\n      <td>1370347921</td>\n      <td>144</td>\n      <td>zzTQhvlSt</td>\n      <td>2.395440e+09</td>\n      <td>True</td>\n      <td>True</td>\n      <td>m</td>\n      <td>782.0</td>\n      <td>149966.0</td>\n      <td>湖北</td>\n      <td>1.317643e+09</td>\n      <td>390.0</td>\n      <td>0.0</td>\n      <td>NaN</td>\n      <td>1.0</td>\n    </tr>\n  </tbody>\n</table>\n<p>4226 rows × 20 columns</p>\n</div>"
     },
     "execution_count": 13,
     "metadata": {},
     "output_type": "execute_result"
    }
   ],
   "source": [
    "non_rumors_dir = './train/non-rumor-repost'\n",
    "rumors_dir = './train/rumor-repost'\n",
    "for data in os.listdir(non_rumors_dir):\n",
    "    mid = data.split('_')[0]\n",
    "    df.loc[df['mid'] == mid, 'is_rumor'] = 0\n",
    "for data in os.listdir(rumors_dir):\n",
    "    mid = data.split('_')[0]\n",
    "    df.loc[df['mid'] == mid, 'is_rumor'] = 1\n",
    "df"
   ],
   "metadata": {
    "collapsed": false,
    "ExecuteTime": {
     "end_time": "2023-11-28T13:41:23.855823700Z",
     "start_time": "2023-11-28T13:41:22.447943300Z"
    }
   },
   "id": "cea70fe318723779"
  },
  {
   "cell_type": "code",
   "execution_count": 14,
   "outputs": [],
   "source": [
    "rumor_repost_dir = './train/rumor-repost'\n",
    "for data in os.listdir(rumor_repost_dir):\n",
    "    js = json.load(open(os.path.join(dataset_dir, data), encoding='utf-8'))\n",
    "    t = pd.json_normalize(js, sep='_')\n",
    "    data_list.append(t)\n"
   ],
   "metadata": {
    "collapsed": false,
    "ExecuteTime": {
     "end_time": "2023-11-28T13:41:24.936743900Z",
     "start_time": "2023-11-28T13:41:23.858827Z"
    }
   },
   "id": "2686a4c9225a8c8"
  },
  {
   "cell_type": "code",
   "execution_count": 15,
   "outputs": [
    {
     "name": "stderr",
     "output_type": "stream",
     "text": [
      "d:\\anaconda3\\Lib\\site-packages\\IPython\\lib\\pretty.py:778: FutureWarning: In a future version, object-dtype columns with all-bool values will not be included in reductions with bool_only=True. Explicitly cast to bool dtype instead.\n",
      "  output = repr(obj)\n",
      "d:\\anaconda3\\Lib\\site-packages\\IPython\\core\\formatters.py:344: FutureWarning: In a future version, object-dtype columns with all-bool values will not be included in reductions with bool_only=True. Explicitly cast to bool dtype instead.\n",
      "  return method()\n"
     ]
    },
    {
     "data": {
      "text/plain": "     multi                                               text  has_url  \\\n0     None  人间惨剧：今天下午约14点，宁波妇儿医院，一妇女携带一婴儿在住院楼跳楼，后抢救无效死亡。具体...    False   \n1     None  再去武大，已无牌坊！非要拆掉？@章立凡 @袁裕来律师 @老徐时评 @徐昕 @杨锦麟 @左小祖...    False   \n2     None  中国最美丽的乡村\"江西婺源\"一\"教师打死学生\" 昨晚，在被誉为中国最美丽的乡村江西省婺源县清...     True   \n3     None  忍者QS：江苏省东海县女镇党委书记徐艳，因不愿陪县委书记关永健上床，竟然被警察毒打致子宫破裂...     True   \n4     None  《北大猛男，持刀刺官！！！》“可歌可泣”的是王同学投案自首之后冷冷说了一句话是 “我并不后悔...    False   \n...    ...                                                ...      ...   \n3382  None  【新版狸猫换太子】湖南衡阳四中高三理科学生肖颖，今年高考成绩出来后，发短信查询为695分，当...     True   \n3383  None            #周一见# 马伊利真无辜，可怜，文章连道歉都是抄袭的，看我微博，有图有真相 ​    False   \n3384  None  央视《焦点访谈》关于共和国脊梁评选活动造假之事采访民政部门领导，手腕打上了马赛克！这是为毛？...    False   \n3385  None  【朝鲜战争为何停战?】肖仲华:板门店谈判前彭德怀要求在铁原挡住美军两周,结果只挡了两天,63...    False   \n3386  None  《一只救了32条人命的搜救犬牺牲了，同样是生命，为它默哀吧！》——昨天下午一只军用搜救犬发现...    False   \n\n      comments  pics        source  likes                            time  \\\n0           55     1  微博 weibo.com      0                      1347334462   \n1          170     1  微博 weibo.com      0                      1349768694   \n2          466     0            微吧      0                      1363146924   \n3           15     0  微博 weibo.com      6                      1380971862   \n4           78     1      360安全浏览器     11                      1368078370   \n...        ...   ...           ...    ...                             ...   \n3382       127     1       iPad客户端      0  Sun Jul 01 17:29:06 +0800 2012   \n3383        70     1     iPhone客户端    128  Mon Mar 31 20:25:25 +0800 2014   \n3384       113     1  微博 weibo.com      6  Fri Mar 22 16:29:23 +0800 2013   \n3385       156     1  微博 weibo.com      2  Sun May 19 10:12:53 +0800 2013   \n3386        15     1     iPhone客户端      2  Sun Apr 21 18:40:32 +0800 2013   \n\n      reposts user_verified  ... user_gender user_messages  user_followers  \\\n0         225         False  ...           f        5653.0        227833.0   \n1         395         False  ...           m       11882.0         59624.0   \n2         685         False  ...           m          76.0            66.0   \n3         120         False  ...           m       22989.0          8358.0   \n4         532         False  ...           f        2911.0          1096.0   \n...       ...           ...  ...         ...           ...             ...   \n3382      241           NaN  ...         NaN           NaN             NaN   \n3383       95           NaN  ...         NaN           NaN             NaN   \n3384      436           NaN  ...         NaN           NaN             NaN   \n3385      321           NaN  ...         NaN           NaN             NaN   \n3386      145           NaN  ...         NaN           NaN             NaN   \n\n      user_location     user_time  user_friends  user_verified_type   mid  \\\n0                上海  1.312112e+09         907.0                -1.0     0   \n1                其他  1.302582e+09        1923.0                -1.0  1000   \n2             江西 上饶  1.318494e+09          82.0                -1.0  1002   \n3             吉林 吉林  1.297253e+09        1474.0                -1.0  1003   \n4           新疆 巴音郭楞  1.355300e+09        1118.0                -1.0  1004   \n...             ...           ...           ...                 ...   ...   \n3382            NaN           NaN           NaN                 NaN   996   \n3383            NaN           NaN           NaN                 NaN   998   \n3384            NaN           NaN           NaN                 NaN   999   \n3385            NaN           NaN           NaN                 NaN    99   \n3386            NaN           NaN           NaN                 NaN     9   \n\n     multi_type   user  \n0           NaN    NaN  \n1           NaN    NaN  \n2           NaN    NaN  \n3           NaN    NaN  \n4           NaN    NaN  \n...         ...    ...  \n3382        NaN  empty  \n3383          0  empty  \n3384        NaN  empty  \n3385        NaN  empty  \n3386        NaN  empty  \n\n[3387 rows x 21 columns]",
      "text/html": "<div>\n<style scoped>\n    .dataframe tbody tr th:only-of-type {\n        vertical-align: middle;\n    }\n\n    .dataframe tbody tr th {\n        vertical-align: top;\n    }\n\n    .dataframe thead th {\n        text-align: right;\n    }\n</style>\n<table border=\"1\" class=\"dataframe\">\n  <thead>\n    <tr style=\"text-align: right;\">\n      <th></th>\n      <th>multi</th>\n      <th>text</th>\n      <th>has_url</th>\n      <th>comments</th>\n      <th>pics</th>\n      <th>source</th>\n      <th>likes</th>\n      <th>time</th>\n      <th>reposts</th>\n      <th>user_verified</th>\n      <th>...</th>\n      <th>user_gender</th>\n      <th>user_messages</th>\n      <th>user_followers</th>\n      <th>user_location</th>\n      <th>user_time</th>\n      <th>user_friends</th>\n      <th>user_verified_type</th>\n      <th>mid</th>\n      <th>multi_type</th>\n      <th>user</th>\n    </tr>\n  </thead>\n  <tbody>\n    <tr>\n      <th>0</th>\n      <td>None</td>\n      <td>人间惨剧：今天下午约14点，宁波妇儿医院，一妇女携带一婴儿在住院楼跳楼，后抢救无效死亡。具体...</td>\n      <td>False</td>\n      <td>55</td>\n      <td>1</td>\n      <td>微博 weibo.com</td>\n      <td>0</td>\n      <td>1347334462</td>\n      <td>225</td>\n      <td>False</td>\n      <td>...</td>\n      <td>f</td>\n      <td>5653.0</td>\n      <td>227833.0</td>\n      <td>上海</td>\n      <td>1.312112e+09</td>\n      <td>907.0</td>\n      <td>-1.0</td>\n      <td>0</td>\n      <td>NaN</td>\n      <td>NaN</td>\n    </tr>\n    <tr>\n      <th>1</th>\n      <td>None</td>\n      <td>再去武大，已无牌坊！非要拆掉？@章立凡 @袁裕来律师 @老徐时评 @徐昕 @杨锦麟 @左小祖...</td>\n      <td>False</td>\n      <td>170</td>\n      <td>1</td>\n      <td>微博 weibo.com</td>\n      <td>0</td>\n      <td>1349768694</td>\n      <td>395</td>\n      <td>False</td>\n      <td>...</td>\n      <td>m</td>\n      <td>11882.0</td>\n      <td>59624.0</td>\n      <td>其他</td>\n      <td>1.302582e+09</td>\n      <td>1923.0</td>\n      <td>-1.0</td>\n      <td>1000</td>\n      <td>NaN</td>\n      <td>NaN</td>\n    </tr>\n    <tr>\n      <th>2</th>\n      <td>None</td>\n      <td>中国最美丽的乡村\"江西婺源\"一\"教师打死学生\" 昨晚，在被誉为中国最美丽的乡村江西省婺源县清...</td>\n      <td>True</td>\n      <td>466</td>\n      <td>0</td>\n      <td>微吧</td>\n      <td>0</td>\n      <td>1363146924</td>\n      <td>685</td>\n      <td>False</td>\n      <td>...</td>\n      <td>m</td>\n      <td>76.0</td>\n      <td>66.0</td>\n      <td>江西 上饶</td>\n      <td>1.318494e+09</td>\n      <td>82.0</td>\n      <td>-1.0</td>\n      <td>1002</td>\n      <td>NaN</td>\n      <td>NaN</td>\n    </tr>\n    <tr>\n      <th>3</th>\n      <td>None</td>\n      <td>忍者QS：江苏省东海县女镇党委书记徐艳，因不愿陪县委书记关永健上床，竟然被警察毒打致子宫破裂...</td>\n      <td>True</td>\n      <td>15</td>\n      <td>0</td>\n      <td>微博 weibo.com</td>\n      <td>6</td>\n      <td>1380971862</td>\n      <td>120</td>\n      <td>False</td>\n      <td>...</td>\n      <td>m</td>\n      <td>22989.0</td>\n      <td>8358.0</td>\n      <td>吉林 吉林</td>\n      <td>1.297253e+09</td>\n      <td>1474.0</td>\n      <td>-1.0</td>\n      <td>1003</td>\n      <td>NaN</td>\n      <td>NaN</td>\n    </tr>\n    <tr>\n      <th>4</th>\n      <td>None</td>\n      <td>《北大猛男，持刀刺官！！！》“可歌可泣”的是王同学投案自首之后冷冷说了一句话是 “我并不后悔...</td>\n      <td>False</td>\n      <td>78</td>\n      <td>1</td>\n      <td>360安全浏览器</td>\n      <td>11</td>\n      <td>1368078370</td>\n      <td>532</td>\n      <td>False</td>\n      <td>...</td>\n      <td>f</td>\n      <td>2911.0</td>\n      <td>1096.0</td>\n      <td>新疆 巴音郭楞</td>\n      <td>1.355300e+09</td>\n      <td>1118.0</td>\n      <td>-1.0</td>\n      <td>1004</td>\n      <td>NaN</td>\n      <td>NaN</td>\n    </tr>\n    <tr>\n      <th>...</th>\n      <td>...</td>\n      <td>...</td>\n      <td>...</td>\n      <td>...</td>\n      <td>...</td>\n      <td>...</td>\n      <td>...</td>\n      <td>...</td>\n      <td>...</td>\n      <td>...</td>\n      <td>...</td>\n      <td>...</td>\n      <td>...</td>\n      <td>...</td>\n      <td>...</td>\n      <td>...</td>\n      <td>...</td>\n      <td>...</td>\n      <td>...</td>\n      <td>...</td>\n      <td>...</td>\n    </tr>\n    <tr>\n      <th>3382</th>\n      <td>None</td>\n      <td>【新版狸猫换太子】湖南衡阳四中高三理科学生肖颖，今年高考成绩出来后，发短信查询为695分，当...</td>\n      <td>True</td>\n      <td>127</td>\n      <td>1</td>\n      <td>iPad客户端</td>\n      <td>0</td>\n      <td>Sun Jul 01 17:29:06 +0800 2012</td>\n      <td>241</td>\n      <td>NaN</td>\n      <td>...</td>\n      <td>NaN</td>\n      <td>NaN</td>\n      <td>NaN</td>\n      <td>NaN</td>\n      <td>NaN</td>\n      <td>NaN</td>\n      <td>NaN</td>\n      <td>996</td>\n      <td>NaN</td>\n      <td>empty</td>\n    </tr>\n    <tr>\n      <th>3383</th>\n      <td>None</td>\n      <td>#周一见# 马伊利真无辜，可怜，文章连道歉都是抄袭的，看我微博，有图有真相 ​</td>\n      <td>False</td>\n      <td>70</td>\n      <td>1</td>\n      <td>iPhone客户端</td>\n      <td>128</td>\n      <td>Mon Mar 31 20:25:25 +0800 2014</td>\n      <td>95</td>\n      <td>NaN</td>\n      <td>...</td>\n      <td>NaN</td>\n      <td>NaN</td>\n      <td>NaN</td>\n      <td>NaN</td>\n      <td>NaN</td>\n      <td>NaN</td>\n      <td>NaN</td>\n      <td>998</td>\n      <td>0</td>\n      <td>empty</td>\n    </tr>\n    <tr>\n      <th>3384</th>\n      <td>None</td>\n      <td>央视《焦点访谈》关于共和国脊梁评选活动造假之事采访民政部门领导，手腕打上了马赛克！这是为毛？...</td>\n      <td>False</td>\n      <td>113</td>\n      <td>1</td>\n      <td>微博 weibo.com</td>\n      <td>6</td>\n      <td>Fri Mar 22 16:29:23 +0800 2013</td>\n      <td>436</td>\n      <td>NaN</td>\n      <td>...</td>\n      <td>NaN</td>\n      <td>NaN</td>\n      <td>NaN</td>\n      <td>NaN</td>\n      <td>NaN</td>\n      <td>NaN</td>\n      <td>NaN</td>\n      <td>999</td>\n      <td>NaN</td>\n      <td>empty</td>\n    </tr>\n    <tr>\n      <th>3385</th>\n      <td>None</td>\n      <td>【朝鲜战争为何停战?】肖仲华:板门店谈判前彭德怀要求在铁原挡住美军两周,结果只挡了两天,63...</td>\n      <td>False</td>\n      <td>156</td>\n      <td>1</td>\n      <td>微博 weibo.com</td>\n      <td>2</td>\n      <td>Sun May 19 10:12:53 +0800 2013</td>\n      <td>321</td>\n      <td>NaN</td>\n      <td>...</td>\n      <td>NaN</td>\n      <td>NaN</td>\n      <td>NaN</td>\n      <td>NaN</td>\n      <td>NaN</td>\n      <td>NaN</td>\n      <td>NaN</td>\n      <td>99</td>\n      <td>NaN</td>\n      <td>empty</td>\n    </tr>\n    <tr>\n      <th>3386</th>\n      <td>None</td>\n      <td>《一只救了32条人命的搜救犬牺牲了，同样是生命，为它默哀吧！》——昨天下午一只军用搜救犬发现...</td>\n      <td>False</td>\n      <td>15</td>\n      <td>1</td>\n      <td>iPhone客户端</td>\n      <td>2</td>\n      <td>Sun Apr 21 18:40:32 +0800 2013</td>\n      <td>145</td>\n      <td>NaN</td>\n      <td>...</td>\n      <td>NaN</td>\n      <td>NaN</td>\n      <td>NaN</td>\n      <td>NaN</td>\n      <td>NaN</td>\n      <td>NaN</td>\n      <td>NaN</td>\n      <td>9</td>\n      <td>NaN</td>\n      <td>empty</td>\n    </tr>\n  </tbody>\n</table>\n<p>3387 rows × 21 columns</p>\n</div>"
     },
     "execution_count": 15,
     "metadata": {},
     "output_type": "execute_result"
    }
   ],
   "source": [
    "dataset_dir = './Chinese_Rumor_Dataset/CED_Dataset/original-microblog'\n",
    "data_list = []\n",
    "for data in os.listdir(dataset_dir):\n",
    "    try:\n",
    "        js = json.load(open(os.path.join(dataset_dir, data), encoding='utf-8'))\n",
    "        t = pd.json_normalize(js, sep='_')\n",
    "        t['mid'] = data.split('_')[0]\n",
    "        data_list.append(t)\n",
    "    except:\n",
    "        print(data)\n",
    "df1 = pd.concat(data_list, axis=0, ignore_index=True)\n",
    "df1"
   ],
   "metadata": {
    "collapsed": false,
    "ExecuteTime": {
     "end_time": "2023-11-28T13:41:29.462168400Z",
     "start_time": "2023-11-28T13:41:24.938748300Z"
    }
   },
   "id": "a647334629aa65b7"
  },
  {
   "cell_type": "code",
   "execution_count": 16,
   "outputs": [
    {
     "name": "stderr",
     "output_type": "stream",
     "text": [
      "d:\\anaconda3\\Lib\\site-packages\\IPython\\lib\\pretty.py:778: FutureWarning: In a future version, object-dtype columns with all-bool values will not be included in reductions with bool_only=True. Explicitly cast to bool dtype instead.\n",
      "  output = repr(obj)\n",
      "d:\\anaconda3\\Lib\\site-packages\\IPython\\core\\formatters.py:344: FutureWarning: In a future version, object-dtype columns with all-bool values will not be included in reductions with bool_only=True. Explicitly cast to bool dtype instead.\n",
      "  return method()\n"
     ]
    },
    {
     "data": {
      "text/plain": "     multi                                               text  has_url  \\\n0     None  人间惨剧：今天下午约14点，宁波妇儿医院，一妇女携带一婴儿在住院楼跳楼，后抢救无效死亡。具体...    False   \n1     None  再去武大，已无牌坊！非要拆掉？@章立凡 @袁裕来律师 @老徐时评 @徐昕 @杨锦麟 @左小祖...    False   \n2     None  中国最美丽的乡村\"江西婺源\"一\"教师打死学生\" 昨晚，在被誉为中国最美丽的乡村江西省婺源县清...     True   \n3     None  忍者QS：江苏省东海县女镇党委书记徐艳，因不愿陪县委书记关永健上床，竟然被警察毒打致子宫破裂...     True   \n4     None  《北大猛男，持刀刺官！！！》“可歌可泣”的是王同学投案自首之后冷冷说了一句话是 “我并不后悔...    False   \n...    ...                                                ...      ...   \n3382  None  【新版狸猫换太子】湖南衡阳四中高三理科学生肖颖，今年高考成绩出来后，发短信查询为695分，当...     True   \n3383  None            #周一见# 马伊利真无辜，可怜，文章连道歉都是抄袭的，看我微博，有图有真相 ​    False   \n3384  None  央视《焦点访谈》关于共和国脊梁评选活动造假之事采访民政部门领导，手腕打上了马赛克！这是为毛？...    False   \n3385  None  【朝鲜战争为何停战?】肖仲华:板门店谈判前彭德怀要求在铁原挡住美军两周,结果只挡了两天,63...    False   \n3386  None  《一只救了32条人命的搜救犬牺牲了，同样是生命，为它默哀吧！》——昨天下午一只军用搜救犬发现...    False   \n\n      comments  pics        source  likes                            time  \\\n0           55     1  微博 weibo.com      0                      1347334462   \n1          170     1  微博 weibo.com      0                      1349768694   \n2          466     0            微吧      0                      1363146924   \n3           15     0  微博 weibo.com      6                      1380971862   \n4           78     1      360安全浏览器     11                      1368078370   \n...        ...   ...           ...    ...                             ...   \n3382       127     1       iPad客户端      0  Sun Jul 01 17:29:06 +0800 2012   \n3383        70     1     iPhone客户端    128  Mon Mar 31 20:25:25 +0800 2014   \n3384       113     1  微博 weibo.com      6  Fri Mar 22 16:29:23 +0800 2013   \n3385       156     1  微博 weibo.com      2  Sun May 19 10:12:53 +0800 2013   \n3386        15     1     iPhone客户端      2  Sun Apr 21 18:40:32 +0800 2013   \n\n      reposts user_verified  ... user_messages user_followers  user_location  \\\n0         225         False  ...        5653.0       227833.0             上海   \n1         395         False  ...       11882.0        59624.0             其他   \n2         685         False  ...          76.0           66.0          江西 上饶   \n3         120         False  ...       22989.0         8358.0          吉林 吉林   \n4         532         False  ...        2911.0         1096.0        新疆 巴音郭楞   \n...       ...           ...  ...           ...            ...            ...   \n3382      241           NaN  ...           NaN            NaN            NaN   \n3383       95           NaN  ...           NaN            NaN            NaN   \n3384      436           NaN  ...           NaN            NaN            NaN   \n3385      321           NaN  ...           NaN            NaN            NaN   \n3386      145           NaN  ...           NaN            NaN            NaN   \n\n         user_time user_friends  user_verified_type   mid  multi_type   user  \\\n0     1.312112e+09        907.0                -1.0     0         NaN    NaN   \n1     1.302582e+09       1923.0                -1.0  1000         NaN    NaN   \n2     1.318494e+09         82.0                -1.0  1002         NaN    NaN   \n3     1.297253e+09       1474.0                -1.0  1003         NaN    NaN   \n4     1.355300e+09       1118.0                -1.0  1004         NaN    NaN   \n...            ...          ...                 ...   ...         ...    ...   \n3382           NaN          NaN                 NaN   996         NaN  empty   \n3383           NaN          NaN                 NaN   998           0  empty   \n3384           NaN          NaN                 NaN   999         NaN  empty   \n3385           NaN          NaN                 NaN    99         NaN  empty   \n3386           NaN          NaN                 NaN     9         NaN  empty   \n\n     is_rumor  \n0         1.0  \n1         1.0  \n2         1.0  \n3         1.0  \n4         1.0  \n...       ...  \n3382      1.0  \n3383      1.0  \n3384      1.0  \n3385      1.0  \n3386      1.0  \n\n[3387 rows x 22 columns]",
      "text/html": "<div>\n<style scoped>\n    .dataframe tbody tr th:only-of-type {\n        vertical-align: middle;\n    }\n\n    .dataframe tbody tr th {\n        vertical-align: top;\n    }\n\n    .dataframe thead th {\n        text-align: right;\n    }\n</style>\n<table border=\"1\" class=\"dataframe\">\n  <thead>\n    <tr style=\"text-align: right;\">\n      <th></th>\n      <th>multi</th>\n      <th>text</th>\n      <th>has_url</th>\n      <th>comments</th>\n      <th>pics</th>\n      <th>source</th>\n      <th>likes</th>\n      <th>time</th>\n      <th>reposts</th>\n      <th>user_verified</th>\n      <th>...</th>\n      <th>user_messages</th>\n      <th>user_followers</th>\n      <th>user_location</th>\n      <th>user_time</th>\n      <th>user_friends</th>\n      <th>user_verified_type</th>\n      <th>mid</th>\n      <th>multi_type</th>\n      <th>user</th>\n      <th>is_rumor</th>\n    </tr>\n  </thead>\n  <tbody>\n    <tr>\n      <th>0</th>\n      <td>None</td>\n      <td>人间惨剧：今天下午约14点，宁波妇儿医院，一妇女携带一婴儿在住院楼跳楼，后抢救无效死亡。具体...</td>\n      <td>False</td>\n      <td>55</td>\n      <td>1</td>\n      <td>微博 weibo.com</td>\n      <td>0</td>\n      <td>1347334462</td>\n      <td>225</td>\n      <td>False</td>\n      <td>...</td>\n      <td>5653.0</td>\n      <td>227833.0</td>\n      <td>上海</td>\n      <td>1.312112e+09</td>\n      <td>907.0</td>\n      <td>-1.0</td>\n      <td>0</td>\n      <td>NaN</td>\n      <td>NaN</td>\n      <td>1.0</td>\n    </tr>\n    <tr>\n      <th>1</th>\n      <td>None</td>\n      <td>再去武大，已无牌坊！非要拆掉？@章立凡 @袁裕来律师 @老徐时评 @徐昕 @杨锦麟 @左小祖...</td>\n      <td>False</td>\n      <td>170</td>\n      <td>1</td>\n      <td>微博 weibo.com</td>\n      <td>0</td>\n      <td>1349768694</td>\n      <td>395</td>\n      <td>False</td>\n      <td>...</td>\n      <td>11882.0</td>\n      <td>59624.0</td>\n      <td>其他</td>\n      <td>1.302582e+09</td>\n      <td>1923.0</td>\n      <td>-1.0</td>\n      <td>1000</td>\n      <td>NaN</td>\n      <td>NaN</td>\n      <td>1.0</td>\n    </tr>\n    <tr>\n      <th>2</th>\n      <td>None</td>\n      <td>中国最美丽的乡村\"江西婺源\"一\"教师打死学生\" 昨晚，在被誉为中国最美丽的乡村江西省婺源县清...</td>\n      <td>True</td>\n      <td>466</td>\n      <td>0</td>\n      <td>微吧</td>\n      <td>0</td>\n      <td>1363146924</td>\n      <td>685</td>\n      <td>False</td>\n      <td>...</td>\n      <td>76.0</td>\n      <td>66.0</td>\n      <td>江西 上饶</td>\n      <td>1.318494e+09</td>\n      <td>82.0</td>\n      <td>-1.0</td>\n      <td>1002</td>\n      <td>NaN</td>\n      <td>NaN</td>\n      <td>1.0</td>\n    </tr>\n    <tr>\n      <th>3</th>\n      <td>None</td>\n      <td>忍者QS：江苏省东海县女镇党委书记徐艳，因不愿陪县委书记关永健上床，竟然被警察毒打致子宫破裂...</td>\n      <td>True</td>\n      <td>15</td>\n      <td>0</td>\n      <td>微博 weibo.com</td>\n      <td>6</td>\n      <td>1380971862</td>\n      <td>120</td>\n      <td>False</td>\n      <td>...</td>\n      <td>22989.0</td>\n      <td>8358.0</td>\n      <td>吉林 吉林</td>\n      <td>1.297253e+09</td>\n      <td>1474.0</td>\n      <td>-1.0</td>\n      <td>1003</td>\n      <td>NaN</td>\n      <td>NaN</td>\n      <td>1.0</td>\n    </tr>\n    <tr>\n      <th>4</th>\n      <td>None</td>\n      <td>《北大猛男，持刀刺官！！！》“可歌可泣”的是王同学投案自首之后冷冷说了一句话是 “我并不后悔...</td>\n      <td>False</td>\n      <td>78</td>\n      <td>1</td>\n      <td>360安全浏览器</td>\n      <td>11</td>\n      <td>1368078370</td>\n      <td>532</td>\n      <td>False</td>\n      <td>...</td>\n      <td>2911.0</td>\n      <td>1096.0</td>\n      <td>新疆 巴音郭楞</td>\n      <td>1.355300e+09</td>\n      <td>1118.0</td>\n      <td>-1.0</td>\n      <td>1004</td>\n      <td>NaN</td>\n      <td>NaN</td>\n      <td>1.0</td>\n    </tr>\n    <tr>\n      <th>...</th>\n      <td>...</td>\n      <td>...</td>\n      <td>...</td>\n      <td>...</td>\n      <td>...</td>\n      <td>...</td>\n      <td>...</td>\n      <td>...</td>\n      <td>...</td>\n      <td>...</td>\n      <td>...</td>\n      <td>...</td>\n      <td>...</td>\n      <td>...</td>\n      <td>...</td>\n      <td>...</td>\n      <td>...</td>\n      <td>...</td>\n      <td>...</td>\n      <td>...</td>\n      <td>...</td>\n    </tr>\n    <tr>\n      <th>3382</th>\n      <td>None</td>\n      <td>【新版狸猫换太子】湖南衡阳四中高三理科学生肖颖，今年高考成绩出来后，发短信查询为695分，当...</td>\n      <td>True</td>\n      <td>127</td>\n      <td>1</td>\n      <td>iPad客户端</td>\n      <td>0</td>\n      <td>Sun Jul 01 17:29:06 +0800 2012</td>\n      <td>241</td>\n      <td>NaN</td>\n      <td>...</td>\n      <td>NaN</td>\n      <td>NaN</td>\n      <td>NaN</td>\n      <td>NaN</td>\n      <td>NaN</td>\n      <td>NaN</td>\n      <td>996</td>\n      <td>NaN</td>\n      <td>empty</td>\n      <td>1.0</td>\n    </tr>\n    <tr>\n      <th>3383</th>\n      <td>None</td>\n      <td>#周一见# 马伊利真无辜，可怜，文章连道歉都是抄袭的，看我微博，有图有真相 ​</td>\n      <td>False</td>\n      <td>70</td>\n      <td>1</td>\n      <td>iPhone客户端</td>\n      <td>128</td>\n      <td>Mon Mar 31 20:25:25 +0800 2014</td>\n      <td>95</td>\n      <td>NaN</td>\n      <td>...</td>\n      <td>NaN</td>\n      <td>NaN</td>\n      <td>NaN</td>\n      <td>NaN</td>\n      <td>NaN</td>\n      <td>NaN</td>\n      <td>998</td>\n      <td>0</td>\n      <td>empty</td>\n      <td>1.0</td>\n    </tr>\n    <tr>\n      <th>3384</th>\n      <td>None</td>\n      <td>央视《焦点访谈》关于共和国脊梁评选活动造假之事采访民政部门领导，手腕打上了马赛克！这是为毛？...</td>\n      <td>False</td>\n      <td>113</td>\n      <td>1</td>\n      <td>微博 weibo.com</td>\n      <td>6</td>\n      <td>Fri Mar 22 16:29:23 +0800 2013</td>\n      <td>436</td>\n      <td>NaN</td>\n      <td>...</td>\n      <td>NaN</td>\n      <td>NaN</td>\n      <td>NaN</td>\n      <td>NaN</td>\n      <td>NaN</td>\n      <td>NaN</td>\n      <td>999</td>\n      <td>NaN</td>\n      <td>empty</td>\n      <td>1.0</td>\n    </tr>\n    <tr>\n      <th>3385</th>\n      <td>None</td>\n      <td>【朝鲜战争为何停战?】肖仲华:板门店谈判前彭德怀要求在铁原挡住美军两周,结果只挡了两天,63...</td>\n      <td>False</td>\n      <td>156</td>\n      <td>1</td>\n      <td>微博 weibo.com</td>\n      <td>2</td>\n      <td>Sun May 19 10:12:53 +0800 2013</td>\n      <td>321</td>\n      <td>NaN</td>\n      <td>...</td>\n      <td>NaN</td>\n      <td>NaN</td>\n      <td>NaN</td>\n      <td>NaN</td>\n      <td>NaN</td>\n      <td>NaN</td>\n      <td>99</td>\n      <td>NaN</td>\n      <td>empty</td>\n      <td>1.0</td>\n    </tr>\n    <tr>\n      <th>3386</th>\n      <td>None</td>\n      <td>《一只救了32条人命的搜救犬牺牲了，同样是生命，为它默哀吧！》——昨天下午一只军用搜救犬发现...</td>\n      <td>False</td>\n      <td>15</td>\n      <td>1</td>\n      <td>iPhone客户端</td>\n      <td>2</td>\n      <td>Sun Apr 21 18:40:32 +0800 2013</td>\n      <td>145</td>\n      <td>NaN</td>\n      <td>...</td>\n      <td>NaN</td>\n      <td>NaN</td>\n      <td>NaN</td>\n      <td>NaN</td>\n      <td>NaN</td>\n      <td>NaN</td>\n      <td>9</td>\n      <td>NaN</td>\n      <td>empty</td>\n      <td>1.0</td>\n    </tr>\n  </tbody>\n</table>\n<p>3387 rows × 22 columns</p>\n</div>"
     },
     "execution_count": 16,
     "metadata": {},
     "output_type": "execute_result"
    }
   ],
   "source": [
    "non_rumors_dir = './Chinese_Rumor_Dataset/CED_Dataset/non-rumor-repost'\n",
    "rumors_dir = './Chinese_Rumor_Dataset/CED_Dataset/rumor-repost'\n",
    "for data in os.listdir(non_rumors_dir):\n",
    "    mid = data.split('_')[0]\n",
    "    df1.loc[df1['mid'] == mid, 'is_rumor'] = 0\n",
    "for data in os.listdir(rumors_dir):\n",
    "    mid = data.split('_')[0]\n",
    "    df1.loc[df1['mid'] == mid, 'is_rumor'] = 1\n",
    "df1"
   ],
   "metadata": {
    "collapsed": false,
    "ExecuteTime": {
     "end_time": "2023-11-28T13:41:30.626130400Z",
     "start_time": "2023-11-28T13:41:29.464167900Z"
    }
   },
   "id": "7f22bbe7624984a4"
  },
  {
   "cell_type": "code",
   "execution_count": 17,
   "outputs": [
    {
     "name": "stderr",
     "output_type": "stream",
     "text": [
      "C:\\Users\\Shen\\AppData\\Local\\Temp\\ipykernel_4868\\79628643.py:3: SettingWithCopyWarning: \n",
      "A value is trying to be set on a copy of a slice from a DataFrame.\n",
      "Try using .loc[row_indexer,col_indexer] = value instead\n",
      "\n",
      "See the caveats in the documentation: https://pandas.pydata.org/pandas-docs/stable/user_guide/indexing.html#returning-a-view-versus-a-copy\n",
      "  demo1['is_rumor'] = demo1['is_rumor'].astype('int64')\n",
      "C:\\Users\\Shen\\AppData\\Local\\Temp\\ipykernel_4868\\79628643.py:4: SettingWithCopyWarning: \n",
      "A value is trying to be set on a copy of a slice from a DataFrame.\n",
      "Try using .loc[row_indexer,col_indexer] = value instead\n",
      "\n",
      "See the caveats in the documentation: https://pandas.pydata.org/pandas-docs/stable/user_guide/indexing.html#returning-a-view-versus-a-copy\n",
      "  demo2['is_rumor'] = demo2['is_rumor'].astype('int64')\n"
     ]
    },
    {
     "data": {
      "text/plain": "                                                   text  is_rumor\n0     人间惨剧：今天下午约14点，宁波妇儿医院，一妇女携带一婴儿在住院楼跳楼，后抢救无效死亡。具体...         1\n1     再去武大，已无牌坊！非要拆掉？@章立凡 @袁裕来律师 @老徐时评 @徐昕 @杨锦麟 @左小祖...         1\n2     中国最美丽的乡村\"江西婺源\"一\"教师打死学生\" 昨晚，在被誉为中国最美丽的乡村江西省婺源县清...         1\n3     忍者QS：江苏省东海县女镇党委书记徐艳，因不愿陪县委书记关永健上床，竟然被警察毒打致子宫破裂...         1\n4     《北大猛男，持刀刺官！！！》“可歌可泣”的是王同学投案自首之后冷冷说了一句话是 “我并不后悔...         1\n...                                                 ...       ...\n7608  【四川绵阳市越狱46人 45男 1女 大多为90后 男性大多为强奸犯 女为杀人犯 南山下面一...         1\n7609  【“呵呵”——最恶心的聊天词汇，你中枪了么？】有人说，所有词语里最恶心的、最伤人的莫过于“呵...         0\n7610  年轻时无论如何要确立一个目标。一克服懒惰消极靠目标。没目标就瞎混，一天到晚打牌玩游戏睡懒觉。...         0\n7611  牙膏底部的短线，绿色天然的。蓝色天然加药物，红色药物家化学，黑色纯化学。童鞋们~今后购买要记...         1\n7612  #每日一帖#[生活百科][生活常识]牙膏底部的短线，绿色天然的。蓝色天然加药物，红色药物加化...         1\n\n[7613 rows x 2 columns]",
      "text/html": "<div>\n<style scoped>\n    .dataframe tbody tr th:only-of-type {\n        vertical-align: middle;\n    }\n\n    .dataframe tbody tr th {\n        vertical-align: top;\n    }\n\n    .dataframe thead th {\n        text-align: right;\n    }\n</style>\n<table border=\"1\" class=\"dataframe\">\n  <thead>\n    <tr style=\"text-align: right;\">\n      <th></th>\n      <th>text</th>\n      <th>is_rumor</th>\n    </tr>\n  </thead>\n  <tbody>\n    <tr>\n      <th>0</th>\n      <td>人间惨剧：今天下午约14点，宁波妇儿医院，一妇女携带一婴儿在住院楼跳楼，后抢救无效死亡。具体...</td>\n      <td>1</td>\n    </tr>\n    <tr>\n      <th>1</th>\n      <td>再去武大，已无牌坊！非要拆掉？@章立凡 @袁裕来律师 @老徐时评 @徐昕 @杨锦麟 @左小祖...</td>\n      <td>1</td>\n    </tr>\n    <tr>\n      <th>2</th>\n      <td>中国最美丽的乡村\"江西婺源\"一\"教师打死学生\" 昨晚，在被誉为中国最美丽的乡村江西省婺源县清...</td>\n      <td>1</td>\n    </tr>\n    <tr>\n      <th>3</th>\n      <td>忍者QS：江苏省东海县女镇党委书记徐艳，因不愿陪县委书记关永健上床，竟然被警察毒打致子宫破裂...</td>\n      <td>1</td>\n    </tr>\n    <tr>\n      <th>4</th>\n      <td>《北大猛男，持刀刺官！！！》“可歌可泣”的是王同学投案自首之后冷冷说了一句话是 “我并不后悔...</td>\n      <td>1</td>\n    </tr>\n    <tr>\n      <th>...</th>\n      <td>...</td>\n      <td>...</td>\n    </tr>\n    <tr>\n      <th>7608</th>\n      <td>【四川绵阳市越狱46人 45男 1女 大多为90后 男性大多为强奸犯 女为杀人犯 南山下面一...</td>\n      <td>1</td>\n    </tr>\n    <tr>\n      <th>7609</th>\n      <td>【“呵呵”——最恶心的聊天词汇，你中枪了么？】有人说，所有词语里最恶心的、最伤人的莫过于“呵...</td>\n      <td>0</td>\n    </tr>\n    <tr>\n      <th>7610</th>\n      <td>年轻时无论如何要确立一个目标。一克服懒惰消极靠目标。没目标就瞎混，一天到晚打牌玩游戏睡懒觉。...</td>\n      <td>0</td>\n    </tr>\n    <tr>\n      <th>7611</th>\n      <td>牙膏底部的短线，绿色天然的。蓝色天然加药物，红色药物家化学，黑色纯化学。童鞋们~今后购买要记...</td>\n      <td>1</td>\n    </tr>\n    <tr>\n      <th>7612</th>\n      <td>#每日一帖#[生活百科][生活常识]牙膏底部的短线，绿色天然的。蓝色天然加药物，红色药物加化...</td>\n      <td>1</td>\n    </tr>\n  </tbody>\n</table>\n<p>7613 rows × 2 columns</p>\n</div>"
     },
     "execution_count": 17,
     "metadata": {},
     "output_type": "execute_result"
    }
   ],
   "source": [
    "demo1 = df[['text', 'is_rumor']]\n",
    "demo2 = df1[['text', 'is_rumor']]\n",
    "demo1['is_rumor'] = demo1['is_rumor'].astype('int64')\n",
    "demo2['is_rumor'] = demo2['is_rumor'].astype('int64')\n",
    "\n",
    "demo = pd.concat([demo2, demo1], axis=0, ignore_index=True)\n",
    "demo"
   ],
   "metadata": {
    "collapsed": false,
    "ExecuteTime": {
     "end_time": "2023-11-28T13:41:30.640702200Z",
     "start_time": "2023-11-28T13:41:30.619974Z"
    }
   },
   "id": "9743c7ca089c1008"
  },
  {
   "cell_type": "code",
   "execution_count": 18,
   "outputs": [
    {
     "data": {
      "text/plain": "0    4063\n1    3550\nName: is_rumor, dtype: int64"
     },
     "execution_count": 18,
     "metadata": {},
     "output_type": "execute_result"
    }
   ],
   "source": [
    "demo['is_rumor'].value_counts()"
   ],
   "metadata": {
    "collapsed": false,
    "ExecuteTime": {
     "end_time": "2023-11-28T13:41:30.642275400Z",
     "start_time": "2023-11-28T13:41:30.634960100Z"
    }
   },
   "id": "8d3222bbf827d219"
  },
  {
   "cell_type": "code",
   "execution_count": 19,
   "outputs": [],
   "source": [
    "def get_stopword():\n",
    "    stopwords = []\n",
    "    with open('../stopwords/baidu_stopwords.txt', 'r', encoding='utf-8') as f:\n",
    "        for line in f.readlines():\n",
    "            stopwords.append(line.strip())\n",
    "   \n",
    "    stopwords = list(set(stopwords))\n",
    "    return stopwords\n"
   ],
   "metadata": {
    "collapsed": false,
    "ExecuteTime": {
     "end_time": "2023-11-28T13:41:30.644285200Z",
     "start_time": "2023-11-28T13:41:30.641769300Z"
    }
   },
   "id": "c1ee4db9a3ad167e"
  },
  {
   "cell_type": "code",
   "execution_count": 20,
   "outputs": [
    {
     "data": {
      "text/plain": "                                                   text  is_rumor\n0     人间 惨剧 今天下午 约点 宁波 妇儿 医院 妇女 携带 婴儿 住院楼 跳楼 后 抢救无效 ...         1\n1     再 去 武大 已 无 牌坊 非 拆掉 章立凡 袁裕来 律师 老徐 时评 徐昕 杨锦麟 左小祖...         1\n2     中国 最 美丽 乡村 江西 婺源 教师 打死 学生 昨晚 被誉为 中国 最 美丽 乡村 江西...         1\n3     忍者 江苏省 东海县 女镇 党委书记 徐艳 因不愿 陪 县委书记 关永健 上床 竟然 警察 ...         1\n4     北大 猛男 持刀 刺官 可歌可泣 王 同学 投案自首 冷冷 说 一句 话 不 后悔 不让 自...         1\n...                                                 ...       ...\n7608  四川 绵阳市 越狱 人 男女 大多 后 男性 大多 强奸犯 女为 杀人犯 南山 一女 轮奸 ...         1\n7609  呵呵 最 恶心 聊天 词汇 中枪 有人 说 词语 里 最 恶心 最 伤人 莫过于 呵呵 骂人...         0\n7610  年轻 时 无论如何 确立 一个 目标 克服 懒惰 消极 目标 没 目标 瞎 混 一天到晚 打...         0\n7611  牙膏 底部 短线 绿色 天然 蓝色 天然 加 药物 红色 药物 家 化学 黑色 纯 化学 童...         1\n7612  每日 一帖 生活 百科 生活 常识 牙膏 底部 短线 绿色 天然 蓝色 天然 加 药物 红色...         1\n\n[7599 rows x 2 columns]",
      "text/html": "<div>\n<style scoped>\n    .dataframe tbody tr th:only-of-type {\n        vertical-align: middle;\n    }\n\n    .dataframe tbody tr th {\n        vertical-align: top;\n    }\n\n    .dataframe thead th {\n        text-align: right;\n    }\n</style>\n<table border=\"1\" class=\"dataframe\">\n  <thead>\n    <tr style=\"text-align: right;\">\n      <th></th>\n      <th>text</th>\n      <th>is_rumor</th>\n    </tr>\n  </thead>\n  <tbody>\n    <tr>\n      <th>0</th>\n      <td>人间 惨剧 今天下午 约点 宁波 妇儿 医院 妇女 携带 婴儿 住院楼 跳楼 后 抢救无效 ...</td>\n      <td>1</td>\n    </tr>\n    <tr>\n      <th>1</th>\n      <td>再 去 武大 已 无 牌坊 非 拆掉 章立凡 袁裕来 律师 老徐 时评 徐昕 杨锦麟 左小祖...</td>\n      <td>1</td>\n    </tr>\n    <tr>\n      <th>2</th>\n      <td>中国 最 美丽 乡村 江西 婺源 教师 打死 学生 昨晚 被誉为 中国 最 美丽 乡村 江西...</td>\n      <td>1</td>\n    </tr>\n    <tr>\n      <th>3</th>\n      <td>忍者 江苏省 东海县 女镇 党委书记 徐艳 因不愿 陪 县委书记 关永健 上床 竟然 警察 ...</td>\n      <td>1</td>\n    </tr>\n    <tr>\n      <th>4</th>\n      <td>北大 猛男 持刀 刺官 可歌可泣 王 同学 投案自首 冷冷 说 一句 话 不 后悔 不让 自...</td>\n      <td>1</td>\n    </tr>\n    <tr>\n      <th>...</th>\n      <td>...</td>\n      <td>...</td>\n    </tr>\n    <tr>\n      <th>7608</th>\n      <td>四川 绵阳市 越狱 人 男女 大多 后 男性 大多 强奸犯 女为 杀人犯 南山 一女 轮奸 ...</td>\n      <td>1</td>\n    </tr>\n    <tr>\n      <th>7609</th>\n      <td>呵呵 最 恶心 聊天 词汇 中枪 有人 说 词语 里 最 恶心 最 伤人 莫过于 呵呵 骂人...</td>\n      <td>0</td>\n    </tr>\n    <tr>\n      <th>7610</th>\n      <td>年轻 时 无论如何 确立 一个 目标 克服 懒惰 消极 目标 没 目标 瞎 混 一天到晚 打...</td>\n      <td>0</td>\n    </tr>\n    <tr>\n      <th>7611</th>\n      <td>牙膏 底部 短线 绿色 天然 蓝色 天然 加 药物 红色 药物 家 化学 黑色 纯 化学 童...</td>\n      <td>1</td>\n    </tr>\n    <tr>\n      <th>7612</th>\n      <td>每日 一帖 生活 百科 生活 常识 牙膏 底部 短线 绿色 天然 蓝色 天然 加 药物 红色...</td>\n      <td>1</td>\n    </tr>\n  </tbody>\n</table>\n<p>7599 rows × 2 columns</p>\n</div>"
     },
     "execution_count": 20,
     "metadata": {},
     "output_type": "execute_result"
    }
   ],
   "source": [
    "import jieba\n",
    "import re\n",
    "\n",
    "def wordopt_cn(text):\n",
    "    # only chinese characters\n",
    "    pattern = re.compile(r'[^\\u4e00-\\u9fa5]')\n",
    "    chinese_txt = re.sub(pattern, '', text)\n",
    "    return str(chinese_txt)\n",
    "\n",
    "\n",
    "stopwords = get_stopword()\n",
    "stopwords.append('年')\n",
    "stopwords.append('月')\n",
    "stopwords.append('日')\n",
    "stopwords.append('日日')\n",
    "stopwords.append('年月')\n",
    "stopwords.append('月日')\n",
    "stopwords.append('年月日')\n",
    "\n",
    "def remove_stopwords(text):\n",
    "    words = text.split()\n",
    "    words = [word for word in words if word not in stopwords]\n",
    "    return ' '.join(words)\n",
    "\n",
    "\n",
    "demo['text'] = demo['text'].apply(wordopt_cn)\n",
    "demo['text'] = demo['text'].apply(lambda x: ' '.join(jieba.cut(x)))\n",
    "demo['text'] = demo['text'].apply(remove_stopwords)\n",
    "demo['text'] = demo['text'].apply(lambda x: re.sub('\\\\s+', ' ', x))\n",
    "demo.drop(demo[demo['text'] == ''].index, inplace=True)\n",
    "demo"
   ],
   "metadata": {
    "collapsed": false,
    "ExecuteTime": {
     "end_time": "2023-11-28T13:41:36.349146200Z",
     "start_time": "2023-11-28T13:41:30.646285900Z"
    }
   },
   "id": "21688729c2523739"
  },
  {
   "cell_type": "code",
   "execution_count": 21,
   "outputs": [
    {
     "name": "stderr",
     "output_type": "stream",
     "text": [
      "d:\\anaconda3\\Lib\\site-packages\\sklearn\\feature_extraction\\text.py:525: UserWarning: The parameter 'token_pattern' will not be used since 'tokenizer' is not None'\n",
      "  warnings.warn(\n"
     ]
    }
   ],
   "source": [
    "from sklearn.feature_extraction.text import TfidfVectorizer\n",
    "\n",
    "vectorizer = TfidfVectorizer(tokenizer=str.split)\n",
    "demo['text'] = list(vectorizer.fit_transform(demo['text']).toarray())"
   ],
   "metadata": {
    "collapsed": false,
    "ExecuteTime": {
     "end_time": "2023-11-28T13:41:36.688792500Z",
     "start_time": "2023-11-28T13:41:36.350146800Z"
    }
   },
   "id": "b78e53e92817c1ad"
  },
  {
   "cell_type": "code",
   "execution_count": 22,
   "outputs": [],
   "source": [
    "from sklearn.model_selection import train_test_split\n",
    "\n",
    "x = demo['text'].to_list()\n",
    "y = demo['is_rumor']\n",
    "x_train, x_test, y_train, y_test = train_test_split(x, y, test_size=0.2, random_state=42)"
   ],
   "metadata": {
    "collapsed": false,
    "ExecuteTime": {
     "end_time": "2023-11-28T13:41:36.698985300Z",
     "start_time": "2023-11-28T13:41:36.694476100Z"
    }
   },
   "id": "a41b8b4dd1c070ce"
  },
  {
   "cell_type": "code",
   "execution_count": 28,
   "outputs": [
    {
     "ename": "KeyboardInterrupt",
     "evalue": "",
     "output_type": "error",
     "traceback": [
      "\u001B[1;31m---------------------------------------------------------------------------\u001B[0m",
      "\u001B[1;31mKeyboardInterrupt\u001B[0m                         Traceback (most recent call last)",
      "Cell \u001B[1;32mIn[28], line 17\u001B[0m\n\u001B[0;32m     10\u001B[0m sgd_model3 \u001B[38;5;241m=\u001B[39m SGDClassifier(max_iter\u001B[38;5;241m=\u001B[39m\u001B[38;5;241m15000\u001B[39m, tol\u001B[38;5;241m=\u001B[39m\u001B[38;5;241m1e-4\u001B[39m, loss\u001B[38;5;241m=\u001B[39m\u001B[38;5;124m\"\u001B[39m\u001B[38;5;124mmodified_huber\u001B[39m\u001B[38;5;124m\"\u001B[39m, early_stopping\u001B[38;5;241m=\u001B[39m\u001B[38;5;28;01mTrue\u001B[39;00m)\n\u001B[0;32m     12\u001B[0m ensemble \u001B[38;5;241m=\u001B[39m VotingClassifier(\n\u001B[0;32m     13\u001B[0m     estimators\u001B[38;5;241m=\u001B[39m[(\u001B[38;5;124m'\u001B[39m\u001B[38;5;124mlr\u001B[39m\u001B[38;5;124m'\u001B[39m, lr), (\u001B[38;5;124m'\u001B[39m\u001B[38;5;124mmnb\u001B[39m\u001B[38;5;124m'\u001B[39m, clf), (\u001B[38;5;124m'\u001B[39m\u001B[38;5;124msgd\u001B[39m\u001B[38;5;124m'\u001B[39m, sgd_model), (\u001B[38;5;124m'\u001B[39m\u001B[38;5;124msgd2\u001B[39m\u001B[38;5;124m'\u001B[39m, sgd_model2), (\u001B[38;5;124m'\u001B[39m\u001B[38;5;124msgd3\u001B[39m\u001B[38;5;124m'\u001B[39m, sgd_model3)],\n\u001B[0;32m     14\u001B[0m     weights\u001B[38;5;241m=\u001B[39m[\u001B[38;5;241m0.20\u001B[39m, \u001B[38;5;241m0.20\u001B[39m, \u001B[38;5;241m0.20\u001B[39m, \u001B[38;5;241m0.20\u001B[39m, \u001B[38;5;241m0.20\u001B[39m],\n\u001B[0;32m     15\u001B[0m     voting\u001B[38;5;241m=\u001B[39m\u001B[38;5;124m'\u001B[39m\u001B[38;5;124msoft\u001B[39m\u001B[38;5;124m'\u001B[39m\n\u001B[0;32m     16\u001B[0m )\n\u001B[1;32m---> 17\u001B[0m ensemble\u001B[38;5;241m.\u001B[39mfit(x_train, y_train)\n\u001B[0;32m     19\u001B[0m \u001B[38;5;66;03m#preds_test = ensemble.predict_proba(x_test)\u001B[39;00m\n\u001B[0;32m     20\u001B[0m preds_test \u001B[38;5;241m=\u001B[39m ensemble\u001B[38;5;241m.\u001B[39mpredict(x_test)\n",
      "File \u001B[1;32md:\\anaconda3\\Lib\\site-packages\\sklearn\\base.py:1151\u001B[0m, in \u001B[0;36m_fit_context.<locals>.decorator.<locals>.wrapper\u001B[1;34m(estimator, *args, **kwargs)\u001B[0m\n\u001B[0;32m   1144\u001B[0m     estimator\u001B[38;5;241m.\u001B[39m_validate_params()\n\u001B[0;32m   1146\u001B[0m \u001B[38;5;28;01mwith\u001B[39;00m config_context(\n\u001B[0;32m   1147\u001B[0m     skip_parameter_validation\u001B[38;5;241m=\u001B[39m(\n\u001B[0;32m   1148\u001B[0m         prefer_skip_nested_validation \u001B[38;5;129;01mor\u001B[39;00m global_skip_validation\n\u001B[0;32m   1149\u001B[0m     )\n\u001B[0;32m   1150\u001B[0m ):\n\u001B[1;32m-> 1151\u001B[0m     \u001B[38;5;28;01mreturn\u001B[39;00m fit_method(estimator, \u001B[38;5;241m*\u001B[39margs, \u001B[38;5;241m*\u001B[39m\u001B[38;5;241m*\u001B[39mkwargs)\n",
      "File \u001B[1;32md:\\anaconda3\\Lib\\site-packages\\sklearn\\ensemble\\_voting.py:349\u001B[0m, in \u001B[0;36mVotingClassifier.fit\u001B[1;34m(self, X, y, sample_weight)\u001B[0m\n\u001B[0;32m    346\u001B[0m \u001B[38;5;28mself\u001B[39m\u001B[38;5;241m.\u001B[39mclasses_ \u001B[38;5;241m=\u001B[39m \u001B[38;5;28mself\u001B[39m\u001B[38;5;241m.\u001B[39mle_\u001B[38;5;241m.\u001B[39mclasses_\n\u001B[0;32m    347\u001B[0m transformed_y \u001B[38;5;241m=\u001B[39m \u001B[38;5;28mself\u001B[39m\u001B[38;5;241m.\u001B[39mle_\u001B[38;5;241m.\u001B[39mtransform(y)\n\u001B[1;32m--> 349\u001B[0m \u001B[38;5;28;01mreturn\u001B[39;00m \u001B[38;5;28msuper\u001B[39m()\u001B[38;5;241m.\u001B[39mfit(X, transformed_y, sample_weight)\n",
      "File \u001B[1;32md:\\anaconda3\\Lib\\site-packages\\sklearn\\ensemble\\_voting.py:81\u001B[0m, in \u001B[0;36m_BaseVoting.fit\u001B[1;34m(self, X, y, sample_weight)\u001B[0m\n\u001B[0;32m     75\u001B[0m \u001B[38;5;28;01mif\u001B[39;00m \u001B[38;5;28mself\u001B[39m\u001B[38;5;241m.\u001B[39mweights \u001B[38;5;129;01mis\u001B[39;00m \u001B[38;5;129;01mnot\u001B[39;00m \u001B[38;5;28;01mNone\u001B[39;00m \u001B[38;5;129;01mand\u001B[39;00m \u001B[38;5;28mlen\u001B[39m(\u001B[38;5;28mself\u001B[39m\u001B[38;5;241m.\u001B[39mweights) \u001B[38;5;241m!=\u001B[39m \u001B[38;5;28mlen\u001B[39m(\u001B[38;5;28mself\u001B[39m\u001B[38;5;241m.\u001B[39mestimators):\n\u001B[0;32m     76\u001B[0m     \u001B[38;5;28;01mraise\u001B[39;00m \u001B[38;5;167;01mValueError\u001B[39;00m(\n\u001B[0;32m     77\u001B[0m         \u001B[38;5;124m\"\u001B[39m\u001B[38;5;124mNumber of `estimators` and weights must be equal; got\u001B[39m\u001B[38;5;124m\"\u001B[39m\n\u001B[0;32m     78\u001B[0m         \u001B[38;5;124mf\u001B[39m\u001B[38;5;124m\"\u001B[39m\u001B[38;5;124m \u001B[39m\u001B[38;5;132;01m{\u001B[39;00m\u001B[38;5;28mlen\u001B[39m(\u001B[38;5;28mself\u001B[39m\u001B[38;5;241m.\u001B[39mweights)\u001B[38;5;132;01m}\u001B[39;00m\u001B[38;5;124m weights, \u001B[39m\u001B[38;5;132;01m{\u001B[39;00m\u001B[38;5;28mlen\u001B[39m(\u001B[38;5;28mself\u001B[39m\u001B[38;5;241m.\u001B[39mestimators)\u001B[38;5;132;01m}\u001B[39;00m\u001B[38;5;124m estimators\u001B[39m\u001B[38;5;124m\"\u001B[39m\n\u001B[0;32m     79\u001B[0m     )\n\u001B[1;32m---> 81\u001B[0m \u001B[38;5;28mself\u001B[39m\u001B[38;5;241m.\u001B[39mestimators_ \u001B[38;5;241m=\u001B[39m Parallel(n_jobs\u001B[38;5;241m=\u001B[39m\u001B[38;5;28mself\u001B[39m\u001B[38;5;241m.\u001B[39mn_jobs)(\n\u001B[0;32m     82\u001B[0m     delayed(_fit_single_estimator)(\n\u001B[0;32m     83\u001B[0m         clone(clf),\n\u001B[0;32m     84\u001B[0m         X,\n\u001B[0;32m     85\u001B[0m         y,\n\u001B[0;32m     86\u001B[0m         sample_weight\u001B[38;5;241m=\u001B[39msample_weight,\n\u001B[0;32m     87\u001B[0m         message_clsname\u001B[38;5;241m=\u001B[39m\u001B[38;5;124m\"\u001B[39m\u001B[38;5;124mVoting\u001B[39m\u001B[38;5;124m\"\u001B[39m,\n\u001B[0;32m     88\u001B[0m         message\u001B[38;5;241m=\u001B[39m\u001B[38;5;28mself\u001B[39m\u001B[38;5;241m.\u001B[39m_log_message(names[idx], idx \u001B[38;5;241m+\u001B[39m \u001B[38;5;241m1\u001B[39m, \u001B[38;5;28mlen\u001B[39m(clfs)),\n\u001B[0;32m     89\u001B[0m     )\n\u001B[0;32m     90\u001B[0m     \u001B[38;5;28;01mfor\u001B[39;00m idx, clf \u001B[38;5;129;01min\u001B[39;00m \u001B[38;5;28menumerate\u001B[39m(clfs)\n\u001B[0;32m     91\u001B[0m     \u001B[38;5;28;01mif\u001B[39;00m clf \u001B[38;5;241m!=\u001B[39m \u001B[38;5;124m\"\u001B[39m\u001B[38;5;124mdrop\u001B[39m\u001B[38;5;124m\"\u001B[39m\n\u001B[0;32m     92\u001B[0m )\n\u001B[0;32m     94\u001B[0m \u001B[38;5;28mself\u001B[39m\u001B[38;5;241m.\u001B[39mnamed_estimators_ \u001B[38;5;241m=\u001B[39m Bunch()\n\u001B[0;32m     96\u001B[0m \u001B[38;5;66;03m# Uses 'drop' as placeholder for dropped estimators\u001B[39;00m\n",
      "File \u001B[1;32md:\\anaconda3\\Lib\\site-packages\\sklearn\\utils\\parallel.py:65\u001B[0m, in \u001B[0;36mParallel.__call__\u001B[1;34m(self, iterable)\u001B[0m\n\u001B[0;32m     60\u001B[0m config \u001B[38;5;241m=\u001B[39m get_config()\n\u001B[0;32m     61\u001B[0m iterable_with_config \u001B[38;5;241m=\u001B[39m (\n\u001B[0;32m     62\u001B[0m     (_with_config(delayed_func, config), args, kwargs)\n\u001B[0;32m     63\u001B[0m     \u001B[38;5;28;01mfor\u001B[39;00m delayed_func, args, kwargs \u001B[38;5;129;01min\u001B[39;00m iterable\n\u001B[0;32m     64\u001B[0m )\n\u001B[1;32m---> 65\u001B[0m \u001B[38;5;28;01mreturn\u001B[39;00m \u001B[38;5;28msuper\u001B[39m()\u001B[38;5;241m.\u001B[39m\u001B[38;5;21m__call__\u001B[39m(iterable_with_config)\n",
      "File \u001B[1;32md:\\anaconda3\\Lib\\site-packages\\joblib\\parallel.py:1088\u001B[0m, in \u001B[0;36mParallel.__call__\u001B[1;34m(self, iterable)\u001B[0m\n\u001B[0;32m   1085\u001B[0m \u001B[38;5;28;01mif\u001B[39;00m \u001B[38;5;28mself\u001B[39m\u001B[38;5;241m.\u001B[39mdispatch_one_batch(iterator):\n\u001B[0;32m   1086\u001B[0m     \u001B[38;5;28mself\u001B[39m\u001B[38;5;241m.\u001B[39m_iterating \u001B[38;5;241m=\u001B[39m \u001B[38;5;28mself\u001B[39m\u001B[38;5;241m.\u001B[39m_original_iterator \u001B[38;5;129;01mis\u001B[39;00m \u001B[38;5;129;01mnot\u001B[39;00m \u001B[38;5;28;01mNone\u001B[39;00m\n\u001B[1;32m-> 1088\u001B[0m \u001B[38;5;28;01mwhile\u001B[39;00m \u001B[38;5;28mself\u001B[39m\u001B[38;5;241m.\u001B[39mdispatch_one_batch(iterator):\n\u001B[0;32m   1089\u001B[0m     \u001B[38;5;28;01mpass\u001B[39;00m\n\u001B[0;32m   1091\u001B[0m \u001B[38;5;28;01mif\u001B[39;00m pre_dispatch \u001B[38;5;241m==\u001B[39m \u001B[38;5;124m\"\u001B[39m\u001B[38;5;124mall\u001B[39m\u001B[38;5;124m\"\u001B[39m \u001B[38;5;129;01mor\u001B[39;00m n_jobs \u001B[38;5;241m==\u001B[39m \u001B[38;5;241m1\u001B[39m:\n\u001B[0;32m   1092\u001B[0m     \u001B[38;5;66;03m# The iterable was consumed all at once by the above for loop.\u001B[39;00m\n\u001B[0;32m   1093\u001B[0m     \u001B[38;5;66;03m# No need to wait for async callbacks to trigger to\u001B[39;00m\n\u001B[0;32m   1094\u001B[0m     \u001B[38;5;66;03m# consumption.\u001B[39;00m\n",
      "File \u001B[1;32md:\\anaconda3\\Lib\\site-packages\\joblib\\parallel.py:901\u001B[0m, in \u001B[0;36mParallel.dispatch_one_batch\u001B[1;34m(self, iterator)\u001B[0m\n\u001B[0;32m    899\u001B[0m     \u001B[38;5;28;01mreturn\u001B[39;00m \u001B[38;5;28;01mFalse\u001B[39;00m\n\u001B[0;32m    900\u001B[0m \u001B[38;5;28;01melse\u001B[39;00m:\n\u001B[1;32m--> 901\u001B[0m     \u001B[38;5;28mself\u001B[39m\u001B[38;5;241m.\u001B[39m_dispatch(tasks)\n\u001B[0;32m    902\u001B[0m     \u001B[38;5;28;01mreturn\u001B[39;00m \u001B[38;5;28;01mTrue\u001B[39;00m\n",
      "File \u001B[1;32md:\\anaconda3\\Lib\\site-packages\\joblib\\parallel.py:819\u001B[0m, in \u001B[0;36mParallel._dispatch\u001B[1;34m(self, batch)\u001B[0m\n\u001B[0;32m    817\u001B[0m \u001B[38;5;28;01mwith\u001B[39;00m \u001B[38;5;28mself\u001B[39m\u001B[38;5;241m.\u001B[39m_lock:\n\u001B[0;32m    818\u001B[0m     job_idx \u001B[38;5;241m=\u001B[39m \u001B[38;5;28mlen\u001B[39m(\u001B[38;5;28mself\u001B[39m\u001B[38;5;241m.\u001B[39m_jobs)\n\u001B[1;32m--> 819\u001B[0m     job \u001B[38;5;241m=\u001B[39m \u001B[38;5;28mself\u001B[39m\u001B[38;5;241m.\u001B[39m_backend\u001B[38;5;241m.\u001B[39mapply_async(batch, callback\u001B[38;5;241m=\u001B[39mcb)\n\u001B[0;32m    820\u001B[0m     \u001B[38;5;66;03m# A job can complete so quickly than its callback is\u001B[39;00m\n\u001B[0;32m    821\u001B[0m     \u001B[38;5;66;03m# called before we get here, causing self._jobs to\u001B[39;00m\n\u001B[0;32m    822\u001B[0m     \u001B[38;5;66;03m# grow. To ensure correct results ordering, .insert is\u001B[39;00m\n\u001B[0;32m    823\u001B[0m     \u001B[38;5;66;03m# used (rather than .append) in the following line\u001B[39;00m\n\u001B[0;32m    824\u001B[0m     \u001B[38;5;28mself\u001B[39m\u001B[38;5;241m.\u001B[39m_jobs\u001B[38;5;241m.\u001B[39minsert(job_idx, job)\n",
      "File \u001B[1;32md:\\anaconda3\\Lib\\site-packages\\joblib\\_parallel_backends.py:208\u001B[0m, in \u001B[0;36mSequentialBackend.apply_async\u001B[1;34m(self, func, callback)\u001B[0m\n\u001B[0;32m    206\u001B[0m \u001B[38;5;28;01mdef\u001B[39;00m \u001B[38;5;21mapply_async\u001B[39m(\u001B[38;5;28mself\u001B[39m, func, callback\u001B[38;5;241m=\u001B[39m\u001B[38;5;28;01mNone\u001B[39;00m):\n\u001B[0;32m    207\u001B[0m \u001B[38;5;250m    \u001B[39m\u001B[38;5;124;03m\"\"\"Schedule a func to be run\"\"\"\u001B[39;00m\n\u001B[1;32m--> 208\u001B[0m     result \u001B[38;5;241m=\u001B[39m ImmediateResult(func)\n\u001B[0;32m    209\u001B[0m     \u001B[38;5;28;01mif\u001B[39;00m callback:\n\u001B[0;32m    210\u001B[0m         callback(result)\n",
      "File \u001B[1;32md:\\anaconda3\\Lib\\site-packages\\joblib\\_parallel_backends.py:597\u001B[0m, in \u001B[0;36mImmediateResult.__init__\u001B[1;34m(self, batch)\u001B[0m\n\u001B[0;32m    594\u001B[0m \u001B[38;5;28;01mdef\u001B[39;00m \u001B[38;5;21m__init__\u001B[39m(\u001B[38;5;28mself\u001B[39m, batch):\n\u001B[0;32m    595\u001B[0m     \u001B[38;5;66;03m# Don't delay the application, to avoid keeping the input\u001B[39;00m\n\u001B[0;32m    596\u001B[0m     \u001B[38;5;66;03m# arguments in memory\u001B[39;00m\n\u001B[1;32m--> 597\u001B[0m     \u001B[38;5;28mself\u001B[39m\u001B[38;5;241m.\u001B[39mresults \u001B[38;5;241m=\u001B[39m batch()\n",
      "File \u001B[1;32md:\\anaconda3\\Lib\\site-packages\\joblib\\parallel.py:288\u001B[0m, in \u001B[0;36mBatchedCalls.__call__\u001B[1;34m(self)\u001B[0m\n\u001B[0;32m    284\u001B[0m \u001B[38;5;28;01mdef\u001B[39;00m \u001B[38;5;21m__call__\u001B[39m(\u001B[38;5;28mself\u001B[39m):\n\u001B[0;32m    285\u001B[0m     \u001B[38;5;66;03m# Set the default nested backend to self._backend but do not set the\u001B[39;00m\n\u001B[0;32m    286\u001B[0m     \u001B[38;5;66;03m# change the default number of processes to -1\u001B[39;00m\n\u001B[0;32m    287\u001B[0m     \u001B[38;5;28;01mwith\u001B[39;00m parallel_backend(\u001B[38;5;28mself\u001B[39m\u001B[38;5;241m.\u001B[39m_backend, n_jobs\u001B[38;5;241m=\u001B[39m\u001B[38;5;28mself\u001B[39m\u001B[38;5;241m.\u001B[39m_n_jobs):\n\u001B[1;32m--> 288\u001B[0m         \u001B[38;5;28;01mreturn\u001B[39;00m [func(\u001B[38;5;241m*\u001B[39margs, \u001B[38;5;241m*\u001B[39m\u001B[38;5;241m*\u001B[39mkwargs)\n\u001B[0;32m    289\u001B[0m                 \u001B[38;5;28;01mfor\u001B[39;00m func, args, kwargs \u001B[38;5;129;01min\u001B[39;00m \u001B[38;5;28mself\u001B[39m\u001B[38;5;241m.\u001B[39mitems]\n",
      "File \u001B[1;32md:\\anaconda3\\Lib\\site-packages\\joblib\\parallel.py:288\u001B[0m, in \u001B[0;36m<listcomp>\u001B[1;34m(.0)\u001B[0m\n\u001B[0;32m    284\u001B[0m \u001B[38;5;28;01mdef\u001B[39;00m \u001B[38;5;21m__call__\u001B[39m(\u001B[38;5;28mself\u001B[39m):\n\u001B[0;32m    285\u001B[0m     \u001B[38;5;66;03m# Set the default nested backend to self._backend but do not set the\u001B[39;00m\n\u001B[0;32m    286\u001B[0m     \u001B[38;5;66;03m# change the default number of processes to -1\u001B[39;00m\n\u001B[0;32m    287\u001B[0m     \u001B[38;5;28;01mwith\u001B[39;00m parallel_backend(\u001B[38;5;28mself\u001B[39m\u001B[38;5;241m.\u001B[39m_backend, n_jobs\u001B[38;5;241m=\u001B[39m\u001B[38;5;28mself\u001B[39m\u001B[38;5;241m.\u001B[39m_n_jobs):\n\u001B[1;32m--> 288\u001B[0m         \u001B[38;5;28;01mreturn\u001B[39;00m [func(\u001B[38;5;241m*\u001B[39margs, \u001B[38;5;241m*\u001B[39m\u001B[38;5;241m*\u001B[39mkwargs)\n\u001B[0;32m    289\u001B[0m                 \u001B[38;5;28;01mfor\u001B[39;00m func, args, kwargs \u001B[38;5;129;01min\u001B[39;00m \u001B[38;5;28mself\u001B[39m\u001B[38;5;241m.\u001B[39mitems]\n",
      "File \u001B[1;32md:\\anaconda3\\Lib\\site-packages\\sklearn\\utils\\parallel.py:127\u001B[0m, in \u001B[0;36m_FuncWrapper.__call__\u001B[1;34m(self, *args, **kwargs)\u001B[0m\n\u001B[0;32m    125\u001B[0m     config \u001B[38;5;241m=\u001B[39m {}\n\u001B[0;32m    126\u001B[0m \u001B[38;5;28;01mwith\u001B[39;00m config_context(\u001B[38;5;241m*\u001B[39m\u001B[38;5;241m*\u001B[39mconfig):\n\u001B[1;32m--> 127\u001B[0m     \u001B[38;5;28;01mreturn\u001B[39;00m \u001B[38;5;28mself\u001B[39m\u001B[38;5;241m.\u001B[39mfunction(\u001B[38;5;241m*\u001B[39margs, \u001B[38;5;241m*\u001B[39m\u001B[38;5;241m*\u001B[39mkwargs)\n",
      "File \u001B[1;32md:\\anaconda3\\Lib\\site-packages\\sklearn\\ensemble\\_base.py:36\u001B[0m, in \u001B[0;36m_fit_single_estimator\u001B[1;34m(estimator, X, y, sample_weight, message_clsname, message)\u001B[0m\n\u001B[0;32m     34\u001B[0m \u001B[38;5;28;01melse\u001B[39;00m:\n\u001B[0;32m     35\u001B[0m     \u001B[38;5;28;01mwith\u001B[39;00m _print_elapsed_time(message_clsname, message):\n\u001B[1;32m---> 36\u001B[0m         estimator\u001B[38;5;241m.\u001B[39mfit(X, y)\n\u001B[0;32m     37\u001B[0m \u001B[38;5;28;01mreturn\u001B[39;00m estimator\n",
      "File \u001B[1;32md:\\anaconda3\\Lib\\site-packages\\sklearn\\base.py:1151\u001B[0m, in \u001B[0;36m_fit_context.<locals>.decorator.<locals>.wrapper\u001B[1;34m(estimator, *args, **kwargs)\u001B[0m\n\u001B[0;32m   1144\u001B[0m     estimator\u001B[38;5;241m.\u001B[39m_validate_params()\n\u001B[0;32m   1146\u001B[0m \u001B[38;5;28;01mwith\u001B[39;00m config_context(\n\u001B[0;32m   1147\u001B[0m     skip_parameter_validation\u001B[38;5;241m=\u001B[39m(\n\u001B[0;32m   1148\u001B[0m         prefer_skip_nested_validation \u001B[38;5;129;01mor\u001B[39;00m global_skip_validation\n\u001B[0;32m   1149\u001B[0m     )\n\u001B[0;32m   1150\u001B[0m ):\n\u001B[1;32m-> 1151\u001B[0m     \u001B[38;5;28;01mreturn\u001B[39;00m fit_method(estimator, \u001B[38;5;241m*\u001B[39margs, \u001B[38;5;241m*\u001B[39m\u001B[38;5;241m*\u001B[39mkwargs)\n",
      "File \u001B[1;32md:\\anaconda3\\Lib\\site-packages\\sklearn\\ensemble\\_forest.py:456\u001B[0m, in \u001B[0;36mBaseForest.fit\u001B[1;34m(self, X, y, sample_weight)\u001B[0m\n\u001B[0;32m    445\u001B[0m trees \u001B[38;5;241m=\u001B[39m [\n\u001B[0;32m    446\u001B[0m     \u001B[38;5;28mself\u001B[39m\u001B[38;5;241m.\u001B[39m_make_estimator(append\u001B[38;5;241m=\u001B[39m\u001B[38;5;28;01mFalse\u001B[39;00m, random_state\u001B[38;5;241m=\u001B[39mrandom_state)\n\u001B[0;32m    447\u001B[0m     \u001B[38;5;28;01mfor\u001B[39;00m i \u001B[38;5;129;01min\u001B[39;00m \u001B[38;5;28mrange\u001B[39m(n_more_estimators)\n\u001B[0;32m    448\u001B[0m ]\n\u001B[0;32m    450\u001B[0m \u001B[38;5;66;03m# Parallel loop: we prefer the threading backend as the Cython code\u001B[39;00m\n\u001B[0;32m    451\u001B[0m \u001B[38;5;66;03m# for fitting the trees is internally releasing the Python GIL\u001B[39;00m\n\u001B[0;32m    452\u001B[0m \u001B[38;5;66;03m# making threading more efficient than multiprocessing in\u001B[39;00m\n\u001B[0;32m    453\u001B[0m \u001B[38;5;66;03m# that case. However, for joblib 0.12+ we respect any\u001B[39;00m\n\u001B[0;32m    454\u001B[0m \u001B[38;5;66;03m# parallel_backend contexts set at a higher level,\u001B[39;00m\n\u001B[0;32m    455\u001B[0m \u001B[38;5;66;03m# since correctness does not rely on using threads.\u001B[39;00m\n\u001B[1;32m--> 456\u001B[0m trees \u001B[38;5;241m=\u001B[39m Parallel(\n\u001B[0;32m    457\u001B[0m     n_jobs\u001B[38;5;241m=\u001B[39m\u001B[38;5;28mself\u001B[39m\u001B[38;5;241m.\u001B[39mn_jobs,\n\u001B[0;32m    458\u001B[0m     verbose\u001B[38;5;241m=\u001B[39m\u001B[38;5;28mself\u001B[39m\u001B[38;5;241m.\u001B[39mverbose,\n\u001B[0;32m    459\u001B[0m     prefer\u001B[38;5;241m=\u001B[39m\u001B[38;5;124m\"\u001B[39m\u001B[38;5;124mthreads\u001B[39m\u001B[38;5;124m\"\u001B[39m,\n\u001B[0;32m    460\u001B[0m )(\n\u001B[0;32m    461\u001B[0m     delayed(_parallel_build_trees)(\n\u001B[0;32m    462\u001B[0m         t,\n\u001B[0;32m    463\u001B[0m         \u001B[38;5;28mself\u001B[39m\u001B[38;5;241m.\u001B[39mbootstrap,\n\u001B[0;32m    464\u001B[0m         X,\n\u001B[0;32m    465\u001B[0m         y,\n\u001B[0;32m    466\u001B[0m         sample_weight,\n\u001B[0;32m    467\u001B[0m         i,\n\u001B[0;32m    468\u001B[0m         \u001B[38;5;28mlen\u001B[39m(trees),\n\u001B[0;32m    469\u001B[0m         verbose\u001B[38;5;241m=\u001B[39m\u001B[38;5;28mself\u001B[39m\u001B[38;5;241m.\u001B[39mverbose,\n\u001B[0;32m    470\u001B[0m         class_weight\u001B[38;5;241m=\u001B[39m\u001B[38;5;28mself\u001B[39m\u001B[38;5;241m.\u001B[39mclass_weight,\n\u001B[0;32m    471\u001B[0m         n_samples_bootstrap\u001B[38;5;241m=\u001B[39mn_samples_bootstrap,\n\u001B[0;32m    472\u001B[0m     )\n\u001B[0;32m    473\u001B[0m     \u001B[38;5;28;01mfor\u001B[39;00m i, t \u001B[38;5;129;01min\u001B[39;00m \u001B[38;5;28menumerate\u001B[39m(trees)\n\u001B[0;32m    474\u001B[0m )\n\u001B[0;32m    476\u001B[0m \u001B[38;5;66;03m# Collect newly grown trees\u001B[39;00m\n\u001B[0;32m    477\u001B[0m \u001B[38;5;28mself\u001B[39m\u001B[38;5;241m.\u001B[39mestimators_\u001B[38;5;241m.\u001B[39mextend(trees)\n",
      "File \u001B[1;32md:\\anaconda3\\Lib\\site-packages\\sklearn\\utils\\parallel.py:65\u001B[0m, in \u001B[0;36mParallel.__call__\u001B[1;34m(self, iterable)\u001B[0m\n\u001B[0;32m     60\u001B[0m config \u001B[38;5;241m=\u001B[39m get_config()\n\u001B[0;32m     61\u001B[0m iterable_with_config \u001B[38;5;241m=\u001B[39m (\n\u001B[0;32m     62\u001B[0m     (_with_config(delayed_func, config), args, kwargs)\n\u001B[0;32m     63\u001B[0m     \u001B[38;5;28;01mfor\u001B[39;00m delayed_func, args, kwargs \u001B[38;5;129;01min\u001B[39;00m iterable\n\u001B[0;32m     64\u001B[0m )\n\u001B[1;32m---> 65\u001B[0m \u001B[38;5;28;01mreturn\u001B[39;00m \u001B[38;5;28msuper\u001B[39m()\u001B[38;5;241m.\u001B[39m\u001B[38;5;21m__call__\u001B[39m(iterable_with_config)\n",
      "File \u001B[1;32md:\\anaconda3\\Lib\\site-packages\\joblib\\parallel.py:1088\u001B[0m, in \u001B[0;36mParallel.__call__\u001B[1;34m(self, iterable)\u001B[0m\n\u001B[0;32m   1085\u001B[0m \u001B[38;5;28;01mif\u001B[39;00m \u001B[38;5;28mself\u001B[39m\u001B[38;5;241m.\u001B[39mdispatch_one_batch(iterator):\n\u001B[0;32m   1086\u001B[0m     \u001B[38;5;28mself\u001B[39m\u001B[38;5;241m.\u001B[39m_iterating \u001B[38;5;241m=\u001B[39m \u001B[38;5;28mself\u001B[39m\u001B[38;5;241m.\u001B[39m_original_iterator \u001B[38;5;129;01mis\u001B[39;00m \u001B[38;5;129;01mnot\u001B[39;00m \u001B[38;5;28;01mNone\u001B[39;00m\n\u001B[1;32m-> 1088\u001B[0m \u001B[38;5;28;01mwhile\u001B[39;00m \u001B[38;5;28mself\u001B[39m\u001B[38;5;241m.\u001B[39mdispatch_one_batch(iterator):\n\u001B[0;32m   1089\u001B[0m     \u001B[38;5;28;01mpass\u001B[39;00m\n\u001B[0;32m   1091\u001B[0m \u001B[38;5;28;01mif\u001B[39;00m pre_dispatch \u001B[38;5;241m==\u001B[39m \u001B[38;5;124m\"\u001B[39m\u001B[38;5;124mall\u001B[39m\u001B[38;5;124m\"\u001B[39m \u001B[38;5;129;01mor\u001B[39;00m n_jobs \u001B[38;5;241m==\u001B[39m \u001B[38;5;241m1\u001B[39m:\n\u001B[0;32m   1092\u001B[0m     \u001B[38;5;66;03m# The iterable was consumed all at once by the above for loop.\u001B[39;00m\n\u001B[0;32m   1093\u001B[0m     \u001B[38;5;66;03m# No need to wait for async callbacks to trigger to\u001B[39;00m\n\u001B[0;32m   1094\u001B[0m     \u001B[38;5;66;03m# consumption.\u001B[39;00m\n",
      "File \u001B[1;32md:\\anaconda3\\Lib\\site-packages\\joblib\\parallel.py:901\u001B[0m, in \u001B[0;36mParallel.dispatch_one_batch\u001B[1;34m(self, iterator)\u001B[0m\n\u001B[0;32m    899\u001B[0m     \u001B[38;5;28;01mreturn\u001B[39;00m \u001B[38;5;28;01mFalse\u001B[39;00m\n\u001B[0;32m    900\u001B[0m \u001B[38;5;28;01melse\u001B[39;00m:\n\u001B[1;32m--> 901\u001B[0m     \u001B[38;5;28mself\u001B[39m\u001B[38;5;241m.\u001B[39m_dispatch(tasks)\n\u001B[0;32m    902\u001B[0m     \u001B[38;5;28;01mreturn\u001B[39;00m \u001B[38;5;28;01mTrue\u001B[39;00m\n",
      "File \u001B[1;32md:\\anaconda3\\Lib\\site-packages\\joblib\\parallel.py:819\u001B[0m, in \u001B[0;36mParallel._dispatch\u001B[1;34m(self, batch)\u001B[0m\n\u001B[0;32m    817\u001B[0m \u001B[38;5;28;01mwith\u001B[39;00m \u001B[38;5;28mself\u001B[39m\u001B[38;5;241m.\u001B[39m_lock:\n\u001B[0;32m    818\u001B[0m     job_idx \u001B[38;5;241m=\u001B[39m \u001B[38;5;28mlen\u001B[39m(\u001B[38;5;28mself\u001B[39m\u001B[38;5;241m.\u001B[39m_jobs)\n\u001B[1;32m--> 819\u001B[0m     job \u001B[38;5;241m=\u001B[39m \u001B[38;5;28mself\u001B[39m\u001B[38;5;241m.\u001B[39m_backend\u001B[38;5;241m.\u001B[39mapply_async(batch, callback\u001B[38;5;241m=\u001B[39mcb)\n\u001B[0;32m    820\u001B[0m     \u001B[38;5;66;03m# A job can complete so quickly than its callback is\u001B[39;00m\n\u001B[0;32m    821\u001B[0m     \u001B[38;5;66;03m# called before we get here, causing self._jobs to\u001B[39;00m\n\u001B[0;32m    822\u001B[0m     \u001B[38;5;66;03m# grow. To ensure correct results ordering, .insert is\u001B[39;00m\n\u001B[0;32m    823\u001B[0m     \u001B[38;5;66;03m# used (rather than .append) in the following line\u001B[39;00m\n\u001B[0;32m    824\u001B[0m     \u001B[38;5;28mself\u001B[39m\u001B[38;5;241m.\u001B[39m_jobs\u001B[38;5;241m.\u001B[39minsert(job_idx, job)\n",
      "File \u001B[1;32md:\\anaconda3\\Lib\\site-packages\\joblib\\_parallel_backends.py:208\u001B[0m, in \u001B[0;36mSequentialBackend.apply_async\u001B[1;34m(self, func, callback)\u001B[0m\n\u001B[0;32m    206\u001B[0m \u001B[38;5;28;01mdef\u001B[39;00m \u001B[38;5;21mapply_async\u001B[39m(\u001B[38;5;28mself\u001B[39m, func, callback\u001B[38;5;241m=\u001B[39m\u001B[38;5;28;01mNone\u001B[39;00m):\n\u001B[0;32m    207\u001B[0m \u001B[38;5;250m    \u001B[39m\u001B[38;5;124;03m\"\"\"Schedule a func to be run\"\"\"\u001B[39;00m\n\u001B[1;32m--> 208\u001B[0m     result \u001B[38;5;241m=\u001B[39m ImmediateResult(func)\n\u001B[0;32m    209\u001B[0m     \u001B[38;5;28;01mif\u001B[39;00m callback:\n\u001B[0;32m    210\u001B[0m         callback(result)\n",
      "File \u001B[1;32md:\\anaconda3\\Lib\\site-packages\\joblib\\_parallel_backends.py:597\u001B[0m, in \u001B[0;36mImmediateResult.__init__\u001B[1;34m(self, batch)\u001B[0m\n\u001B[0;32m    594\u001B[0m \u001B[38;5;28;01mdef\u001B[39;00m \u001B[38;5;21m__init__\u001B[39m(\u001B[38;5;28mself\u001B[39m, batch):\n\u001B[0;32m    595\u001B[0m     \u001B[38;5;66;03m# Don't delay the application, to avoid keeping the input\u001B[39;00m\n\u001B[0;32m    596\u001B[0m     \u001B[38;5;66;03m# arguments in memory\u001B[39;00m\n\u001B[1;32m--> 597\u001B[0m     \u001B[38;5;28mself\u001B[39m\u001B[38;5;241m.\u001B[39mresults \u001B[38;5;241m=\u001B[39m batch()\n",
      "File \u001B[1;32md:\\anaconda3\\Lib\\site-packages\\joblib\\parallel.py:288\u001B[0m, in \u001B[0;36mBatchedCalls.__call__\u001B[1;34m(self)\u001B[0m\n\u001B[0;32m    284\u001B[0m \u001B[38;5;28;01mdef\u001B[39;00m \u001B[38;5;21m__call__\u001B[39m(\u001B[38;5;28mself\u001B[39m):\n\u001B[0;32m    285\u001B[0m     \u001B[38;5;66;03m# Set the default nested backend to self._backend but do not set the\u001B[39;00m\n\u001B[0;32m    286\u001B[0m     \u001B[38;5;66;03m# change the default number of processes to -1\u001B[39;00m\n\u001B[0;32m    287\u001B[0m     \u001B[38;5;28;01mwith\u001B[39;00m parallel_backend(\u001B[38;5;28mself\u001B[39m\u001B[38;5;241m.\u001B[39m_backend, n_jobs\u001B[38;5;241m=\u001B[39m\u001B[38;5;28mself\u001B[39m\u001B[38;5;241m.\u001B[39m_n_jobs):\n\u001B[1;32m--> 288\u001B[0m         \u001B[38;5;28;01mreturn\u001B[39;00m [func(\u001B[38;5;241m*\u001B[39margs, \u001B[38;5;241m*\u001B[39m\u001B[38;5;241m*\u001B[39mkwargs)\n\u001B[0;32m    289\u001B[0m                 \u001B[38;5;28;01mfor\u001B[39;00m func, args, kwargs \u001B[38;5;129;01min\u001B[39;00m \u001B[38;5;28mself\u001B[39m\u001B[38;5;241m.\u001B[39mitems]\n",
      "File \u001B[1;32md:\\anaconda3\\Lib\\site-packages\\joblib\\parallel.py:288\u001B[0m, in \u001B[0;36m<listcomp>\u001B[1;34m(.0)\u001B[0m\n\u001B[0;32m    284\u001B[0m \u001B[38;5;28;01mdef\u001B[39;00m \u001B[38;5;21m__call__\u001B[39m(\u001B[38;5;28mself\u001B[39m):\n\u001B[0;32m    285\u001B[0m     \u001B[38;5;66;03m# Set the default nested backend to self._backend but do not set the\u001B[39;00m\n\u001B[0;32m    286\u001B[0m     \u001B[38;5;66;03m# change the default number of processes to -1\u001B[39;00m\n\u001B[0;32m    287\u001B[0m     \u001B[38;5;28;01mwith\u001B[39;00m parallel_backend(\u001B[38;5;28mself\u001B[39m\u001B[38;5;241m.\u001B[39m_backend, n_jobs\u001B[38;5;241m=\u001B[39m\u001B[38;5;28mself\u001B[39m\u001B[38;5;241m.\u001B[39m_n_jobs):\n\u001B[1;32m--> 288\u001B[0m         \u001B[38;5;28;01mreturn\u001B[39;00m [func(\u001B[38;5;241m*\u001B[39margs, \u001B[38;5;241m*\u001B[39m\u001B[38;5;241m*\u001B[39mkwargs)\n\u001B[0;32m    289\u001B[0m                 \u001B[38;5;28;01mfor\u001B[39;00m func, args, kwargs \u001B[38;5;129;01min\u001B[39;00m \u001B[38;5;28mself\u001B[39m\u001B[38;5;241m.\u001B[39mitems]\n",
      "File \u001B[1;32md:\\anaconda3\\Lib\\site-packages\\sklearn\\utils\\parallel.py:127\u001B[0m, in \u001B[0;36m_FuncWrapper.__call__\u001B[1;34m(self, *args, **kwargs)\u001B[0m\n\u001B[0;32m    125\u001B[0m     config \u001B[38;5;241m=\u001B[39m {}\n\u001B[0;32m    126\u001B[0m \u001B[38;5;28;01mwith\u001B[39;00m config_context(\u001B[38;5;241m*\u001B[39m\u001B[38;5;241m*\u001B[39mconfig):\n\u001B[1;32m--> 127\u001B[0m     \u001B[38;5;28;01mreturn\u001B[39;00m \u001B[38;5;28mself\u001B[39m\u001B[38;5;241m.\u001B[39mfunction(\u001B[38;5;241m*\u001B[39margs, \u001B[38;5;241m*\u001B[39m\u001B[38;5;241m*\u001B[39mkwargs)\n",
      "File \u001B[1;32md:\\anaconda3\\Lib\\site-packages\\sklearn\\ensemble\\_forest.py:188\u001B[0m, in \u001B[0;36m_parallel_build_trees\u001B[1;34m(tree, bootstrap, X, y, sample_weight, tree_idx, n_trees, verbose, class_weight, n_samples_bootstrap)\u001B[0m\n\u001B[0;32m    185\u001B[0m     \u001B[38;5;28;01melif\u001B[39;00m class_weight \u001B[38;5;241m==\u001B[39m \u001B[38;5;124m\"\u001B[39m\u001B[38;5;124mbalanced_subsample\u001B[39m\u001B[38;5;124m\"\u001B[39m:\n\u001B[0;32m    186\u001B[0m         curr_sample_weight \u001B[38;5;241m*\u001B[39m\u001B[38;5;241m=\u001B[39m compute_sample_weight(\u001B[38;5;124m\"\u001B[39m\u001B[38;5;124mbalanced\u001B[39m\u001B[38;5;124m\"\u001B[39m, y, indices\u001B[38;5;241m=\u001B[39mindices)\n\u001B[1;32m--> 188\u001B[0m     tree\u001B[38;5;241m.\u001B[39mfit(X, y, sample_weight\u001B[38;5;241m=\u001B[39mcurr_sample_weight, check_input\u001B[38;5;241m=\u001B[39m\u001B[38;5;28;01mFalse\u001B[39;00m)\n\u001B[0;32m    189\u001B[0m \u001B[38;5;28;01melse\u001B[39;00m:\n\u001B[0;32m    190\u001B[0m     tree\u001B[38;5;241m.\u001B[39mfit(X, y, sample_weight\u001B[38;5;241m=\u001B[39msample_weight, check_input\u001B[38;5;241m=\u001B[39m\u001B[38;5;28;01mFalse\u001B[39;00m)\n",
      "File \u001B[1;32md:\\anaconda3\\Lib\\site-packages\\sklearn\\base.py:1151\u001B[0m, in \u001B[0;36m_fit_context.<locals>.decorator.<locals>.wrapper\u001B[1;34m(estimator, *args, **kwargs)\u001B[0m\n\u001B[0;32m   1144\u001B[0m     estimator\u001B[38;5;241m.\u001B[39m_validate_params()\n\u001B[0;32m   1146\u001B[0m \u001B[38;5;28;01mwith\u001B[39;00m config_context(\n\u001B[0;32m   1147\u001B[0m     skip_parameter_validation\u001B[38;5;241m=\u001B[39m(\n\u001B[0;32m   1148\u001B[0m         prefer_skip_nested_validation \u001B[38;5;129;01mor\u001B[39;00m global_skip_validation\n\u001B[0;32m   1149\u001B[0m     )\n\u001B[0;32m   1150\u001B[0m ):\n\u001B[1;32m-> 1151\u001B[0m     \u001B[38;5;28;01mreturn\u001B[39;00m fit_method(estimator, \u001B[38;5;241m*\u001B[39margs, \u001B[38;5;241m*\u001B[39m\u001B[38;5;241m*\u001B[39mkwargs)\n",
      "File \u001B[1;32md:\\anaconda3\\Lib\\site-packages\\sklearn\\tree\\_classes.py:959\u001B[0m, in \u001B[0;36mDecisionTreeClassifier.fit\u001B[1;34m(self, X, y, sample_weight, check_input)\u001B[0m\n\u001B[0;32m    928\u001B[0m \u001B[38;5;129m@_fit_context\u001B[39m(prefer_skip_nested_validation\u001B[38;5;241m=\u001B[39m\u001B[38;5;28;01mTrue\u001B[39;00m)\n\u001B[0;32m    929\u001B[0m \u001B[38;5;28;01mdef\u001B[39;00m \u001B[38;5;21mfit\u001B[39m(\u001B[38;5;28mself\u001B[39m, X, y, sample_weight\u001B[38;5;241m=\u001B[39m\u001B[38;5;28;01mNone\u001B[39;00m, check_input\u001B[38;5;241m=\u001B[39m\u001B[38;5;28;01mTrue\u001B[39;00m):\n\u001B[0;32m    930\u001B[0m \u001B[38;5;250m    \u001B[39m\u001B[38;5;124;03m\"\"\"Build a decision tree classifier from the training set (X, y).\u001B[39;00m\n\u001B[0;32m    931\u001B[0m \n\u001B[0;32m    932\u001B[0m \u001B[38;5;124;03m    Parameters\u001B[39;00m\n\u001B[1;32m   (...)\u001B[0m\n\u001B[0;32m    956\u001B[0m \u001B[38;5;124;03m        Fitted estimator.\u001B[39;00m\n\u001B[0;32m    957\u001B[0m \u001B[38;5;124;03m    \"\"\"\u001B[39;00m\n\u001B[1;32m--> 959\u001B[0m     \u001B[38;5;28msuper\u001B[39m()\u001B[38;5;241m.\u001B[39m_fit(\n\u001B[0;32m    960\u001B[0m         X,\n\u001B[0;32m    961\u001B[0m         y,\n\u001B[0;32m    962\u001B[0m         sample_weight\u001B[38;5;241m=\u001B[39msample_weight,\n\u001B[0;32m    963\u001B[0m         check_input\u001B[38;5;241m=\u001B[39mcheck_input,\n\u001B[0;32m    964\u001B[0m     )\n\u001B[0;32m    965\u001B[0m     \u001B[38;5;28;01mreturn\u001B[39;00m \u001B[38;5;28mself\u001B[39m\n",
      "File \u001B[1;32md:\\anaconda3\\Lib\\site-packages\\sklearn\\tree\\_classes.py:443\u001B[0m, in \u001B[0;36mBaseDecisionTree._fit\u001B[1;34m(self, X, y, sample_weight, check_input, missing_values_in_feature_mask)\u001B[0m\n\u001B[0;32m    432\u001B[0m \u001B[38;5;28;01melse\u001B[39;00m:\n\u001B[0;32m    433\u001B[0m     builder \u001B[38;5;241m=\u001B[39m BestFirstTreeBuilder(\n\u001B[0;32m    434\u001B[0m         splitter,\n\u001B[0;32m    435\u001B[0m         min_samples_split,\n\u001B[1;32m   (...)\u001B[0m\n\u001B[0;32m    440\u001B[0m         \u001B[38;5;28mself\u001B[39m\u001B[38;5;241m.\u001B[39mmin_impurity_decrease,\n\u001B[0;32m    441\u001B[0m     )\n\u001B[1;32m--> 443\u001B[0m builder\u001B[38;5;241m.\u001B[39mbuild(\u001B[38;5;28mself\u001B[39m\u001B[38;5;241m.\u001B[39mtree_, X, y, sample_weight, missing_values_in_feature_mask)\n\u001B[0;32m    445\u001B[0m \u001B[38;5;28;01mif\u001B[39;00m \u001B[38;5;28mself\u001B[39m\u001B[38;5;241m.\u001B[39mn_outputs_ \u001B[38;5;241m==\u001B[39m \u001B[38;5;241m1\u001B[39m \u001B[38;5;129;01mand\u001B[39;00m is_classifier(\u001B[38;5;28mself\u001B[39m):\n\u001B[0;32m    446\u001B[0m     \u001B[38;5;28mself\u001B[39m\u001B[38;5;241m.\u001B[39mn_classes_ \u001B[38;5;241m=\u001B[39m \u001B[38;5;28mself\u001B[39m\u001B[38;5;241m.\u001B[39mn_classes_[\u001B[38;5;241m0\u001B[39m]\n",
      "\u001B[1;31mKeyboardInterrupt\u001B[0m: "
     ]
    }
   ],
   "source": [
    "from sklearn.naive_bayes import MultinomialNB\n",
    "from sklearn.linear_model import LogisticRegression, SGDClassifier\n",
    "from sklearn.ensemble import VotingClassifier, RandomForestClassifier\n",
    "\n",
    "for n_estimators in [100, 200, 300, 400, 500]:\n",
    "    lr = LogisticRegression()\n",
    "    clf = RandomForestClassifier(n_estimators=n_estimators, random_state=0)\n",
    "    sgd_model = SGDClassifier(max_iter=8000, tol=5e-4, loss=\"modified_huber\")\n",
    "    sgd_model2 = SGDClassifier(max_iter=10000, tol=3e-4, loss=\"modified_huber\", class_weight=\"balanced\")\n",
    "    sgd_model3 = SGDClassifier(max_iter=15000, tol=1e-4, loss=\"modified_huber\", early_stopping=True)\n",
    "    \n",
    "    ensemble = VotingClassifier(\n",
    "        estimators=[('lr', lr), ('mnb', clf), ('sgd', sgd_model), ('sgd2', sgd_model2), ('sgd3', sgd_model3)],\n",
    "        weights=[0.20, 0.20, 0.20, 0.20, 0.20],\n",
    "        voting='soft'\n",
    "    )\n",
    "    ensemble.fit(x_train, y_train)\n",
    "    \n",
    "    #preds_test = ensemble.predict_proba(x_test)\n",
    "    preds_test = ensemble.predict(x_test)\n",
    "    from sklearn.metrics import accuracy_score, precision_score, recall_score, f1_score\n",
    "    \n",
    "    accuracy = accuracy_score(y_test, preds_test)\n",
    "    precision = precision_score(y_test, preds_test, average='macro')\n",
    "    recall = recall_score(y_test, preds_test, average='macro')\n",
    "    f1 = f1_score(y_test, preds_test, average='macro')\n",
    "    \n",
    "    print('Accuracy:', accuracy)\n",
    "    print('Precision:', precision)\n",
    "    print('Recall:', recall)\n",
    "    print('F1 Score:', f1)\n"
   ],
   "metadata": {
    "collapsed": false,
    "ExecuteTime": {
     "end_time": "2023-11-28T13:53:12.302657600Z",
     "start_time": "2023-11-28T13:51:44.987904300Z"
    }
   },
   "id": "ae4c2b2e3d84db31"
  },
  {
   "cell_type": "code",
   "execution_count": 24,
   "outputs": [],
   "source": [
    "ensemble.fit(x_train, y_train)\n",
    "\n",
    "#preds_test = ensemble.predict_proba(x_test)\n",
    "preds_test = ensemble.predict(x_test)"
   ],
   "metadata": {
    "collapsed": false,
    "ExecuteTime": {
     "end_time": "2023-11-28T13:43:27.542574800Z",
     "start_time": "2023-11-28T13:41:36.870487600Z"
    }
   },
   "id": "8b5d04427463a6e6"
  },
  {
   "cell_type": "code",
   "execution_count": 27,
   "outputs": [
    {
     "name": "stdout",
     "output_type": "stream",
     "text": [
      "Accuracy: 0.9644736842105263\n",
      "Precision: 0.9660737881997609\n",
      "Recall: 0.9632077044942884\n",
      "F1 Score: 0.9642582809487231\n"
     ]
    }
   ],
   "source": [
    "from sklearn.metrics import accuracy_score, precision_score, recall_score, f1_score\n",
    "\n",
    "accuracy = accuracy_score(y_test, preds_test)\n",
    "precision = precision_score(y_test, preds_test, average='macro')\n",
    "recall = recall_score(y_test, preds_test, average='macro')\n",
    "f1 = f1_score(y_test, preds_test, average='macro')\n",
    "\n",
    "print('Accuracy:', accuracy)\n",
    "print('Precision:', precision)\n",
    "print('Recall:', recall)\n",
    "print('F1 Score:', f1)\n"
   ],
   "metadata": {
    "collapsed": false,
    "ExecuteTime": {
     "end_time": "2023-11-28T13:43:36.526963300Z",
     "start_time": "2023-11-28T13:43:36.518242100Z"
    }
   },
   "id": "3724033bb274a399"
  },
  {
   "cell_type": "code",
   "execution_count": 26,
   "outputs": [
    {
     "name": "stdout",
     "output_type": "stream",
     "text": [
      "[1]\n",
      "[1]\n",
      "[0]\n",
      "[0]\n",
      "[1]\n"
     ]
    }
   ],
   "source": [
    "val = [\n",
    "    \"蛔虫美女问世了：现在有一种减肥的方法，不用运动不用节食：吃蛔虫卵。服用蛔虫卵后，蛔虫卵会在人体里孵化成虫，帮助房东消费食物，达到让房东瘦身的目的。这是英国《每日邮报》的新闻，说是通过服用蛔虫卵瘦身已被一些中国女大学生接受。真的假的？\",\n",
    "    \"传说中的麦当劳全国通用无线上网密码，真的吗？\",\n",
    "    \"【“顶花”黄瓜或有猫腻，生长剂含避孕药】据青岛新闻网，顶着鲜艳黄花的黄瓜，通常在市场上受欢迎。但许多这样的黄瓜是用植物生长调节剂“扮嫩”的。有小贩爆料，黄瓜如果正常生长，采摘时早就谢，顶花黄瓜肯定是抹过药，甚至是避孕药配制的激素药。http://sinaurl.cn/h5IPDq\",\n",
    "    \"#有奖转发#【关注蚂蚁汇，赢imac大奖】参与方式：①关注蚂蚁汇②评论并转发本条微博③@ 5位以上好友。今天我们会抽取6名粉丝送出豆腐手机座或美妆体验一份！另外，再从评论尾数为4的粉丝中选一名，送出薇姿中样一份！本月全部活动结束后，将有大奖imac相送！想要拿奖的童鞋们，转起来吧！[欢欣鼓舞]\",\n",
    "    \"【6类杀精食物 吃傻下一代】一、炸鸡，含致癌物丙烯酰胺；二、啤酒，使尿酸沉积，肾小管阻塞肾脏衰竭；三、咖啡，压抑副交感神经减低性欲；四、豆腐，植物雌激素减少精子数；五、奶茶，反式脂肪酸减少男性荷尔蒙；六、腰子，含有重金属镉。不是吃啥补啥！！http://t.cn/heDXfi\"]\n",
    "\n",
    "for i in val:\n",
    "    i = wordopt_cn(i)\n",
    "    i = ' '.join(jieba.cut(i))\n",
    "    i = remove_stopwords(i)\n",
    "    i = re.sub('\\\\s+', ' ', i)\n",
    "    \n",
    "    i = vectorizer.transform([i]).toarray()\n",
    "    print(ensemble.predict(i))"
   ],
   "metadata": {
    "collapsed": false,
    "ExecuteTime": {
     "end_time": "2023-11-28T13:43:27.685233700Z",
     "start_time": "2023-11-28T13:43:27.553333Z"
    }
   },
   "id": "8246bd668b420315"
  },
  {
   "cell_type": "code",
   "execution_count": 16,
   "outputs": [
    {
     "data": {
      "text/plain": "['ensemble.pkl']"
     },
     "execution_count": 16,
     "metadata": {},
     "output_type": "execute_result"
    }
   ],
   "source": [
    "import joblib\n",
    "joblib.dump(ensemble, 'ensemble.pkl')"
   ],
   "metadata": {
    "collapsed": false,
    "ExecuteTime": {
     "end_time": "2023-11-27T13:58:59.844996200Z",
     "start_time": "2023-11-27T13:58:59.815846900Z"
    }
   },
   "id": "69e26048c830c56b"
  },
  {
   "cell_type": "code",
   "execution_count": 37,
   "outputs": [
    {
     "data": {
      "text/plain": "                                                   text  has_url  comments  \\\n0     蛔虫美女问世了：现在有一种减肥的方法，不用运动不用节食：吃蛔虫卵。服用蛔虫卵后，蛔虫卵会在人...    False       930   \n1                                传说中的麦当劳全国通用无线上网密码，真的吗？    False      1734   \n2     【“顶花”黄瓜或有猫腻，生长剂含避孕药】据青岛新闻网，顶着鲜艳黄花的黄瓜，通常在市场上受欢迎...     True       304   \n3     临沂市委书记奸淫上百幼女.....（燕赵都市网）.  原文出处http://sinaurl....     True       391   \n4     人们更容易对自己亲近的人发火，而不是他们讨厌的人。所谓亲近的人，就是大部分时间和他们在一起的...    False       290   \n...                                                 ...      ...       ...   \n1907  刚录完节目看到我的评论里大家都在讨论我穿平底鞋！！其实人家穿平底鞋是因为不想比小朋友高太多，...    False       296   \n1908  #自然堂全国路演随手拍#自然堂舞林争霸冠军果然是我喜欢的@张傲月 ，一路走来一直都非常支持他...    False       125   \n1909  #回龙观关注# 赶紧检查一下你家里的牙膏，如果是黑色条赶紧扔掉！买牙膏时注意牙膏管反面底部的...    False        25   \n1910  [这个一定要让大家知道！]： 大家買牙膏請留心,买牙膏时注意牙膏管反面底部的颜色条,今天才知...    False        39   \n1911  【KHUNTORIA三周年】2010.6.1——2013.6.1 <那些空气中洒满砂糖的日子...    False       137   \n\n      pics  likes        time  reposts                     mid      user_uid  \\\n0        0     52  1294197312     1121  2dKrhwqWBVm_1195031270  1.195031e+09   \n1        1     66  1297082614     9550  2dKrzuu3skL_1644395354  1.644395e+09   \n2        1   2285  1297757949     1082  2dKs1KOT8t0_1314608344  1.314608e+09   \n3        1    896  1292411740      753  2dKSSoZX2Sd_1300442112  1.300442e+09   \n4        1     20  1295580615     1654  2kiroqdeC1F_1764669250  1.764669e+09   \n...    ...    ...         ...      ...                     ...           ...   \n1907     1    183  1369929523       47    zzabOkjrC_1264341240  1.264341e+09   \n1908     1      1  1370178614      728    zzBmWlKN0_1725725780  1.725726e+09   \n1909     1      0  1370220117      103    zzFTHcFe1_1628595353  1.628595e+09   \n1910     1      3  1370010811      268    zzj3JohLU_2683002893  2.683003e+09   \n1911     1     59  1370015959      643    zzjCzqPhB_1875403532  1.875404e+09   \n\n     user_verified user_description user_gender  user_messages  \\\n0             True             True           m        27674.0   \n1            False             True           m        95429.0   \n2             True             True           m        56734.0   \n3             True             True           m         8227.0   \n4            False             True           f        43316.0   \n...            ...              ...         ...            ...   \n1907          True             True           f         3033.0   \n1908          True             True           f         3299.0   \n1909         False             True           m         1980.0   \n1910         False             True           f          743.0   \n1911         False             True           f         3800.0   \n\n      user_followers user_location     user_time  user_friends  \\\n0          6630484.0        北京 朝阳区  1.251448e+09         736.0   \n1         13495595.0         广东 广州  1.256241e+09         826.0   \n2         13891482.0        上海 闵行区  1.251449e+09         541.0   \n3            21246.0         江苏 南京  1.261308e+09        1376.0   \n4          1647102.0            海外  1.277104e+09         271.0   \n...              ...           ...           ...           ...   \n1907        546721.0         江苏 南京  1.270849e+09         824.0   \n1908        831629.0        北京 东城区  1.270517e+09        1211.0   \n1909          8491.0        北京 昌平区  1.251784e+09        1228.0   \n1910          2193.0         广东 深圳  1.332763e+09         135.0   \n1911         50379.0            其他  1.290752e+09          62.0   \n\n      user_verified_type user  \n0                    0.0  NaN  \n1                   -1.0  NaN  \n2                    3.0  NaN  \n3                    0.0  NaN  \n4                   -1.0  NaN  \n...                  ...  ...  \n1907                 0.0  NaN  \n1908                 0.0  NaN  \n1909                -1.0  NaN  \n1910                -1.0  NaN  \n1911                -1.0  NaN  \n\n[1912 rows x 19 columns]",
      "text/html": "<div>\n<style scoped>\n    .dataframe tbody tr th:only-of-type {\n        vertical-align: middle;\n    }\n\n    .dataframe tbody tr th {\n        vertical-align: top;\n    }\n\n    .dataframe thead th {\n        text-align: right;\n    }\n</style>\n<table border=\"1\" class=\"dataframe\">\n  <thead>\n    <tr style=\"text-align: right;\">\n      <th></th>\n      <th>text</th>\n      <th>has_url</th>\n      <th>comments</th>\n      <th>pics</th>\n      <th>likes</th>\n      <th>time</th>\n      <th>reposts</th>\n      <th>mid</th>\n      <th>user_uid</th>\n      <th>user_verified</th>\n      <th>user_description</th>\n      <th>user_gender</th>\n      <th>user_messages</th>\n      <th>user_followers</th>\n      <th>user_location</th>\n      <th>user_time</th>\n      <th>user_friends</th>\n      <th>user_verified_type</th>\n      <th>user</th>\n    </tr>\n  </thead>\n  <tbody>\n    <tr>\n      <th>0</th>\n      <td>蛔虫美女问世了：现在有一种减肥的方法，不用运动不用节食：吃蛔虫卵。服用蛔虫卵后，蛔虫卵会在人...</td>\n      <td>False</td>\n      <td>930</td>\n      <td>0</td>\n      <td>52</td>\n      <td>1294197312</td>\n      <td>1121</td>\n      <td>2dKrhwqWBVm_1195031270</td>\n      <td>1.195031e+09</td>\n      <td>True</td>\n      <td>True</td>\n      <td>m</td>\n      <td>27674.0</td>\n      <td>6630484.0</td>\n      <td>北京 朝阳区</td>\n      <td>1.251448e+09</td>\n      <td>736.0</td>\n      <td>0.0</td>\n      <td>NaN</td>\n    </tr>\n    <tr>\n      <th>1</th>\n      <td>传说中的麦当劳全国通用无线上网密码，真的吗？</td>\n      <td>False</td>\n      <td>1734</td>\n      <td>1</td>\n      <td>66</td>\n      <td>1297082614</td>\n      <td>9550</td>\n      <td>2dKrzuu3skL_1644395354</td>\n      <td>1.644395e+09</td>\n      <td>False</td>\n      <td>True</td>\n      <td>m</td>\n      <td>95429.0</td>\n      <td>13495595.0</td>\n      <td>广东 广州</td>\n      <td>1.256241e+09</td>\n      <td>826.0</td>\n      <td>-1.0</td>\n      <td>NaN</td>\n    </tr>\n    <tr>\n      <th>2</th>\n      <td>【“顶花”黄瓜或有猫腻，生长剂含避孕药】据青岛新闻网，顶着鲜艳黄花的黄瓜，通常在市场上受欢迎...</td>\n      <td>True</td>\n      <td>304</td>\n      <td>1</td>\n      <td>2285</td>\n      <td>1297757949</td>\n      <td>1082</td>\n      <td>2dKs1KOT8t0_1314608344</td>\n      <td>1.314608e+09</td>\n      <td>True</td>\n      <td>True</td>\n      <td>m</td>\n      <td>56734.0</td>\n      <td>13891482.0</td>\n      <td>上海 闵行区</td>\n      <td>1.251449e+09</td>\n      <td>541.0</td>\n      <td>3.0</td>\n      <td>NaN</td>\n    </tr>\n    <tr>\n      <th>3</th>\n      <td>临沂市委书记奸淫上百幼女.....（燕赵都市网）.  原文出处http://sinaurl....</td>\n      <td>True</td>\n      <td>391</td>\n      <td>1</td>\n      <td>896</td>\n      <td>1292411740</td>\n      <td>753</td>\n      <td>2dKSSoZX2Sd_1300442112</td>\n      <td>1.300442e+09</td>\n      <td>True</td>\n      <td>True</td>\n      <td>m</td>\n      <td>8227.0</td>\n      <td>21246.0</td>\n      <td>江苏 南京</td>\n      <td>1.261308e+09</td>\n      <td>1376.0</td>\n      <td>0.0</td>\n      <td>NaN</td>\n    </tr>\n    <tr>\n      <th>4</th>\n      <td>人们更容易对自己亲近的人发火，而不是他们讨厌的人。所谓亲近的人，就是大部分时间和他们在一起的...</td>\n      <td>False</td>\n      <td>290</td>\n      <td>1</td>\n      <td>20</td>\n      <td>1295580615</td>\n      <td>1654</td>\n      <td>2kiroqdeC1F_1764669250</td>\n      <td>1.764669e+09</td>\n      <td>False</td>\n      <td>True</td>\n      <td>f</td>\n      <td>43316.0</td>\n      <td>1647102.0</td>\n      <td>海外</td>\n      <td>1.277104e+09</td>\n      <td>271.0</td>\n      <td>-1.0</td>\n      <td>NaN</td>\n    </tr>\n    <tr>\n      <th>...</th>\n      <td>...</td>\n      <td>...</td>\n      <td>...</td>\n      <td>...</td>\n      <td>...</td>\n      <td>...</td>\n      <td>...</td>\n      <td>...</td>\n      <td>...</td>\n      <td>...</td>\n      <td>...</td>\n      <td>...</td>\n      <td>...</td>\n      <td>...</td>\n      <td>...</td>\n      <td>...</td>\n      <td>...</td>\n      <td>...</td>\n      <td>...</td>\n    </tr>\n    <tr>\n      <th>1907</th>\n      <td>刚录完节目看到我的评论里大家都在讨论我穿平底鞋！！其实人家穿平底鞋是因为不想比小朋友高太多，...</td>\n      <td>False</td>\n      <td>296</td>\n      <td>1</td>\n      <td>183</td>\n      <td>1369929523</td>\n      <td>47</td>\n      <td>zzabOkjrC_1264341240</td>\n      <td>1.264341e+09</td>\n      <td>True</td>\n      <td>True</td>\n      <td>f</td>\n      <td>3033.0</td>\n      <td>546721.0</td>\n      <td>江苏 南京</td>\n      <td>1.270849e+09</td>\n      <td>824.0</td>\n      <td>0.0</td>\n      <td>NaN</td>\n    </tr>\n    <tr>\n      <th>1908</th>\n      <td>#自然堂全国路演随手拍#自然堂舞林争霸冠军果然是我喜欢的@张傲月 ，一路走来一直都非常支持他...</td>\n      <td>False</td>\n      <td>125</td>\n      <td>1</td>\n      <td>1</td>\n      <td>1370178614</td>\n      <td>728</td>\n      <td>zzBmWlKN0_1725725780</td>\n      <td>1.725726e+09</td>\n      <td>True</td>\n      <td>True</td>\n      <td>f</td>\n      <td>3299.0</td>\n      <td>831629.0</td>\n      <td>北京 东城区</td>\n      <td>1.270517e+09</td>\n      <td>1211.0</td>\n      <td>0.0</td>\n      <td>NaN</td>\n    </tr>\n    <tr>\n      <th>1909</th>\n      <td>#回龙观关注# 赶紧检查一下你家里的牙膏，如果是黑色条赶紧扔掉！买牙膏时注意牙膏管反面底部的...</td>\n      <td>False</td>\n      <td>25</td>\n      <td>1</td>\n      <td>0</td>\n      <td>1370220117</td>\n      <td>103</td>\n      <td>zzFTHcFe1_1628595353</td>\n      <td>1.628595e+09</td>\n      <td>False</td>\n      <td>True</td>\n      <td>m</td>\n      <td>1980.0</td>\n      <td>8491.0</td>\n      <td>北京 昌平区</td>\n      <td>1.251784e+09</td>\n      <td>1228.0</td>\n      <td>-1.0</td>\n      <td>NaN</td>\n    </tr>\n    <tr>\n      <th>1910</th>\n      <td>[这个一定要让大家知道！]： 大家買牙膏請留心,买牙膏时注意牙膏管反面底部的颜色条,今天才知...</td>\n      <td>False</td>\n      <td>39</td>\n      <td>1</td>\n      <td>3</td>\n      <td>1370010811</td>\n      <td>268</td>\n      <td>zzj3JohLU_2683002893</td>\n      <td>2.683003e+09</td>\n      <td>False</td>\n      <td>True</td>\n      <td>f</td>\n      <td>743.0</td>\n      <td>2193.0</td>\n      <td>广东 深圳</td>\n      <td>1.332763e+09</td>\n      <td>135.0</td>\n      <td>-1.0</td>\n      <td>NaN</td>\n    </tr>\n    <tr>\n      <th>1911</th>\n      <td>【KHUNTORIA三周年】2010.6.1——2013.6.1 &lt;那些空气中洒满砂糖的日子...</td>\n      <td>False</td>\n      <td>137</td>\n      <td>1</td>\n      <td>59</td>\n      <td>1370015959</td>\n      <td>643</td>\n      <td>zzjCzqPhB_1875403532</td>\n      <td>1.875404e+09</td>\n      <td>False</td>\n      <td>True</td>\n      <td>f</td>\n      <td>3800.0</td>\n      <td>50379.0</td>\n      <td>其他</td>\n      <td>1.290752e+09</td>\n      <td>62.0</td>\n      <td>-1.0</td>\n      <td>NaN</td>\n    </tr>\n  </tbody>\n</table>\n<p>1912 rows × 19 columns</p>\n</div>"
     },
     "execution_count": 37,
     "metadata": {},
     "output_type": "execute_result"
    }
   ],
   "source": [
    "test_dir = './test/original-microblog'\n",
    "test_data_list = []\n",
    "for data in os.listdir(test_dir):\n",
    "    js = json.load(open(os.path.join(test_dir, data), encoding='utf-8'))\n",
    "    t = pd.json_normalize(js, sep='_')\n",
    "    t['mid'] = data.split('.')[0]\n",
    "    test_data_list.append(t)\n",
    "test_data = pd.concat(test_data_list, axis=0, ignore_index=True)\n",
    "test_data"
   ],
   "metadata": {
    "collapsed": false,
    "ExecuteTime": {
     "end_time": "2023-11-27T14:13:30.689339Z",
     "start_time": "2023-11-27T14:13:28.715410600Z"
    }
   },
   "id": "e8255b771296eb9d"
  },
  {
   "cell_type": "code",
   "execution_count": 38,
   "outputs": [
    {
     "data": {
      "text/plain": "                         mid  \\\n0     2dKrhwqWBVm_1195031270   \n1     2dKrzuu3skL_1644395354   \n2     2dKs1KOT8t0_1314608344   \n3     2dKSSoZX2Sd_1300442112   \n4     2kiroqdeC1F_1764669250   \n...                      ...   \n1907    zzabOkjrC_1264341240   \n1908    zzBmWlKN0_1725725780   \n1909    zzFTHcFe1_1628595353   \n1910    zzj3JohLU_2683002893   \n1911    zzjCzqPhB_1875403532   \n\n                                                   text  \n0     蛔虫美女问世了：现在有一种减肥的方法，不用运动不用节食：吃蛔虫卵。服用蛔虫卵后，蛔虫卵会在人...  \n1                                传说中的麦当劳全国通用无线上网密码，真的吗？  \n2     【“顶花”黄瓜或有猫腻，生长剂含避孕药】据青岛新闻网，顶着鲜艳黄花的黄瓜，通常在市场上受欢迎...  \n3     临沂市委书记奸淫上百幼女.....（燕赵都市网）.  原文出处http://sinaurl....  \n4     人们更容易对自己亲近的人发火，而不是他们讨厌的人。所谓亲近的人，就是大部分时间和他们在一起的...  \n...                                                 ...  \n1907  刚录完节目看到我的评论里大家都在讨论我穿平底鞋！！其实人家穿平底鞋是因为不想比小朋友高太多，...  \n1908  #自然堂全国路演随手拍#自然堂舞林争霸冠军果然是我喜欢的@张傲月 ，一路走来一直都非常支持他...  \n1909  #回龙观关注# 赶紧检查一下你家里的牙膏，如果是黑色条赶紧扔掉！买牙膏时注意牙膏管反面底部的...  \n1910  [这个一定要让大家知道！]： 大家買牙膏請留心,买牙膏时注意牙膏管反面底部的颜色条,今天才知...  \n1911  【KHUNTORIA三周年】2010.6.1——2013.6.1 <那些空气中洒满砂糖的日子...  \n\n[1912 rows x 2 columns]",
      "text/html": "<div>\n<style scoped>\n    .dataframe tbody tr th:only-of-type {\n        vertical-align: middle;\n    }\n\n    .dataframe tbody tr th {\n        vertical-align: top;\n    }\n\n    .dataframe thead th {\n        text-align: right;\n    }\n</style>\n<table border=\"1\" class=\"dataframe\">\n  <thead>\n    <tr style=\"text-align: right;\">\n      <th></th>\n      <th>mid</th>\n      <th>text</th>\n    </tr>\n  </thead>\n  <tbody>\n    <tr>\n      <th>0</th>\n      <td>2dKrhwqWBVm_1195031270</td>\n      <td>蛔虫美女问世了：现在有一种减肥的方法，不用运动不用节食：吃蛔虫卵。服用蛔虫卵后，蛔虫卵会在人...</td>\n    </tr>\n    <tr>\n      <th>1</th>\n      <td>2dKrzuu3skL_1644395354</td>\n      <td>传说中的麦当劳全国通用无线上网密码，真的吗？</td>\n    </tr>\n    <tr>\n      <th>2</th>\n      <td>2dKs1KOT8t0_1314608344</td>\n      <td>【“顶花”黄瓜或有猫腻，生长剂含避孕药】据青岛新闻网，顶着鲜艳黄花的黄瓜，通常在市场上受欢迎...</td>\n    </tr>\n    <tr>\n      <th>3</th>\n      <td>2dKSSoZX2Sd_1300442112</td>\n      <td>临沂市委书记奸淫上百幼女.....（燕赵都市网）.  原文出处http://sinaurl....</td>\n    </tr>\n    <tr>\n      <th>4</th>\n      <td>2kiroqdeC1F_1764669250</td>\n      <td>人们更容易对自己亲近的人发火，而不是他们讨厌的人。所谓亲近的人，就是大部分时间和他们在一起的...</td>\n    </tr>\n    <tr>\n      <th>...</th>\n      <td>...</td>\n      <td>...</td>\n    </tr>\n    <tr>\n      <th>1907</th>\n      <td>zzabOkjrC_1264341240</td>\n      <td>刚录完节目看到我的评论里大家都在讨论我穿平底鞋！！其实人家穿平底鞋是因为不想比小朋友高太多，...</td>\n    </tr>\n    <tr>\n      <th>1908</th>\n      <td>zzBmWlKN0_1725725780</td>\n      <td>#自然堂全国路演随手拍#自然堂舞林争霸冠军果然是我喜欢的@张傲月 ，一路走来一直都非常支持他...</td>\n    </tr>\n    <tr>\n      <th>1909</th>\n      <td>zzFTHcFe1_1628595353</td>\n      <td>#回龙观关注# 赶紧检查一下你家里的牙膏，如果是黑色条赶紧扔掉！买牙膏时注意牙膏管反面底部的...</td>\n    </tr>\n    <tr>\n      <th>1910</th>\n      <td>zzj3JohLU_2683002893</td>\n      <td>[这个一定要让大家知道！]： 大家買牙膏請留心,买牙膏时注意牙膏管反面底部的颜色条,今天才知...</td>\n    </tr>\n    <tr>\n      <th>1911</th>\n      <td>zzjCzqPhB_1875403532</td>\n      <td>【KHUNTORIA三周年】2010.6.1——2013.6.1 &lt;那些空气中洒满砂糖的日子...</td>\n    </tr>\n  </tbody>\n</table>\n<p>1912 rows × 2 columns</p>\n</div>"
     },
     "execution_count": 38,
     "metadata": {},
     "output_type": "execute_result"
    }
   ],
   "source": [
    "test_text = test_data[['mid', 'text']]\n",
    "test_text"
   ],
   "metadata": {
    "collapsed": false,
    "ExecuteTime": {
     "end_time": "2023-11-27T14:13:30.689339Z",
     "start_time": "2023-11-27T14:13:30.666674100Z"
    }
   },
   "id": "197ff240ff5319c2"
  },
  {
   "cell_type": "code",
   "execution_count": 39,
   "outputs": [],
   "source": [
    "with open('submission.csv', 'w', encoding='utf-8') as f:\n",
    "    f.write('id\\tlabel\\n')\n",
    "    for _, row in test_text.iterrows():\n",
    "        row['text'] = wordopt_cn(row['text'])\n",
    "        row['text'] = ' '.join(jieba.cut(row['text']))\n",
    "        row['text'] = remove_stopwords(row['text'])\n",
    "        row['text'] = re.sub('\\\\s+', ' ', row['text'])\n",
    "        if row['text'] == '':\n",
    "            f.write(f\"{row['mid']}\\t0\\n\")\n",
    "        else:\n",
    "            row['text'] = vectorizer.transform([row['text']]).toarray()\n",
    "            f.write(f\"{row['mid']}\\t{ensemble.predict(row['text'])[0]}\\n\")\n"
   ],
   "metadata": {
    "collapsed": false,
    "ExecuteTime": {
     "end_time": "2023-11-27T14:13:36.112984300Z",
     "start_time": "2023-11-27T14:13:30.673215600Z"
    }
   },
   "id": "27b70c9426466dbb"
  },
  {
   "cell_type": "code",
   "execution_count": null,
   "outputs": [],
   "source": [],
   "metadata": {
    "collapsed": false
   },
   "id": "c2e6b3128aed8b70"
  }
 ],
 "metadata": {
  "kernelspec": {
   "display_name": "Python 3",
   "language": "python",
   "name": "python3"
  },
  "language_info": {
   "codemirror_mode": {
    "name": "ipython",
    "version": 2
   },
   "file_extension": ".py",
   "mimetype": "text/x-python",
   "name": "python",
   "nbconvert_exporter": "python",
   "pygments_lexer": "ipython2",
   "version": "2.7.6"
  }
 },
 "nbformat": 4,
 "nbformat_minor": 5
}

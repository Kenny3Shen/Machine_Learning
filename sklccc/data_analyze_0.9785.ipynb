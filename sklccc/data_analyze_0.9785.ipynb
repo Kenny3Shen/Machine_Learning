{
 "metadata": {
  "kernelspec": {
   "display_name": "Python 3",
   "language": "python",
   "name": "python3"
  },
  "language_info": {
   "name": "python",
   "version": "3.10.12",
   "mimetype": "text/x-python",
   "codemirror_mode": {
    "name": "ipython",
    "version": 3
   },
   "pygments_lexer": "ipython3",
   "nbconvert_exporter": "python",
   "file_extension": ".py"
  },
  "kaggle": {
   "accelerator": "none",
   "dataSources": [
    {
     "sourceId": 1334130,
     "sourceType": "datasetVersion",
     "datasetId": 489739
    },
    {
     "sourceId": 7096845,
     "sourceType": "datasetVersion",
     "datasetId": 4090300
    }
   ],
   "dockerImageVersionId": 30587,
   "isInternetEnabled": true,
   "language": "python",
   "sourceType": "notebook",
   "isGpuEnabled": false
  }
 },
 "nbformat_minor": 4,
 "nbformat": 4,
 "cells": [
  {
   "cell_type": "code",
   "source": [
    "import pandas as pd"
   ],
   "metadata": {
    "execution": {
     "iopub.status.busy": "2023-12-01T08:30:49.179735Z",
     "iopub.execute_input": "2023-12-01T08:30:49.180139Z",
     "iopub.status.idle": "2023-12-01T08:30:49.494624Z",
     "shell.execute_reply.started": "2023-12-01T08:30:49.180107Z",
     "shell.execute_reply": "2023-12-01T08:30:49.493748Z"
    },
    "trusted": true,
    "ExecuteTime": {
     "end_time": "2023-12-03T06:31:25.537501200Z",
     "start_time": "2023-12-03T06:31:25.242912500Z"
    }
   },
   "execution_count": 1,
   "outputs": []
  },
  {
   "cell_type": "code",
   "source": [
    "train = pd.read_csv('./train.csv')\n",
    "train = train[3387:]"
   ],
   "metadata": {
    "execution": {
     "iopub.status.busy": "2023-12-01T08:31:05.149695Z",
     "iopub.execute_input": "2023-12-01T08:31:05.150108Z",
     "iopub.status.idle": "2023-12-01T08:31:06.367785Z",
     "shell.execute_reply.started": "2023-12-01T08:31:05.150073Z",
     "shell.execute_reply": "2023-12-01T08:31:06.366782Z"
    },
    "trusted": true,
    "ExecuteTime": {
     "end_time": "2023-12-03T06:31:57.969573500Z",
     "start_time": "2023-12-03T06:31:57.440940700Z"
    }
   },
   "execution_count": 2,
   "outputs": []
  },
  {
   "cell_type": "code",
   "source": [
    "test = pd.read_csv('./test.csv')\n",
    "test"
   ],
   "metadata": {
    "execution": {
     "iopub.status.busy": "2023-12-01T08:31:27.826881Z",
     "iopub.execute_input": "2023-12-01T08:31:27.827976Z",
     "iopub.status.idle": "2023-12-01T08:31:28.399689Z",
     "shell.execute_reply.started": "2023-12-01T08:31:27.827927Z",
     "shell.execute_reply": "2023-12-01T08:31:28.398456Z"
    },
    "trusted": true,
    "ExecuteTime": {
     "end_time": "2023-12-03T06:31:58.684791400Z",
     "start_time": "2023-12-03T06:31:58.519067300Z"
    }
   },
   "execution_count": 3,
   "outputs": [
    {
     "data": {
      "text/plain": "                         mid  \\\n0     2dKrhwqWBVm_1195031270   \n1     2dKrzuu3skL_1644395354   \n2     2dKs1KOT8t0_1314608344   \n3     2dKSSoZX2Sd_1300442112   \n4     2kiroqdeC1F_1764669250   \n...                      ...   \n1907    zzabOkjrC_1264341240   \n1908    zzBmWlKN0_1725725780   \n1909    zzFTHcFe1_1628595353   \n1910    zzj3JohLU_2683002893   \n1911    zzjCzqPhB_1875403532   \n\n                                                   text  \n0     蛔虫 美女 问世 一种 减肥 方法 不用 运动 不用 节食 吃 蛔虫 卵 服用 蛔虫 卵后 ...  \n1     传说 中 麦当劳 全国 通用 无线 上网 密码 真的 真的 假 还 伐 存 次 都 找 不到...  \n2     顶花 黄瓜 猫腻 生长 剂 含 避孕药 青岛 新闻网 顶 鲜艳 黄花 黄瓜 市场 上 受欢迎...  \n3     临沂 市委书记 奸淫 上百 幼女 燕赵 都市网 原文 出处 人渣 无语 怒 抓狂 求证 真的...  \n4     更 亲近 人 发火 讨厌 人 亲近 人 大部分 时间 人 发火 是因为 亲近 人 更 期望 ...  \n...                                                 ...  \n1907  刚录 完 节目 评论 里 都 讨论 穿 平底鞋 穿 平底鞋 是因为 不想 小朋友 高太多 真...  \n1908  自然 堂 全国 路演 随手 拍 自然 堂舞林 争霸 冠军 喜欢 张傲 一路 走来 都 支持 ...  \n1909  回龙观 赶紧 检查一下 家里 牙膏 黑色 条 赶紧 扔掉 买 牙膏 时 牙膏管 反面 底部 ...  \n1910  買 牙膏 請 留心 买 牙膏 时 牙膏管 反面 底部 颜色 条 才 颜色 条有 含义 尽量 ...  \n1911  三周年 空气 中 洒满 砂糖 日子 美好 三周年 里 依然 感恩 遇见 制造 世界 上 最 ...  \n\n[1912 rows x 2 columns]",
      "text/html": "<div>\n<style scoped>\n    .dataframe tbody tr th:only-of-type {\n        vertical-align: middle;\n    }\n\n    .dataframe tbody tr th {\n        vertical-align: top;\n    }\n\n    .dataframe thead th {\n        text-align: right;\n    }\n</style>\n<table border=\"1\" class=\"dataframe\">\n  <thead>\n    <tr style=\"text-align: right;\">\n      <th></th>\n      <th>mid</th>\n      <th>text</th>\n    </tr>\n  </thead>\n  <tbody>\n    <tr>\n      <th>0</th>\n      <td>2dKrhwqWBVm_1195031270</td>\n      <td>蛔虫 美女 问世 一种 减肥 方法 不用 运动 不用 节食 吃 蛔虫 卵 服用 蛔虫 卵后 ...</td>\n    </tr>\n    <tr>\n      <th>1</th>\n      <td>2dKrzuu3skL_1644395354</td>\n      <td>传说 中 麦当劳 全国 通用 无线 上网 密码 真的 真的 假 还 伐 存 次 都 找 不到...</td>\n    </tr>\n    <tr>\n      <th>2</th>\n      <td>2dKs1KOT8t0_1314608344</td>\n      <td>顶花 黄瓜 猫腻 生长 剂 含 避孕药 青岛 新闻网 顶 鲜艳 黄花 黄瓜 市场 上 受欢迎...</td>\n    </tr>\n    <tr>\n      <th>3</th>\n      <td>2dKSSoZX2Sd_1300442112</td>\n      <td>临沂 市委书记 奸淫 上百 幼女 燕赵 都市网 原文 出处 人渣 无语 怒 抓狂 求证 真的...</td>\n    </tr>\n    <tr>\n      <th>4</th>\n      <td>2kiroqdeC1F_1764669250</td>\n      <td>更 亲近 人 发火 讨厌 人 亲近 人 大部分 时间 人 发火 是因为 亲近 人 更 期望 ...</td>\n    </tr>\n    <tr>\n      <th>...</th>\n      <td>...</td>\n      <td>...</td>\n    </tr>\n    <tr>\n      <th>1907</th>\n      <td>zzabOkjrC_1264341240</td>\n      <td>刚录 完 节目 评论 里 都 讨论 穿 平底鞋 穿 平底鞋 是因为 不想 小朋友 高太多 真...</td>\n    </tr>\n    <tr>\n      <th>1908</th>\n      <td>zzBmWlKN0_1725725780</td>\n      <td>自然 堂 全国 路演 随手 拍 自然 堂舞林 争霸 冠军 喜欢 张傲 一路 走来 都 支持 ...</td>\n    </tr>\n    <tr>\n      <th>1909</th>\n      <td>zzFTHcFe1_1628595353</td>\n      <td>回龙观 赶紧 检查一下 家里 牙膏 黑色 条 赶紧 扔掉 买 牙膏 时 牙膏管 反面 底部 ...</td>\n    </tr>\n    <tr>\n      <th>1910</th>\n      <td>zzj3JohLU_2683002893</td>\n      <td>買 牙膏 請 留心 买 牙膏 时 牙膏管 反面 底部 颜色 条 才 颜色 条有 含义 尽量 ...</td>\n    </tr>\n    <tr>\n      <th>1911</th>\n      <td>zzjCzqPhB_1875403532</td>\n      <td>三周年 空气 中 洒满 砂糖 日子 美好 三周年 里 依然 感恩 遇见 制造 世界 上 最 ...</td>\n    </tr>\n  </tbody>\n</table>\n<p>1912 rows × 2 columns</p>\n</div>"
     },
     "execution_count": 3,
     "metadata": {},
     "output_type": "execute_result"
    }
   ]
  },
  {
   "cell_type": "code",
   "source": [
    "from sklearn.feature_extraction.text import TfidfVectorizer\n",
    "\n",
    "df = pd.concat([train['text'], test['text']], axis=0)\n",
    "vectorizer = TfidfVectorizer(tokenizer=str.split)\n",
    "vectorizer = vectorizer.fit(test['text'])\n",
    "X = vectorizer.transform(df)"
   ],
   "metadata": {
    "collapsed": false,
    "execution": {
     "iopub.status.busy": "2023-12-01T08:33:25.523829Z",
     "iopub.execute_input": "2023-12-01T08:33:25.524282Z",
     "iopub.status.idle": "2023-12-01T08:33:37.641855Z",
     "shell.execute_reply.started": "2023-12-01T08:33:25.524249Z",
     "shell.execute_reply": "2023-12-01T08:33:37.640678Z"
    },
    "trusted": true,
    "ExecuteTime": {
     "end_time": "2023-12-03T06:32:08.886430600Z",
     "start_time": "2023-12-03T06:32:05.342737Z"
    }
   },
   "execution_count": 4,
   "outputs": [
    {
     "name": "stderr",
     "output_type": "stream",
     "text": [
      "d:\\anaconda3\\Lib\\site-packages\\sklearn\\feature_extraction\\text.py:528: UserWarning: The parameter 'token_pattern' will not be used since 'tokenizer' is not None'\n",
      "  warnings.warn(\n"
     ]
    }
   ]
  },
  {
   "cell_type": "code",
   "execution_count": 5,
   "outputs": [
    {
     "data": {
      "text/plain": "<6138x228293 sparse matrix of type '<class 'numpy.float64'>'\n\twith 3531232 stored elements in Compressed Sparse Row format>"
     },
     "execution_count": 5,
     "metadata": {},
     "output_type": "execute_result"
    }
   ],
   "source": [
    "X"
   ],
   "metadata": {
    "collapsed": false,
    "ExecuteTime": {
     "end_time": "2023-12-03T06:32:29.392519600Z",
     "start_time": "2023-12-03T06:32:29.387937700Z"
    }
   }
  },
  {
   "cell_type": "code",
   "source": [
    "from sklearn.naive_bayes import MultinomialNB,ComplementNB\n",
    "from sklearn.linear_model import LogisticRegression, SGDClassifier\n",
    "from sklearn.ensemble import VotingClassifier\n",
    "\n",
    "lr = LogisticRegression()\n",
    "clf = ComplementNB(alpha=0.02)\n",
    "sgd_model1 = SGDClassifier(max_iter=8000, tol=5e-4, loss=\"modified_huber\")\n",
    "sgd_model2 = SGDClassifier(max_iter=10000, tol=3e-4, loss=\"modified_huber\", class_weight=\"balanced\")\n",
    "sgd_model3 = SGDClassifier(max_iter=15000, tol=1e-4, loss=\"modified_huber\", early_stopping=True)\n",
    "\n",
    "ensemble = VotingClassifier(\n",
    "    estimators=[('lr', lr), ('cnb', clf), ('sgd1', sgd_model1), ('sgd2', sgd_model2), ('sgd3', sgd_model3)],\n",
    "    weights=[0.20, 0.20, 0.20, 0.20, 0.20],\n",
    "    voting='soft',\n",
    ")\n",
    "ensemble.fit(X[:train.shape[0]], train.is_rumor)"
   ],
   "metadata": {
    "collapsed": false,
    "execution": {
     "iopub.status.busy": "2023-12-01T08:35:07.928598Z",
     "iopub.execute_input": "2023-12-01T08:35:07.929011Z",
     "iopub.status.idle": "2023-12-01T08:35:14.424388Z",
     "shell.execute_reply.started": "2023-12-01T08:35:07.928982Z",
     "shell.execute_reply": "2023-12-01T08:35:14.423144Z"
    },
    "trusted": true,
    "ExecuteTime": {
     "end_time": "2023-12-02T17:32:50.860372500Z",
     "start_time": "2023-12-02T17:32:48.483429800Z"
    }
   },
   "execution_count": 6,
   "outputs": [
    {
     "name": "stderr",
     "output_type": "stream",
     "text": [
      "d:\\anaconda3\\Lib\\site-packages\\sklearn\\utils\\validation.py:605: FutureWarning: is_sparse is deprecated and will be removed in a future version. Check `isinstance(dtype, pd.SparseDtype)` instead.\n",
      "  if is_sparse(pd_dtype):\n",
      "d:\\anaconda3\\Lib\\site-packages\\sklearn\\utils\\validation.py:614: FutureWarning: is_sparse is deprecated and will be removed in a future version. Check `isinstance(dtype, pd.SparseDtype)` instead.\n",
      "  if is_sparse(pd_dtype) or not is_extension_array_dtype(pd_dtype):\n",
      "d:\\anaconda3\\Lib\\site-packages\\sklearn\\utils\\validation.py:605: FutureWarning: is_sparse is deprecated and will be removed in a future version. Check `isinstance(dtype, pd.SparseDtype)` instead.\n",
      "  if is_sparse(pd_dtype):\n",
      "d:\\anaconda3\\Lib\\site-packages\\sklearn\\utils\\validation.py:614: FutureWarning: is_sparse is deprecated and will be removed in a future version. Check `isinstance(dtype, pd.SparseDtype)` instead.\n",
      "  if is_sparse(pd_dtype) or not is_extension_array_dtype(pd_dtype):\n",
      "d:\\anaconda3\\Lib\\site-packages\\sklearn\\utils\\validation.py:605: FutureWarning: is_sparse is deprecated and will be removed in a future version. Check `isinstance(dtype, pd.SparseDtype)` instead.\n",
      "  if is_sparse(pd_dtype):\n",
      "d:\\anaconda3\\Lib\\site-packages\\sklearn\\utils\\validation.py:614: FutureWarning: is_sparse is deprecated and will be removed in a future version. Check `isinstance(dtype, pd.SparseDtype)` instead.\n",
      "  if is_sparse(pd_dtype) or not is_extension_array_dtype(pd_dtype):\n",
      "d:\\anaconda3\\Lib\\site-packages\\sklearn\\utils\\validation.py:605: FutureWarning: is_sparse is deprecated and will be removed in a future version. Check `isinstance(dtype, pd.SparseDtype)` instead.\n",
      "  if is_sparse(pd_dtype):\n",
      "d:\\anaconda3\\Lib\\site-packages\\sklearn\\utils\\validation.py:614: FutureWarning: is_sparse is deprecated and will be removed in a future version. Check `isinstance(dtype, pd.SparseDtype)` instead.\n",
      "  if is_sparse(pd_dtype) or not is_extension_array_dtype(pd_dtype):\n"
     ]
    },
    {
     "data": {
      "text/plain": "VotingClassifier(estimators=[('lr', LogisticRegression()),\n                             ('cnb', ComplementNB(alpha=0.02)),\n                             ('sgd1',\n                              SGDClassifier(loss='modified_huber',\n                                            max_iter=8000, tol=0.0005)),\n                             ('sgd2',\n                              SGDClassifier(class_weight='balanced',\n                                            loss='modified_huber',\n                                            max_iter=10000, tol=0.0003)),\n                             ('sgd3',\n                              SGDClassifier(early_stopping=True,\n                                            loss='modified_huber',\n                                            max_iter=15000, tol=0.0001))],\n                 voting='soft', weights=[0.2, 0.2, 0.2, 0.2, 0.2])",
      "text/html": "<style>#sk-container-id-1 {color: black;background-color: white;}#sk-container-id-1 pre{padding: 0;}#sk-container-id-1 div.sk-toggleable {background-color: white;}#sk-container-id-1 label.sk-toggleable__label {cursor: pointer;display: block;width: 100%;margin-bottom: 0;padding: 0.3em;box-sizing: border-box;text-align: center;}#sk-container-id-1 label.sk-toggleable__label-arrow:before {content: \"▸\";float: left;margin-right: 0.25em;color: #696969;}#sk-container-id-1 label.sk-toggleable__label-arrow:hover:before {color: black;}#sk-container-id-1 div.sk-estimator:hover label.sk-toggleable__label-arrow:before {color: black;}#sk-container-id-1 div.sk-toggleable__content {max-height: 0;max-width: 0;overflow: hidden;text-align: left;background-color: #f0f8ff;}#sk-container-id-1 div.sk-toggleable__content pre {margin: 0.2em;color: black;border-radius: 0.25em;background-color: #f0f8ff;}#sk-container-id-1 input.sk-toggleable__control:checked~div.sk-toggleable__content {max-height: 200px;max-width: 100%;overflow: auto;}#sk-container-id-1 input.sk-toggleable__control:checked~label.sk-toggleable__label-arrow:before {content: \"▾\";}#sk-container-id-1 div.sk-estimator input.sk-toggleable__control:checked~label.sk-toggleable__label {background-color: #d4ebff;}#sk-container-id-1 div.sk-label input.sk-toggleable__control:checked~label.sk-toggleable__label {background-color: #d4ebff;}#sk-container-id-1 input.sk-hidden--visually {border: 0;clip: rect(1px 1px 1px 1px);clip: rect(1px, 1px, 1px, 1px);height: 1px;margin: -1px;overflow: hidden;padding: 0;position: absolute;width: 1px;}#sk-container-id-1 div.sk-estimator {font-family: monospace;background-color: #f0f8ff;border: 1px dotted black;border-radius: 0.25em;box-sizing: border-box;margin-bottom: 0.5em;}#sk-container-id-1 div.sk-estimator:hover {background-color: #d4ebff;}#sk-container-id-1 div.sk-parallel-item::after {content: \"\";width: 100%;border-bottom: 1px solid gray;flex-grow: 1;}#sk-container-id-1 div.sk-label:hover label.sk-toggleable__label {background-color: #d4ebff;}#sk-container-id-1 div.sk-serial::before {content: \"\";position: absolute;border-left: 1px solid gray;box-sizing: border-box;top: 0;bottom: 0;left: 50%;z-index: 0;}#sk-container-id-1 div.sk-serial {display: flex;flex-direction: column;align-items: center;background-color: white;padding-right: 0.2em;padding-left: 0.2em;position: relative;}#sk-container-id-1 div.sk-item {position: relative;z-index: 1;}#sk-container-id-1 div.sk-parallel {display: flex;align-items: stretch;justify-content: center;background-color: white;position: relative;}#sk-container-id-1 div.sk-item::before, #sk-container-id-1 div.sk-parallel-item::before {content: \"\";position: absolute;border-left: 1px solid gray;box-sizing: border-box;top: 0;bottom: 0;left: 50%;z-index: -1;}#sk-container-id-1 div.sk-parallel-item {display: flex;flex-direction: column;z-index: 1;position: relative;background-color: white;}#sk-container-id-1 div.sk-parallel-item:first-child::after {align-self: flex-end;width: 50%;}#sk-container-id-1 div.sk-parallel-item:last-child::after {align-self: flex-start;width: 50%;}#sk-container-id-1 div.sk-parallel-item:only-child::after {width: 0;}#sk-container-id-1 div.sk-dashed-wrapped {border: 1px dashed gray;margin: 0 0.4em 0.5em 0.4em;box-sizing: border-box;padding-bottom: 0.4em;background-color: white;}#sk-container-id-1 div.sk-label label {font-family: monospace;font-weight: bold;display: inline-block;line-height: 1.2em;}#sk-container-id-1 div.sk-label-container {text-align: center;}#sk-container-id-1 div.sk-container {/* jupyter's `normalize.less` sets `[hidden] { display: none; }` but bootstrap.min.css set `[hidden] { display: none !important; }` so we also need the `!important` here to be able to override the default hidden behavior on the sphinx rendered scikit-learn.org. See: https://github.com/scikit-learn/scikit-learn/issues/21755 */display: inline-block !important;position: relative;}#sk-container-id-1 div.sk-text-repr-fallback {display: none;}</style><div id=\"sk-container-id-1\" class=\"sk-top-container\"><div class=\"sk-text-repr-fallback\"><pre>VotingClassifier(estimators=[(&#x27;lr&#x27;, LogisticRegression()),\n                             (&#x27;cnb&#x27;, ComplementNB(alpha=0.02)),\n                             (&#x27;sgd1&#x27;,\n                              SGDClassifier(loss=&#x27;modified_huber&#x27;,\n                                            max_iter=8000, tol=0.0005)),\n                             (&#x27;sgd2&#x27;,\n                              SGDClassifier(class_weight=&#x27;balanced&#x27;,\n                                            loss=&#x27;modified_huber&#x27;,\n                                            max_iter=10000, tol=0.0003)),\n                             (&#x27;sgd3&#x27;,\n                              SGDClassifier(early_stopping=True,\n                                            loss=&#x27;modified_huber&#x27;,\n                                            max_iter=15000, tol=0.0001))],\n                 voting=&#x27;soft&#x27;, weights=[0.2, 0.2, 0.2, 0.2, 0.2])</pre><b>In a Jupyter environment, please rerun this cell to show the HTML representation or trust the notebook. <br />On GitHub, the HTML representation is unable to render, please try loading this page with nbviewer.org.</b></div><div class=\"sk-container\" hidden><div class=\"sk-item sk-dashed-wrapped\"><div class=\"sk-label-container\"><div class=\"sk-label sk-toggleable\"><input class=\"sk-toggleable__control sk-hidden--visually\" id=\"sk-estimator-id-1\" type=\"checkbox\" ><label for=\"sk-estimator-id-1\" class=\"sk-toggleable__label sk-toggleable__label-arrow\">VotingClassifier</label><div class=\"sk-toggleable__content\"><pre>VotingClassifier(estimators=[(&#x27;lr&#x27;, LogisticRegression()),\n                             (&#x27;cnb&#x27;, ComplementNB(alpha=0.02)),\n                             (&#x27;sgd1&#x27;,\n                              SGDClassifier(loss=&#x27;modified_huber&#x27;,\n                                            max_iter=8000, tol=0.0005)),\n                             (&#x27;sgd2&#x27;,\n                              SGDClassifier(class_weight=&#x27;balanced&#x27;,\n                                            loss=&#x27;modified_huber&#x27;,\n                                            max_iter=10000, tol=0.0003)),\n                             (&#x27;sgd3&#x27;,\n                              SGDClassifier(early_stopping=True,\n                                            loss=&#x27;modified_huber&#x27;,\n                                            max_iter=15000, tol=0.0001))],\n                 voting=&#x27;soft&#x27;, weights=[0.2, 0.2, 0.2, 0.2, 0.2])</pre></div></div></div><div class=\"sk-parallel\"><div class=\"sk-parallel-item\"><div class=\"sk-item\"><div class=\"sk-label-container\"><div class=\"sk-label sk-toggleable\"><label>lr</label></div></div><div class=\"sk-serial\"><div class=\"sk-item\"><div class=\"sk-estimator sk-toggleable\"><input class=\"sk-toggleable__control sk-hidden--visually\" id=\"sk-estimator-id-2\" type=\"checkbox\" ><label for=\"sk-estimator-id-2\" class=\"sk-toggleable__label sk-toggleable__label-arrow\">LogisticRegression</label><div class=\"sk-toggleable__content\"><pre>LogisticRegression()</pre></div></div></div></div></div></div><div class=\"sk-parallel-item\"><div class=\"sk-item\"><div class=\"sk-label-container\"><div class=\"sk-label sk-toggleable\"><label>cnb</label></div></div><div class=\"sk-serial\"><div class=\"sk-item\"><div class=\"sk-estimator sk-toggleable\"><input class=\"sk-toggleable__control sk-hidden--visually\" id=\"sk-estimator-id-3\" type=\"checkbox\" ><label for=\"sk-estimator-id-3\" class=\"sk-toggleable__label sk-toggleable__label-arrow\">ComplementNB</label><div class=\"sk-toggleable__content\"><pre>ComplementNB(alpha=0.02)</pre></div></div></div></div></div></div><div class=\"sk-parallel-item\"><div class=\"sk-item\"><div class=\"sk-label-container\"><div class=\"sk-label sk-toggleable\"><label>sgd1</label></div></div><div class=\"sk-serial\"><div class=\"sk-item\"><div class=\"sk-estimator sk-toggleable\"><input class=\"sk-toggleable__control sk-hidden--visually\" id=\"sk-estimator-id-4\" type=\"checkbox\" ><label for=\"sk-estimator-id-4\" class=\"sk-toggleable__label sk-toggleable__label-arrow\">SGDClassifier</label><div class=\"sk-toggleable__content\"><pre>SGDClassifier(loss=&#x27;modified_huber&#x27;, max_iter=8000, tol=0.0005)</pre></div></div></div></div></div></div><div class=\"sk-parallel-item\"><div class=\"sk-item\"><div class=\"sk-label-container\"><div class=\"sk-label sk-toggleable\"><label>sgd2</label></div></div><div class=\"sk-serial\"><div class=\"sk-item\"><div class=\"sk-estimator sk-toggleable\"><input class=\"sk-toggleable__control sk-hidden--visually\" id=\"sk-estimator-id-5\" type=\"checkbox\" ><label for=\"sk-estimator-id-5\" class=\"sk-toggleable__label sk-toggleable__label-arrow\">SGDClassifier</label><div class=\"sk-toggleable__content\"><pre>SGDClassifier(class_weight=&#x27;balanced&#x27;, loss=&#x27;modified_huber&#x27;, max_iter=10000,\n              tol=0.0003)</pre></div></div></div></div></div></div><div class=\"sk-parallel-item\"><div class=\"sk-item\"><div class=\"sk-label-container\"><div class=\"sk-label sk-toggleable\"><label>sgd3</label></div></div><div class=\"sk-serial\"><div class=\"sk-item\"><div class=\"sk-estimator sk-toggleable\"><input class=\"sk-toggleable__control sk-hidden--visually\" id=\"sk-estimator-id-6\" type=\"checkbox\" ><label for=\"sk-estimator-id-6\" class=\"sk-toggleable__label sk-toggleable__label-arrow\">SGDClassifier</label><div class=\"sk-toggleable__content\"><pre>SGDClassifier(early_stopping=True, loss=&#x27;modified_huber&#x27;, max_iter=15000,\n              tol=0.0001)</pre></div></div></div></div></div></div></div></div></div></div>"
     },
     "execution_count": 6,
     "metadata": {},
     "output_type": "execute_result"
    }
   ]
  },
  {
   "cell_type": "code",
   "source": [
    "preds_test = ensemble.predict(X[train.shape[0]:])\n",
    "preds_test"
   ],
   "metadata": {
    "collapsed": false,
    "execution": {
     "iopub.status.busy": "2023-12-01T08:36:35.327931Z",
     "iopub.execute_input": "2023-12-01T08:36:35.328305Z",
     "iopub.status.idle": "2023-12-01T08:36:35.389924Z",
     "shell.execute_reply.started": "2023-12-01T08:36:35.328277Z",
     "shell.execute_reply": "2023-12-01T08:36:35.388982Z"
    },
    "trusted": true,
    "ExecuteTime": {
     "end_time": "2023-12-02T09:12:27.168060600Z",
     "start_time": "2023-12-02T09:12:27.144063400Z"
    }
   },
   "execution_count": 8,
   "outputs": [
    {
     "data": {
      "text/plain": "array([1, 1, 1, ..., 1, 1, 0], dtype=int64)"
     },
     "execution_count": 8,
     "metadata": {},
     "output_type": "execute_result"
    }
   ]
  },
  {
   "cell_type": "code",
   "source": [
    "import joblib\n",
    "joblib.dump(ensemble, 'ensemble_fit_in_test.pkl')"
   ],
   "metadata": {
    "collapsed": false,
    "is_executing": true,
    "execution": {
     "iopub.status.busy": "2023-12-01T08:37:48.973523Z",
     "iopub.execute_input": "2023-12-01T08:37:48.973959Z",
     "iopub.status.idle": "2023-12-01T08:37:49.002193Z",
     "shell.execute_reply.started": "2023-12-01T08:37:48.973884Z",
     "shell.execute_reply": "2023-12-01T08:37:49.001111Z"
    },
    "trusted": true
   },
   "execution_count": 10,
   "outputs": [
    {
     "execution_count": 10,
     "output_type": "execute_result",
     "data": {
      "text/plain": "['ensemble_fit_in_test.pkl']"
     },
     "metadata": {}
    }
   ]
  },
  {
   "cell_type": "code",
   "source": [
    "test[\"is_rumor\"] = preds_test\n",
    "test"
   ],
   "metadata": {
    "collapsed": false,
    "execution": {
     "iopub.status.busy": "2023-12-01T08:38:31.704853Z",
     "iopub.execute_input": "2023-12-01T08:38:31.705251Z",
     "iopub.status.idle": "2023-12-01T08:38:31.722066Z",
     "shell.execute_reply.started": "2023-12-01T08:38:31.705216Z",
     "shell.execute_reply": "2023-12-01T08:38:31.720613Z"
    },
    "trusted": true,
    "ExecuteTime": {
     "end_time": "2023-12-02T09:12:29.660859400Z",
     "start_time": "2023-12-02T09:12:29.648263800Z"
    }
   },
   "execution_count": 9,
   "outputs": [
    {
     "data": {
      "text/plain": "                         mid  \\\n0     2dKrhwqWBVm_1195031270   \n1     2dKrzuu3skL_1644395354   \n2     2dKs1KOT8t0_1314608344   \n3     2dKSSoZX2Sd_1300442112   \n4     2kiroqdeC1F_1764669250   \n...                      ...   \n1907    zzabOkjrC_1264341240   \n1908    zzBmWlKN0_1725725780   \n1909    zzFTHcFe1_1628595353   \n1910    zzj3JohLU_2683002893   \n1911    zzjCzqPhB_1875403532   \n\n                                                   text  is_rumor  \n0     蛔虫 美女 问世 一种 减肥 方法 不用 运动 不用 节食 吃 蛔虫 卵 服用 蛔虫 卵后 ...         1  \n1     传说 中 麦当劳 全国 通用 无线 上网 密码 真的 真的 假 还 伐 存 次 都 找 不到...         1  \n2     顶花 黄瓜 猫腻 生长 剂 含 避孕药 青岛 新闻网 顶 鲜艳 黄花 黄瓜 市场 上 受欢迎...         1  \n3     临沂 市委书记 奸淫 上百 幼女 燕赵 都市网 原文 出处 人渣 无语 怒 抓狂 求证 真的...         1  \n4     更 亲近 人 发火 讨厌 人 亲近 人 大部分 时间 人 发火 是因为 亲近 人 更 期望 ...         0  \n...                                                 ...       ...  \n1907  刚录 完 节目 评论 里 都 讨论 穿 平底鞋 穿 平底鞋 是因为 不想 小朋友 高太多 真...         0  \n1908  自然 堂 全国 路演 随手 拍 自然 堂舞林 争霸 冠军 喜欢 张傲 一路 走来 都 支持 ...         0  \n1909  回龙观 赶紧 检查一下 家里 牙膏 黑色 条 赶紧 扔掉 买 牙膏 时 牙膏管 反面 底部 ...         1  \n1910  買 牙膏 請 留心 买 牙膏 时 牙膏管 反面 底部 颜色 条 才 颜色 条有 含义 尽量 ...         1  \n1911  三周年 空气 中 洒满 砂糖 日子 美好 三周年 里 依然 感恩 遇见 制造 世界 上 最 ...         0  \n\n[1912 rows x 3 columns]",
      "text/html": "<div>\n<style scoped>\n    .dataframe tbody tr th:only-of-type {\n        vertical-align: middle;\n    }\n\n    .dataframe tbody tr th {\n        vertical-align: top;\n    }\n\n    .dataframe thead th {\n        text-align: right;\n    }\n</style>\n<table border=\"1\" class=\"dataframe\">\n  <thead>\n    <tr style=\"text-align: right;\">\n      <th></th>\n      <th>mid</th>\n      <th>text</th>\n      <th>is_rumor</th>\n    </tr>\n  </thead>\n  <tbody>\n    <tr>\n      <th>0</th>\n      <td>2dKrhwqWBVm_1195031270</td>\n      <td>蛔虫 美女 问世 一种 减肥 方法 不用 运动 不用 节食 吃 蛔虫 卵 服用 蛔虫 卵后 ...</td>\n      <td>1</td>\n    </tr>\n    <tr>\n      <th>1</th>\n      <td>2dKrzuu3skL_1644395354</td>\n      <td>传说 中 麦当劳 全国 通用 无线 上网 密码 真的 真的 假 还 伐 存 次 都 找 不到...</td>\n      <td>1</td>\n    </tr>\n    <tr>\n      <th>2</th>\n      <td>2dKs1KOT8t0_1314608344</td>\n      <td>顶花 黄瓜 猫腻 生长 剂 含 避孕药 青岛 新闻网 顶 鲜艳 黄花 黄瓜 市场 上 受欢迎...</td>\n      <td>1</td>\n    </tr>\n    <tr>\n      <th>3</th>\n      <td>2dKSSoZX2Sd_1300442112</td>\n      <td>临沂 市委书记 奸淫 上百 幼女 燕赵 都市网 原文 出处 人渣 无语 怒 抓狂 求证 真的...</td>\n      <td>1</td>\n    </tr>\n    <tr>\n      <th>4</th>\n      <td>2kiroqdeC1F_1764669250</td>\n      <td>更 亲近 人 发火 讨厌 人 亲近 人 大部分 时间 人 发火 是因为 亲近 人 更 期望 ...</td>\n      <td>0</td>\n    </tr>\n    <tr>\n      <th>...</th>\n      <td>...</td>\n      <td>...</td>\n      <td>...</td>\n    </tr>\n    <tr>\n      <th>1907</th>\n      <td>zzabOkjrC_1264341240</td>\n      <td>刚录 完 节目 评论 里 都 讨论 穿 平底鞋 穿 平底鞋 是因为 不想 小朋友 高太多 真...</td>\n      <td>0</td>\n    </tr>\n    <tr>\n      <th>1908</th>\n      <td>zzBmWlKN0_1725725780</td>\n      <td>自然 堂 全国 路演 随手 拍 自然 堂舞林 争霸 冠军 喜欢 张傲 一路 走来 都 支持 ...</td>\n      <td>0</td>\n    </tr>\n    <tr>\n      <th>1909</th>\n      <td>zzFTHcFe1_1628595353</td>\n      <td>回龙观 赶紧 检查一下 家里 牙膏 黑色 条 赶紧 扔掉 买 牙膏 时 牙膏管 反面 底部 ...</td>\n      <td>1</td>\n    </tr>\n    <tr>\n      <th>1910</th>\n      <td>zzj3JohLU_2683002893</td>\n      <td>買 牙膏 請 留心 买 牙膏 时 牙膏管 反面 底部 颜色 条 才 颜色 条有 含义 尽量 ...</td>\n      <td>1</td>\n    </tr>\n    <tr>\n      <th>1911</th>\n      <td>zzjCzqPhB_1875403532</td>\n      <td>三周年 空气 中 洒满 砂糖 日子 美好 三周年 里 依然 感恩 遇见 制造 世界 上 最 ...</td>\n      <td>0</td>\n    </tr>\n  </tbody>\n</table>\n<p>1912 rows × 3 columns</p>\n</div>"
     },
     "execution_count": 9,
     "metadata": {},
     "output_type": "execute_result"
    }
   ]
  },
  {
   "cell_type": "code",
   "source": [
    "with open('submission.csv', 'w', encoding='utf-8') as f:\n",
    "    f.write('id\\tlabel\\n')\n",
    "    for _, row in test.iterrows():\n",
    "        if row['text'] == '':\n",
    "            f.write(f\"{row['mid']}\\t0\\n\")\n",
    "        else:\n",
    "            f.write(f\"{row['mid']}\\t{row['is_rumor']}\\n\")\n"
   ],
   "metadata": {
    "collapsed": false,
    "is_executing": true,
    "execution": {
     "iopub.status.busy": "2023-12-01T08:42:06.182184Z",
     "iopub.execute_input": "2023-12-01T08:42:06.182605Z",
     "iopub.status.idle": "2023-12-01T08:42:06.328512Z",
     "shell.execute_reply.started": "2023-12-01T08:42:06.182570Z",
     "shell.execute_reply": "2023-12-01T08:42:06.326989Z"
    },
    "trusted": true
   },
   "execution_count": 14,
   "outputs": []
  },
  {
   "cell_type": "code",
   "source": [],
   "metadata": {
    "collapsed": false,
    "is_executing": true
   },
   "execution_count": null,
   "outputs": []
  }
 ]
}

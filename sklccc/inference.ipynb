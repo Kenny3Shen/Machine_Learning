{
 "cells": [
  {
   "cell_type": "code",
   "execution_count": 1,
   "id": "initial_id",
   "metadata": {
    "collapsed": true,
    "ExecuteTime": {
     "end_time": "2023-12-19T08:09:25.615176100Z",
     "start_time": "2023-12-19T08:09:24.237148500Z"
    }
   },
   "outputs": [],
   "source": [
    "import joblib\n",
    "import pandas as pd\n",
    "from tokenizers import (\n",
    "    models,\n",
    "    normalizers,\n",
    "    pre_tokenizers,\n",
    "    trainers,\n",
    "    Tokenizer,\n",
    ")\n",
    "\n",
    "from datasets import Dataset\n",
    "from tqdm.auto import tqdm\n",
    "from transformers import PreTrainedTokenizerFast"
   ]
  },
  {
   "cell_type": "code",
   "execution_count": 2,
   "outputs": [],
   "source": [
    "def dummy(text):\n",
    "    return text\n",
    "test=pd.read_csv('test.csv')\n",
    "vectorizer = joblib.load('vectorizer.pkl')\n",
    "model = joblib.load('ensemble_SenPiece_LGBM.pkl')"
   ],
   "metadata": {
    "collapsed": false,
    "ExecuteTime": {
     "end_time": "2023-12-19T08:09:27.544616Z",
     "start_time": "2023-12-19T08:09:25.619633900Z"
    }
   },
   "id": "2dfff10c72362666"
  },
  {
   "cell_type": "code",
   "execution_count": 3,
   "outputs": [
    {
     "data": {
      "text/plain": "  0%|          | 0/1912 [00:00<?, ?it/s]",
      "application/vnd.jupyter.widget-view+json": {
       "version_major": 2,
       "version_minor": 0,
       "model_id": "639c6e15ee77485abd9a4bce255782e6"
      }
     },
     "metadata": {},
     "output_type": "display_data"
    }
   ],
   "source": [
    "LOWERCASE = False\n",
    "VOCAB_SIZE = 228293\n",
    "raw_tokenizer = Tokenizer(models.BPE(unk_token=\"[UNK]\"))\n",
    "raw_tokenizer.normalizer = normalizers.Sequence([normalizers.NFC()] + [normalizers.Lowercase()] if LOWERCASE else [])\n",
    "raw_tokenizer.pre_tokenizer = pre_tokenizers.ByteLevel()\n",
    "special_tokens = [\"[UNK]\", \"[PAD]\", \"[CLS]\", \"[SEP]\", \"[MASK]\"]\n",
    "trainer = trainers.BpeTrainer(vocab_size=VOCAB_SIZE, special_tokens=special_tokens)\n",
    "dataset = Dataset.from_pandas(test[['text']])\n",
    "def train_corp_iter(): \n",
    "    for i in range(0, len(dataset), 1000):\n",
    "        yield dataset[i : i + 1000][\"text\"]\n",
    "raw_tokenizer.train_from_iterator(train_corp_iter(), trainer=trainer)\n",
    "tokenizer = PreTrainedTokenizerFast(\n",
    "    tokenizer_object=raw_tokenizer,\n",
    "    unk_token=\"[UNK]\",\n",
    "    pad_token=\"[PAD]\",\n",
    "    cls_token=\"[CLS]\",\n",
    "    sep_token=\"[SEP]\",\n",
    "    mask_token=\"[MASK]\",\n",
    ")\n",
    "tokenized_texts_test = []\n",
    "\n",
    "for text in tqdm(test['text'].tolist()):\n",
    "    tokenized_texts_test.append(tokenizer.tokenize(text))\n",
    "    \n",
    "tf_test = vectorizer.transform(tokenized_texts_test)"
   ],
   "metadata": {
    "collapsed": false,
    "ExecuteTime": {
     "end_time": "2023-12-19T08:09:38.154520600Z",
     "start_time": "2023-12-19T08:09:27.546614900Z"
    }
   },
   "id": "80530d185e8c729c"
  },
  {
   "cell_type": "code",
   "execution_count": 4,
   "outputs": [],
   "source": [
    "pred = model.predict(tf_test)\n",
    "test['is_rumor'] = pred\n"
   ],
   "metadata": {
    "collapsed": false,
    "ExecuteTime": {
     "end_time": "2023-12-19T08:09:38.279510400Z",
     "start_time": "2023-12-19T08:09:38.156673200Z"
    }
   },
   "id": "fb689736615bfb10"
  },
  {
   "cell_type": "code",
   "execution_count": 5,
   "outputs": [],
   "source": [
    "with open('submission.csv', 'w', encoding='utf-8') as f:\n",
    "    f.write('id\\tlabel\\n')\n",
    "    for _, row in test.iterrows():\n",
    "        if row['text'] == '':\n",
    "            f.write(f\"{row['mid']}\\t0\\n\")\n",
    "        else:\n",
    "            f.write(f\"{row['mid']}\\t{row['is_rumor']}\\n\")"
   ],
   "metadata": {
    "collapsed": false,
    "ExecuteTime": {
     "end_time": "2023-12-19T08:09:38.336652400Z",
     "start_time": "2023-12-19T08:09:38.281510400Z"
    }
   },
   "id": "3bae231bdfd6fe71"
  },
  {
   "cell_type": "code",
   "execution_count": 6,
   "outputs": [
    {
     "data": {
      "text/plain": "                         mid  \\\n0     2dKrhwqWBVm_1195031270   \n1     2dKrzuu3skL_1644395354   \n2     2dKs1KOT8t0_1314608344   \n3     2dKSSoZX2Sd_1300442112   \n4     2kiroqdeC1F_1764669250   \n...                      ...   \n1907    zzabOkjrC_1264341240   \n1908    zzBmWlKN0_1725725780   \n1909    zzFTHcFe1_1628595353   \n1910    zzj3JohLU_2683002893   \n1911    zzjCzqPhB_1875403532   \n\n                                                   text  is_rumor  \n0     蛔虫 美女 问世 一种 减肥 方法 不用 运动 不用 节食 吃 蛔虫 卵 服用 蛔虫 卵后 ...         1  \n1     传说 中 麦当劳 全国 通用 无线 上网 密码 真的 真的 假 还 伐 存 次 都 找 不到...         1  \n2     顶花 黄瓜 猫腻 生长 剂 含 避孕药 青岛 新闻网 顶 鲜艳 黄花 黄瓜 市场 上 受欢迎...         1  \n3     临沂 市委书记 奸淫 上百 幼女 燕赵 都市网 原文 出处 人渣 无语 怒 抓狂 求证 真的...         1  \n4     更 亲近 人 发火 讨厌 人 亲近 人 大部分 时间 人 发火 是因为 亲近 人 更 期望 ...         0  \n...                                                 ...       ...  \n1907  刚录 完 节目 评论 里 都 讨论 穿 平底鞋 穿 平底鞋 是因为 不想 小朋友 高太多 真...         0  \n1908  自然 堂 全国 路演 随手 拍 自然 堂舞林 争霸 冠军 喜欢 张傲 一路 走来 都 支持 ...         0  \n1909  回龙观 赶紧 检查一下 家里 牙膏 黑色 条 赶紧 扔掉 买 牙膏 时 牙膏管 反面 底部 ...         1  \n1910  買 牙膏 請 留心 买 牙膏 时 牙膏管 反面 底部 颜色 条 才 颜色 条有 含义 尽量 ...         1  \n1911  三周年 空气 中 洒满 砂糖 日子 美好 三周年 里 依然 感恩 遇见 制造 世界 上 最 ...         0  \n\n[1912 rows x 3 columns]",
      "text/html": "<div>\n<style scoped>\n    .dataframe tbody tr th:only-of-type {\n        vertical-align: middle;\n    }\n\n    .dataframe tbody tr th {\n        vertical-align: top;\n    }\n\n    .dataframe thead th {\n        text-align: right;\n    }\n</style>\n<table border=\"1\" class=\"dataframe\">\n  <thead>\n    <tr style=\"text-align: right;\">\n      <th></th>\n      <th>mid</th>\n      <th>text</th>\n      <th>is_rumor</th>\n    </tr>\n  </thead>\n  <tbody>\n    <tr>\n      <th>0</th>\n      <td>2dKrhwqWBVm_1195031270</td>\n      <td>蛔虫 美女 问世 一种 减肥 方法 不用 运动 不用 节食 吃 蛔虫 卵 服用 蛔虫 卵后 ...</td>\n      <td>1</td>\n    </tr>\n    <tr>\n      <th>1</th>\n      <td>2dKrzuu3skL_1644395354</td>\n      <td>传说 中 麦当劳 全国 通用 无线 上网 密码 真的 真的 假 还 伐 存 次 都 找 不到...</td>\n      <td>1</td>\n    </tr>\n    <tr>\n      <th>2</th>\n      <td>2dKs1KOT8t0_1314608344</td>\n      <td>顶花 黄瓜 猫腻 生长 剂 含 避孕药 青岛 新闻网 顶 鲜艳 黄花 黄瓜 市场 上 受欢迎...</td>\n      <td>1</td>\n    </tr>\n    <tr>\n      <th>3</th>\n      <td>2dKSSoZX2Sd_1300442112</td>\n      <td>临沂 市委书记 奸淫 上百 幼女 燕赵 都市网 原文 出处 人渣 无语 怒 抓狂 求证 真的...</td>\n      <td>1</td>\n    </tr>\n    <tr>\n      <th>4</th>\n      <td>2kiroqdeC1F_1764669250</td>\n      <td>更 亲近 人 发火 讨厌 人 亲近 人 大部分 时间 人 发火 是因为 亲近 人 更 期望 ...</td>\n      <td>0</td>\n    </tr>\n    <tr>\n      <th>...</th>\n      <td>...</td>\n      <td>...</td>\n      <td>...</td>\n    </tr>\n    <tr>\n      <th>1907</th>\n      <td>zzabOkjrC_1264341240</td>\n      <td>刚录 完 节目 评论 里 都 讨论 穿 平底鞋 穿 平底鞋 是因为 不想 小朋友 高太多 真...</td>\n      <td>0</td>\n    </tr>\n    <tr>\n      <th>1908</th>\n      <td>zzBmWlKN0_1725725780</td>\n      <td>自然 堂 全国 路演 随手 拍 自然 堂舞林 争霸 冠军 喜欢 张傲 一路 走来 都 支持 ...</td>\n      <td>0</td>\n    </tr>\n    <tr>\n      <th>1909</th>\n      <td>zzFTHcFe1_1628595353</td>\n      <td>回龙观 赶紧 检查一下 家里 牙膏 黑色 条 赶紧 扔掉 买 牙膏 时 牙膏管 反面 底部 ...</td>\n      <td>1</td>\n    </tr>\n    <tr>\n      <th>1910</th>\n      <td>zzj3JohLU_2683002893</td>\n      <td>買 牙膏 請 留心 买 牙膏 时 牙膏管 反面 底部 颜色 条 才 颜色 条有 含义 尽量 ...</td>\n      <td>1</td>\n    </tr>\n    <tr>\n      <th>1911</th>\n      <td>zzjCzqPhB_1875403532</td>\n      <td>三周年 空气 中 洒满 砂糖 日子 美好 三周年 里 依然 感恩 遇见 制造 世界 上 最 ...</td>\n      <td>0</td>\n    </tr>\n  </tbody>\n</table>\n<p>1912 rows × 3 columns</p>\n</div>"
     },
     "execution_count": 6,
     "metadata": {},
     "output_type": "execute_result"
    }
   ],
   "source": [
    "test"
   ],
   "metadata": {
    "collapsed": false,
    "ExecuteTime": {
     "end_time": "2023-12-19T08:09:54.430424700Z",
     "start_time": "2023-12-19T08:09:54.410841700Z"
    }
   },
   "id": "f8f5aeaed68f34ec"
  },
  {
   "cell_type": "code",
   "execution_count": null,
   "outputs": [],
   "source": [],
   "metadata": {
    "collapsed": false
   },
   "id": "d131cf3b9984d006"
  }
 ],
 "metadata": {
  "kernelspec": {
   "display_name": "Python 3",
   "language": "python",
   "name": "python3"
  },
  "language_info": {
   "codemirror_mode": {
    "name": "ipython",
    "version": 2
   },
   "file_extension": ".py",
   "mimetype": "text/x-python",
   "name": "python",
   "nbconvert_exporter": "python",
   "pygments_lexer": "ipython2",
   "version": "2.7.6"
  }
 },
 "nbformat": 4,
 "nbformat_minor": 5
}

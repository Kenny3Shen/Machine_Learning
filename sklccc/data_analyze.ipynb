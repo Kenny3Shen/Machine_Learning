{
 "cells": [
  {
   "cell_type": "code",
   "execution_count": 1,
   "id": "initial_id",
   "metadata": {
    "collapsed": true,
    "ExecuteTime": {
     "end_time": "2023-11-27T12:27:55.329344800Z",
     "start_time": "2023-11-27T12:27:54.928612900Z"
    }
   },
   "outputs": [],
   "source": [
    "import pandas as pd\n",
    "import json\n",
    "import os"
   ]
  },
  {
   "cell_type": "code",
   "execution_count": 2,
   "outputs": [
    {
     "data": {
      "text/plain": "                                                   text  has_url  comments  \\\n0     【为了孩子，请拒吃转基因食品！】印度某地的羊吃了棉花收获后的草杆后，四分之一的羊死了，约5到...    False       306   \n1     【中国缺少这样的少年英雄。应进中学语文课本】因拆迁款等问题与家人上访的16岁少年赵明阳将一名...    False       215   \n2     期待这一天的到来#元畅依晨#隐婚三年终于曝光。。。。。哈哈哈哈哈哈元畅依晨你们神马都不用说、...    False       795   \n3                                          懂得沙士比亞的計程車司機    False       185   \n4     【视频：陈佩斯主持《焦点访谈》】其实我们不知道，早期的《焦点访谈》曾经是由陈佩斯主持的，一开...     True       287   \n...                                                 ...      ...       ...   \n4221  【四川绵阳市越狱46人 45男 1女 大多为90后 男性大多为强奸犯 女为杀人犯 南山下面一...     True       133   \n4222  【“呵呵”——最恶心的聊天词汇，你中枪了么？】有人说，所有词语里最恶心的、最伤人的莫过于“呵...    False       169   \n4223  年轻时无论如何要确立一个目标。一克服懒惰消极靠目标。没目标就瞎混，一天到晚打牌玩游戏睡懒觉。...    False       108   \n4224  牙膏底部的短线，绿色天然的。蓝色天然加药物，红色药物家化学，黑色纯化学。童鞋们~今后购买要记...    False         7   \n4225  #每日一帖#[生活百科][生活常识]牙膏底部的短线，绿色天然的。蓝色天然加药物，红色药物加化...    False        15   \n\n      pics  likes        time  reposts          mid      user_uid  \\\n0        1      1  1301754691      606   1U6k8lMp1y  1.155516e+09   \n1        0      0  1295670050      555  2dKrkwjMIHC  1.173360e+09   \n2        1      9  1296217427     4104  2dKrm0nZnZH  1.765139e+09   \n3        1     46  1297572047     1189  2dKs0ywFoob  1.750361e+09   \n4        0     69  1299158904      957  2dKsGplwDPR  1.640601e+09   \n...    ...    ...         ...      ...          ...           ...   \n4221     1      4  1370274687      346    zzLQSkl9W  1.779126e+09   \n4222     1     15  1370274907      334    zzLSl4IL0  1.720963e+09   \n4223     0     65  1370049881      635    zznk2uq5w  1.194869e+09   \n4224     1      1  1370346065      108    zzTDJu6C4  2.094248e+09   \n4225     1      9  1370347921      144    zzTQhvlSt  2.395440e+09   \n\n     user_verified user_description user_gender  user_messages  \\\n0            False             True           m         7055.0   \n1             True             True           m        18854.0   \n2            False             True           f         1741.0   \n3            False             True           m          444.0   \n4             True             True           m        62318.0   \n...            ...              ...         ...            ...   \n4221         False             True           f         1046.0   \n4222          True             True           m        86209.0   \n4223          True             True           m         7282.0   \n4224          True             True           f        16031.0   \n4225          True             True           m          782.0   \n\n      user_followers user_location     user_time  user_friends  \\\n0            28319.0            上海  1.271574e+09        1985.0   \n1           191425.0         海外 美国  1.251449e+09         658.0   \n2             4660.0         江苏 徐州  1.277876e+09         264.0   \n3             1478.0            香港  1.275556e+09         129.0   \n4          7305697.0        北京 海淀区  1.251449e+09        2002.0   \n...              ...           ...           ...           ...   \n4221          1625.0         四川 成都  1.279531e+09         570.0   \n4222       7049685.0         湖北 武汉  1.269820e+09         978.0   \n4223       8239965.0        北京 海淀区  1.251448e+09         785.0   \n4224         55139.0       黑龙江 哈尔滨  1.303181e+09        1823.0   \n4225        149966.0            湖北  1.317643e+09         390.0   \n\n      user_verified_type user  \n0                   -1.0  NaN  \n1                    0.0  NaN  \n2                   -1.0  NaN  \n3                   -1.0  NaN  \n4                    3.0  NaN  \n...                  ...  ...  \n4221               220.0  NaN  \n4222                 3.0  NaN  \n4223                 0.0  NaN  \n4224                 3.0  NaN  \n4225                 0.0  NaN  \n\n[4226 rows x 19 columns]",
      "text/html": "<div>\n<style scoped>\n    .dataframe tbody tr th:only-of-type {\n        vertical-align: middle;\n    }\n\n    .dataframe tbody tr th {\n        vertical-align: top;\n    }\n\n    .dataframe thead th {\n        text-align: right;\n    }\n</style>\n<table border=\"1\" class=\"dataframe\">\n  <thead>\n    <tr style=\"text-align: right;\">\n      <th></th>\n      <th>text</th>\n      <th>has_url</th>\n      <th>comments</th>\n      <th>pics</th>\n      <th>likes</th>\n      <th>time</th>\n      <th>reposts</th>\n      <th>mid</th>\n      <th>user_uid</th>\n      <th>user_verified</th>\n      <th>user_description</th>\n      <th>user_gender</th>\n      <th>user_messages</th>\n      <th>user_followers</th>\n      <th>user_location</th>\n      <th>user_time</th>\n      <th>user_friends</th>\n      <th>user_verified_type</th>\n      <th>user</th>\n    </tr>\n  </thead>\n  <tbody>\n    <tr>\n      <th>0</th>\n      <td>【为了孩子，请拒吃转基因食品！】印度某地的羊吃了棉花收获后的草杆后，四分之一的羊死了，约5到...</td>\n      <td>False</td>\n      <td>306</td>\n      <td>1</td>\n      <td>1</td>\n      <td>1301754691</td>\n      <td>606</td>\n      <td>1U6k8lMp1y</td>\n      <td>1.155516e+09</td>\n      <td>False</td>\n      <td>True</td>\n      <td>m</td>\n      <td>7055.0</td>\n      <td>28319.0</td>\n      <td>上海</td>\n      <td>1.271574e+09</td>\n      <td>1985.0</td>\n      <td>-1.0</td>\n      <td>NaN</td>\n    </tr>\n    <tr>\n      <th>1</th>\n      <td>【中国缺少这样的少年英雄。应进中学语文课本】因拆迁款等问题与家人上访的16岁少年赵明阳将一名...</td>\n      <td>False</td>\n      <td>215</td>\n      <td>0</td>\n      <td>0</td>\n      <td>1295670050</td>\n      <td>555</td>\n      <td>2dKrkwjMIHC</td>\n      <td>1.173360e+09</td>\n      <td>True</td>\n      <td>True</td>\n      <td>m</td>\n      <td>18854.0</td>\n      <td>191425.0</td>\n      <td>海外 美国</td>\n      <td>1.251449e+09</td>\n      <td>658.0</td>\n      <td>0.0</td>\n      <td>NaN</td>\n    </tr>\n    <tr>\n      <th>2</th>\n      <td>期待这一天的到来#元畅依晨#隐婚三年终于曝光。。。。。哈哈哈哈哈哈元畅依晨你们神马都不用说、...</td>\n      <td>False</td>\n      <td>795</td>\n      <td>1</td>\n      <td>9</td>\n      <td>1296217427</td>\n      <td>4104</td>\n      <td>2dKrm0nZnZH</td>\n      <td>1.765139e+09</td>\n      <td>False</td>\n      <td>True</td>\n      <td>f</td>\n      <td>1741.0</td>\n      <td>4660.0</td>\n      <td>江苏 徐州</td>\n      <td>1.277876e+09</td>\n      <td>264.0</td>\n      <td>-1.0</td>\n      <td>NaN</td>\n    </tr>\n    <tr>\n      <th>3</th>\n      <td>懂得沙士比亞的計程車司機</td>\n      <td>False</td>\n      <td>185</td>\n      <td>1</td>\n      <td>46</td>\n      <td>1297572047</td>\n      <td>1189</td>\n      <td>2dKs0ywFoob</td>\n      <td>1.750361e+09</td>\n      <td>False</td>\n      <td>True</td>\n      <td>m</td>\n      <td>444.0</td>\n      <td>1478.0</td>\n      <td>香港</td>\n      <td>1.275556e+09</td>\n      <td>129.0</td>\n      <td>-1.0</td>\n      <td>NaN</td>\n    </tr>\n    <tr>\n      <th>4</th>\n      <td>【视频：陈佩斯主持《焦点访谈》】其实我们不知道，早期的《焦点访谈》曾经是由陈佩斯主持的，一开...</td>\n      <td>True</td>\n      <td>287</td>\n      <td>0</td>\n      <td>69</td>\n      <td>1299158904</td>\n      <td>957</td>\n      <td>2dKsGplwDPR</td>\n      <td>1.640601e+09</td>\n      <td>True</td>\n      <td>True</td>\n      <td>m</td>\n      <td>62318.0</td>\n      <td>7305697.0</td>\n      <td>北京 海淀区</td>\n      <td>1.251449e+09</td>\n      <td>2002.0</td>\n      <td>3.0</td>\n      <td>NaN</td>\n    </tr>\n    <tr>\n      <th>...</th>\n      <td>...</td>\n      <td>...</td>\n      <td>...</td>\n      <td>...</td>\n      <td>...</td>\n      <td>...</td>\n      <td>...</td>\n      <td>...</td>\n      <td>...</td>\n      <td>...</td>\n      <td>...</td>\n      <td>...</td>\n      <td>...</td>\n      <td>...</td>\n      <td>...</td>\n      <td>...</td>\n      <td>...</td>\n      <td>...</td>\n      <td>...</td>\n    </tr>\n    <tr>\n      <th>4221</th>\n      <td>【四川绵阳市越狱46人 45男 1女 大多为90后 男性大多为强奸犯 女为杀人犯 南山下面一...</td>\n      <td>True</td>\n      <td>133</td>\n      <td>1</td>\n      <td>4</td>\n      <td>1370274687</td>\n      <td>346</td>\n      <td>zzLQSkl9W</td>\n      <td>1.779126e+09</td>\n      <td>False</td>\n      <td>True</td>\n      <td>f</td>\n      <td>1046.0</td>\n      <td>1625.0</td>\n      <td>四川 成都</td>\n      <td>1.279531e+09</td>\n      <td>570.0</td>\n      <td>220.0</td>\n      <td>NaN</td>\n    </tr>\n    <tr>\n      <th>4222</th>\n      <td>【“呵呵”——最恶心的聊天词汇，你中枪了么？】有人说，所有词语里最恶心的、最伤人的莫过于“呵...</td>\n      <td>False</td>\n      <td>169</td>\n      <td>1</td>\n      <td>15</td>\n      <td>1370274907</td>\n      <td>334</td>\n      <td>zzLSl4IL0</td>\n      <td>1.720963e+09</td>\n      <td>True</td>\n      <td>True</td>\n      <td>m</td>\n      <td>86209.0</td>\n      <td>7049685.0</td>\n      <td>湖北 武汉</td>\n      <td>1.269820e+09</td>\n      <td>978.0</td>\n      <td>3.0</td>\n      <td>NaN</td>\n    </tr>\n    <tr>\n      <th>4223</th>\n      <td>年轻时无论如何要确立一个目标。一克服懒惰消极靠目标。没目标就瞎混，一天到晚打牌玩游戏睡懒觉。...</td>\n      <td>False</td>\n      <td>108</td>\n      <td>0</td>\n      <td>65</td>\n      <td>1370049881</td>\n      <td>635</td>\n      <td>zznk2uq5w</td>\n      <td>1.194869e+09</td>\n      <td>True</td>\n      <td>True</td>\n      <td>m</td>\n      <td>7282.0</td>\n      <td>8239965.0</td>\n      <td>北京 海淀区</td>\n      <td>1.251448e+09</td>\n      <td>785.0</td>\n      <td>0.0</td>\n      <td>NaN</td>\n    </tr>\n    <tr>\n      <th>4224</th>\n      <td>牙膏底部的短线，绿色天然的。蓝色天然加药物，红色药物家化学，黑色纯化学。童鞋们~今后购买要记...</td>\n      <td>False</td>\n      <td>7</td>\n      <td>1</td>\n      <td>1</td>\n      <td>1370346065</td>\n      <td>108</td>\n      <td>zzTDJu6C4</td>\n      <td>2.094248e+09</td>\n      <td>True</td>\n      <td>True</td>\n      <td>f</td>\n      <td>16031.0</td>\n      <td>55139.0</td>\n      <td>黑龙江 哈尔滨</td>\n      <td>1.303181e+09</td>\n      <td>1823.0</td>\n      <td>3.0</td>\n      <td>NaN</td>\n    </tr>\n    <tr>\n      <th>4225</th>\n      <td>#每日一帖#[生活百科][生活常识]牙膏底部的短线，绿色天然的。蓝色天然加药物，红色药物加化...</td>\n      <td>False</td>\n      <td>15</td>\n      <td>1</td>\n      <td>9</td>\n      <td>1370347921</td>\n      <td>144</td>\n      <td>zzTQhvlSt</td>\n      <td>2.395440e+09</td>\n      <td>True</td>\n      <td>True</td>\n      <td>m</td>\n      <td>782.0</td>\n      <td>149966.0</td>\n      <td>湖北</td>\n      <td>1.317643e+09</td>\n      <td>390.0</td>\n      <td>0.0</td>\n      <td>NaN</td>\n    </tr>\n  </tbody>\n</table>\n<p>4226 rows × 19 columns</p>\n</div>"
     },
     "execution_count": 2,
     "metadata": {},
     "output_type": "execute_result"
    }
   ],
   "source": [
    "dataset_dir = './train/original-microblog/'\n",
    "data_list = []\n",
    "for data in os.listdir(dataset_dir):\n",
    "    js = json.load(open(os.path.join(dataset_dir, data), encoding='utf-8'))\n",
    "    t = pd.json_normalize(js, sep='_')\n",
    "    data_list.append(t)\n",
    "df = pd.concat(data_list, axis=0, ignore_index=True)\n",
    "df"
   ],
   "metadata": {
    "collapsed": false,
    "ExecuteTime": {
     "end_time": "2023-11-27T12:28:01.135375500Z",
     "start_time": "2023-11-27T12:27:56.647239500Z"
    }
   },
   "id": "262d5bc91aa1f580"
  },
  {
   "cell_type": "code",
   "execution_count": 3,
   "outputs": [
    {
     "data": {
      "text/plain": "                                                   text  has_url  comments  \\\n0     【为了孩子，请拒吃转基因食品！】印度某地的羊吃了棉花收获后的草杆后，四分之一的羊死了，约5到...    False       306   \n1     【中国缺少这样的少年英雄。应进中学语文课本】因拆迁款等问题与家人上访的16岁少年赵明阳将一名...    False       215   \n2     期待这一天的到来#元畅依晨#隐婚三年终于曝光。。。。。哈哈哈哈哈哈元畅依晨你们神马都不用说、...    False       795   \n3                                          懂得沙士比亞的計程車司機    False       185   \n4     【视频：陈佩斯主持《焦点访谈》】其实我们不知道，早期的《焦点访谈》曾经是由陈佩斯主持的，一开...     True       287   \n...                                                 ...      ...       ...   \n4221  【四川绵阳市越狱46人 45男 1女 大多为90后 男性大多为强奸犯 女为杀人犯 南山下面一...     True       133   \n4222  【“呵呵”——最恶心的聊天词汇，你中枪了么？】有人说，所有词语里最恶心的、最伤人的莫过于“呵...    False       169   \n4223  年轻时无论如何要确立一个目标。一克服懒惰消极靠目标。没目标就瞎混，一天到晚打牌玩游戏睡懒觉。...    False       108   \n4224  牙膏底部的短线，绿色天然的。蓝色天然加药物，红色药物家化学，黑色纯化学。童鞋们~今后购买要记...    False         7   \n4225  #每日一帖#[生活百科][生活常识]牙膏底部的短线，绿色天然的。蓝色天然加药物，红色药物加化...    False        15   \n\n      pics  likes        time  reposts          mid      user_uid  \\\n0        1      1  1301754691      606   1U6k8lMp1y  1.155516e+09   \n1        0      0  1295670050      555  2dKrkwjMIHC  1.173360e+09   \n2        1      9  1296217427     4104  2dKrm0nZnZH  1.765139e+09   \n3        1     46  1297572047     1189  2dKs0ywFoob  1.750361e+09   \n4        0     69  1299158904      957  2dKsGplwDPR  1.640601e+09   \n...    ...    ...         ...      ...          ...           ...   \n4221     1      4  1370274687      346    zzLQSkl9W  1.779126e+09   \n4222     1     15  1370274907      334    zzLSl4IL0  1.720963e+09   \n4223     0     65  1370049881      635    zznk2uq5w  1.194869e+09   \n4224     1      1  1370346065      108    zzTDJu6C4  2.094248e+09   \n4225     1      9  1370347921      144    zzTQhvlSt  2.395440e+09   \n\n     user_verified user_description user_gender  user_messages  \\\n0            False             True           m         7055.0   \n1             True             True           m        18854.0   \n2            False             True           f         1741.0   \n3            False             True           m          444.0   \n4             True             True           m        62318.0   \n...            ...              ...         ...            ...   \n4221         False             True           f         1046.0   \n4222          True             True           m        86209.0   \n4223          True             True           m         7282.0   \n4224          True             True           f        16031.0   \n4225          True             True           m          782.0   \n\n      user_followers user_location     user_time  user_friends  \\\n0            28319.0            上海  1.271574e+09        1985.0   \n1           191425.0         海外 美国  1.251449e+09         658.0   \n2             4660.0         江苏 徐州  1.277876e+09         264.0   \n3             1478.0            香港  1.275556e+09         129.0   \n4          7305697.0        北京 海淀区  1.251449e+09        2002.0   \n...              ...           ...           ...           ...   \n4221          1625.0         四川 成都  1.279531e+09         570.0   \n4222       7049685.0         湖北 武汉  1.269820e+09         978.0   \n4223       8239965.0        北京 海淀区  1.251448e+09         785.0   \n4224         55139.0       黑龙江 哈尔滨  1.303181e+09        1823.0   \n4225        149966.0            湖北  1.317643e+09         390.0   \n\n      user_verified_type user  is_rumor  \n0                   -1.0  NaN       1.0  \n1                    0.0  NaN       0.0  \n2                   -1.0  NaN       1.0  \n3                   -1.0  NaN       0.0  \n4                    3.0  NaN       1.0  \n...                  ...  ...       ...  \n4221               220.0  NaN       1.0  \n4222                 3.0  NaN       0.0  \n4223                 0.0  NaN       0.0  \n4224                 3.0  NaN       1.0  \n4225                 0.0  NaN       1.0  \n\n[4226 rows x 20 columns]",
      "text/html": "<div>\n<style scoped>\n    .dataframe tbody tr th:only-of-type {\n        vertical-align: middle;\n    }\n\n    .dataframe tbody tr th {\n        vertical-align: top;\n    }\n\n    .dataframe thead th {\n        text-align: right;\n    }\n</style>\n<table border=\"1\" class=\"dataframe\">\n  <thead>\n    <tr style=\"text-align: right;\">\n      <th></th>\n      <th>text</th>\n      <th>has_url</th>\n      <th>comments</th>\n      <th>pics</th>\n      <th>likes</th>\n      <th>time</th>\n      <th>reposts</th>\n      <th>mid</th>\n      <th>user_uid</th>\n      <th>user_verified</th>\n      <th>user_description</th>\n      <th>user_gender</th>\n      <th>user_messages</th>\n      <th>user_followers</th>\n      <th>user_location</th>\n      <th>user_time</th>\n      <th>user_friends</th>\n      <th>user_verified_type</th>\n      <th>user</th>\n      <th>is_rumor</th>\n    </tr>\n  </thead>\n  <tbody>\n    <tr>\n      <th>0</th>\n      <td>【为了孩子，请拒吃转基因食品！】印度某地的羊吃了棉花收获后的草杆后，四分之一的羊死了，约5到...</td>\n      <td>False</td>\n      <td>306</td>\n      <td>1</td>\n      <td>1</td>\n      <td>1301754691</td>\n      <td>606</td>\n      <td>1U6k8lMp1y</td>\n      <td>1.155516e+09</td>\n      <td>False</td>\n      <td>True</td>\n      <td>m</td>\n      <td>7055.0</td>\n      <td>28319.0</td>\n      <td>上海</td>\n      <td>1.271574e+09</td>\n      <td>1985.0</td>\n      <td>-1.0</td>\n      <td>NaN</td>\n      <td>1.0</td>\n    </tr>\n    <tr>\n      <th>1</th>\n      <td>【中国缺少这样的少年英雄。应进中学语文课本】因拆迁款等问题与家人上访的16岁少年赵明阳将一名...</td>\n      <td>False</td>\n      <td>215</td>\n      <td>0</td>\n      <td>0</td>\n      <td>1295670050</td>\n      <td>555</td>\n      <td>2dKrkwjMIHC</td>\n      <td>1.173360e+09</td>\n      <td>True</td>\n      <td>True</td>\n      <td>m</td>\n      <td>18854.0</td>\n      <td>191425.0</td>\n      <td>海外 美国</td>\n      <td>1.251449e+09</td>\n      <td>658.0</td>\n      <td>0.0</td>\n      <td>NaN</td>\n      <td>0.0</td>\n    </tr>\n    <tr>\n      <th>2</th>\n      <td>期待这一天的到来#元畅依晨#隐婚三年终于曝光。。。。。哈哈哈哈哈哈元畅依晨你们神马都不用说、...</td>\n      <td>False</td>\n      <td>795</td>\n      <td>1</td>\n      <td>9</td>\n      <td>1296217427</td>\n      <td>4104</td>\n      <td>2dKrm0nZnZH</td>\n      <td>1.765139e+09</td>\n      <td>False</td>\n      <td>True</td>\n      <td>f</td>\n      <td>1741.0</td>\n      <td>4660.0</td>\n      <td>江苏 徐州</td>\n      <td>1.277876e+09</td>\n      <td>264.0</td>\n      <td>-1.0</td>\n      <td>NaN</td>\n      <td>1.0</td>\n    </tr>\n    <tr>\n      <th>3</th>\n      <td>懂得沙士比亞的計程車司機</td>\n      <td>False</td>\n      <td>185</td>\n      <td>1</td>\n      <td>46</td>\n      <td>1297572047</td>\n      <td>1189</td>\n      <td>2dKs0ywFoob</td>\n      <td>1.750361e+09</td>\n      <td>False</td>\n      <td>True</td>\n      <td>m</td>\n      <td>444.0</td>\n      <td>1478.0</td>\n      <td>香港</td>\n      <td>1.275556e+09</td>\n      <td>129.0</td>\n      <td>-1.0</td>\n      <td>NaN</td>\n      <td>0.0</td>\n    </tr>\n    <tr>\n      <th>4</th>\n      <td>【视频：陈佩斯主持《焦点访谈》】其实我们不知道，早期的《焦点访谈》曾经是由陈佩斯主持的，一开...</td>\n      <td>True</td>\n      <td>287</td>\n      <td>0</td>\n      <td>69</td>\n      <td>1299158904</td>\n      <td>957</td>\n      <td>2dKsGplwDPR</td>\n      <td>1.640601e+09</td>\n      <td>True</td>\n      <td>True</td>\n      <td>m</td>\n      <td>62318.0</td>\n      <td>7305697.0</td>\n      <td>北京 海淀区</td>\n      <td>1.251449e+09</td>\n      <td>2002.0</td>\n      <td>3.0</td>\n      <td>NaN</td>\n      <td>1.0</td>\n    </tr>\n    <tr>\n      <th>...</th>\n      <td>...</td>\n      <td>...</td>\n      <td>...</td>\n      <td>...</td>\n      <td>...</td>\n      <td>...</td>\n      <td>...</td>\n      <td>...</td>\n      <td>...</td>\n      <td>...</td>\n      <td>...</td>\n      <td>...</td>\n      <td>...</td>\n      <td>...</td>\n      <td>...</td>\n      <td>...</td>\n      <td>...</td>\n      <td>...</td>\n      <td>...</td>\n      <td>...</td>\n    </tr>\n    <tr>\n      <th>4221</th>\n      <td>【四川绵阳市越狱46人 45男 1女 大多为90后 男性大多为强奸犯 女为杀人犯 南山下面一...</td>\n      <td>True</td>\n      <td>133</td>\n      <td>1</td>\n      <td>4</td>\n      <td>1370274687</td>\n      <td>346</td>\n      <td>zzLQSkl9W</td>\n      <td>1.779126e+09</td>\n      <td>False</td>\n      <td>True</td>\n      <td>f</td>\n      <td>1046.0</td>\n      <td>1625.0</td>\n      <td>四川 成都</td>\n      <td>1.279531e+09</td>\n      <td>570.0</td>\n      <td>220.0</td>\n      <td>NaN</td>\n      <td>1.0</td>\n    </tr>\n    <tr>\n      <th>4222</th>\n      <td>【“呵呵”——最恶心的聊天词汇，你中枪了么？】有人说，所有词语里最恶心的、最伤人的莫过于“呵...</td>\n      <td>False</td>\n      <td>169</td>\n      <td>1</td>\n      <td>15</td>\n      <td>1370274907</td>\n      <td>334</td>\n      <td>zzLSl4IL0</td>\n      <td>1.720963e+09</td>\n      <td>True</td>\n      <td>True</td>\n      <td>m</td>\n      <td>86209.0</td>\n      <td>7049685.0</td>\n      <td>湖北 武汉</td>\n      <td>1.269820e+09</td>\n      <td>978.0</td>\n      <td>3.0</td>\n      <td>NaN</td>\n      <td>0.0</td>\n    </tr>\n    <tr>\n      <th>4223</th>\n      <td>年轻时无论如何要确立一个目标。一克服懒惰消极靠目标。没目标就瞎混，一天到晚打牌玩游戏睡懒觉。...</td>\n      <td>False</td>\n      <td>108</td>\n      <td>0</td>\n      <td>65</td>\n      <td>1370049881</td>\n      <td>635</td>\n      <td>zznk2uq5w</td>\n      <td>1.194869e+09</td>\n      <td>True</td>\n      <td>True</td>\n      <td>m</td>\n      <td>7282.0</td>\n      <td>8239965.0</td>\n      <td>北京 海淀区</td>\n      <td>1.251448e+09</td>\n      <td>785.0</td>\n      <td>0.0</td>\n      <td>NaN</td>\n      <td>0.0</td>\n    </tr>\n    <tr>\n      <th>4224</th>\n      <td>牙膏底部的短线，绿色天然的。蓝色天然加药物，红色药物家化学，黑色纯化学。童鞋们~今后购买要记...</td>\n      <td>False</td>\n      <td>7</td>\n      <td>1</td>\n      <td>1</td>\n      <td>1370346065</td>\n      <td>108</td>\n      <td>zzTDJu6C4</td>\n      <td>2.094248e+09</td>\n      <td>True</td>\n      <td>True</td>\n      <td>f</td>\n      <td>16031.0</td>\n      <td>55139.0</td>\n      <td>黑龙江 哈尔滨</td>\n      <td>1.303181e+09</td>\n      <td>1823.0</td>\n      <td>3.0</td>\n      <td>NaN</td>\n      <td>1.0</td>\n    </tr>\n    <tr>\n      <th>4225</th>\n      <td>#每日一帖#[生活百科][生活常识]牙膏底部的短线，绿色天然的。蓝色天然加药物，红色药物加化...</td>\n      <td>False</td>\n      <td>15</td>\n      <td>1</td>\n      <td>9</td>\n      <td>1370347921</td>\n      <td>144</td>\n      <td>zzTQhvlSt</td>\n      <td>2.395440e+09</td>\n      <td>True</td>\n      <td>True</td>\n      <td>m</td>\n      <td>782.0</td>\n      <td>149966.0</td>\n      <td>湖北</td>\n      <td>1.317643e+09</td>\n      <td>390.0</td>\n      <td>0.0</td>\n      <td>NaN</td>\n      <td>1.0</td>\n    </tr>\n  </tbody>\n</table>\n<p>4226 rows × 20 columns</p>\n</div>"
     },
     "execution_count": 3,
     "metadata": {},
     "output_type": "execute_result"
    }
   ],
   "source": [
    "non_rumors_dir = './train/non-rumor-repost'\n",
    "rumors_dir = './train/rumor-repost'\n",
    "for data in os.listdir(non_rumors_dir):\n",
    "    mid = data.split('_')[0]\n",
    "    df.loc[df['mid'] == mid, 'is_rumor'] = 0\n",
    "for data in os.listdir(rumors_dir):\n",
    "    mid = data.split('_')[0]\n",
    "    df.loc[df['mid'] == mid, 'is_rumor'] = 1\n",
    "df  "
   ],
   "metadata": {
    "collapsed": false,
    "ExecuteTime": {
     "end_time": "2023-11-27T12:28:02.709253100Z",
     "start_time": "2023-11-27T12:28:01.124322600Z"
    }
   },
   "id": "cea70fe318723779"
  },
  {
   "cell_type": "code",
   "execution_count": 4,
   "outputs": [
    {
     "name": "stderr",
     "output_type": "stream",
     "text": [
      "C:\\Users\\Shen\\AppData\\Local\\Temp\\ipykernel_20008\\45599169.py:2: SettingWithCopyWarning: \n",
      "A value is trying to be set on a copy of a slice from a DataFrame.\n",
      "Try using .loc[row_indexer,col_indexer] = value instead\n",
      "\n",
      "See the caveats in the documentation: https://pandas.pydata.org/pandas-docs/stable/user_guide/indexing.html#returning-a-view-versus-a-copy\n",
      "  demo['is_rumor'] = demo['is_rumor'].astype('int64')\n"
     ]
    },
    {
     "data": {
      "text/plain": "              mid                                               text  is_rumor\n0      1U6k8lMp1y  【为了孩子，请拒吃转基因食品！】印度某地的羊吃了棉花收获后的草杆后，四分之一的羊死了，约5到...         1\n1     2dKrkwjMIHC  【中国缺少这样的少年英雄。应进中学语文课本】因拆迁款等问题与家人上访的16岁少年赵明阳将一名...         0\n2     2dKrm0nZnZH  期待这一天的到来#元畅依晨#隐婚三年终于曝光。。。。。哈哈哈哈哈哈元畅依晨你们神马都不用说、...         1\n3     2dKs0ywFoob                                       懂得沙士比亞的計程車司機         0\n4     2dKsGplwDPR  【视频：陈佩斯主持《焦点访谈》】其实我们不知道，早期的《焦点访谈》曾经是由陈佩斯主持的，一开...         1\n...           ...                                                ...       ...\n4221    zzLQSkl9W  【四川绵阳市越狱46人 45男 1女 大多为90后 男性大多为强奸犯 女为杀人犯 南山下面一...         1\n4222    zzLSl4IL0  【“呵呵”——最恶心的聊天词汇，你中枪了么？】有人说，所有词语里最恶心的、最伤人的莫过于“呵...         0\n4223    zznk2uq5w  年轻时无论如何要确立一个目标。一克服懒惰消极靠目标。没目标就瞎混，一天到晚打牌玩游戏睡懒觉。...         0\n4224    zzTDJu6C4  牙膏底部的短线，绿色天然的。蓝色天然加药物，红色药物家化学，黑色纯化学。童鞋们~今后购买要记...         1\n4225    zzTQhvlSt  #每日一帖#[生活百科][生活常识]牙膏底部的短线，绿色天然的。蓝色天然加药物，红色药物加化...         1\n\n[4226 rows x 3 columns]",
      "text/html": "<div>\n<style scoped>\n    .dataframe tbody tr th:only-of-type {\n        vertical-align: middle;\n    }\n\n    .dataframe tbody tr th {\n        vertical-align: top;\n    }\n\n    .dataframe thead th {\n        text-align: right;\n    }\n</style>\n<table border=\"1\" class=\"dataframe\">\n  <thead>\n    <tr style=\"text-align: right;\">\n      <th></th>\n      <th>mid</th>\n      <th>text</th>\n      <th>is_rumor</th>\n    </tr>\n  </thead>\n  <tbody>\n    <tr>\n      <th>0</th>\n      <td>1U6k8lMp1y</td>\n      <td>【为了孩子，请拒吃转基因食品！】印度某地的羊吃了棉花收获后的草杆后，四分之一的羊死了，约5到...</td>\n      <td>1</td>\n    </tr>\n    <tr>\n      <th>1</th>\n      <td>2dKrkwjMIHC</td>\n      <td>【中国缺少这样的少年英雄。应进中学语文课本】因拆迁款等问题与家人上访的16岁少年赵明阳将一名...</td>\n      <td>0</td>\n    </tr>\n    <tr>\n      <th>2</th>\n      <td>2dKrm0nZnZH</td>\n      <td>期待这一天的到来#元畅依晨#隐婚三年终于曝光。。。。。哈哈哈哈哈哈元畅依晨你们神马都不用说、...</td>\n      <td>1</td>\n    </tr>\n    <tr>\n      <th>3</th>\n      <td>2dKs0ywFoob</td>\n      <td>懂得沙士比亞的計程車司機</td>\n      <td>0</td>\n    </tr>\n    <tr>\n      <th>4</th>\n      <td>2dKsGplwDPR</td>\n      <td>【视频：陈佩斯主持《焦点访谈》】其实我们不知道，早期的《焦点访谈》曾经是由陈佩斯主持的，一开...</td>\n      <td>1</td>\n    </tr>\n    <tr>\n      <th>...</th>\n      <td>...</td>\n      <td>...</td>\n      <td>...</td>\n    </tr>\n    <tr>\n      <th>4221</th>\n      <td>zzLQSkl9W</td>\n      <td>【四川绵阳市越狱46人 45男 1女 大多为90后 男性大多为强奸犯 女为杀人犯 南山下面一...</td>\n      <td>1</td>\n    </tr>\n    <tr>\n      <th>4222</th>\n      <td>zzLSl4IL0</td>\n      <td>【“呵呵”——最恶心的聊天词汇，你中枪了么？】有人说，所有词语里最恶心的、最伤人的莫过于“呵...</td>\n      <td>0</td>\n    </tr>\n    <tr>\n      <th>4223</th>\n      <td>zznk2uq5w</td>\n      <td>年轻时无论如何要确立一个目标。一克服懒惰消极靠目标。没目标就瞎混，一天到晚打牌玩游戏睡懒觉。...</td>\n      <td>0</td>\n    </tr>\n    <tr>\n      <th>4224</th>\n      <td>zzTDJu6C4</td>\n      <td>牙膏底部的短线，绿色天然的。蓝色天然加药物，红色药物家化学，黑色纯化学。童鞋们~今后购买要记...</td>\n      <td>1</td>\n    </tr>\n    <tr>\n      <th>4225</th>\n      <td>zzTQhvlSt</td>\n      <td>#每日一帖#[生活百科][生活常识]牙膏底部的短线，绿色天然的。蓝色天然加药物，红色药物加化...</td>\n      <td>1</td>\n    </tr>\n  </tbody>\n</table>\n<p>4226 rows × 3 columns</p>\n</div>"
     },
     "execution_count": 4,
     "metadata": {},
     "output_type": "execute_result"
    }
   ],
   "source": [
    "demo = df[['mid', 'text', 'is_rumor']]\n",
    "demo['is_rumor'] = demo['is_rumor'].astype('int64')\n",
    "demo"
   ],
   "metadata": {
    "collapsed": false,
    "ExecuteTime": {
     "end_time": "2023-11-27T12:28:02.724535600Z",
     "start_time": "2023-11-27T12:28:02.710254100Z"
    }
   },
   "id": "9743c7ca089c1008"
  },
  {
   "cell_type": "code",
   "execution_count": 5,
   "outputs": [],
   "source": [
    "def get_stopword():\n",
    "    stopwords = []\n",
    "    with open('../stopwords/cn_stopwords.txt', 'r', encoding='utf-8') as f:\n",
    "        for line in f.readlines():\n",
    "            stopwords.append(line.strip())\n",
    "\n",
    "    stopwords = list(set(stopwords))\n",
    "    return stopwords\n"
   ],
   "metadata": {
    "collapsed": false,
    "ExecuteTime": {
     "end_time": "2023-11-27T12:28:02.726541900Z",
     "start_time": "2023-11-27T12:28:02.721014800Z"
    }
   },
   "id": "434e8b56973baa05"
  },
  {
   "cell_type": "code",
   "execution_count": 26,
   "outputs": [
    {
     "name": "stderr",
     "output_type": "stream",
     "text": [
      "C:\\Users\\Shen\\AppData\\Local\\Temp\\ipykernel_2780\\2450726801.py:20: SettingWithCopyWarning: \n",
      "A value is trying to be set on a copy of a slice from a DataFrame.\n",
      "Try using .loc[row_indexer,col_indexer] = value instead\n",
      "\n",
      "See the caveats in the documentation: https://pandas.pydata.org/pandas-docs/stable/user_guide/indexing.html#returning-a-view-versus-a-copy\n",
      "  demo['text'] = demo['text'].apply(wordopt_cn)\n",
      "C:\\Users\\Shen\\AppData\\Local\\Temp\\ipykernel_2780\\2450726801.py:21: SettingWithCopyWarning: \n",
      "A value is trying to be set on a copy of a slice from a DataFrame.\n",
      "Try using .loc[row_indexer,col_indexer] = value instead\n",
      "\n",
      "See the caveats in the documentation: https://pandas.pydata.org/pandas-docs/stable/user_guide/indexing.html#returning-a-view-versus-a-copy\n",
      "  demo['text'] = demo['text'].apply(lambda x: ' '.join(jieba.cut(x, cut_all=False, HMM=True)))\n",
      "C:\\Users\\Shen\\AppData\\Local\\Temp\\ipykernel_2780\\2450726801.py:22: SettingWithCopyWarning: \n",
      "A value is trying to be set on a copy of a slice from a DataFrame.\n",
      "Try using .loc[row_indexer,col_indexer] = value instead\n",
      "\n",
      "See the caveats in the documentation: https://pandas.pydata.org/pandas-docs/stable/user_guide/indexing.html#returning-a-view-versus-a-copy\n",
      "  demo['text'] = demo['text'].apply(lambda x: re.sub('\\\\s+', ' ', x))\n",
      "C:\\Users\\Shen\\AppData\\Local\\Temp\\ipykernel_2780\\2450726801.py:23: SettingWithCopyWarning: \n",
      "A value is trying to be set on a copy of a slice from a DataFrame\n",
      "\n",
      "See the caveats in the documentation: https://pandas.pydata.org/pandas-docs/stable/user_guide/indexing.html#returning-a-view-versus-a-copy\n",
      "  demo.drop(demo[demo['text'] == ''].index, inplace=True)\n"
     ]
    },
    {
     "data": {
      "text/plain": "              mid                                               text  is_rumor\n0      1U6k8lMp1y  为了 孩子 请 拒吃 转基因 食品 印度 某地 的 羊 吃 了 棉花 收获 后 的 草杆 后...         1\n1     2dKrkwjMIHC  中国 缺少 这样 的 少年 英雄 应进 中学语文 课本 因 拆迁 款 等 问题 与 家人 上...         0\n2     2dKrm0nZnZH  期待 这 一天 的 到来 元畅 依晨 隐婚 三年 终于 曝光 哈哈哈 哈哈哈 元畅 依晨 你...         1\n3     2dKs0ywFoob                                   懂得 沙士比 亞的 計程車 司機         0\n4     2dKsGplwDPR  视频 陈佩斯 主持 焦点访谈 其实 我们 不 知道 早期 的 焦点访谈 曾经 是 由 陈佩斯...         1\n...           ...                                                ...       ...\n4221    zzLQSkl9W  四川 绵阳市 越狱 人 男女 大多 为 后 男性 大多 为 强奸犯 女为 杀人犯 南山 下面...         1\n4222    zzLSl4IL0  呵呵 最 恶心 的 聊天 词汇 你 中枪 了 么 有人 说 所有 词语 里 最 恶心 的 最...         0\n4223    zznk2uq5w  年轻 时 无论如何 要 确立 一个 目标 一 克服 懒惰 消极 靠 目标 没 目标 就 瞎 ...         0\n4224    zzTDJu6C4  牙膏 底部 的 短线 绿色 天然 的 蓝色 天然 加 药物 红色 药物 家 化学 黑色 纯 ...         1\n4225    zzTQhvlSt  每日 一帖 生活 百科 生活 常识 牙膏 底部 的 短线 绿色 天然 的 蓝色 天然 加 药...         1\n\n[4217 rows x 3 columns]",
      "text/html": "<div>\n<style scoped>\n    .dataframe tbody tr th:only-of-type {\n        vertical-align: middle;\n    }\n\n    .dataframe tbody tr th {\n        vertical-align: top;\n    }\n\n    .dataframe thead th {\n        text-align: right;\n    }\n</style>\n<table border=\"1\" class=\"dataframe\">\n  <thead>\n    <tr style=\"text-align: right;\">\n      <th></th>\n      <th>mid</th>\n      <th>text</th>\n      <th>is_rumor</th>\n    </tr>\n  </thead>\n  <tbody>\n    <tr>\n      <th>0</th>\n      <td>1U6k8lMp1y</td>\n      <td>为了 孩子 请 拒吃 转基因 食品 印度 某地 的 羊 吃 了 棉花 收获 后 的 草杆 后...</td>\n      <td>1</td>\n    </tr>\n    <tr>\n      <th>1</th>\n      <td>2dKrkwjMIHC</td>\n      <td>中国 缺少 这样 的 少年 英雄 应进 中学语文 课本 因 拆迁 款 等 问题 与 家人 上...</td>\n      <td>0</td>\n    </tr>\n    <tr>\n      <th>2</th>\n      <td>2dKrm0nZnZH</td>\n      <td>期待 这 一天 的 到来 元畅 依晨 隐婚 三年 终于 曝光 哈哈哈 哈哈哈 元畅 依晨 你...</td>\n      <td>1</td>\n    </tr>\n    <tr>\n      <th>3</th>\n      <td>2dKs0ywFoob</td>\n      <td>懂得 沙士比 亞的 計程車 司機</td>\n      <td>0</td>\n    </tr>\n    <tr>\n      <th>4</th>\n      <td>2dKsGplwDPR</td>\n      <td>视频 陈佩斯 主持 焦点访谈 其实 我们 不 知道 早期 的 焦点访谈 曾经 是 由 陈佩斯...</td>\n      <td>1</td>\n    </tr>\n    <tr>\n      <th>...</th>\n      <td>...</td>\n      <td>...</td>\n      <td>...</td>\n    </tr>\n    <tr>\n      <th>4221</th>\n      <td>zzLQSkl9W</td>\n      <td>四川 绵阳市 越狱 人 男女 大多 为 后 男性 大多 为 强奸犯 女为 杀人犯 南山 下面...</td>\n      <td>1</td>\n    </tr>\n    <tr>\n      <th>4222</th>\n      <td>zzLSl4IL0</td>\n      <td>呵呵 最 恶心 的 聊天 词汇 你 中枪 了 么 有人 说 所有 词语 里 最 恶心 的 最...</td>\n      <td>0</td>\n    </tr>\n    <tr>\n      <th>4223</th>\n      <td>zznk2uq5w</td>\n      <td>年轻 时 无论如何 要 确立 一个 目标 一 克服 懒惰 消极 靠 目标 没 目标 就 瞎 ...</td>\n      <td>0</td>\n    </tr>\n    <tr>\n      <th>4224</th>\n      <td>zzTDJu6C4</td>\n      <td>牙膏 底部 的 短线 绿色 天然 的 蓝色 天然 加 药物 红色 药物 家 化学 黑色 纯 ...</td>\n      <td>1</td>\n    </tr>\n    <tr>\n      <th>4225</th>\n      <td>zzTQhvlSt</td>\n      <td>每日 一帖 生活 百科 生活 常识 牙膏 底部 的 短线 绿色 天然 的 蓝色 天然 加 药...</td>\n      <td>1</td>\n    </tr>\n  </tbody>\n</table>\n<p>4217 rows × 3 columns</p>\n</div>"
     },
     "execution_count": 26,
     "metadata": {},
     "output_type": "execute_result"
    }
   ],
   "source": [
    "import thulac\n",
    "import re\n",
    "\n",
    "thul = thulac.thulac(seg_only=True, filt=True)\n",
    "def wordopt_cn(text):\n",
    "    pattern = re.compile(r'[^\\u4e00-\\u9fa5]')\n",
    "    chinese_txt = re.sub(pattern, '', text)\n",
    "    return str(chinese_txt)\n",
    "\n",
    "\n",
    "stopwords = get_stopword()\n",
    "\n",
    "\n",
    "def remove_stopwords(text):\n",
    "    words = text.split()\n",
    "    words = [word for word in words if word not in stopwords]\n",
    "    return ' '.join(words)\n",
    "\n",
    "\n",
    "demo['text'] = demo['text'].apply(wordopt_cn)\n",
    "demo['text'] = demo['text'].apply(lambda x: ''.join(jieba.cut(x, cut_all=False, HMM=True)))\n",
    "demo['text'] = demo['text'].apply(lambda x: re.sub('\\\\s+', ' ', x))\n",
    "demo.drop(demo[demo['text'] == ''].index, inplace=True)\n",
    "demo"
   ],
   "metadata": {
    "collapsed": false,
    "ExecuteTime": {
     "end_time": "2023-11-27T11:07:09.585409500Z",
     "start_time": "2023-11-27T11:07:08.401391700Z"
    }
   },
   "id": "21688729c2523739"
  },
  {
   "cell_type": "code",
   "execution_count": 27,
   "outputs": [],
   "source": [
    "from sklearn.model_selection import train_test_split\n",
    "x = demo['text']\n",
    "y = demo['is_rumor']\n",
    "x_train, x_test, y_train, y_test = train_test_split(x, y, test_size=0.20, random_state=42)"
   ],
   "metadata": {
    "collapsed": false,
    "ExecuteTime": {
     "end_time": "2023-11-27T11:07:09.603687900Z",
     "start_time": "2023-11-27T11:07:09.586839400Z"
    }
   },
   "id": "a41b8b4dd1c070ce"
  },
  {
   "cell_type": "code",
   "execution_count": 28,
   "outputs": [],
   "source": [
    "from sklearn.feature_extraction.text import CountVectorizer\n",
    "from sklearn.naive_bayes import MultinomialNB\n",
    "from sklearn.pipeline import Pipeline\n",
    "from sklearn.linear_model import LogisticRegression\n",
    "from sklearn.tree import DecisionTreeClassifier\n",
    "from sklearn.ensemble import GradientBoostingClassifier, RandomForestClassifier\n",
    "\n",
    "clf0=Pipeline([\n",
    "    ('vectorizer',CountVectorizer()),\n",
    "    ('nb',MultinomialNB(alpha=0.02))\n",
    "])\n",
    "\n",
    "clf1 = Pipeline([\n",
    "    ('vectorizer', CountVectorizer()),\n",
    "    ('lr', LogisticRegression())\n",
    "])\n",
    "\n",
    "clf2 = Pipeline([\n",
    "    ('vectorizer', CountVectorizer()),\n",
    "    ('dt', DecisionTreeClassifier())\n",
    "])\n",
    "\n",
    "clf3 = Pipeline([\n",
    "    ('vectorizer', CountVectorizer()),\n",
    "    ('gbc', GradientBoostingClassifier())\n",
    "])\n",
    "\n",
    "clf4 = Pipeline([\n",
    "    ('vectorizer', CountVectorizer()),\n",
    "    ('rf', RandomForestClassifier())\n",
    "])"
   ],
   "metadata": {
    "collapsed": false,
    "ExecuteTime": {
     "end_time": "2023-11-27T11:07:09.603687900Z",
     "start_time": "2023-11-27T11:07:09.592683900Z"
    }
   },
   "id": "e8d861c1f4d92090"
  },
  {
   "cell_type": "code",
   "execution_count": 29,
   "outputs": [
    {
     "name": "stdout",
     "output_type": "stream",
     "text": [
      "                            Accuracy    Recall Precision  F1 Score\n",
      "MultinomialNB               0.887441  0.887441  0.887565  0.887442\n",
      "LogisticRegression          0.896919  0.896919  0.898374  0.896858\n",
      "DecisionTreeClassifier      0.815166  0.815166  0.821005  0.814166\n",
      "GradientBoostingClassifier  0.763033  0.763033   0.78846  0.758156\n",
      "RandomForestClassifier      0.861374  0.861374  0.861511  0.861345\n"
     ]
    },
    {
     "data": {
      "text/plain": "<Figure size 1000x700 with 1 Axes>",
      "image/png": "[encoded data removed]"
     },
     "metadata": {},
     "output_type": "display_data"
    }
   ],
   "source": [
    "from sklearn.metrics import accuracy_score, recall_score, precision_score, f1_score\n",
    "import matplotlib.pyplot as plt\n",
    "# List of models\n",
    "clfs = [clf0, clf1, clf2, clf3, clf4]\n",
    "\n",
    "# Model names\n",
    "clf_names = ['MultinomialNB', 'LogisticRegression', 'DecisionTreeClassifier', 'GradientBoostingClassifier', 'RandomForestClassifier']\n",
    "\n",
    "# Initialize a DataFrame to store the performance metrics\n",
    "performance_metrics = pd.DataFrame(columns=['Accuracy', 'Recall', 'Precision', 'F1 Score'], index=clf_names)\n",
    "\n",
    "for clf, name in zip(clfs, clf_names):\n",
    "    # Train the model\n",
    "    clf.fit(x_train, y_train)\n",
    "\n",
    "    # Predict the test set results\n",
    "    y_pred = clf.predict(x_test)\n",
    "\n",
    "    # Calculate performance metrics\n",
    "    accuracy = accuracy_score(y_test, y_pred)\n",
    "    recall = recall_score(y_test, y_pred, average='weighted')\n",
    "    precision = precision_score(y_test, y_pred, average='weighted')\n",
    "    f1 = f1_score(y_test, y_pred, average='weighted')\n",
    "\n",
    "    # Store the performance metrics in the DataFrame\n",
    "    performance_metrics.loc[name, 'Accuracy'] = accuracy\n",
    "    performance_metrics.loc[name, 'Recall'] = recall\n",
    "    performance_metrics.loc[name, 'Precision'] = precision\n",
    "    performance_metrics.loc[name, 'F1 Score'] = f1\n",
    "\n",
    "# Print the performance metrics\n",
    "print(performance_metrics)\n",
    "\n",
    "# Plot the performance metrics\n",
    "performance_metrics.plot(kind='bar', figsize=(10, 7))\n",
    "plt.title('Performance Metrics for Different Models')\n",
    "plt.ylabel('Score')\n",
    "plt.show()"
   ],
   "metadata": {
    "collapsed": false,
    "ExecuteTime": {
     "end_time": "2023-11-27T11:07:24.232613700Z",
     "start_time": "2023-11-27T11:07:09.595224200Z"
    }
   },
   "id": "ae4c2b2e3d84db31"
  },
  {
   "cell_type": "code",
   "execution_count": 30,
   "outputs": [
    {
     "name": "stdout",
     "output_type": "stream",
     "text": [
      "蛔虫 美女 问世 了 现在 有 一种 减肥 的 方法 不用 运动 不用 节食 吃 蛔虫 卵 服用 蛔虫 卵后 蛔虫 卵会 在 人体 里 孵化 成虫 帮助 房东 消费 食物 达到 让 房东 瘦身 的 目的 这是 英国 每日 邮报 的 新闻 说 是 通过 服用 蛔虫 卵 瘦身 已 被 一些 中国 女 大学生 接受 真的假 的\n",
      "MultinomialNB [0]\n",
      "LogisticRegression [0]\n",
      "DecisionTreeClassifier [0]\n",
      "GradientBoostingClassifier [1]\n",
      "RandomForestClassifier [0]\n",
      "\n",
      "传说 中 的 麦当劳 全国 通用 无线 上网 密码 真的 吗\n",
      "MultinomialNB [0]\n",
      "LogisticRegression [1]\n",
      "DecisionTreeClassifier [0]\n",
      "GradientBoostingClassifier [0]\n",
      "RandomForestClassifier [1]\n",
      "\n",
      "顶花 黄瓜 或 有 猫腻 生长 剂 含 避孕药 据 青岛 新闻网 顶 着 鲜艳 黄花 的 黄瓜 通常 在 市场 上 受欢迎 但 许多 这样 的 黄瓜 是 用 植物 生长 调节剂 扮嫩 的 有 小贩 爆料 黄瓜 如果 正常 生长 采摘 时 早就 谢顶 花 黄瓜 肯定 是 抹 过药 甚至 是 避孕药 配制 的 激素 药\n",
      "MultinomialNB [0]\n",
      "LogisticRegression [0]\n",
      "DecisionTreeClassifier [0]\n",
      "GradientBoostingClassifier [0]\n",
      "RandomForestClassifier [0]\n",
      "\n",
      "有奖 转发 关注 蚂蚁 汇 赢大奖 参与 方式 关注 蚂蚁 汇 评论 并 转发 本条 微博位 以上 好友 今天 我们 会 抽取 名 粉丝 送 出 豆腐 手机 座 或 美妆 体验 一份 另外 再 从 评论 尾数 为 的 粉丝 中选 一名 送 出薇 姿中样 一份 本月 全部 活动 结束 后 将 有 大奖 相 送 想要 拿奖 的 童鞋 们 转 起来 吧 欢欣鼓舞\n",
      "MultinomialNB [0]\n",
      "LogisticRegression [0]\n",
      "DecisionTreeClassifier [0]\n",
      "GradientBoostingClassifier [0]\n",
      "RandomForestClassifier [0]\n",
      "\n",
      "类杀 精 食物 吃 傻 下一代 一 炸鸡 含 致癌物 丙烯酰胺 二 啤酒 使 尿酸 沉积 肾小管 阻塞 肾脏 衰竭 三 咖啡 压抑 副 交感神经 减低 性欲 四 豆腐 植物 雌激素 减少 精子 数五 奶茶 反式 脂肪酸 减少 男性 荷尔蒙 六 腰子 含有 重 金属镉 不是 吃 啥 补 啥\n",
      "MultinomialNB [1]\n",
      "LogisticRegression [1]\n",
      "DecisionTreeClassifier [1]\n",
      "GradientBoostingClassifier [0]\n",
      "RandomForestClassifier [1]\n"
     ]
    }
   ],
   "source": [
    "val = [\"蛔虫美女问世了：现在有一种减肥的方法，不用运动不用节食：吃蛔虫卵。服用蛔虫卵后，蛔虫卵会在人体里孵化成虫，帮助房东消费食物，达到让房东瘦身的目的。这是英国《每日邮报》的新闻，说是通过服用蛔虫卵瘦身已被一些中国女大学生接受。真的假的？\",\n",
    "       \"传说中的麦当劳全国通用无线上网密码，真的吗？\",\n",
    "       \"【“顶花”黄瓜或有猫腻，生长剂含避孕药】据青岛新闻网，顶着鲜艳黄花的黄瓜，通常在市场上受欢迎。但许多这样的黄瓜是用植物生长调节剂“扮嫩”的。有小贩爆料，黄瓜如果正常生长，采摘时早就谢，顶花黄瓜肯定是抹过药，甚至是避孕药配制的激素药。http://sinaurl.cn/h5IPDq\",\n",
    "       \"#有奖转发#【关注蚂蚁汇，赢imac大奖】参与方式：①关注蚂蚁汇②评论并转发本条微博③@ 5位以上好友。今天我们会抽取6名粉丝送出豆腐手机座或美妆体验一份！另外，再从评论尾数为4的粉丝中选一名，送出薇姿中样一份！本月全部活动结束后，将有大奖imac相送！想要拿奖的童鞋们，转起来吧！[欢欣鼓舞]\",\n",
    "       \"【6类杀精食物 吃傻下一代】一、炸鸡，含致癌物丙烯酰胺；二、啤酒，使尿酸沉积，肾小管阻塞肾脏衰竭；三、咖啡，压抑副交感神经减低性欲；四、豆腐，植物雌激素减少精子数；五、奶茶，反式脂肪酸减少男性荷尔蒙；六、腰子，含有重金属镉。不是吃啥补啥！！http://t.cn/heDXfi\"]\n",
    "\n",
    "for i in val:\n",
    "    i = wordopt_cn(i)\n",
    "    i = ' '.join(jieba.cut(i))\n",
    "    i = re.sub('\\\\s+', ' ', i)\n",
    "    print(i)\n",
    "    for clf, name in zip(clfs, clf_names):\n",
    "        print(name, clf.predict([i]))\n",
    "    print()"
   ],
   "metadata": {
    "collapsed": false,
    "ExecuteTime": {
     "end_time": "2023-11-27T11:07:24.341726400Z",
     "start_time": "2023-11-27T11:07:24.232613700Z"
    }
   },
   "id": "e517d9e86766ba88"
  },
  {
   "cell_type": "code",
   "execution_count": null,
   "outputs": [],
   "source": [],
   "metadata": {
    "collapsed": false
   },
   "id": "c4fea8f8c270bbc4"
  }
 ],
 "metadata": {
  "kernelspec": {
   "display_name": "Python 3",
   "language": "python",
   "name": "python3"
  },
  "language_info": {
   "codemirror_mode": {
    "name": "ipython",
    "version": 2
   },
   "file_extension": ".py",
   "mimetype": "text/x-python",
   "name": "python",
   "nbconvert_exporter": "python",
   "pygments_lexer": "ipython2",
   "version": "2.7.6"
  }
 },
 "nbformat": 4,
 "nbformat_minor": 5
}

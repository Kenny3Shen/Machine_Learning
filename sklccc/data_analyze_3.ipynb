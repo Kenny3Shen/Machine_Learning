{
 "cells": [
  {
   "cell_type": "code",
   "execution_count": 1,
   "id": "initial_id",
   "metadata": {
    "collapsed": true,
    "ExecuteTime": {
     "end_time": "2023-12-03T06:29:37.363309700Z",
     "start_time": "2023-12-03T06:29:37.086777500Z"
    }
   },
   "outputs": [],
   "source": [
    "import pandas as pd\n",
    "import json\n",
    "import os"
   ]
  },
  {
   "cell_type": "code",
   "execution_count": 2,
   "outputs": [
    {
     "data": {
      "text/plain": "                                                   text  has_url  comments  \\\n0     【为了孩子，请拒吃转基因食品！】印度某地的羊吃了棉花收获后的草杆后，四分之一的羊死了，约5到...    False       306   \n1     【中国缺少这样的少年英雄。应进中学语文课本】因拆迁款等问题与家人上访的16岁少年赵明阳将一名...    False       215   \n2     期待这一天的到来#元畅依晨#隐婚三年终于曝光。。。。。哈哈哈哈哈哈元畅依晨你们神马都不用说、...    False       795   \n3                                          懂得沙士比亞的計程車司機    False       185   \n4     【视频：陈佩斯主持《焦点访谈》】其实我们不知道，早期的《焦点访谈》曾经是由陈佩斯主持的，一开...     True       287   \n...                                                 ...      ...       ...   \n4221  【四川绵阳市越狱46人 45男 1女 大多为90后 男性大多为强奸犯 女为杀人犯 南山下面一...     True       133   \n4222  【“呵呵”——最恶心的聊天词汇，你中枪了么？】有人说，所有词语里最恶心的、最伤人的莫过于“呵...    False       169   \n4223  年轻时无论如何要确立一个目标。一克服懒惰消极靠目标。没目标就瞎混，一天到晚打牌玩游戏睡懒觉。...    False       108   \n4224  牙膏底部的短线，绿色天然的。蓝色天然加药物，红色药物家化学，黑色纯化学。童鞋们~今后购买要记...    False         7   \n4225  #每日一帖#[生活百科][生活常识]牙膏底部的短线，绿色天然的。蓝色天然加药物，红色药物加化...    False        15   \n\n      pics  likes        time  reposts          mid      user_uid  \\\n0        1      1  1301754691      606   1U6k8lMp1y  1.155516e+09   \n1        0      0  1295670050      555  2dKrkwjMIHC  1.173360e+09   \n2        1      9  1296217427     4104  2dKrm0nZnZH  1.765139e+09   \n3        1     46  1297572047     1189  2dKs0ywFoob  1.750361e+09   \n4        0     69  1299158904      957  2dKsGplwDPR  1.640601e+09   \n...    ...    ...         ...      ...          ...           ...   \n4221     1      4  1370274687      346    zzLQSkl9W  1.779126e+09   \n4222     1     15  1370274907      334    zzLSl4IL0  1.720963e+09   \n4223     0     65  1370049881      635    zznk2uq5w  1.194869e+09   \n4224     1      1  1370346065      108    zzTDJu6C4  2.094248e+09   \n4225     1      9  1370347921      144    zzTQhvlSt  2.395440e+09   \n\n     user_verified user_description user_gender  user_messages  \\\n0            False             True           m         7055.0   \n1             True             True           m        18854.0   \n2            False             True           f         1741.0   \n3            False             True           m          444.0   \n4             True             True           m        62318.0   \n...            ...              ...         ...            ...   \n4221         False             True           f         1046.0   \n4222          True             True           m        86209.0   \n4223          True             True           m         7282.0   \n4224          True             True           f        16031.0   \n4225          True             True           m          782.0   \n\n      user_followers user_location     user_time  user_friends  \\\n0            28319.0            上海  1.271574e+09        1985.0   \n1           191425.0         海外 美国  1.251449e+09         658.0   \n2             4660.0         江苏 徐州  1.277876e+09         264.0   \n3             1478.0            香港  1.275556e+09         129.0   \n4          7305697.0        北京 海淀区  1.251449e+09        2002.0   \n...              ...           ...           ...           ...   \n4221          1625.0         四川 成都  1.279531e+09         570.0   \n4222       7049685.0         湖北 武汉  1.269820e+09         978.0   \n4223       8239965.0        北京 海淀区  1.251448e+09         785.0   \n4224         55139.0       黑龙江 哈尔滨  1.303181e+09        1823.0   \n4225        149966.0            湖北  1.317643e+09         390.0   \n\n      user_verified_type user  \n0                   -1.0  NaN  \n1                    0.0  NaN  \n2                   -1.0  NaN  \n3                   -1.0  NaN  \n4                    3.0  NaN  \n...                  ...  ...  \n4221               220.0  NaN  \n4222                 3.0  NaN  \n4223                 0.0  NaN  \n4224                 3.0  NaN  \n4225                 0.0  NaN  \n\n[4226 rows x 19 columns]",
      "text/html": "<div>\n<style scoped>\n    .dataframe tbody tr th:only-of-type {\n        vertical-align: middle;\n    }\n\n    .dataframe tbody tr th {\n        vertical-align: top;\n    }\n\n    .dataframe thead th {\n        text-align: right;\n    }\n</style>\n<table border=\"1\" class=\"dataframe\">\n  <thead>\n    <tr style=\"text-align: right;\">\n      <th></th>\n      <th>text</th>\n      <th>has_url</th>\n      <th>comments</th>\n      <th>pics</th>\n      <th>likes</th>\n      <th>time</th>\n      <th>reposts</th>\n      <th>mid</th>\n      <th>user_uid</th>\n      <th>user_verified</th>\n      <th>user_description</th>\n      <th>user_gender</th>\n      <th>user_messages</th>\n      <th>user_followers</th>\n      <th>user_location</th>\n      <th>user_time</th>\n      <th>user_friends</th>\n      <th>user_verified_type</th>\n      <th>user</th>\n    </tr>\n  </thead>\n  <tbody>\n    <tr>\n      <th>0</th>\n      <td>【为了孩子，请拒吃转基因食品！】印度某地的羊吃了棉花收获后的草杆后，四分之一的羊死了，约5到...</td>\n      <td>False</td>\n      <td>306</td>\n      <td>1</td>\n      <td>1</td>\n      <td>1301754691</td>\n      <td>606</td>\n      <td>1U6k8lMp1y</td>\n      <td>1.155516e+09</td>\n      <td>False</td>\n      <td>True</td>\n      <td>m</td>\n      <td>7055.0</td>\n      <td>28319.0</td>\n      <td>上海</td>\n      <td>1.271574e+09</td>\n      <td>1985.0</td>\n      <td>-1.0</td>\n      <td>NaN</td>\n    </tr>\n    <tr>\n      <th>1</th>\n      <td>【中国缺少这样的少年英雄。应进中学语文课本】因拆迁款等问题与家人上访的16岁少年赵明阳将一名...</td>\n      <td>False</td>\n      <td>215</td>\n      <td>0</td>\n      <td>0</td>\n      <td>1295670050</td>\n      <td>555</td>\n      <td>2dKrkwjMIHC</td>\n      <td>1.173360e+09</td>\n      <td>True</td>\n      <td>True</td>\n      <td>m</td>\n      <td>18854.0</td>\n      <td>191425.0</td>\n      <td>海外 美国</td>\n      <td>1.251449e+09</td>\n      <td>658.0</td>\n      <td>0.0</td>\n      <td>NaN</td>\n    </tr>\n    <tr>\n      <th>2</th>\n      <td>期待这一天的到来#元畅依晨#隐婚三年终于曝光。。。。。哈哈哈哈哈哈元畅依晨你们神马都不用说、...</td>\n      <td>False</td>\n      <td>795</td>\n      <td>1</td>\n      <td>9</td>\n      <td>1296217427</td>\n      <td>4104</td>\n      <td>2dKrm0nZnZH</td>\n      <td>1.765139e+09</td>\n      <td>False</td>\n      <td>True</td>\n      <td>f</td>\n      <td>1741.0</td>\n      <td>4660.0</td>\n      <td>江苏 徐州</td>\n      <td>1.277876e+09</td>\n      <td>264.0</td>\n      <td>-1.0</td>\n      <td>NaN</td>\n    </tr>\n    <tr>\n      <th>3</th>\n      <td>懂得沙士比亞的計程車司機</td>\n      <td>False</td>\n      <td>185</td>\n      <td>1</td>\n      <td>46</td>\n      <td>1297572047</td>\n      <td>1189</td>\n      <td>2dKs0ywFoob</td>\n      <td>1.750361e+09</td>\n      <td>False</td>\n      <td>True</td>\n      <td>m</td>\n      <td>444.0</td>\n      <td>1478.0</td>\n      <td>香港</td>\n      <td>1.275556e+09</td>\n      <td>129.0</td>\n      <td>-1.0</td>\n      <td>NaN</td>\n    </tr>\n    <tr>\n      <th>4</th>\n      <td>【视频：陈佩斯主持《焦点访谈》】其实我们不知道，早期的《焦点访谈》曾经是由陈佩斯主持的，一开...</td>\n      <td>True</td>\n      <td>287</td>\n      <td>0</td>\n      <td>69</td>\n      <td>1299158904</td>\n      <td>957</td>\n      <td>2dKsGplwDPR</td>\n      <td>1.640601e+09</td>\n      <td>True</td>\n      <td>True</td>\n      <td>m</td>\n      <td>62318.0</td>\n      <td>7305697.0</td>\n      <td>北京 海淀区</td>\n      <td>1.251449e+09</td>\n      <td>2002.0</td>\n      <td>3.0</td>\n      <td>NaN</td>\n    </tr>\n    <tr>\n      <th>...</th>\n      <td>...</td>\n      <td>...</td>\n      <td>...</td>\n      <td>...</td>\n      <td>...</td>\n      <td>...</td>\n      <td>...</td>\n      <td>...</td>\n      <td>...</td>\n      <td>...</td>\n      <td>...</td>\n      <td>...</td>\n      <td>...</td>\n      <td>...</td>\n      <td>...</td>\n      <td>...</td>\n      <td>...</td>\n      <td>...</td>\n      <td>...</td>\n    </tr>\n    <tr>\n      <th>4221</th>\n      <td>【四川绵阳市越狱46人 45男 1女 大多为90后 男性大多为强奸犯 女为杀人犯 南山下面一...</td>\n      <td>True</td>\n      <td>133</td>\n      <td>1</td>\n      <td>4</td>\n      <td>1370274687</td>\n      <td>346</td>\n      <td>zzLQSkl9W</td>\n      <td>1.779126e+09</td>\n      <td>False</td>\n      <td>True</td>\n      <td>f</td>\n      <td>1046.0</td>\n      <td>1625.0</td>\n      <td>四川 成都</td>\n      <td>1.279531e+09</td>\n      <td>570.0</td>\n      <td>220.0</td>\n      <td>NaN</td>\n    </tr>\n    <tr>\n      <th>4222</th>\n      <td>【“呵呵”——最恶心的聊天词汇，你中枪了么？】有人说，所有词语里最恶心的、最伤人的莫过于“呵...</td>\n      <td>False</td>\n      <td>169</td>\n      <td>1</td>\n      <td>15</td>\n      <td>1370274907</td>\n      <td>334</td>\n      <td>zzLSl4IL0</td>\n      <td>1.720963e+09</td>\n      <td>True</td>\n      <td>True</td>\n      <td>m</td>\n      <td>86209.0</td>\n      <td>7049685.0</td>\n      <td>湖北 武汉</td>\n      <td>1.269820e+09</td>\n      <td>978.0</td>\n      <td>3.0</td>\n      <td>NaN</td>\n    </tr>\n    <tr>\n      <th>4223</th>\n      <td>年轻时无论如何要确立一个目标。一克服懒惰消极靠目标。没目标就瞎混，一天到晚打牌玩游戏睡懒觉。...</td>\n      <td>False</td>\n      <td>108</td>\n      <td>0</td>\n      <td>65</td>\n      <td>1370049881</td>\n      <td>635</td>\n      <td>zznk2uq5w</td>\n      <td>1.194869e+09</td>\n      <td>True</td>\n      <td>True</td>\n      <td>m</td>\n      <td>7282.0</td>\n      <td>8239965.0</td>\n      <td>北京 海淀区</td>\n      <td>1.251448e+09</td>\n      <td>785.0</td>\n      <td>0.0</td>\n      <td>NaN</td>\n    </tr>\n    <tr>\n      <th>4224</th>\n      <td>牙膏底部的短线，绿色天然的。蓝色天然加药物，红色药物家化学，黑色纯化学。童鞋们~今后购买要记...</td>\n      <td>False</td>\n      <td>7</td>\n      <td>1</td>\n      <td>1</td>\n      <td>1370346065</td>\n      <td>108</td>\n      <td>zzTDJu6C4</td>\n      <td>2.094248e+09</td>\n      <td>True</td>\n      <td>True</td>\n      <td>f</td>\n      <td>16031.0</td>\n      <td>55139.0</td>\n      <td>黑龙江 哈尔滨</td>\n      <td>1.303181e+09</td>\n      <td>1823.0</td>\n      <td>3.0</td>\n      <td>NaN</td>\n    </tr>\n    <tr>\n      <th>4225</th>\n      <td>#每日一帖#[生活百科][生活常识]牙膏底部的短线，绿色天然的。蓝色天然加药物，红色药物加化...</td>\n      <td>False</td>\n      <td>15</td>\n      <td>1</td>\n      <td>9</td>\n      <td>1370347921</td>\n      <td>144</td>\n      <td>zzTQhvlSt</td>\n      <td>2.395440e+09</td>\n      <td>True</td>\n      <td>True</td>\n      <td>m</td>\n      <td>782.0</td>\n      <td>149966.0</td>\n      <td>湖北</td>\n      <td>1.317643e+09</td>\n      <td>390.0</td>\n      <td>0.0</td>\n      <td>NaN</td>\n    </tr>\n  </tbody>\n</table>\n<p>4226 rows × 19 columns</p>\n</div>"
     },
     "execution_count": 2,
     "metadata": {},
     "output_type": "execute_result"
    }
   ],
   "source": [
    "dataset_dir = './train/original-microblog/'\n",
    "data_list = []\n",
    "for data in os.listdir(dataset_dir):\n",
    "    js = json.load(open(os.path.join(dataset_dir, data), encoding='utf-8'))\n",
    "    t = pd.json_normalize(js, sep='_')\n",
    "    data_list.append(t)\n",
    "df = pd.concat(data_list, axis=0, ignore_index=True)\n",
    "df"
   ],
   "metadata": {
    "collapsed": false,
    "ExecuteTime": {
     "end_time": "2023-12-03T06:29:46.038197500Z",
     "start_time": "2023-12-03T06:29:38.102310700Z"
    }
   },
   "id": "262d5bc91aa1f580"
  },
  {
   "cell_type": "code",
   "execution_count": 3,
   "outputs": [
    {
     "data": {
      "text/plain": "                                                   text  has_url  comments  \\\n0     【为了孩子，请拒吃转基因食品！】印度某地的羊吃了棉花收获后的草杆后，四分之一的羊死了，约5到...    False       306   \n1     【中国缺少这样的少年英雄。应进中学语文课本】因拆迁款等问题与家人上访的16岁少年赵明阳将一名...    False       215   \n2     期待这一天的到来#元畅依晨#隐婚三年终于曝光。。。。。哈哈哈哈哈哈元畅依晨你们神马都不用说、...    False       795   \n3                                          懂得沙士比亞的計程車司機    False       185   \n4     【视频：陈佩斯主持《焦点访谈》】其实我们不知道，早期的《焦点访谈》曾经是由陈佩斯主持的，一开...     True       287   \n...                                                 ...      ...       ...   \n4221  【四川绵阳市越狱46人 45男 1女 大多为90后 男性大多为强奸犯 女为杀人犯 南山下面一...     True       133   \n4222  【“呵呵”——最恶心的聊天词汇，你中枪了么？】有人说，所有词语里最恶心的、最伤人的莫过于“呵...    False       169   \n4223  年轻时无论如何要确立一个目标。一克服懒惰消极靠目标。没目标就瞎混，一天到晚打牌玩游戏睡懒觉。...    False       108   \n4224  牙膏底部的短线，绿色天然的。蓝色天然加药物，红色药物家化学，黑色纯化学。童鞋们~今后购买要记...    False         7   \n4225  #每日一帖#[生活百科][生活常识]牙膏底部的短线，绿色天然的。蓝色天然加药物，红色药物加化...    False        15   \n\n      pics  likes        time  reposts          mid      user_uid  \\\n0        1      1  1301754691      606   1U6k8lMp1y  1.155516e+09   \n1        0      0  1295670050      555  2dKrkwjMIHC  1.173360e+09   \n2        1      9  1296217427     4104  2dKrm0nZnZH  1.765139e+09   \n3        1     46  1297572047     1189  2dKs0ywFoob  1.750361e+09   \n4        0     69  1299158904      957  2dKsGplwDPR  1.640601e+09   \n...    ...    ...         ...      ...          ...           ...   \n4221     1      4  1370274687      346    zzLQSkl9W  1.779126e+09   \n4222     1     15  1370274907      334    zzLSl4IL0  1.720963e+09   \n4223     0     65  1370049881      635    zznk2uq5w  1.194869e+09   \n4224     1      1  1370346065      108    zzTDJu6C4  2.094248e+09   \n4225     1      9  1370347921      144    zzTQhvlSt  2.395440e+09   \n\n     user_verified user_description user_gender  user_messages  \\\n0            False             True           m         7055.0   \n1             True             True           m        18854.0   \n2            False             True           f         1741.0   \n3            False             True           m          444.0   \n4             True             True           m        62318.0   \n...            ...              ...         ...            ...   \n4221         False             True           f         1046.0   \n4222          True             True           m        86209.0   \n4223          True             True           m         7282.0   \n4224          True             True           f        16031.0   \n4225          True             True           m          782.0   \n\n      user_followers user_location     user_time  user_friends  \\\n0            28319.0            上海  1.271574e+09        1985.0   \n1           191425.0         海外 美国  1.251449e+09         658.0   \n2             4660.0         江苏 徐州  1.277876e+09         264.0   \n3             1478.0            香港  1.275556e+09         129.0   \n4          7305697.0        北京 海淀区  1.251449e+09        2002.0   \n...              ...           ...           ...           ...   \n4221          1625.0         四川 成都  1.279531e+09         570.0   \n4222       7049685.0         湖北 武汉  1.269820e+09         978.0   \n4223       8239965.0        北京 海淀区  1.251448e+09         785.0   \n4224         55139.0       黑龙江 哈尔滨  1.303181e+09        1823.0   \n4225        149966.0            湖北  1.317643e+09         390.0   \n\n      user_verified_type user  is_rumor  \n0                   -1.0  NaN       1.0  \n1                    0.0  NaN       0.0  \n2                   -1.0  NaN       1.0  \n3                   -1.0  NaN       0.0  \n4                    3.0  NaN       1.0  \n...                  ...  ...       ...  \n4221               220.0  NaN       1.0  \n4222                 3.0  NaN       0.0  \n4223                 0.0  NaN       0.0  \n4224                 3.0  NaN       1.0  \n4225                 0.0  NaN       1.0  \n\n[4226 rows x 20 columns]",
      "text/html": "<div>\n<style scoped>\n    .dataframe tbody tr th:only-of-type {\n        vertical-align: middle;\n    }\n\n    .dataframe tbody tr th {\n        vertical-align: top;\n    }\n\n    .dataframe thead th {\n        text-align: right;\n    }\n</style>\n<table border=\"1\" class=\"dataframe\">\n  <thead>\n    <tr style=\"text-align: right;\">\n      <th></th>\n      <th>text</th>\n      <th>has_url</th>\n      <th>comments</th>\n      <th>pics</th>\n      <th>likes</th>\n      <th>time</th>\n      <th>reposts</th>\n      <th>mid</th>\n      <th>user_uid</th>\n      <th>user_verified</th>\n      <th>user_description</th>\n      <th>user_gender</th>\n      <th>user_messages</th>\n      <th>user_followers</th>\n      <th>user_location</th>\n      <th>user_time</th>\n      <th>user_friends</th>\n      <th>user_verified_type</th>\n      <th>user</th>\n      <th>is_rumor</th>\n    </tr>\n  </thead>\n  <tbody>\n    <tr>\n      <th>0</th>\n      <td>【为了孩子，请拒吃转基因食品！】印度某地的羊吃了棉花收获后的草杆后，四分之一的羊死了，约5到...</td>\n      <td>False</td>\n      <td>306</td>\n      <td>1</td>\n      <td>1</td>\n      <td>1301754691</td>\n      <td>606</td>\n      <td>1U6k8lMp1y</td>\n      <td>1.155516e+09</td>\n      <td>False</td>\n      <td>True</td>\n      <td>m</td>\n      <td>7055.0</td>\n      <td>28319.0</td>\n      <td>上海</td>\n      <td>1.271574e+09</td>\n      <td>1985.0</td>\n      <td>-1.0</td>\n      <td>NaN</td>\n      <td>1.0</td>\n    </tr>\n    <tr>\n      <th>1</th>\n      <td>【中国缺少这样的少年英雄。应进中学语文课本】因拆迁款等问题与家人上访的16岁少年赵明阳将一名...</td>\n      <td>False</td>\n      <td>215</td>\n      <td>0</td>\n      <td>0</td>\n      <td>1295670050</td>\n      <td>555</td>\n      <td>2dKrkwjMIHC</td>\n      <td>1.173360e+09</td>\n      <td>True</td>\n      <td>True</td>\n      <td>m</td>\n      <td>18854.0</td>\n      <td>191425.0</td>\n      <td>海外 美国</td>\n      <td>1.251449e+09</td>\n      <td>658.0</td>\n      <td>0.0</td>\n      <td>NaN</td>\n      <td>0.0</td>\n    </tr>\n    <tr>\n      <th>2</th>\n      <td>期待这一天的到来#元畅依晨#隐婚三年终于曝光。。。。。哈哈哈哈哈哈元畅依晨你们神马都不用说、...</td>\n      <td>False</td>\n      <td>795</td>\n      <td>1</td>\n      <td>9</td>\n      <td>1296217427</td>\n      <td>4104</td>\n      <td>2dKrm0nZnZH</td>\n      <td>1.765139e+09</td>\n      <td>False</td>\n      <td>True</td>\n      <td>f</td>\n      <td>1741.0</td>\n      <td>4660.0</td>\n      <td>江苏 徐州</td>\n      <td>1.277876e+09</td>\n      <td>264.0</td>\n      <td>-1.0</td>\n      <td>NaN</td>\n      <td>1.0</td>\n    </tr>\n    <tr>\n      <th>3</th>\n      <td>懂得沙士比亞的計程車司機</td>\n      <td>False</td>\n      <td>185</td>\n      <td>1</td>\n      <td>46</td>\n      <td>1297572047</td>\n      <td>1189</td>\n      <td>2dKs0ywFoob</td>\n      <td>1.750361e+09</td>\n      <td>False</td>\n      <td>True</td>\n      <td>m</td>\n      <td>444.0</td>\n      <td>1478.0</td>\n      <td>香港</td>\n      <td>1.275556e+09</td>\n      <td>129.0</td>\n      <td>-1.0</td>\n      <td>NaN</td>\n      <td>0.0</td>\n    </tr>\n    <tr>\n      <th>4</th>\n      <td>【视频：陈佩斯主持《焦点访谈》】其实我们不知道，早期的《焦点访谈》曾经是由陈佩斯主持的，一开...</td>\n      <td>True</td>\n      <td>287</td>\n      <td>0</td>\n      <td>69</td>\n      <td>1299158904</td>\n      <td>957</td>\n      <td>2dKsGplwDPR</td>\n      <td>1.640601e+09</td>\n      <td>True</td>\n      <td>True</td>\n      <td>m</td>\n      <td>62318.0</td>\n      <td>7305697.0</td>\n      <td>北京 海淀区</td>\n      <td>1.251449e+09</td>\n      <td>2002.0</td>\n      <td>3.0</td>\n      <td>NaN</td>\n      <td>1.0</td>\n    </tr>\n    <tr>\n      <th>...</th>\n      <td>...</td>\n      <td>...</td>\n      <td>...</td>\n      <td>...</td>\n      <td>...</td>\n      <td>...</td>\n      <td>...</td>\n      <td>...</td>\n      <td>...</td>\n      <td>...</td>\n      <td>...</td>\n      <td>...</td>\n      <td>...</td>\n      <td>...</td>\n      <td>...</td>\n      <td>...</td>\n      <td>...</td>\n      <td>...</td>\n      <td>...</td>\n      <td>...</td>\n    </tr>\n    <tr>\n      <th>4221</th>\n      <td>【四川绵阳市越狱46人 45男 1女 大多为90后 男性大多为强奸犯 女为杀人犯 南山下面一...</td>\n      <td>True</td>\n      <td>133</td>\n      <td>1</td>\n      <td>4</td>\n      <td>1370274687</td>\n      <td>346</td>\n      <td>zzLQSkl9W</td>\n      <td>1.779126e+09</td>\n      <td>False</td>\n      <td>True</td>\n      <td>f</td>\n      <td>1046.0</td>\n      <td>1625.0</td>\n      <td>四川 成都</td>\n      <td>1.279531e+09</td>\n      <td>570.0</td>\n      <td>220.0</td>\n      <td>NaN</td>\n      <td>1.0</td>\n    </tr>\n    <tr>\n      <th>4222</th>\n      <td>【“呵呵”——最恶心的聊天词汇，你中枪了么？】有人说，所有词语里最恶心的、最伤人的莫过于“呵...</td>\n      <td>False</td>\n      <td>169</td>\n      <td>1</td>\n      <td>15</td>\n      <td>1370274907</td>\n      <td>334</td>\n      <td>zzLSl4IL0</td>\n      <td>1.720963e+09</td>\n      <td>True</td>\n      <td>True</td>\n      <td>m</td>\n      <td>86209.0</td>\n      <td>7049685.0</td>\n      <td>湖北 武汉</td>\n      <td>1.269820e+09</td>\n      <td>978.0</td>\n      <td>3.0</td>\n      <td>NaN</td>\n      <td>0.0</td>\n    </tr>\n    <tr>\n      <th>4223</th>\n      <td>年轻时无论如何要确立一个目标。一克服懒惰消极靠目标。没目标就瞎混，一天到晚打牌玩游戏睡懒觉。...</td>\n      <td>False</td>\n      <td>108</td>\n      <td>0</td>\n      <td>65</td>\n      <td>1370049881</td>\n      <td>635</td>\n      <td>zznk2uq5w</td>\n      <td>1.194869e+09</td>\n      <td>True</td>\n      <td>True</td>\n      <td>m</td>\n      <td>7282.0</td>\n      <td>8239965.0</td>\n      <td>北京 海淀区</td>\n      <td>1.251448e+09</td>\n      <td>785.0</td>\n      <td>0.0</td>\n      <td>NaN</td>\n      <td>0.0</td>\n    </tr>\n    <tr>\n      <th>4224</th>\n      <td>牙膏底部的短线，绿色天然的。蓝色天然加药物，红色药物家化学，黑色纯化学。童鞋们~今后购买要记...</td>\n      <td>False</td>\n      <td>7</td>\n      <td>1</td>\n      <td>1</td>\n      <td>1370346065</td>\n      <td>108</td>\n      <td>zzTDJu6C4</td>\n      <td>2.094248e+09</td>\n      <td>True</td>\n      <td>True</td>\n      <td>f</td>\n      <td>16031.0</td>\n      <td>55139.0</td>\n      <td>黑龙江 哈尔滨</td>\n      <td>1.303181e+09</td>\n      <td>1823.0</td>\n      <td>3.0</td>\n      <td>NaN</td>\n      <td>1.0</td>\n    </tr>\n    <tr>\n      <th>4225</th>\n      <td>#每日一帖#[生活百科][生活常识]牙膏底部的短线，绿色天然的。蓝色天然加药物，红色药物加化...</td>\n      <td>False</td>\n      <td>15</td>\n      <td>1</td>\n      <td>9</td>\n      <td>1370347921</td>\n      <td>144</td>\n      <td>zzTQhvlSt</td>\n      <td>2.395440e+09</td>\n      <td>True</td>\n      <td>True</td>\n      <td>m</td>\n      <td>782.0</td>\n      <td>149966.0</td>\n      <td>湖北</td>\n      <td>1.317643e+09</td>\n      <td>390.0</td>\n      <td>0.0</td>\n      <td>NaN</td>\n      <td>1.0</td>\n    </tr>\n  </tbody>\n</table>\n<p>4226 rows × 20 columns</p>\n</div>"
     },
     "execution_count": 3,
     "metadata": {},
     "output_type": "execute_result"
    }
   ],
   "source": [
    "non_rumors_dir = './train/non-rumor-repost'\n",
    "rumors_dir = './train/rumor-repost'\n",
    "for data in os.listdir(non_rumors_dir):\n",
    "    mid = data.split('_')[0]\n",
    "    df.loc[df['mid'] == mid, 'is_rumor'] = 0\n",
    "for data in os.listdir(rumors_dir):\n",
    "    mid = data.split('_')[0]\n",
    "    df.loc[df['mid'] == mid, 'is_rumor'] = 1\n",
    "df"
   ],
   "metadata": {
    "collapsed": false,
    "ExecuteTime": {
     "end_time": "2023-12-03T06:29:50.211017300Z",
     "start_time": "2023-12-03T06:29:49.261119200Z"
    }
   },
   "id": "cea70fe318723779"
  },
  {
   "cell_type": "code",
   "execution_count": 4,
   "outputs": [
    {
     "name": "stderr",
     "output_type": "stream",
     "text": [
      "d:\\anaconda3\\Lib\\site-packages\\IPython\\lib\\pretty.py:778: FutureWarning: In a future version, object-dtype columns with all-bool values will not be included in reductions with bool_only=True. Explicitly cast to bool dtype instead.\n",
      "  output = repr(obj)\n",
      "d:\\anaconda3\\Lib\\site-packages\\IPython\\core\\formatters.py:344: FutureWarning: In a future version, object-dtype columns with all-bool values will not be included in reductions with bool_only=True. Explicitly cast to bool dtype instead.\n",
      "  return method()\n"
     ]
    },
    {
     "data": {
      "text/plain": "     multi                                               text  has_url  \\\n0     None  人间惨剧：今天下午约14点，宁波妇儿医院，一妇女携带一婴儿在住院楼跳楼，后抢救无效死亡。具体...    False   \n1     None  再去武大，已无牌坊！非要拆掉？@章立凡 @袁裕来律师 @老徐时评 @徐昕 @杨锦麟 @左小祖...    False   \n2     None  中国最美丽的乡村\"江西婺源\"一\"教师打死学生\" 昨晚，在被誉为中国最美丽的乡村江西省婺源县清...     True   \n3     None  忍者QS：江苏省东海县女镇党委书记徐艳，因不愿陪县委书记关永健上床，竟然被警察毒打致子宫破裂...     True   \n4     None  《北大猛男，持刀刺官！！！》“可歌可泣”的是王同学投案自首之后冷冷说了一句话是 “我并不后悔...    False   \n...    ...                                                ...      ...   \n3382  None  【新版狸猫换太子】湖南衡阳四中高三理科学生肖颖，今年高考成绩出来后，发短信查询为695分，当...     True   \n3383  None            #周一见# 马伊利真无辜，可怜，文章连道歉都是抄袭的，看我微博，有图有真相 ​    False   \n3384  None  央视《焦点访谈》关于共和国脊梁评选活动造假之事采访民政部门领导，手腕打上了马赛克！这是为毛？...    False   \n3385  None  【朝鲜战争为何停战?】肖仲华:板门店谈判前彭德怀要求在铁原挡住美军两周,结果只挡了两天,63...    False   \n3386  None  《一只救了32条人命的搜救犬牺牲了，同样是生命，为它默哀吧！》——昨天下午一只军用搜救犬发现...    False   \n\n      comments  pics        source  likes                            time  \\\n0           55     1  微博 weibo.com      0                      1347334462   \n1          170     1  微博 weibo.com      0                      1349768694   \n2          466     0            微吧      0                      1363146924   \n3           15     0  微博 weibo.com      6                      1380971862   \n4           78     1      360安全浏览器     11                      1368078370   \n...        ...   ...           ...    ...                             ...   \n3382       127     1       iPad客户端      0  Sun Jul 01 17:29:06 +0800 2012   \n3383        70     1     iPhone客户端    128  Mon Mar 31 20:25:25 +0800 2014   \n3384       113     1  微博 weibo.com      6  Fri Mar 22 16:29:23 +0800 2013   \n3385       156     1  微博 weibo.com      2  Sun May 19 10:12:53 +0800 2013   \n3386        15     1     iPhone客户端      2  Sun Apr 21 18:40:32 +0800 2013   \n\n      reposts user_verified  ... user_gender user_messages  user_followers  \\\n0         225         False  ...           f        5653.0        227833.0   \n1         395         False  ...           m       11882.0         59624.0   \n2         685         False  ...           m          76.0            66.0   \n3         120         False  ...           m       22989.0          8358.0   \n4         532         False  ...           f        2911.0          1096.0   \n...       ...           ...  ...         ...           ...             ...   \n3382      241           NaN  ...         NaN           NaN             NaN   \n3383       95           NaN  ...         NaN           NaN             NaN   \n3384      436           NaN  ...         NaN           NaN             NaN   \n3385      321           NaN  ...         NaN           NaN             NaN   \n3386      145           NaN  ...         NaN           NaN             NaN   \n\n      user_location     user_time  user_friends  user_verified_type   mid  \\\n0                上海  1.312112e+09         907.0                -1.0     0   \n1                其他  1.302582e+09        1923.0                -1.0  1000   \n2             江西 上饶  1.318494e+09          82.0                -1.0  1002   \n3             吉林 吉林  1.297253e+09        1474.0                -1.0  1003   \n4           新疆 巴音郭楞  1.355300e+09        1118.0                -1.0  1004   \n...             ...           ...           ...                 ...   ...   \n3382            NaN           NaN           NaN                 NaN   996   \n3383            NaN           NaN           NaN                 NaN   998   \n3384            NaN           NaN           NaN                 NaN   999   \n3385            NaN           NaN           NaN                 NaN    99   \n3386            NaN           NaN           NaN                 NaN     9   \n\n     multi_type   user  \n0           NaN    NaN  \n1           NaN    NaN  \n2           NaN    NaN  \n3           NaN    NaN  \n4           NaN    NaN  \n...         ...    ...  \n3382        NaN  empty  \n3383          0  empty  \n3384        NaN  empty  \n3385        NaN  empty  \n3386        NaN  empty  \n\n[3387 rows x 21 columns]",
      "text/html": "<div>\n<style scoped>\n    .dataframe tbody tr th:only-of-type {\n        vertical-align: middle;\n    }\n\n    .dataframe tbody tr th {\n        vertical-align: top;\n    }\n\n    .dataframe thead th {\n        text-align: right;\n    }\n</style>\n<table border=\"1\" class=\"dataframe\">\n  <thead>\n    <tr style=\"text-align: right;\">\n      <th></th>\n      <th>multi</th>\n      <th>text</th>\n      <th>has_url</th>\n      <th>comments</th>\n      <th>pics</th>\n      <th>source</th>\n      <th>likes</th>\n      <th>time</th>\n      <th>reposts</th>\n      <th>user_verified</th>\n      <th>...</th>\n      <th>user_gender</th>\n      <th>user_messages</th>\n      <th>user_followers</th>\n      <th>user_location</th>\n      <th>user_time</th>\n      <th>user_friends</th>\n      <th>user_verified_type</th>\n      <th>mid</th>\n      <th>multi_type</th>\n      <th>user</th>\n    </tr>\n  </thead>\n  <tbody>\n    <tr>\n      <th>0</th>\n      <td>None</td>\n      <td>人间惨剧：今天下午约14点，宁波妇儿医院，一妇女携带一婴儿在住院楼跳楼，后抢救无效死亡。具体...</td>\n      <td>False</td>\n      <td>55</td>\n      <td>1</td>\n      <td>微博 weibo.com</td>\n      <td>0</td>\n      <td>1347334462</td>\n      <td>225</td>\n      <td>False</td>\n      <td>...</td>\n      <td>f</td>\n      <td>5653.0</td>\n      <td>227833.0</td>\n      <td>上海</td>\n      <td>1.312112e+09</td>\n      <td>907.0</td>\n      <td>-1.0</td>\n      <td>0</td>\n      <td>NaN</td>\n      <td>NaN</td>\n    </tr>\n    <tr>\n      <th>1</th>\n      <td>None</td>\n      <td>再去武大，已无牌坊！非要拆掉？@章立凡 @袁裕来律师 @老徐时评 @徐昕 @杨锦麟 @左小祖...</td>\n      <td>False</td>\n      <td>170</td>\n      <td>1</td>\n      <td>微博 weibo.com</td>\n      <td>0</td>\n      <td>1349768694</td>\n      <td>395</td>\n      <td>False</td>\n      <td>...</td>\n      <td>m</td>\n      <td>11882.0</td>\n      <td>59624.0</td>\n      <td>其他</td>\n      <td>1.302582e+09</td>\n      <td>1923.0</td>\n      <td>-1.0</td>\n      <td>1000</td>\n      <td>NaN</td>\n      <td>NaN</td>\n    </tr>\n    <tr>\n      <th>2</th>\n      <td>None</td>\n      <td>中国最美丽的乡村\"江西婺源\"一\"教师打死学生\" 昨晚，在被誉为中国最美丽的乡村江西省婺源县清...</td>\n      <td>True</td>\n      <td>466</td>\n      <td>0</td>\n      <td>微吧</td>\n      <td>0</td>\n      <td>1363146924</td>\n      <td>685</td>\n      <td>False</td>\n      <td>...</td>\n      <td>m</td>\n      <td>76.0</td>\n      <td>66.0</td>\n      <td>江西 上饶</td>\n      <td>1.318494e+09</td>\n      <td>82.0</td>\n      <td>-1.0</td>\n      <td>1002</td>\n      <td>NaN</td>\n      <td>NaN</td>\n    </tr>\n    <tr>\n      <th>3</th>\n      <td>None</td>\n      <td>忍者QS：江苏省东海县女镇党委书记徐艳，因不愿陪县委书记关永健上床，竟然被警察毒打致子宫破裂...</td>\n      <td>True</td>\n      <td>15</td>\n      <td>0</td>\n      <td>微博 weibo.com</td>\n      <td>6</td>\n      <td>1380971862</td>\n      <td>120</td>\n      <td>False</td>\n      <td>...</td>\n      <td>m</td>\n      <td>22989.0</td>\n      <td>8358.0</td>\n      <td>吉林 吉林</td>\n      <td>1.297253e+09</td>\n      <td>1474.0</td>\n      <td>-1.0</td>\n      <td>1003</td>\n      <td>NaN</td>\n      <td>NaN</td>\n    </tr>\n    <tr>\n      <th>4</th>\n      <td>None</td>\n      <td>《北大猛男，持刀刺官！！！》“可歌可泣”的是王同学投案自首之后冷冷说了一句话是 “我并不后悔...</td>\n      <td>False</td>\n      <td>78</td>\n      <td>1</td>\n      <td>360安全浏览器</td>\n      <td>11</td>\n      <td>1368078370</td>\n      <td>532</td>\n      <td>False</td>\n      <td>...</td>\n      <td>f</td>\n      <td>2911.0</td>\n      <td>1096.0</td>\n      <td>新疆 巴音郭楞</td>\n      <td>1.355300e+09</td>\n      <td>1118.0</td>\n      <td>-1.0</td>\n      <td>1004</td>\n      <td>NaN</td>\n      <td>NaN</td>\n    </tr>\n    <tr>\n      <th>...</th>\n      <td>...</td>\n      <td>...</td>\n      <td>...</td>\n      <td>...</td>\n      <td>...</td>\n      <td>...</td>\n      <td>...</td>\n      <td>...</td>\n      <td>...</td>\n      <td>...</td>\n      <td>...</td>\n      <td>...</td>\n      <td>...</td>\n      <td>...</td>\n      <td>...</td>\n      <td>...</td>\n      <td>...</td>\n      <td>...</td>\n      <td>...</td>\n      <td>...</td>\n      <td>...</td>\n    </tr>\n    <tr>\n      <th>3382</th>\n      <td>None</td>\n      <td>【新版狸猫换太子】湖南衡阳四中高三理科学生肖颖，今年高考成绩出来后，发短信查询为695分，当...</td>\n      <td>True</td>\n      <td>127</td>\n      <td>1</td>\n      <td>iPad客户端</td>\n      <td>0</td>\n      <td>Sun Jul 01 17:29:06 +0800 2012</td>\n      <td>241</td>\n      <td>NaN</td>\n      <td>...</td>\n      <td>NaN</td>\n      <td>NaN</td>\n      <td>NaN</td>\n      <td>NaN</td>\n      <td>NaN</td>\n      <td>NaN</td>\n      <td>NaN</td>\n      <td>996</td>\n      <td>NaN</td>\n      <td>empty</td>\n    </tr>\n    <tr>\n      <th>3383</th>\n      <td>None</td>\n      <td>#周一见# 马伊利真无辜，可怜，文章连道歉都是抄袭的，看我微博，有图有真相 ​</td>\n      <td>False</td>\n      <td>70</td>\n      <td>1</td>\n      <td>iPhone客户端</td>\n      <td>128</td>\n      <td>Mon Mar 31 20:25:25 +0800 2014</td>\n      <td>95</td>\n      <td>NaN</td>\n      <td>...</td>\n      <td>NaN</td>\n      <td>NaN</td>\n      <td>NaN</td>\n      <td>NaN</td>\n      <td>NaN</td>\n      <td>NaN</td>\n      <td>NaN</td>\n      <td>998</td>\n      <td>0</td>\n      <td>empty</td>\n    </tr>\n    <tr>\n      <th>3384</th>\n      <td>None</td>\n      <td>央视《焦点访谈》关于共和国脊梁评选活动造假之事采访民政部门领导，手腕打上了马赛克！这是为毛？...</td>\n      <td>False</td>\n      <td>113</td>\n      <td>1</td>\n      <td>微博 weibo.com</td>\n      <td>6</td>\n      <td>Fri Mar 22 16:29:23 +0800 2013</td>\n      <td>436</td>\n      <td>NaN</td>\n      <td>...</td>\n      <td>NaN</td>\n      <td>NaN</td>\n      <td>NaN</td>\n      <td>NaN</td>\n      <td>NaN</td>\n      <td>NaN</td>\n      <td>NaN</td>\n      <td>999</td>\n      <td>NaN</td>\n      <td>empty</td>\n    </tr>\n    <tr>\n      <th>3385</th>\n      <td>None</td>\n      <td>【朝鲜战争为何停战?】肖仲华:板门店谈判前彭德怀要求在铁原挡住美军两周,结果只挡了两天,63...</td>\n      <td>False</td>\n      <td>156</td>\n      <td>1</td>\n      <td>微博 weibo.com</td>\n      <td>2</td>\n      <td>Sun May 19 10:12:53 +0800 2013</td>\n      <td>321</td>\n      <td>NaN</td>\n      <td>...</td>\n      <td>NaN</td>\n      <td>NaN</td>\n      <td>NaN</td>\n      <td>NaN</td>\n      <td>NaN</td>\n      <td>NaN</td>\n      <td>NaN</td>\n      <td>99</td>\n      <td>NaN</td>\n      <td>empty</td>\n    </tr>\n    <tr>\n      <th>3386</th>\n      <td>None</td>\n      <td>《一只救了32条人命的搜救犬牺牲了，同样是生命，为它默哀吧！》——昨天下午一只军用搜救犬发现...</td>\n      <td>False</td>\n      <td>15</td>\n      <td>1</td>\n      <td>iPhone客户端</td>\n      <td>2</td>\n      <td>Sun Apr 21 18:40:32 +0800 2013</td>\n      <td>145</td>\n      <td>NaN</td>\n      <td>...</td>\n      <td>NaN</td>\n      <td>NaN</td>\n      <td>NaN</td>\n      <td>NaN</td>\n      <td>NaN</td>\n      <td>NaN</td>\n      <td>NaN</td>\n      <td>9</td>\n      <td>NaN</td>\n      <td>empty</td>\n    </tr>\n  </tbody>\n</table>\n<p>3387 rows × 21 columns</p>\n</div>"
     },
     "execution_count": 4,
     "metadata": {},
     "output_type": "execute_result"
    }
   ],
   "source": [
    "dataset_dir = './Chinese_Rumor_Dataset/CED_Dataset/original-microblog'\n",
    "data_list = []\n",
    "for data in os.listdir(dataset_dir):\n",
    "    try:\n",
    "        js = json.load(open(os.path.join(dataset_dir, data), encoding='utf-8'))\n",
    "        t = pd.json_normalize(js, sep='_')\n",
    "        t['mid'] = data.split('_')[0]\n",
    "        data_list.append(t)\n",
    "    except:\n",
    "        print(data)\n",
    "df1 = pd.concat(data_list, axis=0, ignore_index=True)\n",
    "df1"
   ],
   "metadata": {
    "collapsed": false,
    "ExecuteTime": {
     "end_time": "2023-11-27T13:56:25.451126800Z",
     "start_time": "2023-11-27T13:56:20.473668900Z"
    }
   },
   "id": "a647334629aa65b7"
  },
  {
   "cell_type": "code",
   "execution_count": 5,
   "outputs": [
    {
     "name": "stderr",
     "output_type": "stream",
     "text": [
      "d:\\anaconda3\\Lib\\site-packages\\IPython\\lib\\pretty.py:778: FutureWarning: In a future version, object-dtype columns with all-bool values will not be included in reductions with bool_only=True. Explicitly cast to bool dtype instead.\n",
      "  output = repr(obj)\n",
      "d:\\anaconda3\\Lib\\site-packages\\IPython\\core\\formatters.py:344: FutureWarning: In a future version, object-dtype columns with all-bool values will not be included in reductions with bool_only=True. Explicitly cast to bool dtype instead.\n",
      "  return method()\n"
     ]
    },
    {
     "data": {
      "text/plain": "     multi                                               text  has_url  \\\n0     None  人间惨剧：今天下午约14点，宁波妇儿医院，一妇女携带一婴儿在住院楼跳楼，后抢救无效死亡。具体...    False   \n1     None  再去武大，已无牌坊！非要拆掉？@章立凡 @袁裕来律师 @老徐时评 @徐昕 @杨锦麟 @左小祖...    False   \n2     None  中国最美丽的乡村\"江西婺源\"一\"教师打死学生\" 昨晚，在被誉为中国最美丽的乡村江西省婺源县清...     True   \n3     None  忍者QS：江苏省东海县女镇党委书记徐艳，因不愿陪县委书记关永健上床，竟然被警察毒打致子宫破裂...     True   \n4     None  《北大猛男，持刀刺官！！！》“可歌可泣”的是王同学投案自首之后冷冷说了一句话是 “我并不后悔...    False   \n...    ...                                                ...      ...   \n3382  None  【新版狸猫换太子】湖南衡阳四中高三理科学生肖颖，今年高考成绩出来后，发短信查询为695分，当...     True   \n3383  None            #周一见# 马伊利真无辜，可怜，文章连道歉都是抄袭的，看我微博，有图有真相 ​    False   \n3384  None  央视《焦点访谈》关于共和国脊梁评选活动造假之事采访民政部门领导，手腕打上了马赛克！这是为毛？...    False   \n3385  None  【朝鲜战争为何停战?】肖仲华:板门店谈判前彭德怀要求在铁原挡住美军两周,结果只挡了两天,63...    False   \n3386  None  《一只救了32条人命的搜救犬牺牲了，同样是生命，为它默哀吧！》——昨天下午一只军用搜救犬发现...    False   \n\n      comments  pics        source  likes                            time  \\\n0           55     1  微博 weibo.com      0                      1347334462   \n1          170     1  微博 weibo.com      0                      1349768694   \n2          466     0            微吧      0                      1363146924   \n3           15     0  微博 weibo.com      6                      1380971862   \n4           78     1      360安全浏览器     11                      1368078370   \n...        ...   ...           ...    ...                             ...   \n3382       127     1       iPad客户端      0  Sun Jul 01 17:29:06 +0800 2012   \n3383        70     1     iPhone客户端    128  Mon Mar 31 20:25:25 +0800 2014   \n3384       113     1  微博 weibo.com      6  Fri Mar 22 16:29:23 +0800 2013   \n3385       156     1  微博 weibo.com      2  Sun May 19 10:12:53 +0800 2013   \n3386        15     1     iPhone客户端      2  Sun Apr 21 18:40:32 +0800 2013   \n\n      reposts user_verified  ... user_messages user_followers  user_location  \\\n0         225         False  ...        5653.0       227833.0             上海   \n1         395         False  ...       11882.0        59624.0             其他   \n2         685         False  ...          76.0           66.0          江西 上饶   \n3         120         False  ...       22989.0         8358.0          吉林 吉林   \n4         532         False  ...        2911.0         1096.0        新疆 巴音郭楞   \n...       ...           ...  ...           ...            ...            ...   \n3382      241           NaN  ...           NaN            NaN            NaN   \n3383       95           NaN  ...           NaN            NaN            NaN   \n3384      436           NaN  ...           NaN            NaN            NaN   \n3385      321           NaN  ...           NaN            NaN            NaN   \n3386      145           NaN  ...           NaN            NaN            NaN   \n\n         user_time user_friends  user_verified_type   mid  multi_type   user  \\\n0     1.312112e+09        907.0                -1.0     0         NaN    NaN   \n1     1.302582e+09       1923.0                -1.0  1000         NaN    NaN   \n2     1.318494e+09         82.0                -1.0  1002         NaN    NaN   \n3     1.297253e+09       1474.0                -1.0  1003         NaN    NaN   \n4     1.355300e+09       1118.0                -1.0  1004         NaN    NaN   \n...            ...          ...                 ...   ...         ...    ...   \n3382           NaN          NaN                 NaN   996         NaN  empty   \n3383           NaN          NaN                 NaN   998           0  empty   \n3384           NaN          NaN                 NaN   999         NaN  empty   \n3385           NaN          NaN                 NaN    99         NaN  empty   \n3386           NaN          NaN                 NaN     9         NaN  empty   \n\n     is_rumor  \n0         1.0  \n1         1.0  \n2         1.0  \n3         1.0  \n4         1.0  \n...       ...  \n3382      1.0  \n3383      1.0  \n3384      1.0  \n3385      1.0  \n3386      1.0  \n\n[3387 rows x 22 columns]",
      "text/html": "<div>\n<style scoped>\n    .dataframe tbody tr th:only-of-type {\n        vertical-align: middle;\n    }\n\n    .dataframe tbody tr th {\n        vertical-align: top;\n    }\n\n    .dataframe thead th {\n        text-align: right;\n    }\n</style>\n<table border=\"1\" class=\"dataframe\">\n  <thead>\n    <tr style=\"text-align: right;\">\n      <th></th>\n      <th>multi</th>\n      <th>text</th>\n      <th>has_url</th>\n      <th>comments</th>\n      <th>pics</th>\n      <th>source</th>\n      <th>likes</th>\n      <th>time</th>\n      <th>reposts</th>\n      <th>user_verified</th>\n      <th>...</th>\n      <th>user_messages</th>\n      <th>user_followers</th>\n      <th>user_location</th>\n      <th>user_time</th>\n      <th>user_friends</th>\n      <th>user_verified_type</th>\n      <th>mid</th>\n      <th>multi_type</th>\n      <th>user</th>\n      <th>is_rumor</th>\n    </tr>\n  </thead>\n  <tbody>\n    <tr>\n      <th>0</th>\n      <td>None</td>\n      <td>人间惨剧：今天下午约14点，宁波妇儿医院，一妇女携带一婴儿在住院楼跳楼，后抢救无效死亡。具体...</td>\n      <td>False</td>\n      <td>55</td>\n      <td>1</td>\n      <td>微博 weibo.com</td>\n      <td>0</td>\n      <td>1347334462</td>\n      <td>225</td>\n      <td>False</td>\n      <td>...</td>\n      <td>5653.0</td>\n      <td>227833.0</td>\n      <td>上海</td>\n      <td>1.312112e+09</td>\n      <td>907.0</td>\n      <td>-1.0</td>\n      <td>0</td>\n      <td>NaN</td>\n      <td>NaN</td>\n      <td>1.0</td>\n    </tr>\n    <tr>\n      <th>1</th>\n      <td>None</td>\n      <td>再去武大，已无牌坊！非要拆掉？@章立凡 @袁裕来律师 @老徐时评 @徐昕 @杨锦麟 @左小祖...</td>\n      <td>False</td>\n      <td>170</td>\n      <td>1</td>\n      <td>微博 weibo.com</td>\n      <td>0</td>\n      <td>1349768694</td>\n      <td>395</td>\n      <td>False</td>\n      <td>...</td>\n      <td>11882.0</td>\n      <td>59624.0</td>\n      <td>其他</td>\n      <td>1.302582e+09</td>\n      <td>1923.0</td>\n      <td>-1.0</td>\n      <td>1000</td>\n      <td>NaN</td>\n      <td>NaN</td>\n      <td>1.0</td>\n    </tr>\n    <tr>\n      <th>2</th>\n      <td>None</td>\n      <td>中国最美丽的乡村\"江西婺源\"一\"教师打死学生\" 昨晚，在被誉为中国最美丽的乡村江西省婺源县清...</td>\n      <td>True</td>\n      <td>466</td>\n      <td>0</td>\n      <td>微吧</td>\n      <td>0</td>\n      <td>1363146924</td>\n      <td>685</td>\n      <td>False</td>\n      <td>...</td>\n      <td>76.0</td>\n      <td>66.0</td>\n      <td>江西 上饶</td>\n      <td>1.318494e+09</td>\n      <td>82.0</td>\n      <td>-1.0</td>\n      <td>1002</td>\n      <td>NaN</td>\n      <td>NaN</td>\n      <td>1.0</td>\n    </tr>\n    <tr>\n      <th>3</th>\n      <td>None</td>\n      <td>忍者QS：江苏省东海县女镇党委书记徐艳，因不愿陪县委书记关永健上床，竟然被警察毒打致子宫破裂...</td>\n      <td>True</td>\n      <td>15</td>\n      <td>0</td>\n      <td>微博 weibo.com</td>\n      <td>6</td>\n      <td>1380971862</td>\n      <td>120</td>\n      <td>False</td>\n      <td>...</td>\n      <td>22989.0</td>\n      <td>8358.0</td>\n      <td>吉林 吉林</td>\n      <td>1.297253e+09</td>\n      <td>1474.0</td>\n      <td>-1.0</td>\n      <td>1003</td>\n      <td>NaN</td>\n      <td>NaN</td>\n      <td>1.0</td>\n    </tr>\n    <tr>\n      <th>4</th>\n      <td>None</td>\n      <td>《北大猛男，持刀刺官！！！》“可歌可泣”的是王同学投案自首之后冷冷说了一句话是 “我并不后悔...</td>\n      <td>False</td>\n      <td>78</td>\n      <td>1</td>\n      <td>360安全浏览器</td>\n      <td>11</td>\n      <td>1368078370</td>\n      <td>532</td>\n      <td>False</td>\n      <td>...</td>\n      <td>2911.0</td>\n      <td>1096.0</td>\n      <td>新疆 巴音郭楞</td>\n      <td>1.355300e+09</td>\n      <td>1118.0</td>\n      <td>-1.0</td>\n      <td>1004</td>\n      <td>NaN</td>\n      <td>NaN</td>\n      <td>1.0</td>\n    </tr>\n    <tr>\n      <th>...</th>\n      <td>...</td>\n      <td>...</td>\n      <td>...</td>\n      <td>...</td>\n      <td>...</td>\n      <td>...</td>\n      <td>...</td>\n      <td>...</td>\n      <td>...</td>\n      <td>...</td>\n      <td>...</td>\n      <td>...</td>\n      <td>...</td>\n      <td>...</td>\n      <td>...</td>\n      <td>...</td>\n      <td>...</td>\n      <td>...</td>\n      <td>...</td>\n      <td>...</td>\n      <td>...</td>\n    </tr>\n    <tr>\n      <th>3382</th>\n      <td>None</td>\n      <td>【新版狸猫换太子】湖南衡阳四中高三理科学生肖颖，今年高考成绩出来后，发短信查询为695分，当...</td>\n      <td>True</td>\n      <td>127</td>\n      <td>1</td>\n      <td>iPad客户端</td>\n      <td>0</td>\n      <td>Sun Jul 01 17:29:06 +0800 2012</td>\n      <td>241</td>\n      <td>NaN</td>\n      <td>...</td>\n      <td>NaN</td>\n      <td>NaN</td>\n      <td>NaN</td>\n      <td>NaN</td>\n      <td>NaN</td>\n      <td>NaN</td>\n      <td>996</td>\n      <td>NaN</td>\n      <td>empty</td>\n      <td>1.0</td>\n    </tr>\n    <tr>\n      <th>3383</th>\n      <td>None</td>\n      <td>#周一见# 马伊利真无辜，可怜，文章连道歉都是抄袭的，看我微博，有图有真相 ​</td>\n      <td>False</td>\n      <td>70</td>\n      <td>1</td>\n      <td>iPhone客户端</td>\n      <td>128</td>\n      <td>Mon Mar 31 20:25:25 +0800 2014</td>\n      <td>95</td>\n      <td>NaN</td>\n      <td>...</td>\n      <td>NaN</td>\n      <td>NaN</td>\n      <td>NaN</td>\n      <td>NaN</td>\n      <td>NaN</td>\n      <td>NaN</td>\n      <td>998</td>\n      <td>0</td>\n      <td>empty</td>\n      <td>1.0</td>\n    </tr>\n    <tr>\n      <th>3384</th>\n      <td>None</td>\n      <td>央视《焦点访谈》关于共和国脊梁评选活动造假之事采访民政部门领导，手腕打上了马赛克！这是为毛？...</td>\n      <td>False</td>\n      <td>113</td>\n      <td>1</td>\n      <td>微博 weibo.com</td>\n      <td>6</td>\n      <td>Fri Mar 22 16:29:23 +0800 2013</td>\n      <td>436</td>\n      <td>NaN</td>\n      <td>...</td>\n      <td>NaN</td>\n      <td>NaN</td>\n      <td>NaN</td>\n      <td>NaN</td>\n      <td>NaN</td>\n      <td>NaN</td>\n      <td>999</td>\n      <td>NaN</td>\n      <td>empty</td>\n      <td>1.0</td>\n    </tr>\n    <tr>\n      <th>3385</th>\n      <td>None</td>\n      <td>【朝鲜战争为何停战?】肖仲华:板门店谈判前彭德怀要求在铁原挡住美军两周,结果只挡了两天,63...</td>\n      <td>False</td>\n      <td>156</td>\n      <td>1</td>\n      <td>微博 weibo.com</td>\n      <td>2</td>\n      <td>Sun May 19 10:12:53 +0800 2013</td>\n      <td>321</td>\n      <td>NaN</td>\n      <td>...</td>\n      <td>NaN</td>\n      <td>NaN</td>\n      <td>NaN</td>\n      <td>NaN</td>\n      <td>NaN</td>\n      <td>NaN</td>\n      <td>99</td>\n      <td>NaN</td>\n      <td>empty</td>\n      <td>1.0</td>\n    </tr>\n    <tr>\n      <th>3386</th>\n      <td>None</td>\n      <td>《一只救了32条人命的搜救犬牺牲了，同样是生命，为它默哀吧！》——昨天下午一只军用搜救犬发现...</td>\n      <td>False</td>\n      <td>15</td>\n      <td>1</td>\n      <td>iPhone客户端</td>\n      <td>2</td>\n      <td>Sun Apr 21 18:40:32 +0800 2013</td>\n      <td>145</td>\n      <td>NaN</td>\n      <td>...</td>\n      <td>NaN</td>\n      <td>NaN</td>\n      <td>NaN</td>\n      <td>NaN</td>\n      <td>NaN</td>\n      <td>NaN</td>\n      <td>9</td>\n      <td>NaN</td>\n      <td>empty</td>\n      <td>1.0</td>\n    </tr>\n  </tbody>\n</table>\n<p>3387 rows × 22 columns</p>\n</div>"
     },
     "execution_count": 5,
     "metadata": {},
     "output_type": "execute_result"
    }
   ],
   "source": [
    "non_rumors_dir = './Chinese_Rumor_Dataset/CED_Dataset/non-rumor-repost'\n",
    "rumors_dir = './Chinese_Rumor_Dataset/CED_Dataset/rumor-repost'\n",
    "for data in os.listdir(non_rumors_dir):\n",
    "    mid = data.split('_')[0]\n",
    "    df1.loc[df1['mid'] == mid, 'is_rumor'] = 0\n",
    "for data in os.listdir(rumors_dir):\n",
    "    mid = data.split('_')[0]\n",
    "    df1.loc[df1['mid'] == mid, 'is_rumor'] = 1\n",
    "df1"
   ],
   "metadata": {
    "collapsed": false,
    "ExecuteTime": {
     "end_time": "2023-11-27T13:56:26.876852600Z",
     "start_time": "2023-11-27T13:56:25.453124400Z"
    }
   },
   "id": "7f22bbe7624984a4"
  },
  {
   "cell_type": "code",
   "execution_count": 4,
   "outputs": [
    {
     "name": "stderr",
     "output_type": "stream",
     "text": [
      "C:\\Users\\shens\\AppData\\Local\\Temp\\ipykernel_7640\\344717834.py:3: SettingWithCopyWarning: \n",
      "A value is trying to be set on a copy of a slice from a DataFrame.\n",
      "Try using .loc[row_indexer,col_indexer] = value instead\n",
      "\n",
      "See the caveats in the documentation: https://pandas.pydata.org/pandas-docs/stable/user_guide/indexing.html#returning-a-view-versus-a-copy\n",
      "  demo1['is_rumor'] = demo1['is_rumor'].astype('int64')\n"
     ]
    }
   ],
   "source": [
    "demo1 = df[['text', 'is_rumor']]\n",
    "\n",
    "demo1['is_rumor'] = demo1['is_rumor'].astype('int64')\n",
    "\n",
    "demo = demo1"
   ],
   "metadata": {
    "collapsed": false,
    "ExecuteTime": {
     "end_time": "2023-12-03T06:30:18.342922300Z",
     "start_time": "2023-12-03T06:30:18.337075500Z"
    }
   },
   "id": "9743c7ca089c1008"
  },
  {
   "cell_type": "code",
   "execution_count": 5,
   "outputs": [
    {
     "data": {
      "text/plain": "is_rumor\n0    2214\n1    2012\nName: count, dtype: int64"
     },
     "execution_count": 5,
     "metadata": {},
     "output_type": "execute_result"
    }
   ],
   "source": [
    "demo['is_rumor'].value_counts()"
   ],
   "metadata": {
    "collapsed": false,
    "ExecuteTime": {
     "end_time": "2023-12-03T06:30:21.498980500Z",
     "start_time": "2023-12-03T06:30:21.495262100Z"
    }
   },
   "id": "8d3222bbf827d219"
  },
  {
   "cell_type": "code",
   "execution_count": 6,
   "outputs": [],
   "source": [
    "def get_stopword():\n",
    "    stopwords = []\n",
    "    with open('../stopwords/baidu_stopwords.txt', 'r', encoding='utf-8') as f:\n",
    "        for line in f.readlines():\n",
    "            stopwords.append(line.strip())\n",
    "   \n",
    "    stopwords = list(set(stopwords))\n",
    "    return stopwords\n"
   ],
   "metadata": {
    "collapsed": false,
    "ExecuteTime": {
     "end_time": "2023-12-03T06:30:28.471962800Z",
     "start_time": "2023-12-03T06:30:28.465145500Z"
    }
   },
   "id": "c1ee4db9a3ad167e"
  },
  {
   "cell_type": "code",
   "execution_count": 7,
   "outputs": [
    {
     "name": "stderr",
     "output_type": "stream",
     "text": [
      "C:\\Users\\shens\\AppData\\Local\\Temp\\ipykernel_7640\\470367146.py:26: SettingWithCopyWarning: \n",
      "A value is trying to be set on a copy of a slice from a DataFrame.\n",
      "Try using .loc[row_indexer,col_indexer] = value instead\n",
      "\n",
      "See the caveats in the documentation: https://pandas.pydata.org/pandas-docs/stable/user_guide/indexing.html#returning-a-view-versus-a-copy\n",
      "  demo['text'] = demo['text'].apply(wordopt_cn)\n",
      "Building prefix dict from the default dictionary ...\n",
      "Loading model from cache C:\\Users\\shens\\AppData\\Local\\Temp\\jieba.cache\n",
      "Loading model cost 0.377 seconds.\n",
      "Prefix dict has been built successfully.\n",
      "C:\\Users\\shens\\AppData\\Local\\Temp\\ipykernel_7640\\470367146.py:27: SettingWithCopyWarning: \n",
      "A value is trying to be set on a copy of a slice from a DataFrame.\n",
      "Try using .loc[row_indexer,col_indexer] = value instead\n",
      "\n",
      "See the caveats in the documentation: https://pandas.pydata.org/pandas-docs/stable/user_guide/indexing.html#returning-a-view-versus-a-copy\n",
      "  demo['text'] = demo['text'].apply(lambda x: ' '.join(jieba.cut(x)))\n",
      "C:\\Users\\shens\\AppData\\Local\\Temp\\ipykernel_7640\\470367146.py:28: SettingWithCopyWarning: \n",
      "A value is trying to be set on a copy of a slice from a DataFrame.\n",
      "Try using .loc[row_indexer,col_indexer] = value instead\n",
      "\n",
      "See the caveats in the documentation: https://pandas.pydata.org/pandas-docs/stable/user_guide/indexing.html#returning-a-view-versus-a-copy\n",
      "  demo['text'] = demo['text'].apply(remove_stopwords)\n",
      "C:\\Users\\shens\\AppData\\Local\\Temp\\ipykernel_7640\\470367146.py:29: SettingWithCopyWarning: \n",
      "A value is trying to be set on a copy of a slice from a DataFrame.\n",
      "Try using .loc[row_indexer,col_indexer] = value instead\n",
      "\n",
      "See the caveats in the documentation: https://pandas.pydata.org/pandas-docs/stable/user_guide/indexing.html#returning-a-view-versus-a-copy\n",
      "  demo['text'] = demo['text'].apply(lambda x: re.sub('\\\\s+', ' ', x))\n",
      "C:\\Users\\shens\\AppData\\Local\\Temp\\ipykernel_7640\\470367146.py:30: SettingWithCopyWarning: \n",
      "A value is trying to be set on a copy of a slice from a DataFrame\n",
      "\n",
      "See the caveats in the documentation: https://pandas.pydata.org/pandas-docs/stable/user_guide/indexing.html#returning-a-view-versus-a-copy\n",
      "  demo.drop(demo[demo['text'] == ''].index, inplace=True)\n"
     ]
    },
    {
     "data": {
      "text/plain": "                                                   text  is_rumor\n0     孩子 请 拒吃 转基因 食品 印度 某地 羊 吃 棉花 收获 后 草杆 后 四分之一 羊 死...         1\n1     中国 缺少 少年 英雄 应进 中学语文 课本 拆迁 款 家人 上访 岁 少年 赵明阳 一名 ...         0\n2     期待 到来 元畅 依晨 隐婚 三年 终于 曝光 哈哈哈 哈哈哈 元畅 依晨 神马 都 不用说...         1\n3                                      懂得 沙士比 亞的 計程車 司機         0\n4                  视频 陈佩斯 主持 焦点访谈 不 早期 焦点访谈 陈佩斯 主持 开场 笑         1\n...                                                 ...       ...\n4221  四川 绵阳市 越狱 人 男女 大多 后 男性 大多 强奸犯 女为 杀人犯 南山 一女 轮奸 ...         1\n4222  呵呵 最 恶心 聊天 词汇 中枪 有人 说 词语 里 最 恶心 最 伤人 莫过于 呵呵 骂人...         0\n4223  年轻 时 无论如何 确立 一个 目标 克服 懒惰 消极 目标 没 目标 瞎 混 一天到晚 打...         0\n4224  牙膏 底部 短线 绿色 天然 蓝色 天然 加 药物 红色 药物 家 化学 黑色 纯 化学 童...         1\n4225  每日 一帖 生活 百科 生活 常识 牙膏 底部 短线 绿色 天然 蓝色 天然 加 药物 红色...         1\n\n[4214 rows x 2 columns]",
      "text/html": "<div>\n<style scoped>\n    .dataframe tbody tr th:only-of-type {\n        vertical-align: middle;\n    }\n\n    .dataframe tbody tr th {\n        vertical-align: top;\n    }\n\n    .dataframe thead th {\n        text-align: right;\n    }\n</style>\n<table border=\"1\" class=\"dataframe\">\n  <thead>\n    <tr style=\"text-align: right;\">\n      <th></th>\n      <th>text</th>\n      <th>is_rumor</th>\n    </tr>\n  </thead>\n  <tbody>\n    <tr>\n      <th>0</th>\n      <td>孩子 请 拒吃 转基因 食品 印度 某地 羊 吃 棉花 收获 后 草杆 后 四分之一 羊 死...</td>\n      <td>1</td>\n    </tr>\n    <tr>\n      <th>1</th>\n      <td>中国 缺少 少年 英雄 应进 中学语文 课本 拆迁 款 家人 上访 岁 少年 赵明阳 一名 ...</td>\n      <td>0</td>\n    </tr>\n    <tr>\n      <th>2</th>\n      <td>期待 到来 元畅 依晨 隐婚 三年 终于 曝光 哈哈哈 哈哈哈 元畅 依晨 神马 都 不用说...</td>\n      <td>1</td>\n    </tr>\n    <tr>\n      <th>3</th>\n      <td>懂得 沙士比 亞的 計程車 司機</td>\n      <td>0</td>\n    </tr>\n    <tr>\n      <th>4</th>\n      <td>视频 陈佩斯 主持 焦点访谈 不 早期 焦点访谈 陈佩斯 主持 开场 笑</td>\n      <td>1</td>\n    </tr>\n    <tr>\n      <th>...</th>\n      <td>...</td>\n      <td>...</td>\n    </tr>\n    <tr>\n      <th>4221</th>\n      <td>四川 绵阳市 越狱 人 男女 大多 后 男性 大多 强奸犯 女为 杀人犯 南山 一女 轮奸 ...</td>\n      <td>1</td>\n    </tr>\n    <tr>\n      <th>4222</th>\n      <td>呵呵 最 恶心 聊天 词汇 中枪 有人 说 词语 里 最 恶心 最 伤人 莫过于 呵呵 骂人...</td>\n      <td>0</td>\n    </tr>\n    <tr>\n      <th>4223</th>\n      <td>年轻 时 无论如何 确立 一个 目标 克服 懒惰 消极 目标 没 目标 瞎 混 一天到晚 打...</td>\n      <td>0</td>\n    </tr>\n    <tr>\n      <th>4224</th>\n      <td>牙膏 底部 短线 绿色 天然 蓝色 天然 加 药物 红色 药物 家 化学 黑色 纯 化学 童...</td>\n      <td>1</td>\n    </tr>\n    <tr>\n      <th>4225</th>\n      <td>每日 一帖 生活 百科 生活 常识 牙膏 底部 短线 绿色 天然 蓝色 天然 加 药物 红色...</td>\n      <td>1</td>\n    </tr>\n  </tbody>\n</table>\n<p>4214 rows × 2 columns</p>\n</div>"
     },
     "execution_count": 7,
     "metadata": {},
     "output_type": "execute_result"
    }
   ],
   "source": [
    "import jieba\n",
    "import re\n",
    "\n",
    "def wordopt_cn(text):\n",
    "    # only chinese characters\n",
    "    pattern = re.compile(r'[^\\u4e00-\\u9fa5]')\n",
    "    chinese_txt = re.sub(pattern, '', text)\n",
    "    return str(chinese_txt)\n",
    "\n",
    "\n",
    "stopwords = get_stopword()\n",
    "stopwords.append('年')\n",
    "stopwords.append('月')\n",
    "stopwords.append('日')\n",
    "stopwords.append('日日')\n",
    "stopwords.append('年月')\n",
    "stopwords.append('月日')\n",
    "stopwords.append('年月日')\n",
    "\n",
    "def remove_stopwords(text):\n",
    "    words = text.split()\n",
    "    words = [word for word in words if word not in stopwords]\n",
    "    return ' '.join(words)\n",
    "\n",
    "\n",
    "demo['text'] = demo['text'].apply(wordopt_cn)\n",
    "demo['text'] = demo['text'].apply(lambda x: ' '.join(jieba.cut(x)))\n",
    "demo['text'] = demo['text'].apply(remove_stopwords)\n",
    "demo['text'] = demo['text'].apply(lambda x: re.sub('\\\\s+', ' ', x))\n",
    "demo.drop(demo[demo['text'] == ''].index, inplace=True)\n",
    "demo"
   ],
   "metadata": {
    "collapsed": false,
    "ExecuteTime": {
     "end_time": "2023-12-03T06:30:32.606165200Z",
     "start_time": "2023-12-03T06:30:29.429877Z"
    }
   },
   "id": "21688729c2523739"
  },
  {
   "cell_type": "code",
   "execution_count": 10,
   "outputs": [
    {
     "name": "stderr",
     "output_type": "stream",
     "text": [
      "d:\\anaconda3\\Lib\\site-packages\\sklearn\\feature_extraction\\text.py:525: UserWarning: The parameter 'token_pattern' will not be used since 'tokenizer' is not None'\n",
      "  warnings.warn(\n"
     ]
    }
   ],
   "source": [
    "from sklearn.feature_extraction.text import TfidfVectorizer\n",
    "\n",
    "vectorizer = TfidfVectorizer(tokenizer=str.split)\n",
    "demo['text'] = list(vectorizer.fit_transform(demo['text']).toarray())"
   ],
   "metadata": {
    "collapsed": false,
    "ExecuteTime": {
     "end_time": "2023-11-27T13:58:27.012126800Z",
     "start_time": "2023-11-27T13:58:26.075136900Z"
    }
   },
   "id": "b78e53e92817c1ad"
  },
  {
   "cell_type": "code",
   "execution_count": 11,
   "outputs": [],
   "source": [
    "from sklearn.model_selection import train_test_split\n",
    "\n",
    "x = demo['text'].to_list()\n",
    "y = demo['is_rumor']\n",
    "x_train, x_test, y_train, y_test = train_test_split(x, y, test_size=0.2, random_state=42)"
   ],
   "metadata": {
    "collapsed": false,
    "ExecuteTime": {
     "end_time": "2023-11-27T13:58:34.314107700Z",
     "start_time": "2023-11-27T13:58:34.252084200Z"
    }
   },
   "id": "a41b8b4dd1c070ce"
  },
  {
   "cell_type": "code",
   "execution_count": 12,
   "outputs": [],
   "source": [
    "from sklearn.naive_bayes import MultinomialNB\n",
    "from sklearn.linear_model import LogisticRegression, SGDClassifier\n",
    "from sklearn.ensemble import VotingClassifier\n",
    "\n",
    "lr = LogisticRegression()\n",
    "clf = MultinomialNB(alpha=0.02)\n",
    "sgd_model = SGDClassifier(max_iter=8000, tol=5e-4, loss=\"modified_huber\")\n",
    "sgd_model2 = SGDClassifier(max_iter=10000, tol=3e-4, loss=\"modified_huber\", class_weight=\"balanced\")\n",
    "sgd_model3 = SGDClassifier(max_iter=15000, tol=1e-4, loss=\"modified_huber\", early_stopping=True)\n",
    "\n",
    "ensemble = VotingClassifier(\n",
    "    estimators=[('lr', lr), ('mnb', clf), ('sgd', sgd_model), ('sgd2', sgd_model2), ('sgd3', sgd_model3)],\n",
    "    weights=[0.20, 0.20, 0.20, 0.20, 0.20],\n",
    "    voting='soft'\n",
    ")"
   ],
   "metadata": {
    "collapsed": false,
    "ExecuteTime": {
     "end_time": "2023-11-27T13:58:35.341699800Z",
     "start_time": "2023-11-27T13:58:35.208850600Z"
    }
   },
   "id": "ae4c2b2e3d84db31"
  },
  {
   "cell_type": "code",
   "execution_count": 13,
   "outputs": [],
   "source": [
    "ensemble.fit(x_train, y_train)\n",
    "\n",
    "#preds_test = ensemble.predict_proba(x_test)\n",
    "preds_test = ensemble.predict(x_test)"
   ],
   "metadata": {
    "collapsed": false,
    "ExecuteTime": {
     "end_time": "2023-11-27T13:58:54.016293600Z",
     "start_time": "2023-11-27T13:58:36.321305900Z"
    }
   },
   "id": "8b5d04427463a6e6"
  },
  {
   "cell_type": "code",
   "execution_count": 14,
   "outputs": [
    {
     "name": "stdout",
     "output_type": "stream",
     "text": [
      "Accuracy: 0.9611842105263158\n",
      "Precision: 0.9617196086525617\n",
      "Recall: 0.9604804191333833\n",
      "F1 Score: 0.9610051522073092\n"
     ]
    }
   ],
   "source": [
    "from sklearn.metrics import accuracy_score, precision_score, recall_score, f1_score\n",
    "\n",
    "accuracy = accuracy_score(y_test, preds_test)\n",
    "precision = precision_score(y_test, preds_test, average='macro')\n",
    "recall = recall_score(y_test, preds_test, average='macro')\n",
    "f1 = f1_score(y_test, preds_test, average='macro')\n",
    "\n",
    "print('Accuracy:', accuracy)\n",
    "print('Precision:', precision)\n",
    "print('Recall:', recall)\n",
    "print('F1 Score:', f1)\n"
   ],
   "metadata": {
    "collapsed": false,
    "ExecuteTime": {
     "end_time": "2023-11-27T13:58:56.605640400Z",
     "start_time": "2023-11-27T13:58:56.591082600Z"
    }
   },
   "id": "3724033bb274a399"
  },
  {
   "cell_type": "code",
   "execution_count": 15,
   "outputs": [
    {
     "name": "stdout",
     "output_type": "stream",
     "text": [
      "[1]\n",
      "[1]\n",
      "[0]\n",
      "[0]\n",
      "[1]\n"
     ]
    }
   ],
   "source": [
    "val = [\n",
    "    \"蛔虫美女问世了：现在有一种减肥的方法，不用运动不用节食：吃蛔虫卵。服用蛔虫卵后，蛔虫卵会在人体里孵化成虫，帮助房东消费食物，达到让房东瘦身的目的。这是英国《每日邮报》的新闻，说是通过服用蛔虫卵瘦身已被一些中国女大学生接受。真的假的？\",\n",
    "    \"传说中的麦当劳全国通用无线上网密码，真的吗？\",\n",
    "    \"【“顶花”黄瓜或有猫腻，生长剂含避孕药】据青岛新闻网，顶着鲜艳黄花的黄瓜，通常在市场上受欢迎。但许多这样的黄瓜是用植物生长调节剂“扮嫩”的。有小贩爆料，黄瓜如果正常生长，采摘时早就谢，顶花黄瓜肯定是抹过药，甚至是避孕药配制的激素药。http://sinaurl.cn/h5IPDq\",\n",
    "    \"#有奖转发#【关注蚂蚁汇，赢imac大奖】参与方式：①关注蚂蚁汇②评论并转发本条微博③@ 5位以上好友。今天我们会抽取6名粉丝送出豆腐手机座或美妆体验一份！另外，再从评论尾数为4的粉丝中选一名，送出薇姿中样一份！本月全部活动结束后，将有大奖imac相送！想要拿奖的童鞋们，转起来吧！[欢欣鼓舞]\",\n",
    "    \"【6类杀精食物 吃傻下一代】一、炸鸡，含致癌物丙烯酰胺；二、啤酒，使尿酸沉积，肾小管阻塞肾脏衰竭；三、咖啡，压抑副交感神经减低性欲；四、豆腐，植物雌激素减少精子数；五、奶茶，反式脂肪酸减少男性荷尔蒙；六、腰子，含有重金属镉。不是吃啥补啥！！http://t.cn/heDXfi\"]\n",
    "\n",
    "for i in val:\n",
    "    i = wordopt_cn(i)\n",
    "    i = ' '.join(jieba.cut(i))\n",
    "    i = remove_stopwords(i)\n",
    "    i = re.sub('\\\\s+', ' ', i)\n",
    "    \n",
    "    i = vectorizer.transform([i]).toarray()\n",
    "    print(ensemble.predict(i))"
   ],
   "metadata": {
    "collapsed": false,
    "ExecuteTime": {
     "end_time": "2023-11-27T13:58:58.298475100Z",
     "start_time": "2023-11-27T13:58:58.257557300Z"
    }
   },
   "id": "8246bd668b420315"
  },
  {
   "cell_type": "code",
   "execution_count": 16,
   "outputs": [
    {
     "data": {
      "text/plain": "['ensemble.pkl']"
     },
     "execution_count": 16,
     "metadata": {},
     "output_type": "execute_result"
    }
   ],
   "source": [
    "import joblib\n",
    "joblib.dump(ensemble, 'ensemble.pkl')"
   ],
   "metadata": {
    "collapsed": false,
    "ExecuteTime": {
     "end_time": "2023-11-27T13:58:59.844996200Z",
     "start_time": "2023-11-27T13:58:59.815846900Z"
    }
   },
   "id": "69e26048c830c56b"
  },
  {
   "cell_type": "code",
   "execution_count": 37,
   "outputs": [
    {
     "data": {
      "text/plain": "                                                   text  has_url  comments  \\\n0     蛔虫美女问世了：现在有一种减肥的方法，不用运动不用节食：吃蛔虫卵。服用蛔虫卵后，蛔虫卵会在人...    False       930   \n1                                传说中的麦当劳全国通用无线上网密码，真的吗？    False      1734   \n2     【“顶花”黄瓜或有猫腻，生长剂含避孕药】据青岛新闻网，顶着鲜艳黄花的黄瓜，通常在市场上受欢迎...     True       304   \n3     临沂市委书记奸淫上百幼女.....（燕赵都市网）.  原文出处http://sinaurl....     True       391   \n4     人们更容易对自己亲近的人发火，而不是他们讨厌的人。所谓亲近的人，就是大部分时间和他们在一起的...    False       290   \n...                                                 ...      ...       ...   \n1907  刚录完节目看到我的评论里大家都在讨论我穿平底鞋！！其实人家穿平底鞋是因为不想比小朋友高太多，...    False       296   \n1908  #自然堂全国路演随手拍#自然堂舞林争霸冠军果然是我喜欢的@张傲月 ，一路走来一直都非常支持他...    False       125   \n1909  #回龙观关注# 赶紧检查一下你家里的牙膏，如果是黑色条赶紧扔掉！买牙膏时注意牙膏管反面底部的...    False        25   \n1910  [这个一定要让大家知道！]： 大家買牙膏請留心,买牙膏时注意牙膏管反面底部的颜色条,今天才知...    False        39   \n1911  【KHUNTORIA三周年】2010.6.1——2013.6.1 <那些空气中洒满砂糖的日子...    False       137   \n\n      pics  likes        time  reposts                     mid      user_uid  \\\n0        0     52  1294197312     1121  2dKrhwqWBVm_1195031270  1.195031e+09   \n1        1     66  1297082614     9550  2dKrzuu3skL_1644395354  1.644395e+09   \n2        1   2285  1297757949     1082  2dKs1KOT8t0_1314608344  1.314608e+09   \n3        1    896  1292411740      753  2dKSSoZX2Sd_1300442112  1.300442e+09   \n4        1     20  1295580615     1654  2kiroqdeC1F_1764669250  1.764669e+09   \n...    ...    ...         ...      ...                     ...           ...   \n1907     1    183  1369929523       47    zzabOkjrC_1264341240  1.264341e+09   \n1908     1      1  1370178614      728    zzBmWlKN0_1725725780  1.725726e+09   \n1909     1      0  1370220117      103    zzFTHcFe1_1628595353  1.628595e+09   \n1910     1      3  1370010811      268    zzj3JohLU_2683002893  2.683003e+09   \n1911     1     59  1370015959      643    zzjCzqPhB_1875403532  1.875404e+09   \n\n     user_verified user_description user_gender  user_messages  \\\n0             True             True           m        27674.0   \n1            False             True           m        95429.0   \n2             True             True           m        56734.0   \n3             True             True           m         8227.0   \n4            False             True           f        43316.0   \n...            ...              ...         ...            ...   \n1907          True             True           f         3033.0   \n1908          True             True           f         3299.0   \n1909         False             True           m         1980.0   \n1910         False             True           f          743.0   \n1911         False             True           f         3800.0   \n\n      user_followers user_location     user_time  user_friends  \\\n0          6630484.0        北京 朝阳区  1.251448e+09         736.0   \n1         13495595.0         广东 广州  1.256241e+09         826.0   \n2         13891482.0        上海 闵行区  1.251449e+09         541.0   \n3            21246.0         江苏 南京  1.261308e+09        1376.0   \n4          1647102.0            海外  1.277104e+09         271.0   \n...              ...           ...           ...           ...   \n1907        546721.0         江苏 南京  1.270849e+09         824.0   \n1908        831629.0        北京 东城区  1.270517e+09        1211.0   \n1909          8491.0        北京 昌平区  1.251784e+09        1228.0   \n1910          2193.0         广东 深圳  1.332763e+09         135.0   \n1911         50379.0            其他  1.290752e+09          62.0   \n\n      user_verified_type user  \n0                    0.0  NaN  \n1                   -1.0  NaN  \n2                    3.0  NaN  \n3                    0.0  NaN  \n4                   -1.0  NaN  \n...                  ...  ...  \n1907                 0.0  NaN  \n1908                 0.0  NaN  \n1909                -1.0  NaN  \n1910                -1.0  NaN  \n1911                -1.0  NaN  \n\n[1912 rows x 19 columns]",
      "text/html": "<div>\n<style scoped>\n    .dataframe tbody tr th:only-of-type {\n        vertical-align: middle;\n    }\n\n    .dataframe tbody tr th {\n        vertical-align: top;\n    }\n\n    .dataframe thead th {\n        text-align: right;\n    }\n</style>\n<table border=\"1\" class=\"dataframe\">\n  <thead>\n    <tr style=\"text-align: right;\">\n      <th></th>\n      <th>text</th>\n      <th>has_url</th>\n      <th>comments</th>\n      <th>pics</th>\n      <th>likes</th>\n      <th>time</th>\n      <th>reposts</th>\n      <th>mid</th>\n      <th>user_uid</th>\n      <th>user_verified</th>\n      <th>user_description</th>\n      <th>user_gender</th>\n      <th>user_messages</th>\n      <th>user_followers</th>\n      <th>user_location</th>\n      <th>user_time</th>\n      <th>user_friends</th>\n      <th>user_verified_type</th>\n      <th>user</th>\n    </tr>\n  </thead>\n  <tbody>\n    <tr>\n      <th>0</th>\n      <td>蛔虫美女问世了：现在有一种减肥的方法，不用运动不用节食：吃蛔虫卵。服用蛔虫卵后，蛔虫卵会在人...</td>\n      <td>False</td>\n      <td>930</td>\n      <td>0</td>\n      <td>52</td>\n      <td>1294197312</td>\n      <td>1121</td>\n      <td>2dKrhwqWBVm_1195031270</td>\n      <td>1.195031e+09</td>\n      <td>True</td>\n      <td>True</td>\n      <td>m</td>\n      <td>27674.0</td>\n      <td>6630484.0</td>\n      <td>北京 朝阳区</td>\n      <td>1.251448e+09</td>\n      <td>736.0</td>\n      <td>0.0</td>\n      <td>NaN</td>\n    </tr>\n    <tr>\n      <th>1</th>\n      <td>传说中的麦当劳全国通用无线上网密码，真的吗？</td>\n      <td>False</td>\n      <td>1734</td>\n      <td>1</td>\n      <td>66</td>\n      <td>1297082614</td>\n      <td>9550</td>\n      <td>2dKrzuu3skL_1644395354</td>\n      <td>1.644395e+09</td>\n      <td>False</td>\n      <td>True</td>\n      <td>m</td>\n      <td>95429.0</td>\n      <td>13495595.0</td>\n      <td>广东 广州</td>\n      <td>1.256241e+09</td>\n      <td>826.0</td>\n      <td>-1.0</td>\n      <td>NaN</td>\n    </tr>\n    <tr>\n      <th>2</th>\n      <td>【“顶花”黄瓜或有猫腻，生长剂含避孕药】据青岛新闻网，顶着鲜艳黄花的黄瓜，通常在市场上受欢迎...</td>\n      <td>True</td>\n      <td>304</td>\n      <td>1</td>\n      <td>2285</td>\n      <td>1297757949</td>\n      <td>1082</td>\n      <td>2dKs1KOT8t0_1314608344</td>\n      <td>1.314608e+09</td>\n      <td>True</td>\n      <td>True</td>\n      <td>m</td>\n      <td>56734.0</td>\n      <td>13891482.0</td>\n      <td>上海 闵行区</td>\n      <td>1.251449e+09</td>\n      <td>541.0</td>\n      <td>3.0</td>\n      <td>NaN</td>\n    </tr>\n    <tr>\n      <th>3</th>\n      <td>临沂市委书记奸淫上百幼女.....（燕赵都市网）.  原文出处http://sinaurl....</td>\n      <td>True</td>\n      <td>391</td>\n      <td>1</td>\n      <td>896</td>\n      <td>1292411740</td>\n      <td>753</td>\n      <td>2dKSSoZX2Sd_1300442112</td>\n      <td>1.300442e+09</td>\n      <td>True</td>\n      <td>True</td>\n      <td>m</td>\n      <td>8227.0</td>\n      <td>21246.0</td>\n      <td>江苏 南京</td>\n      <td>1.261308e+09</td>\n      <td>1376.0</td>\n      <td>0.0</td>\n      <td>NaN</td>\n    </tr>\n    <tr>\n      <th>4</th>\n      <td>人们更容易对自己亲近的人发火，而不是他们讨厌的人。所谓亲近的人，就是大部分时间和他们在一起的...</td>\n      <td>False</td>\n      <td>290</td>\n      <td>1</td>\n      <td>20</td>\n      <td>1295580615</td>\n      <td>1654</td>\n      <td>2kiroqdeC1F_1764669250</td>\n      <td>1.764669e+09</td>\n      <td>False</td>\n      <td>True</td>\n      <td>f</td>\n      <td>43316.0</td>\n      <td>1647102.0</td>\n      <td>海外</td>\n      <td>1.277104e+09</td>\n      <td>271.0</td>\n      <td>-1.0</td>\n      <td>NaN</td>\n    </tr>\n    <tr>\n      <th>...</th>\n      <td>...</td>\n      <td>...</td>\n      <td>...</td>\n      <td>...</td>\n      <td>...</td>\n      <td>...</td>\n      <td>...</td>\n      <td>...</td>\n      <td>...</td>\n      <td>...</td>\n      <td>...</td>\n      <td>...</td>\n      <td>...</td>\n      <td>...</td>\n      <td>...</td>\n      <td>...</td>\n      <td>...</td>\n      <td>...</td>\n      <td>...</td>\n    </tr>\n    <tr>\n      <th>1907</th>\n      <td>刚录完节目看到我的评论里大家都在讨论我穿平底鞋！！其实人家穿平底鞋是因为不想比小朋友高太多，...</td>\n      <td>False</td>\n      <td>296</td>\n      <td>1</td>\n      <td>183</td>\n      <td>1369929523</td>\n      <td>47</td>\n      <td>zzabOkjrC_1264341240</td>\n      <td>1.264341e+09</td>\n      <td>True</td>\n      <td>True</td>\n      <td>f</td>\n      <td>3033.0</td>\n      <td>546721.0</td>\n      <td>江苏 南京</td>\n      <td>1.270849e+09</td>\n      <td>824.0</td>\n      <td>0.0</td>\n      <td>NaN</td>\n    </tr>\n    <tr>\n      <th>1908</th>\n      <td>#自然堂全国路演随手拍#自然堂舞林争霸冠军果然是我喜欢的@张傲月 ，一路走来一直都非常支持他...</td>\n      <td>False</td>\n      <td>125</td>\n      <td>1</td>\n      <td>1</td>\n      <td>1370178614</td>\n      <td>728</td>\n      <td>zzBmWlKN0_1725725780</td>\n      <td>1.725726e+09</td>\n      <td>True</td>\n      <td>True</td>\n      <td>f</td>\n      <td>3299.0</td>\n      <td>831629.0</td>\n      <td>北京 东城区</td>\n      <td>1.270517e+09</td>\n      <td>1211.0</td>\n      <td>0.0</td>\n      <td>NaN</td>\n    </tr>\n    <tr>\n      <th>1909</th>\n      <td>#回龙观关注# 赶紧检查一下你家里的牙膏，如果是黑色条赶紧扔掉！买牙膏时注意牙膏管反面底部的...</td>\n      <td>False</td>\n      <td>25</td>\n      <td>1</td>\n      <td>0</td>\n      <td>1370220117</td>\n      <td>103</td>\n      <td>zzFTHcFe1_1628595353</td>\n      <td>1.628595e+09</td>\n      <td>False</td>\n      <td>True</td>\n      <td>m</td>\n      <td>1980.0</td>\n      <td>8491.0</td>\n      <td>北京 昌平区</td>\n      <td>1.251784e+09</td>\n      <td>1228.0</td>\n      <td>-1.0</td>\n      <td>NaN</td>\n    </tr>\n    <tr>\n      <th>1910</th>\n      <td>[这个一定要让大家知道！]： 大家買牙膏請留心,买牙膏时注意牙膏管反面底部的颜色条,今天才知...</td>\n      <td>False</td>\n      <td>39</td>\n      <td>1</td>\n      <td>3</td>\n      <td>1370010811</td>\n      <td>268</td>\n      <td>zzj3JohLU_2683002893</td>\n      <td>2.683003e+09</td>\n      <td>False</td>\n      <td>True</td>\n      <td>f</td>\n      <td>743.0</td>\n      <td>2193.0</td>\n      <td>广东 深圳</td>\n      <td>1.332763e+09</td>\n      <td>135.0</td>\n      <td>-1.0</td>\n      <td>NaN</td>\n    </tr>\n    <tr>\n      <th>1911</th>\n      <td>【KHUNTORIA三周年】2010.6.1——2013.6.1 &lt;那些空气中洒满砂糖的日子...</td>\n      <td>False</td>\n      <td>137</td>\n      <td>1</td>\n      <td>59</td>\n      <td>1370015959</td>\n      <td>643</td>\n      <td>zzjCzqPhB_1875403532</td>\n      <td>1.875404e+09</td>\n      <td>False</td>\n      <td>True</td>\n      <td>f</td>\n      <td>3800.0</td>\n      <td>50379.0</td>\n      <td>其他</td>\n      <td>1.290752e+09</td>\n      <td>62.0</td>\n      <td>-1.0</td>\n      <td>NaN</td>\n    </tr>\n  </tbody>\n</table>\n<p>1912 rows × 19 columns</p>\n</div>"
     },
     "execution_count": 37,
     "metadata": {},
     "output_type": "execute_result"
    }
   ],
   "source": [
    "test_dir = './test/original-microblog'\n",
    "test_data_list = []\n",
    "for data in os.listdir(test_dir):\n",
    "    js = json.load(open(os.path.join(test_dir, data), encoding='utf-8'))\n",
    "    t = pd.json_normalize(js, sep='_')\n",
    "    t['mid'] = data.split('.')[0]\n",
    "    test_data_list.append(t)\n",
    "test_data = pd.concat(test_data_list, axis=0, ignore_index=True)\n",
    "test_data"
   ],
   "metadata": {
    "collapsed": false,
    "ExecuteTime": {
     "end_time": "2023-11-27T14:13:30.689339Z",
     "start_time": "2023-11-27T14:13:28.715410600Z"
    }
   },
   "id": "e8255b771296eb9d"
  },
  {
   "cell_type": "code",
   "execution_count": 38,
   "outputs": [
    {
     "data": {
      "text/plain": "                         mid  \\\n0     2dKrhwqWBVm_1195031270   \n1     2dKrzuu3skL_1644395354   \n2     2dKs1KOT8t0_1314608344   \n3     2dKSSoZX2Sd_1300442112   \n4     2kiroqdeC1F_1764669250   \n...                      ...   \n1907    zzabOkjrC_1264341240   \n1908    zzBmWlKN0_1725725780   \n1909    zzFTHcFe1_1628595353   \n1910    zzj3JohLU_2683002893   \n1911    zzjCzqPhB_1875403532   \n\n                                                   text  \n0     蛔虫美女问世了：现在有一种减肥的方法，不用运动不用节食：吃蛔虫卵。服用蛔虫卵后，蛔虫卵会在人...  \n1                                传说中的麦当劳全国通用无线上网密码，真的吗？  \n2     【“顶花”黄瓜或有猫腻，生长剂含避孕药】据青岛新闻网，顶着鲜艳黄花的黄瓜，通常在市场上受欢迎...  \n3     临沂市委书记奸淫上百幼女.....（燕赵都市网）.  原文出处http://sinaurl....  \n4     人们更容易对自己亲近的人发火，而不是他们讨厌的人。所谓亲近的人，就是大部分时间和他们在一起的...  \n...                                                 ...  \n1907  刚录完节目看到我的评论里大家都在讨论我穿平底鞋！！其实人家穿平底鞋是因为不想比小朋友高太多，...  \n1908  #自然堂全国路演随手拍#自然堂舞林争霸冠军果然是我喜欢的@张傲月 ，一路走来一直都非常支持他...  \n1909  #回龙观关注# 赶紧检查一下你家里的牙膏，如果是黑色条赶紧扔掉！买牙膏时注意牙膏管反面底部的...  \n1910  [这个一定要让大家知道！]： 大家買牙膏請留心,买牙膏时注意牙膏管反面底部的颜色条,今天才知...  \n1911  【KHUNTORIA三周年】2010.6.1——2013.6.1 <那些空气中洒满砂糖的日子...  \n\n[1912 rows x 2 columns]",
      "text/html": "<div>\n<style scoped>\n    .dataframe tbody tr th:only-of-type {\n        vertical-align: middle;\n    }\n\n    .dataframe tbody tr th {\n        vertical-align: top;\n    }\n\n    .dataframe thead th {\n        text-align: right;\n    }\n</style>\n<table border=\"1\" class=\"dataframe\">\n  <thead>\n    <tr style=\"text-align: right;\">\n      <th></th>\n      <th>mid</th>\n      <th>text</th>\n    </tr>\n  </thead>\n  <tbody>\n    <tr>\n      <th>0</th>\n      <td>2dKrhwqWBVm_1195031270</td>\n      <td>蛔虫美女问世了：现在有一种减肥的方法，不用运动不用节食：吃蛔虫卵。服用蛔虫卵后，蛔虫卵会在人...</td>\n    </tr>\n    <tr>\n      <th>1</th>\n      <td>2dKrzuu3skL_1644395354</td>\n      <td>传说中的麦当劳全国通用无线上网密码，真的吗？</td>\n    </tr>\n    <tr>\n      <th>2</th>\n      <td>2dKs1KOT8t0_1314608344</td>\n      <td>【“顶花”黄瓜或有猫腻，生长剂含避孕药】据青岛新闻网，顶着鲜艳黄花的黄瓜，通常在市场上受欢迎...</td>\n    </tr>\n    <tr>\n      <th>3</th>\n      <td>2dKSSoZX2Sd_1300442112</td>\n      <td>临沂市委书记奸淫上百幼女.....（燕赵都市网）.  原文出处http://sinaurl....</td>\n    </tr>\n    <tr>\n      <th>4</th>\n      <td>2kiroqdeC1F_1764669250</td>\n      <td>人们更容易对自己亲近的人发火，而不是他们讨厌的人。所谓亲近的人，就是大部分时间和他们在一起的...</td>\n    </tr>\n    <tr>\n      <th>...</th>\n      <td>...</td>\n      <td>...</td>\n    </tr>\n    <tr>\n      <th>1907</th>\n      <td>zzabOkjrC_1264341240</td>\n      <td>刚录完节目看到我的评论里大家都在讨论我穿平底鞋！！其实人家穿平底鞋是因为不想比小朋友高太多，...</td>\n    </tr>\n    <tr>\n      <th>1908</th>\n      <td>zzBmWlKN0_1725725780</td>\n      <td>#自然堂全国路演随手拍#自然堂舞林争霸冠军果然是我喜欢的@张傲月 ，一路走来一直都非常支持他...</td>\n    </tr>\n    <tr>\n      <th>1909</th>\n      <td>zzFTHcFe1_1628595353</td>\n      <td>#回龙观关注# 赶紧检查一下你家里的牙膏，如果是黑色条赶紧扔掉！买牙膏时注意牙膏管反面底部的...</td>\n    </tr>\n    <tr>\n      <th>1910</th>\n      <td>zzj3JohLU_2683002893</td>\n      <td>[这个一定要让大家知道！]： 大家買牙膏請留心,买牙膏时注意牙膏管反面底部的颜色条,今天才知...</td>\n    </tr>\n    <tr>\n      <th>1911</th>\n      <td>zzjCzqPhB_1875403532</td>\n      <td>【KHUNTORIA三周年】2010.6.1——2013.6.1 &lt;那些空气中洒满砂糖的日子...</td>\n    </tr>\n  </tbody>\n</table>\n<p>1912 rows × 2 columns</p>\n</div>"
     },
     "execution_count": 38,
     "metadata": {},
     "output_type": "execute_result"
    }
   ],
   "source": [
    "test_text = test_data[['mid', 'text']]\n",
    "test_text"
   ],
   "metadata": {
    "collapsed": false,
    "ExecuteTime": {
     "end_time": "2023-11-27T14:13:30.689339Z",
     "start_time": "2023-11-27T14:13:30.666674100Z"
    }
   },
   "id": "197ff240ff5319c2"
  },
  {
   "cell_type": "code",
   "execution_count": 39,
   "outputs": [],
   "source": [
    "with open('submission.csv', 'w', encoding='utf-8') as f:\n",
    "    f.write('id\\tlabel\\n')\n",
    "    for _, row in test_text.iterrows():\n",
    "        row['text'] = wordopt_cn(row['text'])\n",
    "        row['text'] = ' '.join(jieba.cut(row['text']))\n",
    "        row['text'] = remove_stopwords(row['text'])\n",
    "        row['text'] = re.sub('\\\\s+', ' ', row['text'])\n",
    "        if row['text'] == '':\n",
    "            f.write(f\"{row['mid']}\\t0\\n\")\n",
    "        else:\n",
    "            row['text'] = vectorizer.transform([row['text']]).toarray()\n",
    "            f.write(f\"{row['mid']}\\t{ensemble.predict(row['text'])[0]}\\n\")\n"
   ],
   "metadata": {
    "collapsed": false,
    "ExecuteTime": {
     "end_time": "2023-11-27T14:13:36.112984300Z",
     "start_time": "2023-11-27T14:13:30.673215600Z"
    }
   },
   "id": "27b70c9426466dbb"
  },
  {
   "cell_type": "code",
   "execution_count": null,
   "outputs": [],
   "source": [],
   "metadata": {
    "collapsed": false
   },
   "id": "c2e6b3128aed8b70"
  }
 ],
 "metadata": {
  "kernelspec": {
   "display_name": "Python 3",
   "language": "python",
   "name": "python3"
  },
  "language_info": {
   "codemirror_mode": {
    "name": "ipython",
    "version": 2
   },
   "file_extension": ".py",
   "mimetype": "text/x-python",
   "name": "python",
   "nbconvert_exporter": "python",
   "pygments_lexer": "ipython2",
   "version": "2.7.6"
  }
 },
 "nbformat": 4,
 "nbformat_minor": 5
}

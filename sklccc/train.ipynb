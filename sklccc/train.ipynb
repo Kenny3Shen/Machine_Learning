{
 "cells": [
  {
   "cell_type": "code",
   "execution_count": 1,
   "id": "initial_id",
   "metadata": {
    "collapsed": true,
    "ExecuteTime": {
     "end_time": "2023-12-18T16:23:23.982567500Z",
     "start_time": "2023-12-18T16:23:21.625388800Z"
    }
   },
   "outputs": [],
   "source": [
    "import pandas as pd\n",
    "import json\n",
    "import os\n",
    "\n",
    "from tokenizers import (\n",
    "    models,\n",
    "    normalizers,\n",
    "    pre_tokenizers,\n",
    "    trainers,\n",
    "    Tokenizer,\n",
    ")\n",
    "\n",
    "from datasets import Dataset\n",
    "from transformers import PreTrainedTokenizerFast\n",
    "from lightgbm import LGBMClassifier\n",
    "\n",
    "from sklearn.feature_extraction.text import TfidfVectorizer\n",
    "from sklearn.linear_model import SGDClassifier\n",
    "from sklearn.naive_bayes import MultinomialNB\n",
    "from sklearn.ensemble import VotingClassifier"
   ]
  },
  {
   "cell_type": "code",
   "execution_count": 2,
   "outputs": [],
   "source": [
    "dataset_dir = './train/original-microblog/'\n",
    "data_list = []\n",
    "for data in os.listdir(dataset_dir):\n",
    "    js = json.load(open(os.path.join(dataset_dir, data), encoding='utf-8'))\n",
    "    t = pd.json_normalize(js, sep='_')\n",
    "    data_list.append(t)\n",
    "df = pd.concat(data_list, axis=0, ignore_index=True)\n",
    "non_rumors_dir = './train/non-rumor-repost'\n",
    "rumors_dir = './train/rumor-repost'\n",
    "for data in os.listdir(non_rumors_dir):\n",
    "    mid = data.split('_')[0]\n",
    "    df.loc[df['mid'] == mid, 'is_rumor'] = 0\n",
    "for data in os.listdir(rumors_dir):\n",
    "    mid = data.split('_')[0]\n",
    "    df.loc[df['mid'] == mid, 'is_rumor'] = 1"
   ],
   "metadata": {
    "collapsed": false,
    "ExecuteTime": {
     "end_time": "2023-12-18T16:23:28.463876700Z",
     "start_time": "2023-12-18T16:23:23.990906400Z"
    }
   },
   "id": "262d5bc91aa1f580"
  },
  {
   "cell_type": "code",
   "execution_count": 3,
   "outputs": [
    {
     "name": "stderr",
     "output_type": "stream",
     "text": [
      "C:\\Users\\shens\\AppData\\Local\\Temp\\ipykernel_3860\\4241176104.py:2: SettingWithCopyWarning: \n",
      "A value is trying to be set on a copy of a slice from a DataFrame.\n",
      "Try using .loc[row_indexer,col_indexer] = value instead\n",
      "\n",
      "See the caveats in the documentation: https://pandas.pydata.org/pandas-docs/stable/user_guide/indexing.html#returning-a-view-versus-a-copy\n",
      "  train['is_rumor'] = train['is_rumor'].astype('int64')\n"
     ]
    },
    {
     "data": {
      "text/plain": "              mid                                               text  is_rumor\n0      1U6k8lMp1y  【为了孩子，请拒吃转基因食品！】印度某地的羊吃了棉花收获后的草杆后，四分之一的羊死了，约5到...         1\n1     2dKrkwjMIHC  【中国缺少这样的少年英雄。应进中学语文课本】因拆迁款等问题与家人上访的16岁少年赵明阳将一名...         0\n2     2dKrm0nZnZH  期待这一天的到来#元畅依晨#隐婚三年终于曝光。。。。。哈哈哈哈哈哈元畅依晨你们神马都不用说、...         1\n3     2dKs0ywFoob                                       懂得沙士比亞的計程車司機         0\n4     2dKsGplwDPR  【视频：陈佩斯主持《焦点访谈》】其实我们不知道，早期的《焦点访谈》曾经是由陈佩斯主持的，一开...         1\n...           ...                                                ...       ...\n4221    zzLQSkl9W  【四川绵阳市越狱46人 45男 1女 大多为90后 男性大多为强奸犯 女为杀人犯 南山下面一...         1\n4222    zzLSl4IL0  【“呵呵”——最恶心的聊天词汇，你中枪了么？】有人说，所有词语里最恶心的、最伤人的莫过于“呵...         0\n4223    zznk2uq5w  年轻时无论如何要确立一个目标。一克服懒惰消极靠目标。没目标就瞎混，一天到晚打牌玩游戏睡懒觉。...         0\n4224    zzTDJu6C4  牙膏底部的短线，绿色天然的。蓝色天然加药物，红色药物家化学，黑色纯化学。童鞋们~今后购买要记...         1\n4225    zzTQhvlSt  #每日一帖#[生活百科][生活常识]牙膏底部的短线，绿色天然的。蓝色天然加药物，红色药物加化...         1\n\n[4226 rows x 3 columns]",
      "text/html": "<div>\n<style scoped>\n    .dataframe tbody tr th:only-of-type {\n        vertical-align: middle;\n    }\n\n    .dataframe tbody tr th {\n        vertical-align: top;\n    }\n\n    .dataframe thead th {\n        text-align: right;\n    }\n</style>\n<table border=\"1\" class=\"dataframe\">\n  <thead>\n    <tr style=\"text-align: right;\">\n      <th></th>\n      <th>mid</th>\n      <th>text</th>\n      <th>is_rumor</th>\n    </tr>\n  </thead>\n  <tbody>\n    <tr>\n      <th>0</th>\n      <td>1U6k8lMp1y</td>\n      <td>【为了孩子，请拒吃转基因食品！】印度某地的羊吃了棉花收获后的草杆后，四分之一的羊死了，约5到...</td>\n      <td>1</td>\n    </tr>\n    <tr>\n      <th>1</th>\n      <td>2dKrkwjMIHC</td>\n      <td>【中国缺少这样的少年英雄。应进中学语文课本】因拆迁款等问题与家人上访的16岁少年赵明阳将一名...</td>\n      <td>0</td>\n    </tr>\n    <tr>\n      <th>2</th>\n      <td>2dKrm0nZnZH</td>\n      <td>期待这一天的到来#元畅依晨#隐婚三年终于曝光。。。。。哈哈哈哈哈哈元畅依晨你们神马都不用说、...</td>\n      <td>1</td>\n    </tr>\n    <tr>\n      <th>3</th>\n      <td>2dKs0ywFoob</td>\n      <td>懂得沙士比亞的計程車司機</td>\n      <td>0</td>\n    </tr>\n    <tr>\n      <th>4</th>\n      <td>2dKsGplwDPR</td>\n      <td>【视频：陈佩斯主持《焦点访谈》】其实我们不知道，早期的《焦点访谈》曾经是由陈佩斯主持的，一开...</td>\n      <td>1</td>\n    </tr>\n    <tr>\n      <th>...</th>\n      <td>...</td>\n      <td>...</td>\n      <td>...</td>\n    </tr>\n    <tr>\n      <th>4221</th>\n      <td>zzLQSkl9W</td>\n      <td>【四川绵阳市越狱46人 45男 1女 大多为90后 男性大多为强奸犯 女为杀人犯 南山下面一...</td>\n      <td>1</td>\n    </tr>\n    <tr>\n      <th>4222</th>\n      <td>zzLSl4IL0</td>\n      <td>【“呵呵”——最恶心的聊天词汇，你中枪了么？】有人说，所有词语里最恶心的、最伤人的莫过于“呵...</td>\n      <td>0</td>\n    </tr>\n    <tr>\n      <th>4223</th>\n      <td>zznk2uq5w</td>\n      <td>年轻时无论如何要确立一个目标。一克服懒惰消极靠目标。没目标就瞎混，一天到晚打牌玩游戏睡懒觉。...</td>\n      <td>0</td>\n    </tr>\n    <tr>\n      <th>4224</th>\n      <td>zzTDJu6C4</td>\n      <td>牙膏底部的短线，绿色天然的。蓝色天然加药物，红色药物家化学，黑色纯化学。童鞋们~今后购买要记...</td>\n      <td>1</td>\n    </tr>\n    <tr>\n      <th>4225</th>\n      <td>zzTQhvlSt</td>\n      <td>#每日一帖#[生活百科][生活常识]牙膏底部的短线，绿色天然的。蓝色天然加药物，红色药物加化...</td>\n      <td>1</td>\n    </tr>\n  </tbody>\n</table>\n<p>4226 rows × 3 columns</p>\n</div>"
     },
     "execution_count": 3,
     "metadata": {},
     "output_type": "execute_result"
    }
   ],
   "source": [
    "train = df[['mid', 'text', 'is_rumor']]\n",
    "train['is_rumor'] = train['is_rumor'].astype('int64')\n",
    "train"
   ],
   "metadata": {
    "collapsed": false,
    "ExecuteTime": {
     "end_time": "2023-12-18T16:23:28.476082900Z",
     "start_time": "2023-12-18T16:23:28.463876700Z"
    }
   },
   "id": "9743c7ca089c1008"
  },
  {
   "cell_type": "code",
   "execution_count": 4,
   "outputs": [],
   "source": [
    "from tqdm import tqdm\n",
    "rumors_dir = './train/rumor-repost'\n",
    "non_rumors_dir = './train/non-rumor-repost'\n",
    "for data in os.listdir(non_rumors_dir):\n",
    "    js = json.load(open(os.path.join(non_rumors_dir, data), encoding='utf-8'))\n",
    "    json_df = pd.json_normalize(js)\n",
    "    json_df = json_df[~json_df['text'].str.contains('转发') & (json_df['text'] != '')]\n",
    "    new_text = json_df['text'].str.cat(sep=' ')\n",
    "    train.loc[train['mid'] == data.split('_')[0], 'text'] += new_text\n",
    "for data in os.listdir(rumors_dir):\n",
    "    js = json.load(open(os.path.join(rumors_dir, data), encoding='utf-8'))\n",
    "    json_df = pd.json_normalize(js)\n",
    "    json_df = json_df[~json_df['text'].str.contains('转发') & (json_df['text'] != '')]\n",
    "    new_text = json_df['text'].str.cat(sep=' ')\n",
    "    train.loc[train['mid'] == data.split('_')[0], 'text'] += new_text\n"
   ],
   "metadata": {
    "collapsed": false,
    "ExecuteTime": {
     "end_time": "2023-12-18T16:23:52.387729100Z",
     "start_time": "2023-12-18T16:23:28.477084200Z"
    }
   },
   "id": "fc0413bedda241c5"
  },
  {
   "cell_type": "code",
   "execution_count": 5,
   "outputs": [],
   "source": [
    "def get_stopword():\n",
    "    stopwords = []\n",
    "    with open('baidu_stopwords.txt', 'r', encoding='utf-8') as f:\n",
    "        for line in f.readlines():\n",
    "            stopwords.append(line.strip())\n",
    "   \n",
    "    stopwords = list(set(stopwords))\n",
    "    return stopwords\n"
   ],
   "metadata": {
    "collapsed": false,
    "ExecuteTime": {
     "end_time": "2023-12-18T16:23:52.393591Z",
     "start_time": "2023-12-18T16:23:52.388728800Z"
    }
   },
   "id": "c1ee4db9a3ad167e"
  },
  {
   "cell_type": "code",
   "execution_count": 6,
   "outputs": [
    {
     "name": "stderr",
     "output_type": "stream",
     "text": [
      "Building prefix dict from the default dictionary ...\n",
      "Dumping model to file cache C:\\Users\\shens\\AppData\\Local\\Temp\\jieba.cache\n",
      "Loading model cost 0.715 seconds.\n",
      "Prefix dict has been built successfully.\n"
     ]
    }
   ],
   "source": [
    "import jieba\n",
    "import re\n",
    "\n",
    "def wordopt_cn(text):\n",
    "    # only chinese characters\n",
    "    pattern = re.compile(r'[^\\u4e00-\\u9fa5]')\n",
    "    chinese_txt = re.sub(pattern, '', text)\n",
    "    return str(chinese_txt)\n",
    "\n",
    "\n",
    "stopwords = get_stopword()\n",
    "stopwords.append('年')\n",
    "stopwords.append('月')\n",
    "stopwords.append('日')\n",
    "stopwords.append('日日')\n",
    "stopwords.append('年月')\n",
    "stopwords.append('月日')\n",
    "stopwords.append('年月日')\n",
    "stopwords.append('回复')\n",
    "stopwords.append('关注')\n",
    "\n",
    "def remove_stopwords(text):\n",
    "    words = text.split()\n",
    "    words = [word for word in words if word not in stopwords]\n",
    "    return ' '.join(words)\n",
    "\n",
    "\n",
    "train_copy = train.copy()\n",
    "train_copy['text'] = train_copy['text'].apply(wordopt_cn)\n",
    "train_copy['text'] = train_copy['text'].apply(lambda x: ' '.join(jieba.cut(x)))\n",
    "train_copy['text'] = train_copy['text'].apply(remove_stopwords)\n",
    "train_copy['text'] = train_copy['text'].apply(lambda x: re.sub('\\\\s+', ' ', x))\n",
    "train_copy.drop(train_copy[train_copy['text'] == ''].index, inplace=True)\n",
    "train = train_copy\n"
   ],
   "metadata": {
    "collapsed": false,
    "ExecuteTime": {
     "end_time": "2023-12-18T16:27:57.420099600Z",
     "start_time": "2023-12-18T16:23:52.395962300Z"
    }
   },
   "id": "21688729c2523739"
  },
  {
   "cell_type": "code",
   "execution_count": 7,
   "outputs": [
    {
     "name": "stderr",
     "output_type": "stream",
     "text": [
      "100%|██████████| 1912/1912 [00:07<00:00, 257.86it/s]\n"
     ]
    }
   ],
   "source": [
    "test_dir = './test/original-microblog'\n",
    "test_data_list = []\n",
    "for data in os.listdir(test_dir):\n",
    "    js = json.load(open(os.path.join(test_dir, data), encoding='utf-8'))\n",
    "    t = pd.json_normalize(js, sep='_')\n",
    "    t['mid'] = data.split('.')[0]\n",
    "    test_data_list.append(t)\n",
    "test_data = pd.concat(test_data_list, axis=0, ignore_index=True)\n",
    "\n",
    "test = test_data[['mid', 'text']]\n",
    "test_repost_dir = './test/repost'\n",
    "for data in tqdm(os.listdir(test_repost_dir)):\n",
    "    js = json.load(open(os.path.join(test_repost_dir, data), encoding='utf-8'))\n",
    "    json_df = pd.json_normalize(js)\n",
    "    json_df = json_df[~json_df['text'].str.contains('转发') & (json_df['text'] != '')]\n",
    "    new_text = json_df['text'].str.cat(sep=' ')\n",
    "    test.loc[test['mid'] == data.split('.')[0], 'text'] += new_text"
   ],
   "metadata": {
    "collapsed": false,
    "ExecuteTime": {
     "end_time": "2023-12-18T16:28:06.610096600Z",
     "start_time": "2023-12-18T16:27:57.423508900Z"
    }
   },
   "id": "f7aee685cdd3385e"
  },
  {
   "cell_type": "code",
   "execution_count": 8,
   "outputs": [
    {
     "name": "stderr",
     "output_type": "stream",
     "text": [
      "C:\\Users\\shens\\AppData\\Local\\Temp\\ipykernel_3860\\2587139371.py:8: SettingWithCopyWarning: \n",
      "A value is trying to be set on a copy of a slice from a DataFrame.\n",
      "Try using .loc[row_indexer,col_indexer] = value instead\n",
      "\n",
      "See the caveats in the documentation: https://pandas.pydata.org/pandas-docs/stable/user_guide/indexing.html#returning-a-view-versus-a-copy\n",
      "  test['text'] = test['text'].apply(process_text)\n"
     ]
    }
   ],
   "source": [
    "def process_text(text):\n",
    "    text = wordopt_cn(text)\n",
    "    text = ' '.join(jieba.cut(text))\n",
    "    text = remove_stopwords(text)\n",
    "    text = re.sub('\\\\s+', ' ', text)\n",
    "    return text\n",
    "\n",
    "test['text'] = test['text'].apply(process_text)\n",
    "\n",
    "test.to_csv('./test.csv', index=False)"
   ],
   "metadata": {
    "collapsed": false,
    "ExecuteTime": {
     "end_time": "2023-12-18T16:29:15.325741900Z",
     "start_time": "2023-12-18T16:28:06.606990100Z"
    }
   },
   "id": "bf718e04c31ac5"
  },
  {
   "cell_type": "code",
   "execution_count": 9,
   "outputs": [],
   "source": [
    "LOWERCASE = False\n",
    "VOCAB_SIZE = 228293"
   ],
   "metadata": {
    "collapsed": false,
    "ExecuteTime": {
     "end_time": "2023-12-18T16:29:15.326274500Z",
     "start_time": "2023-12-18T16:29:15.323028100Z"
    }
   },
   "id": "35f179b6df8fe071"
  },
  {
   "cell_type": "code",
   "execution_count": 10,
   "outputs": [
    {
     "name": "stderr",
     "output_type": "stream",
     "text": [
      "100%|██████████| 1912/1912 [00:06<00:00, 285.01it/s]\n",
      "100%|██████████| 4226/4226 [00:14<00:00, 282.03it/s]\n"
     ]
    }
   ],
   "source": [
    "raw_tokenizer = Tokenizer(models.BPE(unk_token=\"[UNK]\"))\n",
    "raw_tokenizer.normalizer = normalizers.Sequence([normalizers.NFC()] + [normalizers.Lowercase()] if LOWERCASE else [])\n",
    "raw_tokenizer.pre_tokenizer = pre_tokenizers.ByteLevel()\n",
    "\n",
    "special_tokens = [\"[UNK]\", \"[PAD]\", \"[CLS]\", \"[SEP]\", \"[MASK]\"]\n",
    "trainer = trainers.BpeTrainer(vocab_size=VOCAB_SIZE, special_tokens=special_tokens)\n",
    "\n",
    "dataset = Dataset.from_pandas(test[['text']])\n",
    "\n",
    "\n",
    "def train_corp_iter():\n",
    "    for i in range(0, len(dataset), 1000):\n",
    "        yield dataset[i: i + 1000][\"text\"]\n",
    "\n",
    "\n",
    "raw_tokenizer.train_from_iterator(train_corp_iter(), trainer=trainer)\n",
    "tokenizer = PreTrainedTokenizerFast(\n",
    "    tokenizer_object=raw_tokenizer,\n",
    "    unk_token=\"[UNK]\",\n",
    "    pad_token=\"[PAD]\",\n",
    "    cls_token=\"[CLS]\",\n",
    "    sep_token=\"[SEP]\",\n",
    "    mask_token=\"[MASK]\",\n",
    ")\n",
    "tokenized_texts_test = []\n",
    "\n",
    "for text in tqdm(test['text'].tolist()):\n",
    "    tokenized_texts_test.append(tokenizer.tokenize(text))\n",
    "\n",
    "tokenized_texts_train = []\n",
    "\n",
    "for text in tqdm(train['text'].tolist()):\n",
    "    tokenized_texts_train.append(tokenizer.tokenize(text))"
   ],
   "metadata": {
    "collapsed": false,
    "ExecuteTime": {
     "end_time": "2023-12-18T16:29:40.809372600Z",
     "start_time": "2023-12-18T16:29:15.327846900Z"
    }
   },
   "id": "d6003fae9fb58499"
  },
  {
   "cell_type": "code",
   "execution_count": 11,
   "outputs": [],
   "source": [
    "def dummy(text):\n",
    "    return text\n",
    "\n",
    "\n",
    "vectorizer = TfidfVectorizer(lowercase=False, sublinear_tf=True, analyzer='word',\n",
    "                             tokenizer=dummy,\n",
    "                             preprocessor=dummy,\n",
    "                             token_pattern=None, strip_accents='unicode'\n",
    "                             )\n",
    "\n",
    "vectorizer.fit(tokenized_texts_test)\n",
    "\n",
    "vocab = vectorizer.vocabulary_\n",
    "\n",
    "vectorizer = TfidfVectorizer(lowercase=False, sublinear_tf=True, vocabulary=vocab,\n",
    "                             analyzer='word',\n",
    "                             tokenizer=dummy,\n",
    "                             preprocessor=dummy,\n",
    "                             token_pattern=None, strip_accents='unicode'\n",
    "                             )\n",
    "\n",
    "X_train = vectorizer.fit_transform(tokenized_texts_train)\n"
   ],
   "metadata": {
    "collapsed": false,
    "ExecuteTime": {
     "end_time": "2023-12-18T16:29:43.439792500Z",
     "start_time": "2023-12-18T16:29:40.811629400Z"
    }
   },
   "id": "43eb898cedbc87db"
  },
  {
   "cell_type": "code",
   "execution_count": 14,
   "outputs": [
    {
     "name": "stdout",
     "output_type": "stream",
     "text": [
      "206418\n"
     ]
    }
   ],
   "source": [
    "print(len(vocab))"
   ],
   "metadata": {
    "collapsed": false,
    "ExecuteTime": {
     "end_time": "2023-12-18T16:30:05.990132500Z",
     "start_time": "2023-12-18T16:30:05.984868Z"
    }
   },
   "id": "9092b662de8946c5"
  },
  {
   "cell_type": "code",
   "execution_count": 12,
   "outputs": [],
   "source": [
    "clf = MultinomialNB(alpha=0.02)\n",
    "sgd_model = SGDClassifier(max_iter=8000, tol=1e-4, loss=\"modified_huber\")\n",
    "p6 = {'n_iter': 1500, 'verbose': -1, 'objective': 'binary', 'metric': 'auc', 'learning_rate': 0.05073909898961407,\n",
    "      'colsample_bytree': 0.726023996436955, 'colsample_bynode': 0.5803681307354022, 'lambda_l1': 8.562963348932286,\n",
    "      'lambda_l2': 4.893256185259296, 'min_data_in_leaf': 115, 'max_depth': 23, 'max_bin': 898}\n",
    "lgb = LGBMClassifier(**p6)\n",
    "\n",
    "# Creating the ensemble model\n",
    "ensemble = VotingClassifier(estimators=[\n",
    "    ('mnb', clf),\n",
    "    ('sgd', sgd_model),\n",
    "    ('lgb', lgb)],\n",
    "    weights=[0.1, 0.45, 0.45],\n",
    "    voting='soft',\n",
    "    n_jobs=-1)"
   ],
   "metadata": {
    "collapsed": false,
    "ExecuteTime": {
     "end_time": "2023-12-18T16:29:43.445217Z",
     "start_time": "2023-12-18T16:29:43.439792500Z"
    }
   },
   "id": "b2aec0b08d507c05"
  },
  {
   "cell_type": "code",
   "execution_count": 13,
   "outputs": [
    {
     "data": {
      "text/plain": "VotingClassifier(estimators=[('mnb', MultinomialNB(alpha=0.02)),\n                             ('sgd',\n                              SGDClassifier(loss='modified_huber',\n                                            max_iter=8000, tol=0.0001)),\n                             ('lgb',\n                              LGBMClassifier(colsample_bynode=0.5803681307354022,\n                                             colsample_bytree=0.726023996436955,\n                                             lambda_l1=8.562963348932286,\n                                             lambda_l2=4.893256185259296,\n                                             learning_rate=0.05073909898961407,\n                                             max_bin=898, max_depth=23,\n                                             metric='auc', min_data_in_leaf=115,\n                                             n_iter=1500, objective='binary',\n                                             verbose=-1))],\n                 n_jobs=-1, voting='soft', weights=[0.1, 0.45, 0.45])",
      "text/html": "<style>#sk-container-id-1 {color: black;}#sk-container-id-1 pre{padding: 0;}#sk-container-id-1 div.sk-toggleable {background-color: white;}#sk-container-id-1 label.sk-toggleable__label {cursor: pointer;display: block;width: 100%;margin-bottom: 0;padding: 0.3em;box-sizing: border-box;text-align: center;}#sk-container-id-1 label.sk-toggleable__label-arrow:before {content: \"▸\";float: left;margin-right: 0.25em;color: #696969;}#sk-container-id-1 label.sk-toggleable__label-arrow:hover:before {color: black;}#sk-container-id-1 div.sk-estimator:hover label.sk-toggleable__label-arrow:before {color: black;}#sk-container-id-1 div.sk-toggleable__content {max-height: 0;max-width: 0;overflow: hidden;text-align: left;background-color: #f0f8ff;}#sk-container-id-1 div.sk-toggleable__content pre {margin: 0.2em;color: black;border-radius: 0.25em;background-color: #f0f8ff;}#sk-container-id-1 input.sk-toggleable__control:checked~div.sk-toggleable__content {max-height: 200px;max-width: 100%;overflow: auto;}#sk-container-id-1 input.sk-toggleable__control:checked~label.sk-toggleable__label-arrow:before {content: \"▾\";}#sk-container-id-1 div.sk-estimator input.sk-toggleable__control:checked~label.sk-toggleable__label {background-color: #d4ebff;}#sk-container-id-1 div.sk-label input.sk-toggleable__control:checked~label.sk-toggleable__label {background-color: #d4ebff;}#sk-container-id-1 input.sk-hidden--visually {border: 0;clip: rect(1px 1px 1px 1px);clip: rect(1px, 1px, 1px, 1px);height: 1px;margin: -1px;overflow: hidden;padding: 0;position: absolute;width: 1px;}#sk-container-id-1 div.sk-estimator {font-family: monospace;background-color: #f0f8ff;border: 1px dotted black;border-radius: 0.25em;box-sizing: border-box;margin-bottom: 0.5em;}#sk-container-id-1 div.sk-estimator:hover {background-color: #d4ebff;}#sk-container-id-1 div.sk-parallel-item::after {content: \"\";width: 100%;border-bottom: 1px solid gray;flex-grow: 1;}#sk-container-id-1 div.sk-label:hover label.sk-toggleable__label {background-color: #d4ebff;}#sk-container-id-1 div.sk-serial::before {content: \"\";position: absolute;border-left: 1px solid gray;box-sizing: border-box;top: 0;bottom: 0;left: 50%;z-index: 0;}#sk-container-id-1 div.sk-serial {display: flex;flex-direction: column;align-items: center;background-color: white;padding-right: 0.2em;padding-left: 0.2em;position: relative;}#sk-container-id-1 div.sk-item {position: relative;z-index: 1;}#sk-container-id-1 div.sk-parallel {display: flex;align-items: stretch;justify-content: center;background-color: white;position: relative;}#sk-container-id-1 div.sk-item::before, #sk-container-id-1 div.sk-parallel-item::before {content: \"\";position: absolute;border-left: 1px solid gray;box-sizing: border-box;top: 0;bottom: 0;left: 50%;z-index: -1;}#sk-container-id-1 div.sk-parallel-item {display: flex;flex-direction: column;z-index: 1;position: relative;background-color: white;}#sk-container-id-1 div.sk-parallel-item:first-child::after {align-self: flex-end;width: 50%;}#sk-container-id-1 div.sk-parallel-item:last-child::after {align-self: flex-start;width: 50%;}#sk-container-id-1 div.sk-parallel-item:only-child::after {width: 0;}#sk-container-id-1 div.sk-dashed-wrapped {border: 1px dashed gray;margin: 0 0.4em 0.5em 0.4em;box-sizing: border-box;padding-bottom: 0.4em;background-color: white;}#sk-container-id-1 div.sk-label label {font-family: monospace;font-weight: bold;display: inline-block;line-height: 1.2em;}#sk-container-id-1 div.sk-label-container {text-align: center;}#sk-container-id-1 div.sk-container {/* jupyter's `normalize.less` sets `[hidden] { display: none; }` but bootstrap.min.css set `[hidden] { display: none !important; }` so we also need the `!important` here to be able to override the default hidden behavior on the sphinx rendered scikit-learn.org. See: https://github.com/scikit-learn/scikit-learn/issues/21755 */display: inline-block !important;position: relative;}#sk-container-id-1 div.sk-text-repr-fallback {display: none;}</style><div id=\"sk-container-id-1\" class=\"sk-top-container\"><div class=\"sk-text-repr-fallback\"><pre>VotingClassifier(estimators=[(&#x27;mnb&#x27;, MultinomialNB(alpha=0.02)),\n                             (&#x27;sgd&#x27;,\n                              SGDClassifier(loss=&#x27;modified_huber&#x27;,\n                                            max_iter=8000, tol=0.0001)),\n                             (&#x27;lgb&#x27;,\n                              LGBMClassifier(colsample_bynode=0.5803681307354022,\n                                             colsample_bytree=0.726023996436955,\n                                             lambda_l1=8.562963348932286,\n                                             lambda_l2=4.893256185259296,\n                                             learning_rate=0.05073909898961407,\n                                             max_bin=898, max_depth=23,\n                                             metric=&#x27;auc&#x27;, min_data_in_leaf=115,\n                                             n_iter=1500, objective=&#x27;binary&#x27;,\n                                             verbose=-1))],\n                 n_jobs=-1, voting=&#x27;soft&#x27;, weights=[0.1, 0.45, 0.45])</pre><b>In a Jupyter environment, please rerun this cell to show the HTML representation or trust the notebook. <br />On GitHub, the HTML representation is unable to render, please try loading this page with nbviewer.org.</b></div><div class=\"sk-container\" hidden><div class=\"sk-item sk-dashed-wrapped\"><div class=\"sk-label-container\"><div class=\"sk-label sk-toggleable\"><input class=\"sk-toggleable__control sk-hidden--visually\" id=\"sk-estimator-id-1\" type=\"checkbox\" ><label for=\"sk-estimator-id-1\" class=\"sk-toggleable__label sk-toggleable__label-arrow\">VotingClassifier</label><div class=\"sk-toggleable__content\"><pre>VotingClassifier(estimators=[(&#x27;mnb&#x27;, MultinomialNB(alpha=0.02)),\n                             (&#x27;sgd&#x27;,\n                              SGDClassifier(loss=&#x27;modified_huber&#x27;,\n                                            max_iter=8000, tol=0.0001)),\n                             (&#x27;lgb&#x27;,\n                              LGBMClassifier(colsample_bynode=0.5803681307354022,\n                                             colsample_bytree=0.726023996436955,\n                                             lambda_l1=8.562963348932286,\n                                             lambda_l2=4.893256185259296,\n                                             learning_rate=0.05073909898961407,\n                                             max_bin=898, max_depth=23,\n                                             metric=&#x27;auc&#x27;, min_data_in_leaf=115,\n                                             n_iter=1500, objective=&#x27;binary&#x27;,\n                                             verbose=-1))],\n                 n_jobs=-1, voting=&#x27;soft&#x27;, weights=[0.1, 0.45, 0.45])</pre></div></div></div><div class=\"sk-parallel\"><div class=\"sk-parallel-item\"><div class=\"sk-item\"><div class=\"sk-label-container\"><div class=\"sk-label sk-toggleable\"><label>mnb</label></div></div><div class=\"sk-serial\"><div class=\"sk-item\"><div class=\"sk-estimator sk-toggleable\"><input class=\"sk-toggleable__control sk-hidden--visually\" id=\"sk-estimator-id-2\" type=\"checkbox\" ><label for=\"sk-estimator-id-2\" class=\"sk-toggleable__label sk-toggleable__label-arrow\">MultinomialNB</label><div class=\"sk-toggleable__content\"><pre>MultinomialNB(alpha=0.02)</pre></div></div></div></div></div></div><div class=\"sk-parallel-item\"><div class=\"sk-item\"><div class=\"sk-label-container\"><div class=\"sk-label sk-toggleable\"><label>sgd</label></div></div><div class=\"sk-serial\"><div class=\"sk-item\"><div class=\"sk-estimator sk-toggleable\"><input class=\"sk-toggleable__control sk-hidden--visually\" id=\"sk-estimator-id-3\" type=\"checkbox\" ><label for=\"sk-estimator-id-3\" class=\"sk-toggleable__label sk-toggleable__label-arrow\">SGDClassifier</label><div class=\"sk-toggleable__content\"><pre>SGDClassifier(loss=&#x27;modified_huber&#x27;, max_iter=8000, tol=0.0001)</pre></div></div></div></div></div></div><div class=\"sk-parallel-item\"><div class=\"sk-item\"><div class=\"sk-label-container\"><div class=\"sk-label sk-toggleable\"><label>lgb</label></div></div><div class=\"sk-serial\"><div class=\"sk-item\"><div class=\"sk-estimator sk-toggleable\"><input class=\"sk-toggleable__control sk-hidden--visually\" id=\"sk-estimator-id-4\" type=\"checkbox\" ><label for=\"sk-estimator-id-4\" class=\"sk-toggleable__label sk-toggleable__label-arrow\">LGBMClassifier</label><div class=\"sk-toggleable__content\"><pre>LGBMClassifier(colsample_bynode=0.5803681307354022,\n               colsample_bytree=0.726023996436955, lambda_l1=8.562963348932286,\n               lambda_l2=4.893256185259296, learning_rate=0.05073909898961407,\n               max_bin=898, max_depth=23, metric=&#x27;auc&#x27;, min_data_in_leaf=115,\n               n_iter=1500, objective=&#x27;binary&#x27;, verbose=-1)</pre></div></div></div></div></div></div></div></div></div></div>"
     },
     "execution_count": 13,
     "metadata": {},
     "output_type": "execute_result"
    }
   ],
   "source": [
    "Y_train = train['is_rumor'].values\n",
    "ensemble.fit(X_train, Y_train)"
   ],
   "metadata": {
    "collapsed": false,
    "ExecuteTime": {
     "end_time": "2023-12-18T16:30:00.032514600Z",
     "start_time": "2023-12-18T16:29:43.446161400Z"
    }
   },
   "id": "5678ece8ebfd1de6"
  },
  {
   "cell_type": "code",
   "execution_count": 13,
   "outputs": [],
   "source": [],
   "metadata": {
    "collapsed": false,
    "ExecuteTime": {
     "end_time": "2023-12-18T16:30:00.036717Z",
     "start_time": "2023-12-18T16:30:00.034206200Z"
    }
   },
   "id": "8a9d6f3bee861ef8"
  }
 ],
 "metadata": {
  "kernelspec": {
   "display_name": "Python 3",
   "language": "python",
   "name": "python3"
  },
  "language_info": {
   "codemirror_mode": {
    "name": "ipython",
    "version": 2
   },
   "file_extension": ".py",
   "mimetype": "text/x-python",
   "name": "python",
   "nbconvert_exporter": "python",
   "pygments_lexer": "ipython2",
   "version": "2.7.6"
  }
 },
 "nbformat": 4,
 "nbformat_minor": 5
}

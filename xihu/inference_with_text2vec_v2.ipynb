{
 "cells": [
  {
   "cell_type": "code",
   "execution_count": 14,
   "id": "initial_id",
   "metadata": {
    "collapsed": true,
    "ExecuteTime": {
     "end_time": "2024-03-25T07:53:11.857684Z",
     "start_time": "2024-03-25T07:53:09.703703Z"
    }
   },
   "outputs": [],
   "source": [
    "import joblib\n",
    "import re\n",
    "import string\n",
    "import jieba\n",
    "import pandas as pd\n",
    "from tokenizers import (\n",
    "    models,\n",
    "    normalizers,\n",
    "    pre_tokenizers,\n",
    "    trainers,\n",
    "    Tokenizer,\n",
    ")\n",
    "\n",
    "from datasets import Dataset\n",
    "from tqdm import tqdm\n",
    "tqdm.pandas()\n",
    "from transformers import PreTrainedTokenizerFast\n",
    "from sklearn.metrics import accuracy_score, precision_score, recall_score, f1_score"
   ]
  },
  {
   "cell_type": "code",
   "outputs": [],
   "source": [
    "# 请修改测试集文件名\n",
    "test_dir = 'test.csv'"
   ],
   "metadata": {
    "collapsed": false
   },
   "id": "ca7314ef3715ac2d",
   "execution_count": 15
  },
  {
   "cell_type": "code",
   "outputs": [],
   "source": [
    "# 如测试集中不存在topic列，请使用 test = df[['content']]\n",
    "df = pd.read_csv(test_dir)\n",
    "test = df[['url','content', 'topic']]\n",
    "#test = df[['content']]"
   ],
   "metadata": {
    "collapsed": false,
    "ExecuteTime": {
     "end_time": "2024-03-25T07:53:15.956810Z",
     "start_time": "2024-03-25T07:53:14.751133Z"
    }
   },
   "id": "ff5e9472577941ce",
   "execution_count": 16
  },
  {
   "cell_type": "code",
   "outputs": [
    {
     "data": {
      "text/plain": "                                                    url  \\\n123            https://www.ximalaya.com/sound/611072245   \n2723  https://m.gmw.cn/2023-12/25/content_1303611500...   \n2859           https://www.ximalaya.com/sound/592093182   \n\n                                                content  topic  \n123   China aims to increase the share of electric v...      2  \n2723  е…ЁйғЁеҜјиҲӘж—¶ж”ҝеӣҪеҶ…еӣҪйҷ…иҙўз»ҸзӨҫдјҡеЁұд...     18  \n2859  China will launch the three astronauts of theS...     19  ",
      "text/html": "<div>\n<style scoped>\n    .dataframe tbody tr th:only-of-type {\n        vertical-align: middle;\n    }\n\n    .dataframe tbody tr th {\n        vertical-align: top;\n    }\n\n    .dataframe thead th {\n        text-align: right;\n    }\n</style>\n<table border=\"1\" class=\"dataframe\">\n  <thead>\n    <tr style=\"text-align: right;\">\n      <th></th>\n      <th>url</th>\n      <th>content</th>\n      <th>topic</th>\n    </tr>\n  </thead>\n  <tbody>\n    <tr>\n      <th>123</th>\n      <td>https://www.ximalaya.com/sound/611072245</td>\n      <td>China aims to increase the share of electric v...</td>\n      <td>2</td>\n    </tr>\n    <tr>\n      <th>2723</th>\n      <td>https://m.gmw.cn/2023-12/25/content_1303611500...</td>\n      <td>е…ЁйғЁеҜјиҲӘж—¶ж”ҝеӣҪеҶ…еӣҪйҷ…иҙўз»ҸзӨҫдјҡеЁұд...</td>\n      <td>18</td>\n    </tr>\n    <tr>\n      <th>2859</th>\n      <td>https://www.ximalaya.com/sound/592093182</td>\n      <td>China will launch the three astronauts of theS...</td>\n      <td>19</td>\n    </tr>\n  </tbody>\n</table>\n</div>"
     },
     "execution_count": 17,
     "metadata": {},
     "output_type": "execute_result"
    }
   ],
   "source": [
    "non_chinese_content = test[~test['content'].str.contains(r'[\\u4e00-\\u9fff]')]\n",
    "non_chinese_content"
   ],
   "metadata": {
    "collapsed": false,
    "ExecuteTime": {
     "end_time": "2024-03-25T07:53:19.158894Z",
     "start_time": "2024-03-25T07:53:19.053227Z"
    }
   },
   "id": "3ad3b9b1b25b7e25",
   "execution_count": 17
  },
  {
   "cell_type": "code",
   "outputs": [],
   "source": [
    "import requests\n",
    "\n",
    "# DeepL API endpoint\n",
    "DEEPL_API_URL = \"https://api-free.deepl.com/v2/translate\"\n",
    "\n",
    "DEEPL_API_KEY = \"67e30ce8-6c20-49a9-917b-fc252b83adff:fx\"\n",
    "\n",
    "\n",
    "def translate_text(text, target_lang=\"ZH\"):\n",
    "    \"\"\"\n",
    "    使用DeepL API翻译文本\n",
    "\n",
    "    Args:\n",
    "        text (str): 需要翻译的中文文本\n",
    "        target_lang (str): 目标语言代码，默认为英语\"EN\"\n",
    "\n",
    "    Returns:\n",
    "        str: 翻译后的文本\n",
    "    \"\"\"\n",
    "    params = {\n",
    "        \"auth_key\": DEEPL_API_KEY,\n",
    "        \"text\": text,\n",
    "        \"target_lang\": target_lang,\n",
    "        \"source_lang\": \"EN\"  # 指定源语言为中文\n",
    "    }\n",
    "\n",
    "    response = requests.post(DEEPL_API_URL, data=params)\n",
    "    response_json = response.json()\n",
    "\n",
    "    # 返回翻译结果\n",
    "    return response_json[\"translations\"][0][\"text\"] if response.status_code == 200 else None"
   ],
   "metadata": {
    "collapsed": false,
    "ExecuteTime": {
     "end_time": "2024-03-25T07:53:19.175635Z",
     "start_time": "2024-03-25T07:53:19.163057Z"
    }
   },
   "id": "26911a84ee105ae5",
   "execution_count": 18
  },
  {
   "cell_type": "code",
   "outputs": [
    {
     "name": "stderr",
     "output_type": "stream",
     "text": [
      "100%|██████████| 3/3 [00:08<00:00,  2.77s/it]\n",
      "C:\\Users\\shens\\AppData\\Local\\Temp\\ipykernel_465440\\2227448705.py:1: SettingWithCopyWarning: \n",
      "A value is trying to be set on a copy of a slice from a DataFrame.\n",
      "Try using .loc[row_indexer,col_indexer] = value instead\n",
      "\n",
      "See the caveats in the documentation: https://pandas.pydata.org/pandas-docs/stable/user_guide/indexing.html#returning-a-view-versus-a-copy\n",
      "  non_chinese_content['content'] = non_chinese_content['content'].progress_apply(translate_text)\n"
     ]
    },
    {
     "data": {
      "text/plain": "                                                    url  \\\n123            https://www.ximalaya.com/sound/611072245   \n2723  https://m.gmw.cn/2023-12/25/content_1303611500...   \n2859           https://www.ximalaya.com/sound/592093182   \n\n                                                content  topic  \n123   在新能源汽车蓬勃发展的背景下，中国加快了推动绿色转型的步伐，其目标是到 2025 年，在公交...      2  \n2723  е…ЁйғЁеҜјиҲӘж—¶ж”ҝеӣҪеҶ…еӣҪйҷ…иҙўз»ҸзӨҫдјҡеЁұд...     18  \n2859  据计划官员称，中国将于周二晚发射神舟十五号任务的三名宇航员前往空间站。中国载人航天工程办公室...     19  ",
      "text/html": "<div>\n<style scoped>\n    .dataframe tbody tr th:only-of-type {\n        vertical-align: middle;\n    }\n\n    .dataframe tbody tr th {\n        vertical-align: top;\n    }\n\n    .dataframe thead th {\n        text-align: right;\n    }\n</style>\n<table border=\"1\" class=\"dataframe\">\n  <thead>\n    <tr style=\"text-align: right;\">\n      <th></th>\n      <th>url</th>\n      <th>content</th>\n      <th>topic</th>\n    </tr>\n  </thead>\n  <tbody>\n    <tr>\n      <th>123</th>\n      <td>https://www.ximalaya.com/sound/611072245</td>\n      <td>在新能源汽车蓬勃发展的背景下，中国加快了推动绿色转型的步伐，其目标是到 2025 年，在公交...</td>\n      <td>2</td>\n    </tr>\n    <tr>\n      <th>2723</th>\n      <td>https://m.gmw.cn/2023-12/25/content_1303611500...</td>\n      <td>е…ЁйғЁеҜјиҲӘж—¶ж”ҝеӣҪеҶ…еӣҪйҷ…иҙўз»ҸзӨҫдјҡеЁұд...</td>\n      <td>18</td>\n    </tr>\n    <tr>\n      <th>2859</th>\n      <td>https://www.ximalaya.com/sound/592093182</td>\n      <td>据计划官员称，中国将于周二晚发射神舟十五号任务的三名宇航员前往空间站。中国载人航天工程办公室...</td>\n      <td>19</td>\n    </tr>\n  </tbody>\n</table>\n</div>"
     },
     "execution_count": 19,
     "metadata": {},
     "output_type": "execute_result"
    }
   ],
   "source": [
    "non_chinese_content['content'] = non_chinese_content['content'].progress_apply(translate_text)\n",
    "non_chinese_content"
   ],
   "metadata": {
    "collapsed": false,
    "ExecuteTime": {
     "end_time": "2024-03-25T07:53:27.558393Z",
     "start_time": "2024-03-25T07:53:19.176644Z"
    }
   },
   "id": "130dd91856fc7aea",
   "execution_count": 19
  },
  {
   "cell_type": "code",
   "outputs": [],
   "source": [
    "test.update(non_chinese_content)"
   ],
   "metadata": {
    "collapsed": false,
    "ExecuteTime": {
     "end_time": "2024-03-25T07:53:27.681700Z",
     "start_time": "2024-03-25T07:53:27.562429Z"
    }
   },
   "id": "acf9775a53cb6f9e",
   "execution_count": 20
  },
  {
   "cell_type": "code",
   "outputs": [],
   "source": [
    "def get_stopword():\n",
    "    with open('baidu_stopwords.txt', 'r', encoding='utf-8') as f:\n",
    "        stopwords = set(line.strip() for line in f)\n",
    "    stopwords.update([\"年\",\"月\",\"日\"])\n",
    "    return stopwords\n",
    "\n",
    "def wordopt_cn(text):\n",
    "    # replace punctuation with space\n",
    "    no_punct = re.sub(pattern, ' ', text)\n",
    "    return str(no_punct)\n",
    "\n",
    "def remove_stopwords(words):\n",
    "    return (word for word in words if word not in stopwords)\n",
    "\n",
    "def process_content(content):\n",
    "    content = wordopt_cn(content)\n",
    "    words = jieba.cut(content)\n",
    "    words = remove_stopwords(words)\n",
    "    content = ' '.join(words)\n",
    "    content = re.sub(spaces_pattern, ' ', content)\n",
    "    return content\n",
    "\n",
    "# Precompile the regular expressions\n",
    "punctuation = \"！？｡。＂＃＄％＆＇（）＊＋，－／：；＜＝＞＠［＼］＾＿｀｛｜｝～｟｠｢｣､、〃》「」『』【】〔〕〖〗〘〙〚〛〜〝〞〟〰〾〿–—‘’‛“”„‟…‧﹏.\" + string.punctuation\n",
    "pattern = re.compile('[%s]' % re.escape(punctuation))\n",
    "spaces_pattern = re.compile(r'\\s+')\n",
    "stopwords = get_stopword()"
   ],
   "metadata": {
    "collapsed": false,
    "ExecuteTime": {
     "end_time": "2024-03-25T07:53:27.755020Z",
     "start_time": "2024-03-25T07:53:27.683323Z"
    }
   },
   "id": "97c719af0f4b9ad0",
   "execution_count": 21
  },
  {
   "cell_type": "code",
   "outputs": [
    {
     "name": "stderr",
     "output_type": "stream",
     "text": [
      "C:\\Users\\shens\\AppData\\Local\\Temp\\ipykernel_465440\\2199731547.py:1: SettingWithCopyWarning: \n",
      "A value is trying to be set on a copy of a slice from a DataFrame.\n",
      "Try using .loc[row_indexer,col_indexer] = value instead\n",
      "\n",
      "See the caveats in the documentation: https://pandas.pydata.org/pandas-docs/stable/user_guide/indexing.html#returning-a-view-versus-a-copy\n",
      "  test['original_content'] = test['content']\n",
      "100%|██████████| 3405/3405 [00:26<00:00, 130.53it/s]\n",
      "C:\\Users\\shens\\AppData\\Local\\Temp\\ipykernel_465440\\2199731547.py:2: SettingWithCopyWarning: \n",
      "A value is trying to be set on a copy of a slice from a DataFrame.\n",
      "Try using .loc[row_indexer,col_indexer] = value instead\n",
      "\n",
      "See the caveats in the documentation: https://pandas.pydata.org/pandas-docs/stable/user_guide/indexing.html#returning-a-view-versus-a-copy\n",
      "  test['content'] = test['content'].progress_apply(process_content)\n"
     ]
    }
   ],
   "source": [
    "test['original_content'] = test['content']\n",
    "test['content'] = test['content'].progress_apply(process_content)"
   ],
   "metadata": {
    "collapsed": false,
    "ExecuteTime": {
     "end_time": "2024-03-25T07:53:53.952441Z",
     "start_time": "2024-03-25T07:53:27.757029Z"
    }
   },
   "id": "563d74f5ef150668",
   "execution_count": 22
  },
  {
   "cell_type": "code",
   "execution_count": 23,
   "outputs": [],
   "source": [
    "def dummy(text):\n",
    "    return text\n",
    "#test=pd.read_csv('test_jieba.csv')\n",
    "vectorizer = joblib.load('vectorizer_v3.pkl')\n",
    "model = joblib.load('ensemble_v3.pkl')"
   ],
   "metadata": {
    "collapsed": false,
    "ExecuteTime": {
     "end_time": "2024-03-25T07:53:56.339784Z",
     "start_time": "2024-03-25T07:53:53.991959Z"
    }
   },
   "id": "2dfff10c72362666"
  },
  {
   "cell_type": "code",
   "execution_count": 24,
   "outputs": [
    {
     "name": "stderr",
     "output_type": "stream",
     "text": [
      "100%|██████████| 3405/3405 [00:04<00:00, 828.89it/s] \n"
     ]
    }
   ],
   "source": [
    "LOWERCASE = False\n",
    "VOCAB_SIZE = 100_000\n",
    "raw_tokenizer = Tokenizer(models.BPE(unk_token=\"[UNK]\"))\n",
    "raw_tokenizer.normalizer = normalizers.Sequence([normalizers.NFC()] + [normalizers.Lowercase()] if LOWERCASE else [])\n",
    "raw_tokenizer.pre_tokenizer = pre_tokenizers.WhitespaceSplit()\n",
    "\n",
    "special_tokens = [\"[UNK]\", \"[PAD]\", \"[CLS]\", \"[SEP]\", \"[MASK]\"]\n",
    "trainer = trainers.BpeTrainer(vocab_size=VOCAB_SIZE, special_tokens=special_tokens)\n",
    "\n",
    "dataset = Dataset.from_pandas(test[['content']])\n",
    "\n",
    "\n",
    "def train_corp_iter():\n",
    "    for i in range(0, len(dataset), 1000):\n",
    "        yield dataset[i: i + 1000][\"content\"]\n",
    "\n",
    "\n",
    "raw_tokenizer.train_from_iterator(train_corp_iter(), trainer=trainer)\n",
    "tokenizer = PreTrainedTokenizerFast(\n",
    "    tokenizer_object=raw_tokenizer,\n",
    "    unk_token=\"[UNK]\",\n",
    "    pad_token=\"[PAD]\",\n",
    "    cls_token=\"[CLS]\",\n",
    "    sep_token=\"[SEP]\",\n",
    "    mask_token=\"[MASK]\",\n",
    ")\n",
    "tokenized_texts_test = []\n",
    "\n",
    "for text in tqdm(test['content'].tolist()):\n",
    "    tokenized_texts_test.append(tokenizer.tokenize(text))\n",
    "    \n",
    "tf_test = vectorizer.transform(tokenized_texts_test)"
   ],
   "metadata": {
    "collapsed": false,
    "ExecuteTime": {
     "end_time": "2024-03-25T07:54:08.652070Z",
     "start_time": "2024-03-25T07:53:56.361151Z"
    }
   },
   "id": "80530d185e8c729c"
  },
  {
   "cell_type": "code",
   "execution_count": 26,
   "outputs": [],
   "source": [
    "import numpy as np\n",
    "pred = model.predict(tf_test)\n",
    "prob = model.predict_proba(tf_test)\n",
    "test[\"pred\"] = pred\n",
    "# 概率最大的类别\n",
    "test[\"prob_top1\"] = prob.max(axis=1)\n",
    "# 概率第二大的类别\n",
    "test[\"pred_top2\"] = prob.argsort(axis=1)[:, -2]\n",
    "test[\"prob_top2\"] = prob[np.arange(len(prob)), test[\"pred_top2\"]]"
   ],
   "metadata": {
    "collapsed": false,
    "ExecuteTime": {
     "end_time": "2024-03-25T07:55:42.708943Z",
     "start_time": "2024-03-25T07:55:38.974280Z"
    }
   },
   "id": "fb689736615bfb10"
  },
  {
   "cell_type": "code",
   "outputs": [
    {
     "data": {
      "text/plain": "                                                    url  \\\n0     https://news.bjd.com.cn/2023/12/31/10663522.shtml   \n1     https://news.cctv.com/2023/11/17/ARTIMGJYjCtTJ...   \n2     https://www.chinacourt.org/article/detail/2023...   \n3     https://news.cctv.com/2023/11/17/ARTIvf5o43PK5...   \n4     http://politics.people.com.cn/n1/2023/1111/c10...   \n...                                                 ...   \n3400             https://zhuanlan.zhihu.com/p/667460523   \n3401         https://www.sohu.com/a/735213901_121451179   \n3402  https://www.163.com/dy/article/IJ95N89T0553S2O...   \n3403             https://zhuanlan.zhihu.com/p/666103475   \n3404             https://zhuanlan.zhihu.com/p/670528446   \n\n                                                content  topic  \\\n0     2023 习近平 主席 亲自 擘画 引领 中国 特色 大国 外交 扎实 推进 推动 构建 人...      1   \n1     当地 时间 11 16 习近平 主席 亚太经合组织 APEC 工商 领导人 峰会 发表 书面...      1   \n2     亚太经合组织 第三十次 领导人 非正式 会议 美国 旧金山 莫斯科 尼 中心 国家 主席 习...      1   \n3     习近平 出席 亚太经合组织 领导人 东道主 嘉宾 非正式 对话会 暨 工作 午宴 央视网 2...      1   \n4     中国 国家 主席 习近平 11 14 日应 美国 总统 拜登 邀请 赴美 中 美 领导人 会...      1   \n...                                                 ...    ...   \n3400  从头到尾 来讲 一遍 惯例 先 谈谈 缅甸 北部 那场 风波 这场 风波 源头 藏匿在 缅甸...     23   \n3401  缅北 全线 激战 敏昂 莱 誓言 反击 冲突 扩大化 中 缅 边境 乱 几天 缅甸 内战 爆...     23   \n3402  近日 缅甸 内战 再次 卷土重来 国际 社会 关注 这次 冲突 异常 纷乱 消息 传来 人 ...     23   \n3403  缅北 战火 越烧 越大 中方 做 两手 高层 去 缅甸 首都 清酒 半栩换种 角度 分析 故...     23   \n3404  缅甸 内战 俄罗斯 插手 缅北 局势 影响 中俄关系 清 飞扬 俄罗斯 派 专家 缅甸政府 ...     23   \n\n                                       original_content  pred  prob_top1  \\\n0     2023年，习近平主席亲自擘画引领，中国特色大国外交扎实推进。在推动构建人类命运共同体的崇高...    22   0.699783   \n1     当地时间11月16日，习近平主席向亚太经合组织（APEC）工商领导人峰会发表书面演讲，强调我...     1   0.992075   \n2     亚太经合组织第三十次领导人非正式会议在美国旧金山莫斯科尼中心举行。国家主席习近平出席会议并发...     1   0.993566   \n3     习近平出席亚太经合组织领导人同东道主嘉宾非正式对话会暨工作午宴央视网2023年11月17日 ...     1   0.984153   \n4     中国国家主席习近平将于11月14日应美国总统拜登邀请赴美举行中美领导人会晤，同时应邀出席亚太...     1   0.580717   \n...                                                 ...   ...        ...   \n3400  从头到尾来讲一遍，咱们按照惯例，先谈谈缅甸北部的那场风波。这场风波的源头是藏匿在缅甸北部的一...    23   0.886486   \n3401  缅北全线激战，敏昂莱誓言反击，冲突可能扩大化，中缅边境乱不得这几天，缅甸内战的爆发，引起了外...    23   0.993304   \n3402  近日，缅甸内战再次卷土重来，引起了国际社会广泛的关注。然而，这次的冲突异常纷乱，各种消息传来...    23   0.993926   \n3403  缅北战火越烧越大，中方做两手准备，高层直接去了缅甸首都清酒半栩换种角度分析故事，带你了解更有...    23   0.981772   \n3404  缅甸内战，俄罗斯插手缅北局势，是否影响中俄关系清飞扬俄罗斯派专家帮助缅甸政府打击果敢同盟军，...    23   0.952609   \n\n      pred_top2  prob_top2  \n0             1   0.267317  \n1             0   0.001749  \n2             0   0.002441  \n3             0   0.004991  \n4             4   0.406247  \n...         ...        ...  \n3400          0   0.101815  \n3401          0   0.002566  \n3402          0   0.001408  \n3403         22   0.007741  \n3404          6   0.024929  \n\n[3405 rows x 8 columns]",
      "text/html": "<div>\n<style scoped>\n    .dataframe tbody tr th:only-of-type {\n        vertical-align: middle;\n    }\n\n    .dataframe tbody tr th {\n        vertical-align: top;\n    }\n\n    .dataframe thead th {\n        text-align: right;\n    }\n</style>\n<table border=\"1\" class=\"dataframe\">\n  <thead>\n    <tr style=\"text-align: right;\">\n      <th></th>\n      <th>url</th>\n      <th>content</th>\n      <th>topic</th>\n      <th>original_content</th>\n      <th>pred</th>\n      <th>prob_top1</th>\n      <th>pred_top2</th>\n      <th>prob_top2</th>\n    </tr>\n  </thead>\n  <tbody>\n    <tr>\n      <th>0</th>\n      <td>https://news.bjd.com.cn/2023/12/31/10663522.shtml</td>\n      <td>2023 习近平 主席 亲自 擘画 引领 中国 特色 大国 外交 扎实 推进 推动 构建 人...</td>\n      <td>1</td>\n      <td>2023年，习近平主席亲自擘画引领，中国特色大国外交扎实推进。在推动构建人类命运共同体的崇高...</td>\n      <td>22</td>\n      <td>0.699783</td>\n      <td>1</td>\n      <td>0.267317</td>\n    </tr>\n    <tr>\n      <th>1</th>\n      <td>https://news.cctv.com/2023/11/17/ARTIMGJYjCtTJ...</td>\n      <td>当地 时间 11 16 习近平 主席 亚太经合组织 APEC 工商 领导人 峰会 发表 书面...</td>\n      <td>1</td>\n      <td>当地时间11月16日，习近平主席向亚太经合组织（APEC）工商领导人峰会发表书面演讲，强调我...</td>\n      <td>1</td>\n      <td>0.992075</td>\n      <td>0</td>\n      <td>0.001749</td>\n    </tr>\n    <tr>\n      <th>2</th>\n      <td>https://www.chinacourt.org/article/detail/2023...</td>\n      <td>亚太经合组织 第三十次 领导人 非正式 会议 美国 旧金山 莫斯科 尼 中心 国家 主席 习...</td>\n      <td>1</td>\n      <td>亚太经合组织第三十次领导人非正式会议在美国旧金山莫斯科尼中心举行。国家主席习近平出席会议并发...</td>\n      <td>1</td>\n      <td>0.993566</td>\n      <td>0</td>\n      <td>0.002441</td>\n    </tr>\n    <tr>\n      <th>3</th>\n      <td>https://news.cctv.com/2023/11/17/ARTIvf5o43PK5...</td>\n      <td>习近平 出席 亚太经合组织 领导人 东道主 嘉宾 非正式 对话会 暨 工作 午宴 央视网 2...</td>\n      <td>1</td>\n      <td>习近平出席亚太经合组织领导人同东道主嘉宾非正式对话会暨工作午宴央视网2023年11月17日 ...</td>\n      <td>1</td>\n      <td>0.984153</td>\n      <td>0</td>\n      <td>0.004991</td>\n    </tr>\n    <tr>\n      <th>4</th>\n      <td>http://politics.people.com.cn/n1/2023/1111/c10...</td>\n      <td>中国 国家 主席 习近平 11 14 日应 美国 总统 拜登 邀请 赴美 中 美 领导人 会...</td>\n      <td>1</td>\n      <td>中国国家主席习近平将于11月14日应美国总统拜登邀请赴美举行中美领导人会晤，同时应邀出席亚太...</td>\n      <td>1</td>\n      <td>0.580717</td>\n      <td>4</td>\n      <td>0.406247</td>\n    </tr>\n    <tr>\n      <th>...</th>\n      <td>...</td>\n      <td>...</td>\n      <td>...</td>\n      <td>...</td>\n      <td>...</td>\n      <td>...</td>\n      <td>...</td>\n      <td>...</td>\n    </tr>\n    <tr>\n      <th>3400</th>\n      <td>https://zhuanlan.zhihu.com/p/667460523</td>\n      <td>从头到尾 来讲 一遍 惯例 先 谈谈 缅甸 北部 那场 风波 这场 风波 源头 藏匿在 缅甸...</td>\n      <td>23</td>\n      <td>从头到尾来讲一遍，咱们按照惯例，先谈谈缅甸北部的那场风波。这场风波的源头是藏匿在缅甸北部的一...</td>\n      <td>23</td>\n      <td>0.886486</td>\n      <td>0</td>\n      <td>0.101815</td>\n    </tr>\n    <tr>\n      <th>3401</th>\n      <td>https://www.sohu.com/a/735213901_121451179</td>\n      <td>缅北 全线 激战 敏昂 莱 誓言 反击 冲突 扩大化 中 缅 边境 乱 几天 缅甸 内战 爆...</td>\n      <td>23</td>\n      <td>缅北全线激战，敏昂莱誓言反击，冲突可能扩大化，中缅边境乱不得这几天，缅甸内战的爆发，引起了外...</td>\n      <td>23</td>\n      <td>0.993304</td>\n      <td>0</td>\n      <td>0.002566</td>\n    </tr>\n    <tr>\n      <th>3402</th>\n      <td>https://www.163.com/dy/article/IJ95N89T0553S2O...</td>\n      <td>近日 缅甸 内战 再次 卷土重来 国际 社会 关注 这次 冲突 异常 纷乱 消息 传来 人 ...</td>\n      <td>23</td>\n      <td>近日，缅甸内战再次卷土重来，引起了国际社会广泛的关注。然而，这次的冲突异常纷乱，各种消息传来...</td>\n      <td>23</td>\n      <td>0.993926</td>\n      <td>0</td>\n      <td>0.001408</td>\n    </tr>\n    <tr>\n      <th>3403</th>\n      <td>https://zhuanlan.zhihu.com/p/666103475</td>\n      <td>缅北 战火 越烧 越大 中方 做 两手 高层 去 缅甸 首都 清酒 半栩换种 角度 分析 故...</td>\n      <td>23</td>\n      <td>缅北战火越烧越大，中方做两手准备，高层直接去了缅甸首都清酒半栩换种角度分析故事，带你了解更有...</td>\n      <td>23</td>\n      <td>0.981772</td>\n      <td>22</td>\n      <td>0.007741</td>\n    </tr>\n    <tr>\n      <th>3404</th>\n      <td>https://zhuanlan.zhihu.com/p/670528446</td>\n      <td>缅甸 内战 俄罗斯 插手 缅北 局势 影响 中俄关系 清 飞扬 俄罗斯 派 专家 缅甸政府 ...</td>\n      <td>23</td>\n      <td>缅甸内战，俄罗斯插手缅北局势，是否影响中俄关系清飞扬俄罗斯派专家帮助缅甸政府打击果敢同盟军，...</td>\n      <td>23</td>\n      <td>0.952609</td>\n      <td>6</td>\n      <td>0.024929</td>\n    </tr>\n  </tbody>\n</table>\n<p>3405 rows × 8 columns</p>\n</div>"
     },
     "execution_count": 29,
     "metadata": {},
     "output_type": "execute_result"
    }
   ],
   "source": [
    "test"
   ],
   "metadata": {
    "collapsed": false,
    "ExecuteTime": {
     "end_time": "2024-03-25T07:57:06.078292Z",
     "start_time": "2024-03-25T07:57:06.014522Z"
    }
   },
   "id": "a566bf4b617e573f",
   "execution_count": 29
  },
  {
   "cell_type": "code",
   "execution_count": 30,
   "outputs": [
    {
     "name": "stdout",
     "output_type": "stream",
     "text": [
      "Accuracy: 0.9756240822320118\n",
      "Precision: 0.9758126998879221\n",
      "Recall: 0.9756240822320118\n",
      "F1: 0.975626535525693\n"
     ]
    }
   ],
   "source": [
    "accuracy = accuracy_score(test['topic'], test['pred'])\n",
    "precision = precision_score(test['topic'], test['pred'], average='weighted')\n",
    "recall = recall_score(test['topic'], test['pred'], average='weighted')\n",
    "f1 = f1_score(test['topic'], test['pred'], average='weighted')\n",
    "print(f'Accuracy: {accuracy}\\nPrecision: {precision}\\nRecall: {recall}\\nF1: {f1}')"
   ],
   "metadata": {
    "collapsed": false,
    "ExecuteTime": {
     "end_time": "2024-03-25T07:57:27.223583Z",
     "start_time": "2024-03-25T07:57:27.098853Z"
    }
   },
   "id": "3bae231bdfd6fe71"
  },
  {
   "cell_type": "code",
   "outputs": [
    {
     "data": {
      "text/plain": "                                                    url  \\\n40    https://visionthai.net/zh-hans/article/srettha...   \n82           https://new.qq.com/rain/a/20231110A08F9800   \n148   https://www.thepaper.cn/newsDetail_forward_230...   \n252          https://new.qq.com/rain/a/20230107A07JAE00   \n261          https://www.sohu.com/a/748635250_121660501   \n293   https://news.sina.com.cn/w/2024-01-03/doc-inaa...   \n362    https://www.bbc.com/zhongwen/trad/world-63650348   \n380          https://new.qq.com/rain/a/20231028A07CYG00   \n401            https://www.zhihu.com/question/450134525   \n483   https://iis.fudan.edu.cn/24/42/c38284a468034/p...   \n748   http://dangjian.people.com.cn/BIG5/n1/2022/111...   \n944   https://baike.baidu.com/item/2022%E5%B9%B4%E5%...   \n1008  https://fzggw.cq.gov.cn/zwgk/zfxxgkml/zcjd/202...   \n1256             https://zhuanlan.zhihu.com/p/462566822   \n1283  https://baike.baidu.com/item/%E9%A9%AC%E5%85%B...   \n1285  http://fec.mofcom.gov.cn/article/fwydyl/zgzx/2...   \n1289  https://www.163.com/dy/article/GNO5GJPI0552C57...   \n1347  http://www.xinhuanet.com/politics/2019-07/31/c...   \n1414  https://www.voachinese.com/a/us-gop-lawmaker-c...   \n1435             https://zhuanlan.zhihu.com/p/578205638   \n1450  https://www.dw.com/zh/%E5%8F%B0%E6%B9%BE%E5%A4...   \n1532           https://www.zhihu.com/question/625106944   \n1752         https://new.qq.com/rain/a/20230808A0A7FC00   \n1844          https://it.ynnu.edu.cn/info/1055/2737.htm   \n1888  https://cn.chinadaily.com.cn/a/202401/03/WS659...   \n1929  https://www.mem.gov.cn/xw/yjglbgzdt/202311/t20...   \n1967  http://jtt.hebei.gov.cn/jtyst/jtzx/styw/101680...   \n2025  https://finance.sina.com.cn/wm/2023-07-28/doc-...   \n2094  http://www.cac.gov.cn/2024-01/03/c_17059456940...   \n2113  https://www.thepaper.cn/newsDetail_forward_255...   \n2442         https://new.qq.com/rain/a/20230924A00XLW00   \n2557  https://baike.baidu.com/item/10%C2%B75%E5%B1%B...   \n2571  https://www.thepaper.cn/newsDetail_forward_241...   \n2658  https://politics.gmw.cn/2023-12/20/content_370...   \n2663             https://www.gsdzj.gov.cn/jcyb/gzxx.htm   \n2723  https://m.gmw.cn/2023-12/25/content_1303611500...   \n2756  https://www.163.com/dy/article/HO4Q7KQI0553IQI...   \n2793  https://baike.baidu.com/item/%E4%B8%AD%E5%9B%B...   \n2808  https://www.thepaper.cn/newsDetail_forward_258...   \n2814  https://mil.news.sina.com.cn/zonghe/2024-01-03...   \n2824  https://www.163.com/dy/article/HNHJ6KCC0553OT1...   \n2861  http://news.cyol.com/gb/articles/2024-01/03/co...   \n2872             https://zhuanlan.zhihu.com/p/588156715   \n2893  https://www.163.com/dy/article/II1EOD1905561JO...   \n2900  https://www.cmse.gov.cn/xwzx/202310/t20231025_...   \n2921  https://www.163.com/dy/article/IJN184VR05565VL...   \n2925  https://www.thepaper.cn/newsDetail_forward_251...   \n2928             https://zhuanlan.zhihu.com/p/663672474   \n2933  https://www.163.com/dy/article/II5AVUS10511840...   \n2963  https://www.dw.com/zh/%E7%A5%9E%E8%88%9F17%E5%...   \n2977         https://www.sohu.com/a/727144765_121338666   \n2989  http://www.news.cn/politics/20240103/92c83bb93...   \n2996         https://new.qq.com/rain/a/20231026A06UU300   \n3004  https://www.163.com/dy/article/I9IHFDL30552JMY...   \n3028  https://finance.sina.com.cn/tech/discovery/202...   \n3061  https://www.zuowen8.com/doc/6099201b43915f74.html   \n3075       https://www.bilibili.com/video/BV16M4y1i7zm/   \n3099  http://news.cyol.com/gb/articles/2024-01/03/co...   \n3188  https://news.sina.com.cn/zx/gj/2024-01-03/doc-...   \n3346         https://new.qq.com/rain/a/20231027A0899R00   \n\n                                                content  topic  \\\n40    2023 亚太经合 会 APEC 领袖 峰会 今 15 日于 美国 旧金山 登场 泰国 总理...      1   \n82    美国 已 中 俄 发出 邀请 普京 本人 去不去 俄罗斯 会 悬念 留 亚太经合组织 APE...      1   \n148   微软 采购 核聚变 初创 公司 Helion 电力 Helion 预计 2028 年前 上线...      2   \n252   2023 新德里 G20 领导人 峰会 成员国 名单 特邀 成员国 名单 印度 拟定 20 ...      3   \n261   印度 新德里 G20 峰会 落幕 国际 政坛 落幕 各国 领导人 展现 风采 机会 英国 头...      3   \n293   2024 1 1 正值 巴西 之子 卢拉 重返 总统 职位 一周年 纪念日 西班牙 《 国家...      3   \n362   G20 巴厘 島峰會 宣言 最 強烈 措辭 譴責 俄羅斯 解讀 時期 大國共識 陳 岩 BB...      3   \n380   中方 同意 美方 共同努力 促成 两 国 元首 会晤 观察者 网 报道 日前 美国 总统 拜...      4   \n401   凤凰网 ​ 提问 美国 国际 关系 国际 政治 中美关系 ‭ 王毅 看待 中 美 首次 会谈...      4   \n483   11 14 世界 目光 投向 印尼 巴厘岛 一场 重磅 峰会 登场 二 十国集团 G20 峰...      4   \n748   黨 二十大 我國 邁上 建設 社會 主義現 代化 國家 新 征程 第二 個 百年 奮斗目 標...      7   \n944   2022 北京 冬季 奥运会 越野 滑雪 比赛 2022 2 5 日至 2 20 国家 越野...      8   \n1008  2025 能源 保障 能源 绿色 转型 成效显著 能源 利用效率 大幅提高 服务水平 持续 ...      9   \n1256  苏联 历次 对外 战争 理由 开战 方式 梳理 无 处天 战争 一个 国家 来说 生死攸关 ...     11   \n1283  古罗马 共和国 马其顿 王国 之间 4 次 战争 古罗马 共和国 马其顿 王国 之间 4 次...     11   \n1285  叙利亚 驻华大使 一带 一路 使 重建 中 叙利亚 受益匪浅 2022 1 12 中国 叙利...     11   \n1289  一袋 米 换 一个 年轻漂亮 女人 回家 做 老婆 一个 盒饭 一杯 奶茶 钱 买 一个 女...     11   \n1347  信息 网络 技术 飞速发展 互联网 已 渗透到 人类 生活 方方面面 国家 军事 斗争 战争...     11   \n1414  中国共产党 20 次 全国 党代表大会 之际 一位 国会 共和党人 预测 总书记 习近平 第...     12   \n1435  台湾 历届 领导人 MiLva 努力 输入 尝试 输出 第一任 蒋介石 1948 4 19 ...     12   \n1450  台湾 国防部 12 24 日称 24 小时 中 歼 10 歼 11 歼 16 各型 共 8 ...     12   \n1532  军事 巴 冲突 美国 牵制 控制 中东地区 一步 好棋 关注 277 浏览 756 241 ...     13   \n1752  连接 古今 成都 《 蜀川 胜概 图 跨越 近 千年 亮相 成都 大运会 闭幕式 封面 新闻...     14   \n1844  2022 世界 百年 未有 大变局 加速 演进 世纪 疫情 影响 深远 美 西方 持续 加大...      0   \n1888  新 时代 中国 山水 披绿纱 引来 德企 大当家 来自 德国 柯雪婷 Kerstin Kae...      0   \n1929  10 月份 我国 自然灾害 台风 洪涝灾害 风雹 低温 冷冻 雪灾 地震 地质灾害 森林 火...      0   \n1967  5 6 省厅 印发 《 做好 2023 年度 防汛防台 风 工作 通知 全力 做好 防汛防台...      0   \n2025  天津 启动 防洪 Ⅳ 级 应急 响应 明 持续 强降雨 下 台风 已 生成 天津市 防办 发...      0   \n2094  近日 中央 网信 办 主办 2023 中国 正 能量 网络 精品 征集 展播 活动 正式 启...      0   \n2113  2023 全球 极端 天气 事件 频发 深刻 感受 全球 变暖 特征 气候变化 自然 生态环...      0   \n2442  举世瞩目 杭州 亚运会 开幕 国 领导人 出席 6 天内 中方 接连 美 俄 战略 互动 9...     16   \n2557  2021 10 5 山西省 晋中市 吕梁市 临汾市 发生 崩塌 滑坡 地质灾害 人员伤亡 2...     17   \n2571  几天 受 强台风 杜苏芮 环流 影响 京津冀 东北地区 发生 洪灾 牵动 亿万 国人 心 一...     17   \n2658  点击 右上角 微信 好友 朋友圈 请 浏览器 分享 功能 分享 导航 时政 国际 时评 理论...     18   \n2663  首页 单位 概况 党建 廉政 监测 预报 震害 防御 公共服务 科普 宣传 交流 互动 研究...     18   \n2723  е Ё й ғ Ё е Ҝ ј и Ҳ Ә ж ¶ ж ҝ е ӣ Ҫ е Ҷ е ӣ Ҫ ...     18   \n2756   北京 明白 再次 火 神 十五 发射成功 网友 没 失望 我国 航天事业 发展 历程 艰辛...     19   \n2793  北京 时间 2023 10 26 11 时 14 分 搭载 神舟 十七号 载人 飞船 长征二...     19   \n2808  下载 客户端 登录 无障碍 12023 重温 大国 重器 惊艳 时刻 2023 12 31 ...     19   \n2814  2023 中国航天 交出 亮眼 成绩单 2024 发展 阶段 中国 空间站 迎来 新 访客 ...     19   \n2824  神舟 15 号 发射 时 火箭 飞行 157 秒 时 捆绑 4 助推器 成功 分离 约 1 ...     19   \n2861  2023 12 31 日晚 国家 主席 习近平 发表 二 〇 二 四年 新年贺词 2013 ...     19   \n2872  神舟 15 号 发射 太空 探索 进程 无声 加快 故事 里 事 ​ 三峡 大学 工学 硕士...     19   \n2893  神舟 17 号 载人 航天 飞船 点火 一瞬间 全场 观众 热血沸腾 心潮澎湃 瞬间 火焰 ...     20   \n2900  北京 时间 2023 10 25 11 时 汤洪波 唐胜杰 江新林 3 名乘组 航天员 酒泉...     20   \n2921  1999 11 20 我国 第一艘 航天 飞船 成功 发射 距今 为止 刚好 24 短短的 ...     20   \n2925  神州 十七号 载人 飞船 3 名 航天员 抵达 中国 空间站 中国 航天员 第三次 太空 会...     20   \n2928  神舟 十七 正式 出征 西方 点 中国航天 震撼 吕喆 话 说 中国 人 来说 事 莫过于 ...     20   \n2933  2023 10 26 11 时 14 分 中国 酒泉卫星发射中心 搭载 汤洪波 江新林 唐胜...     20   \n2963  神舟 17 号 发射成功 首度 执行 舱外 维修 载有 最 年轻 宇航员 乘组 神舟 17 ...     20   \n2977  神 17 本月 升空 飞船 空间站 对接 看 一篇 就够 上半年 我国 航空航天 成就 可谓...     20   \n2989  2024 中国航天 精彩 可期 2024 01 03 08 38 18 来源 人民日报 海外...     20   \n2996   神 十七 成功 飞天 普通人 去 看 火箭 发射 五 四 三 二 点火 发射 瞬间 腾起 ...     20   \n3004  1992 我国 提出 载人 航天 三步走 发展 战略 第一步 发射 载人 飞船 太空 返回地...     20   \n3028  期待 中国 载人 航天 2023 发射 出炉 5 神舟 十六 10 神舟 十七 期待 中国 ...     21   \n3061  2023 神舟 16 号 发射成功 观后感 三 二 点火 火团 喷涌 而出 小小的 屏幕 画...     21   \n3075  神舟 十六号 发射 全过程 47002023 05 30 11 07 43 未经 作者 授权...     21   \n3099  2023 12 31 日晚 国家 主席 习近平 发表 二 〇 二 四年 新年贺词 2013 ...     21   \n3188  10 18 第三届 一带 一路 国际 合作 高峰论坛 开幕式 上 习近平 总书记 中国 支持...     22   \n3346  叙利亚 印巴 缅甸 爆发 战火 美国 匕首 直 插 俄罗斯 后背 巧合 同一天 全球 三个 ...     23   \n\n                                       original_content  pred  prob_top1  \\\n40    2023年亚太经合会APEC领袖峰会今(15)日于美国旧金山登场，泰国总理赛塔(Settha...     0   0.473018   \n82    美国已向中俄发出邀请，普京本人去不去，俄罗斯会把悬念留到最后今年的亚太经合组织（APEC）峰...     3   0.363054   \n148   微软将采购由核聚变初创公司Helion产生的电力，Helion预计2028年前上线50兆瓦核...     0   0.395752   \n252   2023年在新德里举行的G20领导人峰会成员国名单以及特邀成员国名单，印度已经拟定出来，除了...     3   0.461361   \n261   印度新德里G20峰会的落幕，不仅是国际政坛的落幕，也是各国领导人展现风采的机会。英国头号夫人...     3   0.434066   \n293   2024年1月1日，正值“巴西之子”卢拉重返总统职位一周年的纪念日。西班牙《国家报》报道称，...     3   0.222040   \n362   G20巴厘島峰會宣言「以最強烈措辭」譴責俄羅斯，解讀特殊時期的大國共識陳岩BBC中文 發自印...     3   0.495803   \n380   中方同意与美方共同努力，促成两国元首会晤据观察者网报道，日前美国总统拜登已经在白宫会见了访美...     3   0.458752   \n401   凤凰网​的提问美国国际关系国际政治中美关系‭王毅如何看待中美首次会谈以及达成的结果，还有哪些...     4   0.232582   \n483   11月14日，世界目光投向印尼巴厘岛，一场重磅峰会在此登场。在二十国集团（G20）峰会前夕，...     4   0.498739   \n748   黨的二十大是在我國邁上全面建設社會主義現代化國家新征程、向第二個百年奮斗目標進軍的關鍵時刻召...     7   0.369005   \n944   2022年北京冬季奥运会越野滑雪比赛是2022年2月5日至2月20日在国家越野滑雪中心举行的...     8   0.486004   \n1008  到2025年，能源保障安全有力，能源绿色转型成效显著，能源利用效率大幅提高，普遍服务水平持续...     0   0.404764   \n1256  苏联历次对外战争的理由及开战方式梳理无所有处天战争对于一个国家来说，往往是生死攸关的大事，所...     6   0.306728   \n1283  古罗马共和国和马其顿王国之间的4次战争古罗马共和国和马其顿王国之间的4次战争。最终以罗马控制...    11   0.406539   \n1285  叙利亚驻华大使：加入“一带一路”将使重建中的叙利亚受益匪浅。2022年1月12日，中国和叙利...    11   0.467451   \n1289  一袋米就可以换一个年轻漂亮的女人回家做老婆，甚至一个盒饭一杯奶茶的钱就可以买一个女人给你做牛...    11   0.447960   \n1347  随着信息和网络技术的飞速发展，互联网已渗透到人类生活的方方面面，并对国家安全、军事斗争以及战...     0   0.419444   \n1414  在中国共产党正在召开第20次全国党代表大会之际，一位国会共和党人预测，总书记习近平进入第三任...    12   0.358941   \n1435  台湾历届领导人MiLva努力输入尝试输出第一任：蒋介石1948年4月19日——1975年4月...    12   0.442650   \n1450  台湾国防部12月24日称，在过去24小时中，又有歼-10、歼-11、歼-16等各型共8架战机...     5   0.284248   \n1532  军事「巴以冲突」是美国牵制和控制中东地区的一步好棋吗？关注者277被浏览756,241关注问...     6   0.450024   \n1752  连接古今成都 《蜀川胜概图》跨越近千年亮相成都大运会闭幕式封面新闻记者 李雨心恢宏浩瀚的水墨...    14   0.472651   \n1844  2022 年，世界百年未有之大变局加速演进，世纪疫情影响深远。在美西方持续加大对我国芯片产业...     0   0.486197   \n1888  新时代，我在中国 | 山水披绿纱，引来德企大当家来自德国的柯雪婷（Kerstin Kaehl...     0   0.367663   \n1929  10月份，我国自然灾害以台风、洪涝灾害为主，风雹、低温冷冻、雪灾、地震、地质灾害和森林火灾等...    18   0.489056   \n1967  5月6日，省厅印发《关于做好2023年度防汛防台风工作的通知》，就全力做好防汛防台风，确保人...     0   0.352868   \n2025  天津启动防洪Ⅳ级应急响应！明起持续强降雨！下一台风已生成！天津市防办发布通知7月28日11时...    17   0.440685   \n2094  近日，由中央网信办主办的2023中国正能量网络精品征集展播活动正式启动。活动以“凝聚强国力量...     0   0.477041   \n2113  2023年全球极端天气事件频发，让人们更加深刻地感受到以全球变暖为主要特征的气候变化给自然生...     0   0.448501   \n2442  举世瞩目！杭州亚运会开幕，多国领导人出席；6天内中方接连与美俄战略互动9月23日晚，杭州亚运...    16   0.470183   \n2557  2021年10月5日，山西省晋中市、吕梁市、临汾市先后发生多起崩塌、滑坡等地质灾害，造成人员...    17   0.488251   \n2571  这几天，受强台风“杜苏芮”环流影响，京津冀、东北地区发生了洪灾，牵动着亿万国人的心。一时间，...    17   0.496656   \n2658  点击右上角微信好友朋友圈请使用浏览器分享功能进行分享全部导航时政国际时评理论文化科技教育经济...    18   0.377565   \n2663  首页单位概况党建与廉政监测预报震害防御公共服务科普宣传交流互动研究生教育您当前的位置:首页>...    18   0.459177   \n2723  е…ЁйғЁеҜјиҲӘж—¶ж”ҝеӣҪеҶ…еӣҪйҷ…иҙўз»ҸзӨҫдјҡеЁұд...    11   0.286772   \n2756  一、“北京明白”再次火了，神十五发射成功，网友：果然没让我们失望我国航天事业发展历程艰辛，却...    19   0.282971   \n2793  北京时间2023年10月26日11时14分，搭载神舟十七号载人飞船的长征二号F遥十七运载火箭...    21   0.424988   \n2808  下载客户端登录无障碍+12023：重温“大国重器”的惊艳时刻2023-12-31 21:00...    21   0.295850   \n2814  2023年，中国航天交出了亮眼成绩单。2024年，进入应用与发展阶段的中国空间站将迎来新的“...    21   0.459746   \n2824  当神舟15号发射时，火箭飞行157秒时，首先捆绑的4个助推器成功分离，约1秒后的158秒后，...    21   0.335601   \n2861  2023年12月31日晚，国家主席习近平发表二〇二四年新年贺词。自2013年岁末起，习近平主...    19   0.496722   \n2872  神舟15号发射，我们的太空探索进程在无声加快故事里的事​三峡大学 工学硕士随着 2022 年...    19   0.470309   \n2893  神舟17号载人航天飞船点火的一瞬间，全场观众热血沸腾，心潮澎湃。那瞬间的火焰燃烧着我们对祖国...    21   0.309026   \n2900  北京时间2023年10月25日11时，汤洪波、唐胜杰、江新林3名乘组航天员在酒泉卫星发射中心...    20   0.439631   \n2921  1999年11月20日，我国第一艘航天飞船成功发射，距今为止刚好24年，在这短短的24年里，...    20   0.404665   \n2925  神州十七号载人飞船的3名航天员抵达中国空间站，实现了中国航天员的第三次太空会师。在未来，更多...    20   0.317304   \n2928  神舟十七正式出征：给西方来点“中国航天震撼”吕喆有话说对于所有中国人来说，最近最大的事莫过于...    20   0.484055   \n2933  2023年10月26日11时14分，中国酒泉卫星发射中心，搭载着汤洪波、江新林和唐胜杰 3 ...    21   0.443773   \n2963  神舟17号发射成功 将首度执行舱外维修载有最年轻宇航员乘组的「神舟17号」于10月26日成功...    20   0.474798   \n2977  神17本月升空，飞船与空间站如何对接，看这一篇就够了今年上半年我国在航空航天方面取得的成就可...    21   0.347910   \n2989  2024，中国航天精彩可期2024-01-03 08:38:18来源：人民日报海外版神舟十五...    19   0.439720   \n2996  “神十七”成功飞天，普通人也能去看火箭发射吗？“五、四、三、二、一，点火，发射！”随着瞬间腾...     0   0.367062   \n3004  在1992年，我国提出了载人航天“三步走”的发展战略，第一步就是发射载人飞船进入太空，并安全...    21   0.436337   \n3028  期待！中国载人航天2023年发射任务出炉：5月神舟十六、10月神舟十七期待！中国载人航天20...    20   0.498069   \n3061  2023年神舟16号发射成功观后感“三、二、一，点火”。火团喷涌而出。望着小小的屏幕，我看到...    19   0.336480   \n3075  神舟十六号_发射全过程47002023-05-30 11:07:43未经作者授权，禁止转载9...    21   0.392373   \n3099  2023年12月31日晚，国家主席习近平发表二〇二四年新年贺词。自2013年岁末起，习近平主...    19   0.490701   \n3188  10月18日，在第三届“一带一路”国际合作高峰论坛开幕式上，习近平总书记宣布了中国支持高质量...    22   0.396571   \n3346  为何叙利亚、印巴和缅甸同时爆发战火？美国的匕首直插俄罗斯后背这只是巧合吗？同一天，全球三个热...    23   0.414957   \n\n      pred_top2  prob_top2  \n40            1   0.269182  \n82            1   0.324839  \n148           2   0.275005  \n252           6   0.442152  \n261          14   0.140028  \n293          11   0.112407  \n362           0   0.159648  \n380           4   0.376438  \n401           5   0.196238  \n483           3   0.455673  \n748           0   0.250019  \n944          16   0.105098  \n1008          9   0.299629  \n1256         11   0.214002  \n1283          0   0.174105  \n1285         22   0.281272  \n1289          0   0.361472  \n1347          6   0.139879  \n1414          6   0.226910  \n1435          0   0.178665  \n1450         12   0.257995  \n1532         13   0.204767  \n1752          0   0.330185  \n1844          5   0.189945  \n1888          8   0.092623  \n1929          0   0.333686  \n1967         17   0.293375  \n2025          0   0.402234  \n2094          7   0.238010  \n2113         17   0.257312  \n2442          4   0.303415  \n2557          0   0.230036  \n2571          0   0.259915  \n2658         17   0.319030  \n2663          0   0.326758  \n2723         19   0.248688  \n2756         21   0.257822  \n2793         20   0.421263  \n2808         20   0.247565  \n2814         19   0.273848  \n2824         19   0.253606  \n2861         21   0.147589  \n2872         21   0.186084  \n2893         19   0.284626  \n2900         21   0.125572  \n2921         19   0.223500  \n2925         19   0.236666  \n2928         21   0.189396  \n2933         20   0.264956  \n2963         21   0.230378  \n2977         19   0.282317  \n2989         21   0.320078  \n2996         19   0.240661  \n3004         20   0.341511  \n3028         21   0.471327  \n3061         21   0.205981  \n3075         13   0.106768  \n3099         21   0.147679  \n3188          0   0.349237  \n3346         11   0.334665  ",
      "text/html": "<div>\n<style scoped>\n    .dataframe tbody tr th:only-of-type {\n        vertical-align: middle;\n    }\n\n    .dataframe tbody tr th {\n        vertical-align: top;\n    }\n\n    .dataframe thead th {\n        text-align: right;\n    }\n</style>\n<table border=\"1\" class=\"dataframe\">\n  <thead>\n    <tr style=\"text-align: right;\">\n      <th></th>\n      <th>url</th>\n      <th>content</th>\n      <th>topic</th>\n      <th>original_content</th>\n      <th>pred</th>\n      <th>prob_top1</th>\n      <th>pred_top2</th>\n      <th>prob_top2</th>\n    </tr>\n  </thead>\n  <tbody>\n    <tr>\n      <th>40</th>\n      <td>https://visionthai.net/zh-hans/article/srettha...</td>\n      <td>2023 亚太经合 会 APEC 领袖 峰会 今 15 日于 美国 旧金山 登场 泰国 总理...</td>\n      <td>1</td>\n      <td>2023年亚太经合会APEC领袖峰会今(15)日于美国旧金山登场，泰国总理赛塔(Settha...</td>\n      <td>0</td>\n      <td>0.473018</td>\n      <td>1</td>\n      <td>0.269182</td>\n    </tr>\n    <tr>\n      <th>82</th>\n      <td>https://new.qq.com/rain/a/20231110A08F9800</td>\n      <td>美国 已 中 俄 发出 邀请 普京 本人 去不去 俄罗斯 会 悬念 留 亚太经合组织 APE...</td>\n      <td>1</td>\n      <td>美国已向中俄发出邀请，普京本人去不去，俄罗斯会把悬念留到最后今年的亚太经合组织（APEC）峰...</td>\n      <td>3</td>\n      <td>0.363054</td>\n      <td>1</td>\n      <td>0.324839</td>\n    </tr>\n    <tr>\n      <th>148</th>\n      <td>https://www.thepaper.cn/newsDetail_forward_230...</td>\n      <td>微软 采购 核聚变 初创 公司 Helion 电力 Helion 预计 2028 年前 上线...</td>\n      <td>2</td>\n      <td>微软将采购由核聚变初创公司Helion产生的电力，Helion预计2028年前上线50兆瓦核...</td>\n      <td>0</td>\n      <td>0.395752</td>\n      <td>2</td>\n      <td>0.275005</td>\n    </tr>\n    <tr>\n      <th>252</th>\n      <td>https://new.qq.com/rain/a/20230107A07JAE00</td>\n      <td>2023 新德里 G20 领导人 峰会 成员国 名单 特邀 成员国 名单 印度 拟定 20 ...</td>\n      <td>3</td>\n      <td>2023年在新德里举行的G20领导人峰会成员国名单以及特邀成员国名单，印度已经拟定出来，除了...</td>\n      <td>3</td>\n      <td>0.461361</td>\n      <td>6</td>\n      <td>0.442152</td>\n    </tr>\n    <tr>\n      <th>261</th>\n      <td>https://www.sohu.com/a/748635250_121660501</td>\n      <td>印度 新德里 G20 峰会 落幕 国际 政坛 落幕 各国 领导人 展现 风采 机会 英国 头...</td>\n      <td>3</td>\n      <td>印度新德里G20峰会的落幕，不仅是国际政坛的落幕，也是各国领导人展现风采的机会。英国头号夫人...</td>\n      <td>3</td>\n      <td>0.434066</td>\n      <td>14</td>\n      <td>0.140028</td>\n    </tr>\n    <tr>\n      <th>293</th>\n      <td>https://news.sina.com.cn/w/2024-01-03/doc-inaa...</td>\n      <td>2024 1 1 正值 巴西 之子 卢拉 重返 总统 职位 一周年 纪念日 西班牙 《 国家...</td>\n      <td>3</td>\n      <td>2024年1月1日，正值“巴西之子”卢拉重返总统职位一周年的纪念日。西班牙《国家报》报道称，...</td>\n      <td>3</td>\n      <td>0.222040</td>\n      <td>11</td>\n      <td>0.112407</td>\n    </tr>\n    <tr>\n      <th>362</th>\n      <td>https://www.bbc.com/zhongwen/trad/world-63650348</td>\n      <td>G20 巴厘 島峰會 宣言 最 強烈 措辭 譴責 俄羅斯 解讀 時期 大國共識 陳 岩 BB...</td>\n      <td>3</td>\n      <td>G20巴厘島峰會宣言「以最強烈措辭」譴責俄羅斯，解讀特殊時期的大國共識陳岩BBC中文 發自印...</td>\n      <td>3</td>\n      <td>0.495803</td>\n      <td>0</td>\n      <td>0.159648</td>\n    </tr>\n    <tr>\n      <th>380</th>\n      <td>https://new.qq.com/rain/a/20231028A07CYG00</td>\n      <td>中方 同意 美方 共同努力 促成 两 国 元首 会晤 观察者 网 报道 日前 美国 总统 拜...</td>\n      <td>4</td>\n      <td>中方同意与美方共同努力，促成两国元首会晤据观察者网报道，日前美国总统拜登已经在白宫会见了访美...</td>\n      <td>3</td>\n      <td>0.458752</td>\n      <td>4</td>\n      <td>0.376438</td>\n    </tr>\n    <tr>\n      <th>401</th>\n      <td>https://www.zhihu.com/question/450134525</td>\n      <td>凤凰网 ​ 提问 美国 国际 关系 国际 政治 中美关系 ‭ 王毅 看待 中 美 首次 会谈...</td>\n      <td>4</td>\n      <td>凤凰网​的提问美国国际关系国际政治中美关系‭王毅如何看待中美首次会谈以及达成的结果，还有哪些...</td>\n      <td>4</td>\n      <td>0.232582</td>\n      <td>5</td>\n      <td>0.196238</td>\n    </tr>\n    <tr>\n      <th>483</th>\n      <td>https://iis.fudan.edu.cn/24/42/c38284a468034/p...</td>\n      <td>11 14 世界 目光 投向 印尼 巴厘岛 一场 重磅 峰会 登场 二 十国集团 G20 峰...</td>\n      <td>4</td>\n      <td>11月14日，世界目光投向印尼巴厘岛，一场重磅峰会在此登场。在二十国集团（G20）峰会前夕，...</td>\n      <td>4</td>\n      <td>0.498739</td>\n      <td>3</td>\n      <td>0.455673</td>\n    </tr>\n    <tr>\n      <th>748</th>\n      <td>http://dangjian.people.com.cn/BIG5/n1/2022/111...</td>\n      <td>黨 二十大 我國 邁上 建設 社會 主義現 代化 國家 新 征程 第二 個 百年 奮斗目 標...</td>\n      <td>7</td>\n      <td>黨的二十大是在我國邁上全面建設社會主義現代化國家新征程、向第二個百年奮斗目標進軍的關鍵時刻召...</td>\n      <td>7</td>\n      <td>0.369005</td>\n      <td>0</td>\n      <td>0.250019</td>\n    </tr>\n    <tr>\n      <th>944</th>\n      <td>https://baike.baidu.com/item/2022%E5%B9%B4%E5%...</td>\n      <td>2022 北京 冬季 奥运会 越野 滑雪 比赛 2022 2 5 日至 2 20 国家 越野...</td>\n      <td>8</td>\n      <td>2022年北京冬季奥运会越野滑雪比赛是2022年2月5日至2月20日在国家越野滑雪中心举行的...</td>\n      <td>8</td>\n      <td>0.486004</td>\n      <td>16</td>\n      <td>0.105098</td>\n    </tr>\n    <tr>\n      <th>1008</th>\n      <td>https://fzggw.cq.gov.cn/zwgk/zfxxgkml/zcjd/202...</td>\n      <td>2025 能源 保障 能源 绿色 转型 成效显著 能源 利用效率 大幅提高 服务水平 持续 ...</td>\n      <td>9</td>\n      <td>到2025年，能源保障安全有力，能源绿色转型成效显著，能源利用效率大幅提高，普遍服务水平持续...</td>\n      <td>0</td>\n      <td>0.404764</td>\n      <td>9</td>\n      <td>0.299629</td>\n    </tr>\n    <tr>\n      <th>1256</th>\n      <td>https://zhuanlan.zhihu.com/p/462566822</td>\n      <td>苏联 历次 对外 战争 理由 开战 方式 梳理 无 处天 战争 一个 国家 来说 生死攸关 ...</td>\n      <td>11</td>\n      <td>苏联历次对外战争的理由及开战方式梳理无所有处天战争对于一个国家来说，往往是生死攸关的大事，所...</td>\n      <td>6</td>\n      <td>0.306728</td>\n      <td>11</td>\n      <td>0.214002</td>\n    </tr>\n    <tr>\n      <th>1283</th>\n      <td>https://baike.baidu.com/item/%E9%A9%AC%E5%85%B...</td>\n      <td>古罗马 共和国 马其顿 王国 之间 4 次 战争 古罗马 共和国 马其顿 王国 之间 4 次...</td>\n      <td>11</td>\n      <td>古罗马共和国和马其顿王国之间的4次战争古罗马共和国和马其顿王国之间的4次战争。最终以罗马控制...</td>\n      <td>11</td>\n      <td>0.406539</td>\n      <td>0</td>\n      <td>0.174105</td>\n    </tr>\n    <tr>\n      <th>1285</th>\n      <td>http://fec.mofcom.gov.cn/article/fwydyl/zgzx/2...</td>\n      <td>叙利亚 驻华大使 一带 一路 使 重建 中 叙利亚 受益匪浅 2022 1 12 中国 叙利...</td>\n      <td>11</td>\n      <td>叙利亚驻华大使：加入“一带一路”将使重建中的叙利亚受益匪浅。2022年1月12日，中国和叙利...</td>\n      <td>11</td>\n      <td>0.467451</td>\n      <td>22</td>\n      <td>0.281272</td>\n    </tr>\n    <tr>\n      <th>1289</th>\n      <td>https://www.163.com/dy/article/GNO5GJPI0552C57...</td>\n      <td>一袋 米 换 一个 年轻漂亮 女人 回家 做 老婆 一个 盒饭 一杯 奶茶 钱 买 一个 女...</td>\n      <td>11</td>\n      <td>一袋米就可以换一个年轻漂亮的女人回家做老婆，甚至一个盒饭一杯奶茶的钱就可以买一个女人给你做牛...</td>\n      <td>11</td>\n      <td>0.447960</td>\n      <td>0</td>\n      <td>0.361472</td>\n    </tr>\n    <tr>\n      <th>1347</th>\n      <td>http://www.xinhuanet.com/politics/2019-07/31/c...</td>\n      <td>信息 网络 技术 飞速发展 互联网 已 渗透到 人类 生活 方方面面 国家 军事 斗争 战争...</td>\n      <td>11</td>\n      <td>随着信息和网络技术的飞速发展，互联网已渗透到人类生活的方方面面，并对国家安全、军事斗争以及战...</td>\n      <td>0</td>\n      <td>0.419444</td>\n      <td>6</td>\n      <td>0.139879</td>\n    </tr>\n    <tr>\n      <th>1414</th>\n      <td>https://www.voachinese.com/a/us-gop-lawmaker-c...</td>\n      <td>中国共产党 20 次 全国 党代表大会 之际 一位 国会 共和党人 预测 总书记 习近平 第...</td>\n      <td>12</td>\n      <td>在中国共产党正在召开第20次全国党代表大会之际，一位国会共和党人预测，总书记习近平进入第三任...</td>\n      <td>12</td>\n      <td>0.358941</td>\n      <td>6</td>\n      <td>0.226910</td>\n    </tr>\n    <tr>\n      <th>1435</th>\n      <td>https://zhuanlan.zhihu.com/p/578205638</td>\n      <td>台湾 历届 领导人 MiLva 努力 输入 尝试 输出 第一任 蒋介石 1948 4 19 ...</td>\n      <td>12</td>\n      <td>台湾历届领导人MiLva努力输入尝试输出第一任：蒋介石1948年4月19日——1975年4月...</td>\n      <td>12</td>\n      <td>0.442650</td>\n      <td>0</td>\n      <td>0.178665</td>\n    </tr>\n    <tr>\n      <th>1450</th>\n      <td>https://www.dw.com/zh/%E5%8F%B0%E6%B9%BE%E5%A4...</td>\n      <td>台湾 国防部 12 24 日称 24 小时 中 歼 10 歼 11 歼 16 各型 共 8 ...</td>\n      <td>12</td>\n      <td>台湾国防部12月24日称，在过去24小时中，又有歼-10、歼-11、歼-16等各型共8架战机...</td>\n      <td>5</td>\n      <td>0.284248</td>\n      <td>12</td>\n      <td>0.257995</td>\n    </tr>\n    <tr>\n      <th>1532</th>\n      <td>https://www.zhihu.com/question/625106944</td>\n      <td>军事 巴 冲突 美国 牵制 控制 中东地区 一步 好棋 关注 277 浏览 756 241 ...</td>\n      <td>13</td>\n      <td>军事「巴以冲突」是美国牵制和控制中东地区的一步好棋吗？关注者277被浏览756,241关注问...</td>\n      <td>6</td>\n      <td>0.450024</td>\n      <td>13</td>\n      <td>0.204767</td>\n    </tr>\n    <tr>\n      <th>1752</th>\n      <td>https://new.qq.com/rain/a/20230808A0A7FC00</td>\n      <td>连接 古今 成都 《 蜀川 胜概 图 跨越 近 千年 亮相 成都 大运会 闭幕式 封面 新闻...</td>\n      <td>14</td>\n      <td>连接古今成都 《蜀川胜概图》跨越近千年亮相成都大运会闭幕式封面新闻记者 李雨心恢宏浩瀚的水墨...</td>\n      <td>14</td>\n      <td>0.472651</td>\n      <td>0</td>\n      <td>0.330185</td>\n    </tr>\n    <tr>\n      <th>1844</th>\n      <td>https://it.ynnu.edu.cn/info/1055/2737.htm</td>\n      <td>2022 世界 百年 未有 大变局 加速 演进 世纪 疫情 影响 深远 美 西方 持续 加大...</td>\n      <td>0</td>\n      <td>2022 年，世界百年未有之大变局加速演进，世纪疫情影响深远。在美西方持续加大对我国芯片产业...</td>\n      <td>0</td>\n      <td>0.486197</td>\n      <td>5</td>\n      <td>0.189945</td>\n    </tr>\n    <tr>\n      <th>1888</th>\n      <td>https://cn.chinadaily.com.cn/a/202401/03/WS659...</td>\n      <td>新 时代 中国 山水 披绿纱 引来 德企 大当家 来自 德国 柯雪婷 Kerstin Kae...</td>\n      <td>0</td>\n      <td>新时代，我在中国 | 山水披绿纱，引来德企大当家来自德国的柯雪婷（Kerstin Kaehl...</td>\n      <td>0</td>\n      <td>0.367663</td>\n      <td>8</td>\n      <td>0.092623</td>\n    </tr>\n    <tr>\n      <th>1929</th>\n      <td>https://www.mem.gov.cn/xw/yjglbgzdt/202311/t20...</td>\n      <td>10 月份 我国 自然灾害 台风 洪涝灾害 风雹 低温 冷冻 雪灾 地震 地质灾害 森林 火...</td>\n      <td>0</td>\n      <td>10月份，我国自然灾害以台风、洪涝灾害为主，风雹、低温冷冻、雪灾、地震、地质灾害和森林火灾等...</td>\n      <td>18</td>\n      <td>0.489056</td>\n      <td>0</td>\n      <td>0.333686</td>\n    </tr>\n    <tr>\n      <th>1967</th>\n      <td>http://jtt.hebei.gov.cn/jtyst/jtzx/styw/101680...</td>\n      <td>5 6 省厅 印发 《 做好 2023 年度 防汛防台 风 工作 通知 全力 做好 防汛防台...</td>\n      <td>0</td>\n      <td>5月6日，省厅印发《关于做好2023年度防汛防台风工作的通知》，就全力做好防汛防台风，确保人...</td>\n      <td>0</td>\n      <td>0.352868</td>\n      <td>17</td>\n      <td>0.293375</td>\n    </tr>\n    <tr>\n      <th>2025</th>\n      <td>https://finance.sina.com.cn/wm/2023-07-28/doc-...</td>\n      <td>天津 启动 防洪 Ⅳ 级 应急 响应 明 持续 强降雨 下 台风 已 生成 天津市 防办 发...</td>\n      <td>0</td>\n      <td>天津启动防洪Ⅳ级应急响应！明起持续强降雨！下一台风已生成！天津市防办发布通知7月28日11时...</td>\n      <td>17</td>\n      <td>0.440685</td>\n      <td>0</td>\n      <td>0.402234</td>\n    </tr>\n    <tr>\n      <th>2094</th>\n      <td>http://www.cac.gov.cn/2024-01/03/c_17059456940...</td>\n      <td>近日 中央 网信 办 主办 2023 中国 正 能量 网络 精品 征集 展播 活动 正式 启...</td>\n      <td>0</td>\n      <td>近日，由中央网信办主办的2023中国正能量网络精品征集展播活动正式启动。活动以“凝聚强国力量...</td>\n      <td>0</td>\n      <td>0.477041</td>\n      <td>7</td>\n      <td>0.238010</td>\n    </tr>\n    <tr>\n      <th>2113</th>\n      <td>https://www.thepaper.cn/newsDetail_forward_255...</td>\n      <td>2023 全球 极端 天气 事件 频发 深刻 感受 全球 变暖 特征 气候变化 自然 生态环...</td>\n      <td>0</td>\n      <td>2023年全球极端天气事件频发，让人们更加深刻地感受到以全球变暖为主要特征的气候变化给自然生...</td>\n      <td>0</td>\n      <td>0.448501</td>\n      <td>17</td>\n      <td>0.257312</td>\n    </tr>\n    <tr>\n      <th>2442</th>\n      <td>https://new.qq.com/rain/a/20230924A00XLW00</td>\n      <td>举世瞩目 杭州 亚运会 开幕 国 领导人 出席 6 天内 中方 接连 美 俄 战略 互动 9...</td>\n      <td>16</td>\n      <td>举世瞩目！杭州亚运会开幕，多国领导人出席；6天内中方接连与美俄战略互动9月23日晚，杭州亚运...</td>\n      <td>16</td>\n      <td>0.470183</td>\n      <td>4</td>\n      <td>0.303415</td>\n    </tr>\n    <tr>\n      <th>2557</th>\n      <td>https://baike.baidu.com/item/10%C2%B75%E5%B1%B...</td>\n      <td>2021 10 5 山西省 晋中市 吕梁市 临汾市 发生 崩塌 滑坡 地质灾害 人员伤亡 2...</td>\n      <td>17</td>\n      <td>2021年10月5日，山西省晋中市、吕梁市、临汾市先后发生多起崩塌、滑坡等地质灾害，造成人员...</td>\n      <td>17</td>\n      <td>0.488251</td>\n      <td>0</td>\n      <td>0.230036</td>\n    </tr>\n    <tr>\n      <th>2571</th>\n      <td>https://www.thepaper.cn/newsDetail_forward_241...</td>\n      <td>几天 受 强台风 杜苏芮 环流 影响 京津冀 东北地区 发生 洪灾 牵动 亿万 国人 心 一...</td>\n      <td>17</td>\n      <td>这几天，受强台风“杜苏芮”环流影响，京津冀、东北地区发生了洪灾，牵动着亿万国人的心。一时间，...</td>\n      <td>17</td>\n      <td>0.496656</td>\n      <td>0</td>\n      <td>0.259915</td>\n    </tr>\n    <tr>\n      <th>2658</th>\n      <td>https://politics.gmw.cn/2023-12/20/content_370...</td>\n      <td>点击 右上角 微信 好友 朋友圈 请 浏览器 分享 功能 分享 导航 时政 国际 时评 理论...</td>\n      <td>18</td>\n      <td>点击右上角微信好友朋友圈请使用浏览器分享功能进行分享全部导航时政国际时评理论文化科技教育经济...</td>\n      <td>18</td>\n      <td>0.377565</td>\n      <td>17</td>\n      <td>0.319030</td>\n    </tr>\n    <tr>\n      <th>2663</th>\n      <td>https://www.gsdzj.gov.cn/jcyb/gzxx.htm</td>\n      <td>首页 单位 概况 党建 廉政 监测 预报 震害 防御 公共服务 科普 宣传 交流 互动 研究...</td>\n      <td>18</td>\n      <td>首页单位概况党建与廉政监测预报震害防御公共服务科普宣传交流互动研究生教育您当前的位置:首页&gt;...</td>\n      <td>18</td>\n      <td>0.459177</td>\n      <td>0</td>\n      <td>0.326758</td>\n    </tr>\n    <tr>\n      <th>2723</th>\n      <td>https://m.gmw.cn/2023-12/25/content_1303611500...</td>\n      <td>е Ё й ғ Ё е Ҝ ј и Ҳ Ә ж ¶ ж ҝ е ӣ Ҫ е Ҷ е ӣ Ҫ ...</td>\n      <td>18</td>\n      <td>е…ЁйғЁеҜјиҲӘж—¶ж”ҝеӣҪеҶ…еӣҪйҷ…иҙўз»ҸзӨҫдјҡеЁұд...</td>\n      <td>11</td>\n      <td>0.286772</td>\n      <td>19</td>\n      <td>0.248688</td>\n    </tr>\n    <tr>\n      <th>2756</th>\n      <td>https://www.163.com/dy/article/HO4Q7KQI0553IQI...</td>\n      <td>北京 明白 再次 火 神 十五 发射成功 网友 没 失望 我国 航天事业 发展 历程 艰辛...</td>\n      <td>19</td>\n      <td>一、“北京明白”再次火了，神十五发射成功，网友：果然没让我们失望我国航天事业发展历程艰辛，却...</td>\n      <td>19</td>\n      <td>0.282971</td>\n      <td>21</td>\n      <td>0.257822</td>\n    </tr>\n    <tr>\n      <th>2793</th>\n      <td>https://baike.baidu.com/item/%E4%B8%AD%E5%9B%B...</td>\n      <td>北京 时间 2023 10 26 11 时 14 分 搭载 神舟 十七号 载人 飞船 长征二...</td>\n      <td>19</td>\n      <td>北京时间2023年10月26日11时14分，搭载神舟十七号载人飞船的长征二号F遥十七运载火箭...</td>\n      <td>21</td>\n      <td>0.424988</td>\n      <td>20</td>\n      <td>0.421263</td>\n    </tr>\n    <tr>\n      <th>2808</th>\n      <td>https://www.thepaper.cn/newsDetail_forward_258...</td>\n      <td>下载 客户端 登录 无障碍 12023 重温 大国 重器 惊艳 时刻 2023 12 31 ...</td>\n      <td>19</td>\n      <td>下载客户端登录无障碍+12023：重温“大国重器”的惊艳时刻2023-12-31 21:00...</td>\n      <td>21</td>\n      <td>0.295850</td>\n      <td>20</td>\n      <td>0.247565</td>\n    </tr>\n    <tr>\n      <th>2814</th>\n      <td>https://mil.news.sina.com.cn/zonghe/2024-01-03...</td>\n      <td>2023 中国航天 交出 亮眼 成绩单 2024 发展 阶段 中国 空间站 迎来 新 访客 ...</td>\n      <td>19</td>\n      <td>2023年，中国航天交出了亮眼成绩单。2024年，进入应用与发展阶段的中国空间站将迎来新的“...</td>\n      <td>21</td>\n      <td>0.459746</td>\n      <td>19</td>\n      <td>0.273848</td>\n    </tr>\n    <tr>\n      <th>2824</th>\n      <td>https://www.163.com/dy/article/HNHJ6KCC0553OT1...</td>\n      <td>神舟 15 号 发射 时 火箭 飞行 157 秒 时 捆绑 4 助推器 成功 分离 约 1 ...</td>\n      <td>19</td>\n      <td>当神舟15号发射时，火箭飞行157秒时，首先捆绑的4个助推器成功分离，约1秒后的158秒后，...</td>\n      <td>21</td>\n      <td>0.335601</td>\n      <td>19</td>\n      <td>0.253606</td>\n    </tr>\n    <tr>\n      <th>2861</th>\n      <td>http://news.cyol.com/gb/articles/2024-01/03/co...</td>\n      <td>2023 12 31 日晚 国家 主席 习近平 发表 二 〇 二 四年 新年贺词 2013 ...</td>\n      <td>19</td>\n      <td>2023年12月31日晚，国家主席习近平发表二〇二四年新年贺词。自2013年岁末起，习近平主...</td>\n      <td>19</td>\n      <td>0.496722</td>\n      <td>21</td>\n      <td>0.147589</td>\n    </tr>\n    <tr>\n      <th>2872</th>\n      <td>https://zhuanlan.zhihu.com/p/588156715</td>\n      <td>神舟 15 号 发射 太空 探索 进程 无声 加快 故事 里 事 ​ 三峡 大学 工学 硕士...</td>\n      <td>19</td>\n      <td>神舟15号发射，我们的太空探索进程在无声加快故事里的事​三峡大学 工学硕士随着 2022 年...</td>\n      <td>19</td>\n      <td>0.470309</td>\n      <td>21</td>\n      <td>0.186084</td>\n    </tr>\n    <tr>\n      <th>2893</th>\n      <td>https://www.163.com/dy/article/II1EOD1905561JO...</td>\n      <td>神舟 17 号 载人 航天 飞船 点火 一瞬间 全场 观众 热血沸腾 心潮澎湃 瞬间 火焰 ...</td>\n      <td>20</td>\n      <td>神舟17号载人航天飞船点火的一瞬间，全场观众热血沸腾，心潮澎湃。那瞬间的火焰燃烧着我们对祖国...</td>\n      <td>21</td>\n      <td>0.309026</td>\n      <td>19</td>\n      <td>0.284626</td>\n    </tr>\n    <tr>\n      <th>2900</th>\n      <td>https://www.cmse.gov.cn/xwzx/202310/t20231025_...</td>\n      <td>北京 时间 2023 10 25 11 时 汤洪波 唐胜杰 江新林 3 名乘组 航天员 酒泉...</td>\n      <td>20</td>\n      <td>北京时间2023年10月25日11时，汤洪波、唐胜杰、江新林3名乘组航天员在酒泉卫星发射中心...</td>\n      <td>20</td>\n      <td>0.439631</td>\n      <td>21</td>\n      <td>0.125572</td>\n    </tr>\n    <tr>\n      <th>2921</th>\n      <td>https://www.163.com/dy/article/IJN184VR05565VL...</td>\n      <td>1999 11 20 我国 第一艘 航天 飞船 成功 发射 距今 为止 刚好 24 短短的 ...</td>\n      <td>20</td>\n      <td>1999年11月20日，我国第一艘航天飞船成功发射，距今为止刚好24年，在这短短的24年里，...</td>\n      <td>20</td>\n      <td>0.404665</td>\n      <td>19</td>\n      <td>0.223500</td>\n    </tr>\n    <tr>\n      <th>2925</th>\n      <td>https://www.thepaper.cn/newsDetail_forward_251...</td>\n      <td>神州 十七号 载人 飞船 3 名 航天员 抵达 中国 空间站 中国 航天员 第三次 太空 会...</td>\n      <td>20</td>\n      <td>神州十七号载人飞船的3名航天员抵达中国空间站，实现了中国航天员的第三次太空会师。在未来，更多...</td>\n      <td>20</td>\n      <td>0.317304</td>\n      <td>19</td>\n      <td>0.236666</td>\n    </tr>\n    <tr>\n      <th>2928</th>\n      <td>https://zhuanlan.zhihu.com/p/663672474</td>\n      <td>神舟 十七 正式 出征 西方 点 中国航天 震撼 吕喆 话 说 中国 人 来说 事 莫过于 ...</td>\n      <td>20</td>\n      <td>神舟十七正式出征：给西方来点“中国航天震撼”吕喆有话说对于所有中国人来说，最近最大的事莫过于...</td>\n      <td>20</td>\n      <td>0.484055</td>\n      <td>21</td>\n      <td>0.189396</td>\n    </tr>\n    <tr>\n      <th>2933</th>\n      <td>https://www.163.com/dy/article/II5AVUS10511840...</td>\n      <td>2023 10 26 11 时 14 分 中国 酒泉卫星发射中心 搭载 汤洪波 江新林 唐胜...</td>\n      <td>20</td>\n      <td>2023年10月26日11时14分，中国酒泉卫星发射中心，搭载着汤洪波、江新林和唐胜杰 3 ...</td>\n      <td>21</td>\n      <td>0.443773</td>\n      <td>20</td>\n      <td>0.264956</td>\n    </tr>\n    <tr>\n      <th>2963</th>\n      <td>https://www.dw.com/zh/%E7%A5%9E%E8%88%9F17%E5%...</td>\n      <td>神舟 17 号 发射成功 首度 执行 舱外 维修 载有 最 年轻 宇航员 乘组 神舟 17 ...</td>\n      <td>20</td>\n      <td>神舟17号发射成功 将首度执行舱外维修载有最年轻宇航员乘组的「神舟17号」于10月26日成功...</td>\n      <td>20</td>\n      <td>0.474798</td>\n      <td>21</td>\n      <td>0.230378</td>\n    </tr>\n    <tr>\n      <th>2977</th>\n      <td>https://www.sohu.com/a/727144765_121338666</td>\n      <td>神 17 本月 升空 飞船 空间站 对接 看 一篇 就够 上半年 我国 航空航天 成就 可谓...</td>\n      <td>20</td>\n      <td>神17本月升空，飞船与空间站如何对接，看这一篇就够了今年上半年我国在航空航天方面取得的成就可...</td>\n      <td>21</td>\n      <td>0.347910</td>\n      <td>19</td>\n      <td>0.282317</td>\n    </tr>\n    <tr>\n      <th>2989</th>\n      <td>http://www.news.cn/politics/20240103/92c83bb93...</td>\n      <td>2024 中国航天 精彩 可期 2024 01 03 08 38 18 来源 人民日报 海外...</td>\n      <td>20</td>\n      <td>2024，中国航天精彩可期2024-01-03 08:38:18来源：人民日报海外版神舟十五...</td>\n      <td>19</td>\n      <td>0.439720</td>\n      <td>21</td>\n      <td>0.320078</td>\n    </tr>\n    <tr>\n      <th>2996</th>\n      <td>https://new.qq.com/rain/a/20231026A06UU300</td>\n      <td>神 十七 成功 飞天 普通人 去 看 火箭 发射 五 四 三 二 点火 发射 瞬间 腾起 ...</td>\n      <td>20</td>\n      <td>“神十七”成功飞天，普通人也能去看火箭发射吗？“五、四、三、二、一，点火，发射！”随着瞬间腾...</td>\n      <td>0</td>\n      <td>0.367062</td>\n      <td>19</td>\n      <td>0.240661</td>\n    </tr>\n    <tr>\n      <th>3004</th>\n      <td>https://www.163.com/dy/article/I9IHFDL30552JMY...</td>\n      <td>1992 我国 提出 载人 航天 三步走 发展 战略 第一步 发射 载人 飞船 太空 返回地...</td>\n      <td>20</td>\n      <td>在1992年，我国提出了载人航天“三步走”的发展战略，第一步就是发射载人飞船进入太空，并安全...</td>\n      <td>21</td>\n      <td>0.436337</td>\n      <td>20</td>\n      <td>0.341511</td>\n    </tr>\n    <tr>\n      <th>3028</th>\n      <td>https://finance.sina.com.cn/tech/discovery/202...</td>\n      <td>期待 中国 载人 航天 2023 发射 出炉 5 神舟 十六 10 神舟 十七 期待 中国 ...</td>\n      <td>21</td>\n      <td>期待！中国载人航天2023年发射任务出炉：5月神舟十六、10月神舟十七期待！中国载人航天20...</td>\n      <td>20</td>\n      <td>0.498069</td>\n      <td>21</td>\n      <td>0.471327</td>\n    </tr>\n    <tr>\n      <th>3061</th>\n      <td>https://www.zuowen8.com/doc/6099201b43915f74.html</td>\n      <td>2023 神舟 16 号 发射成功 观后感 三 二 点火 火团 喷涌 而出 小小的 屏幕 画...</td>\n      <td>21</td>\n      <td>2023年神舟16号发射成功观后感“三、二、一，点火”。火团喷涌而出。望着小小的屏幕，我看到...</td>\n      <td>19</td>\n      <td>0.336480</td>\n      <td>21</td>\n      <td>0.205981</td>\n    </tr>\n    <tr>\n      <th>3075</th>\n      <td>https://www.bilibili.com/video/BV16M4y1i7zm/</td>\n      <td>神舟 十六号 发射 全过程 47002023 05 30 11 07 43 未经 作者 授权...</td>\n      <td>21</td>\n      <td>神舟十六号_发射全过程47002023-05-30 11:07:43未经作者授权，禁止转载9...</td>\n      <td>21</td>\n      <td>0.392373</td>\n      <td>13</td>\n      <td>0.106768</td>\n    </tr>\n    <tr>\n      <th>3099</th>\n      <td>http://news.cyol.com/gb/articles/2024-01/03/co...</td>\n      <td>2023 12 31 日晚 国家 主席 习近平 发表 二 〇 二 四年 新年贺词 2013 ...</td>\n      <td>21</td>\n      <td>2023年12月31日晚，国家主席习近平发表二〇二四年新年贺词。自2013年岁末起，习近平主...</td>\n      <td>19</td>\n      <td>0.490701</td>\n      <td>21</td>\n      <td>0.147679</td>\n    </tr>\n    <tr>\n      <th>3188</th>\n      <td>https://news.sina.com.cn/zx/gj/2024-01-03/doc-...</td>\n      <td>10 18 第三届 一带 一路 国际 合作 高峰论坛 开幕式 上 习近平 总书记 中国 支持...</td>\n      <td>22</td>\n      <td>10月18日，在第三届“一带一路”国际合作高峰论坛开幕式上，习近平总书记宣布了中国支持高质量...</td>\n      <td>22</td>\n      <td>0.396571</td>\n      <td>0</td>\n      <td>0.349237</td>\n    </tr>\n    <tr>\n      <th>3346</th>\n      <td>https://new.qq.com/rain/a/20231027A0899R00</td>\n      <td>叙利亚 印巴 缅甸 爆发 战火 美国 匕首 直 插 俄罗斯 后背 巧合 同一天 全球 三个 ...</td>\n      <td>23</td>\n      <td>为何叙利亚、印巴和缅甸同时爆发战火？美国的匕首直插俄罗斯后背这只是巧合吗？同一天，全球三个热...</td>\n      <td>23</td>\n      <td>0.414957</td>\n      <td>11</td>\n      <td>0.334665</td>\n    </tr>\n  </tbody>\n</table>\n</div>"
     },
     "execution_count": 32,
     "metadata": {},
     "output_type": "execute_result"
    }
   ],
   "source": [
    "low_prob = test[test['prob_top1'] < 0.5]\n",
    "low_prob"
   ],
   "metadata": {
    "collapsed": false,
    "ExecuteTime": {
     "end_time": "2024-03-25T07:57:53.313103Z",
     "start_time": "2024-03-25T07:57:53.277735Z"
    }
   },
   "id": "8a297b35e6e4e54a",
   "execution_count": 32
  },
  {
   "cell_type": "code",
   "outputs": [
    {
     "name": "stderr",
     "output_type": "stream",
     "text": [
      "C:\\ProgramData\\anaconda3\\Lib\\site-packages\\transformers\\utils\\generic.py:260: UserWarning: torch.utils._pytree._register_pytree_node is deprecated. Please use torch.utils._pytree.register_pytree_node instead.\n",
      "  torch.utils._pytree._register_pytree_node(\n",
      "'(MaxRetryError(\"HTTPSConnectionPool(host='huggingface.co', port=443): Max retries exceeded with url: /shibing624/text2vec-base-chinese-paraphrase/resolve/main/tokenizer_config.json (Caused by ConnectTimeoutError(<urllib3.connection.HTTPSConnection object at 0x0000025E625FD410>, 'Connection to huggingface.co timed out. (connect timeout=10)'))\"), '(Request ID: 85684f45-b0b9-4cb8-93de-2b1bf23db861)')' thrown while requesting HEAD https://huggingface.co/shibing624/text2vec-base-chinese-paraphrase/resolve/main/tokenizer_config.json\n",
      "'(MaxRetryError(\"HTTPSConnectionPool(host='huggingface.co', port=443): Max retries exceeded with url: /shibing624/text2vec-base-chinese-paraphrase/resolve/main/config.json (Caused by ConnectTimeoutError(<urllib3.connection.HTTPSConnection object at 0x0000025E6B0BB050>, 'Connection to huggingface.co timed out. (connect timeout=10)'))\"), '(Request ID: 7b8feb23-8cc4-4c7e-9c87-29f1a5ac3c13)')' thrown while requesting HEAD https://huggingface.co/shibing624/text2vec-base-chinese-paraphrase/resolve/main/config.json\n",
      "C:\\ProgramData\\anaconda3\\Lib\\site-packages\\transformers\\utils\\generic.py:260: UserWarning: torch.utils._pytree._register_pytree_node is deprecated. Please use torch.utils._pytree.register_pytree_node instead.\n",
      "  torch.utils._pytree._register_pytree_node(\n",
      "\u001B[32m2024-03-25 15:59:30.681\u001B[0m | \u001B[34m\u001B[1mDEBUG   \u001B[0m | \u001B[36mtext2vec.sentence_model\u001B[0m:\u001B[36m__init__\u001B[0m:\u001B[36m80\u001B[0m - \u001B[34m\u001B[1mUse device: cpu\u001B[0m\n",
      "100%|██████████| 60/60 [00:57<00:00,  1.04it/s]\n",
      "C:\\Users\\shens\\AppData\\Local\\Temp\\ipykernel_465440\\2954009043.py:19: SettingWithCopyWarning: \n",
      "A value is trying to be set on a copy of a slice from a DataFrame.\n",
      "Try using .loc[row_indexer,col_indexer] = value instead\n",
      "\n",
      "See the caveats in the documentation: https://pandas.pydata.org/pandas-docs/stable/user_guide/indexing.html#returning-a-view-versus-a-copy\n",
      "  low_prob['pred'] = preds\n",
      "C:\\Users\\shens\\AppData\\Local\\Temp\\ipykernel_465440\\2954009043.py:20: SettingWithCopyWarning: \n",
      "A value is trying to be set on a copy of a slice from a DataFrame.\n",
      "Try using .loc[row_indexer,col_indexer] = value instead\n",
      "\n",
      "See the caveats in the documentation: https://pandas.pydata.org/pandas-docs/stable/user_guide/indexing.html#returning-a-view-versus-a-copy\n",
      "  low_prob[\"max_sim\"] = max_sim\n"
     ]
    }
   ],
   "source": [
    "from sklearn.metrics.pairwise import cosine_similarity\n",
    "from text2vec import SentenceModel\n",
    "from tqdm import tqdm\n",
    "tqdm.pandas()\n",
    "import numpy as np\n",
    "m = SentenceModel(\"shibing624/text2vec-base-chinese-paraphrase\", max_seq_length=512, device=\"cpu\")\n",
    "cls_emb_center = joblib.load(\"cls_emb_center_512.pkl\")\n",
    "\n",
    "test_emb = [m.encode(i) for i in tqdm(low_prob['original_content'])]\n",
    "\n",
    "preds = []\n",
    "max_sim = []\n",
    "for i in test_emb:\n",
    "    sim = [cosine_similarity(i.reshape(1, -1), cls_emb_center[j].reshape(1, -1))[0][0] for j in range(24)]\n",
    "    max_sim.append(max(sim))\n",
    "    pred = np.argmax(sim)\n",
    "    preds.append(pred)\n",
    "\n",
    "low_prob['pred'] = preds\n",
    "low_prob[\"max_sim\"] = max_sim"
   ],
   "metadata": {
    "collapsed": false,
    "ExecuteTime": {
     "end_time": "2024-03-25T08:00:28.726090Z",
     "start_time": "2024-03-25T07:58:39.471553Z"
    }
   },
   "id": "d3726d20afe5143b",
   "execution_count": 33
  },
  {
   "cell_type": "code",
   "outputs": [
    {
     "data": {
      "text/plain": "                                                    url  \\\n82           https://new.qq.com/rain/a/20231110A08F9800   \n148   https://www.thepaper.cn/newsDetail_forward_230...   \n483   https://iis.fudan.edu.cn/24/42/c38284a468034/p...   \n1256             https://zhuanlan.zhihu.com/p/462566822   \n1285  http://fec.mofcom.gov.cn/article/fwydyl/zgzx/2...   \n1450  https://www.dw.com/zh/%E5%8F%B0%E6%B9%BE%E5%A4...   \n1888  https://cn.chinadaily.com.cn/a/202401/03/WS659...   \n1929  https://www.mem.gov.cn/xw/yjglbgzdt/202311/t20...   \n1967  http://jtt.hebei.gov.cn/jtyst/jtzx/styw/101680...   \n2025  https://finance.sina.com.cn/wm/2023-07-28/doc-...   \n2094  http://www.cac.gov.cn/2024-01/03/c_17059456940...   \n2442         https://new.qq.com/rain/a/20230924A00XLW00   \n2557  https://baike.baidu.com/item/10%C2%B75%E5%B1%B...   \n2723  https://m.gmw.cn/2023-12/25/content_1303611500...   \n2814  https://mil.news.sina.com.cn/zonghe/2024-01-03...   \n2893  https://www.163.com/dy/article/II1EOD1905561JO...   \n2921  https://www.163.com/dy/article/IJN184VR05565VL...   \n2925  https://www.thepaper.cn/newsDetail_forward_251...   \n3004  https://www.163.com/dy/article/I9IHFDL30552JMY...   \n3099  http://news.cyol.com/gb/articles/2024-01/03/co...   \n3346         https://new.qq.com/rain/a/20231027A0899R00   \n\n                                                content  topic  \\\n82    美国 已 中 俄 发出 邀请 普京 本人 去不去 俄罗斯 会 悬念 留 亚太经合组织 APE...      1   \n148   微软 采购 核聚变 初创 公司 Helion 电力 Helion 预计 2028 年前 上线...      2   \n483   11 14 世界 目光 投向 印尼 巴厘岛 一场 重磅 峰会 登场 二 十国集团 G20 峰...      4   \n1256  苏联 历次 对外 战争 理由 开战 方式 梳理 无 处天 战争 一个 国家 来说 生死攸关 ...     11   \n1285  叙利亚 驻华大使 一带 一路 使 重建 中 叙利亚 受益匪浅 2022 1 12 中国 叙利...     11   \n1450  台湾 国防部 12 24 日称 24 小时 中 歼 10 歼 11 歼 16 各型 共 8 ...     12   \n1888  新 时代 中国 山水 披绿纱 引来 德企 大当家 来自 德国 柯雪婷 Kerstin Kae...      0   \n1929  10 月份 我国 自然灾害 台风 洪涝灾害 风雹 低温 冷冻 雪灾 地震 地质灾害 森林 火...      0   \n1967  5 6 省厅 印发 《 做好 2023 年度 防汛防台 风 工作 通知 全力 做好 防汛防台...      0   \n2025  天津 启动 防洪 Ⅳ 级 应急 响应 明 持续 强降雨 下 台风 已 生成 天津市 防办 发...      0   \n2094  近日 中央 网信 办 主办 2023 中国 正 能量 网络 精品 征集 展播 活动 正式 启...      0   \n2442  举世瞩目 杭州 亚运会 开幕 国 领导人 出席 6 天内 中方 接连 美 俄 战略 互动 9...     16   \n2557  2021 10 5 山西省 晋中市 吕梁市 临汾市 发生 崩塌 滑坡 地质灾害 人员伤亡 2...     17   \n2723  е Ё й ғ Ё е Ҝ ј и Ҳ Ә ж ¶ ж ҝ е ӣ Ҫ е Ҷ е ӣ Ҫ ...     18   \n2814  2023 中国航天 交出 亮眼 成绩单 2024 发展 阶段 中国 空间站 迎来 新 访客 ...     19   \n2893  神舟 17 号 载人 航天 飞船 点火 一瞬间 全场 观众 热血沸腾 心潮澎湃 瞬间 火焰 ...     20   \n2921  1999 11 20 我国 第一艘 航天 飞船 成功 发射 距今 为止 刚好 24 短短的 ...     20   \n2925  神州 十七号 载人 飞船 3 名 航天员 抵达 中国 空间站 中国 航天员 第三次 太空 会...     20   \n3004  1992 我国 提出 载人 航天 三步走 发展 战略 第一步 发射 载人 飞船 太空 返回地...     20   \n3099  2023 12 31 日晚 国家 主席 习近平 发表 二 〇 二 四年 新年贺词 2013 ...     21   \n3346  叙利亚 印巴 缅甸 爆发 战火 美国 匕首 直 插 俄罗斯 后背 巧合 同一天 全球 三个 ...     23   \n\n                                       original_content  pred  prob_top1  \\\n82    美国已向中俄发出邀请，普京本人去不去，俄罗斯会把悬念留到最后今年的亚太经合组织（APEC）峰...     4   0.363054   \n148   微软将采购由核聚变初创公司Helion产生的电力，Helion预计2028年前上线50兆瓦核...     0   0.395752   \n483   11月14日，世界目光投向印尼巴厘岛，一场重磅峰会在此登场。在二十国集团（G20）峰会前夕，...     3   0.498739   \n1256  苏联历次对外战争的理由及开战方式梳理无所有处天战争对于一个国家来说，往往是生死攸关的大事，所...     6   0.306728   \n1285  叙利亚驻华大使：加入“一带一路”将使重建中的叙利亚受益匪浅。2022年1月12日，中国和叙利...    22   0.467451   \n1450  台湾国防部12月24日称，在过去24小时中，又有歼-10、歼-11、歼-16等各型共8架战机...    19   0.284248   \n1888  新时代，我在中国 | 山水披绿纱，引来德企大当家来自德国的柯雪婷（Kerstin Kaehl...    22   0.367663   \n1929  10月份，我国自然灾害以台风、洪涝灾害为主，风雹、低温冷冻、雪灾、地震、地质灾害和森林火灾等...    18   0.489056   \n1967  5月6日，省厅印发《关于做好2023年度防汛防台风工作的通知》，就全力做好防汛防台风，确保人...    17   0.352868   \n2025  天津启动防洪Ⅳ级应急响应！明起持续强降雨！下一台风已生成！天津市防办发布通知7月28日11时...    17   0.440685   \n2094  近日，由中央网信办主办的2023中国正能量网络精品征集展播活动正式启动。活动以“凝聚强国力量...     7   0.477041   \n2442  举世瞩目！杭州亚运会开幕，多国领导人出席；6天内中方接连与美俄战略互动9月23日晚，杭州亚运...     4   0.470183   \n2557  2021年10月5日，山西省晋中市、吕梁市、临汾市先后发生多起崩塌、滑坡等地质灾害，造成人员...    18   0.488251   \n2723  е…ЁйғЁеҜјиҲӘж—¶ж”ҝеӣҪеҶ…еӣҪйҷ…иҙўз»ҸзӨҫдјҡеЁұд...     0   0.286772   \n2814  2023年，中国航天交出了亮眼成绩单。2024年，进入应用与发展阶段的中国空间站将迎来新的“...    20   0.459746   \n2893  神舟17号载人航天飞船点火的一瞬间，全场观众热血沸腾，心潮澎湃。那瞬间的火焰燃烧着我们对祖国...    19   0.309026   \n2921  1999年11月20日，我国第一艘航天飞船成功发射，距今为止刚好24年，在这短短的24年里，...    19   0.404665   \n2925  神州十七号载人飞船的3名航天员抵达中国空间站，实现了中国航天员的第三次太空会师。在未来，更多...    19   0.317304   \n3004  在1992年，我国提出了载人航天“三步走”的发展战略，第一步就是发射载人飞船进入太空，并安全...    19   0.436337   \n3099  2023年12月31日晚，国家主席习近平发表二〇二四年新年贺词。自2013年岁末起，习近平主...    19   0.490701   \n3346  为何叙利亚、印巴和缅甸同时爆发战火？美国的匕首直插俄罗斯后背这只是巧合吗？同一天，全球三个热...    11   0.414957   \n\n      pred_top2  prob_top2   max_sim  \n82            1   0.324839  0.879174  \n148           2   0.275005  0.817163  \n483           3   0.455673  0.958168  \n1256         11   0.214002  0.883002  \n1285         22   0.281272  0.888616  \n1450         12   0.257995  0.808087  \n1888          8   0.092623  0.786593  \n1929          0   0.333686  0.899937  \n1967         17   0.293375  0.875500  \n2025          0   0.402234  0.913465  \n2094          7   0.238010  0.801917  \n2442          4   0.303415  0.899676  \n2557          0   0.230036  0.850073  \n2723         19   0.248688  0.858917  \n2814         19   0.273848  0.972866  \n2893         19   0.284626  0.911821  \n2921         19   0.223500  0.964863  \n2925         19   0.236666  0.949028  \n3004         20   0.341511  0.970170  \n3099         21   0.147679  0.862985  \n3346         11   0.334665  0.905501  ",
      "text/html": "<div>\n<style scoped>\n    .dataframe tbody tr th:only-of-type {\n        vertical-align: middle;\n    }\n\n    .dataframe tbody tr th {\n        vertical-align: top;\n    }\n\n    .dataframe thead th {\n        text-align: right;\n    }\n</style>\n<table border=\"1\" class=\"dataframe\">\n  <thead>\n    <tr style=\"text-align: right;\">\n      <th></th>\n      <th>url</th>\n      <th>content</th>\n      <th>topic</th>\n      <th>original_content</th>\n      <th>pred</th>\n      <th>prob_top1</th>\n      <th>pred_top2</th>\n      <th>prob_top2</th>\n      <th>max_sim</th>\n    </tr>\n  </thead>\n  <tbody>\n    <tr>\n      <th>82</th>\n      <td>https://new.qq.com/rain/a/20231110A08F9800</td>\n      <td>美国 已 中 俄 发出 邀请 普京 本人 去不去 俄罗斯 会 悬念 留 亚太经合组织 APE...</td>\n      <td>1</td>\n      <td>美国已向中俄发出邀请，普京本人去不去，俄罗斯会把悬念留到最后今年的亚太经合组织（APEC）峰...</td>\n      <td>4</td>\n      <td>0.363054</td>\n      <td>1</td>\n      <td>0.324839</td>\n      <td>0.879174</td>\n    </tr>\n    <tr>\n      <th>148</th>\n      <td>https://www.thepaper.cn/newsDetail_forward_230...</td>\n      <td>微软 采购 核聚变 初创 公司 Helion 电力 Helion 预计 2028 年前 上线...</td>\n      <td>2</td>\n      <td>微软将采购由核聚变初创公司Helion产生的电力，Helion预计2028年前上线50兆瓦核...</td>\n      <td>0</td>\n      <td>0.395752</td>\n      <td>2</td>\n      <td>0.275005</td>\n      <td>0.817163</td>\n    </tr>\n    <tr>\n      <th>483</th>\n      <td>https://iis.fudan.edu.cn/24/42/c38284a468034/p...</td>\n      <td>11 14 世界 目光 投向 印尼 巴厘岛 一场 重磅 峰会 登场 二 十国集团 G20 峰...</td>\n      <td>4</td>\n      <td>11月14日，世界目光投向印尼巴厘岛，一场重磅峰会在此登场。在二十国集团（G20）峰会前夕，...</td>\n      <td>3</td>\n      <td>0.498739</td>\n      <td>3</td>\n      <td>0.455673</td>\n      <td>0.958168</td>\n    </tr>\n    <tr>\n      <th>1256</th>\n      <td>https://zhuanlan.zhihu.com/p/462566822</td>\n      <td>苏联 历次 对外 战争 理由 开战 方式 梳理 无 处天 战争 一个 国家 来说 生死攸关 ...</td>\n      <td>11</td>\n      <td>苏联历次对外战争的理由及开战方式梳理无所有处天战争对于一个国家来说，往往是生死攸关的大事，所...</td>\n      <td>6</td>\n      <td>0.306728</td>\n      <td>11</td>\n      <td>0.214002</td>\n      <td>0.883002</td>\n    </tr>\n    <tr>\n      <th>1285</th>\n      <td>http://fec.mofcom.gov.cn/article/fwydyl/zgzx/2...</td>\n      <td>叙利亚 驻华大使 一带 一路 使 重建 中 叙利亚 受益匪浅 2022 1 12 中国 叙利...</td>\n      <td>11</td>\n      <td>叙利亚驻华大使：加入“一带一路”将使重建中的叙利亚受益匪浅。2022年1月12日，中国和叙利...</td>\n      <td>22</td>\n      <td>0.467451</td>\n      <td>22</td>\n      <td>0.281272</td>\n      <td>0.888616</td>\n    </tr>\n    <tr>\n      <th>1450</th>\n      <td>https://www.dw.com/zh/%E5%8F%B0%E6%B9%BE%E5%A4...</td>\n      <td>台湾 国防部 12 24 日称 24 小时 中 歼 10 歼 11 歼 16 各型 共 8 ...</td>\n      <td>12</td>\n      <td>台湾国防部12月24日称，在过去24小时中，又有歼-10、歼-11、歼-16等各型共8架战机...</td>\n      <td>19</td>\n      <td>0.284248</td>\n      <td>12</td>\n      <td>0.257995</td>\n      <td>0.808087</td>\n    </tr>\n    <tr>\n      <th>1888</th>\n      <td>https://cn.chinadaily.com.cn/a/202401/03/WS659...</td>\n      <td>新 时代 中国 山水 披绿纱 引来 德企 大当家 来自 德国 柯雪婷 Kerstin Kae...</td>\n      <td>0</td>\n      <td>新时代，我在中国 | 山水披绿纱，引来德企大当家来自德国的柯雪婷（Kerstin Kaehl...</td>\n      <td>22</td>\n      <td>0.367663</td>\n      <td>8</td>\n      <td>0.092623</td>\n      <td>0.786593</td>\n    </tr>\n    <tr>\n      <th>1929</th>\n      <td>https://www.mem.gov.cn/xw/yjglbgzdt/202311/t20...</td>\n      <td>10 月份 我国 自然灾害 台风 洪涝灾害 风雹 低温 冷冻 雪灾 地震 地质灾害 森林 火...</td>\n      <td>0</td>\n      <td>10月份，我国自然灾害以台风、洪涝灾害为主，风雹、低温冷冻、雪灾、地震、地质灾害和森林火灾等...</td>\n      <td>18</td>\n      <td>0.489056</td>\n      <td>0</td>\n      <td>0.333686</td>\n      <td>0.899937</td>\n    </tr>\n    <tr>\n      <th>1967</th>\n      <td>http://jtt.hebei.gov.cn/jtyst/jtzx/styw/101680...</td>\n      <td>5 6 省厅 印发 《 做好 2023 年度 防汛防台 风 工作 通知 全力 做好 防汛防台...</td>\n      <td>0</td>\n      <td>5月6日，省厅印发《关于做好2023年度防汛防台风工作的通知》，就全力做好防汛防台风，确保人...</td>\n      <td>17</td>\n      <td>0.352868</td>\n      <td>17</td>\n      <td>0.293375</td>\n      <td>0.875500</td>\n    </tr>\n    <tr>\n      <th>2025</th>\n      <td>https://finance.sina.com.cn/wm/2023-07-28/doc-...</td>\n      <td>天津 启动 防洪 Ⅳ 级 应急 响应 明 持续 强降雨 下 台风 已 生成 天津市 防办 发...</td>\n      <td>0</td>\n      <td>天津启动防洪Ⅳ级应急响应！明起持续强降雨！下一台风已生成！天津市防办发布通知7月28日11时...</td>\n      <td>17</td>\n      <td>0.440685</td>\n      <td>0</td>\n      <td>0.402234</td>\n      <td>0.913465</td>\n    </tr>\n    <tr>\n      <th>2094</th>\n      <td>http://www.cac.gov.cn/2024-01/03/c_17059456940...</td>\n      <td>近日 中央 网信 办 主办 2023 中国 正 能量 网络 精品 征集 展播 活动 正式 启...</td>\n      <td>0</td>\n      <td>近日，由中央网信办主办的2023中国正能量网络精品征集展播活动正式启动。活动以“凝聚强国力量...</td>\n      <td>7</td>\n      <td>0.477041</td>\n      <td>7</td>\n      <td>0.238010</td>\n      <td>0.801917</td>\n    </tr>\n    <tr>\n      <th>2442</th>\n      <td>https://new.qq.com/rain/a/20230924A00XLW00</td>\n      <td>举世瞩目 杭州 亚运会 开幕 国 领导人 出席 6 天内 中方 接连 美 俄 战略 互动 9...</td>\n      <td>16</td>\n      <td>举世瞩目！杭州亚运会开幕，多国领导人出席；6天内中方接连与美俄战略互动9月23日晚，杭州亚运...</td>\n      <td>4</td>\n      <td>0.470183</td>\n      <td>4</td>\n      <td>0.303415</td>\n      <td>0.899676</td>\n    </tr>\n    <tr>\n      <th>2557</th>\n      <td>https://baike.baidu.com/item/10%C2%B75%E5%B1%B...</td>\n      <td>2021 10 5 山西省 晋中市 吕梁市 临汾市 发生 崩塌 滑坡 地质灾害 人员伤亡 2...</td>\n      <td>17</td>\n      <td>2021年10月5日，山西省晋中市、吕梁市、临汾市先后发生多起崩塌、滑坡等地质灾害，造成人员...</td>\n      <td>18</td>\n      <td>0.488251</td>\n      <td>0</td>\n      <td>0.230036</td>\n      <td>0.850073</td>\n    </tr>\n    <tr>\n      <th>2723</th>\n      <td>https://m.gmw.cn/2023-12/25/content_1303611500...</td>\n      <td>е Ё й ғ Ё е Ҝ ј и Ҳ Ә ж ¶ ж ҝ е ӣ Ҫ е Ҷ е ӣ Ҫ ...</td>\n      <td>18</td>\n      <td>е…ЁйғЁеҜјиҲӘж—¶ж”ҝеӣҪеҶ…еӣҪйҷ…иҙўз»ҸзӨҫдјҡеЁұд...</td>\n      <td>0</td>\n      <td>0.286772</td>\n      <td>19</td>\n      <td>0.248688</td>\n      <td>0.858917</td>\n    </tr>\n    <tr>\n      <th>2814</th>\n      <td>https://mil.news.sina.com.cn/zonghe/2024-01-03...</td>\n      <td>2023 中国航天 交出 亮眼 成绩单 2024 发展 阶段 中国 空间站 迎来 新 访客 ...</td>\n      <td>19</td>\n      <td>2023年，中国航天交出了亮眼成绩单。2024年，进入应用与发展阶段的中国空间站将迎来新的“...</td>\n      <td>20</td>\n      <td>0.459746</td>\n      <td>19</td>\n      <td>0.273848</td>\n      <td>0.972866</td>\n    </tr>\n    <tr>\n      <th>2893</th>\n      <td>https://www.163.com/dy/article/II1EOD1905561JO...</td>\n      <td>神舟 17 号 载人 航天 飞船 点火 一瞬间 全场 观众 热血沸腾 心潮澎湃 瞬间 火焰 ...</td>\n      <td>20</td>\n      <td>神舟17号载人航天飞船点火的一瞬间，全场观众热血沸腾，心潮澎湃。那瞬间的火焰燃烧着我们对祖国...</td>\n      <td>19</td>\n      <td>0.309026</td>\n      <td>19</td>\n      <td>0.284626</td>\n      <td>0.911821</td>\n    </tr>\n    <tr>\n      <th>2921</th>\n      <td>https://www.163.com/dy/article/IJN184VR05565VL...</td>\n      <td>1999 11 20 我国 第一艘 航天 飞船 成功 发射 距今 为止 刚好 24 短短的 ...</td>\n      <td>20</td>\n      <td>1999年11月20日，我国第一艘航天飞船成功发射，距今为止刚好24年，在这短短的24年里，...</td>\n      <td>19</td>\n      <td>0.404665</td>\n      <td>19</td>\n      <td>0.223500</td>\n      <td>0.964863</td>\n    </tr>\n    <tr>\n      <th>2925</th>\n      <td>https://www.thepaper.cn/newsDetail_forward_251...</td>\n      <td>神州 十七号 载人 飞船 3 名 航天员 抵达 中国 空间站 中国 航天员 第三次 太空 会...</td>\n      <td>20</td>\n      <td>神州十七号载人飞船的3名航天员抵达中国空间站，实现了中国航天员的第三次太空会师。在未来，更多...</td>\n      <td>19</td>\n      <td>0.317304</td>\n      <td>19</td>\n      <td>0.236666</td>\n      <td>0.949028</td>\n    </tr>\n    <tr>\n      <th>3004</th>\n      <td>https://www.163.com/dy/article/I9IHFDL30552JMY...</td>\n      <td>1992 我国 提出 载人 航天 三步走 发展 战略 第一步 发射 载人 飞船 太空 返回地...</td>\n      <td>20</td>\n      <td>在1992年，我国提出了载人航天“三步走”的发展战略，第一步就是发射载人飞船进入太空，并安全...</td>\n      <td>19</td>\n      <td>0.436337</td>\n      <td>20</td>\n      <td>0.341511</td>\n      <td>0.970170</td>\n    </tr>\n    <tr>\n      <th>3099</th>\n      <td>http://news.cyol.com/gb/articles/2024-01/03/co...</td>\n      <td>2023 12 31 日晚 国家 主席 习近平 发表 二 〇 二 四年 新年贺词 2013 ...</td>\n      <td>21</td>\n      <td>2023年12月31日晚，国家主席习近平发表二〇二四年新年贺词。自2013年岁末起，习近平主...</td>\n      <td>19</td>\n      <td>0.490701</td>\n      <td>21</td>\n      <td>0.147679</td>\n      <td>0.862985</td>\n    </tr>\n    <tr>\n      <th>3346</th>\n      <td>https://new.qq.com/rain/a/20231027A0899R00</td>\n      <td>叙利亚 印巴 缅甸 爆发 战火 美国 匕首 直 插 俄罗斯 后背 巧合 同一天 全球 三个 ...</td>\n      <td>23</td>\n      <td>为何叙利亚、印巴和缅甸同时爆发战火？美国的匕首直插俄罗斯后背这只是巧合吗？同一天，全球三个热...</td>\n      <td>11</td>\n      <td>0.414957</td>\n      <td>11</td>\n      <td>0.334665</td>\n      <td>0.905501</td>\n    </tr>\n  </tbody>\n</table>\n</div>"
     },
     "execution_count": 34,
     "metadata": {},
     "output_type": "execute_result"
    }
   ],
   "source": [
    "low_prob_diff = low_prob[low_prob['topic'] != low_prob['pred']]\n",
    "low_prob_diff"
   ],
   "metadata": {
    "collapsed": false,
    "ExecuteTime": {
     "end_time": "2024-03-25T08:01:42.960255Z",
     "start_time": "2024-03-25T08:01:42.776749Z"
    }
   },
   "id": "779344d4f0b33d87",
   "execution_count": 34
  },
  {
   "cell_type": "code",
   "outputs": [
    {
     "name": "stdout",
     "output_type": "stream",
     "text": [
      "Accuracy: 0.976798825256975\n",
      "Precision: 0.976924927039556\n",
      "Recall: 0.976798825256975\n",
      "F1: 0.9767930393822226\n"
     ]
    }
   ],
   "source": [
    "test.update(low_prob[['pred']])\n",
    "accuracy = accuracy_score(test['topic'], test['pred'])\n",
    "precision = precision_score(test['topic'], test['pred'], average='weighted')\n",
    "recall = recall_score(test['topic'], test['pred'], average='weighted')\n",
    "f1 = f1_score(test['topic'], test['pred'], average='weighted')\n",
    "print(f'Accuracy: {accuracy}\\nPrecision: {precision}\\nRecall: {recall}\\nF1: {f1}')"
   ],
   "metadata": {
    "collapsed": false,
    "ExecuteTime": {
     "end_time": "2024-03-25T08:01:52.655062Z",
     "start_time": "2024-03-25T08:01:52.573841Z"
    }
   },
   "id": "c9d99457210607ba",
   "execution_count": 35
  },
  {
   "cell_type": "code",
   "outputs": [
    {
     "data": {
      "text/plain": "                                                    url  \\\n0     https://news.bjd.com.cn/2023/12/31/10663522.shtml   \n1     https://news.cctv.com/2023/11/17/ARTIMGJYjCtTJ...   \n2     https://www.chinacourt.org/article/detail/2023...   \n3     https://news.cctv.com/2023/11/17/ARTIvf5o43PK5...   \n4     http://politics.people.com.cn/n1/2023/1111/c10...   \n...                                                 ...   \n3400             https://zhuanlan.zhihu.com/p/667460523   \n3401         https://www.sohu.com/a/735213901_121451179   \n3402  https://www.163.com/dy/article/IJ95N89T0553S2O...   \n3403             https://zhuanlan.zhihu.com/p/666103475   \n3404             https://zhuanlan.zhihu.com/p/670528446   \n\n                                                content  topic  \\\n0     2023 习近平 主席 亲自 擘画 引领 中国 特色 大国 外交 扎实 推进 推动 构建 人...      1   \n1     当地 时间 11 16 习近平 主席 亚太经合组织 APEC 工商 领导人 峰会 发表 书面...      1   \n2     亚太经合组织 第三十次 领导人 非正式 会议 美国 旧金山 莫斯科 尼 中心 国家 主席 习...      1   \n3     习近平 出席 亚太经合组织 领导人 东道主 嘉宾 非正式 对话会 暨 工作 午宴 央视网 2...      1   \n4     中国 国家 主席 习近平 11 14 日应 美国 总统 拜登 邀请 赴美 中 美 领导人 会...      1   \n...                                                 ...    ...   \n3400  从头到尾 来讲 一遍 惯例 先 谈谈 缅甸 北部 那场 风波 这场 风波 源头 藏匿在 缅甸...     23   \n3401  缅北 全线 激战 敏昂 莱 誓言 反击 冲突 扩大化 中 缅 边境 乱 几天 缅甸 内战 爆...     23   \n3402  近日 缅甸 内战 再次 卷土重来 国际 社会 关注 这次 冲突 异常 纷乱 消息 传来 人 ...     23   \n3403  缅北 战火 越烧 越大 中方 做 两手 高层 去 缅甸 首都 清酒 半栩换种 角度 分析 故...     23   \n3404  缅甸 内战 俄罗斯 插手 缅北 局势 影响 中俄关系 清 飞扬 俄罗斯 派 专家 缅甸政府 ...     23   \n\n                                       original_content  pred  prob_top1  \\\n0     2023年，习近平主席亲自擘画引领，中国特色大国外交扎实推进。在推动构建人类命运共同体的崇高...    22   0.699783   \n1     当地时间11月16日，习近平主席向亚太经合组织（APEC）工商领导人峰会发表书面演讲，强调我...     1   0.992075   \n2     亚太经合组织第三十次领导人非正式会议在美国旧金山莫斯科尼中心举行。国家主席习近平出席会议并发...     1   0.993566   \n3     习近平出席亚太经合组织领导人同东道主嘉宾非正式对话会暨工作午宴央视网2023年11月17日 ...     1   0.984153   \n4     中国国家主席习近平将于11月14日应美国总统拜登邀请赴美举行中美领导人会晤，同时应邀出席亚太...     1   0.580717   \n...                                                 ...   ...        ...   \n3400  从头到尾来讲一遍，咱们按照惯例，先谈谈缅甸北部的那场风波。这场风波的源头是藏匿在缅甸北部的一...    23   0.886486   \n3401  缅北全线激战，敏昂莱誓言反击，冲突可能扩大化，中缅边境乱不得这几天，缅甸内战的爆发，引起了外...    23   0.993304   \n3402  近日，缅甸内战再次卷土重来，引起了国际社会广泛的关注。然而，这次的冲突异常纷乱，各种消息传来...    23   0.993926   \n3403  缅北战火越烧越大，中方做两手准备，高层直接去了缅甸首都清酒半栩换种角度分析故事，带你了解更有...    23   0.981772   \n3404  缅甸内战，俄罗斯插手缅北局势，是否影响中俄关系清飞扬俄罗斯派专家帮助缅甸政府打击果敢同盟军，...    23   0.952609   \n\n      pred_top2  prob_top2  \n0             1   0.267317  \n1             0   0.001749  \n2             0   0.002441  \n3             0   0.004991  \n4             4   0.406247  \n...         ...        ...  \n3400          0   0.101815  \n3401          0   0.002566  \n3402          0   0.001408  \n3403         22   0.007741  \n3404          6   0.024929  \n\n[3405 rows x 8 columns]",
      "text/html": "<div>\n<style scoped>\n    .dataframe tbody tr th:only-of-type {\n        vertical-align: middle;\n    }\n\n    .dataframe tbody tr th {\n        vertical-align: top;\n    }\n\n    .dataframe thead th {\n        text-align: right;\n    }\n</style>\n<table border=\"1\" class=\"dataframe\">\n  <thead>\n    <tr style=\"text-align: right;\">\n      <th></th>\n      <th>url</th>\n      <th>content</th>\n      <th>topic</th>\n      <th>original_content</th>\n      <th>pred</th>\n      <th>prob_top1</th>\n      <th>pred_top2</th>\n      <th>prob_top2</th>\n    </tr>\n  </thead>\n  <tbody>\n    <tr>\n      <th>0</th>\n      <td>https://news.bjd.com.cn/2023/12/31/10663522.shtml</td>\n      <td>2023 习近平 主席 亲自 擘画 引领 中国 特色 大国 外交 扎实 推进 推动 构建 人...</td>\n      <td>1</td>\n      <td>2023年，习近平主席亲自擘画引领，中国特色大国外交扎实推进。在推动构建人类命运共同体的崇高...</td>\n      <td>22</td>\n      <td>0.699783</td>\n      <td>1</td>\n      <td>0.267317</td>\n    </tr>\n    <tr>\n      <th>1</th>\n      <td>https://news.cctv.com/2023/11/17/ARTIMGJYjCtTJ...</td>\n      <td>当地 时间 11 16 习近平 主席 亚太经合组织 APEC 工商 领导人 峰会 发表 书面...</td>\n      <td>1</td>\n      <td>当地时间11月16日，习近平主席向亚太经合组织（APEC）工商领导人峰会发表书面演讲，强调我...</td>\n      <td>1</td>\n      <td>0.992075</td>\n      <td>0</td>\n      <td>0.001749</td>\n    </tr>\n    <tr>\n      <th>2</th>\n      <td>https://www.chinacourt.org/article/detail/2023...</td>\n      <td>亚太经合组织 第三十次 领导人 非正式 会议 美国 旧金山 莫斯科 尼 中心 国家 主席 习...</td>\n      <td>1</td>\n      <td>亚太经合组织第三十次领导人非正式会议在美国旧金山莫斯科尼中心举行。国家主席习近平出席会议并发...</td>\n      <td>1</td>\n      <td>0.993566</td>\n      <td>0</td>\n      <td>0.002441</td>\n    </tr>\n    <tr>\n      <th>3</th>\n      <td>https://news.cctv.com/2023/11/17/ARTIvf5o43PK5...</td>\n      <td>习近平 出席 亚太经合组织 领导人 东道主 嘉宾 非正式 对话会 暨 工作 午宴 央视网 2...</td>\n      <td>1</td>\n      <td>习近平出席亚太经合组织领导人同东道主嘉宾非正式对话会暨工作午宴央视网2023年11月17日 ...</td>\n      <td>1</td>\n      <td>0.984153</td>\n      <td>0</td>\n      <td>0.004991</td>\n    </tr>\n    <tr>\n      <th>4</th>\n      <td>http://politics.people.com.cn/n1/2023/1111/c10...</td>\n      <td>中国 国家 主席 习近平 11 14 日应 美国 总统 拜登 邀请 赴美 中 美 领导人 会...</td>\n      <td>1</td>\n      <td>中国国家主席习近平将于11月14日应美国总统拜登邀请赴美举行中美领导人会晤，同时应邀出席亚太...</td>\n      <td>1</td>\n      <td>0.580717</td>\n      <td>4</td>\n      <td>0.406247</td>\n    </tr>\n    <tr>\n      <th>...</th>\n      <td>...</td>\n      <td>...</td>\n      <td>...</td>\n      <td>...</td>\n      <td>...</td>\n      <td>...</td>\n      <td>...</td>\n      <td>...</td>\n    </tr>\n    <tr>\n      <th>3400</th>\n      <td>https://zhuanlan.zhihu.com/p/667460523</td>\n      <td>从头到尾 来讲 一遍 惯例 先 谈谈 缅甸 北部 那场 风波 这场 风波 源头 藏匿在 缅甸...</td>\n      <td>23</td>\n      <td>从头到尾来讲一遍，咱们按照惯例，先谈谈缅甸北部的那场风波。这场风波的源头是藏匿在缅甸北部的一...</td>\n      <td>23</td>\n      <td>0.886486</td>\n      <td>0</td>\n      <td>0.101815</td>\n    </tr>\n    <tr>\n      <th>3401</th>\n      <td>https://www.sohu.com/a/735213901_121451179</td>\n      <td>缅北 全线 激战 敏昂 莱 誓言 反击 冲突 扩大化 中 缅 边境 乱 几天 缅甸 内战 爆...</td>\n      <td>23</td>\n      <td>缅北全线激战，敏昂莱誓言反击，冲突可能扩大化，中缅边境乱不得这几天，缅甸内战的爆发，引起了外...</td>\n      <td>23</td>\n      <td>0.993304</td>\n      <td>0</td>\n      <td>0.002566</td>\n    </tr>\n    <tr>\n      <th>3402</th>\n      <td>https://www.163.com/dy/article/IJ95N89T0553S2O...</td>\n      <td>近日 缅甸 内战 再次 卷土重来 国际 社会 关注 这次 冲突 异常 纷乱 消息 传来 人 ...</td>\n      <td>23</td>\n      <td>近日，缅甸内战再次卷土重来，引起了国际社会广泛的关注。然而，这次的冲突异常纷乱，各种消息传来...</td>\n      <td>23</td>\n      <td>0.993926</td>\n      <td>0</td>\n      <td>0.001408</td>\n    </tr>\n    <tr>\n      <th>3403</th>\n      <td>https://zhuanlan.zhihu.com/p/666103475</td>\n      <td>缅北 战火 越烧 越大 中方 做 两手 高层 去 缅甸 首都 清酒 半栩换种 角度 分析 故...</td>\n      <td>23</td>\n      <td>缅北战火越烧越大，中方做两手准备，高层直接去了缅甸首都清酒半栩换种角度分析故事，带你了解更有...</td>\n      <td>23</td>\n      <td>0.981772</td>\n      <td>22</td>\n      <td>0.007741</td>\n    </tr>\n    <tr>\n      <th>3404</th>\n      <td>https://zhuanlan.zhihu.com/p/670528446</td>\n      <td>缅甸 内战 俄罗斯 插手 缅北 局势 影响 中俄关系 清 飞扬 俄罗斯 派 专家 缅甸政府 ...</td>\n      <td>23</td>\n      <td>缅甸内战，俄罗斯插手缅北局势，是否影响中俄关系清飞扬俄罗斯派专家帮助缅甸政府打击果敢同盟军，...</td>\n      <td>23</td>\n      <td>0.952609</td>\n      <td>6</td>\n      <td>0.024929</td>\n    </tr>\n  </tbody>\n</table>\n<p>3405 rows × 8 columns</p>\n</div>"
     },
     "execution_count": 36,
     "metadata": {},
     "output_type": "execute_result"
    }
   ],
   "source": [
    "test"
   ],
   "metadata": {
    "collapsed": false,
    "ExecuteTime": {
     "end_time": "2024-03-25T08:01:54.564987Z",
     "start_time": "2024-03-25T08:01:54.540234Z"
    }
   },
   "id": "8022a370b177b346",
   "execution_count": 36
  },
  {
   "cell_type": "code",
   "outputs": [
    {
     "data": {
      "text/plain": "                                                    url  \\\n0     https://news.bjd.com.cn/2023/12/31/10663522.shtml   \n7            https://new.qq.com/rain/a/20231018A08MIN00   \n43    https://news.cctv.com/2023/11/19/ARTI7YpXS4mLy...   \n60    https://news.sina.com.cn/zx/gj/2023-11-14/doc-...   \n82           https://new.qq.com/rain/a/20231110A08F9800   \n...                                                 ...   \n3096  https://www.cmse.gov.cn/xwzx/202211/t20221129_...   \n3099  http://news.cyol.com/gb/articles/2024-01/03/co...   \n3127  http://www.china.com.cn/opinion2020/2023-10/28...   \n3132  https://www.163.com/dy/article/IA3TOMIN0532CE7...   \n3346         https://new.qq.com/rain/a/20231027A0899R00   \n\n                                                content  topic  \\\n0     2023 习近平 主席 亲自 擘画 引领 中国 特色 大国 外交 扎实 推进 推动 构建 人...      1   \n7     APEC 峰会 前 公使 提出 四点 核心 利益 中 美 会晤 看 美 表现 一带 一路 国...      1   \n43    焦点访谈 把舵 中美关系 领航 亚太 合作 央视网 2023 11 19 22 01 加载 ...      1   \n60    亚太 国家 地区 领导人 13 抵达 美国 亚太经合组织 APEC 第三十次 领导人 非正式...      1   \n82    美国 已 中 俄 发出 邀请 普京 本人 去不去 俄罗斯 会 悬念 留 亚太经合组织 APE...      1   \n...                                                 ...    ...   \n3096  2022 11 28 上午 9 时 神舟 十五号 载人 飞行 新闻 发布会 酒泉卫星发射中心...     21   \n3099  2023 12 31 日晚 国家 主席 习近平 发表 二 〇 二 四年 新年贺词 2013 ...     21   \n3127  神舟 十七号 发射成功 续写 飞天 梦想 建设 航天 强国 北京 时间 10 26 11 时...     21   \n3132  神舟 十六号 出舱 多个 首次 神 十七 10 发射 航天员 杨利伟 7 国外 航天 执行 ...     21   \n3346  叙利亚 印巴 缅甸 爆发 战火 美国 匕首 直 插 俄罗斯 后背 巧合 同一天 全球 三个 ...     23   \n\n                                       original_content  pred  prob_top1  \\\n0     2023年，习近平主席亲自擘画引领，中国特色大国外交扎实推进。在推动构建人类命运共同体的崇高...    22   0.699783   \n7     APEC峰会前，我公使提出四点核心利益，中美是否会晤，得看美表现“一带一路”国际高峰论坛取得...     4   0.590462   \n43    焦点访谈：把舵中美关系 领航亚太合作央视网2023年11月19日 22:01正在加载央视网消...     4   0.837395   \n60    随着亚太一些国家和地区领导人从13日开始抵达美国，亚太经合组织（APEC）第三十次领导人非正...     4   0.762252   \n82    美国已向中俄发出邀请，普京本人去不去，俄罗斯会把悬念留到最后今年的亚太经合组织（APEC）峰...     4   0.363054   \n...                                                 ...   ...        ...   \n3096  2022年11月28日上午9时，神舟十五号载人飞行任务新闻发布会在酒泉卫星发射中心召开，中国...    19   0.925985   \n3099  2023年12月31日晚，国家主席习近平发表二〇二四年新年贺词。自2013年岁末起，习近平主...    19   0.490701   \n3127  神舟十七号发射成功：续写飞天梦想，建设航天强国。北京时间10月26日11时13分59秒，搭载...    20   0.937831   \n3132  神舟十六号出舱，有多个首次！神十七10月发射，有航天员杨利伟？7月，国外的航天任务执行可能最...    20   0.692039   \n3346  为何叙利亚、印巴和缅甸同时爆发战火？美国的匕首直插俄罗斯后背这只是巧合吗？同一天，全球三个热...    11   0.414957   \n\n      pred_top2  prob_top2  \n0             1   0.267317  \n7             1   0.284999  \n43            1   0.138323  \n60            1   0.189153  \n82            1   0.324839  \n...         ...        ...  \n3096         21   0.062508  \n3099         21   0.147679  \n3127         19   0.042744  \n3132         21   0.299740  \n3346         11   0.334665  \n\n[79 rows x 8 columns]",
      "text/html": "<div>\n<style scoped>\n    .dataframe tbody tr th:only-of-type {\n        vertical-align: middle;\n    }\n\n    .dataframe tbody tr th {\n        vertical-align: top;\n    }\n\n    .dataframe thead th {\n        text-align: right;\n    }\n</style>\n<table border=\"1\" class=\"dataframe\">\n  <thead>\n    <tr style=\"text-align: right;\">\n      <th></th>\n      <th>url</th>\n      <th>content</th>\n      <th>topic</th>\n      <th>original_content</th>\n      <th>pred</th>\n      <th>prob_top1</th>\n      <th>pred_top2</th>\n      <th>prob_top2</th>\n    </tr>\n  </thead>\n  <tbody>\n    <tr>\n      <th>0</th>\n      <td>https://news.bjd.com.cn/2023/12/31/10663522.shtml</td>\n      <td>2023 习近平 主席 亲自 擘画 引领 中国 特色 大国 外交 扎实 推进 推动 构建 人...</td>\n      <td>1</td>\n      <td>2023年，习近平主席亲自擘画引领，中国特色大国外交扎实推进。在推动构建人类命运共同体的崇高...</td>\n      <td>22</td>\n      <td>0.699783</td>\n      <td>1</td>\n      <td>0.267317</td>\n    </tr>\n    <tr>\n      <th>7</th>\n      <td>https://new.qq.com/rain/a/20231018A08MIN00</td>\n      <td>APEC 峰会 前 公使 提出 四点 核心 利益 中 美 会晤 看 美 表现 一带 一路 国...</td>\n      <td>1</td>\n      <td>APEC峰会前，我公使提出四点核心利益，中美是否会晤，得看美表现“一带一路”国际高峰论坛取得...</td>\n      <td>4</td>\n      <td>0.590462</td>\n      <td>1</td>\n      <td>0.284999</td>\n    </tr>\n    <tr>\n      <th>43</th>\n      <td>https://news.cctv.com/2023/11/19/ARTI7YpXS4mLy...</td>\n      <td>焦点访谈 把舵 中美关系 领航 亚太 合作 央视网 2023 11 19 22 01 加载 ...</td>\n      <td>1</td>\n      <td>焦点访谈：把舵中美关系 领航亚太合作央视网2023年11月19日 22:01正在加载央视网消...</td>\n      <td>4</td>\n      <td>0.837395</td>\n      <td>1</td>\n      <td>0.138323</td>\n    </tr>\n    <tr>\n      <th>60</th>\n      <td>https://news.sina.com.cn/zx/gj/2023-11-14/doc-...</td>\n      <td>亚太 国家 地区 领导人 13 抵达 美国 亚太经合组织 APEC 第三十次 领导人 非正式...</td>\n      <td>1</td>\n      <td>随着亚太一些国家和地区领导人从13日开始抵达美国，亚太经合组织（APEC）第三十次领导人非正...</td>\n      <td>4</td>\n      <td>0.762252</td>\n      <td>1</td>\n      <td>0.189153</td>\n    </tr>\n    <tr>\n      <th>82</th>\n      <td>https://new.qq.com/rain/a/20231110A08F9800</td>\n      <td>美国 已 中 俄 发出 邀请 普京 本人 去不去 俄罗斯 会 悬念 留 亚太经合组织 APE...</td>\n      <td>1</td>\n      <td>美国已向中俄发出邀请，普京本人去不去，俄罗斯会把悬念留到最后今年的亚太经合组织（APEC）峰...</td>\n      <td>4</td>\n      <td>0.363054</td>\n      <td>1</td>\n      <td>0.324839</td>\n    </tr>\n    <tr>\n      <th>...</th>\n      <td>...</td>\n      <td>...</td>\n      <td>...</td>\n      <td>...</td>\n      <td>...</td>\n      <td>...</td>\n      <td>...</td>\n      <td>...</td>\n    </tr>\n    <tr>\n      <th>3096</th>\n      <td>https://www.cmse.gov.cn/xwzx/202211/t20221129_...</td>\n      <td>2022 11 28 上午 9 时 神舟 十五号 载人 飞行 新闻 发布会 酒泉卫星发射中心...</td>\n      <td>21</td>\n      <td>2022年11月28日上午9时，神舟十五号载人飞行任务新闻发布会在酒泉卫星发射中心召开，中国...</td>\n      <td>19</td>\n      <td>0.925985</td>\n      <td>21</td>\n      <td>0.062508</td>\n    </tr>\n    <tr>\n      <th>3099</th>\n      <td>http://news.cyol.com/gb/articles/2024-01/03/co...</td>\n      <td>2023 12 31 日晚 国家 主席 习近平 发表 二 〇 二 四年 新年贺词 2013 ...</td>\n      <td>21</td>\n      <td>2023年12月31日晚，国家主席习近平发表二〇二四年新年贺词。自2013年岁末起，习近平主...</td>\n      <td>19</td>\n      <td>0.490701</td>\n      <td>21</td>\n      <td>0.147679</td>\n    </tr>\n    <tr>\n      <th>3127</th>\n      <td>http://www.china.com.cn/opinion2020/2023-10/28...</td>\n      <td>神舟 十七号 发射成功 续写 飞天 梦想 建设 航天 强国 北京 时间 10 26 11 时...</td>\n      <td>21</td>\n      <td>神舟十七号发射成功：续写飞天梦想，建设航天强国。北京时间10月26日11时13分59秒，搭载...</td>\n      <td>20</td>\n      <td>0.937831</td>\n      <td>19</td>\n      <td>0.042744</td>\n    </tr>\n    <tr>\n      <th>3132</th>\n      <td>https://www.163.com/dy/article/IA3TOMIN0532CE7...</td>\n      <td>神舟 十六号 出舱 多个 首次 神 十七 10 发射 航天员 杨利伟 7 国外 航天 执行 ...</td>\n      <td>21</td>\n      <td>神舟十六号出舱，有多个首次！神十七10月发射，有航天员杨利伟？7月，国外的航天任务执行可能最...</td>\n      <td>20</td>\n      <td>0.692039</td>\n      <td>21</td>\n      <td>0.299740</td>\n    </tr>\n    <tr>\n      <th>3346</th>\n      <td>https://new.qq.com/rain/a/20231027A0899R00</td>\n      <td>叙利亚 印巴 缅甸 爆发 战火 美国 匕首 直 插 俄罗斯 后背 巧合 同一天 全球 三个 ...</td>\n      <td>23</td>\n      <td>为何叙利亚、印巴和缅甸同时爆发战火？美国的匕首直插俄罗斯后背这只是巧合吗？同一天，全球三个热...</td>\n      <td>11</td>\n      <td>0.414957</td>\n      <td>11</td>\n      <td>0.334665</td>\n    </tr>\n  </tbody>\n</table>\n<p>79 rows × 8 columns</p>\n</div>"
     },
     "execution_count": 37,
     "metadata": {},
     "output_type": "execute_result"
    }
   ],
   "source": [
    "diff = test[test['topic'] != test['pred']]\n",
    "diff"
   ],
   "metadata": {
    "collapsed": false,
    "ExecuteTime": {
     "end_time": "2024-03-25T08:01:57.893233Z",
     "start_time": "2024-03-25T08:01:57.817551Z"
    }
   },
   "id": "16625df54a997a2c",
   "execution_count": 37
  },
  {
   "cell_type": "code",
   "outputs": [],
   "source": [],
   "metadata": {
    "collapsed": false,
    "ExecuteTime": {
     "end_time": "2024-03-21T15:13:20.051799Z",
     "start_time": "2024-03-21T15:13:20.049534Z"
    }
   },
   "id": "8ab7af855b4721fd",
   "execution_count": 70
  },
  {
   "cell_type": "code",
   "outputs": [],
   "source": [],
   "metadata": {
    "collapsed": false
   },
   "id": "cf9bb960f0477898"
  }
 ],
 "metadata": {
  "kernelspec": {
   "display_name": "Python 3",
   "language": "python",
   "name": "python3"
  },
  "language_info": {
   "codemirror_mode": {
    "name": "ipython",
    "version": 2
   },
   "file_extension": ".py",
   "mimetype": "text/x-python",
   "name": "python",
   "nbconvert_exporter": "python",
   "pygments_lexer": "ipython2",
   "version": "2.7.6"
  }
 },
 "nbformat": 4,
 "nbformat_minor": 5
}

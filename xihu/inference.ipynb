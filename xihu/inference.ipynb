{
 "cells": [
  {
   "cell_type": "code",
   "execution_count": 30,
   "id": "initial_id",
   "metadata": {
    "collapsed": true,
    "ExecuteTime": {
     "end_time": "2024-03-21T09:52:14.476220Z",
     "start_time": "2024-03-21T09:52:14.472750Z"
    }
   },
   "outputs": [],
   "source": [
    "import joblib\n",
    "import re\n",
    "import string\n",
    "import jieba\n",
    "import pandas as pd\n",
    "from tokenizers import (\n",
    "    models,\n",
    "    normalizers,\n",
    "    pre_tokenizers,\n",
    "    trainers,\n",
    "    Tokenizer,\n",
    ")\n",
    "\n",
    "from datasets import Dataset\n",
    "from tqdm import tqdm\n",
    "tqdm.pandas()\n",
    "from transformers import PreTrainedTokenizerFast\n",
    "from sklearn.metrics import accuracy_score, precision_score, recall_score, f1_score"
   ]
  },
  {
   "cell_type": "code",
   "outputs": [],
   "source": [
    "# 请修改测试集文件名\n",
    "test_dir = 'test.csv'"
   ],
   "metadata": {
    "collapsed": false,
    "ExecuteTime": {
     "end_time": "2024-03-21T09:52:16.400232Z",
     "start_time": "2024-03-21T09:52:16.397818Z"
    }
   },
   "id": "ca7314ef3715ac2d",
   "execution_count": 31
  },
  {
   "cell_type": "code",
   "outputs": [],
   "source": [
    "# 如测试集中不存在topic列，请使用 test = df[['content']]\n",
    "df = pd.read_csv(test_dir)\n",
    "test = df[['content', 'topic']]\n",
    "#test = df[['content']]"
   ],
   "metadata": {
    "collapsed": false,
    "ExecuteTime": {
     "end_time": "2024-03-21T09:52:18.419889Z",
     "start_time": "2024-03-21T09:52:18.294689Z"
    }
   },
   "id": "ff5e9472577941ce",
   "execution_count": 32
  },
  {
   "cell_type": "code",
   "outputs": [],
   "source": [
    "def get_stopword():\n",
    "    with open('baidu_stopwords.txt', 'r', encoding='utf-8') as f:\n",
    "        stopwords = set(line.strip() for line in f)\n",
    "    stopwords.update([\"年\",\"月\",\"日\"])\n",
    "    return stopwords\n",
    "\n",
    "def wordopt_cn(text):\n",
    "    # replace punctuation with space\n",
    "    no_punct = re.sub(pattern, ' ', text)\n",
    "    return str(no_punct)\n",
    "\n",
    "def remove_stopwords(words):\n",
    "    return (word for word in words if word not in stopwords)\n",
    "\n",
    "def process_content(content):\n",
    "    content = wordopt_cn(content)\n",
    "    words = jieba.cut(content)\n",
    "    words = remove_stopwords(words)\n",
    "    content = ' '.join(words)\n",
    "    content = re.sub(spaces_pattern, ' ', content)\n",
    "    return content\n",
    "\n",
    "# Precompile the regular expressions\n",
    "punctuation = \"！？｡。＂＃＄％＆＇（）＊＋，－／：；＜＝＞＠［＼］＾＿｀｛｜｝～｟｠｢｣､、〃》「」『』【】〔〕〖〗〘〙〚〛〜〝〞〟〰〾〿–—‘’‛“”„‟…‧﹏.\" + string.punctuation\n",
    "pattern = re.compile('[%s]' % re.escape(punctuation))\n",
    "spaces_pattern = re.compile(r'\\s+')\n",
    "stopwords = get_stopword()"
   ],
   "metadata": {
    "collapsed": false,
    "ExecuteTime": {
     "end_time": "2024-03-21T09:52:20.240441Z",
     "start_time": "2024-03-21T09:52:20.232370Z"
    }
   },
   "id": "97c719af0f4b9ad0",
   "execution_count": 33
  },
  {
   "cell_type": "code",
   "outputs": [
    {
     "name": "stderr",
     "output_type": "stream",
     "text": [
      "C:\\Users\\shens\\AppData\\Local\\Temp\\ipykernel_10144\\2199731547.py:1: SettingWithCopyWarning: \n",
      "A value is trying to be set on a copy of a slice from a DataFrame.\n",
      "Try using .loc[row_indexer,col_indexer] = value instead\n",
      "\n",
      "See the caveats in the documentation: https://pandas.pydata.org/pandas-docs/stable/user_guide/indexing.html#returning-a-view-versus-a-copy\n",
      "  test['original_content'] = test['content']\n",
      "100%|██████████| 3405/3405 [00:11<00:00, 303.01it/s]\n",
      "C:\\Users\\shens\\AppData\\Local\\Temp\\ipykernel_10144\\2199731547.py:2: SettingWithCopyWarning: \n",
      "A value is trying to be set on a copy of a slice from a DataFrame.\n",
      "Try using .loc[row_indexer,col_indexer] = value instead\n",
      "\n",
      "See the caveats in the documentation: https://pandas.pydata.org/pandas-docs/stable/user_guide/indexing.html#returning-a-view-versus-a-copy\n",
      "  test['content'] = test['content'].progress_apply(process_content)\n"
     ]
    }
   ],
   "source": [
    "test['original_content'] = test['content']\n",
    "test['content'] = test['content'].progress_apply(process_content)"
   ],
   "metadata": {
    "collapsed": false,
    "ExecuteTime": {
     "end_time": "2024-03-21T09:52:33.357859Z",
     "start_time": "2024-03-21T09:52:22.115497Z"
    }
   },
   "id": "563d74f5ef150668",
   "execution_count": 34
  },
  {
   "cell_type": "code",
   "execution_count": 35,
   "outputs": [],
   "source": [
    "def dummy(text):\n",
    "    return text\n",
    "#test=pd.read_csv('test_jieba.csv')\n",
    "vectorizer = joblib.load('vectorizer.pkl')\n",
    "model = joblib.load('ensemble.pkl')"
   ],
   "metadata": {
    "collapsed": false,
    "ExecuteTime": {
     "end_time": "2024-03-21T09:52:35.481170Z",
     "start_time": "2024-03-21T09:52:35.147480Z"
    }
   },
   "id": "2dfff10c72362666"
  },
  {
   "cell_type": "code",
   "execution_count": 36,
   "outputs": [
    {
     "name": "stderr",
     "output_type": "stream",
     "text": [
      "100%|██████████| 3405/3405 [00:01<00:00, 1886.64it/s]\n"
     ]
    }
   ],
   "source": [
    "LOWERCASE = False\n",
    "VOCAB_SIZE = 100_000\n",
    "raw_tokenizer = Tokenizer(models.BPE(unk_token=\"[UNK]\"))\n",
    "raw_tokenizer.normalizer = normalizers.Sequence([normalizers.NFC()] + [normalizers.Lowercase()] if LOWERCASE else [])\n",
    "raw_tokenizer.pre_tokenizer = pre_tokenizers.WhitespaceSplit()\n",
    "\n",
    "special_tokens = [\"[UNK]\", \"[PAD]\", \"[CLS]\", \"[SEP]\", \"[MASK]\"]\n",
    "trainer = trainers.BpeTrainer(vocab_size=VOCAB_SIZE, special_tokens=special_tokens)\n",
    "\n",
    "dataset = Dataset.from_pandas(test[['content']])\n",
    "\n",
    "\n",
    "def train_corp_iter():\n",
    "    for i in range(0, len(dataset), 1000):\n",
    "        yield dataset[i: i + 1000][\"content\"]\n",
    "\n",
    "\n",
    "raw_tokenizer.train_from_iterator(train_corp_iter(), trainer=trainer)\n",
    "tokenizer = PreTrainedTokenizerFast(\n",
    "    tokenizer_object=raw_tokenizer,\n",
    "    unk_token=\"[UNK]\",\n",
    "    pad_token=\"[PAD]\",\n",
    "    cls_token=\"[CLS]\",\n",
    "    sep_token=\"[SEP]\",\n",
    "    mask_token=\"[MASK]\",\n",
    ")\n",
    "tokenized_texts_test = []\n",
    "\n",
    "for text in tqdm(test['content'].tolist()):\n",
    "    tokenized_texts_test.append(tokenizer.tokenize(text))\n",
    "    \n",
    "tf_test = vectorizer.transform(tokenized_texts_test)"
   ],
   "metadata": {
    "collapsed": false,
    "ExecuteTime": {
     "end_time": "2024-03-21T09:52:41.220915Z",
     "start_time": "2024-03-21T09:52:37.320481Z"
    }
   },
   "id": "80530d185e8c729c"
  },
  {
   "cell_type": "code",
   "execution_count": 37,
   "outputs": [
    {
     "name": "stderr",
     "output_type": "stream",
     "text": [
      "C:\\Users\\shens\\AppData\\Local\\Temp\\ipykernel_10144\\1750799718.py:3: SettingWithCopyWarning: \n",
      "A value is trying to be set on a copy of a slice from a DataFrame.\n",
      "Try using .loc[row_indexer,col_indexer] = value instead\n",
      "\n",
      "See the caveats in the documentation: https://pandas.pydata.org/pandas-docs/stable/user_guide/indexing.html#returning-a-view-versus-a-copy\n",
      "  test[\"pred\"] = pred\n"
     ]
    },
    {
     "data": {
      "text/plain": "                                                content  topic  \\\n0     2023 习近平 主席 亲自 擘画 引领 中国 特色 大国 外交 扎实 推进 推动 构建 人...      1   \n1     当地 时间 11 16 习近平 主席 亚太经合组织 APEC 工商 领导人 峰会 发表 书面...      1   \n2     亚太经合组织 第三十次 领导人 非正式 会议 美国 旧金山 莫斯科 尼 中心 国家 主席 习...      1   \n3     习近平 出席 亚太经合组织 领导人 东道主 嘉宾 非正式 对话会 暨 工作 午宴 央视网 2...      1   \n4     中国 国家 主席 习近平 11 14 日应 美国 总统 拜登 邀请 赴美 中 美 领导人 会...      1   \n...                                                 ...    ...   \n3400  从头到尾 来讲 一遍 惯例 先 谈谈 缅甸 北部 那场 风波 这场 风波 源头 藏匿在 缅甸...     23   \n3401  缅北 全线 激战 敏昂 莱 誓言 反击 冲突 扩大化 中 缅 边境 乱 几天 缅甸 内战 爆...     23   \n3402  近日 缅甸 内战 再次 卷土重来 国际 社会 关注 这次 冲突 异常 纷乱 消息 传来 人 ...     23   \n3403  缅北 战火 越烧 越大 中方 做 两手 高层 去 缅甸 首都 清酒 半栩换种 角度 分析 故...     23   \n3404  缅甸 内战 俄罗斯 插手 缅北 局势 影响 中俄关系 清 飞扬 俄罗斯 派 专家 缅甸政府 ...     23   \n\n                                       original_content  pred      prob  \n0     2023年，习近平主席亲自擘画引领，中国特色大国外交扎实推进。在推动构建人类命运共同体的崇高...    22  0.698144  \n1     当地时间11月16日，习近平主席向亚太经合组织（APEC）工商领导人峰会发表书面演讲，强调我...     1  0.992717  \n2     亚太经合组织第三十次领导人非正式会议在美国旧金山莫斯科尼中心举行。国家主席习近平出席会议并发...     1  0.993817  \n3     习近平出席亚太经合组织领导人同东道主嘉宾非正式对话会暨工作午宴央视网2023年11月17日 ...     1  0.978806  \n4     中国国家主席习近平将于11月14日应美国总统拜登邀请赴美举行中美领导人会晤，同时应邀出席亚太...     1  0.668087  \n...                                                 ...   ...       ...  \n3400  从头到尾来讲一遍，咱们按照惯例，先谈谈缅甸北部的那场风波。这场风波的源头是藏匿在缅甸北部的一...    23  0.904904  \n3401  缅北全线激战，敏昂莱誓言反击，冲突可能扩大化，中缅边境乱不得这几天，缅甸内战的爆发，引起了外...    23  0.992973  \n3402  近日，缅甸内战再次卷土重来，引起了国际社会广泛的关注。然而，这次的冲突异常纷乱，各种消息传来...    23  0.993701  \n3403  缅北战火越烧越大，中方做两手准备，高层直接去了缅甸首都清酒半栩换种角度分析故事，带你了解更有...    23  0.989968  \n3404  缅甸内战，俄罗斯插手缅北局势，是否影响中俄关系清飞扬俄罗斯派专家帮助缅甸政府打击果敢同盟军，...    23  0.946566  \n\n[3405 rows x 5 columns]",
      "text/html": "<div>\n<style scoped>\n    .dataframe tbody tr th:only-of-type {\n        vertical-align: middle;\n    }\n\n    .dataframe tbody tr th {\n        vertical-align: top;\n    }\n\n    .dataframe thead th {\n        text-align: right;\n    }\n</style>\n<table border=\"1\" class=\"dataframe\">\n  <thead>\n    <tr style=\"text-align: right;\">\n      <th></th>\n      <th>content</th>\n      <th>topic</th>\n      <th>original_content</th>\n      <th>pred</th>\n      <th>prob</th>\n    </tr>\n  </thead>\n  <tbody>\n    <tr>\n      <th>0</th>\n      <td>2023 习近平 主席 亲自 擘画 引领 中国 特色 大国 外交 扎实 推进 推动 构建 人...</td>\n      <td>1</td>\n      <td>2023年，习近平主席亲自擘画引领，中国特色大国外交扎实推进。在推动构建人类命运共同体的崇高...</td>\n      <td>22</td>\n      <td>0.698144</td>\n    </tr>\n    <tr>\n      <th>1</th>\n      <td>当地 时间 11 16 习近平 主席 亚太经合组织 APEC 工商 领导人 峰会 发表 书面...</td>\n      <td>1</td>\n      <td>当地时间11月16日，习近平主席向亚太经合组织（APEC）工商领导人峰会发表书面演讲，强调我...</td>\n      <td>1</td>\n      <td>0.992717</td>\n    </tr>\n    <tr>\n      <th>2</th>\n      <td>亚太经合组织 第三十次 领导人 非正式 会议 美国 旧金山 莫斯科 尼 中心 国家 主席 习...</td>\n      <td>1</td>\n      <td>亚太经合组织第三十次领导人非正式会议在美国旧金山莫斯科尼中心举行。国家主席习近平出席会议并发...</td>\n      <td>1</td>\n      <td>0.993817</td>\n    </tr>\n    <tr>\n      <th>3</th>\n      <td>习近平 出席 亚太经合组织 领导人 东道主 嘉宾 非正式 对话会 暨 工作 午宴 央视网 2...</td>\n      <td>1</td>\n      <td>习近平出席亚太经合组织领导人同东道主嘉宾非正式对话会暨工作午宴央视网2023年11月17日 ...</td>\n      <td>1</td>\n      <td>0.978806</td>\n    </tr>\n    <tr>\n      <th>4</th>\n      <td>中国 国家 主席 习近平 11 14 日应 美国 总统 拜登 邀请 赴美 中 美 领导人 会...</td>\n      <td>1</td>\n      <td>中国国家主席习近平将于11月14日应美国总统拜登邀请赴美举行中美领导人会晤，同时应邀出席亚太...</td>\n      <td>1</td>\n      <td>0.668087</td>\n    </tr>\n    <tr>\n      <th>...</th>\n      <td>...</td>\n      <td>...</td>\n      <td>...</td>\n      <td>...</td>\n      <td>...</td>\n    </tr>\n    <tr>\n      <th>3400</th>\n      <td>从头到尾 来讲 一遍 惯例 先 谈谈 缅甸 北部 那场 风波 这场 风波 源头 藏匿在 缅甸...</td>\n      <td>23</td>\n      <td>从头到尾来讲一遍，咱们按照惯例，先谈谈缅甸北部的那场风波。这场风波的源头是藏匿在缅甸北部的一...</td>\n      <td>23</td>\n      <td>0.904904</td>\n    </tr>\n    <tr>\n      <th>3401</th>\n      <td>缅北 全线 激战 敏昂 莱 誓言 反击 冲突 扩大化 中 缅 边境 乱 几天 缅甸 内战 爆...</td>\n      <td>23</td>\n      <td>缅北全线激战，敏昂莱誓言反击，冲突可能扩大化，中缅边境乱不得这几天，缅甸内战的爆发，引起了外...</td>\n      <td>23</td>\n      <td>0.992973</td>\n    </tr>\n    <tr>\n      <th>3402</th>\n      <td>近日 缅甸 内战 再次 卷土重来 国际 社会 关注 这次 冲突 异常 纷乱 消息 传来 人 ...</td>\n      <td>23</td>\n      <td>近日，缅甸内战再次卷土重来，引起了国际社会广泛的关注。然而，这次的冲突异常纷乱，各种消息传来...</td>\n      <td>23</td>\n      <td>0.993701</td>\n    </tr>\n    <tr>\n      <th>3403</th>\n      <td>缅北 战火 越烧 越大 中方 做 两手 高层 去 缅甸 首都 清酒 半栩换种 角度 分析 故...</td>\n      <td>23</td>\n      <td>缅北战火越烧越大，中方做两手准备，高层直接去了缅甸首都清酒半栩换种角度分析故事，带你了解更有...</td>\n      <td>23</td>\n      <td>0.989968</td>\n    </tr>\n    <tr>\n      <th>3404</th>\n      <td>缅甸 内战 俄罗斯 插手 缅北 局势 影响 中俄关系 清 飞扬 俄罗斯 派 专家 缅甸政府 ...</td>\n      <td>23</td>\n      <td>缅甸内战，俄罗斯插手缅北局势，是否影响中俄关系清飞扬俄罗斯派专家帮助缅甸政府打击果敢同盟军，...</td>\n      <td>23</td>\n      <td>0.946566</td>\n    </tr>\n  </tbody>\n</table>\n<p>3405 rows × 5 columns</p>\n</div>"
     },
     "execution_count": 37,
     "metadata": {},
     "output_type": "execute_result"
    }
   ],
   "source": [
    "pred = model.predict(tf_test)\n",
    "prob = model.predict_proba(tf_test)\n",
    "test[\"pred\"] = pred\n",
    "test[\"prob\"] = prob.max(axis=1)\n",
    "test"
   ],
   "metadata": {
    "collapsed": false,
    "ExecuteTime": {
     "end_time": "2024-03-21T09:52:43.522395Z",
     "start_time": "2024-03-21T09:52:43.048404Z"
    }
   },
   "id": "fb689736615bfb10"
  },
  {
   "cell_type": "code",
   "outputs": [
    {
     "data": {
      "text/plain": "                                                content  topic  \\\n0     2023 习近平 主席 亲自 擘画 引领 中国 特色 大国 外交 扎实 推进 推动 构建 人...      1   \n7     APEC 峰会 前 公使 提出 四点 核心 利益 中 美 会晤 看 美 表现 一带 一路 国...      1   \n40    2023 亚太经合 会 APEC 领袖 峰会 今 15 日于 美国 旧金山 登场 泰国 总理...      1   \n43    焦点访谈 把舵 中美关系 领航 亚太 合作 央视网 2023 11 19 22 01 加载 ...      1   \n60    亚太 国家 地区 领导人 13 抵达 美国 亚太经合组织 APEC 第三十次 领导人 非正式...      1   \n...                                                 ...    ...   \n3096  2022 11 28 上午 9 时 神舟 十五号 载人 飞行 新闻 发布会 酒泉卫星发射中心...     21   \n3099  2023 12 31 日晚 国家 主席 习近平 发表 二 〇 二 四年 新年贺词 2013 ...     21   \n3127  神舟 十七号 发射成功 续写 飞天 梦想 建设 航天 强国 北京 时间 10 26 11 时...     21   \n3132  神舟 十六号 出舱 多个 首次 神 十七 10 发射 航天员 杨利伟 7 国外 航天 执行 ...     21   \n3346  叙利亚 印巴 缅甸 爆发 战火 美国 匕首 直 插 俄罗斯 后背 巧合 同一天 全球 三个 ...     23   \n\n                                       original_content  pred      prob  \n0     2023年，习近平主席亲自擘画引领，中国特色大国外交扎实推进。在推动构建人类命运共同体的崇高...    22  0.698144  \n7     APEC峰会前，我公使提出四点核心利益，中美是否会晤，得看美表现“一带一路”国际高峰论坛取得...     4  0.511553  \n40    2023年亚太经合会APEC领袖峰会今(15)日于美国旧金山登场，泰国总理赛塔(Settha...     0  0.498137  \n43    焦点访谈：把舵中美关系 领航亚太合作央视网2023年11月19日 22:01正在加载央视网消...     4  0.792356  \n60    随着亚太一些国家和地区领导人从13日开始抵达美国，亚太经合组织（APEC）第三十次领导人非正...     4  0.731006  \n...                                                 ...   ...       ...  \n3096  2022年11月28日上午9时，神舟十五号载人飞行任务新闻发布会在酒泉卫星发射中心召开，中国...    19  0.925044  \n3099  2023年12月31日晚，国家主席习近平发表二〇二四年新年贺词。自2013年岁末起，习近平主...    19  0.490948  \n3127  神舟十七号发射成功：续写飞天梦想，建设航天强国。北京时间10月26日11时13分59秒，搭载...    20  0.946573  \n3132  神舟十六号出舱，有多个首次！神十七10月发射，有航天员杨利伟？7月，国外的航天任务执行可能最...    20  0.714251  \n3346  为何叙利亚、印巴和缅甸同时爆发战火？美国的匕首直插俄罗斯后背这只是巧合吗？同一天，全球三个热...    11  0.436134  \n\n[85 rows x 5 columns]",
      "text/html": "<div>\n<style scoped>\n    .dataframe tbody tr th:only-of-type {\n        vertical-align: middle;\n    }\n\n    .dataframe tbody tr th {\n        vertical-align: top;\n    }\n\n    .dataframe thead th {\n        text-align: right;\n    }\n</style>\n<table border=\"1\" class=\"dataframe\">\n  <thead>\n    <tr style=\"text-align: right;\">\n      <th></th>\n      <th>content</th>\n      <th>topic</th>\n      <th>original_content</th>\n      <th>pred</th>\n      <th>prob</th>\n    </tr>\n  </thead>\n  <tbody>\n    <tr>\n      <th>0</th>\n      <td>2023 习近平 主席 亲自 擘画 引领 中国 特色 大国 外交 扎实 推进 推动 构建 人...</td>\n      <td>1</td>\n      <td>2023年，习近平主席亲自擘画引领，中国特色大国外交扎实推进。在推动构建人类命运共同体的崇高...</td>\n      <td>22</td>\n      <td>0.698144</td>\n    </tr>\n    <tr>\n      <th>7</th>\n      <td>APEC 峰会 前 公使 提出 四点 核心 利益 中 美 会晤 看 美 表现 一带 一路 国...</td>\n      <td>1</td>\n      <td>APEC峰会前，我公使提出四点核心利益，中美是否会晤，得看美表现“一带一路”国际高峰论坛取得...</td>\n      <td>4</td>\n      <td>0.511553</td>\n    </tr>\n    <tr>\n      <th>40</th>\n      <td>2023 亚太经合 会 APEC 领袖 峰会 今 15 日于 美国 旧金山 登场 泰国 总理...</td>\n      <td>1</td>\n      <td>2023年亚太经合会APEC领袖峰会今(15)日于美国旧金山登场，泰国总理赛塔(Settha...</td>\n      <td>0</td>\n      <td>0.498137</td>\n    </tr>\n    <tr>\n      <th>43</th>\n      <td>焦点访谈 把舵 中美关系 领航 亚太 合作 央视网 2023 11 19 22 01 加载 ...</td>\n      <td>1</td>\n      <td>焦点访谈：把舵中美关系 领航亚太合作央视网2023年11月19日 22:01正在加载央视网消...</td>\n      <td>4</td>\n      <td>0.792356</td>\n    </tr>\n    <tr>\n      <th>60</th>\n      <td>亚太 国家 地区 领导人 13 抵达 美国 亚太经合组织 APEC 第三十次 领导人 非正式...</td>\n      <td>1</td>\n      <td>随着亚太一些国家和地区领导人从13日开始抵达美国，亚太经合组织（APEC）第三十次领导人非正...</td>\n      <td>4</td>\n      <td>0.731006</td>\n    </tr>\n    <tr>\n      <th>...</th>\n      <td>...</td>\n      <td>...</td>\n      <td>...</td>\n      <td>...</td>\n      <td>...</td>\n    </tr>\n    <tr>\n      <th>3096</th>\n      <td>2022 11 28 上午 9 时 神舟 十五号 载人 飞行 新闻 发布会 酒泉卫星发射中心...</td>\n      <td>21</td>\n      <td>2022年11月28日上午9时，神舟十五号载人飞行任务新闻发布会在酒泉卫星发射中心召开，中国...</td>\n      <td>19</td>\n      <td>0.925044</td>\n    </tr>\n    <tr>\n      <th>3099</th>\n      <td>2023 12 31 日晚 国家 主席 习近平 发表 二 〇 二 四年 新年贺词 2013 ...</td>\n      <td>21</td>\n      <td>2023年12月31日晚，国家主席习近平发表二〇二四年新年贺词。自2013年岁末起，习近平主...</td>\n      <td>19</td>\n      <td>0.490948</td>\n    </tr>\n    <tr>\n      <th>3127</th>\n      <td>神舟 十七号 发射成功 续写 飞天 梦想 建设 航天 强国 北京 时间 10 26 11 时...</td>\n      <td>21</td>\n      <td>神舟十七号发射成功：续写飞天梦想，建设航天强国。北京时间10月26日11时13分59秒，搭载...</td>\n      <td>20</td>\n      <td>0.946573</td>\n    </tr>\n    <tr>\n      <th>3132</th>\n      <td>神舟 十六号 出舱 多个 首次 神 十七 10 发射 航天员 杨利伟 7 国外 航天 执行 ...</td>\n      <td>21</td>\n      <td>神舟十六号出舱，有多个首次！神十七10月发射，有航天员杨利伟？7月，国外的航天任务执行可能最...</td>\n      <td>20</td>\n      <td>0.714251</td>\n    </tr>\n    <tr>\n      <th>3346</th>\n      <td>叙利亚 印巴 缅甸 爆发 战火 美国 匕首 直 插 俄罗斯 后背 巧合 同一天 全球 三个 ...</td>\n      <td>23</td>\n      <td>为何叙利亚、印巴和缅甸同时爆发战火？美国的匕首直插俄罗斯后背这只是巧合吗？同一天，全球三个热...</td>\n      <td>11</td>\n      <td>0.436134</td>\n    </tr>\n  </tbody>\n</table>\n<p>85 rows × 5 columns</p>\n</div>"
     },
     "execution_count": 38,
     "metadata": {},
     "output_type": "execute_result"
    }
   ],
   "source": [
    "diff = test[test['topic'] != test['pred']]\n",
    "diff"
   ],
   "metadata": {
    "collapsed": false,
    "ExecuteTime": {
     "end_time": "2024-03-21T09:52:50.279303Z",
     "start_time": "2024-03-21T09:52:50.272643Z"
    }
   },
   "id": "30b63f9ee97e01a",
   "execution_count": 38
  },
  {
   "cell_type": "code",
   "execution_count": 39,
   "outputs": [
    {
     "name": "stdout",
     "output_type": "stream",
     "text": [
      "Accuracy: 0.9750367107195301\n",
      "Precision: 0.9752436834777642\n",
      "Recall: 0.9750367107195301\n",
      "F1: 0.9750324678322444\n"
     ]
    }
   ],
   "source": [
    "accuracy = accuracy_score(test['topic'], test['pred'])\n",
    "precision = precision_score(test['topic'], test['pred'], average='weighted')\n",
    "recall = recall_score(test['topic'], test['pred'], average='weighted')\n",
    "f1 = f1_score(test['topic'], test['pred'], average='weighted')\n",
    "print(f'Accuracy: {accuracy}\\nPrecision: {precision}\\nRecall: {recall}\\nF1: {f1}')"
   ],
   "metadata": {
    "collapsed": false,
    "ExecuteTime": {
     "end_time": "2024-03-21T09:52:52.199439Z",
     "start_time": "2024-03-21T09:52:52.192586Z"
    }
   },
   "id": "3bae231bdfd6fe71"
  },
  {
   "cell_type": "code",
   "outputs": [
    {
     "data": {
      "text/plain": "                                                content  topic  \\\n40    2023 亚太经合 会 APEC 领袖 峰会 今 15 日于 美国 旧金山 登场 泰国 总理...      1   \n82    美国 已 中 俄 发出 邀请 普京 本人 去不去 俄罗斯 会 悬念 留 亚太经合组织 APE...      1   \n148   微软 采购 核聚变 初创 公司 Helion 电力 Helion 预计 2028 年前 上线...      2   \n252   2023 新德里 G20 领导人 峰会 成员国 名单 特邀 成员国 名单 印度 拟定 20 ...      3   \n261   印度 新德里 G20 峰会 落幕 国际 政坛 落幕 各国 领导人 展现 风采 机会 英国 头...      3   \n...                                                 ...    ...   \n3061  2023 神舟 16 号 发射成功 观后感 三 二 点火 火团 喷涌 而出 小小的 屏幕 画...     21   \n3075  神舟 十六号 发射 全过程 47002023 05 30 11 07 43 未经 作者 授权...     21   \n3099  2023 12 31 日晚 国家 主席 习近平 发表 二 〇 二 四年 新年贺词 2013 ...     21   \n3118  点击 右上角 微信 好友 朋友圈 请 浏览器 分享 功能 分享 导航 时政 国际 时评 理论...     21   \n3346  叙利亚 印巴 缅甸 爆发 战火 美国 匕首 直 插 俄罗斯 后背 巧合 同一天 全球 三个 ...     23   \n\n                                       original_content  pred      prob  \n40    2023年亚太经合会APEC领袖峰会今(15)日于美国旧金山登场，泰国总理赛塔(Settha...     0  0.498137  \n82    美国已向中俄发出邀请，普京本人去不去，俄罗斯会把悬念留到最后今年的亚太经合组织（APEC）峰...     3  0.366565  \n148   微软将采购由核聚变初创公司Helion产生的电力，Helion预计2028年前上线50兆瓦核...     0  0.380416  \n252   2023年在新德里举行的G20领导人峰会成员国名单以及特邀成员国名单，印度已经拟定出来，除了...     3  0.460188  \n261   印度新德里G20峰会的落幕，不仅是国际政坛的落幕，也是各国领导人展现风采的机会。英国头号夫人...     3  0.444316  \n...                                                 ...   ...       ...  \n3061  2023年神舟16号发射成功观后感“三、二、一，点火”。火团喷涌而出。望着小小的屏幕，我看到...    19  0.304691  \n3075  神舟十六号_发射全过程47002023-05-30 11:07:43未经作者授权，禁止转载9...    21  0.274267  \n3099  2023年12月31日晚，国家主席习近平发表二〇二四年新年贺词。自2013年岁末起，习近平主...    19  0.490948  \n3118  点击右上角微信好友朋友圈请使用浏览器分享功能进行分享全部导航时政国际时评理论文化科技教育经济...    21  0.443351  \n3346  为何叙利亚、印巴和缅甸同时爆发战火？美国的匕首直插俄罗斯后背这只是巧合吗？同一天，全球三个热...    11  0.436134  \n\n[64 rows x 5 columns]",
      "text/html": "<div>\n<style scoped>\n    .dataframe tbody tr th:only-of-type {\n        vertical-align: middle;\n    }\n\n    .dataframe tbody tr th {\n        vertical-align: top;\n    }\n\n    .dataframe thead th {\n        text-align: right;\n    }\n</style>\n<table border=\"1\" class=\"dataframe\">\n  <thead>\n    <tr style=\"text-align: right;\">\n      <th></th>\n      <th>content</th>\n      <th>topic</th>\n      <th>original_content</th>\n      <th>pred</th>\n      <th>prob</th>\n    </tr>\n  </thead>\n  <tbody>\n    <tr>\n      <th>40</th>\n      <td>2023 亚太经合 会 APEC 领袖 峰会 今 15 日于 美国 旧金山 登场 泰国 总理...</td>\n      <td>1</td>\n      <td>2023年亚太经合会APEC领袖峰会今(15)日于美国旧金山登场，泰国总理赛塔(Settha...</td>\n      <td>0</td>\n      <td>0.498137</td>\n    </tr>\n    <tr>\n      <th>82</th>\n      <td>美国 已 中 俄 发出 邀请 普京 本人 去不去 俄罗斯 会 悬念 留 亚太经合组织 APE...</td>\n      <td>1</td>\n      <td>美国已向中俄发出邀请，普京本人去不去，俄罗斯会把悬念留到最后今年的亚太经合组织（APEC）峰...</td>\n      <td>3</td>\n      <td>0.366565</td>\n    </tr>\n    <tr>\n      <th>148</th>\n      <td>微软 采购 核聚变 初创 公司 Helion 电力 Helion 预计 2028 年前 上线...</td>\n      <td>2</td>\n      <td>微软将采购由核聚变初创公司Helion产生的电力，Helion预计2028年前上线50兆瓦核...</td>\n      <td>0</td>\n      <td>0.380416</td>\n    </tr>\n    <tr>\n      <th>252</th>\n      <td>2023 新德里 G20 领导人 峰会 成员国 名单 特邀 成员国 名单 印度 拟定 20 ...</td>\n      <td>3</td>\n      <td>2023年在新德里举行的G20领导人峰会成员国名单以及特邀成员国名单，印度已经拟定出来，除了...</td>\n      <td>3</td>\n      <td>0.460188</td>\n    </tr>\n    <tr>\n      <th>261</th>\n      <td>印度 新德里 G20 峰会 落幕 国际 政坛 落幕 各国 领导人 展现 风采 机会 英国 头...</td>\n      <td>3</td>\n      <td>印度新德里G20峰会的落幕，不仅是国际政坛的落幕，也是各国领导人展现风采的机会。英国头号夫人...</td>\n      <td>3</td>\n      <td>0.444316</td>\n    </tr>\n    <tr>\n      <th>...</th>\n      <td>...</td>\n      <td>...</td>\n      <td>...</td>\n      <td>...</td>\n      <td>...</td>\n    </tr>\n    <tr>\n      <th>3061</th>\n      <td>2023 神舟 16 号 发射成功 观后感 三 二 点火 火团 喷涌 而出 小小的 屏幕 画...</td>\n      <td>21</td>\n      <td>2023年神舟16号发射成功观后感“三、二、一，点火”。火团喷涌而出。望着小小的屏幕，我看到...</td>\n      <td>19</td>\n      <td>0.304691</td>\n    </tr>\n    <tr>\n      <th>3075</th>\n      <td>神舟 十六号 发射 全过程 47002023 05 30 11 07 43 未经 作者 授权...</td>\n      <td>21</td>\n      <td>神舟十六号_发射全过程47002023-05-30 11:07:43未经作者授权，禁止转载9...</td>\n      <td>21</td>\n      <td>0.274267</td>\n    </tr>\n    <tr>\n      <th>3099</th>\n      <td>2023 12 31 日晚 国家 主席 习近平 发表 二 〇 二 四年 新年贺词 2013 ...</td>\n      <td>21</td>\n      <td>2023年12月31日晚，国家主席习近平发表二〇二四年新年贺词。自2013年岁末起，习近平主...</td>\n      <td>19</td>\n      <td>0.490948</td>\n    </tr>\n    <tr>\n      <th>3118</th>\n      <td>点击 右上角 微信 好友 朋友圈 请 浏览器 分享 功能 分享 导航 时政 国际 时评 理论...</td>\n      <td>21</td>\n      <td>点击右上角微信好友朋友圈请使用浏览器分享功能进行分享全部导航时政国际时评理论文化科技教育经济...</td>\n      <td>21</td>\n      <td>0.443351</td>\n    </tr>\n    <tr>\n      <th>3346</th>\n      <td>叙利亚 印巴 缅甸 爆发 战火 美国 匕首 直 插 俄罗斯 后背 巧合 同一天 全球 三个 ...</td>\n      <td>23</td>\n      <td>为何叙利亚、印巴和缅甸同时爆发战火？美国的匕首直插俄罗斯后背这只是巧合吗？同一天，全球三个热...</td>\n      <td>11</td>\n      <td>0.436134</td>\n    </tr>\n  </tbody>\n</table>\n<p>64 rows × 5 columns</p>\n</div>"
     },
     "execution_count": 41,
     "metadata": {},
     "output_type": "execute_result"
    }
   ],
   "source": [
    "low_prob = test[test['prob'] < 0.5]\n",
    "low_prob"
   ],
   "metadata": {
    "collapsed": false,
    "ExecuteTime": {
     "end_time": "2024-03-21T09:53:33.399693Z",
     "start_time": "2024-03-21T09:53:33.393102Z"
    }
   },
   "id": "8a297b35e6e4e54a",
   "execution_count": 41
  },
  {
   "cell_type": "code",
   "outputs": [],
   "source": [],
   "metadata": {
    "collapsed": false
   },
   "id": "c9d99457210607ba"
  }
 ],
 "metadata": {
  "kernelspec": {
   "display_name": "Python 3",
   "language": "python",
   "name": "python3"
  },
  "language_info": {
   "codemirror_mode": {
    "name": "ipython",
    "version": 2
   },
   "file_extension": ".py",
   "mimetype": "text/x-python",
   "name": "python",
   "nbconvert_exporter": "python",
   "pygments_lexer": "ipython2",
   "version": "2.7.6"
  }
 },
 "nbformat": 4,
 "nbformat_minor": 5
}

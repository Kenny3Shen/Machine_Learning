{
 "metadata": {
  "kernelspec": {
   "display_name": "Python 3",
   "language": "python",
   "name": "python3"
  },
  "language_info": {
   "name": "python",
   "version": "3.10.13",
   "mimetype": "text/x-python",
   "codemirror_mode": {
    "name": "ipython",
    "version": 3
   },
   "pygments_lexer": "ipython3",
   "nbconvert_exporter": "python",
   "file_extension": ".py"
  }
 },
 "nbformat_minor": 5,
 "nbformat": 4,
 "cells": [
  {
   "cell_type": "markdown",
   "source": [
    "## Version 2\n",
    "### accuracy: 0.9750367\n",
    "- only delete punctuation + jieba + remove stopwords\n",
    "- Tokenizer\n",
    "- TfidfVectorizer\n",
    "- Ensemble model\n",
    "\n",
    "### 改进方向\n",
    "- 存在非中文content，需要处理\n",
    "- lightgbm参数调优，加入catboost分类器\n",
    "- 融合 bert-like transformer(prob < x)"
   ],
   "metadata": {},
   "id": "ea3ae761b484156d"
  },
  {
   "cell_type": "code",
   "source": [
    "import pandas as pd\n",
    "import string\n",
    "import re\n",
    "import jieba\n",
    "from tqdm import tqdm\n",
    "tqdm.pandas()\n",
    "from tokenizers import (\n",
    "    models,\n",
    "    normalizers,\n",
    "    pre_tokenizers,\n",
    "    trainers,\n",
    "    Tokenizer,\n",
    ")\n",
    "\n",
    "from datasets import Dataset\n",
    "from transformers import PreTrainedTokenizerFast\n",
    "from lightgbm import LGBMClassifier\n",
    "from sklearn.metrics import accuracy_score, precision_score, recall_score, f1_score\n",
    "from sklearn.feature_extraction.text import TfidfVectorizer\n",
    "from sklearn.linear_model import SGDClassifier\n",
    "from sklearn.naive_bayes import MultinomialNB\n",
    "from sklearn.ensemble import VotingClassifier"
   ],
   "metadata": {
    "ExecuteTime": {
     "end_time": "2024-02-22T16:46:41.640664500Z",
     "start_time": "2024-02-22T16:46:38.271586300Z"
    },
    "execution": {
     "iopub.status.busy": "2024-02-23T04:24:03.305087Z",
     "iopub.execute_input": "2024-02-23T04:24:03.305477Z",
     "iopub.status.idle": "2024-02-23T04:24:14.113379Z",
     "shell.execute_reply.started": "2024-02-23T04:24:03.305438Z",
     "shell.execute_reply": "2024-02-23T04:24:14.112164Z"
    },
    "trusted": true
   },
   "execution_count": 1,
   "outputs": [],
   "id": "5fb86d2d357fc2d"
  },
  {
   "cell_type": "code",
   "source": [
    "train_dir = '/kaggle/input/xhc-dataset/train_jieba.csv'\n",
    "test_dir = '/kaggle/input/xhc-dataset/test_jieba.csv'\n",
    "df1 = pd.read_csv(train_dir)\n",
    "df2 = pd.read_csv(test_dir)"
   ],
   "metadata": {
    "collapsed": false,
    "ExecuteTime": {
     "end_time": "2024-02-22T17:51:23.721379700Z",
     "start_time": "2024-02-22T17:51:23.047845700Z"
    },
    "execution": {
     "iopub.status.busy": "2024-02-23T04:24:14.115386Z",
     "iopub.execute_input": "2024-02-23T04:24:14.115836Z",
     "iopub.status.idle": "2024-02-23T04:24:15.389783Z",
     "shell.execute_reply.started": "2024-02-23T04:24:14.115794Z",
     "shell.execute_reply": "2024-02-23T04:24:15.388720Z"
    },
    "trusted": true
   },
   "execution_count": 2,
   "outputs": [],
   "id": "3b471b0db5a9505c"
  },
  {
   "cell_type": "code",
   "source": [
    "train = df1[['id', 'content', 'topic']]\n",
    "test = df2[['id', 'content', 'topic']]\n",
    "test"
   ],
   "metadata": {
    "collapsed": false,
    "ExecuteTime": {
     "end_time": "2024-02-22T17:51:23.769621600Z",
     "start_time": "2024-02-22T17:51:23.725921300Z"
    },
    "execution": {
     "iopub.status.busy": "2024-02-23T04:24:15.390920Z",
     "iopub.execute_input": "2024-02-23T04:24:15.391268Z",
     "iopub.status.idle": "2024-02-23T04:24:15.423484Z",
     "shell.execute_reply.started": "2024-02-23T04:24:15.391240Z",
     "shell.execute_reply": "2024-02-23T04:24:15.422303Z"
    },
    "trusted": true
   },
   "execution_count": 3,
   "outputs": [
    {
     "execution_count": 3,
     "output_type": "execute_result",
     "data": {
      "text/plain": "         id                                            content  topic\n0       181  2023年，习近平主席亲自擘画引领，中国特色大国外交扎实推进。在推动构建人类命运共同体的崇高...      1\n1      1763  当地时间11月16日，习近平主席向亚太经合组织（APEC）工商领导人峰会发表书面演讲，强调我...      1\n2      1015  亚太经合组织第三十次领导人非正式会议在美国旧金山莫斯科尼中心举行。国家主席习近平出席会议并发...      1\n3      7104  习近平出席亚太经合组织领导人同东道主嘉宾非正式对话会暨工作午宴央视网2023年11月17日 ...      1\n4      2427  中国国家主席习近平将于11月14日应美国总统拜登邀请赴美举行中美领导人会晤，同时应邀出席亚太...      1\n...     ...                                                ...    ...\n3400   1044  从头到尾来讲一遍，咱们按照惯例，先谈谈缅甸北部的那场风波。这场风波的源头是藏匿在缅甸北部的一...     23\n3401   9043  缅北全线激战，敏昂莱誓言反击，冲突可能扩大化，中缅边境乱不得这几天，缅甸内战的爆发，引起了外...     23\n3402   5570  近日，缅甸内战再次卷土重来，引起了国际社会广泛的关注。然而，这次的冲突异常纷乱，各种消息传来...     23\n3403   5523  缅北战火越烧越大，中方做两手准备，高层直接去了缅甸首都清酒半栩换种角度分析故事，带你了解更有...     23\n3404  10021  缅甸内战，俄罗斯插手缅北局势，是否影响中俄关系清飞扬俄罗斯派专家帮助缅甸政府打击果敢同盟军，...     23\n\n[3405 rows x 3 columns]",
      "text/html": "<div>\n<style scoped>\n    .dataframe tbody tr th:only-of-type {\n        vertical-align: middle;\n    }\n\n    .dataframe tbody tr th {\n        vertical-align: top;\n    }\n\n    .dataframe thead th {\n        text-align: right;\n    }\n</style>\n<table border=\"1\" class=\"dataframe\">\n  <thead>\n    <tr style=\"text-align: right;\">\n      <th></th>\n      <th>id</th>\n      <th>content</th>\n      <th>topic</th>\n    </tr>\n  </thead>\n  <tbody>\n    <tr>\n      <th>0</th>\n      <td>181</td>\n      <td>2023年，习近平主席亲自擘画引领，中国特色大国外交扎实推进。在推动构建人类命运共同体的崇高...</td>\n      <td>1</td>\n    </tr>\n    <tr>\n      <th>1</th>\n      <td>1763</td>\n      <td>当地时间11月16日，习近平主席向亚太经合组织（APEC）工商领导人峰会发表书面演讲，强调我...</td>\n      <td>1</td>\n    </tr>\n    <tr>\n      <th>2</th>\n      <td>1015</td>\n      <td>亚太经合组织第三十次领导人非正式会议在美国旧金山莫斯科尼中心举行。国家主席习近平出席会议并发...</td>\n      <td>1</td>\n    </tr>\n    <tr>\n      <th>3</th>\n      <td>7104</td>\n      <td>习近平出席亚太经合组织领导人同东道主嘉宾非正式对话会暨工作午宴央视网2023年11月17日 ...</td>\n      <td>1</td>\n    </tr>\n    <tr>\n      <th>4</th>\n      <td>2427</td>\n      <td>中国国家主席习近平将于11月14日应美国总统拜登邀请赴美举行中美领导人会晤，同时应邀出席亚太...</td>\n      <td>1</td>\n    </tr>\n    <tr>\n      <th>...</th>\n      <td>...</td>\n      <td>...</td>\n      <td>...</td>\n    </tr>\n    <tr>\n      <th>3400</th>\n      <td>1044</td>\n      <td>从头到尾来讲一遍，咱们按照惯例，先谈谈缅甸北部的那场风波。这场风波的源头是藏匿在缅甸北部的一...</td>\n      <td>23</td>\n    </tr>\n    <tr>\n      <th>3401</th>\n      <td>9043</td>\n      <td>缅北全线激战，敏昂莱誓言反击，冲突可能扩大化，中缅边境乱不得这几天，缅甸内战的爆发，引起了外...</td>\n      <td>23</td>\n    </tr>\n    <tr>\n      <th>3402</th>\n      <td>5570</td>\n      <td>近日，缅甸内战再次卷土重来，引起了国际社会广泛的关注。然而，这次的冲突异常纷乱，各种消息传来...</td>\n      <td>23</td>\n    </tr>\n    <tr>\n      <th>3403</th>\n      <td>5523</td>\n      <td>缅北战火越烧越大，中方做两手准备，高层直接去了缅甸首都清酒半栩换种角度分析故事，带你了解更有...</td>\n      <td>23</td>\n    </tr>\n    <tr>\n      <th>3404</th>\n      <td>10021</td>\n      <td>缅甸内战，俄罗斯插手缅北局势，是否影响中俄关系清飞扬俄罗斯派专家帮助缅甸政府打击果敢同盟军，...</td>\n      <td>23</td>\n    </tr>\n  </tbody>\n</table>\n<p>3405 rows × 3 columns</p>\n</div>"
     },
     "metadata": {}
    }
   ],
   "id": "3fa970544202045e"
  },
  {
   "cell_type": "code",
   "source": [
    "def get_stopword():\n",
    "    stopwords = []\n",
    "    with open('/kaggle/input/xhc-dataset/baidu_stopwords.txt', 'r', encoding='utf-8') as f:\n",
    "        for line in f.readlines():\n",
    "            stopwords.append(line.strip())\n",
    "   \n",
    "    stopwords = list(set(stopwords))\n",
    "    return stopwords\n",
    "\n",
    "def wordopt_cn(text):\n",
    "    # replace punctuation with space\n",
    "    no_punct = re.sub(pattern, ' ', text)\n",
    "    no_punct = re.sub(spaces_pattern, ' ', no_punct)\n",
    "    return str(no_punct)\n",
    "\n",
    "def remove_stopwords(words):\n",
    "    return [word for word in words if word not in stopwords]\n",
    "\n",
    "def process_content(content):\n",
    "    content = wordopt_cn(content)\n",
    "    content = re.sub(spaces_pattern, ' ', content)\n",
    "    words = jieba.cut(content)\n",
    "    words = remove_stopwords(words)\n",
    "    content = ' '.join(words)\n",
    "    content = re.sub(spaces_pattern, ' ', content)\n",
    "    return content\n",
    "\n",
    "# Precompile the regular expressions\n",
    "punctuation = \"！？｡。＂＃＄％＆＇（）＊＋，－／：；＜＝＞＠［＼］＾＿｀｛｜｝～｟｠｢｣､、〃》「」『』【】〔〕〖〗〘〙〚〛〜〝〞〟〰〾〿–—‘’‛“”„‟…‧﹏.\" + string.punctuation\n",
    "pattern = re.compile('[%s]' % re.escape(punctuation))\n",
    "spaces_pattern = re.compile(r'\\s+')\n",
    "stopwords = get_stopword()\n",
    "stopwords.extend([\"年\",\"月\",\"日\"])"
   ],
   "metadata": {
    "collapsed": false,
    "ExecuteTime": {
     "end_time": "2024-02-22T16:34:09.342536300Z",
     "start_time": "2024-02-22T16:34:09.306353500Z"
    },
    "execution": {
     "iopub.status.busy": "2024-02-23T04:32:38.904622Z",
     "iopub.execute_input": "2024-02-23T04:32:38.905022Z",
     "iopub.status.idle": "2024-02-23T04:32:38.919978Z",
     "shell.execute_reply.started": "2024-02-23T04:32:38.904992Z",
     "shell.execute_reply": "2024-02-23T04:32:38.918719Z"
    },
    "trusted": true
   },
   "execution_count": 14,
   "outputs": [],
   "id": "d7c5f2154f89fe6b"
  },
  {
   "cell_type": "code",
   "source": [
    "train['content'] = train['content'].progress_apply(process_content)\n",
    "train.to_csv('train_jieba.csv', index=False)"
   ],
   "metadata": {
    "collapsed": false,
    "ExecuteTime": {
     "end_time": "2024-02-22T16:35:59.040107200Z",
     "start_time": "2024-02-22T16:34:11.986869200Z"
    },
    "execution": {
     "iopub.status.busy": "2024-02-23T04:32:40.595495Z",
     "iopub.execute_input": "2024-02-23T04:32:40.596260Z",
     "iopub.status.idle": "2024-02-23T04:37:23.485769Z",
     "shell.execute_reply.started": "2024-02-23T04:32:40.596226Z",
     "shell.execute_reply": "2024-02-23T04:37:23.484195Z"
    },
    "trusted": true
   },
   "execution_count": 15,
   "outputs": [
    {
     "name": "stderr",
     "text": "100%|██████████| 6810/6810 [04:42<00:00, 24.13it/s]\n/tmp/ipykernel_33/919418590.py:1: SettingWithCopyWarning: \nA value is trying to be set on a copy of a slice from a DataFrame.\nTry using .loc[row_indexer,col_indexer] = value instead\n\nSee the caveats in the documentation: https://pandas.pydata.org/pandas-docs/stable/user_guide/indexing.html#returning-a-view-versus-a-copy\n  train['content'] = train['content'].progress_apply(process_content)\n",
     "output_type": "stream"
    }
   ],
   "id": "55d6c41f9db81cff"
  },
  {
   "cell_type": "code",
   "source": [
    "test['content'] = test['content'].progress_apply(process_content)\n",
    "test.to_csv('test_jieba.csv', index=False)"
   ],
   "metadata": {
    "collapsed": false,
    "ExecuteTime": {
     "end_time": "2024-02-22T16:37:29.719263900Z",
     "start_time": "2024-02-22T16:36:35.856993100Z"
    },
    "execution": {
     "iopub.status.busy": "2024-02-23T04:37:23.488911Z",
     "iopub.execute_input": "2024-02-23T04:37:23.489651Z",
     "iopub.status.idle": "2024-02-23T04:39:45.500259Z",
     "shell.execute_reply.started": "2024-02-23T04:37:23.489590Z",
     "shell.execute_reply": "2024-02-23T04:39:45.498637Z"
    },
    "trusted": true
   },
   "execution_count": 16,
   "outputs": [
    {
     "name": "stderr",
     "text": "100%|██████████| 3405/3405 [02:21<00:00, 24.04it/s]\n/tmp/ipykernel_33/1735621898.py:1: SettingWithCopyWarning: \nA value is trying to be set on a copy of a slice from a DataFrame.\nTry using .loc[row_indexer,col_indexer] = value instead\n\nSee the caveats in the documentation: https://pandas.pydata.org/pandas-docs/stable/user_guide/indexing.html#returning-a-view-versus-a-copy\n  test['content'] = test['content'].progress_apply(process_content)\n",
     "output_type": "stream"
    }
   ],
   "id": "aedf0852b943ffb"
  },
  {
   "cell_type": "code",
   "source": [
    "test"
   ],
   "metadata": {
    "execution": {
     "iopub.status.busy": "2024-02-23T04:55:02.431790Z",
     "iopub.execute_input": "2024-02-23T04:55:02.432261Z",
     "iopub.status.idle": "2024-02-23T04:55:02.450027Z",
     "shell.execute_reply.started": "2024-02-23T04:55:02.432217Z",
     "shell.execute_reply": "2024-02-23T04:55:02.448566Z"
    },
    "trusted": true
   },
   "execution_count": 26,
   "outputs": [
    {
     "execution_count": 26,
     "output_type": "execute_result",
     "data": {
      "text/plain": "         id                                            content  topic  pred  \\\n0       181  2023 习近平 主席 亲自 擘画 引领 中国 特色 大国 外交 扎实 推进 推动 构建 人...      1    22   \n1      1763  当地 时间 11 16 习近平 主席 亚太经合组织 APEC 工商 领导人 峰会 发表 书面...      1     1   \n2      1015  亚太经合组织 第三十次 领导人 非正式 会议 美国 旧金山 莫斯科 尼 中心 国家 主席 习...      1     1   \n3      7104  习近平 出席 亚太经合组织 领导人 东道主 嘉宾 非正式 对话会 暨 工作 午宴 央视网 2...      1     1   \n4      2427  中国 国家 主席 习近平 11 14 日应 美国 总统 拜登 邀请 赴美 中 美 领导人 会...      1     1   \n...     ...                                                ...    ...   ...   \n3400   1044  从头到尾 来讲 一遍 惯例 先 谈谈 缅甸 北部 那场 风波 这场 风波 源头 藏匿在 缅甸...     23     0   \n3401   9043  缅北 全线 激战 敏昂 莱 誓言 反击 冲突 扩大化 中 缅 边境 乱 几天 缅甸 内战 爆...     23    23   \n3402   5570  近日 缅甸 内战 再次 卷土重来 国际 社会 关注 这次 冲突 异常 纷乱 消息 传来 人 ...     23    23   \n3403   5523  缅北 战火 越烧 越大 中方 做 两手 高层 去 缅甸 首都 清酒 半栩换种 角度 分析 故...     23    23   \n3404  10021  缅甸 内战 俄罗斯 插手 缅北 局势 影响 中俄关系 清 飞扬 俄罗斯 派 专家 缅甸政府 ...     23     0   \n\n          prob  \n0     0.639504  \n1     0.489602  \n2     0.950451  \n3     0.580280  \n4     0.750170  \n...        ...  \n3400  0.250714  \n3401  0.330516  \n3402  0.221172  \n3403  0.279709  \n3404  0.162132  \n\n[3405 rows x 5 columns]",
      "text/html": "<div>\n<style scoped>\n    .dataframe tbody tr th:only-of-type {\n        vertical-align: middle;\n    }\n\n    .dataframe tbody tr th {\n        vertical-align: top;\n    }\n\n    .dataframe thead th {\n        text-align: right;\n    }\n</style>\n<table border=\"1\" class=\"dataframe\">\n  <thead>\n    <tr style=\"text-align: right;\">\n      <th></th>\n      <th>id</th>\n      <th>content</th>\n      <th>topic</th>\n      <th>pred</th>\n      <th>prob</th>\n    </tr>\n  </thead>\n  <tbody>\n    <tr>\n      <th>0</th>\n      <td>181</td>\n      <td>2023 习近平 主席 亲自 擘画 引领 中国 特色 大国 外交 扎实 推进 推动 构建 人...</td>\n      <td>1</td>\n      <td>22</td>\n      <td>0.639504</td>\n    </tr>\n    <tr>\n      <th>1</th>\n      <td>1763</td>\n      <td>当地 时间 11 16 习近平 主席 亚太经合组织 APEC 工商 领导人 峰会 发表 书面...</td>\n      <td>1</td>\n      <td>1</td>\n      <td>0.489602</td>\n    </tr>\n    <tr>\n      <th>2</th>\n      <td>1015</td>\n      <td>亚太经合组织 第三十次 领导人 非正式 会议 美国 旧金山 莫斯科 尼 中心 国家 主席 习...</td>\n      <td>1</td>\n      <td>1</td>\n      <td>0.950451</td>\n    </tr>\n    <tr>\n      <th>3</th>\n      <td>7104</td>\n      <td>习近平 出席 亚太经合组织 领导人 东道主 嘉宾 非正式 对话会 暨 工作 午宴 央视网 2...</td>\n      <td>1</td>\n      <td>1</td>\n      <td>0.580280</td>\n    </tr>\n    <tr>\n      <th>4</th>\n      <td>2427</td>\n      <td>中国 国家 主席 习近平 11 14 日应 美国 总统 拜登 邀请 赴美 中 美 领导人 会...</td>\n      <td>1</td>\n      <td>1</td>\n      <td>0.750170</td>\n    </tr>\n    <tr>\n      <th>...</th>\n      <td>...</td>\n      <td>...</td>\n      <td>...</td>\n      <td>...</td>\n      <td>...</td>\n    </tr>\n    <tr>\n      <th>3400</th>\n      <td>1044</td>\n      <td>从头到尾 来讲 一遍 惯例 先 谈谈 缅甸 北部 那场 风波 这场 风波 源头 藏匿在 缅甸...</td>\n      <td>23</td>\n      <td>0</td>\n      <td>0.250714</td>\n    </tr>\n    <tr>\n      <th>3401</th>\n      <td>9043</td>\n      <td>缅北 全线 激战 敏昂 莱 誓言 反击 冲突 扩大化 中 缅 边境 乱 几天 缅甸 内战 爆...</td>\n      <td>23</td>\n      <td>23</td>\n      <td>0.330516</td>\n    </tr>\n    <tr>\n      <th>3402</th>\n      <td>5570</td>\n      <td>近日 缅甸 内战 再次 卷土重来 国际 社会 关注 这次 冲突 异常 纷乱 消息 传来 人 ...</td>\n      <td>23</td>\n      <td>23</td>\n      <td>0.221172</td>\n    </tr>\n    <tr>\n      <th>3403</th>\n      <td>5523</td>\n      <td>缅北 战火 越烧 越大 中方 做 两手 高层 去 缅甸 首都 清酒 半栩换种 角度 分析 故...</td>\n      <td>23</td>\n      <td>23</td>\n      <td>0.279709</td>\n    </tr>\n    <tr>\n      <th>3404</th>\n      <td>10021</td>\n      <td>缅甸 内战 俄罗斯 插手 缅北 局势 影响 中俄关系 清 飞扬 俄罗斯 派 专家 缅甸政府 ...</td>\n      <td>23</td>\n      <td>0</td>\n      <td>0.162132</td>\n    </tr>\n  </tbody>\n</table>\n<p>3405 rows × 5 columns</p>\n</div>"
     },
     "metadata": {}
    }
   ],
   "id": "fc987bcf586bd2db"
  },
  {
   "cell_type": "code",
   "source": [
    "LOWERCASE = False\n",
    "VOCAB_SIZE = 100_000"
   ],
   "metadata": {
    "collapsed": false,
    "ExecuteTime": {
     "end_time": "2024-02-22T17:55:16.580291300Z",
     "start_time": "2024-02-22T17:55:16.560604100Z"
    },
    "execution": {
     "iopub.status.busy": "2024-02-23T04:55:10.882105Z",
     "iopub.execute_input": "2024-02-23T04:55:10.882570Z",
     "iopub.status.idle": "2024-02-23T04:55:10.888619Z",
     "shell.execute_reply.started": "2024-02-23T04:55:10.882536Z",
     "shell.execute_reply": "2024-02-23T04:55:10.887276Z"
    },
    "trusted": true
   },
   "execution_count": 27,
   "outputs": [],
   "id": "4812d5787b948523"
  },
  {
   "cell_type": "code",
   "source": [
    "raw_tokenizer = Tokenizer(models.BPE(unk_token=\"[UNK]\"))\n",
    "raw_tokenizer.normalizer = normalizers.Sequence([normalizers.NFC()] + [normalizers.Lowercase()] if LOWERCASE else [])\n",
    "raw_tokenizer.pre_tokenizer = pre_tokenizers.WhitespaceSplit()\n",
    "\n",
    "special_tokens = [\"[UNK]\", \"[PAD]\", \"[CLS]\", \"[SEP]\", \"[MASK]\"]\n",
    "trainer = trainers.BpeTrainer(vocab_size=VOCAB_SIZE, special_tokens=special_tokens)\n",
    "\n",
    "dataset = Dataset.from_pandas(test[['content']])\n",
    "\n",
    "\n",
    "def train_corp_iter():\n",
    "    for i in range(0, len(dataset), 1000):\n",
    "        yield dataset[i: i + 1000][\"content\"]\n",
    "\n",
    "\n",
    "raw_tokenizer.train_from_iterator(train_corp_iter(), trainer=trainer)\n",
    "tokenizer = PreTrainedTokenizerFast(\n",
    "    tokenizer_object=raw_tokenizer,\n",
    "    unk_token=\"[UNK]\",\n",
    "    pad_token=\"[PAD]\",\n",
    "    cls_token=\"[CLS]\",\n",
    "    sep_token=\"[SEP]\",\n",
    "    mask_token=\"[MASK]\",\n",
    ")\n",
    "tokenized_texts_test = []\n",
    "\n",
    "for text in tqdm(test['content'].tolist()):\n",
    "    tokenized_texts_test.append(tokenizer.tokenize(text))\n",
    "\n",
    "tokenized_texts_train = []\n",
    "\n",
    "for text in tqdm(train['content'].tolist()):\n",
    "    tokenized_texts_train.append(tokenizer.tokenize(text))"
   ],
   "metadata": {
    "collapsed": false,
    "ExecuteTime": {
     "end_time": "2024-02-22T17:55:37.800702Z",
     "start_time": "2024-02-22T17:55:18.773261200Z"
    },
    "execution": {
     "iopub.status.busy": "2024-02-23T04:55:11.249432Z",
     "iopub.execute_input": "2024-02-23T04:55:11.249902Z",
     "iopub.status.idle": "2024-02-23T04:55:45.339436Z",
     "shell.execute_reply.started": "2024-02-23T04:55:11.249864Z",
     "shell.execute_reply": "2024-02-23T04:55:45.338283Z"
    },
    "trusted": true
   },
   "execution_count": 28,
   "outputs": [
    {
     "name": "stdout",
     "text": "\n\n\n",
     "output_type": "stream"
    },
    {
     "name": "stderr",
     "text": "100%|██████████| 3405/3405 [00:10<00:00, 329.51it/s]\n100%|██████████| 6810/6810 [00:19<00:00, 351.76it/s]\n",
     "output_type": "stream"
    }
   ],
   "id": "cee595a368e74ccd"
  },
  {
   "cell_type": "code",
   "source": [
    "def dummy(text):\n",
    "    return text\n",
    "vectorizer = TfidfVectorizer(lowercase=False, sublinear_tf=True, analyzer='word',\n",
    "                             tokenizer=dummy,\n",
    "                             preprocessor=dummy,\n",
    "                             token_pattern=None, strip_accents='unicode'\n",
    "                             )\n",
    "\n",
    "vectorizer.fit(tokenized_texts_test)\n",
    "\n",
    "vocab = vectorizer.vocabulary_\n",
    "\n",
    "vectorizer = TfidfVectorizer(lowercase=False, sublinear_tf=True, vocabulary=vocab,\n",
    "                             analyzer='word',\n",
    "                             tokenizer=dummy,\n",
    "                             preprocessor=dummy,\n",
    "                             token_pattern=None, strip_accents='unicode'\n",
    "                             )\n",
    "\n",
    "X_train = vectorizer.fit_transform(tokenized_texts_train)\n",
    "print(len(vocab))"
   ],
   "metadata": {
    "collapsed": false,
    "ExecuteTime": {
     "end_time": "2024-02-22T17:55:41.137612400Z",
     "start_time": "2024-02-22T17:55:37.832991100Z"
    },
    "execution": {
     "iopub.status.busy": "2024-02-23T04:55:45.341544Z",
     "iopub.execute_input": "2024-02-23T04:55:45.341906Z",
     "iopub.status.idle": "2024-02-23T04:55:51.216893Z",
     "shell.execute_reply.started": "2024-02-23T04:55:45.341877Z",
     "shell.execute_reply": "2024-02-23T04:55:51.215598Z"
    },
    "trusted": true
   },
   "execution_count": 29,
   "outputs": [
    {
     "name": "stdout",
     "text": "89394\n",
     "output_type": "stream"
    }
   ],
   "id": "eb6a8f9818916b31"
  },
  {
   "cell_type": "code",
   "source": [
    "clf = MultinomialNB(alpha=0.02)\n",
    "sgd_model = SGDClassifier(max_iter=8000, tol=1e-4, loss=\"modified_huber\")\n",
    "p6 = {\n",
    "    'n_iter': 1500, \n",
    "    'verbose': -1, \n",
    "    'objective': 'multiclass', \n",
    "    'metric': 'multi_logloss', \n",
    "    'learning_rate': 0.05073909898961407,\n",
    "    'colsample_bytree': 0.726023996436955, \n",
    "    'colsample_bynode': 0.5803681307354022, \n",
    "    'lambda_l1': 8.562963348932286,\n",
    "    'lambda_l2': 4.893256185259296, \n",
    "    'min_data_in_leaf': 115, \n",
    "    'max_depth': 23, \n",
    "    'max_bin': 898,\n",
    "    'num_class': 24\n",
    "}\n",
    "lgb = LGBMClassifier(**p6)\n",
    "\n",
    "# Creating the ensemble model\n",
    "ensemble = VotingClassifier(estimators=[\n",
    "    ('mnb', clf),\n",
    "    ('sgd', sgd_model),\n",
    "    ('lgb', lgb)],\n",
    "    weights=[0.1, 0.45, 0.45],\n",
    "    voting='soft',\n",
    "    n_jobs=-1)"
   ],
   "metadata": {
    "collapsed": false,
    "ExecuteTime": {
     "end_time": "2024-02-22T17:32:42.361994100Z",
     "start_time": "2024-02-22T17:32:42.359455800Z"
    },
    "execution": {
     "iopub.status.busy": "2024-02-23T04:55:51.218501Z",
     "iopub.execute_input": "2024-02-23T04:55:51.218977Z",
     "iopub.status.idle": "2024-02-23T04:55:51.228998Z",
     "shell.execute_reply.started": "2024-02-23T04:55:51.218936Z",
     "shell.execute_reply": "2024-02-23T04:55:51.227816Z"
    },
    "trusted": true
   },
   "execution_count": 30,
   "outputs": [],
   "id": "9c2ea392213844c5"
  },
  {
   "cell_type": "code",
   "source": [
    "Y_train = train['topic'].values\n",
    "ensemble.fit(X_train, Y_train)"
   ],
   "metadata": {
    "collapsed": false,
    "ExecuteTime": {
     "end_time": "2024-02-22T17:40:18.103545500Z",
     "start_time": "2024-02-22T17:32:42.359455800Z"
    },
    "execution": {
     "iopub.status.busy": "2024-02-23T04:56:28.800801Z",
     "iopub.execute_input": "2024-02-23T04:56:28.801229Z",
     "iopub.status.idle": "2024-02-23T05:02:55.961084Z",
     "shell.execute_reply.started": "2024-02-23T04:56:28.801195Z",
     "shell.execute_reply": "2024-02-23T05:02:55.959444Z"
    },
    "trusted": true
   },
   "execution_count": 31,
   "outputs": [
    {
     "name": "stderr",
     "text": "huggingface/tokenizers: The current process just got forked, after parallelism has already been used. Disabling parallelism to avoid deadlocks...\nTo disable this warning, you can either:\n\t- Avoid using `tokenizers` before the fork if possible\n\t- Explicitly set the environment variable TOKENIZERS_PARALLELISM=(true | false)\nhuggingface/tokenizers: The current process just got forked, after parallelism has already been used. Disabling parallelism to avoid deadlocks...\nTo disable this warning, you can either:\n\t- Avoid using `tokenizers` before the fork if possible\n\t- Explicitly set the environment variable TOKENIZERS_PARALLELISM=(true | false)\nhuggingface/tokenizers: The current process just got forked, after parallelism has already been used. Disabling parallelism to avoid deadlocks...\nTo disable this warning, you can either:\n\t- Avoid using `tokenizers` before the fork if possible\n\t- Explicitly set the environment variable TOKENIZERS_PARALLELISM=(true | false)\nhuggingface/tokenizers: The current process just got forked, after parallelism has already been used. Disabling parallelism to avoid deadlocks...\nTo disable this warning, you can either:\n\t- Avoid using `tokenizers` before the fork if possible\n\t- Explicitly set the environment variable TOKENIZERS_PARALLELISM=(true | false)\n/opt/conda/lib/python3.10/site-packages/lightgbm/engine.py:172: UserWarning: Found `n_iter` in params. Will use it instead of argument\n  _log_warning(f\"Found `{alias}` in params. Will use it instead of argument\")\n",
     "output_type": "stream"
    },
    {
     "execution_count": 31,
     "output_type": "execute_result",
     "data": {
      "text/plain": "VotingClassifier(estimators=[('mnb', MultinomialNB(alpha=0.02)),\n                             ('sgd',\n                              SGDClassifier(loss='modified_huber',\n                                            max_iter=8000, tol=0.0001)),\n                             ('lgb',\n                              LGBMClassifier(colsample_bynode=0.5803681307354022,\n                                             colsample_bytree=0.726023996436955,\n                                             lambda_l1=8.562963348932286,\n                                             lambda_l2=4.893256185259296,\n                                             learning_rate=0.05073909898961407,\n                                             max_bin=898, max_depth=23,\n                                             metric='multi_logloss',\n                                             min_data_in_leaf=115, n_iter=1500,\n                                             num_class=24,\n                                             objective='multiclass',\n                                             verbose=-1))],\n                 n_jobs=-1, voting='soft', weights=[0.1, 0.45, 0.45])",
      "text/html": "<style>#sk-container-id-2 {color: black;background-color: white;}#sk-container-id-2 pre{padding: 0;}#sk-container-id-2 div.sk-toggleable {background-color: white;}#sk-container-id-2 label.sk-toggleable__label {cursor: pointer;display: block;width: 100%;margin-bottom: 0;padding: 0.3em;box-sizing: border-box;text-align: center;}#sk-container-id-2 label.sk-toggleable__label-arrow:before {content: \"▸\";float: left;margin-right: 0.25em;color: #696969;}#sk-container-id-2 label.sk-toggleable__label-arrow:hover:before {color: black;}#sk-container-id-2 div.sk-estimator:hover label.sk-toggleable__label-arrow:before {color: black;}#sk-container-id-2 div.sk-toggleable__content {max-height: 0;max-width: 0;overflow: hidden;text-align: left;background-color: #f0f8ff;}#sk-container-id-2 div.sk-toggleable__content pre {margin: 0.2em;color: black;border-radius: 0.25em;background-color: #f0f8ff;}#sk-container-id-2 input.sk-toggleable__control:checked~div.sk-toggleable__content {max-height: 200px;max-width: 100%;overflow: auto;}#sk-container-id-2 input.sk-toggleable__control:checked~label.sk-toggleable__label-arrow:before {content: \"▾\";}#sk-container-id-2 div.sk-estimator input.sk-toggleable__control:checked~label.sk-toggleable__label {background-color: #d4ebff;}#sk-container-id-2 div.sk-label input.sk-toggleable__control:checked~label.sk-toggleable__label {background-color: #d4ebff;}#sk-container-id-2 input.sk-hidden--visually {border: 0;clip: rect(1px 1px 1px 1px);clip: rect(1px, 1px, 1px, 1px);height: 1px;margin: -1px;overflow: hidden;padding: 0;position: absolute;width: 1px;}#sk-container-id-2 div.sk-estimator {font-family: monospace;background-color: #f0f8ff;border: 1px dotted black;border-radius: 0.25em;box-sizing: border-box;margin-bottom: 0.5em;}#sk-container-id-2 div.sk-estimator:hover {background-color: #d4ebff;}#sk-container-id-2 div.sk-parallel-item::after {content: \"\";width: 100%;border-bottom: 1px solid gray;flex-grow: 1;}#sk-container-id-2 div.sk-label:hover label.sk-toggleable__label {background-color: #d4ebff;}#sk-container-id-2 div.sk-serial::before {content: \"\";position: absolute;border-left: 1px solid gray;box-sizing: border-box;top: 0;bottom: 0;left: 50%;z-index: 0;}#sk-container-id-2 div.sk-serial {display: flex;flex-direction: column;align-items: center;background-color: white;padding-right: 0.2em;padding-left: 0.2em;position: relative;}#sk-container-id-2 div.sk-item {position: relative;z-index: 1;}#sk-container-id-2 div.sk-parallel {display: flex;align-items: stretch;justify-content: center;background-color: white;position: relative;}#sk-container-id-2 div.sk-item::before, #sk-container-id-2 div.sk-parallel-item::before {content: \"\";position: absolute;border-left: 1px solid gray;box-sizing: border-box;top: 0;bottom: 0;left: 50%;z-index: -1;}#sk-container-id-2 div.sk-parallel-item {display: flex;flex-direction: column;z-index: 1;position: relative;background-color: white;}#sk-container-id-2 div.sk-parallel-item:first-child::after {align-self: flex-end;width: 50%;}#sk-container-id-2 div.sk-parallel-item:last-child::after {align-self: flex-start;width: 50%;}#sk-container-id-2 div.sk-parallel-item:only-child::after {width: 0;}#sk-container-id-2 div.sk-dashed-wrapped {border: 1px dashed gray;margin: 0 0.4em 0.5em 0.4em;box-sizing: border-box;padding-bottom: 0.4em;background-color: white;}#sk-container-id-2 div.sk-label label {font-family: monospace;font-weight: bold;display: inline-block;line-height: 1.2em;}#sk-container-id-2 div.sk-label-container {text-align: center;}#sk-container-id-2 div.sk-container {/* jupyter's `normalize.less` sets `[hidden] { display: none; }` but bootstrap.min.css set `[hidden] { display: none !important; }` so we also need the `!important` here to be able to override the default hidden behavior on the sphinx rendered scikit-learn.org. See: https://github.com/scikit-learn/scikit-learn/issues/21755 */display: inline-block !important;position: relative;}#sk-container-id-2 div.sk-text-repr-fallback {display: none;}</style><div id=\"sk-container-id-2\" class=\"sk-top-container\"><div class=\"sk-text-repr-fallback\"><pre>VotingClassifier(estimators=[(&#x27;mnb&#x27;, MultinomialNB(alpha=0.02)),\n                             (&#x27;sgd&#x27;,\n                              SGDClassifier(loss=&#x27;modified_huber&#x27;,\n                                            max_iter=8000, tol=0.0001)),\n                             (&#x27;lgb&#x27;,\n                              LGBMClassifier(colsample_bynode=0.5803681307354022,\n                                             colsample_bytree=0.726023996436955,\n                                             lambda_l1=8.562963348932286,\n                                             lambda_l2=4.893256185259296,\n                                             learning_rate=0.05073909898961407,\n                                             max_bin=898, max_depth=23,\n                                             metric=&#x27;multi_logloss&#x27;,\n                                             min_data_in_leaf=115, n_iter=1500,\n                                             num_class=24,\n                                             objective=&#x27;multiclass&#x27;,\n                                             verbose=-1))],\n                 n_jobs=-1, voting=&#x27;soft&#x27;, weights=[0.1, 0.45, 0.45])</pre><b>In a Jupyter environment, please rerun this cell to show the HTML representation or trust the notebook. <br />On GitHub, the HTML representation is unable to render, please try loading this page with nbviewer.org.</b></div><div class=\"sk-container\" hidden><div class=\"sk-item sk-dashed-wrapped\"><div class=\"sk-label-container\"><div class=\"sk-label sk-toggleable\"><input class=\"sk-toggleable__control sk-hidden--visually\" id=\"sk-estimator-id-5\" type=\"checkbox\" ><label for=\"sk-estimator-id-5\" class=\"sk-toggleable__label sk-toggleable__label-arrow\">VotingClassifier</label><div class=\"sk-toggleable__content\"><pre>VotingClassifier(estimators=[(&#x27;mnb&#x27;, MultinomialNB(alpha=0.02)),\n                             (&#x27;sgd&#x27;,\n                              SGDClassifier(loss=&#x27;modified_huber&#x27;,\n                                            max_iter=8000, tol=0.0001)),\n                             (&#x27;lgb&#x27;,\n                              LGBMClassifier(colsample_bynode=0.5803681307354022,\n                                             colsample_bytree=0.726023996436955,\n                                             lambda_l1=8.562963348932286,\n                                             lambda_l2=4.893256185259296,\n                                             learning_rate=0.05073909898961407,\n                                             max_bin=898, max_depth=23,\n                                             metric=&#x27;multi_logloss&#x27;,\n                                             min_data_in_leaf=115, n_iter=1500,\n                                             num_class=24,\n                                             objective=&#x27;multiclass&#x27;,\n                                             verbose=-1))],\n                 n_jobs=-1, voting=&#x27;soft&#x27;, weights=[0.1, 0.45, 0.45])</pre></div></div></div><div class=\"sk-parallel\"><div class=\"sk-parallel-item\"><div class=\"sk-item\"><div class=\"sk-label-container\"><div class=\"sk-label sk-toggleable\"><label>mnb</label></div></div><div class=\"sk-serial\"><div class=\"sk-item\"><div class=\"sk-estimator sk-toggleable\"><input class=\"sk-toggleable__control sk-hidden--visually\" id=\"sk-estimator-id-6\" type=\"checkbox\" ><label for=\"sk-estimator-id-6\" class=\"sk-toggleable__label sk-toggleable__label-arrow\">MultinomialNB</label><div class=\"sk-toggleable__content\"><pre>MultinomialNB(alpha=0.02)</pre></div></div></div></div></div></div><div class=\"sk-parallel-item\"><div class=\"sk-item\"><div class=\"sk-label-container\"><div class=\"sk-label sk-toggleable\"><label>sgd</label></div></div><div class=\"sk-serial\"><div class=\"sk-item\"><div class=\"sk-estimator sk-toggleable\"><input class=\"sk-toggleable__control sk-hidden--visually\" id=\"sk-estimator-id-7\" type=\"checkbox\" ><label for=\"sk-estimator-id-7\" class=\"sk-toggleable__label sk-toggleable__label-arrow\">SGDClassifier</label><div class=\"sk-toggleable__content\"><pre>SGDClassifier(loss=&#x27;modified_huber&#x27;, max_iter=8000, tol=0.0001)</pre></div></div></div></div></div></div><div class=\"sk-parallel-item\"><div class=\"sk-item\"><div class=\"sk-label-container\"><div class=\"sk-label sk-toggleable\"><label>lgb</label></div></div><div class=\"sk-serial\"><div class=\"sk-item\"><div class=\"sk-estimator sk-toggleable\"><input class=\"sk-toggleable__control sk-hidden--visually\" id=\"sk-estimator-id-8\" type=\"checkbox\" ><label for=\"sk-estimator-id-8\" class=\"sk-toggleable__label sk-toggleable__label-arrow\">LGBMClassifier</label><div class=\"sk-toggleable__content\"><pre>LGBMClassifier(colsample_bynode=0.5803681307354022,\n               colsample_bytree=0.726023996436955, lambda_l1=8.562963348932286,\n               lambda_l2=4.893256185259296, learning_rate=0.05073909898961407,\n               max_bin=898, max_depth=23, metric=&#x27;multi_logloss&#x27;,\n               min_data_in_leaf=115, n_iter=1500, num_class=24,\n               objective=&#x27;multiclass&#x27;, verbose=-1)</pre></div></div></div></div></div></div></div></div></div></div>"
     },
     "metadata": {}
    }
   ],
   "id": "ce136a3c62c33593"
  },
  {
   "cell_type": "code",
   "source": [
    "tf_test = vectorizer.transform(tokenized_texts_test)\n",
    "pred = ensemble.predict(tf_test)\n",
    "prob = ensemble.predict_proba(tf_test)\n",
    "test[\"pred\"] = pred\n",
    "test[\"prob\"] = prob.max(axis=1)"
   ],
   "metadata": {
    "collapsed": false,
    "ExecuteTime": {
     "end_time": "2024-02-22T17:40:20.130745100Z",
     "start_time": "2024-02-22T17:40:18.107004100Z"
    },
    "execution": {
     "iopub.status.busy": "2024-02-23T05:02:55.964640Z",
     "iopub.execute_input": "2024-02-23T05:02:55.965417Z",
     "iopub.status.idle": "2024-02-23T05:03:03.165063Z",
     "shell.execute_reply.started": "2024-02-23T05:02:55.965361Z",
     "shell.execute_reply": "2024-02-23T05:03:03.163854Z"
    },
    "trusted": true
   },
   "execution_count": 32,
   "outputs": [],
   "id": "8294ec2103d1e588"
  },
  {
   "cell_type": "code",
   "source": [
    "different = test[test['topic'] != test['pred']]\n",
    "different"
   ],
   "metadata": {
    "collapsed": false,
    "ExecuteTime": {
     "end_time": "2024-02-22T17:40:20.164561200Z",
     "start_time": "2024-02-22T17:40:20.134762700Z"
    },
    "execution": {
     "iopub.status.busy": "2024-02-23T05:03:03.168063Z",
     "iopub.execute_input": "2024-02-23T05:03:03.168521Z",
     "iopub.status.idle": "2024-02-23T05:03:03.189187Z",
     "shell.execute_reply.started": "2024-02-23T05:03:03.168487Z",
     "shell.execute_reply": "2024-02-23T05:03:03.187473Z"
    },
    "trusted": true
   },
   "execution_count": 33,
   "outputs": [
    {
     "execution_count": 33,
     "output_type": "execute_result",
     "data": {
      "text/plain": "        id                                            content  topic  pred  \\\n0      181  2023 习近平 主席 亲自 擘画 引领 中国 特色 大国 外交 扎实 推进 推动 构建 人...      1    22   \n7     2861  APEC 峰会 前 公使 提出 四点 核心 利益 中 美 会晤 看 美 表现 一带 一路 国...      1     4   \n40    4395  2023 亚太经合 会 APEC 领袖 峰会 今 15 日于 美国 旧金山 登场 泰国 总理...      1     0   \n43    3236  焦点访谈 把舵 中美关系 领航 亚太 合作 央视网 2023 11 19 22 01 加载 ...      1     4   \n60    3670  亚太 国家 地区 领导人 13 抵达 美国 亚太经合组织 APEC 第三十次 领导人 非正式...      1     4   \n...    ...                                                ...    ...   ...   \n3096  7668  2022 11 28 上午 9 时 神舟 十五号 载人 飞行 新闻 发布会 酒泉卫星发射中心...     21    19   \n3099   598  2023 12 31 日晚 国家 主席 习近平 发表 二 〇 二 四年 新年贺词 2013 ...     21    19   \n3127  5424  神舟 十七号 发射成功 续写 飞天 梦想 建设 航天 强国 北京 时间 10 26 11 时...     21    20   \n3132  6470  神舟 十六号 出舱 多个 首次 神 十七 10 发射 航天员 杨利伟 7 国外 航天 执行 ...     21    20   \n3346  8359  叙利亚 印巴 缅甸 爆发 战火 美国 匕首 直 插 俄罗斯 后背 巧合 同一天 全球 三个 ...     23    11   \n\n          prob  \n0     0.708688  \n7     0.531314  \n40    0.478081  \n43    0.809848  \n60    0.751292  \n...        ...  \n3096  0.951715  \n3099  0.495566  \n3127  0.953893  \n3132  0.739466  \n3346  0.445647  \n\n[85 rows x 5 columns]",
      "text/html": "<div>\n<style scoped>\n    .dataframe tbody tr th:only-of-type {\n        vertical-align: middle;\n    }\n\n    .dataframe tbody tr th {\n        vertical-align: top;\n    }\n\n    .dataframe thead th {\n        text-align: right;\n    }\n</style>\n<table border=\"1\" class=\"dataframe\">\n  <thead>\n    <tr style=\"text-align: right;\">\n      <th></th>\n      <th>id</th>\n      <th>content</th>\n      <th>topic</th>\n      <th>pred</th>\n      <th>prob</th>\n    </tr>\n  </thead>\n  <tbody>\n    <tr>\n      <th>0</th>\n      <td>181</td>\n      <td>2023 习近平 主席 亲自 擘画 引领 中国 特色 大国 外交 扎实 推进 推动 构建 人...</td>\n      <td>1</td>\n      <td>22</td>\n      <td>0.708688</td>\n    </tr>\n    <tr>\n      <th>7</th>\n      <td>2861</td>\n      <td>APEC 峰会 前 公使 提出 四点 核心 利益 中 美 会晤 看 美 表现 一带 一路 国...</td>\n      <td>1</td>\n      <td>4</td>\n      <td>0.531314</td>\n    </tr>\n    <tr>\n      <th>40</th>\n      <td>4395</td>\n      <td>2023 亚太经合 会 APEC 领袖 峰会 今 15 日于 美国 旧金山 登场 泰国 总理...</td>\n      <td>1</td>\n      <td>0</td>\n      <td>0.478081</td>\n    </tr>\n    <tr>\n      <th>43</th>\n      <td>3236</td>\n      <td>焦点访谈 把舵 中美关系 领航 亚太 合作 央视网 2023 11 19 22 01 加载 ...</td>\n      <td>1</td>\n      <td>4</td>\n      <td>0.809848</td>\n    </tr>\n    <tr>\n      <th>60</th>\n      <td>3670</td>\n      <td>亚太 国家 地区 领导人 13 抵达 美国 亚太经合组织 APEC 第三十次 领导人 非正式...</td>\n      <td>1</td>\n      <td>4</td>\n      <td>0.751292</td>\n    </tr>\n    <tr>\n      <th>...</th>\n      <td>...</td>\n      <td>...</td>\n      <td>...</td>\n      <td>...</td>\n      <td>...</td>\n    </tr>\n    <tr>\n      <th>3096</th>\n      <td>7668</td>\n      <td>2022 11 28 上午 9 时 神舟 十五号 载人 飞行 新闻 发布会 酒泉卫星发射中心...</td>\n      <td>21</td>\n      <td>19</td>\n      <td>0.951715</td>\n    </tr>\n    <tr>\n      <th>3099</th>\n      <td>598</td>\n      <td>2023 12 31 日晚 国家 主席 习近平 发表 二 〇 二 四年 新年贺词 2013 ...</td>\n      <td>21</td>\n      <td>19</td>\n      <td>0.495566</td>\n    </tr>\n    <tr>\n      <th>3127</th>\n      <td>5424</td>\n      <td>神舟 十七号 发射成功 续写 飞天 梦想 建设 航天 强国 北京 时间 10 26 11 时...</td>\n      <td>21</td>\n      <td>20</td>\n      <td>0.953893</td>\n    </tr>\n    <tr>\n      <th>3132</th>\n      <td>6470</td>\n      <td>神舟 十六号 出舱 多个 首次 神 十七 10 发射 航天员 杨利伟 7 国外 航天 执行 ...</td>\n      <td>21</td>\n      <td>20</td>\n      <td>0.739466</td>\n    </tr>\n    <tr>\n      <th>3346</th>\n      <td>8359</td>\n      <td>叙利亚 印巴 缅甸 爆发 战火 美国 匕首 直 插 俄罗斯 后背 巧合 同一天 全球 三个 ...</td>\n      <td>23</td>\n      <td>11</td>\n      <td>0.445647</td>\n    </tr>\n  </tbody>\n</table>\n<p>85 rows × 5 columns</p>\n</div>"
     },
     "metadata": {}
    }
   ],
   "id": "cdefad4b5cf88a52"
  },
  {
   "cell_type": "code",
   "source": [
    "accuracy = accuracy_score(test['topic'], test['pred'])\n",
    "precision = precision_score(test['topic'], test['pred'], average='weighted')\n",
    "recall = recall_score(test['topic'], test['pred'], average='weighted')\n",
    "f1 = f1_score(test['topic'], test['pred'], average='weighted')\n",
    "print(f'Accuracy: {accuracy}\\nPrecision: {precision}\\nRecall: {recall}\\nF1: {f1}')"
   ],
   "metadata": {
    "collapsed": false,
    "ExecuteTime": {
     "end_time": "2024-02-22T17:40:20.181756200Z",
     "start_time": "2024-02-22T17:40:20.162045800Z"
    },
    "execution": {
     "iopub.status.busy": "2024-02-23T05:03:03.191753Z",
     "iopub.execute_input": "2024-02-23T05:03:03.192164Z",
     "iopub.status.idle": "2024-02-23T05:03:03.215713Z",
     "shell.execute_reply.started": "2024-02-23T05:03:03.192135Z",
     "shell.execute_reply": "2024-02-23T05:03:03.214475Z"
    },
    "trusted": true
   },
   "execution_count": 34,
   "outputs": [
    {
     "name": "stdout",
     "text": "Accuracy: 0.9750367107195301\nPrecision: 0.9751873711544411\nRecall: 0.9750367107195301\nF1: 0.9750247374021094\n",
     "output_type": "stream"
    }
   ],
   "id": "415c441f617d443b"
  },
  {
   "cell_type": "code",
   "source": [],
   "metadata": {},
   "execution_count": null,
   "outputs": [],
   "id": "2a19b780596092a2"
  }
 ]
}

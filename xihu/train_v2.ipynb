{
 "metadata": {
  "kernelspec": {
   "display_name": "Python 3",
   "language": "python",
   "name": "python3"
  },
  "language_info": {
   "name": "python",
   "version": "3.10.13",
   "mimetype": "text/x-python",
   "codemirror_mode": {
    "name": "ipython",
    "version": 3
   },
   "pygments_lexer": "ipython3",
   "nbconvert_exporter": "python",
   "file_extension": ".py"
  }
 },
 "nbformat_minor": 5,
 "nbformat": 4,
 "cells": [
  {
   "cell_type": "markdown",
   "source": [
    "## Version 2\n",
    "### accuracy: 0.9750367\n",
    "- only delete punctuation + jieba + remove stopwords\n",
    "- Tokenizer\n",
    "- TfidfVectorizer\n",
    "- Ensemble model\n",
    "\n",
    "### 改进方向\n",
    "- 存在非中文content，需要处理\n",
    "- lightgbm参数调优，加入catboost分类器\n",
    "- 融合 bert-like transformer(prob < x)"
   ],
   "metadata": {},
   "id": "ea3ae761b484156d"
  },
  {
   "cell_type": "code",
   "source": [
    "import pandas as pd\n",
    "import string\n",
    "import re\n",
    "import jieba\n",
    "import joblib\n",
    "from tqdm import tqdm\n",
    "tqdm.pandas()\n",
    "from tokenizers import (\n",
    "    models,\n",
    "    normalizers,\n",
    "    pre_tokenizers,\n",
    "    trainers,\n",
    "    Tokenizer,\n",
    ")\n",
    "\n",
    "from datasets import Dataset\n",
    "from transformers import PreTrainedTokenizerFast\n",
    "from lightgbm import LGBMClassifier\n",
    "from sklearn.metrics import accuracy_score, precision_score, recall_score, f1_score\n",
    "from sklearn.feature_extraction.text import TfidfVectorizer\n",
    "from sklearn.linear_model import SGDClassifier\n",
    "from sklearn.naive_bayes import MultinomialNB\n",
    "from sklearn.ensemble import VotingClassifier"
   ],
   "metadata": {
    "execution": {
     "iopub.status.busy": "2024-02-23T04:24:03.305087Z",
     "iopub.execute_input": "2024-02-23T04:24:03.305477Z",
     "iopub.status.idle": "2024-02-23T04:24:14.113379Z",
     "shell.execute_reply.started": "2024-02-23T04:24:03.305438Z",
     "shell.execute_reply": "2024-02-23T04:24:14.112164Z"
    },
    "trusted": true,
    "ExecuteTime": {
     "end_time": "2024-03-21T16:06:38.892238Z",
     "start_time": "2024-03-21T16:06:36.031270Z"
    }
   },
   "execution_count": 1,
   "outputs": [],
   "id": "5fb86d2d357fc2d"
  },
  {
   "cell_type": "code",
   "source": [
    "train_dir = './train.csv'\n",
    "test_dir = './test.csv'\n",
    "df1 = pd.read_csv(train_dir)\n",
    "df2 = pd.read_csv(test_dir)"
   ],
   "metadata": {
    "collapsed": false,
    "execution": {
     "iopub.status.busy": "2024-02-23T04:24:14.115386Z",
     "iopub.execute_input": "2024-02-23T04:24:14.115836Z",
     "iopub.status.idle": "2024-02-23T04:24:15.389783Z",
     "shell.execute_reply.started": "2024-02-23T04:24:14.115794Z",
     "shell.execute_reply": "2024-02-23T04:24:15.388720Z"
    },
    "trusted": true,
    "ExecuteTime": {
     "end_time": "2024-03-21T16:06:39.288899Z",
     "start_time": "2024-03-21T16:06:38.893242Z"
    }
   },
   "execution_count": 2,
   "outputs": [],
   "id": "3b471b0db5a9505c"
  },
  {
   "cell_type": "code",
   "source": [
    "train = df1[['id', 'content', 'topic']]\n",
    "test = df2[['id', 'content', 'topic']]\n",
    "test"
   ],
   "metadata": {
    "collapsed": false,
    "execution": {
     "iopub.status.busy": "2024-02-23T04:24:15.390920Z",
     "iopub.execute_input": "2024-02-23T04:24:15.391268Z",
     "iopub.status.idle": "2024-02-23T04:24:15.423484Z",
     "shell.execute_reply.started": "2024-02-23T04:24:15.391240Z",
     "shell.execute_reply": "2024-02-23T04:24:15.422303Z"
    },
    "trusted": true,
    "ExecuteTime": {
     "end_time": "2024-03-21T16:06:39.298402Z",
     "start_time": "2024-03-21T16:06:39.288899Z"
    }
   },
   "execution_count": 3,
   "outputs": [
    {
     "data": {
      "text/plain": "         id                                            content  topic\n0       181  2023年，习近平主席亲自擘画引领，中国特色大国外交扎实推进。在推动构建人类命运共同体的崇高...      1\n1      1763  当地时间11月16日，习近平主席向亚太经合组织（APEC）工商领导人峰会发表书面演讲，强调我...      1\n2      1015  亚太经合组织第三十次领导人非正式会议在美国旧金山莫斯科尼中心举行。国家主席习近平出席会议并发...      1\n3      7104  习近平出席亚太经合组织领导人同东道主嘉宾非正式对话会暨工作午宴央视网2023年11月17日 ...      1\n4      2427  中国国家主席习近平将于11月14日应美国总统拜登邀请赴美举行中美领导人会晤，同时应邀出席亚太...      1\n...     ...                                                ...    ...\n3400   1044  从头到尾来讲一遍，咱们按照惯例，先谈谈缅甸北部的那场风波。这场风波的源头是藏匿在缅甸北部的一...     23\n3401   9043  缅北全线激战，敏昂莱誓言反击，冲突可能扩大化，中缅边境乱不得这几天，缅甸内战的爆发，引起了外...     23\n3402   5570  近日，缅甸内战再次卷土重来，引起了国际社会广泛的关注。然而，这次的冲突异常纷乱，各种消息传来...     23\n3403   5523  缅北战火越烧越大，中方做两手准备，高层直接去了缅甸首都清酒半栩换种角度分析故事，带你了解更有...     23\n3404  10021  缅甸内战，俄罗斯插手缅北局势，是否影响中俄关系清飞扬俄罗斯派专家帮助缅甸政府打击果敢同盟军，...     23\n\n[3405 rows x 3 columns]",
      "text/html": "<div>\n<style scoped>\n    .dataframe tbody tr th:only-of-type {\n        vertical-align: middle;\n    }\n\n    .dataframe tbody tr th {\n        vertical-align: top;\n    }\n\n    .dataframe thead th {\n        text-align: right;\n    }\n</style>\n<table border=\"1\" class=\"dataframe\">\n  <thead>\n    <tr style=\"text-align: right;\">\n      <th></th>\n      <th>id</th>\n      <th>content</th>\n      <th>topic</th>\n    </tr>\n  </thead>\n  <tbody>\n    <tr>\n      <th>0</th>\n      <td>181</td>\n      <td>2023年，习近平主席亲自擘画引领，中国特色大国外交扎实推进。在推动构建人类命运共同体的崇高...</td>\n      <td>1</td>\n    </tr>\n    <tr>\n      <th>1</th>\n      <td>1763</td>\n      <td>当地时间11月16日，习近平主席向亚太经合组织（APEC）工商领导人峰会发表书面演讲，强调我...</td>\n      <td>1</td>\n    </tr>\n    <tr>\n      <th>2</th>\n      <td>1015</td>\n      <td>亚太经合组织第三十次领导人非正式会议在美国旧金山莫斯科尼中心举行。国家主席习近平出席会议并发...</td>\n      <td>1</td>\n    </tr>\n    <tr>\n      <th>3</th>\n      <td>7104</td>\n      <td>习近平出席亚太经合组织领导人同东道主嘉宾非正式对话会暨工作午宴央视网2023年11月17日 ...</td>\n      <td>1</td>\n    </tr>\n    <tr>\n      <th>4</th>\n      <td>2427</td>\n      <td>中国国家主席习近平将于11月14日应美国总统拜登邀请赴美举行中美领导人会晤，同时应邀出席亚太...</td>\n      <td>1</td>\n    </tr>\n    <tr>\n      <th>...</th>\n      <td>...</td>\n      <td>...</td>\n      <td>...</td>\n    </tr>\n    <tr>\n      <th>3400</th>\n      <td>1044</td>\n      <td>从头到尾来讲一遍，咱们按照惯例，先谈谈缅甸北部的那场风波。这场风波的源头是藏匿在缅甸北部的一...</td>\n      <td>23</td>\n    </tr>\n    <tr>\n      <th>3401</th>\n      <td>9043</td>\n      <td>缅北全线激战，敏昂莱誓言反击，冲突可能扩大化，中缅边境乱不得这几天，缅甸内战的爆发，引起了外...</td>\n      <td>23</td>\n    </tr>\n    <tr>\n      <th>3402</th>\n      <td>5570</td>\n      <td>近日，缅甸内战再次卷土重来，引起了国际社会广泛的关注。然而，这次的冲突异常纷乱，各种消息传来...</td>\n      <td>23</td>\n    </tr>\n    <tr>\n      <th>3403</th>\n      <td>5523</td>\n      <td>缅北战火越烧越大，中方做两手准备，高层直接去了缅甸首都清酒半栩换种角度分析故事，带你了解更有...</td>\n      <td>23</td>\n    </tr>\n    <tr>\n      <th>3404</th>\n      <td>10021</td>\n      <td>缅甸内战，俄罗斯插手缅北局势，是否影响中俄关系清飞扬俄罗斯派专家帮助缅甸政府打击果敢同盟军，...</td>\n      <td>23</td>\n    </tr>\n  </tbody>\n</table>\n<p>3405 rows × 3 columns</p>\n</div>"
     },
     "execution_count": 3,
     "metadata": {},
     "output_type": "execute_result"
    }
   ],
   "id": "3fa970544202045e"
  },
  {
   "cell_type": "code",
   "source": [
    "import re\n",
    "import string\n",
    "import jieba\n",
    "\n",
    "def get_stopword():\n",
    "    with open('./baidu_stopwords.txt', 'r', encoding='utf-8') as f:\n",
    "        stopwords = set(line.strip() for line in f)\n",
    "    stopwords.update([\"年\",\"月\",\"日\"])\n",
    "    return stopwords\n",
    "\n",
    "def wordopt_cn(text):\n",
    "    # replace punctuation with space\n",
    "    no_punct = re.sub(pattern, ' ', text)\n",
    "    return str(no_punct)\n",
    "\n",
    "def remove_stopwords(words):\n",
    "    return (word for word in words if word not in stopwords)\n",
    "\n",
    "def process_content(content):\n",
    "    content = wordopt_cn(content)\n",
    "    words = jieba.cut(content)\n",
    "    words = remove_stopwords(words)\n",
    "    content = ' '.join(words)\n",
    "    content = re.sub(spaces_pattern, ' ', content)\n",
    "    return content\n",
    "\n",
    "# Precompile the regular expressions\n",
    "punctuation = \"！？｡。＂＃＄％＆＇（）＊＋，－／：；＜＝＞＠［＼］＾＿｀｛｜｝～｟｠｢｣､、〃》「」『』【】〔〕〖〗〘〙〚〛〜〝〞〟〰〾〿–—‘’‛“”„‟…‧﹏.\" + string.punctuation\n",
    "pattern = re.compile('[%s]' % re.escape(punctuation))\n",
    "spaces_pattern = re.compile(r'\\s+')\n",
    "stopwords = get_stopword()"
   ],
   "metadata": {
    "collapsed": false,
    "execution": {
     "iopub.status.busy": "2024-02-23T04:32:38.904622Z",
     "iopub.execute_input": "2024-02-23T04:32:38.905022Z",
     "iopub.status.idle": "2024-02-23T04:32:38.919978Z",
     "shell.execute_reply.started": "2024-02-23T04:32:38.904992Z",
     "shell.execute_reply": "2024-02-23T04:32:38.918719Z"
    },
    "trusted": true,
    "ExecuteTime": {
     "end_time": "2024-03-21T16:06:39.304459Z",
     "start_time": "2024-03-21T16:06:39.298402Z"
    }
   },
   "execution_count": 4,
   "outputs": [],
   "id": "d7c5f2154f89fe6b"
  },
  {
   "cell_type": "code",
   "source": [
    "train.loc[:,'content'] = train['content'].progress_apply(process_content)\n",
    "train.to_csv('train_jieba.csv', index=False)"
   ],
   "metadata": {
    "collapsed": false,
    "execution": {
     "iopub.status.busy": "2024-02-23T04:32:40.595495Z",
     "iopub.execute_input": "2024-02-23T04:32:40.596260Z",
     "iopub.status.idle": "2024-02-23T04:37:23.485769Z",
     "shell.execute_reply.started": "2024-02-23T04:32:40.596226Z",
     "shell.execute_reply": "2024-02-23T04:37:23.484195Z"
    },
    "trusted": true,
    "ExecuteTime": {
     "end_time": "2024-03-21T16:07:03.092276Z",
     "start_time": "2024-03-21T16:06:39.304962Z"
    }
   },
   "execution_count": 5,
   "outputs": [
    {
     "name": "stderr",
     "output_type": "stream",
     "text": [
      "  0%|          | 0/6810 [00:00<?, ?it/s]Building prefix dict from the default dictionary ...\n",
      "Loading model from cache C:\\Users\\shens\\AppData\\Local\\Temp\\jieba.cache\n",
      "Loading model cost 0.363 seconds.\n",
      "Prefix dict has been built successfully.\n",
      "100%|██████████| 6810/6810 [00:23<00:00, 288.63it/s]\n"
     ]
    }
   ],
   "id": "55d6c41f9db81cff"
  },
  {
   "cell_type": "code",
   "source": [
    "test.loc[:,'content'] = test['content'].progress_apply(process_content)\n",
    "test.to_csv('test_jieba.csv', index=False)"
   ],
   "metadata": {
    "collapsed": false,
    "execution": {
     "iopub.status.busy": "2024-02-23T04:37:23.488911Z",
     "iopub.execute_input": "2024-02-23T04:37:23.489651Z",
     "iopub.status.idle": "2024-02-23T04:39:45.500259Z",
     "shell.execute_reply.started": "2024-02-23T04:37:23.489590Z",
     "shell.execute_reply": "2024-02-23T04:39:45.498637Z"
    },
    "trusted": true,
    "ExecuteTime": {
     "end_time": "2024-03-21T16:07:14.801543Z",
     "start_time": "2024-03-21T16:07:03.117091Z"
    }
   },
   "execution_count": 6,
   "outputs": [
    {
     "name": "stderr",
     "output_type": "stream",
     "text": [
      "100%|██████████| 3405/3405 [00:11<00:00, 293.76it/s]\n"
     ]
    }
   ],
   "id": "aedf0852b943ffb"
  },
  {
   "cell_type": "code",
   "source": [
    "test"
   ],
   "metadata": {
    "execution": {
     "iopub.status.busy": "2024-02-23T04:55:02.431790Z",
     "iopub.execute_input": "2024-02-23T04:55:02.432261Z",
     "iopub.status.idle": "2024-02-23T04:55:02.450027Z",
     "shell.execute_reply.started": "2024-02-23T04:55:02.432217Z",
     "shell.execute_reply": "2024-02-23T04:55:02.448566Z"
    },
    "trusted": true,
    "ExecuteTime": {
     "end_time": "2024-03-21T16:07:14.813344Z",
     "start_time": "2024-03-21T16:07:14.801543Z"
    }
   },
   "execution_count": 7,
   "outputs": [
    {
     "data": {
      "text/plain": "         id                                            content  topic\n0       181  2023 习近平 主席 亲自 擘画 引领 中国 特色 大国 外交 扎实 推进 推动 构建 人...      1\n1      1763  当地 时间 11 16 习近平 主席 亚太经合组织 APEC 工商 领导人 峰会 发表 书面...      1\n2      1015  亚太经合组织 第三十次 领导人 非正式 会议 美国 旧金山 莫斯科 尼 中心 国家 主席 习...      1\n3      7104  习近平 出席 亚太经合组织 领导人 东道主 嘉宾 非正式 对话会 暨 工作 午宴 央视网 2...      1\n4      2427  中国 国家 主席 习近平 11 14 日应 美国 总统 拜登 邀请 赴美 中 美 领导人 会...      1\n...     ...                                                ...    ...\n3400   1044  从头到尾 来讲 一遍 惯例 先 谈谈 缅甸 北部 那场 风波 这场 风波 源头 藏匿在 缅甸...     23\n3401   9043  缅北 全线 激战 敏昂 莱 誓言 反击 冲突 扩大化 中 缅 边境 乱 几天 缅甸 内战 爆...     23\n3402   5570  近日 缅甸 内战 再次 卷土重来 国际 社会 关注 这次 冲突 异常 纷乱 消息 传来 人 ...     23\n3403   5523  缅北 战火 越烧 越大 中方 做 两手 高层 去 缅甸 首都 清酒 半栩换种 角度 分析 故...     23\n3404  10021  缅甸 内战 俄罗斯 插手 缅北 局势 影响 中俄关系 清 飞扬 俄罗斯 派 专家 缅甸政府 ...     23\n\n[3405 rows x 3 columns]",
      "text/html": "<div>\n<style scoped>\n    .dataframe tbody tr th:only-of-type {\n        vertical-align: middle;\n    }\n\n    .dataframe tbody tr th {\n        vertical-align: top;\n    }\n\n    .dataframe thead th {\n        text-align: right;\n    }\n</style>\n<table border=\"1\" class=\"dataframe\">\n  <thead>\n    <tr style=\"text-align: right;\">\n      <th></th>\n      <th>id</th>\n      <th>content</th>\n      <th>topic</th>\n    </tr>\n  </thead>\n  <tbody>\n    <tr>\n      <th>0</th>\n      <td>181</td>\n      <td>2023 习近平 主席 亲自 擘画 引领 中国 特色 大国 外交 扎实 推进 推动 构建 人...</td>\n      <td>1</td>\n    </tr>\n    <tr>\n      <th>1</th>\n      <td>1763</td>\n      <td>当地 时间 11 16 习近平 主席 亚太经合组织 APEC 工商 领导人 峰会 发表 书面...</td>\n      <td>1</td>\n    </tr>\n    <tr>\n      <th>2</th>\n      <td>1015</td>\n      <td>亚太经合组织 第三十次 领导人 非正式 会议 美国 旧金山 莫斯科 尼 中心 国家 主席 习...</td>\n      <td>1</td>\n    </tr>\n    <tr>\n      <th>3</th>\n      <td>7104</td>\n      <td>习近平 出席 亚太经合组织 领导人 东道主 嘉宾 非正式 对话会 暨 工作 午宴 央视网 2...</td>\n      <td>1</td>\n    </tr>\n    <tr>\n      <th>4</th>\n      <td>2427</td>\n      <td>中国 国家 主席 习近平 11 14 日应 美国 总统 拜登 邀请 赴美 中 美 领导人 会...</td>\n      <td>1</td>\n    </tr>\n    <tr>\n      <th>...</th>\n      <td>...</td>\n      <td>...</td>\n      <td>...</td>\n    </tr>\n    <tr>\n      <th>3400</th>\n      <td>1044</td>\n      <td>从头到尾 来讲 一遍 惯例 先 谈谈 缅甸 北部 那场 风波 这场 风波 源头 藏匿在 缅甸...</td>\n      <td>23</td>\n    </tr>\n    <tr>\n      <th>3401</th>\n      <td>9043</td>\n      <td>缅北 全线 激战 敏昂 莱 誓言 反击 冲突 扩大化 中 缅 边境 乱 几天 缅甸 内战 爆...</td>\n      <td>23</td>\n    </tr>\n    <tr>\n      <th>3402</th>\n      <td>5570</td>\n      <td>近日 缅甸 内战 再次 卷土重来 国际 社会 关注 这次 冲突 异常 纷乱 消息 传来 人 ...</td>\n      <td>23</td>\n    </tr>\n    <tr>\n      <th>3403</th>\n      <td>5523</td>\n      <td>缅北 战火 越烧 越大 中方 做 两手 高层 去 缅甸 首都 清酒 半栩换种 角度 分析 故...</td>\n      <td>23</td>\n    </tr>\n    <tr>\n      <th>3404</th>\n      <td>10021</td>\n      <td>缅甸 内战 俄罗斯 插手 缅北 局势 影响 中俄关系 清 飞扬 俄罗斯 派 专家 缅甸政府 ...</td>\n      <td>23</td>\n    </tr>\n  </tbody>\n</table>\n<p>3405 rows × 3 columns</p>\n</div>"
     },
     "execution_count": 7,
     "metadata": {},
     "output_type": "execute_result"
    }
   ],
   "id": "fc987bcf586bd2db"
  },
  {
   "cell_type": "code",
   "source": [
    "LOWERCASE = False\n",
    "VOCAB_SIZE = 100_000"
   ],
   "metadata": {
    "collapsed": false,
    "execution": {
     "iopub.status.busy": "2024-02-23T04:55:10.882105Z",
     "iopub.execute_input": "2024-02-23T04:55:10.882570Z",
     "iopub.status.idle": "2024-02-23T04:55:10.888619Z",
     "shell.execute_reply.started": "2024-02-23T04:55:10.882536Z",
     "shell.execute_reply": "2024-02-23T04:55:10.887276Z"
    },
    "trusted": true,
    "ExecuteTime": {
     "end_time": "2024-03-21T16:07:14.816484Z",
     "start_time": "2024-03-21T16:07:14.813344Z"
    }
   },
   "execution_count": 8,
   "outputs": [],
   "id": "4812d5787b948523"
  },
  {
   "cell_type": "code",
   "source": [
    "raw_tokenizer = Tokenizer(models.BPE(unk_token=\"[UNK]\"))\n",
    "raw_tokenizer.normalizer = normalizers.Sequence([normalizers.NFC()] + [normalizers.Lowercase()] if LOWERCASE else [])\n",
    "raw_tokenizer.pre_tokenizer = pre_tokenizers.WhitespaceSplit()\n",
    "\n",
    "special_tokens = [\"[UNK]\", \"[PAD]\", \"[CLS]\", \"[SEP]\", \"[MASK]\"]\n",
    "trainer = trainers.BpeTrainer(vocab_size=VOCAB_SIZE, special_tokens=special_tokens)\n",
    "\n",
    "dataset = Dataset.from_pandas(test[['content']])\n",
    "\n",
    "\n",
    "def train_corp_iter():\n",
    "    for i in range(0, len(dataset), 1000):\n",
    "        yield dataset[i: i + 1000][\"content\"]\n",
    "\n",
    "\n",
    "raw_tokenizer.train_from_iterator(train_corp_iter(), trainer=trainer)\n",
    "tokenizer = PreTrainedTokenizerFast(\n",
    "    tokenizer_object=raw_tokenizer,\n",
    "    unk_token=\"[UNK]\",\n",
    "    pad_token=\"[PAD]\",\n",
    "    cls_token=\"[CLS]\",\n",
    "    sep_token=\"[SEP]\",\n",
    "    mask_token=\"[MASK]\",\n",
    ")\n",
    "tokenized_texts_test = []\n",
    "\n",
    "for text in tqdm(test['content'].tolist()):\n",
    "    tokenized_texts_test.append(tokenizer.tokenize(text))\n",
    "\n",
    "tokenized_texts_train = []\n",
    "\n",
    "for text in tqdm(train['content'].tolist()):\n",
    "    tokenized_texts_train.append(tokenizer.tokenize(text))"
   ],
   "metadata": {
    "collapsed": false,
    "execution": {
     "iopub.status.busy": "2024-02-23T04:55:11.249432Z",
     "iopub.execute_input": "2024-02-23T04:55:11.249902Z",
     "iopub.status.idle": "2024-02-23T04:55:45.339436Z",
     "shell.execute_reply.started": "2024-02-23T04:55:11.249864Z",
     "shell.execute_reply": "2024-02-23T04:55:45.338283Z"
    },
    "trusted": true,
    "ExecuteTime": {
     "end_time": "2024-03-21T16:07:22.515506Z",
     "start_time": "2024-03-21T16:07:14.817507Z"
    }
   },
   "execution_count": 9,
   "outputs": [
    {
     "name": "stderr",
     "output_type": "stream",
     "text": [
      "100%|██████████| 3405/3405 [00:02<00:00, 1693.19it/s]\n",
      "100%|██████████| 6810/6810 [00:03<00:00, 1724.72it/s]\n"
     ]
    }
   ],
   "id": "cee595a368e74ccd"
  },
  {
   "cell_type": "code",
   "source": [
    "def dummy(text):\n",
    "    return text\n",
    "vectorizer = TfidfVectorizer(lowercase=False, sublinear_tf=True, analyzer='word',\n",
    "                             tokenizer=dummy,\n",
    "                             preprocessor=dummy,\n",
    "                             token_pattern=None, strip_accents='unicode'\n",
    "                             )\n",
    "\n",
    "vectorizer.fit(tokenized_texts_test)\n",
    "\n",
    "vocab = vectorizer.vocabulary_\n",
    "\n",
    "vectorizer = TfidfVectorizer(lowercase=False, sublinear_tf=True, vocabulary=vocab,\n",
    "                             analyzer='word',\n",
    "                             tokenizer=dummy,\n",
    "                             preprocessor=dummy,\n",
    "                             token_pattern=None, strip_accents='unicode'\n",
    "                             )\n",
    "\n",
    "X_train = vectorizer.fit_transform(tokenized_texts_train)\n",
    "joblib.dump(vectorizer, 'vectorizer.pkl')\n",
    "print(len(vocab))"
   ],
   "metadata": {
    "collapsed": false,
    "execution": {
     "iopub.status.busy": "2024-02-23T04:55:45.341544Z",
     "iopub.execute_input": "2024-02-23T04:55:45.341906Z",
     "iopub.status.idle": "2024-02-23T04:55:51.216893Z",
     "shell.execute_reply.started": "2024-02-23T04:55:45.341877Z",
     "shell.execute_reply": "2024-02-23T04:55:51.215598Z"
    },
    "trusted": true,
    "ExecuteTime": {
     "end_time": "2024-03-21T16:07:24.252221Z",
     "start_time": "2024-03-21T16:07:22.515506Z"
    }
   },
   "execution_count": 10,
   "outputs": [
    {
     "name": "stdout",
     "output_type": "stream",
     "text": [
      "89684\n"
     ]
    }
   ],
   "id": "eb6a8f9818916b31"
  },
  {
   "cell_type": "code",
   "source": [
    "clf = MultinomialNB(alpha=0.02)\n",
    "sgd_model = SGDClassifier(max_iter=8000, tol=1e-4, loss=\"modified_huber\")\n",
    "p6 = {\n",
    "    'n_iter': 1500, \n",
    "    'verbose': -1, \n",
    "    'objective': 'multiclass', \n",
    "    'metric': 'multi_logloss', \n",
    "    'learning_rate': 0.05073909898961407,\n",
    "    'colsample_bytree': 0.726023996436955, \n",
    "    'colsample_bynode': 0.5803681307354022, \n",
    "    'lambda_l1': 8.562963348932286,\n",
    "    'lambda_l2': 4.893256185259296, \n",
    "    'min_data_in_leaf': 115, \n",
    "    'max_depth': 23, \n",
    "    'max_bin': 898,\n",
    "    'num_class': 24\n",
    "}\n",
    "lgb = LGBMClassifier(**p6)\n",
    "\n",
    "# Creating the ensemble model\n",
    "ensemble = VotingClassifier(estimators=[\n",
    "    ('mnb', clf),\n",
    "    ('sgd', sgd_model),\n",
    "    ('lgb', lgb)],\n",
    "    weights=[0.1, 0.45, 0.45],\n",
    "    voting='soft',\n",
    "    n_jobs=-1)"
   ],
   "metadata": {
    "collapsed": false,
    "execution": {
     "iopub.status.busy": "2024-02-23T04:55:51.218501Z",
     "iopub.execute_input": "2024-02-23T04:55:51.218977Z",
     "iopub.status.idle": "2024-02-23T04:55:51.228998Z",
     "shell.execute_reply.started": "2024-02-23T04:55:51.218936Z",
     "shell.execute_reply": "2024-02-23T04:55:51.227816Z"
    },
    "trusted": true,
    "ExecuteTime": {
     "end_time": "2024-03-21T16:07:24.258084Z",
     "start_time": "2024-03-21T16:07:24.252221Z"
    }
   },
   "execution_count": 11,
   "outputs": [],
   "id": "9c2ea392213844c5"
  },
  {
   "cell_type": "code",
   "source": [
    "Y_train = train['topic'].values\n",
    "ensemble.fit(X_train, Y_train)\n",
    "joblib.dump(ensemble, 'ensemble.pkl')"
   ],
   "metadata": {
    "collapsed": false,
    "execution": {
     "iopub.status.busy": "2024-02-23T04:56:28.800801Z",
     "iopub.execute_input": "2024-02-23T04:56:28.801229Z",
     "iopub.status.idle": "2024-02-23T05:02:55.961084Z",
     "shell.execute_reply.started": "2024-02-23T04:56:28.801195Z",
     "shell.execute_reply": "2024-02-23T05:02:55.959444Z"
    },
    "trusted": true,
    "ExecuteTime": {
     "end_time": "2024-03-21T16:11:13.977748Z",
     "start_time": "2024-03-21T16:07:24.258084Z"
    }
   },
   "execution_count": 12,
   "outputs": [
    {
     "data": {
      "text/plain": "['ensemble.pkl']"
     },
     "execution_count": 12,
     "metadata": {},
     "output_type": "execute_result"
    }
   ],
   "id": "ce136a3c62c33593"
  },
  {
   "cell_type": "code",
   "source": [
    "tf_test = vectorizer.transform(tokenized_texts_test)\n",
    "pred = ensemble.predict(tf_test)\n",
    "prob = ensemble.predict_proba(tf_test)\n",
    "test[\"pred\"] = pred\n",
    "test[\"prob\"] = prob.max(axis=1)"
   ],
   "metadata": {
    "collapsed": false,
    "execution": {
     "iopub.status.busy": "2024-02-23T05:02:55.964640Z",
     "iopub.execute_input": "2024-02-23T05:02:55.965417Z",
     "iopub.status.idle": "2024-02-23T05:03:03.165063Z",
     "shell.execute_reply.started": "2024-02-23T05:02:55.965361Z",
     "shell.execute_reply": "2024-02-23T05:03:03.163854Z"
    },
    "trusted": true,
    "ExecuteTime": {
     "end_time": "2024-03-21T16:11:54.852397Z",
     "start_time": "2024-03-21T16:11:54.101753Z"
    }
   },
   "execution_count": 16,
   "outputs": [],
   "id": "8294ec2103d1e588"
  },
  {
   "cell_type": "code",
   "source": [
    "different = test[test['topic'] != test['pred']]\n",
    "different"
   ],
   "metadata": {
    "collapsed": false,
    "execution": {
     "iopub.status.busy": "2024-02-23T05:03:03.168063Z",
     "iopub.execute_input": "2024-02-23T05:03:03.168521Z",
     "iopub.status.idle": "2024-02-23T05:03:03.189187Z",
     "shell.execute_reply.started": "2024-02-23T05:03:03.168487Z",
     "shell.execute_reply": "2024-02-23T05:03:03.187473Z"
    },
    "trusted": true,
    "ExecuteTime": {
     "end_time": "2024-03-21T16:11:57.028187Z",
     "start_time": "2024-03-21T16:11:57.020775Z"
    }
   },
   "execution_count": 17,
   "outputs": [
    {
     "data": {
      "text/plain": "        id                                            content  topic  pred  \\\n0      181  2023 习近平 主席 亲自 擘画 引领 中国 特色 大国 外交 扎实 推进 推动 构建 人...      1    22   \n7     2861  APEC 峰会 前 公使 提出 四点 核心 利益 中 美 会晤 看 美 表现 一带 一路 国...      1     4   \n40    4395  2023 亚太经合 会 APEC 领袖 峰会 今 15 日于 美国 旧金山 登场 泰国 总理...      1     0   \n43    3236  焦点访谈 把舵 中美关系 领航 亚太 合作 央视网 2023 11 19 22 01 加载 ...      1     4   \n60    3670  亚太 国家 地区 领导人 13 抵达 美国 亚太经合组织 APEC 第三十次 领导人 非正式...      1     4   \n...    ...                                                ...    ...   ...   \n3090  3159  中国 空间站 建造 期 一棒 神舟 十五号 三大 看点 2022 11 30 10 54 5...     21    19   \n3096  7668  2022 11 28 上午 9 时 神舟 十五号 载人 飞行 新闻 发布会 酒泉卫星发射中心...     21    19   \n3099   598  2023 12 31 日晚 国家 主席 习近平 发表 二 〇 二 四年 新年贺词 2013 ...     21    19   \n3127  5424  神舟 十七号 发射成功 续写 飞天 梦想 建设 航天 强国 北京 时间 10 26 11 时...     21    20   \n3132  6470  神舟 十六号 出舱 多个 首次 神 十七 10 发射 航天员 杨利伟 7 国外 航天 执行 ...     21    20   \n\n          prob  \n0     0.699783  \n7     0.590462  \n40    0.473018  \n43    0.837395  \n60    0.762252  \n...        ...  \n3090  0.947157  \n3096  0.925985  \n3099  0.490701  \n3127  0.937831  \n3132  0.692039  \n\n[84 rows x 5 columns]",
      "text/html": "<div>\n<style scoped>\n    .dataframe tbody tr th:only-of-type {\n        vertical-align: middle;\n    }\n\n    .dataframe tbody tr th {\n        vertical-align: top;\n    }\n\n    .dataframe thead th {\n        text-align: right;\n    }\n</style>\n<table border=\"1\" class=\"dataframe\">\n  <thead>\n    <tr style=\"text-align: right;\">\n      <th></th>\n      <th>id</th>\n      <th>content</th>\n      <th>topic</th>\n      <th>pred</th>\n      <th>prob</th>\n    </tr>\n  </thead>\n  <tbody>\n    <tr>\n      <th>0</th>\n      <td>181</td>\n      <td>2023 习近平 主席 亲自 擘画 引领 中国 特色 大国 外交 扎实 推进 推动 构建 人...</td>\n      <td>1</td>\n      <td>22</td>\n      <td>0.699783</td>\n    </tr>\n    <tr>\n      <th>7</th>\n      <td>2861</td>\n      <td>APEC 峰会 前 公使 提出 四点 核心 利益 中 美 会晤 看 美 表现 一带 一路 国...</td>\n      <td>1</td>\n      <td>4</td>\n      <td>0.590462</td>\n    </tr>\n    <tr>\n      <th>40</th>\n      <td>4395</td>\n      <td>2023 亚太经合 会 APEC 领袖 峰会 今 15 日于 美国 旧金山 登场 泰国 总理...</td>\n      <td>1</td>\n      <td>0</td>\n      <td>0.473018</td>\n    </tr>\n    <tr>\n      <th>43</th>\n      <td>3236</td>\n      <td>焦点访谈 把舵 中美关系 领航 亚太 合作 央视网 2023 11 19 22 01 加载 ...</td>\n      <td>1</td>\n      <td>4</td>\n      <td>0.837395</td>\n    </tr>\n    <tr>\n      <th>60</th>\n      <td>3670</td>\n      <td>亚太 国家 地区 领导人 13 抵达 美国 亚太经合组织 APEC 第三十次 领导人 非正式...</td>\n      <td>1</td>\n      <td>4</td>\n      <td>0.762252</td>\n    </tr>\n    <tr>\n      <th>...</th>\n      <td>...</td>\n      <td>...</td>\n      <td>...</td>\n      <td>...</td>\n      <td>...</td>\n    </tr>\n    <tr>\n      <th>3090</th>\n      <td>3159</td>\n      <td>中国 空间站 建造 期 一棒 神舟 十五号 三大 看点 2022 11 30 10 54 5...</td>\n      <td>21</td>\n      <td>19</td>\n      <td>0.947157</td>\n    </tr>\n    <tr>\n      <th>3096</th>\n      <td>7668</td>\n      <td>2022 11 28 上午 9 时 神舟 十五号 载人 飞行 新闻 发布会 酒泉卫星发射中心...</td>\n      <td>21</td>\n      <td>19</td>\n      <td>0.925985</td>\n    </tr>\n    <tr>\n      <th>3099</th>\n      <td>598</td>\n      <td>2023 12 31 日晚 国家 主席 习近平 发表 二 〇 二 四年 新年贺词 2013 ...</td>\n      <td>21</td>\n      <td>19</td>\n      <td>0.490701</td>\n    </tr>\n    <tr>\n      <th>3127</th>\n      <td>5424</td>\n      <td>神舟 十七号 发射成功 续写 飞天 梦想 建设 航天 强国 北京 时间 10 26 11 时...</td>\n      <td>21</td>\n      <td>20</td>\n      <td>0.937831</td>\n    </tr>\n    <tr>\n      <th>3132</th>\n      <td>6470</td>\n      <td>神舟 十六号 出舱 多个 首次 神 十七 10 发射 航天员 杨利伟 7 国外 航天 执行 ...</td>\n      <td>21</td>\n      <td>20</td>\n      <td>0.692039</td>\n    </tr>\n  </tbody>\n</table>\n<p>84 rows × 5 columns</p>\n</div>"
     },
     "execution_count": 17,
     "metadata": {},
     "output_type": "execute_result"
    }
   ],
   "id": "cdefad4b5cf88a52"
  },
  {
   "cell_type": "code",
   "source": [
    "accuracy = accuracy_score(test['topic'], test['pred'])\n",
    "precision = precision_score(test['topic'], test['pred'], average='weighted')\n",
    "recall = recall_score(test['topic'], test['pred'], average='weighted')\n",
    "f1 = f1_score(test['topic'], test['pred'], average='weighted')\n",
    "print(f'Accuracy: {accuracy}\\nPrecision: {precision}\\nRecall: {recall}\\nF1: {f1}')"
   ],
   "metadata": {
    "collapsed": false,
    "execution": {
     "iopub.status.busy": "2024-02-23T05:03:03.191753Z",
     "iopub.execute_input": "2024-02-23T05:03:03.192164Z",
     "iopub.status.idle": "2024-02-23T05:03:03.215713Z",
     "shell.execute_reply.started": "2024-02-23T05:03:03.192135Z",
     "shell.execute_reply": "2024-02-23T05:03:03.214475Z"
    },
    "trusted": true,
    "ExecuteTime": {
     "end_time": "2024-03-21T16:11:57.076334Z",
     "start_time": "2024-03-21T16:11:57.068392Z"
    }
   },
   "execution_count": 18,
   "outputs": [
    {
     "name": "stdout",
     "output_type": "stream",
     "text": [
      "Accuracy: 0.9753303964757709\n",
      "Precision: 0.9755118853051953\n",
      "Recall: 0.9753303964757709\n",
      "F1: 0.9753198082233252\n"
     ]
    }
   ],
   "id": "415c441f617d443b"
  },
  {
   "cell_type": "code",
   "source": [],
   "metadata": {
    "ExecuteTime": {
     "end_time": "2024-03-21T16:11:59.409254Z",
     "start_time": "2024-03-21T16:11:59.406932Z"
    }
   },
   "execution_count": 18,
   "outputs": [],
   "id": "2a19b780596092a2"
  },
  {
   "cell_type": "code",
   "outputs": [],
   "source": [],
   "metadata": {
    "collapsed": false
   },
   "id": "cd84afd614259caa"
  }
 ]
}

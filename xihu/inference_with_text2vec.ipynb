{
 "cells": [
  {
   "cell_type": "code",
   "execution_count": 1,
   "id": "initial_id",
   "metadata": {
    "collapsed": true,
    "ExecuteTime": {
     "end_time": "2024-03-21T16:15:41.853997Z",
     "start_time": "2024-03-21T16:15:39.663324Z"
    }
   },
   "outputs": [],
   "source": [
    "import joblib\n",
    "import re\n",
    "import string\n",
    "import jieba\n",
    "import pandas as pd\n",
    "from tokenizers import (\n",
    "    models,\n",
    "    normalizers,\n",
    "    pre_tokenizers,\n",
    "    trainers,\n",
    "    Tokenizer,\n",
    ")\n",
    "\n",
    "from datasets import Dataset\n",
    "from tqdm import tqdm\n",
    "tqdm.pandas()\n",
    "from transformers import PreTrainedTokenizerFast\n",
    "from sklearn.metrics import accuracy_score, precision_score, recall_score, f1_score"
   ]
  },
  {
   "cell_type": "code",
   "outputs": [],
   "source": [
    "# 请修改测试集文件名\n",
    "test_dir = 'test.csv'"
   ],
   "metadata": {
    "collapsed": false,
    "ExecuteTime": {
     "end_time": "2024-03-21T16:15:42.389044Z",
     "start_time": "2024-03-21T16:15:42.386560Z"
    }
   },
   "id": "ca7314ef3715ac2d",
   "execution_count": 2
  },
  {
   "cell_type": "code",
   "outputs": [],
   "source": [
    "# 如测试集中不存在topic列，请使用 test = df[['content']]\n",
    "df = pd.read_csv(test_dir)\n",
    "test = df[['content', 'topic']]\n",
    "#test = df[['content']]"
   ],
   "metadata": {
    "collapsed": false,
    "ExecuteTime": {
     "end_time": "2024-03-21T16:15:42.942873Z",
     "start_time": "2024-03-21T16:15:42.828218Z"
    }
   },
   "id": "ff5e9472577941ce",
   "execution_count": 3
  },
  {
   "cell_type": "code",
   "outputs": [],
   "source": [
    "def get_stopword():\n",
    "    with open('baidu_stopwords.txt', 'r', encoding='utf-8') as f:\n",
    "        stopwords = set(line.strip() for line in f)\n",
    "    stopwords.update([\"年\",\"月\",\"日\"])\n",
    "    return stopwords\n",
    "\n",
    "def wordopt_cn(text):\n",
    "    # replace punctuation with space\n",
    "    no_punct = re.sub(pattern, ' ', text)\n",
    "    return str(no_punct)\n",
    "\n",
    "def remove_stopwords(words):\n",
    "    return (word for word in words if word not in stopwords)\n",
    "\n",
    "def process_content(content):\n",
    "    content = wordopt_cn(content)\n",
    "    words = jieba.cut(content)\n",
    "    words = remove_stopwords(words)\n",
    "    content = ' '.join(words)\n",
    "    content = re.sub(spaces_pattern, ' ', content)\n",
    "    return content\n",
    "\n",
    "# Precompile the regular expressions\n",
    "punctuation = \"！？｡。＂＃＄％＆＇（）＊＋，－／：；＜＝＞＠［＼］＾＿｀｛｜｝～｟｠｢｣､、〃》「」『』【】〔〕〖〗〘〙〚〛〜〝〞〟〰〾〿–—‘’‛“”„‟…‧﹏.\" + string.punctuation\n",
    "pattern = re.compile('[%s]' % re.escape(punctuation))\n",
    "spaces_pattern = re.compile(r'\\s+')\n",
    "stopwords = get_stopword()"
   ],
   "metadata": {
    "collapsed": false,
    "ExecuteTime": {
     "end_time": "2024-03-21T16:15:43.567666Z",
     "start_time": "2024-03-21T16:15:43.563638Z"
    }
   },
   "id": "97c719af0f4b9ad0",
   "execution_count": 4
  },
  {
   "cell_type": "code",
   "outputs": [
    {
     "name": "stderr",
     "output_type": "stream",
     "text": [
      "C:\\Users\\shens\\AppData\\Local\\Temp\\ipykernel_24900\\2199731547.py:1: SettingWithCopyWarning: \n",
      "A value is trying to be set on a copy of a slice from a DataFrame.\n",
      "Try using .loc[row_indexer,col_indexer] = value instead\n",
      "\n",
      "See the caveats in the documentation: https://pandas.pydata.org/pandas-docs/stable/user_guide/indexing.html#returning-a-view-versus-a-copy\n",
      "  test['original_content'] = test['content']\n",
      "  0%|          | 0/3405 [00:00<?, ?it/s]Building prefix dict from the default dictionary ...\n",
      "Loading model from cache C:\\Users\\shens\\AppData\\Local\\Temp\\jieba.cache\n",
      "Loading model cost 0.351 seconds.\n",
      "Prefix dict has been built successfully.\n",
      "100%|██████████| 3405/3405 [00:11<00:00, 302.60it/s]\n",
      "C:\\Users\\shens\\AppData\\Local\\Temp\\ipykernel_24900\\2199731547.py:2: SettingWithCopyWarning: \n",
      "A value is trying to be set on a copy of a slice from a DataFrame.\n",
      "Try using .loc[row_indexer,col_indexer] = value instead\n",
      "\n",
      "See the caveats in the documentation: https://pandas.pydata.org/pandas-docs/stable/user_guide/indexing.html#returning-a-view-versus-a-copy\n",
      "  test['content'] = test['content'].progress_apply(process_content)\n"
     ]
    }
   ],
   "source": [
    "test['original_content'] = test['content']\n",
    "test['content'] = test['content'].progress_apply(process_content)"
   ],
   "metadata": {
    "collapsed": false,
    "ExecuteTime": {
     "end_time": "2024-03-21T16:15:55.710237Z",
     "start_time": "2024-03-21T16:15:44.453359Z"
    }
   },
   "id": "563d74f5ef150668",
   "execution_count": 5
  },
  {
   "cell_type": "code",
   "execution_count": 6,
   "outputs": [],
   "source": [
    "def dummy(text):\n",
    "    return text\n",
    "#test=pd.read_csv('test_jieba.csv')\n",
    "vectorizer = joblib.load('vectorizer_v3.pkl')\n",
    "model = joblib.load('ensemble_v3.pkl')"
   ],
   "metadata": {
    "collapsed": false,
    "ExecuteTime": {
     "end_time": "2024-03-21T16:16:02.210340Z",
     "start_time": "2024-03-21T16:16:01.324755Z"
    }
   },
   "id": "2dfff10c72362666"
  },
  {
   "cell_type": "code",
   "execution_count": 7,
   "outputs": [
    {
     "name": "stderr",
     "output_type": "stream",
     "text": [
      "100%|██████████| 3405/3405 [00:01<00:00, 1771.62it/s]\n"
     ]
    }
   ],
   "source": [
    "LOWERCASE = False\n",
    "VOCAB_SIZE = 100_000\n",
    "raw_tokenizer = Tokenizer(models.BPE(unk_token=\"[UNK]\"))\n",
    "raw_tokenizer.normalizer = normalizers.Sequence([normalizers.NFC()] + [normalizers.Lowercase()] if LOWERCASE else [])\n",
    "raw_tokenizer.pre_tokenizer = pre_tokenizers.WhitespaceSplit()\n",
    "\n",
    "special_tokens = [\"[UNK]\", \"[PAD]\", \"[CLS]\", \"[SEP]\", \"[MASK]\"]\n",
    "trainer = trainers.BpeTrainer(vocab_size=VOCAB_SIZE, special_tokens=special_tokens)\n",
    "\n",
    "dataset = Dataset.from_pandas(test[['content']])\n",
    "\n",
    "\n",
    "def train_corp_iter():\n",
    "    for i in range(0, len(dataset), 1000):\n",
    "        yield dataset[i: i + 1000][\"content\"]\n",
    "\n",
    "\n",
    "raw_tokenizer.train_from_iterator(train_corp_iter(), trainer=trainer)\n",
    "tokenizer = PreTrainedTokenizerFast(\n",
    "    tokenizer_object=raw_tokenizer,\n",
    "    unk_token=\"[UNK]\",\n",
    "    pad_token=\"[PAD]\",\n",
    "    cls_token=\"[CLS]\",\n",
    "    sep_token=\"[SEP]\",\n",
    "    mask_token=\"[MASK]\",\n",
    ")\n",
    "tokenized_texts_test = []\n",
    "\n",
    "for text in tqdm(test['content'].tolist()):\n",
    "    tokenized_texts_test.append(tokenizer.tokenize(text))\n",
    "    \n",
    "tf_test = vectorizer.transform(tokenized_texts_test)"
   ],
   "metadata": {
    "collapsed": false,
    "ExecuteTime": {
     "end_time": "2024-03-21T16:16:07.923322Z",
     "start_time": "2024-03-21T16:16:03.910116Z"
    }
   },
   "id": "80530d185e8c729c"
  },
  {
   "cell_type": "code",
   "execution_count": 26,
   "outputs": [],
   "source": [
    "pred = model.predict(tf_test)\n",
    "prob = model.predict_proba(tf_test)\n",
    "test[\"pred\"] = pred\n",
    "test[\"prob\"] = prob.max(axis=1)"
   ],
   "metadata": {
    "collapsed": false,
    "ExecuteTime": {
     "end_time": "2024-03-21T16:18:09.230169Z",
     "start_time": "2024-03-21T16:18:08.781868Z"
    }
   },
   "id": "fb689736615bfb10"
  },
  {
   "cell_type": "code",
   "outputs": [
    {
     "data": {
      "text/plain": "                                                content  topic  \\\n0     2023 习近平 主席 亲自 擘画 引领 中国 特色 大国 外交 扎实 推进 推动 构建 人...      1   \n1     当地 时间 11 16 习近平 主席 亚太经合组织 APEC 工商 领导人 峰会 发表 书面...      1   \n2     亚太经合组织 第三十次 领导人 非正式 会议 美国 旧金山 莫斯科 尼 中心 国家 主席 习...      1   \n3     习近平 出席 亚太经合组织 领导人 东道主 嘉宾 非正式 对话会 暨 工作 午宴 央视网 2...      1   \n4     中国 国家 主席 习近平 11 14 日应 美国 总统 拜登 邀请 赴美 中 美 领导人 会...      1   \n...                                                 ...    ...   \n3400  从头到尾 来讲 一遍 惯例 先 谈谈 缅甸 北部 那场 风波 这场 风波 源头 藏匿在 缅甸...     23   \n3401  缅北 全线 激战 敏昂 莱 誓言 反击 冲突 扩大化 中 缅 边境 乱 几天 缅甸 内战 爆...     23   \n3402  近日 缅甸 内战 再次 卷土重来 国际 社会 关注 这次 冲突 异常 纷乱 消息 传来 人 ...     23   \n3403  缅北 战火 越烧 越大 中方 做 两手 高层 去 缅甸 首都 清酒 半栩换种 角度 分析 故...     23   \n3404  缅甸 内战 俄罗斯 插手 缅北 局势 影响 中俄关系 清 飞扬 俄罗斯 派 专家 缅甸政府 ...     23   \n\n                                       original_content  pred      prob  \n0     2023年，习近平主席亲自擘画引领，中国特色大国外交扎实推进。在推动构建人类命运共同体的崇高...    22  0.699783  \n1     当地时间11月16日，习近平主席向亚太经合组织（APEC）工商领导人峰会发表书面演讲，强调我...     1  0.992075  \n2     亚太经合组织第三十次领导人非正式会议在美国旧金山莫斯科尼中心举行。国家主席习近平出席会议并发...     1  0.993566  \n3     习近平出席亚太经合组织领导人同东道主嘉宾非正式对话会暨工作午宴央视网2023年11月17日 ...     1  0.984153  \n4     中国国家主席习近平将于11月14日应美国总统拜登邀请赴美举行中美领导人会晤，同时应邀出席亚太...     1  0.580717  \n...                                                 ...   ...       ...  \n3400  从头到尾来讲一遍，咱们按照惯例，先谈谈缅甸北部的那场风波。这场风波的源头是藏匿在缅甸北部的一...    23  0.886486  \n3401  缅北全线激战，敏昂莱誓言反击，冲突可能扩大化，中缅边境乱不得这几天，缅甸内战的爆发，引起了外...    23  0.993304  \n3402  近日，缅甸内战再次卷土重来，引起了国际社会广泛的关注。然而，这次的冲突异常纷乱，各种消息传来...    23  0.993926  \n3403  缅北战火越烧越大，中方做两手准备，高层直接去了缅甸首都清酒半栩换种角度分析故事，带你了解更有...    23  0.981772  \n3404  缅甸内战，俄罗斯插手缅北局势，是否影响中俄关系清飞扬俄罗斯派专家帮助缅甸政府打击果敢同盟军，...    23  0.952609  \n\n[3405 rows x 5 columns]",
      "text/html": "<div>\n<style scoped>\n    .dataframe tbody tr th:only-of-type {\n        vertical-align: middle;\n    }\n\n    .dataframe tbody tr th {\n        vertical-align: top;\n    }\n\n    .dataframe thead th {\n        text-align: right;\n    }\n</style>\n<table border=\"1\" class=\"dataframe\">\n  <thead>\n    <tr style=\"text-align: right;\">\n      <th></th>\n      <th>content</th>\n      <th>topic</th>\n      <th>original_content</th>\n      <th>pred</th>\n      <th>prob</th>\n    </tr>\n  </thead>\n  <tbody>\n    <tr>\n      <th>0</th>\n      <td>2023 习近平 主席 亲自 擘画 引领 中国 特色 大国 外交 扎实 推进 推动 构建 人...</td>\n      <td>1</td>\n      <td>2023年，习近平主席亲自擘画引领，中国特色大国外交扎实推进。在推动构建人类命运共同体的崇高...</td>\n      <td>22</td>\n      <td>0.699783</td>\n    </tr>\n    <tr>\n      <th>1</th>\n      <td>当地 时间 11 16 习近平 主席 亚太经合组织 APEC 工商 领导人 峰会 发表 书面...</td>\n      <td>1</td>\n      <td>当地时间11月16日，习近平主席向亚太经合组织（APEC）工商领导人峰会发表书面演讲，强调我...</td>\n      <td>1</td>\n      <td>0.992075</td>\n    </tr>\n    <tr>\n      <th>2</th>\n      <td>亚太经合组织 第三十次 领导人 非正式 会议 美国 旧金山 莫斯科 尼 中心 国家 主席 习...</td>\n      <td>1</td>\n      <td>亚太经合组织第三十次领导人非正式会议在美国旧金山莫斯科尼中心举行。国家主席习近平出席会议并发...</td>\n      <td>1</td>\n      <td>0.993566</td>\n    </tr>\n    <tr>\n      <th>3</th>\n      <td>习近平 出席 亚太经合组织 领导人 东道主 嘉宾 非正式 对话会 暨 工作 午宴 央视网 2...</td>\n      <td>1</td>\n      <td>习近平出席亚太经合组织领导人同东道主嘉宾非正式对话会暨工作午宴央视网2023年11月17日 ...</td>\n      <td>1</td>\n      <td>0.984153</td>\n    </tr>\n    <tr>\n      <th>4</th>\n      <td>中国 国家 主席 习近平 11 14 日应 美国 总统 拜登 邀请 赴美 中 美 领导人 会...</td>\n      <td>1</td>\n      <td>中国国家主席习近平将于11月14日应美国总统拜登邀请赴美举行中美领导人会晤，同时应邀出席亚太...</td>\n      <td>1</td>\n      <td>0.580717</td>\n    </tr>\n    <tr>\n      <th>...</th>\n      <td>...</td>\n      <td>...</td>\n      <td>...</td>\n      <td>...</td>\n      <td>...</td>\n    </tr>\n    <tr>\n      <th>3400</th>\n      <td>从头到尾 来讲 一遍 惯例 先 谈谈 缅甸 北部 那场 风波 这场 风波 源头 藏匿在 缅甸...</td>\n      <td>23</td>\n      <td>从头到尾来讲一遍，咱们按照惯例，先谈谈缅甸北部的那场风波。这场风波的源头是藏匿在缅甸北部的一...</td>\n      <td>23</td>\n      <td>0.886486</td>\n    </tr>\n    <tr>\n      <th>3401</th>\n      <td>缅北 全线 激战 敏昂 莱 誓言 反击 冲突 扩大化 中 缅 边境 乱 几天 缅甸 内战 爆...</td>\n      <td>23</td>\n      <td>缅北全线激战，敏昂莱誓言反击，冲突可能扩大化，中缅边境乱不得这几天，缅甸内战的爆发，引起了外...</td>\n      <td>23</td>\n      <td>0.993304</td>\n    </tr>\n    <tr>\n      <th>3402</th>\n      <td>近日 缅甸 内战 再次 卷土重来 国际 社会 关注 这次 冲突 异常 纷乱 消息 传来 人 ...</td>\n      <td>23</td>\n      <td>近日，缅甸内战再次卷土重来，引起了国际社会广泛的关注。然而，这次的冲突异常纷乱，各种消息传来...</td>\n      <td>23</td>\n      <td>0.993926</td>\n    </tr>\n    <tr>\n      <th>3403</th>\n      <td>缅北 战火 越烧 越大 中方 做 两手 高层 去 缅甸 首都 清酒 半栩换种 角度 分析 故...</td>\n      <td>23</td>\n      <td>缅北战火越烧越大，中方做两手准备，高层直接去了缅甸首都清酒半栩换种角度分析故事，带你了解更有...</td>\n      <td>23</td>\n      <td>0.981772</td>\n    </tr>\n    <tr>\n      <th>3404</th>\n      <td>缅甸 内战 俄罗斯 插手 缅北 局势 影响 中俄关系 清 飞扬 俄罗斯 派 专家 缅甸政府 ...</td>\n      <td>23</td>\n      <td>缅甸内战，俄罗斯插手缅北局势，是否影响中俄关系清飞扬俄罗斯派专家帮助缅甸政府打击果敢同盟军，...</td>\n      <td>23</td>\n      <td>0.952609</td>\n    </tr>\n  </tbody>\n</table>\n<p>3405 rows × 5 columns</p>\n</div>"
     },
     "execution_count": 27,
     "metadata": {},
     "output_type": "execute_result"
    }
   ],
   "source": [
    "test"
   ],
   "metadata": {
    "collapsed": false,
    "ExecuteTime": {
     "end_time": "2024-03-21T16:18:09.240161Z",
     "start_time": "2024-03-21T16:18:09.231740Z"
    }
   },
   "id": "a566bf4b617e573f",
   "execution_count": 27
  },
  {
   "cell_type": "code",
   "execution_count": 28,
   "outputs": [
    {
     "name": "stdout",
     "output_type": "stream",
     "text": [
      "Accuracy: 0.9753303964757709\n",
      "Precision: 0.9755118853051953\n",
      "Recall: 0.9753303964757709\n",
      "F1: 0.9753198082233252\n"
     ]
    }
   ],
   "source": [
    "accuracy = accuracy_score(test['topic'], test['pred'])\n",
    "precision = precision_score(test['topic'], test['pred'], average='weighted')\n",
    "recall = recall_score(test['topic'], test['pred'], average='weighted')\n",
    "f1 = f1_score(test['topic'], test['pred'], average='weighted')\n",
    "print(f'Accuracy: {accuracy}\\nPrecision: {precision}\\nRecall: {recall}\\nF1: {f1}')"
   ],
   "metadata": {
    "collapsed": false,
    "ExecuteTime": {
     "end_time": "2024-03-21T16:18:09.250562Z",
     "start_time": "2024-03-21T16:18:09.241163Z"
    }
   },
   "id": "3bae231bdfd6fe71"
  },
  {
   "cell_type": "code",
   "outputs": [
    {
     "data": {
      "text/plain": "                                                content  topic  \\\n40    2023 亚太经合 会 APEC 领袖 峰会 今 15 日于 美国 旧金山 登场 泰国 总理...      1   \n82    美国 已 中 俄 发出 邀请 普京 本人 去不去 俄罗斯 会 悬念 留 亚太经合组织 APE...      1   \n148   微软 采购 核聚变 初创 公司 Helion 电力 Helion 预计 2028 年前 上线...      2   \n252   2023 新德里 G20 领导人 峰会 成员国 名单 特邀 成员国 名单 印度 拟定 20 ...      3   \n261   印度 新德里 G20 峰会 落幕 国际 政坛 落幕 各国 领导人 展现 风采 机会 英国 头...      3   \n...                                                 ...    ...   \n3061  2023 神舟 16 号 发射成功 观后感 三 二 点火 火团 喷涌 而出 小小的 屏幕 画...     21   \n3075  神舟 十六号 发射 全过程 47002023 05 30 11 07 43 未经 作者 授权...     21   \n3099  2023 12 31 日晚 国家 主席 习近平 发表 二 〇 二 四年 新年贺词 2013 ...     21   \n3188  10 18 第三届 一带 一路 国际 合作 高峰论坛 开幕式 上 习近平 总书记 中国 支持...     22   \n3346  叙利亚 印巴 缅甸 爆发 战火 美国 匕首 直 插 俄罗斯 后背 巧合 同一天 全球 三个 ...     23   \n\n                                       original_content  pred      prob  \n40    2023年亚太经合会APEC领袖峰会今(15)日于美国旧金山登场，泰国总理赛塔(Settha...     0  0.473018  \n82    美国已向中俄发出邀请，普京本人去不去，俄罗斯会把悬念留到最后今年的亚太经合组织（APEC）峰...     3  0.363054  \n148   微软将采购由核聚变初创公司Helion产生的电力，Helion预计2028年前上线50兆瓦核...     0  0.395752  \n252   2023年在新德里举行的G20领导人峰会成员国名单以及特邀成员国名单，印度已经拟定出来，除了...     3  0.461361  \n261   印度新德里G20峰会的落幕，不仅是国际政坛的落幕，也是各国领导人展现风采的机会。英国头号夫人...     3  0.434066  \n...                                                 ...   ...       ...  \n3061  2023年神舟16号发射成功观后感“三、二、一，点火”。火团喷涌而出。望着小小的屏幕，我看到...    19  0.336480  \n3075  神舟十六号_发射全过程47002023-05-30 11:07:43未经作者授权，禁止转载9...    21  0.392373  \n3099  2023年12月31日晚，国家主席习近平发表二〇二四年新年贺词。自2013年岁末起，习近平主...    19  0.490701  \n3188  10月18日，在第三届“一带一路”国际合作高峰论坛开幕式上，习近平总书记宣布了中国支持高质量...    22  0.396571  \n3346  为何叙利亚、印巴和缅甸同时爆发战火？美国的匕首直插俄罗斯后背这只是巧合吗？同一天，全球三个热...    23  0.414957  \n\n[61 rows x 5 columns]",
      "text/html": "<div>\n<style scoped>\n    .dataframe tbody tr th:only-of-type {\n        vertical-align: middle;\n    }\n\n    .dataframe tbody tr th {\n        vertical-align: top;\n    }\n\n    .dataframe thead th {\n        text-align: right;\n    }\n</style>\n<table border=\"1\" class=\"dataframe\">\n  <thead>\n    <tr style=\"text-align: right;\">\n      <th></th>\n      <th>content</th>\n      <th>topic</th>\n      <th>original_content</th>\n      <th>pred</th>\n      <th>prob</th>\n    </tr>\n  </thead>\n  <tbody>\n    <tr>\n      <th>40</th>\n      <td>2023 亚太经合 会 APEC 领袖 峰会 今 15 日于 美国 旧金山 登场 泰国 总理...</td>\n      <td>1</td>\n      <td>2023年亚太经合会APEC领袖峰会今(15)日于美国旧金山登场，泰国总理赛塔(Settha...</td>\n      <td>0</td>\n      <td>0.473018</td>\n    </tr>\n    <tr>\n      <th>82</th>\n      <td>美国 已 中 俄 发出 邀请 普京 本人 去不去 俄罗斯 会 悬念 留 亚太经合组织 APE...</td>\n      <td>1</td>\n      <td>美国已向中俄发出邀请，普京本人去不去，俄罗斯会把悬念留到最后今年的亚太经合组织（APEC）峰...</td>\n      <td>3</td>\n      <td>0.363054</td>\n    </tr>\n    <tr>\n      <th>148</th>\n      <td>微软 采购 核聚变 初创 公司 Helion 电力 Helion 预计 2028 年前 上线...</td>\n      <td>2</td>\n      <td>微软将采购由核聚变初创公司Helion产生的电力，Helion预计2028年前上线50兆瓦核...</td>\n      <td>0</td>\n      <td>0.395752</td>\n    </tr>\n    <tr>\n      <th>252</th>\n      <td>2023 新德里 G20 领导人 峰会 成员国 名单 特邀 成员国 名单 印度 拟定 20 ...</td>\n      <td>3</td>\n      <td>2023年在新德里举行的G20领导人峰会成员国名单以及特邀成员国名单，印度已经拟定出来，除了...</td>\n      <td>3</td>\n      <td>0.461361</td>\n    </tr>\n    <tr>\n      <th>261</th>\n      <td>印度 新德里 G20 峰会 落幕 国际 政坛 落幕 各国 领导人 展现 风采 机会 英国 头...</td>\n      <td>3</td>\n      <td>印度新德里G20峰会的落幕，不仅是国际政坛的落幕，也是各国领导人展现风采的机会。英国头号夫人...</td>\n      <td>3</td>\n      <td>0.434066</td>\n    </tr>\n    <tr>\n      <th>...</th>\n      <td>...</td>\n      <td>...</td>\n      <td>...</td>\n      <td>...</td>\n      <td>...</td>\n    </tr>\n    <tr>\n      <th>3061</th>\n      <td>2023 神舟 16 号 发射成功 观后感 三 二 点火 火团 喷涌 而出 小小的 屏幕 画...</td>\n      <td>21</td>\n      <td>2023年神舟16号发射成功观后感“三、二、一，点火”。火团喷涌而出。望着小小的屏幕，我看到...</td>\n      <td>19</td>\n      <td>0.336480</td>\n    </tr>\n    <tr>\n      <th>3075</th>\n      <td>神舟 十六号 发射 全过程 47002023 05 30 11 07 43 未经 作者 授权...</td>\n      <td>21</td>\n      <td>神舟十六号_发射全过程47002023-05-30 11:07:43未经作者授权，禁止转载9...</td>\n      <td>21</td>\n      <td>0.392373</td>\n    </tr>\n    <tr>\n      <th>3099</th>\n      <td>2023 12 31 日晚 国家 主席 习近平 发表 二 〇 二 四年 新年贺词 2013 ...</td>\n      <td>21</td>\n      <td>2023年12月31日晚，国家主席习近平发表二〇二四年新年贺词。自2013年岁末起，习近平主...</td>\n      <td>19</td>\n      <td>0.490701</td>\n    </tr>\n    <tr>\n      <th>3188</th>\n      <td>10 18 第三届 一带 一路 国际 合作 高峰论坛 开幕式 上 习近平 总书记 中国 支持...</td>\n      <td>22</td>\n      <td>10月18日，在第三届“一带一路”国际合作高峰论坛开幕式上，习近平总书记宣布了中国支持高质量...</td>\n      <td>22</td>\n      <td>0.396571</td>\n    </tr>\n    <tr>\n      <th>3346</th>\n      <td>叙利亚 印巴 缅甸 爆发 战火 美国 匕首 直 插 俄罗斯 后背 巧合 同一天 全球 三个 ...</td>\n      <td>23</td>\n      <td>为何叙利亚、印巴和缅甸同时爆发战火？美国的匕首直插俄罗斯后背这只是巧合吗？同一天，全球三个热...</td>\n      <td>23</td>\n      <td>0.414957</td>\n    </tr>\n  </tbody>\n</table>\n<p>61 rows × 5 columns</p>\n</div>"
     },
     "execution_count": 29,
     "metadata": {},
     "output_type": "execute_result"
    }
   ],
   "source": [
    "low_prob = test[test['prob'] < 0.5]\n",
    "low_prob"
   ],
   "metadata": {
    "collapsed": false,
    "ExecuteTime": {
     "end_time": "2024-03-21T16:18:09.260573Z",
     "start_time": "2024-03-21T16:18:09.251564Z"
    }
   },
   "id": "8a297b35e6e4e54a",
   "execution_count": 29
  },
  {
   "cell_type": "code",
   "outputs": [
    {
     "name": "stderr",
     "output_type": "stream",
     "text": [
      "\u001B[32m2024-03-22 00:18:11.184\u001B[0m | \u001B[34m\u001B[1mDEBUG   \u001B[0m | \u001B[36mtext2vec.sentence_model\u001B[0m:\u001B[36m__init__\u001B[0m:\u001B[36m80\u001B[0m - \u001B[34m\u001B[1mUse device: cpu\u001B[0m\n",
      "100%|██████████| 61/61 [00:12<00:00,  4.88it/s]\n",
      "C:\\Users\\shens\\AppData\\Local\\Temp\\ipykernel_24900\\2954009043.py:19: SettingWithCopyWarning: \n",
      "A value is trying to be set on a copy of a slice from a DataFrame.\n",
      "Try using .loc[row_indexer,col_indexer] = value instead\n",
      "\n",
      "See the caveats in the documentation: https://pandas.pydata.org/pandas-docs/stable/user_guide/indexing.html#returning-a-view-versus-a-copy\n",
      "  low_prob['pred'] = preds\n",
      "C:\\Users\\shens\\AppData\\Local\\Temp\\ipykernel_24900\\2954009043.py:20: SettingWithCopyWarning: \n",
      "A value is trying to be set on a copy of a slice from a DataFrame.\n",
      "Try using .loc[row_indexer,col_indexer] = value instead\n",
      "\n",
      "See the caveats in the documentation: https://pandas.pydata.org/pandas-docs/stable/user_guide/indexing.html#returning-a-view-versus-a-copy\n",
      "  low_prob[\"max_sim\"] = max_sim\n"
     ]
    }
   ],
   "source": [
    "from sklearn.metrics.pairwise import cosine_similarity\n",
    "from text2vec import SentenceModel\n",
    "from tqdm import tqdm\n",
    "tqdm.pandas()\n",
    "import numpy as np\n",
    "m = SentenceModel(\"shibing624/text2vec-base-chinese-paraphrase\", max_seq_length=512, device=\"cpu\")\n",
    "cls_emb_center = joblib.load(\"cls_emb_center_512.pkl\")\n",
    "\n",
    "test_emb = [m.encode(i) for i in tqdm(low_prob['original_content'])]\n",
    "\n",
    "preds = []\n",
    "max_sim = []\n",
    "for i in test_emb:\n",
    "    sim = [cosine_similarity(i.reshape(1, -1), cls_emb_center[j].reshape(1, -1))[0][0] for j in range(24)]\n",
    "    max_sim.append(max(sim))\n",
    "    pred = np.argmax(sim)\n",
    "    preds.append(pred)\n",
    "\n",
    "low_prob['pred'] = preds\n",
    "low_prob[\"max_sim\"] = max_sim"
   ],
   "metadata": {
    "collapsed": false,
    "ExecuteTime": {
     "end_time": "2024-03-21T16:18:23.890896Z",
     "start_time": "2024-03-21T16:18:09.366594Z"
    }
   },
   "id": "d3726d20afe5143b",
   "execution_count": 30
  },
  {
   "cell_type": "code",
   "outputs": [
    {
     "data": {
      "text/plain": "                                                content  topic  \\\n82    美国 已 中 俄 发出 邀请 普京 本人 去不去 俄罗斯 会 悬念 留 亚太经合组织 APE...      1   \n148   微软 采购 核聚变 初创 公司 Helion 电力 Helion 预计 2028 年前 上线...      2   \n483   11 14 世界 目光 投向 印尼 巴厘岛 一场 重磅 峰会 登场 二 十国集团 G20 峰...      4   \n1256  苏联 历次 对外 战争 理由 开战 方式 梳理 无 处天 战争 一个 国家 来说 生死攸关 ...     11   \n1285  叙利亚 驻华大使 一带 一路 使 重建 中 叙利亚 受益匪浅 2022 1 12 中国 叙利...     11   \n1450  台湾 国防部 12 24 日称 24 小时 中 歼 10 歼 11 歼 16 各型 共 8 ...     12   \n1888  新 时代 中国 山水 披绿纱 引来 德企 大当家 来自 德国 柯雪婷 Kerstin Kae...      0   \n1929  10 月份 我国 自然灾害 台风 洪涝灾害 风雹 低温 冷冻 雪灾 地震 地质灾害 森林 火...      0   \n1967  5 6 省厅 印发 《 做好 2023 年度 防汛防台 风 工作 通知 全力 做好 防汛防台...      0   \n2025  天津 启动 防洪 Ⅳ 级 应急 响应 明 持续 强降雨 下 台风 已 生成 天津市 防办 发...      0   \n2094  近日 中央 网信 办 主办 2023 中国 正 能量 网络 精品 征集 展播 活动 正式 启...      0   \n2442  举世瞩目 杭州 亚运会 开幕 国 领导人 出席 6 天内 中方 接连 美 俄 战略 互动 9...     16   \n2557  2021 10 5 山西省 晋中市 吕梁市 临汾市 发生 崩塌 滑坡 地质灾害 人员伤亡 2...     17   \n2723  е Ё й ғ Ё е Ҝ ј и Ҳ Ә ж ¶ ж ҝ е ӣ Ҫ е Ҷ е ӣ Ҫ ...     18   \n2814  2023 中国航天 交出 亮眼 成绩单 2024 发展 阶段 中国 空间站 迎来 新 访客 ...     19   \n2893  神舟 17 号 载人 航天 飞船 点火 一瞬间 全场 观众 热血沸腾 心潮澎湃 瞬间 火焰 ...     20   \n2921  1999 11 20 我国 第一艘 航天 飞船 成功 发射 距今 为止 刚好 24 短短的 ...     20   \n2925  神州 十七号 载人 飞船 3 名 航天员 抵达 中国 空间站 中国 航天员 第三次 太空 会...     20   \n3004  1992 我国 提出 载人 航天 三步走 发展 战略 第一步 发射 载人 飞船 太空 返回地...     20   \n3099  2023 12 31 日晚 国家 主席 习近平 发表 二 〇 二 四年 新年贺词 2013 ...     21   \n3346  叙利亚 印巴 缅甸 爆发 战火 美国 匕首 直 插 俄罗斯 后背 巧合 同一天 全球 三个 ...     23   \n\n                                       original_content  pred      prob  \\\n82    美国已向中俄发出邀请，普京本人去不去，俄罗斯会把悬念留到最后今年的亚太经合组织（APEC）峰...     4  0.363054   \n148   微软将采购由核聚变初创公司Helion产生的电力，Helion预计2028年前上线50兆瓦核...     0  0.395752   \n483   11月14日，世界目光投向印尼巴厘岛，一场重磅峰会在此登场。在二十国集团（G20）峰会前夕，...     3  0.498739   \n1256  苏联历次对外战争的理由及开战方式梳理无所有处天战争对于一个国家来说，往往是生死攸关的大事，所...     6  0.306728   \n1285  叙利亚驻华大使：加入“一带一路”将使重建中的叙利亚受益匪浅。2022年1月12日，中国和叙利...    22  0.467451   \n1450  台湾国防部12月24日称，在过去24小时中，又有歼-10、歼-11、歼-16等各型共8架战机...    19  0.284248   \n1888  新时代，我在中国 | 山水披绿纱，引来德企大当家来自德国的柯雪婷（Kerstin Kaehl...    22  0.367663   \n1929  10月份，我国自然灾害以台风、洪涝灾害为主，风雹、低温冷冻、雪灾、地震、地质灾害和森林火灾等...    18  0.489056   \n1967  5月6日，省厅印发《关于做好2023年度防汛防台风工作的通知》，就全力做好防汛防台风，确保人...    17  0.352868   \n2025  天津启动防洪Ⅳ级应急响应！明起持续强降雨！下一台风已生成！天津市防办发布通知7月28日11时...    17  0.440685   \n2094  近日，由中央网信办主办的2023中国正能量网络精品征集展播活动正式启动。活动以“凝聚强国力量...     7  0.477041   \n2442  举世瞩目！杭州亚运会开幕，多国领导人出席；6天内中方接连与美俄战略互动9月23日晚，杭州亚运...     4  0.470183   \n2557  2021年10月5日，山西省晋中市、吕梁市、临汾市先后发生多起崩塌、滑坡等地质灾害，造成人员...    18  0.488251   \n2723  е…ЁйғЁеҜјиҲӘж—¶ж”ҝеӣҪеҶ…еӣҪйҷ…иҙўз»ҸзӨҫдјҡеЁұд...     0  0.285612   \n2814  2023年，中国航天交出了亮眼成绩单。2024年，进入应用与发展阶段的中国空间站将迎来新的“...    20  0.459746   \n2893  神舟17号载人航天飞船点火的一瞬间，全场观众热血沸腾，心潮澎湃。那瞬间的火焰燃烧着我们对祖国...    19  0.309026   \n2921  1999年11月20日，我国第一艘航天飞船成功发射，距今为止刚好24年，在这短短的24年里，...    19  0.404665   \n2925  神州十七号载人飞船的3名航天员抵达中国空间站，实现了中国航天员的第三次太空会师。在未来，更多...    19  0.317304   \n3004  在1992年，我国提出了载人航天“三步走”的发展战略，第一步就是发射载人飞船进入太空，并安全...    19  0.436337   \n3099  2023年12月31日晚，国家主席习近平发表二〇二四年新年贺词。自2013年岁末起，习近平主...    19  0.490701   \n3346  为何叙利亚、印巴和缅甸同时爆发战火？美国的匕首直插俄罗斯后背这只是巧合吗？同一天，全球三个热...    11  0.414957   \n\n       max_sim  \n82    0.879174  \n148   0.817163  \n483   0.958168  \n1256  0.883001  \n1285  0.888616  \n1450  0.808087  \n1888  0.786594  \n1929  0.899937  \n1967  0.875500  \n2025  0.913466  \n2094  0.801917  \n2442  0.899675  \n2557  0.850073  \n2723  0.852686  \n2814  0.972866  \n2893  0.911821  \n2921  0.964864  \n2925  0.949028  \n3004  0.970170  \n3099  0.862985  \n3346  0.905501  ",
      "text/html": "<div>\n<style scoped>\n    .dataframe tbody tr th:only-of-type {\n        vertical-align: middle;\n    }\n\n    .dataframe tbody tr th {\n        vertical-align: top;\n    }\n\n    .dataframe thead th {\n        text-align: right;\n    }\n</style>\n<table border=\"1\" class=\"dataframe\">\n  <thead>\n    <tr style=\"text-align: right;\">\n      <th></th>\n      <th>content</th>\n      <th>topic</th>\n      <th>original_content</th>\n      <th>pred</th>\n      <th>prob</th>\n      <th>max_sim</th>\n    </tr>\n  </thead>\n  <tbody>\n    <tr>\n      <th>82</th>\n      <td>美国 已 中 俄 发出 邀请 普京 本人 去不去 俄罗斯 会 悬念 留 亚太经合组织 APE...</td>\n      <td>1</td>\n      <td>美国已向中俄发出邀请，普京本人去不去，俄罗斯会把悬念留到最后今年的亚太经合组织（APEC）峰...</td>\n      <td>4</td>\n      <td>0.363054</td>\n      <td>0.879174</td>\n    </tr>\n    <tr>\n      <th>148</th>\n      <td>微软 采购 核聚变 初创 公司 Helion 电力 Helion 预计 2028 年前 上线...</td>\n      <td>2</td>\n      <td>微软将采购由核聚变初创公司Helion产生的电力，Helion预计2028年前上线50兆瓦核...</td>\n      <td>0</td>\n      <td>0.395752</td>\n      <td>0.817163</td>\n    </tr>\n    <tr>\n      <th>483</th>\n      <td>11 14 世界 目光 投向 印尼 巴厘岛 一场 重磅 峰会 登场 二 十国集团 G20 峰...</td>\n      <td>4</td>\n      <td>11月14日，世界目光投向印尼巴厘岛，一场重磅峰会在此登场。在二十国集团（G20）峰会前夕，...</td>\n      <td>3</td>\n      <td>0.498739</td>\n      <td>0.958168</td>\n    </tr>\n    <tr>\n      <th>1256</th>\n      <td>苏联 历次 对外 战争 理由 开战 方式 梳理 无 处天 战争 一个 国家 来说 生死攸关 ...</td>\n      <td>11</td>\n      <td>苏联历次对外战争的理由及开战方式梳理无所有处天战争对于一个国家来说，往往是生死攸关的大事，所...</td>\n      <td>6</td>\n      <td>0.306728</td>\n      <td>0.883001</td>\n    </tr>\n    <tr>\n      <th>1285</th>\n      <td>叙利亚 驻华大使 一带 一路 使 重建 中 叙利亚 受益匪浅 2022 1 12 中国 叙利...</td>\n      <td>11</td>\n      <td>叙利亚驻华大使：加入“一带一路”将使重建中的叙利亚受益匪浅。2022年1月12日，中国和叙利...</td>\n      <td>22</td>\n      <td>0.467451</td>\n      <td>0.888616</td>\n    </tr>\n    <tr>\n      <th>1450</th>\n      <td>台湾 国防部 12 24 日称 24 小时 中 歼 10 歼 11 歼 16 各型 共 8 ...</td>\n      <td>12</td>\n      <td>台湾国防部12月24日称，在过去24小时中，又有歼-10、歼-11、歼-16等各型共8架战机...</td>\n      <td>19</td>\n      <td>0.284248</td>\n      <td>0.808087</td>\n    </tr>\n    <tr>\n      <th>1888</th>\n      <td>新 时代 中国 山水 披绿纱 引来 德企 大当家 来自 德国 柯雪婷 Kerstin Kae...</td>\n      <td>0</td>\n      <td>新时代，我在中国 | 山水披绿纱，引来德企大当家来自德国的柯雪婷（Kerstin Kaehl...</td>\n      <td>22</td>\n      <td>0.367663</td>\n      <td>0.786594</td>\n    </tr>\n    <tr>\n      <th>1929</th>\n      <td>10 月份 我国 自然灾害 台风 洪涝灾害 风雹 低温 冷冻 雪灾 地震 地质灾害 森林 火...</td>\n      <td>0</td>\n      <td>10月份，我国自然灾害以台风、洪涝灾害为主，风雹、低温冷冻、雪灾、地震、地质灾害和森林火灾等...</td>\n      <td>18</td>\n      <td>0.489056</td>\n      <td>0.899937</td>\n    </tr>\n    <tr>\n      <th>1967</th>\n      <td>5 6 省厅 印发 《 做好 2023 年度 防汛防台 风 工作 通知 全力 做好 防汛防台...</td>\n      <td>0</td>\n      <td>5月6日，省厅印发《关于做好2023年度防汛防台风工作的通知》，就全力做好防汛防台风，确保人...</td>\n      <td>17</td>\n      <td>0.352868</td>\n      <td>0.875500</td>\n    </tr>\n    <tr>\n      <th>2025</th>\n      <td>天津 启动 防洪 Ⅳ 级 应急 响应 明 持续 强降雨 下 台风 已 生成 天津市 防办 发...</td>\n      <td>0</td>\n      <td>天津启动防洪Ⅳ级应急响应！明起持续强降雨！下一台风已生成！天津市防办发布通知7月28日11时...</td>\n      <td>17</td>\n      <td>0.440685</td>\n      <td>0.913466</td>\n    </tr>\n    <tr>\n      <th>2094</th>\n      <td>近日 中央 网信 办 主办 2023 中国 正 能量 网络 精品 征集 展播 活动 正式 启...</td>\n      <td>0</td>\n      <td>近日，由中央网信办主办的2023中国正能量网络精品征集展播活动正式启动。活动以“凝聚强国力量...</td>\n      <td>7</td>\n      <td>0.477041</td>\n      <td>0.801917</td>\n    </tr>\n    <tr>\n      <th>2442</th>\n      <td>举世瞩目 杭州 亚运会 开幕 国 领导人 出席 6 天内 中方 接连 美 俄 战略 互动 9...</td>\n      <td>16</td>\n      <td>举世瞩目！杭州亚运会开幕，多国领导人出席；6天内中方接连与美俄战略互动9月23日晚，杭州亚运...</td>\n      <td>4</td>\n      <td>0.470183</td>\n      <td>0.899675</td>\n    </tr>\n    <tr>\n      <th>2557</th>\n      <td>2021 10 5 山西省 晋中市 吕梁市 临汾市 发生 崩塌 滑坡 地质灾害 人员伤亡 2...</td>\n      <td>17</td>\n      <td>2021年10月5日，山西省晋中市、吕梁市、临汾市先后发生多起崩塌、滑坡等地质灾害，造成人员...</td>\n      <td>18</td>\n      <td>0.488251</td>\n      <td>0.850073</td>\n    </tr>\n    <tr>\n      <th>2723</th>\n      <td>е Ё й ғ Ё е Ҝ ј и Ҳ Ә ж ¶ ж ҝ е ӣ Ҫ е Ҷ е ӣ Ҫ ...</td>\n      <td>18</td>\n      <td>е…ЁйғЁеҜјиҲӘж—¶ж”ҝеӣҪеҶ…еӣҪйҷ…иҙўз»ҸзӨҫдјҡеЁұд...</td>\n      <td>0</td>\n      <td>0.285612</td>\n      <td>0.852686</td>\n    </tr>\n    <tr>\n      <th>2814</th>\n      <td>2023 中国航天 交出 亮眼 成绩单 2024 发展 阶段 中国 空间站 迎来 新 访客 ...</td>\n      <td>19</td>\n      <td>2023年，中国航天交出了亮眼成绩单。2024年，进入应用与发展阶段的中国空间站将迎来新的“...</td>\n      <td>20</td>\n      <td>0.459746</td>\n      <td>0.972866</td>\n    </tr>\n    <tr>\n      <th>2893</th>\n      <td>神舟 17 号 载人 航天 飞船 点火 一瞬间 全场 观众 热血沸腾 心潮澎湃 瞬间 火焰 ...</td>\n      <td>20</td>\n      <td>神舟17号载人航天飞船点火的一瞬间，全场观众热血沸腾，心潮澎湃。那瞬间的火焰燃烧着我们对祖国...</td>\n      <td>19</td>\n      <td>0.309026</td>\n      <td>0.911821</td>\n    </tr>\n    <tr>\n      <th>2921</th>\n      <td>1999 11 20 我国 第一艘 航天 飞船 成功 发射 距今 为止 刚好 24 短短的 ...</td>\n      <td>20</td>\n      <td>1999年11月20日，我国第一艘航天飞船成功发射，距今为止刚好24年，在这短短的24年里，...</td>\n      <td>19</td>\n      <td>0.404665</td>\n      <td>0.964864</td>\n    </tr>\n    <tr>\n      <th>2925</th>\n      <td>神州 十七号 载人 飞船 3 名 航天员 抵达 中国 空间站 中国 航天员 第三次 太空 会...</td>\n      <td>20</td>\n      <td>神州十七号载人飞船的3名航天员抵达中国空间站，实现了中国航天员的第三次太空会师。在未来，更多...</td>\n      <td>19</td>\n      <td>0.317304</td>\n      <td>0.949028</td>\n    </tr>\n    <tr>\n      <th>3004</th>\n      <td>1992 我国 提出 载人 航天 三步走 发展 战略 第一步 发射 载人 飞船 太空 返回地...</td>\n      <td>20</td>\n      <td>在1992年，我国提出了载人航天“三步走”的发展战略，第一步就是发射载人飞船进入太空，并安全...</td>\n      <td>19</td>\n      <td>0.436337</td>\n      <td>0.970170</td>\n    </tr>\n    <tr>\n      <th>3099</th>\n      <td>2023 12 31 日晚 国家 主席 习近平 发表 二 〇 二 四年 新年贺词 2013 ...</td>\n      <td>21</td>\n      <td>2023年12月31日晚，国家主席习近平发表二〇二四年新年贺词。自2013年岁末起，习近平主...</td>\n      <td>19</td>\n      <td>0.490701</td>\n      <td>0.862985</td>\n    </tr>\n    <tr>\n      <th>3346</th>\n      <td>叙利亚 印巴 缅甸 爆发 战火 美国 匕首 直 插 俄罗斯 后背 巧合 同一天 全球 三个 ...</td>\n      <td>23</td>\n      <td>为何叙利亚、印巴和缅甸同时爆发战火？美国的匕首直插俄罗斯后背这只是巧合吗？同一天，全球三个热...</td>\n      <td>11</td>\n      <td>0.414957</td>\n      <td>0.905501</td>\n    </tr>\n  </tbody>\n</table>\n</div>"
     },
     "execution_count": 31,
     "metadata": {},
     "output_type": "execute_result"
    }
   ],
   "source": [
    "low_prob_diff = low_prob[low_prob['topic'] != low_prob['pred']]\n",
    "low_prob_diff"
   ],
   "metadata": {
    "collapsed": false,
    "ExecuteTime": {
     "end_time": "2024-03-21T16:18:23.925500Z",
     "start_time": "2024-03-21T16:18:23.916217Z"
    }
   },
   "id": "779344d4f0b33d87",
   "execution_count": 31
  },
  {
   "cell_type": "code",
   "outputs": [
    {
     "name": "stdout",
     "output_type": "stream",
     "text": [
      "Accuracy: 0.976798825256975\n",
      "Precision: 0.976924927039556\n",
      "Recall: 0.976798825256975\n",
      "F1: 0.9767930393822226\n"
     ]
    }
   ],
   "source": [
    "test.update(low_prob[['pred']])\n",
    "accuracy = accuracy_score(test['topic'], test['pred'])\n",
    "precision = precision_score(test['topic'], test['pred'], average='weighted')\n",
    "recall = recall_score(test['topic'], test['pred'], average='weighted')\n",
    "f1 = f1_score(test['topic'], test['pred'], average='weighted')\n",
    "print(f'Accuracy: {accuracy}\\nPrecision: {precision}\\nRecall: {recall}\\nF1: {f1}')"
   ],
   "metadata": {
    "collapsed": false,
    "ExecuteTime": {
     "end_time": "2024-03-21T16:18:23.935738Z",
     "start_time": "2024-03-21T16:18:23.926032Z"
    }
   },
   "id": "c9d99457210607ba",
   "execution_count": 32
  },
  {
   "cell_type": "code",
   "outputs": [
    {
     "data": {
      "text/plain": "                                                content  topic  \\\n0     2023 习近平 主席 亲自 擘画 引领 中国 特色 大国 外交 扎实 推进 推动 构建 人...      1   \n7     APEC 峰会 前 公使 提出 四点 核心 利益 中 美 会晤 看 美 表现 一带 一路 国...      1   \n43    焦点访谈 把舵 中美关系 领航 亚太 合作 央视网 2023 11 19 22 01 加载 ...      1   \n60    亚太 国家 地区 领导人 13 抵达 美国 亚太经合组织 APEC 第三十次 领导人 非正式...      1   \n82    美国 已 中 俄 发出 邀请 普京 本人 去不去 俄罗斯 会 悬念 留 亚太经合组织 APE...      1   \n...                                                 ...    ...   \n3096  2022 11 28 上午 9 时 神舟 十五号 载人 飞行 新闻 发布会 酒泉卫星发射中心...     21   \n3099  2023 12 31 日晚 国家 主席 习近平 发表 二 〇 二 四年 新年贺词 2013 ...     21   \n3127  神舟 十七号 发射成功 续写 飞天 梦想 建设 航天 强国 北京 时间 10 26 11 时...     21   \n3132  神舟 十六号 出舱 多个 首次 神 十七 10 发射 航天员 杨利伟 7 国外 航天 执行 ...     21   \n3346  叙利亚 印巴 缅甸 爆发 战火 美国 匕首 直 插 俄罗斯 后背 巧合 同一天 全球 三个 ...     23   \n\n                                       original_content  pred      prob  \n0     2023年，习近平主席亲自擘画引领，中国特色大国外交扎实推进。在推动构建人类命运共同体的崇高...    22  0.699783  \n7     APEC峰会前，我公使提出四点核心利益，中美是否会晤，得看美表现“一带一路”国际高峰论坛取得...     4  0.590462  \n43    焦点访谈：把舵中美关系 领航亚太合作央视网2023年11月19日 22:01正在加载央视网消...     4  0.837395  \n60    随着亚太一些国家和地区领导人从13日开始抵达美国，亚太经合组织（APEC）第三十次领导人非正...     4  0.762252  \n82    美国已向中俄发出邀请，普京本人去不去，俄罗斯会把悬念留到最后今年的亚太经合组织（APEC）峰...     4  0.363054  \n...                                                 ...   ...       ...  \n3096  2022年11月28日上午9时，神舟十五号载人飞行任务新闻发布会在酒泉卫星发射中心召开，中国...    19  0.925985  \n3099  2023年12月31日晚，国家主席习近平发表二〇二四年新年贺词。自2013年岁末起，习近平主...    19  0.490701  \n3127  神舟十七号发射成功：续写飞天梦想，建设航天强国。北京时间10月26日11时13分59秒，搭载...    20  0.937831  \n3132  神舟十六号出舱，有多个首次！神十七10月发射，有航天员杨利伟？7月，国外的航天任务执行可能最...    20  0.692039  \n3346  为何叙利亚、印巴和缅甸同时爆发战火？美国的匕首直插俄罗斯后背这只是巧合吗？同一天，全球三个热...    11  0.414957  \n\n[79 rows x 5 columns]",
      "text/html": "<div>\n<style scoped>\n    .dataframe tbody tr th:only-of-type {\n        vertical-align: middle;\n    }\n\n    .dataframe tbody tr th {\n        vertical-align: top;\n    }\n\n    .dataframe thead th {\n        text-align: right;\n    }\n</style>\n<table border=\"1\" class=\"dataframe\">\n  <thead>\n    <tr style=\"text-align: right;\">\n      <th></th>\n      <th>content</th>\n      <th>topic</th>\n      <th>original_content</th>\n      <th>pred</th>\n      <th>prob</th>\n    </tr>\n  </thead>\n  <tbody>\n    <tr>\n      <th>0</th>\n      <td>2023 习近平 主席 亲自 擘画 引领 中国 特色 大国 外交 扎实 推进 推动 构建 人...</td>\n      <td>1</td>\n      <td>2023年，习近平主席亲自擘画引领，中国特色大国外交扎实推进。在推动构建人类命运共同体的崇高...</td>\n      <td>22</td>\n      <td>0.699783</td>\n    </tr>\n    <tr>\n      <th>7</th>\n      <td>APEC 峰会 前 公使 提出 四点 核心 利益 中 美 会晤 看 美 表现 一带 一路 国...</td>\n      <td>1</td>\n      <td>APEC峰会前，我公使提出四点核心利益，中美是否会晤，得看美表现“一带一路”国际高峰论坛取得...</td>\n      <td>4</td>\n      <td>0.590462</td>\n    </tr>\n    <tr>\n      <th>43</th>\n      <td>焦点访谈 把舵 中美关系 领航 亚太 合作 央视网 2023 11 19 22 01 加载 ...</td>\n      <td>1</td>\n      <td>焦点访谈：把舵中美关系 领航亚太合作央视网2023年11月19日 22:01正在加载央视网消...</td>\n      <td>4</td>\n      <td>0.837395</td>\n    </tr>\n    <tr>\n      <th>60</th>\n      <td>亚太 国家 地区 领导人 13 抵达 美国 亚太经合组织 APEC 第三十次 领导人 非正式...</td>\n      <td>1</td>\n      <td>随着亚太一些国家和地区领导人从13日开始抵达美国，亚太经合组织（APEC）第三十次领导人非正...</td>\n      <td>4</td>\n      <td>0.762252</td>\n    </tr>\n    <tr>\n      <th>82</th>\n      <td>美国 已 中 俄 发出 邀请 普京 本人 去不去 俄罗斯 会 悬念 留 亚太经合组织 APE...</td>\n      <td>1</td>\n      <td>美国已向中俄发出邀请，普京本人去不去，俄罗斯会把悬念留到最后今年的亚太经合组织（APEC）峰...</td>\n      <td>4</td>\n      <td>0.363054</td>\n    </tr>\n    <tr>\n      <th>...</th>\n      <td>...</td>\n      <td>...</td>\n      <td>...</td>\n      <td>...</td>\n      <td>...</td>\n    </tr>\n    <tr>\n      <th>3096</th>\n      <td>2022 11 28 上午 9 时 神舟 十五号 载人 飞行 新闻 发布会 酒泉卫星发射中心...</td>\n      <td>21</td>\n      <td>2022年11月28日上午9时，神舟十五号载人飞行任务新闻发布会在酒泉卫星发射中心召开，中国...</td>\n      <td>19</td>\n      <td>0.925985</td>\n    </tr>\n    <tr>\n      <th>3099</th>\n      <td>2023 12 31 日晚 国家 主席 习近平 发表 二 〇 二 四年 新年贺词 2013 ...</td>\n      <td>21</td>\n      <td>2023年12月31日晚，国家主席习近平发表二〇二四年新年贺词。自2013年岁末起，习近平主...</td>\n      <td>19</td>\n      <td>0.490701</td>\n    </tr>\n    <tr>\n      <th>3127</th>\n      <td>神舟 十七号 发射成功 续写 飞天 梦想 建设 航天 强国 北京 时间 10 26 11 时...</td>\n      <td>21</td>\n      <td>神舟十七号发射成功：续写飞天梦想，建设航天强国。北京时间10月26日11时13分59秒，搭载...</td>\n      <td>20</td>\n      <td>0.937831</td>\n    </tr>\n    <tr>\n      <th>3132</th>\n      <td>神舟 十六号 出舱 多个 首次 神 十七 10 发射 航天员 杨利伟 7 国外 航天 执行 ...</td>\n      <td>21</td>\n      <td>神舟十六号出舱，有多个首次！神十七10月发射，有航天员杨利伟？7月，国外的航天任务执行可能最...</td>\n      <td>20</td>\n      <td>0.692039</td>\n    </tr>\n    <tr>\n      <th>3346</th>\n      <td>叙利亚 印巴 缅甸 爆发 战火 美国 匕首 直 插 俄罗斯 后背 巧合 同一天 全球 三个 ...</td>\n      <td>23</td>\n      <td>为何叙利亚、印巴和缅甸同时爆发战火？美国的匕首直插俄罗斯后背这只是巧合吗？同一天，全球三个热...</td>\n      <td>11</td>\n      <td>0.414957</td>\n    </tr>\n  </tbody>\n</table>\n<p>79 rows × 5 columns</p>\n</div>"
     },
     "execution_count": 33,
     "metadata": {},
     "output_type": "execute_result"
    }
   ],
   "source": [
    "diff = test[test['topic'] != test['pred']]\n",
    "diff"
   ],
   "metadata": {
    "collapsed": false,
    "ExecuteTime": {
     "end_time": "2024-03-21T16:18:23.942786Z",
     "start_time": "2024-03-21T16:18:23.936869Z"
    }
   },
   "id": "16625df54a997a2c",
   "execution_count": 33
  },
  {
   "cell_type": "code",
   "outputs": [],
   "source": [],
   "metadata": {
    "collapsed": false,
    "ExecuteTime": {
     "end_time": "2024-03-21T15:13:20.051799Z",
     "start_time": "2024-03-21T15:13:20.049534Z"
    }
   },
   "id": "8ab7af855b4721fd",
   "execution_count": 70
  },
  {
   "cell_type": "code",
   "outputs": [],
   "source": [],
   "metadata": {
    "collapsed": false
   },
   "id": "cf9bb960f0477898"
  }
 ],
 "metadata": {
  "kernelspec": {
   "display_name": "Python 3",
   "language": "python",
   "name": "python3"
  },
  "language_info": {
   "codemirror_mode": {
    "name": "ipython",
    "version": 2
   },
   "file_extension": ".py",
   "mimetype": "text/x-python",
   "name": "python",
   "nbconvert_exporter": "python",
   "pygments_lexer": "ipython2",
   "version": "2.7.6"
  }
 },
 "nbformat": 4,
 "nbformat_minor": 5
}

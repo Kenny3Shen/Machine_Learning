{
 "cells": [
  {
   "cell_type": "markdown",
   "source": [
    "## Baseline\n",
    "### accuracy: 0.9726872246696036\n",
    "- Only Chinese Characters + jieba + remove stopwords\n",
    "- Tokenizer\n",
    "- TfidfVectorizer\n",
    "- Ensemble model\n",
    "\n",
    "### 改进方向\n",
    "- 保留日期、英文缩写\n",
    "- 存在英文content，需要处理\n",
    "- lightgbm参数调优\n",
    "- 融合 bert-like transformer"
   ],
   "metadata": {
    "collapsed": false
   },
   "id": "4e3cc29d7f187da"
  },
  {
   "cell_type": "code",
   "outputs": [
    {
     "name": "stderr",
     "output_type": "stream",
     "text": [
      "C:\\ProgramData\\anaconda3\\Lib\\site-packages\\_distutils_hack\\__init__.py:33: UserWarning: Setuptools is replacing distutils.\n",
      "  warnings.warn(\"Setuptools is replacing distutils.\")\n"
     ]
    }
   ],
   "source": [
    "import pandas as pd\n",
    "import json\n",
    "import os\n",
    "import re\n",
    "import jieba\n",
    "from tqdm import tqdm\n",
    "from paddlenlp import Taskflow\n",
    "from tokenizers import (\n",
    "    models,\n",
    "    normalizers,\n",
    "    pre_tokenizers,\n",
    "    trainers,\n",
    "    Tokenizer,\n",
    ")\n",
    "\n",
    "from datasets import Dataset\n",
    "from transformers import PreTrainedTokenizerFast\n",
    "from lightgbm import LGBMClassifier\n",
    "from sklearn.metrics import accuracy_score, precision_score, recall_score, f1_score\n",
    "from sklearn.feature_extraction.text import TfidfVectorizer\n",
    "from sklearn.linear_model import SGDClassifier\n",
    "from sklearn.naive_bayes import MultinomialNB\n",
    "from sklearn.ensemble import VotingClassifier"
   ],
   "metadata": {
    "collapsed": true,
    "ExecuteTime": {
     "end_time": "2024-02-22T12:24:22.449658100Z",
     "start_time": "2024-02-22T12:24:17.310837200Z"
    }
   },
   "id": "initial_id",
   "execution_count": 1
  },
  {
   "cell_type": "code",
   "execution_count": 2,
   "id": "262d5bc91aa1f580",
   "metadata": {
    "collapsed": false,
    "ExecuteTime": {
     "end_time": "2024-02-22T12:24:25.536815300Z",
     "start_time": "2024-02-22T12:24:24.855059300Z"
    }
   },
   "outputs": [],
   "source": [
    "train_dir = './train.csv'\n",
    "test_dir = './test.csv'\n",
    "df1 = pd.read_csv(train_dir)\n",
    "df2 = pd.read_csv(test_dir)"
   ]
  },
  {
   "cell_type": "code",
   "execution_count": 3,
   "id": "9743c7ca089c1008",
   "metadata": {
    "collapsed": false,
    "ExecuteTime": {
     "end_time": "2024-02-22T12:24:25.762407900Z",
     "start_time": "2024-02-22T12:24:25.668855500Z"
    }
   },
   "outputs": [
    {
     "data": {
      "text/plain": "         id                                            content  topic\n0       181  2023年，习近平主席亲自擘画引领，中国特色大国外交扎实推进。在推动构建人类命运共同体的崇高...      1\n1      1763  当地时间11月16日，习近平主席向亚太经合组织（APEC）工商领导人峰会发表书面演讲，强调我...      1\n2      1015  亚太经合组织第三十次领导人非正式会议在美国旧金山莫斯科尼中心举行。国家主席习近平出席会议并发...      1\n3      7104  习近平出席亚太经合组织领导人同东道主嘉宾非正式对话会暨工作午宴央视网2023年11月17日 ...      1\n4      2427  中国国家主席习近平将于11月14日应美国总统拜登邀请赴美举行中美领导人会晤，同时应邀出席亚太...      1\n...     ...                                                ...    ...\n3400   1044  从头到尾来讲一遍，咱们按照惯例，先谈谈缅甸北部的那场风波。这场风波的源头是藏匿在缅甸北部的一...     23\n3401   9043  缅北全线激战，敏昂莱誓言反击，冲突可能扩大化，中缅边境乱不得这几天，缅甸内战的爆发，引起了外...     23\n3402   5570  近日，缅甸内战再次卷土重来，引起了国际社会广泛的关注。然而，这次的冲突异常纷乱，各种消息传来...     23\n3403   5523  缅北战火越烧越大，中方做两手准备，高层直接去了缅甸首都清酒半栩换种角度分析故事，带你了解更有...     23\n3404  10021  缅甸内战，俄罗斯插手缅北局势，是否影响中俄关系清飞扬俄罗斯派专家帮助缅甸政府打击果敢同盟军，...     23\n\n[3405 rows x 3 columns]",
      "text/html": "<div>\n<style scoped>\n    .dataframe tbody tr th:only-of-type {\n        vertical-align: middle;\n    }\n\n    .dataframe tbody tr th {\n        vertical-align: top;\n    }\n\n    .dataframe thead th {\n        text-align: right;\n    }\n</style>\n<table border=\"1\" class=\"dataframe\">\n  <thead>\n    <tr style=\"text-align: right;\">\n      <th></th>\n      <th>id</th>\n      <th>content</th>\n      <th>topic</th>\n    </tr>\n  </thead>\n  <tbody>\n    <tr>\n      <th>0</th>\n      <td>181</td>\n      <td>2023年，习近平主席亲自擘画引领，中国特色大国外交扎实推进。在推动构建人类命运共同体的崇高...</td>\n      <td>1</td>\n    </tr>\n    <tr>\n      <th>1</th>\n      <td>1763</td>\n      <td>当地时间11月16日，习近平主席向亚太经合组织（APEC）工商领导人峰会发表书面演讲，强调我...</td>\n      <td>1</td>\n    </tr>\n    <tr>\n      <th>2</th>\n      <td>1015</td>\n      <td>亚太经合组织第三十次领导人非正式会议在美国旧金山莫斯科尼中心举行。国家主席习近平出席会议并发...</td>\n      <td>1</td>\n    </tr>\n    <tr>\n      <th>3</th>\n      <td>7104</td>\n      <td>习近平出席亚太经合组织领导人同东道主嘉宾非正式对话会暨工作午宴央视网2023年11月17日 ...</td>\n      <td>1</td>\n    </tr>\n    <tr>\n      <th>4</th>\n      <td>2427</td>\n      <td>中国国家主席习近平将于11月14日应美国总统拜登邀请赴美举行中美领导人会晤，同时应邀出席亚太...</td>\n      <td>1</td>\n    </tr>\n    <tr>\n      <th>...</th>\n      <td>...</td>\n      <td>...</td>\n      <td>...</td>\n    </tr>\n    <tr>\n      <th>3400</th>\n      <td>1044</td>\n      <td>从头到尾来讲一遍，咱们按照惯例，先谈谈缅甸北部的那场风波。这场风波的源头是藏匿在缅甸北部的一...</td>\n      <td>23</td>\n    </tr>\n    <tr>\n      <th>3401</th>\n      <td>9043</td>\n      <td>缅北全线激战，敏昂莱誓言反击，冲突可能扩大化，中缅边境乱不得这几天，缅甸内战的爆发，引起了外...</td>\n      <td>23</td>\n    </tr>\n    <tr>\n      <th>3402</th>\n      <td>5570</td>\n      <td>近日，缅甸内战再次卷土重来，引起了国际社会广泛的关注。然而，这次的冲突异常纷乱，各种消息传来...</td>\n      <td>23</td>\n    </tr>\n    <tr>\n      <th>3403</th>\n      <td>5523</td>\n      <td>缅北战火越烧越大，中方做两手准备，高层直接去了缅甸首都清酒半栩换种角度分析故事，带你了解更有...</td>\n      <td>23</td>\n    </tr>\n    <tr>\n      <th>3404</th>\n      <td>10021</td>\n      <td>缅甸内战，俄罗斯插手缅北局势，是否影响中俄关系清飞扬俄罗斯派专家帮助缅甸政府打击果敢同盟军，...</td>\n      <td>23</td>\n    </tr>\n  </tbody>\n</table>\n<p>3405 rows × 3 columns</p>\n</div>"
     },
     "execution_count": 3,
     "metadata": {},
     "output_type": "execute_result"
    }
   ],
   "source": [
    "train = df1[['id', 'content', 'topic']]\n",
    "test = df2[['id', 'content', 'topic']]\n",
    "test"
   ]
  },
  {
   "cell_type": "code",
   "execution_count": 4,
   "id": "c1ee4db9a3ad167e",
   "metadata": {
    "collapsed": false,
    "ExecuteTime": {
     "end_time": "2024-02-22T12:24:26.486754500Z",
     "start_time": "2024-02-22T12:24:26.461827Z"
    }
   },
   "outputs": [],
   "source": [
    "def get_stopword():\n",
    "    stopwords = []\n",
    "    with open('baidu_stopwords.txt', 'r', encoding='utf-8') as f:\n",
    "        for line in f.readlines():\n",
    "            stopwords.append(line.strip())\n",
    "   \n",
    "    stopwords = list(set(stopwords))\n",
    "    return stopwords\n",
    "stopwords = get_stopword()"
   ]
  },
  {
   "cell_type": "code",
   "execution_count": 6,
   "id": "21688729c2523739",
   "metadata": {
    "collapsed": false,
    "ExecuteTime": {
     "end_time": "2024-02-22T12:26:21.474901700Z",
     "start_time": "2024-02-22T12:25:05.377636900Z"
    }
   },
   "outputs": [
    {
     "name": "stderr",
     "output_type": "stream",
     "text": [
      "Building prefix dict from the default dictionary ...\n",
      "[2024-02-22 20:25:05,604] [   DEBUG] __init__.py:113 - Building prefix dict from the default dictionary ...\n",
      "Loading model from cache C:\\Users\\shens\\AppData\\Local\\Temp\\jieba.cache\n",
      "[2024-02-22 20:25:05,605] [   DEBUG] __init__.py:132 - Loading model from cache C:\\Users\\shens\\AppData\\Local\\Temp\\jieba.cache\n",
      "Loading model cost 0.466 seconds.\n",
      "[2024-02-22 20:25:06,071] [   DEBUG] __init__.py:164 - Loading model cost 0.466 seconds.\n",
      "Prefix dict has been built successfully.\n",
      "[2024-02-22 20:25:06,071] [   DEBUG] __init__.py:166 - Prefix dict has been built successfully.\n"
     ]
    }
   ],
   "source": [
    "def wordopt_cn(text):\n",
    "    # only chinese characters\n",
    "    pattern = re.compile(r'[^\\u4e00-\\u9fa5]')\n",
    "    chinese_txt = re.sub(pattern, '', text)\n",
    "    return str(chinese_txt)\n",
    "\n",
    "def remove_stopwords(text):\n",
    "    words = text.split()\n",
    "    words = [word for word in words if word not in stopwords]\n",
    "    return ' '.join(words)\n",
    "\n",
    "\n",
    "train_copy = train.copy()\n",
    "train_copy['content'] = train_copy['content'].apply(wordopt_cn)\n",
    "train_copy['content'] = train_copy['content'].apply(lambda x: ' '.join(jieba.cut(x)))\n",
    "train_copy['content'] = train_copy['content'].apply(remove_stopwords)\n",
    "train_copy['content'] = train_copy['content'].apply(lambda x: re.sub('\\\\s+', ' ', x))\n",
    "train_copy.drop(train_copy[train_copy['content'] == ''].index, inplace=True)\n",
    "train = train_copy\n"
   ]
  },
  {
   "cell_type": "code",
   "outputs": [
    {
     "data": {
      "text/plain": "        id                                            content  topic\n0      108  当地 时间 月 日 上午 亚太经合组织 第三十次 领导人 非正式 会议 美国 旧金山 莫斯科...      1\n1     7874  推动 中美关系 重回 正轨 领航 亚太 发展 繁荣 新程 国际 社会 期待 习近平 主席 赴...      1\n2     7388  月 日 国务院新闻办公室 发布 携手 构建 人类 命运 共同体 中国 倡议 白皮书 新闻 发...      1\n3     5271  亚太经合组织 第二十七次 领导人 非正式 会议 亚太经合组织 最高级别 会议 亚太经合组织 ...      1\n4     3781  当地 时间 月 日 上午 亚太经合组织 第三十次 领导人 非正式 会议 美国 旧金山 莫斯科...      1\n...    ...                                                ...    ...\n6805  2604  缅甸 再起 战火 地方 武装 袭击 多个 军事 据点 宣称 剿灭 电信 诈骗 缅甸 北部 燃...     23\n6806  3157  中国 军队 采取行动 前往 中 缅 边境 缅甸 内战 发出信号 缅甸 内战 如今 越发 激烈...     23\n6807  1567  正文 申请 入驻 缅甸 内战 争夺 来源 宋鸿兵 北京 举报 分享 至用 微信 扫码 二维码...     23\n6808  9353  切换 模式 写文章 登录 注册 中国 缅甸 划清 边界 解放军 还 缅甸 一仗 沈听雪 喜欢...     23\n6809  8636  中国 斡旋 下 果敢 同盟军 开军 德昂 民族 解放军 三家 民地武 三 兄弟 联盟 缅甸 ...     23\n\n[6803 rows x 3 columns]",
      "text/html": "<div>\n<style scoped>\n    .dataframe tbody tr th:only-of-type {\n        vertical-align: middle;\n    }\n\n    .dataframe tbody tr th {\n        vertical-align: top;\n    }\n\n    .dataframe thead th {\n        text-align: right;\n    }\n</style>\n<table border=\"1\" class=\"dataframe\">\n  <thead>\n    <tr style=\"text-align: right;\">\n      <th></th>\n      <th>id</th>\n      <th>content</th>\n      <th>topic</th>\n    </tr>\n  </thead>\n  <tbody>\n    <tr>\n      <th>0</th>\n      <td>108</td>\n      <td>当地 时间 月 日 上午 亚太经合组织 第三十次 领导人 非正式 会议 美国 旧金山 莫斯科...</td>\n      <td>1</td>\n    </tr>\n    <tr>\n      <th>1</th>\n      <td>7874</td>\n      <td>推动 中美关系 重回 正轨 领航 亚太 发展 繁荣 新程 国际 社会 期待 习近平 主席 赴...</td>\n      <td>1</td>\n    </tr>\n    <tr>\n      <th>2</th>\n      <td>7388</td>\n      <td>月 日 国务院新闻办公室 发布 携手 构建 人类 命运 共同体 中国 倡议 白皮书 新闻 发...</td>\n      <td>1</td>\n    </tr>\n    <tr>\n      <th>3</th>\n      <td>5271</td>\n      <td>亚太经合组织 第二十七次 领导人 非正式 会议 亚太经合组织 最高级别 会议 亚太经合组织 ...</td>\n      <td>1</td>\n    </tr>\n    <tr>\n      <th>4</th>\n      <td>3781</td>\n      <td>当地 时间 月 日 上午 亚太经合组织 第三十次 领导人 非正式 会议 美国 旧金山 莫斯科...</td>\n      <td>1</td>\n    </tr>\n    <tr>\n      <th>...</th>\n      <td>...</td>\n      <td>...</td>\n      <td>...</td>\n    </tr>\n    <tr>\n      <th>6805</th>\n      <td>2604</td>\n      <td>缅甸 再起 战火 地方 武装 袭击 多个 军事 据点 宣称 剿灭 电信 诈骗 缅甸 北部 燃...</td>\n      <td>23</td>\n    </tr>\n    <tr>\n      <th>6806</th>\n      <td>3157</td>\n      <td>中国 军队 采取行动 前往 中 缅 边境 缅甸 内战 发出信号 缅甸 内战 如今 越发 激烈...</td>\n      <td>23</td>\n    </tr>\n    <tr>\n      <th>6807</th>\n      <td>1567</td>\n      <td>正文 申请 入驻 缅甸 内战 争夺 来源 宋鸿兵 北京 举报 分享 至用 微信 扫码 二维码...</td>\n      <td>23</td>\n    </tr>\n    <tr>\n      <th>6808</th>\n      <td>9353</td>\n      <td>切换 模式 写文章 登录 注册 中国 缅甸 划清 边界 解放军 还 缅甸 一仗 沈听雪 喜欢...</td>\n      <td>23</td>\n    </tr>\n    <tr>\n      <th>6809</th>\n      <td>8636</td>\n      <td>中国 斡旋 下 果敢 同盟军 开军 德昂 民族 解放军 三家 民地武 三 兄弟 联盟 缅甸 ...</td>\n      <td>23</td>\n    </tr>\n  </tbody>\n</table>\n<p>6803 rows × 3 columns</p>\n</div>"
     },
     "execution_count": 7,
     "metadata": {},
     "output_type": "execute_result"
    }
   ],
   "source": [
    "train"
   ],
   "metadata": {
    "collapsed": false,
    "ExecuteTime": {
     "end_time": "2024-02-22T12:26:37.767857800Z",
     "start_time": "2024-02-22T12:26:37.742614500Z"
    }
   },
   "id": "f5882ccfc5c9b718",
   "execution_count": 7
  },
  {
   "cell_type": "code",
   "execution_count": 8,
   "id": "bf718e04c31ac5",
   "metadata": {
    "collapsed": false,
    "ExecuteTime": {
     "end_time": "2024-02-22T12:28:11.275534400Z",
     "start_time": "2024-02-22T12:27:28.170089900Z"
    }
   },
   "outputs": [
    {
     "name": "stderr",
     "output_type": "stream",
     "text": [
      "C:\\Users\\shens\\AppData\\Local\\Temp\\ipykernel_78324\\1294142915.py:8: SettingWithCopyWarning: \n",
      "A value is trying to be set on a copy of a slice from a DataFrame.\n",
      "Try using .loc[row_indexer,col_indexer] = value instead\n",
      "\n",
      "See the caveats in the documentation: https://pandas.pydata.org/pandas-docs/stable/user_guide/indexing.html#returning-a-view-versus-a-copy\n",
      "  test['content'] = test['content'].apply(process_text)\n"
     ]
    },
    {
     "data": {
      "text/plain": "         id                                            content  topic\n0       181  年 习近平 主席 亲自 擘画 引领 中国 特色 大国 外交 扎实 推进 推动 构建 人类 命...      1\n1      1763  当地 时间 月 日 习近平 主席 亚太经合组织 工商 领导人 峰会 发表 书面 演讲 秉持 ...      1\n2      1015  亚太经合组织 第三十次 领导人 非正式 会议 美国 旧金山 莫斯科 尼 中心 国家 主席 习...      1\n3      7104  习近平 出席 亚太经合组织 领导人 东道主 嘉宾 非正式 对话会 暨 工作 午宴 央视网 年...      1\n4      2427  中国 国家 主席 习近平 月 日应 美国 总统 拜登 邀请 赴美 中 美 领导人 会晤 应邀...      1\n...     ...                                                ...    ...\n3400   1044  从头到尾 来讲 一遍 惯例 先 谈谈 缅甸 北部 那场 风波 这场 风波 源头 藏匿在 缅甸...     23\n3401   9043  缅北 全线 激战 敏昂 莱 誓言 反击 冲突 扩大化 中 缅 边境 乱 几天 缅甸 内战 爆...     23\n3402   5570  近日 缅甸 内战 再次 卷土重来 国际 社会 关注 这次 冲突 异常 纷乱 消息 传来 人 ...     23\n3403   5523  缅北 战火 越烧 越大 中方 做 两手 高层 去 缅甸 首都 清酒 半栩换种 角度 分析 故...     23\n3404  10021  缅甸 内战 俄罗斯 插手 缅北 局势 影响 中俄关系 清 飞扬 俄罗斯 派 专家 缅甸政府 ...     23\n\n[3405 rows x 3 columns]",
      "text/html": "<div>\n<style scoped>\n    .dataframe tbody tr th:only-of-type {\n        vertical-align: middle;\n    }\n\n    .dataframe tbody tr th {\n        vertical-align: top;\n    }\n\n    .dataframe thead th {\n        text-align: right;\n    }\n</style>\n<table border=\"1\" class=\"dataframe\">\n  <thead>\n    <tr style=\"text-align: right;\">\n      <th></th>\n      <th>id</th>\n      <th>content</th>\n      <th>topic</th>\n    </tr>\n  </thead>\n  <tbody>\n    <tr>\n      <th>0</th>\n      <td>181</td>\n      <td>年 习近平 主席 亲自 擘画 引领 中国 特色 大国 外交 扎实 推进 推动 构建 人类 命...</td>\n      <td>1</td>\n    </tr>\n    <tr>\n      <th>1</th>\n      <td>1763</td>\n      <td>当地 时间 月 日 习近平 主席 亚太经合组织 工商 领导人 峰会 发表 书面 演讲 秉持 ...</td>\n      <td>1</td>\n    </tr>\n    <tr>\n      <th>2</th>\n      <td>1015</td>\n      <td>亚太经合组织 第三十次 领导人 非正式 会议 美国 旧金山 莫斯科 尼 中心 国家 主席 习...</td>\n      <td>1</td>\n    </tr>\n    <tr>\n      <th>3</th>\n      <td>7104</td>\n      <td>习近平 出席 亚太经合组织 领导人 东道主 嘉宾 非正式 对话会 暨 工作 午宴 央视网 年...</td>\n      <td>1</td>\n    </tr>\n    <tr>\n      <th>4</th>\n      <td>2427</td>\n      <td>中国 国家 主席 习近平 月 日应 美国 总统 拜登 邀请 赴美 中 美 领导人 会晤 应邀...</td>\n      <td>1</td>\n    </tr>\n    <tr>\n      <th>...</th>\n      <td>...</td>\n      <td>...</td>\n      <td>...</td>\n    </tr>\n    <tr>\n      <th>3400</th>\n      <td>1044</td>\n      <td>从头到尾 来讲 一遍 惯例 先 谈谈 缅甸 北部 那场 风波 这场 风波 源头 藏匿在 缅甸...</td>\n      <td>23</td>\n    </tr>\n    <tr>\n      <th>3401</th>\n      <td>9043</td>\n      <td>缅北 全线 激战 敏昂 莱 誓言 反击 冲突 扩大化 中 缅 边境 乱 几天 缅甸 内战 爆...</td>\n      <td>23</td>\n    </tr>\n    <tr>\n      <th>3402</th>\n      <td>5570</td>\n      <td>近日 缅甸 内战 再次 卷土重来 国际 社会 关注 这次 冲突 异常 纷乱 消息 传来 人 ...</td>\n      <td>23</td>\n    </tr>\n    <tr>\n      <th>3403</th>\n      <td>5523</td>\n      <td>缅北 战火 越烧 越大 中方 做 两手 高层 去 缅甸 首都 清酒 半栩换种 角度 分析 故...</td>\n      <td>23</td>\n    </tr>\n    <tr>\n      <th>3404</th>\n      <td>10021</td>\n      <td>缅甸 内战 俄罗斯 插手 缅北 局势 影响 中俄关系 清 飞扬 俄罗斯 派 专家 缅甸政府 ...</td>\n      <td>23</td>\n    </tr>\n  </tbody>\n</table>\n<p>3405 rows × 3 columns</p>\n</div>"
     },
     "execution_count": 8,
     "metadata": {},
     "output_type": "execute_result"
    }
   ],
   "source": [
    "def process_text(text):\n",
    "    text = wordopt_cn(text)\n",
    "    text = ' '.join(jieba.cut(text))\n",
    "    text = remove_stopwords(text)\n",
    "    text = re.sub('\\\\s+', ' ', text)\n",
    "    return text\n",
    "\n",
    "test['content'] = test['content'].apply(process_text)\n",
    "test"
   ]
  },
  {
   "cell_type": "code",
   "execution_count": 9,
   "id": "35f179b6df8fe071",
   "metadata": {
    "collapsed": false,
    "ExecuteTime": {
     "end_time": "2024-02-22T12:28:19.627786300Z",
     "start_time": "2024-02-22T12:28:19.621303800Z"
    }
   },
   "outputs": [],
   "source": [
    "LOWERCASE = False\n",
    "VOCAB_SIZE = 32768-256"
   ]
  },
  {
   "cell_type": "code",
   "execution_count": 11,
   "id": "d6003fae9fb58499",
   "metadata": {
    "collapsed": false,
    "ExecuteTime": {
     "end_time": "2024-02-22T12:29:10.539007600Z",
     "start_time": "2024-02-22T12:28:54.108043100Z"
    }
   },
   "outputs": [
    {
     "name": "stderr",
     "output_type": "stream",
     "text": [
      "100%|██████████| 3405/3405 [00:04<00:00, 703.00it/s]\n",
      "100%|██████████| 6803/6803 [00:09<00:00, 712.65it/s]\n"
     ]
    }
   ],
   "source": [
    "raw_tokenizer = Tokenizer(models.BPE(unk_token=\"[UNK]\"))\n",
    "raw_tokenizer.normalizer = normalizers.Sequence([normalizers.NFC()] + [normalizers.Lowercase()] if LOWERCASE else [])\n",
    "raw_tokenizer.pre_tokenizer = pre_tokenizers.ByteLevel()\n",
    "\n",
    "special_tokens = [\"[UNK]\", \"[PAD]\", \"[CLS]\", \"[SEP]\", \"[MASK]\"]\n",
    "trainer = trainers.BpeTrainer(vocab_size=VOCAB_SIZE, special_tokens=special_tokens)\n",
    "\n",
    "dataset = Dataset.from_pandas(test[['content']])\n",
    "\n",
    "\n",
    "def train_corp_iter():\n",
    "    for i in range(0, len(dataset), 1000):\n",
    "        yield dataset[i: i + 1000][\"content\"]\n",
    "\n",
    "\n",
    "raw_tokenizer.train_from_iterator(train_corp_iter(), trainer=trainer)\n",
    "tokenizer = PreTrainedTokenizerFast(\n",
    "    tokenizer_object=raw_tokenizer,\n",
    "    unk_token=\"[UNK]\",\n",
    "    pad_token=\"[PAD]\",\n",
    "    cls_token=\"[CLS]\",\n",
    "    sep_token=\"[SEP]\",\n",
    "    mask_token=\"[MASK]\",\n",
    ")\n",
    "tokenized_texts_test = []\n",
    "\n",
    "for text in tqdm(test['content'].tolist()):\n",
    "    tokenized_texts_test.append(tokenizer.tokenize(text))\n",
    "\n",
    "tokenized_texts_train = []\n",
    "\n",
    "for text in tqdm(train['content'].tolist()):\n",
    "    tokenized_texts_train.append(tokenizer.tokenize(text))"
   ]
  },
  {
   "cell_type": "code",
   "execution_count": 12,
   "id": "43eb898cedbc87db",
   "metadata": {
    "collapsed": false,
    "ExecuteTime": {
     "end_time": "2024-02-22T12:29:17.866788700Z",
     "start_time": "2024-02-22T12:29:16.123417300Z"
    }
   },
   "outputs": [],
   "source": [
    "def dummy(text):\n",
    "    return text\n",
    "\n",
    "\n",
    "vectorizer = TfidfVectorizer(lowercase=False, sublinear_tf=True, analyzer='word',\n",
    "                             tokenizer=dummy,\n",
    "                             preprocessor=dummy,\n",
    "                             token_pattern=None, strip_accents='unicode'\n",
    "                             )\n",
    "\n",
    "vectorizer.fit(tokenized_texts_test)\n",
    "\n",
    "vocab = vectorizer.vocabulary_\n",
    "\n",
    "vectorizer = TfidfVectorizer(lowercase=False, sublinear_tf=True, vocabulary=vocab,\n",
    "                             analyzer='word',\n",
    "                             tokenizer=dummy,\n",
    "                             preprocessor=dummy,\n",
    "                             token_pattern=None, strip_accents='unicode'\n",
    "                             )\n",
    "\n",
    "X_train = vectorizer.fit_transform(tokenized_texts_train)\n"
   ]
  },
  {
   "cell_type": "code",
   "execution_count": 13,
   "id": "9092b662de8946c5",
   "metadata": {
    "collapsed": false,
    "ExecuteTime": {
     "end_time": "2024-02-22T12:29:25.588371200Z",
     "start_time": "2024-02-22T12:29:25.583160400Z"
    }
   },
   "outputs": [
    {
     "name": "stdout",
     "output_type": "stream",
     "text": [
      "30529\n"
     ]
    }
   ],
   "source": [
    "print(len(vocab))"
   ]
  },
  {
   "cell_type": "code",
   "execution_count": 16,
   "id": "b2aec0b08d507c05",
   "metadata": {
    "collapsed": false,
    "ExecuteTime": {
     "end_time": "2024-02-22T12:31:52.336592100Z",
     "start_time": "2024-02-22T12:31:52.327045100Z"
    }
   },
   "outputs": [],
   "source": [
    "clf = MultinomialNB(alpha=0.02)\n",
    "sgd_model = SGDClassifier(max_iter=8000, tol=1e-4, loss=\"modified_huber\")\n",
    "p6 = {\n",
    "    'n_iter': 1500, \n",
    "    'verbose': -1, \n",
    "    'objective': 'multiclass', \n",
    "    'metric': 'multi_logloss', \n",
    "    'learning_rate': 0.05073909898961407,\n",
    "    'colsample_bytree': 0.726023996436955, \n",
    "    'colsample_bynode': 0.5803681307354022, \n",
    "    'lambda_l1': 8.562963348932286,\n",
    "    'lambda_l2': 4.893256185259296, \n",
    "    'min_data_in_leaf': 115, \n",
    "    'max_depth': 23, \n",
    "    'max_bin': 898,\n",
    "    'num_class': 24  \n",
    "}\n",
    "lgb = LGBMClassifier(**p6)\n",
    "\n",
    "# Creating the ensemble model\n",
    "ensemble = VotingClassifier(estimators=[\n",
    "    ('mnb', clf),\n",
    "    ('sgd', sgd_model),\n",
    "    ('lgb', lgb)],\n",
    "    weights=[0.1, 0.45, 0.45],\n",
    "    voting='soft',\n",
    "    n_jobs=-1)"
   ]
  },
  {
   "cell_type": "code",
   "execution_count": 17,
   "id": "5678ece8ebfd1de6",
   "metadata": {
    "collapsed": false,
    "ExecuteTime": {
     "end_time": "2024-02-22T12:36:34.931812400Z",
     "start_time": "2024-02-22T12:31:53.605207Z"
    }
   },
   "outputs": [
    {
     "data": {
      "text/plain": "VotingClassifier(estimators=[('mnb', MultinomialNB(alpha=0.02)),\n                             ('sgd',\n                              SGDClassifier(loss='modified_huber',\n                                            max_iter=8000, tol=0.0001)),\n                             ('lgb',\n                              LGBMClassifier(colsample_bynode=0.5803681307354022,\n                                             colsample_bytree=0.726023996436955,\n                                             lambda_l1=8.562963348932286,\n                                             lambda_l2=4.893256185259296,\n                                             learning_rate=0.05073909898961407,\n                                             max_bin=898, max_depth=23,\n                                             metric='multi_logloss',\n                                             min_data_in_leaf=115, n_iter=1500,\n                                             num_class=24,\n                                             objective='multiclass',\n                                             verbose=-1))],\n                 n_jobs=-1, voting='soft', weights=[0.1, 0.45, 0.45])",
      "text/html": "<style>#sk-container-id-1 {color: black;}#sk-container-id-1 pre{padding: 0;}#sk-container-id-1 div.sk-toggleable {background-color: white;}#sk-container-id-1 label.sk-toggleable__label {cursor: pointer;display: block;width: 100%;margin-bottom: 0;padding: 0.3em;box-sizing: border-box;text-align: center;}#sk-container-id-1 label.sk-toggleable__label-arrow:before {content: \"▸\";float: left;margin-right: 0.25em;color: #696969;}#sk-container-id-1 label.sk-toggleable__label-arrow:hover:before {color: black;}#sk-container-id-1 div.sk-estimator:hover label.sk-toggleable__label-arrow:before {color: black;}#sk-container-id-1 div.sk-toggleable__content {max-height: 0;max-width: 0;overflow: hidden;text-align: left;background-color: #f0f8ff;}#sk-container-id-1 div.sk-toggleable__content pre {margin: 0.2em;color: black;border-radius: 0.25em;background-color: #f0f8ff;}#sk-container-id-1 input.sk-toggleable__control:checked~div.sk-toggleable__content {max-height: 200px;max-width: 100%;overflow: auto;}#sk-container-id-1 input.sk-toggleable__control:checked~label.sk-toggleable__label-arrow:before {content: \"▾\";}#sk-container-id-1 div.sk-estimator input.sk-toggleable__control:checked~label.sk-toggleable__label {background-color: #d4ebff;}#sk-container-id-1 div.sk-label input.sk-toggleable__control:checked~label.sk-toggleable__label {background-color: #d4ebff;}#sk-container-id-1 input.sk-hidden--visually {border: 0;clip: rect(1px 1px 1px 1px);clip: rect(1px, 1px, 1px, 1px);height: 1px;margin: -1px;overflow: hidden;padding: 0;position: absolute;width: 1px;}#sk-container-id-1 div.sk-estimator {font-family: monospace;background-color: #f0f8ff;border: 1px dotted black;border-radius: 0.25em;box-sizing: border-box;margin-bottom: 0.5em;}#sk-container-id-1 div.sk-estimator:hover {background-color: #d4ebff;}#sk-container-id-1 div.sk-parallel-item::after {content: \"\";width: 100%;border-bottom: 1px solid gray;flex-grow: 1;}#sk-container-id-1 div.sk-label:hover label.sk-toggleable__label {background-color: #d4ebff;}#sk-container-id-1 div.sk-serial::before {content: \"\";position: absolute;border-left: 1px solid gray;box-sizing: border-box;top: 0;bottom: 0;left: 50%;z-index: 0;}#sk-container-id-1 div.sk-serial {display: flex;flex-direction: column;align-items: center;background-color: white;padding-right: 0.2em;padding-left: 0.2em;position: relative;}#sk-container-id-1 div.sk-item {position: relative;z-index: 1;}#sk-container-id-1 div.sk-parallel {display: flex;align-items: stretch;justify-content: center;background-color: white;position: relative;}#sk-container-id-1 div.sk-item::before, #sk-container-id-1 div.sk-parallel-item::before {content: \"\";position: absolute;border-left: 1px solid gray;box-sizing: border-box;top: 0;bottom: 0;left: 50%;z-index: -1;}#sk-container-id-1 div.sk-parallel-item {display: flex;flex-direction: column;z-index: 1;position: relative;background-color: white;}#sk-container-id-1 div.sk-parallel-item:first-child::after {align-self: flex-end;width: 50%;}#sk-container-id-1 div.sk-parallel-item:last-child::after {align-self: flex-start;width: 50%;}#sk-container-id-1 div.sk-parallel-item:only-child::after {width: 0;}#sk-container-id-1 div.sk-dashed-wrapped {border: 1px dashed gray;margin: 0 0.4em 0.5em 0.4em;box-sizing: border-box;padding-bottom: 0.4em;background-color: white;}#sk-container-id-1 div.sk-label label {font-family: monospace;font-weight: bold;display: inline-block;line-height: 1.2em;}#sk-container-id-1 div.sk-label-container {text-align: center;}#sk-container-id-1 div.sk-container {/* jupyter's `normalize.less` sets `[hidden] { display: none; }` but bootstrap.min.css set `[hidden] { display: none !important; }` so we also need the `!important` here to be able to override the default hidden behavior on the sphinx rendered scikit-learn.org. See: https://github.com/scikit-learn/scikit-learn/issues/21755 */display: inline-block !important;position: relative;}#sk-container-id-1 div.sk-text-repr-fallback {display: none;}</style><div id=\"sk-container-id-1\" class=\"sk-top-container\"><div class=\"sk-text-repr-fallback\"><pre>VotingClassifier(estimators=[(&#x27;mnb&#x27;, MultinomialNB(alpha=0.02)),\n                             (&#x27;sgd&#x27;,\n                              SGDClassifier(loss=&#x27;modified_huber&#x27;,\n                                            max_iter=8000, tol=0.0001)),\n                             (&#x27;lgb&#x27;,\n                              LGBMClassifier(colsample_bynode=0.5803681307354022,\n                                             colsample_bytree=0.726023996436955,\n                                             lambda_l1=8.562963348932286,\n                                             lambda_l2=4.893256185259296,\n                                             learning_rate=0.05073909898961407,\n                                             max_bin=898, max_depth=23,\n                                             metric=&#x27;multi_logloss&#x27;,\n                                             min_data_in_leaf=115, n_iter=1500,\n                                             num_class=24,\n                                             objective=&#x27;multiclass&#x27;,\n                                             verbose=-1))],\n                 n_jobs=-1, voting=&#x27;soft&#x27;, weights=[0.1, 0.45, 0.45])</pre><b>In a Jupyter environment, please rerun this cell to show the HTML representation or trust the notebook. <br />On GitHub, the HTML representation is unable to render, please try loading this page with nbviewer.org.</b></div><div class=\"sk-container\" hidden><div class=\"sk-item sk-dashed-wrapped\"><div class=\"sk-label-container\"><div class=\"sk-label sk-toggleable\"><input class=\"sk-toggleable__control sk-hidden--visually\" id=\"sk-estimator-id-1\" type=\"checkbox\" ><label for=\"sk-estimator-id-1\" class=\"sk-toggleable__label sk-toggleable__label-arrow\">VotingClassifier</label><div class=\"sk-toggleable__content\"><pre>VotingClassifier(estimators=[(&#x27;mnb&#x27;, MultinomialNB(alpha=0.02)),\n                             (&#x27;sgd&#x27;,\n                              SGDClassifier(loss=&#x27;modified_huber&#x27;,\n                                            max_iter=8000, tol=0.0001)),\n                             (&#x27;lgb&#x27;,\n                              LGBMClassifier(colsample_bynode=0.5803681307354022,\n                                             colsample_bytree=0.726023996436955,\n                                             lambda_l1=8.562963348932286,\n                                             lambda_l2=4.893256185259296,\n                                             learning_rate=0.05073909898961407,\n                                             max_bin=898, max_depth=23,\n                                             metric=&#x27;multi_logloss&#x27;,\n                                             min_data_in_leaf=115, n_iter=1500,\n                                             num_class=24,\n                                             objective=&#x27;multiclass&#x27;,\n                                             verbose=-1))],\n                 n_jobs=-1, voting=&#x27;soft&#x27;, weights=[0.1, 0.45, 0.45])</pre></div></div></div><div class=\"sk-parallel\"><div class=\"sk-parallel-item\"><div class=\"sk-item\"><div class=\"sk-label-container\"><div class=\"sk-label sk-toggleable\"><label>mnb</label></div></div><div class=\"sk-serial\"><div class=\"sk-item\"><div class=\"sk-estimator sk-toggleable\"><input class=\"sk-toggleable__control sk-hidden--visually\" id=\"sk-estimator-id-2\" type=\"checkbox\" ><label for=\"sk-estimator-id-2\" class=\"sk-toggleable__label sk-toggleable__label-arrow\">MultinomialNB</label><div class=\"sk-toggleable__content\"><pre>MultinomialNB(alpha=0.02)</pre></div></div></div></div></div></div><div class=\"sk-parallel-item\"><div class=\"sk-item\"><div class=\"sk-label-container\"><div class=\"sk-label sk-toggleable\"><label>sgd</label></div></div><div class=\"sk-serial\"><div class=\"sk-item\"><div class=\"sk-estimator sk-toggleable\"><input class=\"sk-toggleable__control sk-hidden--visually\" id=\"sk-estimator-id-3\" type=\"checkbox\" ><label for=\"sk-estimator-id-3\" class=\"sk-toggleable__label sk-toggleable__label-arrow\">SGDClassifier</label><div class=\"sk-toggleable__content\"><pre>SGDClassifier(loss=&#x27;modified_huber&#x27;, max_iter=8000, tol=0.0001)</pre></div></div></div></div></div></div><div class=\"sk-parallel-item\"><div class=\"sk-item\"><div class=\"sk-label-container\"><div class=\"sk-label sk-toggleable\"><label>lgb</label></div></div><div class=\"sk-serial\"><div class=\"sk-item\"><div class=\"sk-estimator sk-toggleable\"><input class=\"sk-toggleable__control sk-hidden--visually\" id=\"sk-estimator-id-4\" type=\"checkbox\" ><label for=\"sk-estimator-id-4\" class=\"sk-toggleable__label sk-toggleable__label-arrow\">LGBMClassifier</label><div class=\"sk-toggleable__content\"><pre>LGBMClassifier(colsample_bynode=0.5803681307354022,\n               colsample_bytree=0.726023996436955, lambda_l1=8.562963348932286,\n               lambda_l2=4.893256185259296, learning_rate=0.05073909898961407,\n               max_bin=898, max_depth=23, metric=&#x27;multi_logloss&#x27;,\n               min_data_in_leaf=115, n_iter=1500, num_class=24,\n               objective=&#x27;multiclass&#x27;, verbose=-1)</pre></div></div></div></div></div></div></div></div></div></div>"
     },
     "execution_count": 17,
     "metadata": {},
     "output_type": "execute_result"
    }
   ],
   "source": [
    "Y_train = train['topic'].values\n",
    "ensemble.fit(X_train, Y_train)"
   ]
  },
  {
   "cell_type": "code",
   "execution_count": 21,
   "id": "8a9d6f3bee861ef8",
   "metadata": {
    "collapsed": false,
    "ExecuteTime": {
     "end_time": "2024-02-22T12:43:42.873420100Z",
     "start_time": "2024-02-22T12:43:41.802601300Z"
    }
   },
   "outputs": [
    {
     "name": "stderr",
     "output_type": "stream",
     "text": [
      "C:\\Users\\shens\\AppData\\Local\\Temp\\ipykernel_78324\\3150750775.py:3: SettingWithCopyWarning: \n",
      "A value is trying to be set on a copy of a slice from a DataFrame.\n",
      "Try using .loc[row_indexer,col_indexer] = value instead\n",
      "\n",
      "See the caveats in the documentation: https://pandas.pydata.org/pandas-docs/stable/user_guide/indexing.html#returning-a-view-versus-a-copy\n",
      "  test[\"pred\"] = pred\n"
     ]
    }
   ],
   "source": [
    "tf_test = vectorizer.transform(tokenized_texts_test)\n",
    "pred = ensemble.predict(tf_test)\n",
    "test[\"pred\"] = pred"
   ]
  },
  {
   "cell_type": "code",
   "outputs": [
    {
     "data": {
      "text/plain": "         id                                            content  topic  pred\n0       181  年 习近平 主席 亲自 擘画 引领 中国 特色 大国 外交 扎实 推进 推动 构建 人类 命...      1    22\n1      1763  当地 时间 月 日 习近平 主席 亚太经合组织 工商 领导人 峰会 发表 书面 演讲 秉持 ...      1     1\n2      1015  亚太经合组织 第三十次 领导人 非正式 会议 美国 旧金山 莫斯科 尼 中心 国家 主席 习...      1     1\n3      7104  习近平 出席 亚太经合组织 领导人 东道主 嘉宾 非正式 对话会 暨 工作 午宴 央视网 年...      1     1\n4      2427  中国 国家 主席 习近平 月 日应 美国 总统 拜登 邀请 赴美 中 美 领导人 会晤 应邀...      1     1\n...     ...                                                ...    ...   ...\n3400   1044  从头到尾 来讲 一遍 惯例 先 谈谈 缅甸 北部 那场 风波 这场 风波 源头 藏匿在 缅甸...     23    23\n3401   9043  缅北 全线 激战 敏昂 莱 誓言 反击 冲突 扩大化 中 缅 边境 乱 几天 缅甸 内战 爆...     23    23\n3402   5570  近日 缅甸 内战 再次 卷土重来 国际 社会 关注 这次 冲突 异常 纷乱 消息 传来 人 ...     23    23\n3403   5523  缅北 战火 越烧 越大 中方 做 两手 高层 去 缅甸 首都 清酒 半栩换种 角度 分析 故...     23    23\n3404  10021  缅甸 内战 俄罗斯 插手 缅北 局势 影响 中俄关系 清 飞扬 俄罗斯 派 专家 缅甸政府 ...     23    23\n\n[3405 rows x 4 columns]",
      "text/html": "<div>\n<style scoped>\n    .dataframe tbody tr th:only-of-type {\n        vertical-align: middle;\n    }\n\n    .dataframe tbody tr th {\n        vertical-align: top;\n    }\n\n    .dataframe thead th {\n        text-align: right;\n    }\n</style>\n<table border=\"1\" class=\"dataframe\">\n  <thead>\n    <tr style=\"text-align: right;\">\n      <th></th>\n      <th>id</th>\n      <th>content</th>\n      <th>topic</th>\n      <th>pred</th>\n    </tr>\n  </thead>\n  <tbody>\n    <tr>\n      <th>0</th>\n      <td>181</td>\n      <td>年 习近平 主席 亲自 擘画 引领 中国 特色 大国 外交 扎实 推进 推动 构建 人类 命...</td>\n      <td>1</td>\n      <td>22</td>\n    </tr>\n    <tr>\n      <th>1</th>\n      <td>1763</td>\n      <td>当地 时间 月 日 习近平 主席 亚太经合组织 工商 领导人 峰会 发表 书面 演讲 秉持 ...</td>\n      <td>1</td>\n      <td>1</td>\n    </tr>\n    <tr>\n      <th>2</th>\n      <td>1015</td>\n      <td>亚太经合组织 第三十次 领导人 非正式 会议 美国 旧金山 莫斯科 尼 中心 国家 主席 习...</td>\n      <td>1</td>\n      <td>1</td>\n    </tr>\n    <tr>\n      <th>3</th>\n      <td>7104</td>\n      <td>习近平 出席 亚太经合组织 领导人 东道主 嘉宾 非正式 对话会 暨 工作 午宴 央视网 年...</td>\n      <td>1</td>\n      <td>1</td>\n    </tr>\n    <tr>\n      <th>4</th>\n      <td>2427</td>\n      <td>中国 国家 主席 习近平 月 日应 美国 总统 拜登 邀请 赴美 中 美 领导人 会晤 应邀...</td>\n      <td>1</td>\n      <td>1</td>\n    </tr>\n    <tr>\n      <th>...</th>\n      <td>...</td>\n      <td>...</td>\n      <td>...</td>\n      <td>...</td>\n    </tr>\n    <tr>\n      <th>3400</th>\n      <td>1044</td>\n      <td>从头到尾 来讲 一遍 惯例 先 谈谈 缅甸 北部 那场 风波 这场 风波 源头 藏匿在 缅甸...</td>\n      <td>23</td>\n      <td>23</td>\n    </tr>\n    <tr>\n      <th>3401</th>\n      <td>9043</td>\n      <td>缅北 全线 激战 敏昂 莱 誓言 反击 冲突 扩大化 中 缅 边境 乱 几天 缅甸 内战 爆...</td>\n      <td>23</td>\n      <td>23</td>\n    </tr>\n    <tr>\n      <th>3402</th>\n      <td>5570</td>\n      <td>近日 缅甸 内战 再次 卷土重来 国际 社会 关注 这次 冲突 异常 纷乱 消息 传来 人 ...</td>\n      <td>23</td>\n      <td>23</td>\n    </tr>\n    <tr>\n      <th>3403</th>\n      <td>5523</td>\n      <td>缅北 战火 越烧 越大 中方 做 两手 高层 去 缅甸 首都 清酒 半栩换种 角度 分析 故...</td>\n      <td>23</td>\n      <td>23</td>\n    </tr>\n    <tr>\n      <th>3404</th>\n      <td>10021</td>\n      <td>缅甸 内战 俄罗斯 插手 缅北 局势 影响 中俄关系 清 飞扬 俄罗斯 派 专家 缅甸政府 ...</td>\n      <td>23</td>\n      <td>23</td>\n    </tr>\n  </tbody>\n</table>\n<p>3405 rows × 4 columns</p>\n</div>"
     },
     "execution_count": 22,
     "metadata": {},
     "output_type": "execute_result"
    }
   ],
   "source": [
    "test"
   ],
   "metadata": {
    "collapsed": false,
    "ExecuteTime": {
     "end_time": "2024-02-22T12:43:45.000689200Z",
     "start_time": "2024-02-22T12:43:44.988786200Z"
    }
   },
   "id": "43e48dc7f510e8df",
   "execution_count": 22
  },
  {
   "cell_type": "code",
   "outputs": [
    {
     "name": "stdout",
     "output_type": "stream",
     "text": [
      "Accuracy: 0.9726872246696036\n",
      "Precision: 0.9728530390174358\n",
      "Recall: 0.9726872246696036\n",
      "F1: 0.972659429983902\n"
     ]
    }
   ],
   "source": [
    "accuracy = accuracy_score(test['topic'], test['pred'])\n",
    "precision = precision_score(test['topic'], test['pred'], average='weighted')\n",
    "recall = recall_score(test['topic'], test['pred'], average='weighted')\n",
    "f1 = f1_score(test['topic'], test['pred'], average='weighted')\n",
    "print(f'Accuracy: {accuracy}\\nPrecision: {precision}\\nRecall: {recall}\\nF1: {f1}')"
   ],
   "metadata": {
    "collapsed": false,
    "ExecuteTime": {
     "end_time": "2024-02-22T12:47:12.359864900Z",
     "start_time": "2024-02-22T12:47:12.349283Z"
    }
   },
   "id": "ba88e95d5bba5f22",
   "execution_count": 27
  }
 ],
 "metadata": {
  "kernelspec": {
   "display_name": "Python 3",
   "language": "python",
   "name": "python3"
  },
  "language_info": {
   "codemirror_mode": {
    "name": "ipython",
    "version": 2
   },
   "file_extension": ".py",
   "mimetype": "text/x-python",
   "name": "python",
   "nbconvert_exporter": "python",
   "pygments_lexer": "ipython2",
   "version": "2.7.6"
  }
 },
 "nbformat": 4,
 "nbformat_minor": 5
}

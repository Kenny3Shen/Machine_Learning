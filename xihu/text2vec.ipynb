{
 "cells": [
  {
   "cell_type": "code",
   "execution_count": 107,
   "id": "initial_id",
   "metadata": {
    "collapsed": true,
    "ExecuteTime": {
     "end_time": "2024-03-19T08:46:00.506397Z",
     "start_time": "2024-03-19T08:45:59.318736Z"
    }
   },
   "outputs": [
    {
     "name": "stderr",
     "output_type": "stream",
     "text": [
      "\u001B[32m2024-03-19 16:46:00.324\u001B[0m | \u001B[34m\u001B[1mDEBUG   \u001B[0m | \u001B[36mtext2vec.sentence_model\u001B[0m:\u001B[36m__init__\u001B[0m:\u001B[36m80\u001B[0m - \u001B[34m\u001B[1mUse device: cuda\u001B[0m\n"
     ]
    }
   ],
   "source": [
    "from text2vec import SentenceModel\n",
    "from tqdm import tqdm\n",
    "tqdm.pandas()\n",
    "import pandas as pd\n",
    "import numpy as np\n",
    "m = SentenceModel(\"shibing624/text2vec-base-chinese-paraphrase\", max_seq_length=512, device=\"cuda\")"
   ]
  },
  {
   "cell_type": "code",
   "outputs": [],
   "source": [
    "df = pd.read_csv(\"train.csv\")\n",
    "df = df[[\"content\", \"topic\"]]"
   ],
   "metadata": {
    "collapsed": false,
    "ExecuteTime": {
     "end_time": "2024-03-19T08:46:01.806957Z",
     "start_time": "2024-03-19T08:46:01.585221Z"
    }
   },
   "id": "84c440c241372b27",
   "execution_count": 108
  },
  {
   "cell_type": "code",
   "outputs": [
    {
     "name": "stderr",
     "output_type": "stream",
     "text": [
      "100%|██████████| 24/24 [04:24<00:00, 11.01s/it]\n"
     ]
    }
   ],
   "source": [
    "cls_emb_center = {}\n",
    "for i in tqdm(range(24)):\n",
    "    t = df[df['topic'] == i]\n",
    "    t_emb = [m.encode(i) for i in t['content']]\n",
    "    t_emb_mean = np.mean(t_emb, axis=0)\n",
    "    cls_emb_center[i] = t_emb_mean"
   ],
   "metadata": {
    "collapsed": false,
    "ExecuteTime": {
     "end_time": "2024-03-19T08:50:25.998249Z",
     "start_time": "2024-03-19T08:46:01.849087Z"
    }
   },
   "id": "ddfa5308c4a84d80",
   "execution_count": 109
  },
  {
   "cell_type": "code",
   "outputs": [],
   "source": [
    "import pickle\n",
    "with open(\"cls_emb_center_512.pkl\", \"wb\") as f:\n",
    "    pickle.dump(cls_emb_center, f)"
   ],
   "metadata": {
    "collapsed": false,
    "ExecuteTime": {
     "end_time": "2024-03-19T08:54:49.247640Z",
     "start_time": "2024-03-19T08:54:49.244220Z"
    }
   },
   "id": "ddd61a8212642b11",
   "execution_count": 117
  },
  {
   "cell_type": "code",
   "outputs": [],
   "source": [
    "test = pd.read_csv(\"test.csv\")\n",
    "test = test[[\"content\", \"topic\"]]"
   ],
   "metadata": {
    "collapsed": false,
    "ExecuteTime": {
     "end_time": "2024-03-19T08:54:49.980765Z",
     "start_time": "2024-03-19T08:54:49.868055Z"
    }
   },
   "id": "d186302bf9ec7817",
   "execution_count": 118
  },
  {
   "cell_type": "code",
   "outputs": [
    {
     "name": "stderr",
     "output_type": "stream",
     "text": [
      "100%|██████████| 3405/3405 [02:12<00:00, 25.68it/s]\n"
     ]
    }
   ],
   "source": [
    "from sklearn.metrics.pairwise import cosine_similarity\n",
    "\n",
    "test_emb = [m.encode(i) for i in tqdm(test['content'])]\n",
    "\n",
    "preds = []\n",
    "max_sim = []\n",
    "for i in test_emb:\n",
    "    sim = [cosine_similarity(i.reshape(1, -1), cls_emb_center[j].reshape(1, -1))[0][0] for j in range(24)]\n",
    "    max_sim.append(max(sim))\n",
    "    pred = np.argmax(sim)\n",
    "    preds.append(pred)\n",
    "\n",
    "test['pred'] = preds\n",
    "test[\"max_sim\"] = max_sim"
   ],
   "metadata": {
    "collapsed": false,
    "ExecuteTime": {
     "end_time": "2024-03-19T09:02:30.227238Z",
     "start_time": "2024-03-19T09:00:09.898485Z"
    }
   },
   "id": "921d2c18243ecbfc",
   "execution_count": 124
  },
  {
   "cell_type": "code",
   "outputs": [
    {
     "data": {
      "text/plain": "                                                content  topic  pred   max_sim\n0     2023年，习近平主席亲自擘画引领，中国特色大国外交扎实推进。在推动构建人类命运共同体的崇高...      1     4  0.948044\n1     当地时间11月16日，习近平主席向亚太经合组织（APEC）工商领导人峰会发表书面演讲，强调我...      1     1  0.945361\n2     亚太经合组织第三十次领导人非正式会议在美国旧金山莫斯科尼中心举行。国家主席习近平出席会议并发...      1     1  0.961683\n3     习近平出席亚太经合组织领导人同东道主嘉宾非正式对话会暨工作午宴央视网2023年11月17日 ...      1     1  0.930212\n4     中国国家主席习近平将于11月14日应美国总统拜登邀请赴美举行中美领导人会晤，同时应邀出席亚太...      1     4  0.972955\n...                                                 ...    ...   ...       ...\n3400  从头到尾来讲一遍，咱们按照惯例，先谈谈缅甸北部的那场风波。这场风波的源头是藏匿在缅甸北部的一...     23    23  0.908576\n3401  缅北全线激战，敏昂莱誓言反击，冲突可能扩大化，中缅边境乱不得这几天，缅甸内战的爆发，引起了外...     23    23  0.933027\n3402  近日，缅甸内战再次卷土重来，引起了国际社会广泛的关注。然而，这次的冲突异常纷乱，各种消息传来...     23    23  0.944409\n3403  缅北战火越烧越大，中方做两手准备，高层直接去了缅甸首都清酒半栩换种角度分析故事，带你了解更有...     23    23  0.951230\n3404  缅甸内战，俄罗斯插手缅北局势，是否影响中俄关系清飞扬俄罗斯派专家帮助缅甸政府打击果敢同盟军，...     23    23  0.865247\n\n[3405 rows x 4 columns]",
      "text/html": "<div>\n<style scoped>\n    .dataframe tbody tr th:only-of-type {\n        vertical-align: middle;\n    }\n\n    .dataframe tbody tr th {\n        vertical-align: top;\n    }\n\n    .dataframe thead th {\n        text-align: right;\n    }\n</style>\n<table border=\"1\" class=\"dataframe\">\n  <thead>\n    <tr style=\"text-align: right;\">\n      <th></th>\n      <th>content</th>\n      <th>topic</th>\n      <th>pred</th>\n      <th>max_sim</th>\n    </tr>\n  </thead>\n  <tbody>\n    <tr>\n      <th>0</th>\n      <td>2023年，习近平主席亲自擘画引领，中国特色大国外交扎实推进。在推动构建人类命运共同体的崇高...</td>\n      <td>1</td>\n      <td>4</td>\n      <td>0.948044</td>\n    </tr>\n    <tr>\n      <th>1</th>\n      <td>当地时间11月16日，习近平主席向亚太经合组织（APEC）工商领导人峰会发表书面演讲，强调我...</td>\n      <td>1</td>\n      <td>1</td>\n      <td>0.945361</td>\n    </tr>\n    <tr>\n      <th>2</th>\n      <td>亚太经合组织第三十次领导人非正式会议在美国旧金山莫斯科尼中心举行。国家主席习近平出席会议并发...</td>\n      <td>1</td>\n      <td>1</td>\n      <td>0.961683</td>\n    </tr>\n    <tr>\n      <th>3</th>\n      <td>习近平出席亚太经合组织领导人同东道主嘉宾非正式对话会暨工作午宴央视网2023年11月17日 ...</td>\n      <td>1</td>\n      <td>1</td>\n      <td>0.930212</td>\n    </tr>\n    <tr>\n      <th>4</th>\n      <td>中国国家主席习近平将于11月14日应美国总统拜登邀请赴美举行中美领导人会晤，同时应邀出席亚太...</td>\n      <td>1</td>\n      <td>4</td>\n      <td>0.972955</td>\n    </tr>\n    <tr>\n      <th>...</th>\n      <td>...</td>\n      <td>...</td>\n      <td>...</td>\n      <td>...</td>\n    </tr>\n    <tr>\n      <th>3400</th>\n      <td>从头到尾来讲一遍，咱们按照惯例，先谈谈缅甸北部的那场风波。这场风波的源头是藏匿在缅甸北部的一...</td>\n      <td>23</td>\n      <td>23</td>\n      <td>0.908576</td>\n    </tr>\n    <tr>\n      <th>3401</th>\n      <td>缅北全线激战，敏昂莱誓言反击，冲突可能扩大化，中缅边境乱不得这几天，缅甸内战的爆发，引起了外...</td>\n      <td>23</td>\n      <td>23</td>\n      <td>0.933027</td>\n    </tr>\n    <tr>\n      <th>3402</th>\n      <td>近日，缅甸内战再次卷土重来，引起了国际社会广泛的关注。然而，这次的冲突异常纷乱，各种消息传来...</td>\n      <td>23</td>\n      <td>23</td>\n      <td>0.944409</td>\n    </tr>\n    <tr>\n      <th>3403</th>\n      <td>缅北战火越烧越大，中方做两手准备，高层直接去了缅甸首都清酒半栩换种角度分析故事，带你了解更有...</td>\n      <td>23</td>\n      <td>23</td>\n      <td>0.951230</td>\n    </tr>\n    <tr>\n      <th>3404</th>\n      <td>缅甸内战，俄罗斯插手缅北局势，是否影响中俄关系清飞扬俄罗斯派专家帮助缅甸政府打击果敢同盟军，...</td>\n      <td>23</td>\n      <td>23</td>\n      <td>0.865247</td>\n    </tr>\n  </tbody>\n</table>\n<p>3405 rows × 4 columns</p>\n</div>"
     },
     "execution_count": 125,
     "metadata": {},
     "output_type": "execute_result"
    }
   ],
   "source": [
    "test"
   ],
   "metadata": {
    "collapsed": false,
    "ExecuteTime": {
     "end_time": "2024-03-19T09:03:06.988746Z",
     "start_time": "2024-03-19T09:03:06.983285Z"
    }
   },
   "id": "20cb8df7f37f3eb5",
   "execution_count": 125
  },
  {
   "cell_type": "code",
   "outputs": [],
   "source": [
    "diff = test[test['topic'] != test['pred']]"
   ],
   "metadata": {
    "collapsed": false,
    "ExecuteTime": {
     "end_time": "2024-03-19T09:03:10.726033Z",
     "start_time": "2024-03-19T09:03:10.722021Z"
    }
   },
   "id": "cbe32987c51ddc49",
   "execution_count": 126
  },
  {
   "cell_type": "code",
   "outputs": [
    {
     "data": {
      "text/plain": "                                                content  topic  pred   max_sim\n0     2023年，习近平主席亲自擘画引领，中国特色大国外交扎实推进。在推动构建人类命运共同体的崇高...      1     4  0.948044\n4     中国国家主席习近平将于11月14日应美国总统拜登邀请赴美举行中美领导人会晤，同时应邀出席亚太...      1     4  0.972955\n7     APEC峰会前，我公使提出四点核心利益，中美是否会晤，得看美表现“一带一路”国际高峰论坛取得...      1     4  0.946068\n9     美国态度大变，宣布邀请俄罗斯参加明年APEC会议，普京恐不会出席2023年，美国将担任亚太经...      1     3  0.895437\n32    中国国家主席习近平将于11月14日应美国总统拜登邀请赴美举行中美领导人会晤，同时应邀出席亚太...      1     4  0.971747\n...                                                 ...    ...   ...       ...\n3127  神舟十七号发射成功：续写飞天梦想，建设航天强国。北京时间10月26日11时13分59秒，搭载...     21    20  0.985819\n3201  新华网10月18日上午，国家主席习近平夫人彭丽媛邀请出席第三届“一带一路”国际合作高峰论坛的...     22     4  0.847199\n3308  缅甸历史史前历史前11,000年–前200年骠国前200年–1050年孟王国825年?–10...     23     0  0.894279\n3328  5月2日，中国国务委员兼外交部长秦刚开始访问缅甸。外媒注意到这是中方高层在缅甸政权更迭后首次...     23     4  0.881124\n3346  为何叙利亚、印巴和缅甸同时爆发战火？美国的匕首直插俄罗斯后背这只是巧合吗？同一天，全球三个热...     23    11  0.905501\n\n[251 rows x 4 columns]",
      "text/html": "<div>\n<style scoped>\n    .dataframe tbody tr th:only-of-type {\n        vertical-align: middle;\n    }\n\n    .dataframe tbody tr th {\n        vertical-align: top;\n    }\n\n    .dataframe thead th {\n        text-align: right;\n    }\n</style>\n<table border=\"1\" class=\"dataframe\">\n  <thead>\n    <tr style=\"text-align: right;\">\n      <th></th>\n      <th>content</th>\n      <th>topic</th>\n      <th>pred</th>\n      <th>max_sim</th>\n    </tr>\n  </thead>\n  <tbody>\n    <tr>\n      <th>0</th>\n      <td>2023年，习近平主席亲自擘画引领，中国特色大国外交扎实推进。在推动构建人类命运共同体的崇高...</td>\n      <td>1</td>\n      <td>4</td>\n      <td>0.948044</td>\n    </tr>\n    <tr>\n      <th>4</th>\n      <td>中国国家主席习近平将于11月14日应美国总统拜登邀请赴美举行中美领导人会晤，同时应邀出席亚太...</td>\n      <td>1</td>\n      <td>4</td>\n      <td>0.972955</td>\n    </tr>\n    <tr>\n      <th>7</th>\n      <td>APEC峰会前，我公使提出四点核心利益，中美是否会晤，得看美表现“一带一路”国际高峰论坛取得...</td>\n      <td>1</td>\n      <td>4</td>\n      <td>0.946068</td>\n    </tr>\n    <tr>\n      <th>9</th>\n      <td>美国态度大变，宣布邀请俄罗斯参加明年APEC会议，普京恐不会出席2023年，美国将担任亚太经...</td>\n      <td>1</td>\n      <td>3</td>\n      <td>0.895437</td>\n    </tr>\n    <tr>\n      <th>32</th>\n      <td>中国国家主席习近平将于11月14日应美国总统拜登邀请赴美举行中美领导人会晤，同时应邀出席亚太...</td>\n      <td>1</td>\n      <td>4</td>\n      <td>0.971747</td>\n    </tr>\n    <tr>\n      <th>...</th>\n      <td>...</td>\n      <td>...</td>\n      <td>...</td>\n      <td>...</td>\n    </tr>\n    <tr>\n      <th>3127</th>\n      <td>神舟十七号发射成功：续写飞天梦想，建设航天强国。北京时间10月26日11时13分59秒，搭载...</td>\n      <td>21</td>\n      <td>20</td>\n      <td>0.985819</td>\n    </tr>\n    <tr>\n      <th>3201</th>\n      <td>新华网10月18日上午，国家主席习近平夫人彭丽媛邀请出席第三届“一带一路”国际合作高峰论坛的...</td>\n      <td>22</td>\n      <td>4</td>\n      <td>0.847199</td>\n    </tr>\n    <tr>\n      <th>3308</th>\n      <td>缅甸历史史前历史前11,000年–前200年骠国前200年–1050年孟王国825年?–10...</td>\n      <td>23</td>\n      <td>0</td>\n      <td>0.894279</td>\n    </tr>\n    <tr>\n      <th>3328</th>\n      <td>5月2日，中国国务委员兼外交部长秦刚开始访问缅甸。外媒注意到这是中方高层在缅甸政权更迭后首次...</td>\n      <td>23</td>\n      <td>4</td>\n      <td>0.881124</td>\n    </tr>\n    <tr>\n      <th>3346</th>\n      <td>为何叙利亚、印巴和缅甸同时爆发战火？美国的匕首直插俄罗斯后背这只是巧合吗？同一天，全球三个热...</td>\n      <td>23</td>\n      <td>11</td>\n      <td>0.905501</td>\n    </tr>\n  </tbody>\n</table>\n<p>251 rows × 4 columns</p>\n</div>"
     },
     "execution_count": 127,
     "metadata": {},
     "output_type": "execute_result"
    }
   ],
   "source": [
    "diff"
   ],
   "metadata": {
    "collapsed": false,
    "ExecuteTime": {
     "end_time": "2024-03-19T09:03:11.111935Z",
     "start_time": "2024-03-19T09:03:11.106626Z"
    }
   },
   "id": "f8ee501b46dda2f6",
   "execution_count": 127
  },
  {
   "cell_type": "code",
   "outputs": [
    {
     "name": "stdout",
     "output_type": "stream",
     "text": [
      "Accuracy: 0.9262848751835536\n",
      "Precision: 0.9341271265254506\n",
      "Recall: 0.9262848751835536\n",
      "F1: 0.9266618882472175\n"
     ]
    }
   ],
   "source": [
    "from sklearn.metrics import accuracy_score, precision_score, recall_score, f1_score\n",
    "accuracy = accuracy_score(test['topic'], test['pred'])\n",
    "precision = precision_score(test['topic'], test['pred'], average='weighted')\n",
    "recall = recall_score(test['topic'], test['pred'], average='weighted')\n",
    "f1 = f1_score(test['topic'], test['pred'], average='weighted')\n",
    "print(f'Accuracy: {accuracy}\\nPrecision: {precision}\\nRecall: {recall}\\nF1: {f1}')"
   ],
   "metadata": {
    "collapsed": false,
    "ExecuteTime": {
     "end_time": "2024-03-19T08:57:19.131572Z",
     "start_time": "2024-03-19T08:57:19.124455Z"
    }
   },
   "id": "cb013c681ae9c779",
   "execution_count": 123
  },
  {
   "cell_type": "code",
   "outputs": [],
   "source": [],
   "metadata": {
    "collapsed": false
   },
   "id": "c728858cf1bfeb70"
  }
 ],
 "metadata": {
  "kernelspec": {
   "display_name": "Python 3",
   "language": "python",
   "name": "python3"
  },
  "language_info": {
   "codemirror_mode": {
    "name": "ipython",
    "version": 2
   },
   "file_extension": ".py",
   "mimetype": "text/x-python",
   "name": "python",
   "nbconvert_exporter": "python",
   "pygments_lexer": "ipython2",
   "version": "2.7.6"
  }
 },
 "nbformat": 4,
 "nbformat_minor": 5
}

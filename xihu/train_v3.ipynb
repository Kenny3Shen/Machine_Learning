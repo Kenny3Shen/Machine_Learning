{
 "cells": [
  {
   "cell_type": "markdown",
   "id": "ea3ae761b484156d",
   "metadata": {},
   "source": [
    "## Version 3\n",
    "### accuracy: 0.97533\n",
    "- only delete punctuation + jieba + remove stopwords\n",
    "- Tokenizer\n",
    "- TfidfVectorizer\n",
    "- Ensemble model\n",
    "\n",
    "### 改进方向\n",
    "- 存在非中文content，训练集的去掉\n",
    "- lightgbm参数调优，加入catboost分类器\n",
    "- 融合 bert-like transformer(prob < x)"
   ]
  },
  {
   "cell_type": "code",
   "execution_count": 1,
   "id": "5fb86d2d357fc2d",
   "metadata": {
    "execution": {
     "iopub.execute_input": "2024-02-23T04:24:03.305477Z",
     "iopub.status.busy": "2024-02-23T04:24:03.305087Z",
     "iopub.status.idle": "2024-02-23T04:24:14.113379Z",
     "shell.execute_reply": "2024-02-23T04:24:14.112164Z",
     "shell.execute_reply.started": "2024-02-23T04:24:03.305438Z"
    },
    "trusted": true,
    "ExecuteTime": {
     "end_time": "2024-03-21T14:42:28.679345Z",
     "start_time": "2024-03-21T14:42:25.004017Z"
    }
   },
   "outputs": [],
   "source": [
    "import pandas as pd\n",
    "import string\n",
    "import re\n",
    "import jieba\n",
    "import joblib\n",
    "from tqdm import tqdm\n",
    "tqdm.pandas()\n",
    "from tokenizers import (\n",
    "    models,\n",
    "    normalizers,\n",
    "    pre_tokenizers,\n",
    "    trainers,\n",
    "    Tokenizer,\n",
    ")\n",
    "\n",
    "from datasets import Dataset\n",
    "from transformers import PreTrainedTokenizerFast\n",
    "from lightgbm import LGBMClassifier\n",
    "from sklearn.metrics import accuracy_score, precision_score, recall_score, f1_score\n",
    "from sklearn.feature_extraction.text import TfidfVectorizer\n",
    "from sklearn.linear_model import SGDClassifier\n",
    "from sklearn.naive_bayes import MultinomialNB\n",
    "from sklearn.ensemble import VotingClassifier"
   ]
  },
  {
   "cell_type": "code",
   "execution_count": 2,
   "id": "3b471b0db5a9505c",
   "metadata": {
    "collapsed": false,
    "execution": {
     "iopub.execute_input": "2024-02-23T04:24:14.115836Z",
     "iopub.status.busy": "2024-02-23T04:24:14.115386Z",
     "iopub.status.idle": "2024-02-23T04:24:15.389783Z",
     "shell.execute_reply": "2024-02-23T04:24:15.388720Z",
     "shell.execute_reply.started": "2024-02-23T04:24:14.115794Z"
    },
    "trusted": true,
    "ExecuteTime": {
     "end_time": "2024-03-21T14:43:10.444644Z",
     "start_time": "2024-03-21T14:43:09.691974Z"
    }
   },
   "outputs": [],
   "source": [
    "train_dir = './train.csv'\n",
    "test_dir = './test.csv'\n",
    "df1 = pd.read_csv(train_dir)\n",
    "df2 = pd.read_csv(test_dir)"
   ]
  },
  {
   "cell_type": "code",
   "execution_count": 6,
   "id": "3fa970544202045e",
   "metadata": {
    "collapsed": false,
    "execution": {
     "iopub.execute_input": "2024-02-23T04:24:15.391268Z",
     "iopub.status.busy": "2024-02-23T04:24:15.390920Z",
     "iopub.status.idle": "2024-02-23T04:24:15.423484Z",
     "shell.execute_reply": "2024-02-23T04:24:15.422303Z",
     "shell.execute_reply.started": "2024-02-23T04:24:15.391240Z"
    },
    "trusted": true,
    "ExecuteTime": {
     "end_time": "2024-03-21T14:46:33.429511Z",
     "start_time": "2024-03-21T14:46:33.419225Z"
    }
   },
   "outputs": [
    {
     "data": {
      "text/plain": "        id                                            content  topic\n0      108  当地时间11月17日上午，亚太经合组织第三十次领导人非正式会议在美国旧金山莫斯科尼中心举行。...      1\n1     7874  推动中美关系重回正轨 领航亚太发展繁荣新程——国际社会期待习近平主席将赴美国举行中美元首会晤...      1\n2     7388  9月26日，国务院新闻办公室发布《携手构建人类命运共同体：中国的倡议与行动》白皮书并举行新闻...      1\n3     5271  亚太经合组织第二十七次领导人非正式会议是亚太经合组织最高级别的会议。亚太经合组织在成立的最初...      1\n4     3781  当地时间11月17日上午，亚太经合组织第三十次领导人非正式会议在美国旧金山莫斯科尼中心举行。...      1\n...    ...                                                ...    ...\n6805  2604  缅甸再起战火，地方武装袭击多个军事据点，宣称剿灭电信诈骗缅甸北部燃起的战火，牵动着中国人的目...     23\n6806  3157  中国军队采取行动，前往中缅边境，给缅甸内战双方发出信号！缅甸内战如今越发激烈，中国和缅甸作为...     23\n6807  1567  正文申请入驻缅甸内战在争夺什么？2023-12-13 20:47:40　来源:宋鸿兵北京举报...     23\n6808  9353  切换模式写文章登录/注册中国和缅甸划清边界的时候，解放军还到缅甸打了一仗沈听雪喜欢军史党史的...     23\n6809  8636  在中国的积极斡旋下，由果敢同盟军、若开军、德昂民族解放军三家民地武组成的“三兄弟联盟”与缅甸...     23\n\n[6810 rows x 3 columns]",
      "text/html": "<div>\n<style scoped>\n    .dataframe tbody tr th:only-of-type {\n        vertical-align: middle;\n    }\n\n    .dataframe tbody tr th {\n        vertical-align: top;\n    }\n\n    .dataframe thead th {\n        text-align: right;\n    }\n</style>\n<table border=\"1\" class=\"dataframe\">\n  <thead>\n    <tr style=\"text-align: right;\">\n      <th></th>\n      <th>id</th>\n      <th>content</th>\n      <th>topic</th>\n    </tr>\n  </thead>\n  <tbody>\n    <tr>\n      <th>0</th>\n      <td>108</td>\n      <td>当地时间11月17日上午，亚太经合组织第三十次领导人非正式会议在美国旧金山莫斯科尼中心举行。...</td>\n      <td>1</td>\n    </tr>\n    <tr>\n      <th>1</th>\n      <td>7874</td>\n      <td>推动中美关系重回正轨 领航亚太发展繁荣新程——国际社会期待习近平主席将赴美国举行中美元首会晤...</td>\n      <td>1</td>\n    </tr>\n    <tr>\n      <th>2</th>\n      <td>7388</td>\n      <td>9月26日，国务院新闻办公室发布《携手构建人类命运共同体：中国的倡议与行动》白皮书并举行新闻...</td>\n      <td>1</td>\n    </tr>\n    <tr>\n      <th>3</th>\n      <td>5271</td>\n      <td>亚太经合组织第二十七次领导人非正式会议是亚太经合组织最高级别的会议。亚太经合组织在成立的最初...</td>\n      <td>1</td>\n    </tr>\n    <tr>\n      <th>4</th>\n      <td>3781</td>\n      <td>当地时间11月17日上午，亚太经合组织第三十次领导人非正式会议在美国旧金山莫斯科尼中心举行。...</td>\n      <td>1</td>\n    </tr>\n    <tr>\n      <th>...</th>\n      <td>...</td>\n      <td>...</td>\n      <td>...</td>\n    </tr>\n    <tr>\n      <th>6805</th>\n      <td>2604</td>\n      <td>缅甸再起战火，地方武装袭击多个军事据点，宣称剿灭电信诈骗缅甸北部燃起的战火，牵动着中国人的目...</td>\n      <td>23</td>\n    </tr>\n    <tr>\n      <th>6806</th>\n      <td>3157</td>\n      <td>中国军队采取行动，前往中缅边境，给缅甸内战双方发出信号！缅甸内战如今越发激烈，中国和缅甸作为...</td>\n      <td>23</td>\n    </tr>\n    <tr>\n      <th>6807</th>\n      <td>1567</td>\n      <td>正文申请入驻缅甸内战在争夺什么？2023-12-13 20:47:40　来源:宋鸿兵北京举报...</td>\n      <td>23</td>\n    </tr>\n    <tr>\n      <th>6808</th>\n      <td>9353</td>\n      <td>切换模式写文章登录/注册中国和缅甸划清边界的时候，解放军还到缅甸打了一仗沈听雪喜欢军史党史的...</td>\n      <td>23</td>\n    </tr>\n    <tr>\n      <th>6809</th>\n      <td>8636</td>\n      <td>在中国的积极斡旋下，由果敢同盟军、若开军、德昂民族解放军三家民地武组成的“三兄弟联盟”与缅甸...</td>\n      <td>23</td>\n    </tr>\n  </tbody>\n</table>\n<p>6810 rows × 3 columns</p>\n</div>"
     },
     "execution_count": 6,
     "metadata": {},
     "output_type": "execute_result"
    }
   ],
   "source": [
    "train = df1[['id', 'content', 'topic']]\n",
    "test = df2[['id', 'content', 'topic']]\n",
    "train"
   ]
  },
  {
   "cell_type": "code",
   "execution_count": 9,
   "id": "904c4c50",
   "metadata": {},
   "outputs": [],
   "source": [
    "import requests\n",
    "\n",
    "# DeepL API endpoint\n",
    "DEEPL_API_URL = \"https://api-free.deepl.com/v2/translate\"\n",
    "\n",
    "DEEPL_API_KEY = \"67e30ce8-6c20-49a9-917b-fc252b83adff:fx\"\n",
    "\n",
    "\n",
    "def translate_text(text, target_lang=\"ch-ZH\"):\n",
    "    \"\"\"\n",
    "    使用DeepL API翻译文本\n",
    "\n",
    "    Args:\n",
    "        text (str): 需要翻译的中文文本\n",
    "        target_lang (str): 目标语言代码，默认为英语\"EN\"\n",
    "\n",
    "    Returns:\n",
    "        str: 翻译后的文本\n",
    "    \"\"\"\n",
    "    params = {\n",
    "        \"auth_key\": DEEPL_API_KEY,\n",
    "        \"text\": text,\n",
    "        \"target_lang\": target_lang,\n",
    "        \"source_lang\": \"ZH\"  # 指定源语言为中文\n",
    "    }\n",
    "\n",
    "    response = requests.post(DEEPL_API_URL, data=params)\n",
    "    response_json = response.json()\n",
    "\n",
    "    # 返回翻译结果\n",
    "    return response_json[\"translations\"][0][\"text\"] if response.status_code == 200 else None"
   ]
  },
  {
   "cell_type": "code",
   "execution_count": 4,
   "id": "a5064335",
   "metadata": {
    "ExecuteTime": {
     "end_time": "2024-03-21T14:44:12.741484Z",
     "start_time": "2024-03-21T14:44:12.728400Z"
    }
   },
   "outputs": [
    {
     "data": {
      "text/plain": "         id                                            content  topic\n473     831  ChatGPT hastaken the world by stormsince it la...      2\n2030  10028  %PDF-1.7\\r\\n%Â³ÇØ\\r\\n1 0 obj\\r\\n<> /Outlines 5...      9\n2174  10036  %PDF-1.7\\r\\n%Â³ÇØ\\r\\n1 0 obj\\r\\n<> /Outlines 5...      9\n2510   3061  This war has been going on for a long time, an...     11\n2562   3577  е…ЁйғЁеҜјиҲӘж—¶ж”ҝеӣҪеҶ…иҙўз»ҸзӨҫдјҡеЁұд№җеӨ©ж...     11\n4863   9050  The robot Chenchen represents the Beijing-Hang...     16\n5508   3706  зҷҫеәҰйҰ–йЎөе•ҶеҹҺжіЁеҶҢзҷ»еҪ•зҪ‘йЎөиө„и®Ҝи§Ҷй...     19",
      "text/html": "<div>\n<style scoped>\n    .dataframe tbody tr th:only-of-type {\n        vertical-align: middle;\n    }\n\n    .dataframe tbody tr th {\n        vertical-align: top;\n    }\n\n    .dataframe thead th {\n        text-align: right;\n    }\n</style>\n<table border=\"1\" class=\"dataframe\">\n  <thead>\n    <tr style=\"text-align: right;\">\n      <th></th>\n      <th>id</th>\n      <th>content</th>\n      <th>topic</th>\n    </tr>\n  </thead>\n  <tbody>\n    <tr>\n      <th>473</th>\n      <td>831</td>\n      <td>ChatGPT hastaken the world by stormsince it la...</td>\n      <td>2</td>\n    </tr>\n    <tr>\n      <th>2030</th>\n      <td>10028</td>\n      <td>%PDF-1.7\\r\\n%Â³ÇØ\\r\\n1 0 obj\\r\\n&lt;&gt; /Outlines 5...</td>\n      <td>9</td>\n    </tr>\n    <tr>\n      <th>2174</th>\n      <td>10036</td>\n      <td>%PDF-1.7\\r\\n%Â³ÇØ\\r\\n1 0 obj\\r\\n&lt;&gt; /Outlines 5...</td>\n      <td>9</td>\n    </tr>\n    <tr>\n      <th>2510</th>\n      <td>3061</td>\n      <td>This war has been going on for a long time, an...</td>\n      <td>11</td>\n    </tr>\n    <tr>\n      <th>2562</th>\n      <td>3577</td>\n      <td>е…ЁйғЁеҜјиҲӘж—¶ж”ҝеӣҪеҶ…иҙўз»ҸзӨҫдјҡеЁұд№җеӨ©ж...</td>\n      <td>11</td>\n    </tr>\n    <tr>\n      <th>4863</th>\n      <td>9050</td>\n      <td>The robot Chenchen represents the Beijing-Hang...</td>\n      <td>16</td>\n    </tr>\n    <tr>\n      <th>5508</th>\n      <td>3706</td>\n      <td>зҷҫеәҰйҰ–йЎөе•ҶеҹҺжіЁеҶҢзҷ»еҪ•зҪ‘йЎөиө„и®Ҝи§Ҷй...</td>\n      <td>19</td>\n    </tr>\n  </tbody>\n</table>\n</div>"
     },
     "execution_count": 4,
     "metadata": {},
     "output_type": "execute_result"
    }
   ],
   "source": [
    "non_chinese_content_train = train[~train['content'].str.contains(r'[\\u4e00-\\u9fff]')]\n",
    "non_chinese_content_train"
   ]
  },
  {
   "cell_type": "code",
   "outputs": [
    {
     "data": {
      "text/plain": "        id                                            content  topic\n0      108  当地时间11月17日上午，亚太经合组织第三十次领导人非正式会议在美国旧金山莫斯科尼中心举行。...      1\n1     7874  推动中美关系重回正轨 领航亚太发展繁荣新程——国际社会期待习近平主席将赴美国举行中美元首会晤...      1\n2     7388  9月26日，国务院新闻办公室发布《携手构建人类命运共同体：中国的倡议与行动》白皮书并举行新闻...      1\n3     5271  亚太经合组织第二十七次领导人非正式会议是亚太经合组织最高级别的会议。亚太经合组织在成立的最初...      1\n4     3781  当地时间11月17日上午，亚太经合组织第三十次领导人非正式会议在美国旧金山莫斯科尼中心举行。...      1\n...    ...                                                ...    ...\n6805  2604  缅甸再起战火，地方武装袭击多个军事据点，宣称剿灭电信诈骗缅甸北部燃起的战火，牵动着中国人的目...     23\n6806  3157  中国军队采取行动，前往中缅边境，给缅甸内战双方发出信号！缅甸内战如今越发激烈，中国和缅甸作为...     23\n6807  1567  正文申请入驻缅甸内战在争夺什么？2023-12-13 20:47:40　来源:宋鸿兵北京举报...     23\n6808  9353  切换模式写文章登录/注册中国和缅甸划清边界的时候，解放军还到缅甸打了一仗沈听雪喜欢军史党史的...     23\n6809  8636  在中国的积极斡旋下，由果敢同盟军、若开军、德昂民族解放军三家民地武组成的“三兄弟联盟”与缅甸...     23\n\n[6803 rows x 3 columns]",
      "text/html": "<div>\n<style scoped>\n    .dataframe tbody tr th:only-of-type {\n        vertical-align: middle;\n    }\n\n    .dataframe tbody tr th {\n        vertical-align: top;\n    }\n\n    .dataframe thead th {\n        text-align: right;\n    }\n</style>\n<table border=\"1\" class=\"dataframe\">\n  <thead>\n    <tr style=\"text-align: right;\">\n      <th></th>\n      <th>id</th>\n      <th>content</th>\n      <th>topic</th>\n    </tr>\n  </thead>\n  <tbody>\n    <tr>\n      <th>0</th>\n      <td>108</td>\n      <td>当地时间11月17日上午，亚太经合组织第三十次领导人非正式会议在美国旧金山莫斯科尼中心举行。...</td>\n      <td>1</td>\n    </tr>\n    <tr>\n      <th>1</th>\n      <td>7874</td>\n      <td>推动中美关系重回正轨 领航亚太发展繁荣新程——国际社会期待习近平主席将赴美国举行中美元首会晤...</td>\n      <td>1</td>\n    </tr>\n    <tr>\n      <th>2</th>\n      <td>7388</td>\n      <td>9月26日，国务院新闻办公室发布《携手构建人类命运共同体：中国的倡议与行动》白皮书并举行新闻...</td>\n      <td>1</td>\n    </tr>\n    <tr>\n      <th>3</th>\n      <td>5271</td>\n      <td>亚太经合组织第二十七次领导人非正式会议是亚太经合组织最高级别的会议。亚太经合组织在成立的最初...</td>\n      <td>1</td>\n    </tr>\n    <tr>\n      <th>4</th>\n      <td>3781</td>\n      <td>当地时间11月17日上午，亚太经合组织第三十次领导人非正式会议在美国旧金山莫斯科尼中心举行。...</td>\n      <td>1</td>\n    </tr>\n    <tr>\n      <th>...</th>\n      <td>...</td>\n      <td>...</td>\n      <td>...</td>\n    </tr>\n    <tr>\n      <th>6805</th>\n      <td>2604</td>\n      <td>缅甸再起战火，地方武装袭击多个军事据点，宣称剿灭电信诈骗缅甸北部燃起的战火，牵动着中国人的目...</td>\n      <td>23</td>\n    </tr>\n    <tr>\n      <th>6806</th>\n      <td>3157</td>\n      <td>中国军队采取行动，前往中缅边境，给缅甸内战双方发出信号！缅甸内战如今越发激烈，中国和缅甸作为...</td>\n      <td>23</td>\n    </tr>\n    <tr>\n      <th>6807</th>\n      <td>1567</td>\n      <td>正文申请入驻缅甸内战在争夺什么？2023-12-13 20:47:40　来源:宋鸿兵北京举报...</td>\n      <td>23</td>\n    </tr>\n    <tr>\n      <th>6808</th>\n      <td>9353</td>\n      <td>切换模式写文章登录/注册中国和缅甸划清边界的时候，解放军还到缅甸打了一仗沈听雪喜欢军史党史的...</td>\n      <td>23</td>\n    </tr>\n    <tr>\n      <th>6809</th>\n      <td>8636</td>\n      <td>在中国的积极斡旋下，由果敢同盟军、若开军、德昂民族解放军三家民地武组成的“三兄弟联盟”与缅甸...</td>\n      <td>23</td>\n    </tr>\n  </tbody>\n</table>\n<p>6803 rows × 3 columns</p>\n</div>"
     },
     "execution_count": 9,
     "metadata": {},
     "output_type": "execute_result"
    }
   ],
   "source": [
    "# 删除非中文content\n",
    "train = train[train['content'].str.contains(r'[\\u4e00-\\u9fff]')]\n",
    "train"
   ],
   "metadata": {
    "collapsed": false,
    "ExecuteTime": {
     "end_time": "2024-03-21T14:50:15.057594Z",
     "start_time": "2024-03-21T14:50:15.044266Z"
    }
   },
   "id": "ff93dd6f65899d37",
   "execution_count": 9
  },
  {
   "cell_type": "code",
   "outputs": [
    {
     "data": {
      "text/plain": "        id                                            content  topic\n123   8603  China aims to increase the share of electric v...      2\n2723  6677  е…ЁйғЁеҜјиҲӘж—¶ж”ҝеӣҪеҶ…еӣҪйҷ…иҙўз»ҸзӨҫдјҡеЁұд...     18\n2859  7296  China will launch the three astronauts of theS...     19",
      "text/html": "<div>\n<style scoped>\n    .dataframe tbody tr th:only-of-type {\n        vertical-align: middle;\n    }\n\n    .dataframe tbody tr th {\n        vertical-align: top;\n    }\n\n    .dataframe thead th {\n        text-align: right;\n    }\n</style>\n<table border=\"1\" class=\"dataframe\">\n  <thead>\n    <tr style=\"text-align: right;\">\n      <th></th>\n      <th>id</th>\n      <th>content</th>\n      <th>topic</th>\n    </tr>\n  </thead>\n  <tbody>\n    <tr>\n      <th>123</th>\n      <td>8603</td>\n      <td>China aims to increase the share of electric v...</td>\n      <td>2</td>\n    </tr>\n    <tr>\n      <th>2723</th>\n      <td>6677</td>\n      <td>е…ЁйғЁеҜјиҲӘж—¶ж”ҝеӣҪеҶ…еӣҪйҷ…иҙўз»ҸзӨҫдјҡеЁұд...</td>\n      <td>18</td>\n    </tr>\n    <tr>\n      <th>2859</th>\n      <td>7296</td>\n      <td>China will launch the three astronauts of theS...</td>\n      <td>19</td>\n    </tr>\n  </tbody>\n</table>\n</div>"
     },
     "execution_count": 10,
     "metadata": {},
     "output_type": "execute_result"
    }
   ],
   "source": [
    "non_chinese_content_test = test[~test['content'].str.contains(r'[\\u4e00-\\u9fff]')]\n",
    "non_chinese_content_test"
   ],
   "metadata": {
    "collapsed": false,
    "ExecuteTime": {
     "end_time": "2024-03-21T14:50:18.509774Z",
     "start_time": "2024-03-21T14:50:18.502256Z"
    }
   },
   "id": "918c592f9ad35120",
   "execution_count": 10
  },
  {
   "cell_type": "code",
   "execution_count": 11,
   "id": "d7c5f2154f89fe6b",
   "metadata": {
    "collapsed": false,
    "execution": {
     "iopub.execute_input": "2024-02-23T04:32:38.905022Z",
     "iopub.status.busy": "2024-02-23T04:32:38.904622Z",
     "iopub.status.idle": "2024-02-23T04:32:38.919978Z",
     "shell.execute_reply": "2024-02-23T04:32:38.918719Z",
     "shell.execute_reply.started": "2024-02-23T04:32:38.904992Z"
    },
    "trusted": true,
    "ExecuteTime": {
     "end_time": "2024-03-21T14:50:19.533410Z",
     "start_time": "2024-03-21T14:50:19.525229Z"
    }
   },
   "outputs": [],
   "source": [
    "def get_stopword():\n",
    "    with open('./baidu_stopwords.txt', 'r', encoding='utf-8') as f:\n",
    "        stopwords = set(line.strip() for line in f)\n",
    "    stopwords.update([\"年\",\"月\",\"日\"])\n",
    "    return stopwords\n",
    "\n",
    "def wordopt_cn(text):\n",
    "    # replace punctuation with space\n",
    "    no_punct = re.sub(pattern, ' ', text)\n",
    "    return str(no_punct)\n",
    "\n",
    "def remove_stopwords(words):\n",
    "    return (word for word in words if word not in stopwords)\n",
    "\n",
    "def process_content(content):\n",
    "    content = wordopt_cn(content)\n",
    "    words = jieba.cut(content)\n",
    "    words = remove_stopwords(words)\n",
    "    content = ' '.join(words)\n",
    "    content = re.sub(spaces_pattern, ' ', content)\n",
    "    return content\n",
    "\n",
    "# Precompile the regular expressions\n",
    "punctuation = \"！？｡。＂＃＄％＆＇（）＊＋，－／：；＜＝＞＠［＼］＾＿｀｛｜｝～｟｠｢｣､、〃》「」『』【】〔〕〖〗〘〙〚〛〜〝〞〟〰〾〿–—‘’‛“”„‟…‧﹏.\" + string.punctuation\n",
    "pattern = re.compile('[%s]' % re.escape(punctuation))\n",
    "spaces_pattern = re.compile(r'\\s+')\n",
    "stopwords = get_stopword()"
   ]
  },
  {
   "cell_type": "code",
   "execution_count": 12,
   "id": "55d6c41f9db81cff",
   "metadata": {
    "collapsed": false,
    "execution": {
     "iopub.execute_input": "2024-02-23T04:32:40.596260Z",
     "iopub.status.busy": "2024-02-23T04:32:40.595495Z",
     "iopub.status.idle": "2024-02-23T04:37:23.485769Z",
     "shell.execute_reply": "2024-02-23T04:37:23.484195Z",
     "shell.execute_reply.started": "2024-02-23T04:32:40.596226Z"
    },
    "trusted": true,
    "ExecuteTime": {
     "end_time": "2024-03-21T14:50:50.582242Z",
     "start_time": "2024-03-21T14:50:21.230427Z"
    }
   },
   "outputs": [
    {
     "name": "stderr",
     "output_type": "stream",
     "text": [
      "  0%|          | 0/6803 [00:00<?, ?it/s]Building prefix dict from the default dictionary ...\n",
      "Loading model from cache C:\\Users\\shens\\AppData\\Local\\Temp\\jieba.cache\n",
      "Loading model cost 0.626 seconds.\n",
      "Prefix dict has been built successfully.\n",
      "100%|██████████| 6803/6803 [00:29<00:00, 233.63it/s]\n"
     ]
    }
   ],
   "source": [
    "train.loc[:,'content'] = train['content'].progress_apply(process_content)\n",
    "train.to_csv('train_jieba.csv', index=False)"
   ]
  },
  {
   "cell_type": "code",
   "execution_count": 13,
   "id": "aedf0852b943ffb",
   "metadata": {
    "collapsed": false,
    "execution": {
     "iopub.execute_input": "2024-02-23T04:37:23.489651Z",
     "iopub.status.busy": "2024-02-23T04:37:23.488911Z",
     "iopub.status.idle": "2024-02-23T04:39:45.500259Z",
     "shell.execute_reply": "2024-02-23T04:39:45.498637Z",
     "shell.execute_reply.started": "2024-02-23T04:37:23.489590Z"
    },
    "trusted": true,
    "ExecuteTime": {
     "end_time": "2024-03-21T14:51:06.844862Z",
     "start_time": "2024-03-21T14:50:52.243277Z"
    }
   },
   "outputs": [
    {
     "name": "stderr",
     "output_type": "stream",
     "text": [
      "100%|██████████| 3405/3405 [00:14<00:00, 235.07it/s]\n"
     ]
    }
   ],
   "source": [
    "test.loc[:,'content'] = test['content'].progress_apply(process_content)\n",
    "test.to_csv('test_jieba.csv', index=False)"
   ]
  },
  {
   "cell_type": "code",
   "execution_count": 14,
   "id": "fc987bcf586bd2db",
   "metadata": {
    "execution": {
     "iopub.execute_input": "2024-02-23T04:55:02.432261Z",
     "iopub.status.busy": "2024-02-23T04:55:02.431790Z",
     "iopub.status.idle": "2024-02-23T04:55:02.450027Z",
     "shell.execute_reply": "2024-02-23T04:55:02.448566Z",
     "shell.execute_reply.started": "2024-02-23T04:55:02.432217Z"
    },
    "trusted": true,
    "ExecuteTime": {
     "end_time": "2024-03-21T14:51:08.581680Z",
     "start_time": "2024-03-21T14:51:08.574209Z"
    }
   },
   "outputs": [
    {
     "data": {
      "text/plain": "         id                                            content  topic\n0       181  2023 习近平 主席 亲自 擘画 引领 中国 特色 大国 外交 扎实 推进 推动 构建 人...      1\n1      1763  当地 时间 11 16 习近平 主席 亚太经合组织 APEC 工商 领导人 峰会 发表 书面...      1\n2      1015  亚太经合组织 第三十次 领导人 非正式 会议 美国 旧金山 莫斯科 尼 中心 国家 主席 习...      1\n3      7104  习近平 出席 亚太经合组织 领导人 东道主 嘉宾 非正式 对话会 暨 工作 午宴 央视网 2...      1\n4      2427  中国 国家 主席 习近平 11 14 日应 美国 总统 拜登 邀请 赴美 中 美 领导人 会...      1\n...     ...                                                ...    ...\n3400   1044  从头到尾 来讲 一遍 惯例 先 谈谈 缅甸 北部 那场 风波 这场 风波 源头 藏匿在 缅甸...     23\n3401   9043  缅北 全线 激战 敏昂 莱 誓言 反击 冲突 扩大化 中 缅 边境 乱 几天 缅甸 内战 爆...     23\n3402   5570  近日 缅甸 内战 再次 卷土重来 国际 社会 关注 这次 冲突 异常 纷乱 消息 传来 人 ...     23\n3403   5523  缅北 战火 越烧 越大 中方 做 两手 高层 去 缅甸 首都 清酒 半栩换种 角度 分析 故...     23\n3404  10021  缅甸 内战 俄罗斯 插手 缅北 局势 影响 中俄关系 清 飞扬 俄罗斯 派 专家 缅甸政府 ...     23\n\n[3405 rows x 3 columns]",
      "text/html": "<div>\n<style scoped>\n    .dataframe tbody tr th:only-of-type {\n        vertical-align: middle;\n    }\n\n    .dataframe tbody tr th {\n        vertical-align: top;\n    }\n\n    .dataframe thead th {\n        text-align: right;\n    }\n</style>\n<table border=\"1\" class=\"dataframe\">\n  <thead>\n    <tr style=\"text-align: right;\">\n      <th></th>\n      <th>id</th>\n      <th>content</th>\n      <th>topic</th>\n    </tr>\n  </thead>\n  <tbody>\n    <tr>\n      <th>0</th>\n      <td>181</td>\n      <td>2023 习近平 主席 亲自 擘画 引领 中国 特色 大国 外交 扎实 推进 推动 构建 人...</td>\n      <td>1</td>\n    </tr>\n    <tr>\n      <th>1</th>\n      <td>1763</td>\n      <td>当地 时间 11 16 习近平 主席 亚太经合组织 APEC 工商 领导人 峰会 发表 书面...</td>\n      <td>1</td>\n    </tr>\n    <tr>\n      <th>2</th>\n      <td>1015</td>\n      <td>亚太经合组织 第三十次 领导人 非正式 会议 美国 旧金山 莫斯科 尼 中心 国家 主席 习...</td>\n      <td>1</td>\n    </tr>\n    <tr>\n      <th>3</th>\n      <td>7104</td>\n      <td>习近平 出席 亚太经合组织 领导人 东道主 嘉宾 非正式 对话会 暨 工作 午宴 央视网 2...</td>\n      <td>1</td>\n    </tr>\n    <tr>\n      <th>4</th>\n      <td>2427</td>\n      <td>中国 国家 主席 习近平 11 14 日应 美国 总统 拜登 邀请 赴美 中 美 领导人 会...</td>\n      <td>1</td>\n    </tr>\n    <tr>\n      <th>...</th>\n      <td>...</td>\n      <td>...</td>\n      <td>...</td>\n    </tr>\n    <tr>\n      <th>3400</th>\n      <td>1044</td>\n      <td>从头到尾 来讲 一遍 惯例 先 谈谈 缅甸 北部 那场 风波 这场 风波 源头 藏匿在 缅甸...</td>\n      <td>23</td>\n    </tr>\n    <tr>\n      <th>3401</th>\n      <td>9043</td>\n      <td>缅北 全线 激战 敏昂 莱 誓言 反击 冲突 扩大化 中 缅 边境 乱 几天 缅甸 内战 爆...</td>\n      <td>23</td>\n    </tr>\n    <tr>\n      <th>3402</th>\n      <td>5570</td>\n      <td>近日 缅甸 内战 再次 卷土重来 国际 社会 关注 这次 冲突 异常 纷乱 消息 传来 人 ...</td>\n      <td>23</td>\n    </tr>\n    <tr>\n      <th>3403</th>\n      <td>5523</td>\n      <td>缅北 战火 越烧 越大 中方 做 两手 高层 去 缅甸 首都 清酒 半栩换种 角度 分析 故...</td>\n      <td>23</td>\n    </tr>\n    <tr>\n      <th>3404</th>\n      <td>10021</td>\n      <td>缅甸 内战 俄罗斯 插手 缅北 局势 影响 中俄关系 清 飞扬 俄罗斯 派 专家 缅甸政府 ...</td>\n      <td>23</td>\n    </tr>\n  </tbody>\n</table>\n<p>3405 rows × 3 columns</p>\n</div>"
     },
     "execution_count": 14,
     "metadata": {},
     "output_type": "execute_result"
    }
   ],
   "source": [
    "test"
   ]
  },
  {
   "cell_type": "code",
   "execution_count": 15,
   "id": "4812d5787b948523",
   "metadata": {
    "collapsed": false,
    "execution": {
     "iopub.execute_input": "2024-02-23T04:55:10.882570Z",
     "iopub.status.busy": "2024-02-23T04:55:10.882105Z",
     "iopub.status.idle": "2024-02-23T04:55:10.888619Z",
     "shell.execute_reply": "2024-02-23T04:55:10.887276Z",
     "shell.execute_reply.started": "2024-02-23T04:55:10.882536Z"
    },
    "trusted": true,
    "ExecuteTime": {
     "end_time": "2024-03-21T14:51:10.319929Z",
     "start_time": "2024-03-21T14:51:10.316430Z"
    }
   },
   "outputs": [],
   "source": [
    "LOWERCASE = False\n",
    "VOCAB_SIZE = 100_000"
   ]
  },
  {
   "cell_type": "code",
   "execution_count": 16,
   "id": "cee595a368e74ccd",
   "metadata": {
    "collapsed": false,
    "execution": {
     "iopub.execute_input": "2024-02-23T04:55:11.249902Z",
     "iopub.status.busy": "2024-02-23T04:55:11.249432Z",
     "iopub.status.idle": "2024-02-23T04:55:45.339436Z",
     "shell.execute_reply": "2024-02-23T04:55:45.338283Z",
     "shell.execute_reply.started": "2024-02-23T04:55:11.249864Z"
    },
    "trusted": true,
    "ExecuteTime": {
     "end_time": "2024-03-21T14:51:23.135974Z",
     "start_time": "2024-03-21T14:51:10.911988Z"
    }
   },
   "outputs": [
    {
     "name": "stderr",
     "output_type": "stream",
     "text": [
      "100%|██████████| 3405/3405 [00:03<00:00, 1055.01it/s]\n",
      "100%|██████████| 6803/6803 [00:06<00:00, 1013.00it/s]\n"
     ]
    }
   ],
   "source": [
    "raw_tokenizer = Tokenizer(models.BPE(unk_token=\"[UNK]\"))\n",
    "raw_tokenizer.normalizer = normalizers.Sequence([normalizers.NFC()] + [normalizers.Lowercase()] if LOWERCASE else [])\n",
    "raw_tokenizer.pre_tokenizer = pre_tokenizers.WhitespaceSplit()\n",
    "\n",
    "special_tokens = [\"[UNK]\", \"[PAD]\", \"[CLS]\", \"[SEP]\", \"[MASK]\"]\n",
    "trainer = trainers.BpeTrainer(vocab_size=VOCAB_SIZE, special_tokens=special_tokens)\n",
    "\n",
    "dataset = Dataset.from_pandas(test[['content']])\n",
    "\n",
    "\n",
    "def train_corp_iter():\n",
    "    for i in range(0, len(dataset), 1000):\n",
    "        yield dataset[i: i + 1000][\"content\"]\n",
    "\n",
    "\n",
    "raw_tokenizer.train_from_iterator(train_corp_iter(), trainer=trainer)\n",
    "tokenizer = PreTrainedTokenizerFast(\n",
    "    tokenizer_object=raw_tokenizer,\n",
    "    unk_token=\"[UNK]\",\n",
    "    pad_token=\"[PAD]\",\n",
    "    cls_token=\"[CLS]\",\n",
    "    sep_token=\"[SEP]\",\n",
    "    mask_token=\"[MASK]\",\n",
    ")\n",
    "tokenized_texts_test = []\n",
    "\n",
    "for text in tqdm(test['content'].tolist()):\n",
    "    tokenized_texts_test.append(tokenizer.tokenize(text))\n",
    "\n",
    "tokenized_texts_train = []\n",
    "\n",
    "for text in tqdm(train['content'].tolist()):\n",
    "    tokenized_texts_train.append(tokenizer.tokenize(text))"
   ]
  },
  {
   "cell_type": "code",
   "execution_count": 17,
   "id": "eb6a8f9818916b31",
   "metadata": {
    "collapsed": false,
    "execution": {
     "iopub.execute_input": "2024-02-23T04:55:45.341906Z",
     "iopub.status.busy": "2024-02-23T04:55:45.341544Z",
     "iopub.status.idle": "2024-02-23T04:55:51.216893Z",
     "shell.execute_reply": "2024-02-23T04:55:51.215598Z",
     "shell.execute_reply.started": "2024-02-23T04:55:45.341877Z"
    },
    "trusted": true,
    "ExecuteTime": {
     "end_time": "2024-03-21T14:51:28.668339Z",
     "start_time": "2024-03-21T14:51:26.137983Z"
    }
   },
   "outputs": [
    {
     "name": "stdout",
     "output_type": "stream",
     "text": [
      "89684\n"
     ]
    }
   ],
   "source": [
    "def dummy(text):\n",
    "    return text\n",
    "vectorizer = TfidfVectorizer(lowercase=False, sublinear_tf=True, analyzer='word',\n",
    "                             tokenizer=dummy,\n",
    "                             preprocessor=dummy,\n",
    "                             token_pattern=None, strip_accents='unicode'\n",
    "                             )\n",
    "\n",
    "vectorizer.fit(tokenized_texts_test)\n",
    "\n",
    "vocab = vectorizer.vocabulary_\n",
    "\n",
    "vectorizer = TfidfVectorizer(lowercase=False, sublinear_tf=True, vocabulary=vocab,\n",
    "                             analyzer='word',\n",
    "                             tokenizer=dummy,\n",
    "                             preprocessor=dummy,\n",
    "                             token_pattern=None, strip_accents='unicode'\n",
    "                             )\n",
    "\n",
    "X_train = vectorizer.fit_transform(tokenized_texts_train)\n",
    "joblib.dump(vectorizer, 'vectorizer.pkl')\n",
    "print(len(vocab))"
   ]
  },
  {
   "cell_type": "code",
   "execution_count": 18,
   "id": "9c2ea392213844c5",
   "metadata": {
    "collapsed": false,
    "execution": {
     "iopub.execute_input": "2024-02-23T04:55:51.218977Z",
     "iopub.status.busy": "2024-02-23T04:55:51.218501Z",
     "iopub.status.idle": "2024-02-23T04:55:51.228998Z",
     "shell.execute_reply": "2024-02-23T04:55:51.227816Z",
     "shell.execute_reply.started": "2024-02-23T04:55:51.218936Z"
    },
    "trusted": true,
    "ExecuteTime": {
     "end_time": "2024-03-21T14:52:02.664169Z",
     "start_time": "2024-03-21T14:52:02.651490Z"
    }
   },
   "outputs": [],
   "source": [
    "clf = MultinomialNB(alpha=0.02)\n",
    "sgd_model = SGDClassifier(max_iter=8000, tol=1e-4, loss=\"modified_huber\")\n",
    "p6 = {\n",
    "    'n_iter': 1500, \n",
    "    'verbose': -1, \n",
    "    'objective': 'multiclass', \n",
    "    'metric': 'multi_logloss', \n",
    "    'learning_rate': 0.05073909898961407,\n",
    "    'colsample_bytree': 0.726023996436955, \n",
    "    'colsample_bynode': 0.5803681307354022, \n",
    "    'lambda_l1': 8.562963348932286,\n",
    "    'lambda_l2': 4.893256185259296, \n",
    "    'min_data_in_leaf': 115, \n",
    "    'max_depth': 23, \n",
    "    'max_bin': 898,\n",
    "    'num_class': 24\n",
    "}\n",
    "lgb = LGBMClassifier(**p6)\n",
    "\n",
    "# Creating the ensemble model\n",
    "ensemble = VotingClassifier(estimators=[\n",
    "    ('mnb', clf),\n",
    "    ('sgd', sgd_model),\n",
    "    ('lgb', lgb)],\n",
    "    weights=[0.1, 0.45, 0.45],\n",
    "    voting='soft',\n",
    "    n_jobs=-1)"
   ]
  },
  {
   "cell_type": "code",
   "execution_count": 19,
   "id": "ce136a3c62c33593",
   "metadata": {
    "collapsed": false,
    "execution": {
     "iopub.execute_input": "2024-02-23T04:56:28.801229Z",
     "iopub.status.busy": "2024-02-23T04:56:28.800801Z",
     "iopub.status.idle": "2024-02-23T05:02:55.961084Z",
     "shell.execute_reply": "2024-02-23T05:02:55.959444Z",
     "shell.execute_reply.started": "2024-02-23T04:56:28.801195Z"
    },
    "trusted": true,
    "ExecuteTime": {
     "end_time": "2024-03-21T14:56:28.398075Z",
     "start_time": "2024-03-21T14:52:07.720917Z"
    }
   },
   "outputs": [
    {
     "data": {
      "text/plain": "['ensemble.pkl']"
     },
     "execution_count": 19,
     "metadata": {},
     "output_type": "execute_result"
    }
   ],
   "source": [
    "Y_train = train['topic'].values\n",
    "ensemble.fit(X_train, Y_train)\n",
    "joblib.dump(ensemble, 'ensemble.pkl')"
   ]
  },
  {
   "cell_type": "code",
   "execution_count": 20,
   "id": "8294ec2103d1e588",
   "metadata": {
    "collapsed": false,
    "execution": {
     "iopub.execute_input": "2024-02-23T05:02:55.965417Z",
     "iopub.status.busy": "2024-02-23T05:02:55.964640Z",
     "iopub.status.idle": "2024-02-23T05:03:03.165063Z",
     "shell.execute_reply": "2024-02-23T05:03:03.163854Z",
     "shell.execute_reply.started": "2024-02-23T05:02:55.965361Z"
    },
    "trusted": true,
    "ExecuteTime": {
     "end_time": "2024-03-21T14:57:05.053855Z",
     "start_time": "2024-03-21T14:57:02.958327Z"
    }
   },
   "outputs": [
    {
     "name": "stderr",
     "output_type": "stream",
     "text": [
      "C:\\Users\\shens\\AppData\\Local\\Temp\\ipykernel_79648\\608644723.py:4: SettingWithCopyWarning: \n",
      "A value is trying to be set on a copy of a slice from a DataFrame.\n",
      "Try using .loc[row_indexer,col_indexer] = value instead\n",
      "\n",
      "See the caveats in the documentation: https://pandas.pydata.org/pandas-docs/stable/user_guide/indexing.html#returning-a-view-versus-a-copy\n",
      "  test[\"pred\"] = pred\n"
     ]
    }
   ],
   "source": [
    "tf_test = vectorizer.transform(tokenized_texts_test)\n",
    "pred = ensemble.predict(tf_test)\n",
    "prob = ensemble.predict_proba(tf_test)\n",
    "test[\"pred\"] = pred\n",
    "test[\"prob\"] = prob.max(axis=1)"
   ]
  },
  {
   "cell_type": "code",
   "execution_count": 21,
   "id": "cdefad4b5cf88a52",
   "metadata": {
    "collapsed": false,
    "execution": {
     "iopub.execute_input": "2024-02-23T05:03:03.168521Z",
     "iopub.status.busy": "2024-02-23T05:03:03.168063Z",
     "iopub.status.idle": "2024-02-23T05:03:03.189187Z",
     "shell.execute_reply": "2024-02-23T05:03:03.187473Z",
     "shell.execute_reply.started": "2024-02-23T05:03:03.168487Z"
    },
    "trusted": true,
    "ExecuteTime": {
     "end_time": "2024-03-21T14:57:08.593549Z",
     "start_time": "2024-03-21T14:57:08.565245Z"
    }
   },
   "outputs": [
    {
     "data": {
      "text/plain": "        id                                            content  topic  pred  \\\n0      181  2023 习近平 主席 亲自 擘画 引领 中国 特色 大国 外交 扎实 推进 推动 构建 人...      1    22   \n7     2861  APEC 峰会 前 公使 提出 四点 核心 利益 中 美 会晤 看 美 表现 一带 一路 国...      1     4   \n40    4395  2023 亚太经合 会 APEC 领袖 峰会 今 15 日于 美国 旧金山 登场 泰国 总理...      1     0   \n43    3236  焦点访谈 把舵 中美关系 领航 亚太 合作 央视网 2023 11 19 22 01 加载 ...      1     4   \n60    3670  亚太 国家 地区 领导人 13 抵达 美国 亚太经合组织 APEC 第三十次 领导人 非正式...      1     4   \n...    ...                                                ...    ...   ...   \n3096  7668  2022 11 28 上午 9 时 神舟 十五号 载人 飞行 新闻 发布会 酒泉卫星发射中心...     21    19   \n3099   598  2023 12 31 日晚 国家 主席 习近平 发表 二 〇 二 四年 新年贺词 2013 ...     21    19   \n3127  5424  神舟 十七号 发射成功 续写 飞天 梦想 建设 航天 强国 北京 时间 10 26 11 时...     21    20   \n3132  6470  神舟 十六号 出舱 多个 首次 神 十七 10 发射 航天员 杨利伟 7 国外 航天 执行 ...     21    20   \n3346  8359  叙利亚 印巴 缅甸 爆发 战火 美国 匕首 直 插 俄罗斯 后背 巧合 同一天 全球 三个 ...     23    11   \n\n          prob  \n0     0.695260  \n7     0.633975  \n40    0.471726  \n43    0.855680  \n60    0.791514  \n...        ...  \n3096  0.952397  \n3099  0.493249  \n3127  0.958388  \n3132  0.724031  \n3346  0.452238  \n\n[84 rows x 5 columns]",
      "text/html": "<div>\n<style scoped>\n    .dataframe tbody tr th:only-of-type {\n        vertical-align: middle;\n    }\n\n    .dataframe tbody tr th {\n        vertical-align: top;\n    }\n\n    .dataframe thead th {\n        text-align: right;\n    }\n</style>\n<table border=\"1\" class=\"dataframe\">\n  <thead>\n    <tr style=\"text-align: right;\">\n      <th></th>\n      <th>id</th>\n      <th>content</th>\n      <th>topic</th>\n      <th>pred</th>\n      <th>prob</th>\n    </tr>\n  </thead>\n  <tbody>\n    <tr>\n      <th>0</th>\n      <td>181</td>\n      <td>2023 习近平 主席 亲自 擘画 引领 中国 特色 大国 外交 扎实 推进 推动 构建 人...</td>\n      <td>1</td>\n      <td>22</td>\n      <td>0.695260</td>\n    </tr>\n    <tr>\n      <th>7</th>\n      <td>2861</td>\n      <td>APEC 峰会 前 公使 提出 四点 核心 利益 中 美 会晤 看 美 表现 一带 一路 国...</td>\n      <td>1</td>\n      <td>4</td>\n      <td>0.633975</td>\n    </tr>\n    <tr>\n      <th>40</th>\n      <td>4395</td>\n      <td>2023 亚太经合 会 APEC 领袖 峰会 今 15 日于 美国 旧金山 登场 泰国 总理...</td>\n      <td>1</td>\n      <td>0</td>\n      <td>0.471726</td>\n    </tr>\n    <tr>\n      <th>43</th>\n      <td>3236</td>\n      <td>焦点访谈 把舵 中美关系 领航 亚太 合作 央视网 2023 11 19 22 01 加载 ...</td>\n      <td>1</td>\n      <td>4</td>\n      <td>0.855680</td>\n    </tr>\n    <tr>\n      <th>60</th>\n      <td>3670</td>\n      <td>亚太 国家 地区 领导人 13 抵达 美国 亚太经合组织 APEC 第三十次 领导人 非正式...</td>\n      <td>1</td>\n      <td>4</td>\n      <td>0.791514</td>\n    </tr>\n    <tr>\n      <th>...</th>\n      <td>...</td>\n      <td>...</td>\n      <td>...</td>\n      <td>...</td>\n      <td>...</td>\n    </tr>\n    <tr>\n      <th>3096</th>\n      <td>7668</td>\n      <td>2022 11 28 上午 9 时 神舟 十五号 载人 飞行 新闻 发布会 酒泉卫星发射中心...</td>\n      <td>21</td>\n      <td>19</td>\n      <td>0.952397</td>\n    </tr>\n    <tr>\n      <th>3099</th>\n      <td>598</td>\n      <td>2023 12 31 日晚 国家 主席 习近平 发表 二 〇 二 四年 新年贺词 2013 ...</td>\n      <td>21</td>\n      <td>19</td>\n      <td>0.493249</td>\n    </tr>\n    <tr>\n      <th>3127</th>\n      <td>5424</td>\n      <td>神舟 十七号 发射成功 续写 飞天 梦想 建设 航天 强国 北京 时间 10 26 11 时...</td>\n      <td>21</td>\n      <td>20</td>\n      <td>0.958388</td>\n    </tr>\n    <tr>\n      <th>3132</th>\n      <td>6470</td>\n      <td>神舟 十六号 出舱 多个 首次 神 十七 10 发射 航天员 杨利伟 7 国外 航天 执行 ...</td>\n      <td>21</td>\n      <td>20</td>\n      <td>0.724031</td>\n    </tr>\n    <tr>\n      <th>3346</th>\n      <td>8359</td>\n      <td>叙利亚 印巴 缅甸 爆发 战火 美国 匕首 直 插 俄罗斯 后背 巧合 同一天 全球 三个 ...</td>\n      <td>23</td>\n      <td>11</td>\n      <td>0.452238</td>\n    </tr>\n  </tbody>\n</table>\n<p>84 rows × 5 columns</p>\n</div>"
     },
     "execution_count": 21,
     "metadata": {},
     "output_type": "execute_result"
    }
   ],
   "source": [
    "different = test[test['topic'] != test['pred']]\n",
    "different"
   ]
  },
  {
   "cell_type": "code",
   "execution_count": 22,
   "id": "415c441f617d443b",
   "metadata": {
    "collapsed": false,
    "execution": {
     "iopub.execute_input": "2024-02-23T05:03:03.192164Z",
     "iopub.status.busy": "2024-02-23T05:03:03.191753Z",
     "iopub.status.idle": "2024-02-23T05:03:03.215713Z",
     "shell.execute_reply": "2024-02-23T05:03:03.214475Z",
     "shell.execute_reply.started": "2024-02-23T05:03:03.192135Z"
    },
    "trusted": true,
    "ExecuteTime": {
     "end_time": "2024-03-21T14:57:12.449558Z",
     "start_time": "2024-03-21T14:57:12.437335Z"
    }
   },
   "outputs": [
    {
     "name": "stdout",
     "output_type": "stream",
     "text": [
      "Accuracy: 0.9753303964757709\n",
      "Precision: 0.9754709534500239\n",
      "Recall: 0.9753303964757709\n",
      "F1: 0.9753044435467418\n"
     ]
    }
   ],
   "source": [
    "accuracy = accuracy_score(test['topic'], test['pred'])\n",
    "precision = precision_score(test['topic'], test['pred'], average='weighted')\n",
    "recall = recall_score(test['topic'], test['pred'], average='weighted')\n",
    "f1 = f1_score(test['topic'], test['pred'], average='weighted')\n",
    "print(f'Accuracy: {accuracy}\\nPrecision: {precision}\\nRecall: {recall}\\nF1: {f1}')"
   ]
  },
  {
   "cell_type": "code",
   "execution_count": null,
   "id": "2a19b780596092a2",
   "metadata": {},
   "outputs": [],
   "source": []
  }
 ],
 "metadata": {
  "kernelspec": {
   "display_name": "Python 3",
   "language": "python",
   "name": "python3"
  },
  "language_info": {
   "codemirror_mode": {
    "name": "ipython",
    "version": 3
   },
   "file_extension": ".py",
   "mimetype": "text/x-python",
   "name": "python",
   "nbconvert_exporter": "python",
   "pygments_lexer": "ipython3",
   "version": "3.11.5"
  }
 },
 "nbformat": 4,
 "nbformat_minor": 5
}
